{
 "cells": [
  {
   "cell_type": "code",
   "execution_count": null,
   "id": "88a52c9a-0352-4715-b1f3-0a2b64cd933b",
   "metadata": {},
   "outputs": [],
   "source": [
    "%load_ext autoreload\n",
    "%autoreload 2\n",
    "%reload_ext line_profiler"
   ]
  },
  {
   "cell_type": "code",
   "execution_count": null,
   "id": "0157d12a-9257-4d1d-8201-e343cf2b9d71",
   "metadata": {},
   "outputs": [],
   "source": [
    "from functools import partial\n",
    "\n",
    "import time\n",
    "from tqdm.notebook import tqdm\n",
    "import numpy as np\n",
    "import matplotlib.pyplot as plt\n",
    "import plotly.express as px\n",
    "import plotly.graph_objects as go"
   ]
  },
  {
   "cell_type": "code",
   "execution_count": null,
   "id": "94e60821-58c2-461e-9e09-5ab5d25e483a",
   "metadata": {},
   "outputs": [],
   "source": [
    "import jax\n",
    "import jax.numpy as jnp\n",
    "\n",
    "import diffrax\n",
    "import equinox as eqx\n",
    "import optax\n",
    "\n",
    "from haiku import PRNGSequence"
   ]
  },
  {
   "cell_type": "code",
   "execution_count": null,
   "id": "27fd27dc-70df-4cca-ac0e-9289df426cd5",
   "metadata": {},
   "outputs": [],
   "source": [
    "import os\n",
    "os.environ[\"TF_CPP_MIN_LOG_LEVEL\"]=\"0\""
   ]
  },
  {
   "cell_type": "code",
   "execution_count": null,
   "id": "d08fd95d-6370-4809-9238-8a47b4d53813",
   "metadata": {},
   "outputs": [],
   "source": [
    "import exciting_environments as excenvs\n",
    "from models import NeuralEulerODE"
   ]
  },
  {
   "cell_type": "markdown",
   "id": "f89992a4-676b-4ee4-bda7-3a1a6b830e3d",
   "metadata": {},
   "source": [
    "### NODE training on pendulum env"
   ]
  },
  {
   "cell_type": "code",
   "execution_count": null,
   "id": "c4ea821a-b9dc-4e41-b76d-22a8aacb1e76",
   "metadata": {},
   "outputs": [],
   "source": [
    "# setup PRNG\n",
    "key = jax.random.PRNGKey(seed=21)\n",
    "\n",
    "data_key, model_key, key = jax.random.split(key, 3)\n",
    "data_rng = PRNGSequence(data_key)"
   ]
  },
  {
   "cell_type": "markdown",
   "id": "422109e9-b15a-4698-8ec9-f1a01cc5069f",
   "metadata": {},
   "source": [
    "### Simulate from the env:"
   ]
  },
  {
   "cell_type": "code",
   "execution_count": null,
   "id": "b85b61db-03c3-44ac-8863-314c7199e8d4",
   "metadata": {},
   "outputs": [],
   "source": [
    "batch_size = 64\n",
    "n_steps = 1000\n",
    "tau = 1e-3\n",
    "\n",
    "env = excenvs.make(\n",
    "    env_id='Pendulum-v0',\n",
    "    batch_size=batch_size,\n",
    "    tau=tau\n",
    ")"
   ]
  },
  {
   "cell_type": "code",
   "execution_count": null,
   "id": "4fb8aedb-6125-44e6-9d12-0bad5c4c05ba",
   "metadata": {},
   "outputs": [],
   "source": [
    "@partial(jax.jit, static_argnums=(0, 1))\n",
    "def gen_actions(n_steps, batch_size, key):\n",
    "    actions = jax.random.uniform(key, shape=(batch_size, 1, 1), minval=-1, maxval=1)\n",
    "    actions = jnp.repeat(actions, repeats=n_steps, axis=1)\n",
    "    return actions\n",
    "                                 \n",
    "\n",
    "def aprbs2(len, t_min, t_max, key):\n",
    "    t = 0\n",
    "    sig = []\n",
    "    while t < len:\n",
    "        steps_key, value_key, key = jax.random.split(key, 3)\n",
    "\n",
    "        t_step = jax.random.randint(steps_key, shape=(1,), minval=t_min, maxval=t_max)\n",
    "           \n",
    "        sig.append(jnp.ones(t_step) * jax.random.uniform(value_key, shape=(1,), minval=-1, maxval=1))\n",
    "        t += t_step.item()\n",
    "\n",
    "    return jnp.hstack(sig)[:len]\n",
    "\n",
    "def aprbs(n_steps, batch_size, t_min, t_max, key):\n",
    "    actions = []\n",
    "    for _ in range(batch_size):\n",
    "        subkey, key = jax.random.split(key)\n",
    "        actions.append(aprbs2(n_steps, t_min, t_max, subkey)[..., None])\n",
    "    return jnp.stack(actions, axis=0)"
   ]
  },
  {
   "cell_type": "code",
   "execution_count": null,
   "id": "eacc3b5c-477a-42b5-8c4a-1a16c1f5a266",
   "metadata": {},
   "outputs": [],
   "source": [
    "# actions = aprbs(n_steps, batch_size, 5, 100, next(data_rng))\n",
    "actions = gen_actions(n_steps, batch_size, next(data_rng))"
   ]
  },
  {
   "cell_type": "code",
   "execution_count": null,
   "id": "f71bf642-d89f-4727-9551-2ed50a6fc24e",
   "metadata": {},
   "outputs": [],
   "source": [
    "@partial(jax.jit, static_argnums=(0, 3))\n",
    "def simulate_epsiode(env, obs, state, n_steps, actions):\n",
    "\n",
    "    batch_size, obs_dim = obs.shape\n",
    "    observations = jnp.zeros([batch_size, n_steps, obs_dim])\n",
    "    observations = observations.at[:, 0, :].set(obs)\n",
    "\n",
    "    def body_fun(n, carry):\n",
    "        obs, state, observations = carry\n",
    "\n",
    "        action = actions[:, n, :]\n",
    "        obs, reward, terminated, truncated, state = env.step(action, state)\n",
    "        observations = observations.at[:, n, :].set(obs)\n",
    "\n",
    "        return (obs, state, observations)\n",
    "\n",
    "    obs, state, observations = jax.lax.fori_loop(lower=1, upper=n_steps, body_fun=body_fun, init_val=(obs, state, observations))\n",
    "\n",
    "    # observations = jnp.stack(observations).swapaxes(0, 1)\n",
    "    return observations"
   ]
  },
  {
   "cell_type": "code",
   "execution_count": null,
   "id": "4ad61997-2a89-4279-81c4-d8e1d21e19de",
   "metadata": {},
   "outputs": [],
   "source": [
    "obs, state = env.reset()\n",
    "obs = obs.astype(jnp.float32)\n",
    "state = state.astype(jnp.float32)\n",
    "\n",
    "# actions = aprbs(n_steps, batch_size, 5, 100, next(data_rng))\n",
    "actions = gen_actions(n_steps, batch_size, next(data_rng))\n",
    "\n",
    "observations = simulate_epsiode(\n",
    "    env,\n",
    "    obs,\n",
    "    state,\n",
    "    n_steps=n_steps,\n",
    "    actions=actions\n",
    ")\n",
    "print(observations.shape)\n",
    "print(actions.shape)"
   ]
  },
  {
   "cell_type": "code",
   "execution_count": null,
   "id": "6397982e-ba5f-4a9f-b6c3-f9a72a3f18f6",
   "metadata": {},
   "outputs": [],
   "source": [
    "def plot_episode(observations, actions, max_n=2):\n",
    "    n_plots = min(max_n, observations.shape[0])\n",
    "\n",
    "    for idx in range(n_plots):\n",
    "        plt.plot(observations[idx, :, 0], label=\"theta\")\n",
    "        plt.plot(observations[idx, :, 1], label=\"omega\")\n",
    "        plt.grid()\n",
    "        plt.title(\"observations, timeseries\")\n",
    "        plt.legend()\n",
    "        plt.show()\n",
    "    \n",
    "    for idx in range(n_plots):\n",
    "        plt.plot(observations[idx, :, 0], observations[idx, :, 1], 'b.')\n",
    "        plt.grid()\n",
    "        plt.title(\"observations, together\")\n",
    "        plt.show()\n",
    "    \n",
    "    for idx in range(n_plots):\n",
    "        plt.plot(actions[idx, :, 0])\n",
    "        plt.grid()\n",
    "        plt.title(\"actions, timeseries\")\n",
    "        plt.show()"
   ]
  },
  {
   "cell_type": "code",
   "execution_count": null,
   "id": "71747994-e4ef-497e-9dc9-d0228c4175b5",
   "metadata": {},
   "outputs": [],
   "source": [
    "plot_episode(observations, actions)"
   ]
  },
  {
   "cell_type": "markdown",
   "id": "ad4e9d17-0271-4b02-89ed-38f1f40f1105",
   "metadata": {},
   "source": [
    "### Build NODE model"
   ]
  },
  {
   "cell_type": "code",
   "execution_count": null,
   "id": "4a37ef29-c950-4b23-a300-6d4080f04687",
   "metadata": {},
   "outputs": [],
   "source": [
    "obs_dim = env.env_observation_space.shape[-1]\n",
    "action_dim = env.action_space.shape[-1]\n",
    "\n",
    "model = NeuralEulerODE(obs_dim=obs_dim, action_dim=action_dim, width_size=64, depth=1, key=model_key)"
   ]
  },
  {
   "cell_type": "code",
   "execution_count": null,
   "id": "27cf17d0-23e2-48f7-872f-659372c95f96",
   "metadata": {},
   "outputs": [],
   "source": [
    "@eqx.filter_jit\n",
    "# I guess eqx and jax dont like each other here?\n",
    "def evaluate_model(model, obs, actions, n_steps, tau):  \n",
    "    batch_size, obs_dim = obs.shape\n",
    "    observations = jnp.zeros([batch_size, n_steps, obs_dim])\n",
    "    observations = observations.at[:, 0, :].set(obs)\n",
    "\n",
    "    def body_fun(n, carry):\n",
    "        obs, observations = carry\n",
    "\n",
    "        action = actions[:, n, :]\n",
    "        obs = jax.vmap(model, in_axes=(0, 0, None))(obs, action, tau)\n",
    "        # obs = jnp.stack(\n",
    "        #     [(((obs[..., 0] + 1) % 2) - 1), obs[..., 1]],\n",
    "        #     axis=-1\n",
    "        # )\n",
    "\n",
    "        observations = observations.at[:, n, :].set(obs)\n",
    "        return (obs, observations)\n",
    "\n",
    "    obs, observations = jax.lax.fori_loop(lower=1, upper=n_steps, body_fun=body_fun, init_val=(obs, observations))\n",
    "    return observations\n",
    "\n",
    "def featurize_theta(obs):\n",
    "    \"\"\"The angle itself is difficult to properly \"\"\"\n",
    "    feat_obs = jnp.stack([jnp.sin(obs[:, 0] * jnp.pi), jnp.cos(obs[:, 0] * jnp.pi), obs[:, 1]], axis=-1)\n",
    "    return feat_obs"
   ]
  },
  {
   "cell_type": "code",
   "execution_count": null,
   "id": "ef357efb-a515-4907-a0c2-57b58b7f6c88",
   "metadata": {},
   "outputs": [],
   "source": [
    "observations_model = evaluate_model(model, observations[:, 0, :], actions, n_steps, tau=tau)\n",
    "plot_episode(observations_model, actions)"
   ]
  },
  {
   "cell_type": "code",
   "execution_count": null,
   "id": "905e21d5-f2ce-4ae2-8f54-0fc447751964",
   "metadata": {},
   "outputs": [],
   "source": [
    "plot_episode(\n",
    "    observations=jax.vmap(featurize_theta, in_axes=(0))(observations_model),\n",
    "    actions=actions\n",
    ")"
   ]
  },
  {
   "cell_type": "code",
   "execution_count": null,
   "id": "40a9def2-03ac-4343-b8a1-1870bec3eed8",
   "metadata": {},
   "outputs": [],
   "source": [
    "plot_episode(observations, actions)"
   ]
  },
  {
   "cell_type": "code",
   "execution_count": null,
   "id": "e33067d1-d430-4d68-bbd7-c078c9303b22",
   "metadata": {},
   "outputs": [],
   "source": [
    "plot_episode(\n",
    "    observations=jax.vmap(featurize_theta, in_axes=(0))(observations),\n",
    "    actions=actions\n",
    ")"
   ]
  },
  {
   "cell_type": "markdown",
   "id": "eff58e39-1f79-4e5c-8443-4f731c5609d6",
   "metadata": {},
   "source": [
    "### Train NODE:"
   ]
  },
  {
   "cell_type": "code",
   "execution_count": null,
   "id": "0979c787-5ec7-4259-942e-ded2bbe0af83",
   "metadata": {},
   "outputs": [],
   "source": [
    "@eqx.filter_value_and_grad\n",
    "def grad_loss(model, true_obs, actions, n_steps, tau):\n",
    "    pred_obs = evaluate_model(model, true_obs[:, 0, :], actions, n_steps, tau)\n",
    "\n",
    "    feat_pred_obs = jax.vmap(featurize_theta, in_axes=(0))(pred_obs)\n",
    "    feat_true_obs = jax.vmap(featurize_theta, in_axes=(0))(true_obs)\n",
    "    \n",
    "    return jnp.mean((feat_pred_obs - feat_true_obs) ** 2)\n",
    "\n",
    "@eqx.filter_jit\n",
    "def make_step(model, observations, actions, n_steps, tau, opt_state):\n",
    "    loss, grads = grad_loss(model, observations, actions, n_steps, tau)\n",
    "    updates, opt_state = optim.update(grads, opt_state)\n",
    "    model = eqx.apply_updates(model, updates)\n",
    "    return loss, model, opt_state"
   ]
  },
  {
   "cell_type": "code",
   "execution_count": null,
   "id": "6bb17748-0045-4020-b0a1-41c28061641d",
   "metadata": {
    "scrolled": true
   },
   "outputs": [],
   "source": [
    "batch_size = 512\n",
    "n_steps = 1_000\n",
    "tau = 1e-3\n",
    "\n",
    "obs_dim = env.env_observation_space.shape[-1]\n",
    "action_dim = env.action_space.shape[-1]\n",
    "\n",
    "model = NeuralEulerODE(obs_dim=obs_dim, action_dim=action_dim, width_size=64, depth=3, key=model_key)\n",
    "lr = 1e-3\n",
    "\n",
    "\n",
    "env = excenvs.make(\n",
    "    env_id='Pendulum-v0',\n",
    "    batch_size=batch_size,\n",
    "    tau=tau\n",
    ")\n",
    "\n",
    "optim = optax.adabelief(lr)\n",
    "opt_state = optim.init(eqx.filter(model, eqx.is_inexact_array))\n",
    "\n",
    "n_episodes = 5000\n",
    "print_every = 10\n",
    "\n",
    "for episode in tqdm(range(n_episodes)):\n",
    "\n",
    "    obs, state = env.reset()\n",
    "    obs = obs.astype(jnp.float32)\n",
    "    state = state.astype(jnp.float32)\n",
    "\n",
    "    # actions = aprbs(n_steps, batch_size, 5, 100, next(data_rng))\n",
    "    actions = gen_actions(n_steps, batch_size, next(data_rng))\n",
    "    observations = simulate_epsiode(\n",
    "        env,\n",
    "        obs,\n",
    "        state,\n",
    "        n_steps=n_steps,\n",
    "        actions=actions\n",
    "    )\n",
    "\n",
    "    start = time.time()\n",
    "    loss, model, opt_state = make_step(model, observations, actions, n_steps, tau, opt_state)\n",
    "    end = time.time()\n",
    "    if (episode % print_every) == 0 or episode == n_episodes - 1:\n",
    "        print(f\"Episode: {episode}, Loss: {loss}, Computation time: {end - start}\")"
   ]
  },
  {
   "cell_type": "markdown",
   "id": "54c2e848-296f-42d0-b3ef-7c9a079f0e51",
   "metadata": {},
   "source": [
    "- fix gpu stuff\n",
    "- look through code, put components in pyfiles\n",
    "- rethink eval plots\n",
    "- generate actions more efficiently\n",
    "    - can this be jitted somehow? Its slowing down training immensely"
   ]
  },
  {
   "cell_type": "code",
   "execution_count": null,
   "id": "11987621-76bb-4530-b808-11826bc634aa",
   "metadata": {
    "scrolled": true
   },
   "outputs": [],
   "source": [
    "observations_model = evaluate_model(model, observations[:, 0, :], actions, n_steps, tau=tau)\n",
    "plot_episode(observations_model, actions)"
   ]
  },
  {
   "cell_type": "code",
   "execution_count": null,
   "id": "afdc01f8-d59c-4f32-b8f0-b54f6e2b6d5b",
   "metadata": {
    "scrolled": true
   },
   "outputs": [],
   "source": [
    "plot_episode(observations, actions)"
   ]
  },
  {
   "cell_type": "code",
   "execution_count": null,
   "id": "d03a3a7f-ca02-4e16-82d5-7fe88f8e8b9b",
   "metadata": {},
   "outputs": [],
   "source": [
    "obs, state = env.reset()\n",
    "obs = obs.astype(jnp.float32)\n",
    "state = state.astype(jnp.float32)\n",
    "\n",
    "# actions = aprbs(n_steps, batch_size, 5, 100, next(data_rng))\n",
    "actions = gen_actions(n_steps, batch_size, next(data_rng))\n",
    "observations = simulate_epsiode(\n",
    "    env,\n",
    "    obs,\n",
    "    state,\n",
    "    n_steps=n_steps,\n",
    "    actions=actions\n",
    ")\n",
    "\n",
    "observations_model = evaluate_model(model, observations[:, 0, :], actions, n_steps, tau=tau)\n",
    "plt.plot(observations_model[22, :, 0], label=\"model\")\n",
    "plt.plot(observations[22, :, 0], label=\"sim\")\n",
    "plt.legend()\n",
    "plt.grid()\n",
    "plt.show()\n",
    "\n",
    "plt.plot(observations_model[22, :, 1], label=\"model\")\n",
    "plt.plot(observations[22, :, 1], label=\"sim\")\n",
    "plt.legend()\n",
    "plt.grid()\n",
    "plt.show()"
   ]
  },
  {
   "cell_type": "code",
   "execution_count": null,
   "id": "756d3653-15cf-4561-9ab2-3eda05ae8fd2",
   "metadata": {},
   "outputs": [],
   "source": []
  },
  {
   "cell_type": "code",
   "execution_count": null,
   "id": "128deb0c-8a07-456f-af32-6c67862f58f0",
   "metadata": {},
   "outputs": [],
   "source": []
  },
  {
   "cell_type": "code",
   "execution_count": null,
   "id": "56b20560-e748-42fb-a85d-60235b6dc099",
   "metadata": {},
   "outputs": [],
   "source": []
  },
  {
   "cell_type": "code",
   "execution_count": null,
   "id": "b1d886a3-9a43-486a-a133-cdb64434778b",
   "metadata": {},
   "outputs": [],
   "source": []
  },
  {
   "cell_type": "code",
   "execution_count": null,
   "id": "0f06dc2b-ec0d-4b03-9157-6d15f074c102",
   "metadata": {},
   "outputs": [],
   "source": []
  },
  {
   "cell_type": "code",
   "execution_count": null,
   "id": "57f23597-0085-4125-bb7a-b3b155d5cd19",
   "metadata": {},
   "outputs": [],
   "source": []
  }
 ],
 "metadata": {
  "kernelspec": {
   "display_name": "Python (conda-dev-base)",
   "language": "python",
   "name": "conda-dev-base"
  },
  "language_info": {
   "codemirror_mode": {
    "name": "ipython",
    "version": 3
   },
   "file_extension": ".py",
   "mimetype": "text/x-python",
   "name": "python",
   "nbconvert_exporter": "python",
   "pygments_lexer": "ipython3",
   "version": "3.11.3"
  }
 },
 "nbformat": 4,
 "nbformat_minor": 5
}
