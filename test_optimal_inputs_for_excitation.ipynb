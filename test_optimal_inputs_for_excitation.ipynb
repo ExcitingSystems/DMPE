{
 "cells": [
  {
   "cell_type": "code",
   "execution_count": null,
   "id": "80535806-ce7a-4fa4-8cca-3607d2e03ca8",
   "metadata": {},
   "outputs": [],
   "source": [
    "%load_ext autoreload\n",
    "%autoreload 2\n",
    "%reload_ext line_profiler"
   ]
  },
  {
   "cell_type": "code",
   "execution_count": null,
   "id": "e118ab36-04b3-4bd6-a917-5b93259204ea",
   "metadata": {},
   "outputs": [],
   "source": [
    "from functools import partial\n",
    "\n",
    "import time\n",
    "from tqdm.notebook import tqdm\n",
    "import numpy as np\n",
    "import matplotlib.pyplot as plt\n",
    "import plotly.express as px\n",
    "import plotly.graph_objects as go"
   ]
  },
  {
   "cell_type": "code",
   "execution_count": null,
   "id": "6b5133fd-b033-4247-8008-5778b4ba4add",
   "metadata": {},
   "outputs": [],
   "source": [
    "import jax\n",
    "import jax.numpy as jnp\n",
    "\n",
    "import diffrax\n",
    "import equinox as eqx\n",
    "import optax\n",
    "\n",
    "from haiku import PRNGSequence"
   ]
  },
  {
   "cell_type": "code",
   "execution_count": null,
   "id": "78999b34-7326-453c-9e45-3b724ed39b52",
   "metadata": {},
   "outputs": [],
   "source": [
    "import exciting_environments as excenvs\n",
    "from models import NeuralEulerODE\n",
    "\n",
    "from density_estimation import update_kde_grid, update_kde_grid_multiple_observations, update_kde_grid_multiple_observations_2\n",
    "from metrics import JSDLoss"
   ]
  },
  {
   "cell_type": "markdown",
   "id": "43352eed-ec33-421b-8a57-88f077e9a5cd",
   "metadata": {},
   "source": [
    "## Find the best actions for good coverage"
   ]
  },
  {
   "cell_type": "markdown",
   "id": "a9fe909b-b4e7-469d-a556-c5cb500852a2",
   "metadata": {},
   "source": [
    "Necessary steps:\n",
    "\n",
    "- simulate a trajectory $\\mathbf{x}_{k:k+N}$ with $N+1$ elements using $N$ actions $\\mathbf{u}_{k:k+N-1}$ using the model\n",
    "- evaluate the JSD of the trajectory to the target distribution\n",
    "- optimize the trajectory\n",
    "- take a single step in the environment"
   ]
  },
  {
   "cell_type": "code",
   "execution_count": null,
   "id": "a2b6bb2e-9afc-46b4-82ec-bfd159145894",
   "metadata": {},
   "outputs": [],
   "source": [
    "# setup PRNG\n",
    "key = jax.random.PRNGKey(seed=21)\n",
    "\n",
    "data_key, model_key, key = jax.random.split(key, 3)\n",
    "data_rng = PRNGSequence(data_key)"
   ]
  },
  {
   "cell_type": "code",
   "execution_count": null,
   "id": "cc66165a-f5b1-4570-8c3a-fdbf2d5b2573",
   "metadata": {},
   "outputs": [],
   "source": [
    "batch_size = 1\n",
    "tau = 1e-3\n",
    "\n",
    "env = excenvs.make(\n",
    "    env_id='Pendulum-v0',\n",
    "    batch_size=batch_size,\n",
    "    tau=tau\n",
    ")\n",
    "\n",
    "model = excenvs.make(\n",
    "    env_id='Pendulum-v0',\n",
    "    batch_size=batch_size,\n",
    "    tau=tau\n",
    ")"
   ]
  },
  {
   "cell_type": "code",
   "execution_count": null,
   "id": "afa54b62-b13a-403a-8361-543420f0f28e",
   "metadata": {},
   "outputs": [],
   "source": [
    "@partial(jax.jit, static_argnums=(0, 1))\n",
    "def gen_actions(n_steps, batch_size, key):\n",
    "    actions = jax.random.uniform(key, shape=(batch_size, 1, 1), minval=-1, maxval=1)\n",
    "    actions = jnp.repeat(actions, repeats=n_steps, axis=1)\n",
    "    return actions"
   ]
  },
  {
   "cell_type": "code",
   "execution_count": null,
   "id": "f27e2ead-0dcb-4ebe-91ea-667ba222c1d1",
   "metadata": {},
   "outputs": [],
   "source": [
    "@partial(jax.jit, static_argnums=(0, 3))\n",
    "def simulate_episode(env, obs, state, n_steps, actions):\n",
    "\n",
    "    batch_size, obs_dim = obs.shape\n",
    "    observations = jnp.zeros([batch_size, n_steps, obs_dim])\n",
    "    observations = observations.at[:, 0, :].set(obs)\n",
    "\n",
    "    def body_fun(n, carry):\n",
    "        obs, state, observations = carry\n",
    "\n",
    "        action = actions[:, n, :]\n",
    "        obs, reward, terminated, truncated, state = env.step(action, state)\n",
    "        observations = observations.at[:, n, :].set(obs)\n",
    "\n",
    "        return (obs, state, observations)\n",
    "\n",
    "    obs, state, observations = jax.lax.fori_loop(lower=1, upper=n_steps, body_fun=body_fun, init_val=(obs, state, observations))\n",
    "\n",
    "    return observations\n",
    "\n",
    "\n",
    "def plot_episode(observations, actions, max_n=2):\n",
    "    n_plots = min(max_n, observations.shape[0])\n",
    "\n",
    "    for idx in range(n_plots):\n",
    "        plt.plot(observations[idx, :, 0], 'r.', label=\"theta\")\n",
    "        plt.plot(observations[idx, :, 1], 'b-', label=\"omega\")\n",
    "        plt.grid()\n",
    "        plt.title(\"observations, timeseries\")\n",
    "        plt.legend()\n",
    "        plt.show()\n",
    "    \n",
    "    for idx in range(n_plots):\n",
    "        plt.plot(observations[idx, :, 0], observations[idx, :, 1], 'b.')\n",
    "        plt.grid()\n",
    "        plt.title(\"observations, together\")\n",
    "        plt.show()\n",
    "    \n",
    "    for idx in range(n_plots):\n",
    "        plt.plot(actions[idx, :, 0])\n",
    "        plt.grid()\n",
    "        plt.title(\"actions, timeseries\")\n",
    "        plt.show()\n",
    "\n",
    "\n",
    "def aprbs2(len, t_min, t_max, key):\n",
    "    t = 0\n",
    "    sig = []\n",
    "    while t < len:\n",
    "        steps_key, value_key, key = jax.random.split(key, 3)\n",
    "\n",
    "        t_step = jax.random.randint(steps_key, shape=(1,), minval=t_min, maxval=t_max)\n",
    "           \n",
    "        sig.append(jnp.ones(t_step) * jax.random.uniform(value_key, shape=(1,), minval=-1, maxval=1))\n",
    "        t += t_step.item()\n",
    "\n",
    "    return jnp.hstack(sig)[:len]\n",
    "\n",
    "\n",
    "def aprbs(n_steps, batch_size, t_min, t_max, key):\n",
    "    actions = []\n",
    "    for _ in range(batch_size):\n",
    "        subkey, key = jax.random.split(key)\n",
    "        actions.append(aprbs2(n_steps, t_min, t_max, subkey)[..., None])\n",
    "    return jnp.stack(actions, axis=0)"
   ]
  },
  {
   "cell_type": "code",
   "execution_count": null,
   "id": "9cede5d7-11f8-4c11-ae9f-88a87cb22c60",
   "metadata": {},
   "outputs": [],
   "source": [
    "@partial(jax.jit, static_argnums=(1, 4))\n",
    "def loss_function(\n",
    "    actions,\n",
    "    model,\n",
    "    init_obs,\n",
    "    init_state,\n",
    "    n_steps,\n",
    "    p_est,\n",
    "    x,\n",
    "    start_n_measurments,\n",
    "    bandwidth,\n",
    "    target_distribution\n",
    "):\n",
    "    actions = jax.nn.tanh(actions)\n",
    "    observations = simulate_episode(model, init_obs, init_state, n_steps, actions)\n",
    "\n",
    "    p_est = update_kde_grid_multiple_observations_2(n_steps, p_est, x, observations, start_n_measurments, bandwidth)\n",
    "    loss = JSDLoss(\n",
    "        p=p_est,\n",
    "        q=target_distribution\n",
    "    )\n",
    "    return loss\n",
    "\n",
    "grad_loss_function = jax.grad(loss_function, argnums=(0))\n",
    "\n",
    "def optimize(\n",
    "    proposed_actions,\n",
    "    model,\n",
    "    init_obs,\n",
    "    init_state,\n",
    "    n_steps,\n",
    "    p_est,\n",
    "    x,\n",
    "    start_n_measurments,\n",
    "    bandwidth,\n",
    "    target_distribution\n",
    "):\n",
    "    solver = optax.adabelief(learning_rate=1e-1)\n",
    "    opt_state = solver.init(proposed_actions)\n",
    "\n",
    "    for iter in tqdm(range(100)):\n",
    "        grad = grad_loss_function(\n",
    "            proposed_actions,\n",
    "            model,\n",
    "            init_obs,\n",
    "            init_state,\n",
    "            n_steps,\n",
    "            p_est,\n",
    "            x,\n",
    "            start_n_measurments,\n",
    "            bandwidth,\n",
    "            target_distribution\n",
    "        )\n",
    "        updates, opt_state = solver.update(grad, opt_state, proposed_actions)\n",
    "        proposed_actions = optax.apply_updates(proposed_actions, updates)\n",
    "\n",
    "    return proposed_actions"
   ]
  },
  {
   "cell_type": "code",
   "execution_count": null,
   "id": "974443f2-36d9-48eb-8edf-006ecad14805",
   "metadata": {},
   "outputs": [],
   "source": [
    "x1, x2 = [\n",
    "    jnp.linspace(env.env_observation_space.low, env.env_observation_space.high, 100),\n",
    "    jnp.linspace(env.env_observation_space.low, env.env_observation_space.high, 100)\n",
    "]\n",
    "\n",
    "x = jnp.meshgrid(*[x1, x2])\n",
    "x = jnp.stack([x for x in x], axis=-1)\n",
    "x = x.reshape(-1, 2)\n",
    "n_grid_points = x.shape[0]\n",
    "\n",
    "start_n_measurments = 0\n",
    "\n",
    "bandwidth = 0.15\n",
    "p_est = jnp.zeros([batch_size, n_grid_points, 1])\n",
    "\n",
    "target_distribution = jnp.ones(shape=(batch_size, n_grid_points, 1))\n",
    "target_distribution *= 1 / (env.env_observation_space.high - env.env_observation_space.low)**2\n",
    "\n",
    "n_steps = 1000"
   ]
  },
  {
   "cell_type": "code",
   "execution_count": null,
   "id": "e45796e7-e6dc-4bb0-a8b7-9d3b9f7bd908",
   "metadata": {},
   "outputs": [],
   "source": [
    "obs, state = env.reset()\n",
    "obs = obs.astype(jnp.float32)\n",
    "state = state.astype(jnp.float32)\n",
    "\n",
    "actions = aprbs(n_steps, batch_size, 10, 20, next(data_rng))\n",
    "\n",
    "plt.plot(jnp.squeeze(actions))\n",
    "plt.show()\n",
    "\n",
    "actions = optimize(\n",
    "    actions,\n",
    "    model,\n",
    "    obs,\n",
    "    state,\n",
    "    n_steps,\n",
    "    p_est,\n",
    "    x,\n",
    "    start_n_measurments,\n",
    "    bandwidth,\n",
    "    target_distribution\n",
    ")\n",
    "\n",
    "start_n_measurments += n_steps"
   ]
  },
  {
   "cell_type": "code",
   "execution_count": null,
   "id": "f44aca0e-dcec-4044-8b0e-ab0d21ca335a",
   "metadata": {},
   "outputs": [],
   "source": [
    "loss = loss_function(\n",
    "    actions,\n",
    "    model,\n",
    "    obs,\n",
    "    state,\n",
    "    n_steps,\n",
    "    p_est,\n",
    "    x,\n",
    "    start_n_measurments,\n",
    "    bandwidth,\n",
    "    target_distribution\n",
    ")\n",
    "loss"
   ]
  },
  {
   "cell_type": "code",
   "execution_count": null,
   "id": "77b9728e-d6a8-49ca-b69f-6a00a520dd30",
   "metadata": {},
   "outputs": [],
   "source": [
    "observations = simulate_episode(model, obs, state, n_steps, jax.nn.tanh(actions))\n",
    "plot_episode(observations, jax.nn.tanh(actions), max_n=1)\n",
    "p_est = update_kde_grid_multiple_observations(n_steps, p_est, x, observations, start_n_measurments, bandwidth)"
   ]
  },
  {
   "cell_type": "code",
   "execution_count": null,
   "id": "3dd894e4-3e1e-4387-bd66-bb9d164f9318",
   "metadata": {},
   "outputs": [],
   "source": [
    "fig, ax = plt.subplots(\n",
    "    figsize=(6, 6)\n",
    ")\n",
    "\n",
    "grid_len_per_dim = int(np.sqrt(x.shape[0]))\n",
    "x_plot = x.reshape((grid_len_per_dim, grid_len_per_dim, 2))\n",
    "\n",
    "cax = ax.contourf(\n",
    "    x_plot[..., 0],\n",
    "    x_plot[..., 1],\n",
    "    p_est[0, ...].reshape(x_plot.shape[:-1]),\n",
    "    antialiased=False,\n",
    "    levels=30,\n",
    "    alpha=0.9,\n",
    "    cmap=plt.cm.coolwarm\n",
    ")\n",
    "ax.set_xlabel(r\"$\\theta$\")\n",
    "ax.set_ylabel(r\"$\\omega$\")\n",
    "# fig.colorbar(cax)"
   ]
  },
  {
   "cell_type": "markdown",
   "id": "99fd0d09-b931-4e0d-a965-43daca293b3a",
   "metadata": {},
   "source": [
    "---"
   ]
  },
  {
   "cell_type": "code",
   "execution_count": null,
   "id": "217da888-68d3-4f16-9a63-6c4587cb4381",
   "metadata": {},
   "outputs": [],
   "source": [
    "actions = aprbs(n_steps, batch_size, 200, 500, next(data_rng))\n",
    "observations = simulate_episode(model, obs, state, n_steps, actions)\n",
    "plot_episode(observations, actions, max_n=1)\n",
    "\n",
    "p_est = update_kde_grid_multiple_observations(n_steps, p_est, x, observations, 0, bandwidth)\n",
    "\n",
    "\n",
    "p_est_2 = update_kde_grid_multiple_observations_2(n_steps, p_est, x, observations, 0, bandwidth)"
   ]
  },
  {
   "cell_type": "code",
   "execution_count": null,
   "id": "36706bc1-fd03-4a14-8a07-7ccb87d2c245",
   "metadata": {},
   "outputs": [],
   "source": [
    "from density_estimation import update_kde_grid, update_kde_grid_multiple_observations, update_kde_grid_multiple_observations_2"
   ]
  },
  {
   "cell_type": "code",
   "execution_count": null,
   "id": "9f6dc66e-d85d-459a-90c5-8b930435e66f",
   "metadata": {},
   "outputs": [],
   "source": [
    "start = time.time()\n",
    "p_est = update_kde_grid_multiple_observations(n_steps, p_est, x, observations, 0, bandwidth)\n",
    "end = time.time()\n",
    "print(end - start)\n",
    "\n",
    "start = time.time()\n",
    "p_est_2 = update_kde_grid_multiple_observations_2(n_steps, p_est, x, observations, 0, bandwidth)\n",
    "end = time.time()\n",
    "print(end - start)\n",
    "\n",
    "print(jnp.mean(jnp.abs(p_est_2 - p_est) ** 2))"
   ]
  },
  {
   "cell_type": "code",
   "execution_count": null,
   "id": "572d1079-cfa3-4d3d-85f0-191b4deb9a25",
   "metadata": {},
   "outputs": [],
   "source": [
    "p_est.shape"
   ]
  },
  {
   "cell_type": "code",
   "execution_count": null,
   "id": "39eb297b-63ca-43aa-b9d7-ca817e448cbe",
   "metadata": {},
   "outputs": [],
   "source": [
    "p_est_2.shape"
   ]
  },
  {
   "cell_type": "code",
   "execution_count": null,
   "id": "158867c0-4e5e-4623-a9d8-723b0ca9e844",
   "metadata": {},
   "outputs": [],
   "source": [
    "jnp.mean(jnp.abs(p_est_2 - p_est))"
   ]
  },
  {
   "cell_type": "code",
   "execution_count": null,
   "id": "fbc669ce-dc3d-4af4-96e3-df82c3bd1651",
   "metadata": {},
   "outputs": [],
   "source": [
    "jnp.min(p_est_2 - p_est)"
   ]
  },
  {
   "cell_type": "code",
   "execution_count": null,
   "id": "6c4cb2bc-aabe-46ca-9fcc-6923dff1a769",
   "metadata": {},
   "outputs": [],
   "source": [
    "fig, ax = plt.subplots(\n",
    "    figsize=(8, 8)\n",
    ")\n",
    "\n",
    "grid_len_per_dim = int(np.sqrt(x.shape[0]))\n",
    "x_plot = x.reshape((grid_len_per_dim, grid_len_per_dim, 2))\n",
    "\n",
    "cax = ax.contourf(\n",
    "    x_plot[..., 0],\n",
    "    x_plot[..., 1],\n",
    "    p_est[0, ...].reshape(x_plot.shape[:-1]),\n",
    "    antialiased=False,\n",
    "    levels=30,\n",
    "    alpha=0.9,\n",
    "    cmap=plt.cm.coolwarm\n",
    ")"
   ]
  },
  {
   "cell_type": "markdown",
   "id": "9629a4a7-57b2-49a4-9cd7-b09a9adb5750",
   "metadata": {},
   "source": [
    "- build the cells above into a full algorithm!\n",
    "- think about the differences between the update_kde implementations"
   ]
  },
  {
   "cell_type": "markdown",
   "id": "72d7d8f2-f904-43d3-89c8-b61d8ed4895d",
   "metadata": {},
   "source": [
    "..."
   ]
  },
  {
   "cell_type": "code",
   "execution_count": null,
   "id": "1212cdbc-87cf-40aa-b0b4-c7fa2c5c5883",
   "metadata": {},
   "outputs": [],
   "source": [
    "mpe = ModelPredictiveExcitation()"
   ]
  }
 ],
 "metadata": {
  "kernelspec": {
   "display_name": "venv-dev-base",
   "language": "python",
   "name": "venv-dev-base"
  },
  "language_info": {
   "codemirror_mode": {
    "name": "ipython",
    "version": 3
   },
   "file_extension": ".py",
   "mimetype": "text/x-python",
   "name": "python",
   "nbconvert_exporter": "python",
   "pygments_lexer": "ipython3",
   "version": "3.11.6"
  }
 },
 "nbformat": 4,
 "nbformat_minor": 5
}
