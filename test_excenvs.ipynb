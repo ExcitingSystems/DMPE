{
 "cells": [
  {
   "cell_type": "code",
   "execution_count": null,
   "id": "9a253840-126d-414b-b41b-4f32bc4b9479",
   "metadata": {},
   "outputs": [],
   "source": [
    "%load_ext autoreload\n",
    "%autoreload 2\n",
    "%reload_ext line_profiler"
   ]
  },
  {
   "cell_type": "code",
   "execution_count": null,
   "id": "6d165410-7dfa-41c8-844d-241821bcbcc4",
   "metadata": {},
   "outputs": [],
   "source": [
    "from functools import partial\n",
    "\n",
    "from tqdm.notebook import tqdm\n",
    "import numpy as np\n",
    "import matplotlib.pyplot as plt\n",
    "import plotly.express as px\n",
    "import plotly.graph_objects as go"
   ]
  },
  {
   "cell_type": "code",
   "execution_count": null,
   "id": "19d01252-61bb-4bf3-baf1-fa0d89e364a8",
   "metadata": {},
   "outputs": [],
   "source": [
    "import jax\n",
    "import jax.numpy as jnp\n",
    "\n",
    "from haiku import PRNGSequence"
   ]
  },
  {
   "cell_type": "code",
   "execution_count": null,
   "id": "20f900af-486d-4fc0-be09-b30cccd28d2b",
   "metadata": {},
   "outputs": [],
   "source": [
    "import exciting_environments as excenvs\n",
    "from metrics import JSDLoss, KLDLoss, kullback_leibler_divergence, jensen_shannon_divergence\n",
    "from density_estimation import gaussian_kernel, update_kde_grid"
   ]
  },
  {
   "cell_type": "markdown",
   "id": "62d36289-3224-4e63-b72c-e5a79a5ead6d",
   "metadata": {},
   "source": [
    "---"
   ]
  },
  {
   "cell_type": "code",
   "execution_count": null,
   "id": "a33628b0-4832-40d7-8662-753580732f2a",
   "metadata": {},
   "outputs": [],
   "source": [
    "def build_grid(space, points_per_dim):\n",
    "    x1, x2 = [\n",
    "        jnp.linspace(space.low, space.high, points_per_dim),\n",
    "        jnp.linspace(space.low, space.high, points_per_dim)\n",
    "    ]\n",
    "    x = jnp.meshgrid(*[x1, x2])\n",
    "    x = jnp.stack([x for x in x], axis=-1)\n",
    "    x = x.reshape(-1, 2)\n",
    "    return x"
   ]
  },
  {
   "cell_type": "code",
   "execution_count": null,
   "id": "afb7c422-e037-4392-8855-dc0954a5e3db",
   "metadata": {},
   "outputs": [],
   "source": [
    "rng = PRNGSequence(0)"
   ]
  },
  {
   "cell_type": "code",
   "execution_count": null,
   "id": "506eedc5-c659-4bc4-8db7-d4b8576c0ca8",
   "metadata": {},
   "outputs": [],
   "source": [
    "env = excenvs.make(\n",
    "    env_id='Pendulum-v0',\n",
    "    batch_size=1,\n",
    "    tau=1e-3\n",
    ")\n",
    "\n",
    "x = build_grid(env.env_observation_space, points_per_dim=100)\n",
    "p_est = jnp.zeros([1, x.shape[0], 1])\n",
    "bandwidth=0.015"
   ]
  },
  {
   "cell_type": "code",
   "execution_count": null,
   "id": "387e16dd-5fc9-4b5b-99f7-ee4d727f2dc4",
   "metadata": {
    "scrolled": true
   },
   "outputs": [],
   "source": [
    "n_steps = 999\n",
    "\n",
    "observations = []\n",
    "\n",
    "obs, state = env.reset()\n",
    "observations.append(obs)\n",
    "\n",
    "for n in range(n_steps):\n",
    "    action = env.action_space.sample(next(rng))\n",
    "    p_est = update_kde_grid(p_est, x[None, ...], measurement=obs[:, None, :], n_measurements=n, bandwidth=bandwidth)\n",
    "    \n",
    "    obs, reward, terminated, truncated, state = env.step(action, state)\n",
    "    observations.append(obs)"
   ]
  },
  {
   "cell_type": "code",
   "execution_count": null,
   "id": "0ef62005-0bbf-4da1-8e3e-1f671e1b2103",
   "metadata": {},
   "outputs": [],
   "source": [
    "observations = jnp.squeeze(jnp.array(observations))"
   ]
  },
  {
   "cell_type": "code",
   "execution_count": null,
   "id": "7588fe9a-cddc-4de8-9053-55d7620327a7",
   "metadata": {},
   "outputs": [],
   "source": [
    "observations.shape"
   ]
  },
  {
   "cell_type": "code",
   "execution_count": null,
   "id": "4ec42a7b-834d-474f-807b-10c04631a713",
   "metadata": {},
   "outputs": [],
   "source": [
    "plt.plot(observations[:, 0], label=\"theta\")\n",
    "plt.plot(observations[:, 1], label=\"omega\")\n",
    "plt.legend()\n",
    "plt.grid()\n",
    "plt.show()"
   ]
  },
  {
   "cell_type": "code",
   "execution_count": null,
   "id": "9f864f14-d888-4408-913b-e44c271b3da6",
   "metadata": {},
   "outputs": [],
   "source": [
    "plt.plot(observations[:, 0], observations[:, 1], 'r.')\n",
    "plt.xlabel(\"theta\")\n",
    "plt.ylabel(\"omega\")\n",
    "plt.grid()"
   ]
  },
  {
   "cell_type": "code",
   "execution_count": null,
   "id": "15f96cfd-0f17-46ec-bef4-29fbed5c1de3",
   "metadata": {},
   "outputs": [],
   "source": [
    "fig, ax = plt.subplots(\n",
    "    figsize=(8, 8)\n",
    ")\n",
    "\n",
    "grid_len_per_dim = int(np.sqrt(x.shape[0]))\n",
    "x_plot = x.reshape((grid_len_per_dim, grid_len_per_dim, 2))\n",
    "\n",
    "cax = ax.contourf(\n",
    "    x_plot[..., 0],\n",
    "    x_plot[..., 1],\n",
    "    p_est[0, ...].reshape(x_plot.shape[:-1]),\n",
    "    antialiased=False,\n",
    "    levels=100,\n",
    "    alpha=0.9,\n",
    "    cmap=plt.cm.coolwarm\n",
    ")\n",
    "fig.colorbar(cax)"
   ]
  },
  {
   "cell_type": "code",
   "execution_count": null,
   "id": "9ff33840-8762-44c1-9488-98ac1feae139",
   "metadata": {},
   "outputs": [],
   "source": []
  },
  {
   "cell_type": "code",
   "execution_count": null,
   "id": "94cbbc51-a53b-4547-9b91-edd820dfe97d",
   "metadata": {},
   "outputs": [],
   "source": []
  }
 ],
 "metadata": {
  "kernelspec": {
   "display_name": "Python (conda-dev-base)",
   "language": "python",
   "name": "conda-dev-base"
  },
  "language_info": {
   "codemirror_mode": {
    "name": "ipython",
    "version": 3
   },
   "file_extension": ".py",
   "mimetype": "text/x-python",
   "name": "python",
   "nbconvert_exporter": "python",
   "pygments_lexer": "ipython3",
   "version": "3.11.3"
  }
 },
 "nbformat": 4,
 "nbformat_minor": 5
}
