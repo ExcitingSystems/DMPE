{
 "cells": [
  {
   "cell_type": "code",
   "execution_count": null,
   "id": "1c4a8294-0084-4a9d-9704-21e7465de850",
   "metadata": {
    "scrolled": true
   },
   "outputs": [],
   "source": [
    "import jax.numpy as jnp\n",
    "import diffrax\n",
    "\n",
    "import exciting_environments as excenvs\n",
    "from dmpe.models.models import NeuralEulerODEPendulum\n",
    "from dmpe.algorithms import excite_with_dmpe\n",
    "from dmpe.algorithms.algorithm_utils import default_dmpe_parameterization\n",
    "\n",
    "\n",
    "env = excenvs.make(\n",
    "    env_id=\"Pendulum-v0\",\n",
    "    batch_size=1,\n",
    "    action_constraints={\"torque\": 5},\n",
    "    static_params={\"g\": 9.81, \"l\": 1, \"m\": 1},\n",
    "    solver=diffrax.Tsit5(),\n",
    "    tau=2e-2,\n",
    ")\n",
    "\n",
    "def featurize_theta(obs):\n",
    "    \"\"\"Transform angle information with sin() and cos().\"\"\"\n",
    "    feat_obs = jnp.stack([jnp.sin(obs[..., 0] * jnp.pi), jnp.cos(obs[..., 0] * jnp.pi), obs[..., 1]], axis=-1)\n",
    "    return feat_obs\n",
    "\n",
    "# get default parameterization\n",
    "exp_params, proposed_actions, loader_key, expl_key = default_dmpe_parameterization(\n",
    "    env, seed=0, featurize=featurize_theta, model_class=NeuralEulerODEPendulum\n",
    ")\n",
    "exp_params[\"n_time_steps\"] = 1000  # reduce to N=1000\n",
    "\n",
    "# run excitation\n",
    "observations, actions, model, density_estimate, losses, proposed_actions = excite_with_dmpe(\n",
    "    env,\n",
    "    exp_params,\n",
    "    proposed_actions,\n",
    "    loader_key,\n",
    "    expl_key,\n",
    ")\n",
    "\n",
    "# visualize\n",
    "from dmpe.evaluation.plotting_utils import plot_sequence\n",
    "import matplotlib.pyplot as plt\n",
    "import matplotlib as mpl\n",
    "mpl.rcParams['text.usetex'] = True\n",
    "mpl.rcParams.update({'font.size': 10})\n",
    "mpl.rcParams['text.latex.preamble']=r\"\\usepackage{bm}\\usepackage{amsmath}\"\n",
    "\n",
    "fig = plot_sequence(observations, actions, env.tau, env.obs_description, env.action_description)\n",
    "plt.show()"
   ]
  },
  {
   "cell_type": "markdown",
   "id": "344e5afd-56ad-4f80-b6ed-0ee354827a51",
   "metadata": {},
   "source": [
    "---"
   ]
  },
  {
   "cell_type": "code",
   "execution_count": null,
   "id": "de3d1928-da41-43e4-a0f8-934aef18c66f",
   "metadata": {},
   "outputs": [],
   "source": [
    "plot_sequence(observations, actions, env.tau, env.obs_description, env.action_description)\n",
    "import matplotlib.pyplot as plt\n",
    "plt.savefig(\"../fig/simple_example_pendulum.png\")"
   ]
  },
  {
   "cell_type": "code",
   "execution_count": null,
   "id": "2e33431a-13e3-4401-a9b8-9f91bbea9aca",
   "metadata": {},
   "outputs": [],
   "source": []
  }
 ],
 "metadata": {
  "kernelspec": {
   "display_name": "Python 3 (ipykernel)",
   "language": "python",
   "name": "python3"
  },
  "language_info": {
   "codemirror_mode": {
    "name": "ipython",
    "version": 3
   },
   "file_extension": ".py",
   "mimetype": "text/x-python",
   "name": "python",
   "nbconvert_exporter": "python",
   "pygments_lexer": "ipython3",
   "version": "3.11.9"
  }
 },
 "nbformat": 4,
 "nbformat_minor": 5
}
