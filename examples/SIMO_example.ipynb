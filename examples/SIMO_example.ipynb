{
 "cells": [
  {
   "cell_type": "code",
   "execution_count": null,
   "id": "4ef25dc2-51a1-496c-8ce1-2fd902b2ed0b",
   "metadata": {},
   "outputs": [],
   "source": [
    "import jax\n",
    "import jax.numpy as jnp\n",
    "import diffrax\n",
    "\n",
    "from dmpe.utils.signals import aprbs\n",
    "import exciting_environments as excenvs\n",
    "from dmpe.models import NeuralEulerODE\n",
    "from dmpe.algorithms import excite_with_dmpe\n",
    "from dmpe.utils.density_estimation import select_bandwidth"
   ]
  },
  {
   "cell_type": "code",
   "execution_count": null,
   "id": "d217c3bb-efe4-4210-9698-a3d7d5300961",
   "metadata": {},
   "outputs": [],
   "source": [
    "# setup env\n",
    "\n",
    "env_params = dict(\n",
    "    batch_size=1,\n",
    "    tau=2e-2,\n",
    "    max_force=10,\n",
    "    static_params={\n",
    "        \"mu_p\": 0.002,\n",
    "        \"mu_c\": 0.5,\n",
    "        \"l\": 0.5,\n",
    "        \"m_p\": 0.1,\n",
    "        \"m_c\": 1,\n",
    "        \"g\": 9.81,\n",
    "    },\n",
    "    physical_constraints={\n",
    "        \"deflection\": 2.4,\n",
    "        \"velocity\": 8,\n",
    "        \"theta\": jnp.pi,\n",
    "        \"omega\": 8,\n",
    "    },\n",
    "    env_solver=diffrax.Tsit5(),\n",
    ")\n",
    "env = excenvs.make(\n",
    "    env_id=\"CartPole-v0\",\n",
    "    batch_size=env_params[\"batch_size\"],\n",
    "    action_constraints={\"force\": env_params[\"max_force\"]},\n",
    "    physical_constraints=env_params[\"physical_constraints\"],\n",
    "    static_params=env_params[\"static_params\"],\n",
    "    solver=env_params[\"env_solver\"],\n",
    "    tau=env_params[\"tau\"],\n",
    ")"
   ]
  },
  {
   "cell_type": "markdown",
   "id": "a0edddf5-737a-45e7-8c84-a1afd242be08",
   "metadata": {},
   "source": [
    "### Apply DMPE to the cart pole system:"
   ]
  },
  {
   "cell_type": "code",
   "execution_count": null,
   "id": "d4d2bc4d-f144-4967-8552-9d5646f62f8c",
   "metadata": {},
   "outputs": [],
   "source": [
    "# setup a featurization method for the angle information (map theta to sin, cos)\n",
    "\n",
    "def featurize_theta_cart_pole(obs):\n",
    "    \"\"\"The angle itself is difficult to properly interpret in the loss as angles\n",
    "    such as 1.99 * pi and 0 are essentially the same. Therefore the angle is\n",
    "    transformed to sin(phi) and cos(phi) for comparison in the loss.\"\"\"\n",
    "    feat_obs = jnp.stack(\n",
    "        [obs[..., 0], obs[..., 1], jnp.sin(obs[..., 2] * jnp.pi), jnp.cos(obs[..., 2] * jnp.pi), obs[..., 3]],\n",
    "        axis=-1,\n",
    "    )\n",
    "    return feat_obs"
   ]
  },
  {
   "cell_type": "code",
   "execution_count": null,
   "id": "40e75757-8209-4839-ab1f-a3006f1f3c4f",
   "metadata": {},
   "outputs": [],
   "source": [
    "# build a model for the cart pole system that wraps the angle to the other side when it exceeds the max value\n",
    "\n",
    "class NeuralEulerODECartpole(NeuralEulerODE):\n",
    "    \"\"\"Cartpole specific model that deals with the periodic properties of the angle information.\"\"\"\n",
    "\n",
    "    def step(self, obs, action, tau):\n",
    "        next_obs = super().step(obs, action, tau)\n",
    "        next_obs = jnp.stack(\n",
    "            [next_obs[..., 0], next_obs[..., 1], (((next_obs[..., 2] + 1) % 2) - 1), next_obs[..., 3]], axis=-1\n",
    "        )\n",
    "        return next_obs"
   ]
  },
  {
   "cell_type": "code",
   "execution_count": null,
   "id": "e95e0c4f-46a5-4d61-b278-a93790410cbd",
   "metadata": {},
   "outputs": [],
   "source": [
    "# setup algorithm parameters\n",
    "\n",
    "# overall algorithm parameters, mostyl concerning the excitation optimization problem\n",
    "points_per_dim = 20\n",
    "alg_params = dict(\n",
    "    bandwidth=select_bandwidth(2, 5, points_per_dim, 0.1),\n",
    "    n_prediction_steps=50,\n",
    "    points_per_dim=points_per_dim,\n",
    "    action_lr=1e-1,\n",
    "    n_opt_steps=5,\n",
    "    rho_obs=1,\n",
    "    rho_act=1,\n",
    "    penalty_order=2,\n",
    "    clip_action=True,\n",
    "    n_starts=5,\n",
    "    reuse_proposed_actions=True,\n",
    ")\n",
    "\n",
    "# parameters for the training of the model\n",
    "model_trainer_params = dict(\n",
    "    start_learning=alg_params[\"n_prediction_steps\"],\n",
    "    training_batch_size=128,\n",
    "    n_train_steps=10,\n",
    "    sequence_length=alg_params[\"n_prediction_steps\"],\n",
    "    featurize=featurize_theta_cart_pole,\n",
    "    model_lr=1e-4,\n",
    ")\n",
    "\n",
    "# parameters of the model itself\n",
    "model_params = dict(obs_dim=env.physical_state_dim, action_dim=env.action_dim, width_size=128, depth=3, key=None)\n",
    "\n",
    "\n",
    "# setup the whole experiment parameter dict\n",
    "exp_params = dict(\n",
    "    seed=int(42),\n",
    "    n_time_steps=15_000,\n",
    "    model_class=NeuralEulerODECartpole,\n",
    "    env_params=env_params,\n",
    "    alg_params=alg_params,\n",
    "    model_trainer_params=model_trainer_params,\n",
    "    model_params=model_params,\n",
    ")"
   ]
  },
  {
   "cell_type": "code",
   "execution_count": null,
   "id": "0dd850c1-b0e6-4cb2-a67a-a98b54a20333",
   "metadata": {},
   "outputs": [],
   "source": [
    "# setup PRNG\n",
    "key = jax.random.PRNGKey(seed=exp_params[\"seed\"])\n",
    "data_key, model_key, loader_key, expl_key, key = jax.random.split(key, 5)\n",
    "exp_params[\"model_params\"][\"key\"] = model_key"
   ]
  },
  {
   "cell_type": "code",
   "execution_count": null,
   "id": "b6e1bf81-4a1d-488a-b009-67f1ddac38b9",
   "metadata": {},
   "outputs": [],
   "source": [
    "# initial guess for U_k\n",
    "proposed_actions = aprbs(exp_params[\"alg_params\"][\"n_prediction_steps\"], env.batch_size, 1, 10, data_key)[0]"
   ]
  },
  {
   "cell_type": "code",
   "execution_count": null,
   "id": "5a8fa5e4-1caf-4ddb-abcd-589e1b111606",
   "metadata": {},
   "outputs": [],
   "source": [
    "# run the algorithm\n",
    "\n",
    "observations, actions, model, density_estimate, losses, proposed_actions = excite_with_dmpe(\n",
    "    env, exp_params, proposed_actions, loader_key, expl_key, plot_every=200\n",
    ")"
   ]
  },
  {
   "cell_type": "code",
   "execution_count": null,
   "id": "df45e3fe-a6f6-4c83-b331-2682ee9c00e5",
   "metadata": {},
   "outputs": [],
   "source": []
  }
 ],
 "metadata": {
  "kernelspec": {
   "display_name": "Python 3 (ipykernel)",
   "language": "python",
   "name": "python3"
  },
  "language_info": {
   "codemirror_mode": {
    "name": "ipython",
    "version": 3
   },
   "file_extension": ".py",
   "mimetype": "text/x-python",
   "name": "python",
   "nbconvert_exporter": "python",
   "pygments_lexer": "ipython3",
   "version": "3.11.9"
  }
 },
 "nbformat": 4,
 "nbformat_minor": 5
}
