{
 "cells": [
  {
   "cell_type": "code",
   "execution_count": null,
   "id": "d0975b9c-3ac0-4d78-ad0c-e83b1dfca782",
   "metadata": {},
   "outputs": [],
   "source": [
    "%load_ext autoreload\n",
    "%autoreload 2\n",
    "%reload_ext line_profiler"
   ]
  },
  {
   "cell_type": "code",
   "execution_count": null,
   "id": "baf32476-6251-4229-b215-b529a08ad033",
   "metadata": {},
   "outputs": [],
   "source": [
    "from functools import partial\n",
    "\n",
    "from tqdm.notebook import tqdm\n",
    "import numpy as np\n",
    "import matplotlib.pyplot as plt\n",
    "import plotly.express as px\n",
    "import plotly.graph_objects as go"
   ]
  },
  {
   "cell_type": "code",
   "execution_count": null,
   "id": "b3506987-0f89-4716-9ee2-d2e50fe684fc",
   "metadata": {},
   "outputs": [],
   "source": [
    "import jax\n",
    "import jax.numpy as jnp\n",
    "\n",
    "from haiku import PRNGSequence"
   ]
  },
  {
   "cell_type": "code",
   "execution_count": null,
   "id": "da70a00c-76ba-45ff-833a-922aea306030",
   "metadata": {},
   "outputs": [],
   "source": [
    "import exciting_environments as excenvs\n",
    "from metrics import JSDLoss, KLDLoss, kullback_leibler_divergence, jensen_shannon_divergence\n",
    "from density_estimation import gaussian_kernel, update_kde_grid"
   ]
  },
  {
   "cell_type": "markdown",
   "id": "7364fe9b-f704-44db-a2c6-e3f490c46b03",
   "metadata": {},
   "source": [
    "---"
   ]
  },
  {
   "cell_type": "markdown",
   "id": "0f284ac8-b965-485e-8557-064d98ca7a41",
   "metadata": {},
   "source": [
    "### dummy example:"
   ]
  },
  {
   "cell_type": "code",
   "execution_count": null,
   "id": "6ad3b895-8f61-41d3-9273-b6ad2525cb6d",
   "metadata": {},
   "outputs": [],
   "source": [
    "@jax.jit\n",
    "def lotka_volterra_ODE(t, x):\n",
    "    alpha = 0.1  # Reproduction rate of prey\n",
    "    beta = 0.02  # Predation rate\n",
    "    delta = 0.01  # Reproduction rate of predator\n",
    "    gamma = 0.1  # Death rate of predator\n",
    "    \n",
    "    x, y =  x[:, 0], x[:, 1]\n",
    "    dxdt = alpha * x - beta * x * y\n",
    "    dydt = delta * x * y - gamma * y\n",
    "    return jnp.stack([dxdt,dydt], axis=1)\n",
    "\n",
    "@partial(jax.jit, static_argnums=(0,))\n",
    "def forward_euler(ode, state, tau):\n",
    "    next_state = state + tau * ode(None, state)\n",
    "    return next_state"
   ]
  },
  {
   "cell_type": "code",
   "execution_count": null,
   "id": "53c8270e-d4ff-4267-ab2e-b3733872fcd9",
   "metadata": {},
   "outputs": [],
   "source": [
    "rng = PRNGSequence(42)"
   ]
  },
  {
   "cell_type": "code",
   "execution_count": null,
   "id": "036afc3c-cea6-41ba-a096-33fca9aa034e",
   "metadata": {},
   "outputs": [],
   "source": [
    "x1, x2 = [jnp.linspace(0, 15, 100), jnp.linspace(0, 15, 100)]\n",
    "x = jnp.meshgrid(*[x1, x2])\n",
    "x = jnp.stack([x for x in x], axis=-1)\n",
    "x = x.reshape(-1, 2)"
   ]
  },
  {
   "cell_type": "code",
   "execution_count": null,
   "id": "6ec745c8-1ca0-40a5-837f-5b89a3c5d1d5",
   "metadata": {
    "scrolled": true
   },
   "outputs": [],
   "source": [
    "episode_len = 10_001\n",
    "batch_size = 100\n",
    "n_features = 2\n",
    "bandwidth = 0.15\n",
    "tau = 5e-2\n",
    "t0, tf = 0, (episode_len-1)*tau\n",
    "t = jnp.arange(t0, tf + tau, tau) \n",
    "    \n",
    "states = []\n",
    "p_est = jnp.zeros([batch_size, x.shape[0], 1])\n",
    "\n",
    "state = 10 * jax.random.uniform(next(rng), (batch_size, n_features))\n",
    "\n",
    "for i in range(episode_len):\n",
    "    states.append(state)\n",
    "    p_est = update_kde_grid(p_est, x[None, ...], measurement=state[:, None, :], n_measurements=i, bandwidth=bandwidth)\n",
    "\n",
    "    \n",
    "    next_state = forward_euler(ode=lotka_volterra_ODE, state=state, tau=tau)\n",
    "    \n",
    "    state = next_state\n",
    "\n",
    "states = jnp.array(states).swapaxes(0, 1)  # put batch_size first"
   ]
  },
  {
   "cell_type": "code",
   "execution_count": null,
   "id": "d6e8a267-bc6c-4ccb-a766-dee297306dcb",
   "metadata": {},
   "outputs": [],
   "source": [
    "states.shape"
   ]
  },
  {
   "cell_type": "raw",
   "id": "efe0155e-1573-48c9-b10d-612e551862f8",
   "metadata": {
    "scrolled": true
   },
   "source": [
    "- Lotka Volterrra Zustandsraumgröße?\n",
    "-> wahrscheinlich ergibt es Sinn das für Pendel o.Ä. zu bauen :)\n",
    "\n",
    "- Wieso kommt bei p_est nur null raus?"
   ]
  },
  {
   "cell_type": "code",
   "execution_count": null,
   "id": "ab541050-bc9d-4c67-8904-90adf49f921f",
   "metadata": {},
   "outputs": [],
   "source": [
    "p_est.shape"
   ]
  },
  {
   "cell_type": "code",
   "execution_count": null,
   "id": "01c2550a-10bf-471c-9fe0-725ec21b442d",
   "metadata": {},
   "outputs": [],
   "source": [
    "fig, ax = plt.subplots(\n",
    "    figsize=(12, 12)\n",
    ")\n",
    "\n",
    "grid_len_per_dim = int(np.sqrt(x.shape[0]))\n",
    "x_plot = x.reshape((grid_len_per_dim, grid_len_per_dim, 2))\n",
    "\n",
    "cax = ax.contourf(\n",
    "    x_plot[..., 0],\n",
    "    x_plot[..., 1],\n",
    "    p_est[0, ...].reshape(x_plot.shape[:-1]),\n",
    "    antialiased=False,\n",
    "    levels=100,\n",
    "    alpha=0.9\n",
    ")\n",
    "fig.colorbar(cax)"
   ]
  },
  {
   "cell_type": "code",
   "execution_count": null,
   "id": "8d24d60f-a159-4c60-a379-acb7c36b2bd5",
   "metadata": {},
   "outputs": [],
   "source": [
    "plt.plot(t, states[0,:,:])\n",
    "plt.grid()"
   ]
  },
  {
   "cell_type": "code",
   "execution_count": null,
   "id": "dd7260f9-2b49-4e79-ba7f-d4cd7cea65fb",
   "metadata": {
    "scrolled": true
   },
   "outputs": [],
   "source": [
    "for idx in range(states.shape[0]):\n",
    "    plt.plot(states[idx, :, 0], states[idx, :, 1])\n",
    "    plt.grid()\n",
    "    plt.show()"
   ]
  },
  {
   "cell_type": "markdown",
   "id": "028d7246-076a-4a12-a19c-2369ec2605f1",
   "metadata": {},
   "source": [
    "---"
   ]
  },
  {
   "cell_type": "code",
   "execution_count": null,
   "id": "35f859b2-0c98-4624-8ba1-c21f708b646b",
   "metadata": {},
   "outputs": [],
   "source": [
    "loss = kullback_leibler_divergence(\n",
    "    p=jnp.ones([10, 100, 1]) * 0.1,\n",
    "    q=jnp.ones([10, 100, 1]) * 0.1\n",
    ")\n",
    "loss"
   ]
  },
  {
   "cell_type": "code",
   "execution_count": null,
   "id": "5714106b-2d2c-43d6-806f-54c82813eb97",
   "metadata": {},
   "outputs": [],
   "source": [
    "x = jnp.linspace(-1, 1, 100)[:, None]\n",
    "\n",
    "for bandwidth in jnp.arange(0.05, 0.4, 0.05):\n",
    "    y = gaussian_kernel(x, bandwidth=bandwidth)\n",
    "    plt.plot(x, y, label=str(bandwidth))\n",
    "\n",
    "plt.legend()\n",
    "plt.grid()"
   ]
  },
  {
   "cell_type": "code",
   "execution_count": null,
   "id": "ea50046a-ba8b-446a-9ea3-baaefd094dbd",
   "metadata": {},
   "outputs": [],
   "source": []
  }
 ],
 "metadata": {
  "kernelspec": {
   "display_name": "Python (conda-dev-base)",
   "language": "python",
   "name": "conda-dev-base"
  },
  "language_info": {
   "codemirror_mode": {
    "name": "ipython",
    "version": 3
   },
   "file_extension": ".py",
   "mimetype": "text/x-python",
   "name": "python",
   "nbconvert_exporter": "python",
   "pygments_lexer": "ipython3",
   "version": "3.11.3"
  }
 },
 "nbformat": 4,
 "nbformat_minor": 5
}
