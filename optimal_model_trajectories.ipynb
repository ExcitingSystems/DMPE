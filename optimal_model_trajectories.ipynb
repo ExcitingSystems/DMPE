{
 "cells": [
  {
   "cell_type": "code",
   "execution_count": null,
   "id": "7a6b8d5c-4794-4c85-b9f9-eb5ca5be7aed",
   "metadata": {},
   "outputs": [],
   "source": [
    "%load_ext autoreload\n",
    "%autoreload 2\n",
    "%reload_ext line_profiler"
   ]
  },
  {
   "cell_type": "code",
   "execution_count": null,
   "id": "3d7b8585-a621-410b-a918-ee2959f06ed5",
   "metadata": {},
   "outputs": [],
   "source": [
    "from functools import partial\n",
    "\n",
    "import time\n",
    "from tqdm.notebook import tqdm\n",
    "import numpy as np\n",
    "import matplotlib.pyplot as plt\n",
    "# plt.rcParams['text.usetex'] = True\n",
    "import plotly.express as px\n",
    "import plotly.graph_objects as go"
   ]
  },
  {
   "cell_type": "code",
   "execution_count": null,
   "id": "4491b88b-2037-43f0-9150-a64a8a95a163",
   "metadata": {},
   "outputs": [],
   "source": [
    "import jax\n",
    "import jax.numpy as jnp\n",
    "\n",
    "import diffrax\n",
    "import equinox as eqx\n",
    "import optax\n",
    "\n",
    "from haiku import PRNGSequence"
   ]
  },
  {
   "cell_type": "code",
   "execution_count": null,
   "id": "6574597b-06ca-402f-b813-de0f9b29d674",
   "metadata": {},
   "outputs": [],
   "source": [
    "import exciting_environments as excenvs\n",
    "\n",
    "from density_estimation import update_kde_grid, update_kde_grid_multiple_observations\n",
    "from metrics import JSDLoss\n",
    "from model_utils import simulate_ahead, simulate_ahead_with_env\n",
    "import plotting_utils\n",
    "from plotting_utils import plot_sequence, append_predictions_to_sequence_plot, plot_sequence_and_prediction\n",
    "from signals import generate_constant_action, aprbs\n",
    "from optimization_utils import loss_function, optimize, soft_penalty"
   ]
  },
  {
   "cell_type": "markdown",
   "id": "1fc862b9-4284-434e-afd8-5912e5384fa3",
   "metadata": {},
   "source": [
    "---"
   ]
  },
  {
   "cell_type": "code",
   "execution_count": null,
   "id": "2eb64331-3dc6-4893-9697-73caf0146777",
   "metadata": {},
   "outputs": [],
   "source": [
    "# setup PRNG\n",
    "key = jax.random.PRNGKey(seed=21)\n",
    "\n",
    "data_key, model_key, key = jax.random.split(key, 3)\n",
    "data_rng = PRNGSequence(data_key)"
   ]
  },
  {
   "cell_type": "code",
   "execution_count": null,
   "id": "eaa8b2a9-3738-4dbe-816f-aa4453b6a6df",
   "metadata": {},
   "outputs": [],
   "source": [
    "batch_size = 20\n",
    "tau = 1e-2\n",
    "\n",
    "env = excenvs.make(\n",
    "    env_id='Pendulum-v0',\n",
    "    batch_size=batch_size,\n",
    "    tau=tau\n",
    ")"
   ]
  },
  {
   "cell_type": "markdown",
   "id": "ba1b452d-0a65-419b-8d61-7cec9fe05c13",
   "metadata": {},
   "source": [
    "### Test simulation:\n",
    "\n",
    "- starting from the intial state/obs ($\\mathbf{x}_0$ / $\\mathbf{y}_0$)\n",
    "- apply $N = 999$ actions $\\mathbf{u}_0 \\dots \\mathbf{u}_N$ (**here**: random APRBS actions)\n",
    "- which results in the state trajectory $\\mathbf{x}_0 ... \\mathbf{x}_N+1$ with $N+1 = 1000$ elements"
   ]
  },
  {
   "cell_type": "code",
   "execution_count": null,
   "id": "bc51c70f-c73b-4f41-8473-a50b1ca389fe",
   "metadata": {},
   "outputs": [],
   "source": [
    "obs, state = env.reset()\n",
    "obs = obs.astype(jnp.float32)\n",
    "state = state.astype(jnp.float32)\n",
    "n_steps = 999\n",
    "\n",
    "actions = aprbs(n_steps, batch_size, 200, 500, next(data_rng))"
   ]
  },
  {
   "cell_type": "code",
   "execution_count": null,
   "id": "7c6d9d84-7744-4d42-8059-883b9f403629",
   "metadata": {},
   "outputs": [],
   "source": [
    "observations = jax.vmap(simulate_ahead_with_env, in_axes=(None, 0, 0, 0, 0, 0, 0))(\n",
    "    env,\n",
    "    obs,\n",
    "    state,\n",
    "    actions,\n",
    "    env.env_state_normalizer,\n",
    "    env.action_normalizer,\n",
    "    env.static_params\n",
    ")\n",
    "\n",
    "print(\"actions.shape:\", actions.shape)\n",
    "print(\"observations.shape:\", observations.shape)\n",
    "\n",
    "print(\" \\n One of the trajectories:\")\n",
    "fig, axs = plot_sequence(\n",
    "    observations=observations[0, ...],\n",
    "    actions=actions[0, ...],\n",
    "    tau=tau,\n",
    "    obs_labels=[r\"$\\theta$\", r\"$\\omega$\"],\n",
    "    action_labels=[r\"$u$\"],\n",
    ");\n",
    "plt.show()"
   ]
  },
  {
   "cell_type": "markdown",
   "id": "d796fcf2-de40-46cc-9942-ce3e1565f6b2",
   "metadata": {},
   "source": [
    "### Optimize trajectory:\n",
    "\n",
    "- use the environment to predict the coming states and use the (perfect) prediction to optimize the trajectories"
   ]
  },
  {
   "cell_type": "code",
   "execution_count": null,
   "id": "2d493bdc-bb02-4fde-9f2f-52982c8ae89b",
   "metadata": {},
   "outputs": [],
   "source": [
    "x1, x2 = [\n",
    "    jnp.linspace(env.env_observation_space.low, env.env_observation_space.high, 40),\n",
    "    jnp.linspace(env.env_observation_space.low, env.env_observation_space.high, 40)\n",
    "]\n",
    "\n",
    "x = jnp.meshgrid(*[x1, x2])\n",
    "x = jnp.stack([x for x in x], axis=-1)\n",
    "x = x.reshape(-1, 2)\n",
    "n_grid_points = x.shape[0]\n",
    "\n",
    "start_n_measurments = jnp.array([0])\n",
    "\n",
    "bandwidth = 0.05\n",
    "p_est = jnp.zeros([batch_size, n_grid_points, 1])\n",
    "\n",
    "target_distribution = jnp.ones(shape=(n_grid_points, 1))\n",
    "target_distribution *= 1 / (env.env_observation_space.high - env.env_observation_space.low)**2\n",
    "\n",
    "n_prediction_steps = 50\n",
    "n_time_steps = 4_999  # results in 5000 observations per trajectory"
   ]
  },
  {
   "cell_type": "code",
   "execution_count": null,
   "id": "29cc9660-d8d8-4a71-9b5d-69990f732883",
   "metadata": {},
   "outputs": [],
   "source": [
    "grad_loss_function = jax.grad(loss_function, argnums=(3))  # derivatve w.r.t. the actions"
   ]
  },
  {
   "cell_type": "code",
   "execution_count": null,
   "id": "2d0eca7c-ec84-4480-ba0d-2e19c2535422",
   "metadata": {},
   "outputs": [],
   "source": [
    "observations = []\n",
    "actions = []\n",
    "\n",
    "obs, state = env.reset()\n",
    "obs = obs.astype(jnp.float32)\n",
    "state = state.astype(jnp.float32)\n",
    "\n",
    "observations.append(obs)\n",
    "\n",
    "proposed_actions = aprbs(n_prediction_steps, batch_size, 20, 50, next(data_rng))\n",
    "\n",
    "for k in tqdm(range(n_time_steps)):\n",
    "    \n",
    "    proposed_actions, final_loss = optimize(\n",
    "        grad_loss_function=grad_loss_function,\n",
    "        proposed_actions=proposed_actions,\n",
    "        model=env,\n",
    "        init_obs=obs,\n",
    "        init_state=state,\n",
    "        p_est=p_est,\n",
    "        x=x,\n",
    "        start_n_measurments=start_n_measurments,\n",
    "        bandwidth=bandwidth,\n",
    "        tau=tau,\n",
    "        target_distribution=target_distribution\n",
    "    )\n",
    "\n",
    "    if k % 1000 == 0 and k > 0:\n",
    "        print(f\"Loss iteration: {k}: {final_loss[0]}\")\n",
    "        fig, axs = plot_sequence_and_prediction(\n",
    "            observations=jnp.stack(observations, axis=1)[0, :],\n",
    "            actions=jnp.stack(actions, axis=1)[0, :],\n",
    "            tau=tau,\n",
    "            obs_labels=[r\"$\\theta$\", r\"$\\omega$\"],\n",
    "            actions_labels=[r\"$u$\"],\n",
    "            model=env,\n",
    "            init_obs=obs[0, :],\n",
    "            init_state=state[0, :],\n",
    "            proposed_actions=proposed_actions[0, :]\n",
    "        )\n",
    "        plt.show()\n",
    "\n",
    "    p_est = jax.vmap(update_kde_grid, in_axes=[0, None, 0, None, None])(\n",
    "        p_est, x, obs, k, bandwidth\n",
    "    )\n",
    "    start_n_measurments = start_n_measurments + 1\n",
    "\n",
    "    action = proposed_actions[:, 0, :]\n",
    "    obs, _, _, _, state = env.step(action, state)\n",
    "    proposed_actions = proposed_actions.at[:, :-1, :].set(proposed_actions[:, 1:, :])\n",
    "\n",
    "    # store current trajectory\n",
    "    actions.append(action)\n",
    "    observations.append(obs)"
   ]
  },
  {
   "cell_type": "code",
   "execution_count": null,
   "id": "1ac49f22-8c08-4bbc-bc83-14553f3faee7",
   "metadata": {
    "scrolled": true
   },
   "outputs": [],
   "source": [
    "for j in range(min(batch_size, 10)):  # plot at max 10 of the batches\n",
    "    fig, axs = plot_sequence(\n",
    "        observations=jnp.stack(observations, axis=1)[j, ...],\n",
    "        actions=jnp.stack(actions, axis=1)[j, ...],\n",
    "        tau=tau,\n",
    "        obs_labels=[r\"$\\theta$\", r\"$\\omega$\"],\n",
    "        action_labels=[r\"$u$\"],\n",
    "    );\n",
    "    plt.show()"
   ]
  },
  {
   "cell_type": "code",
   "execution_count": null,
   "id": "d5ad8062-fb74-47e2-83ba-cdb7f753eeac",
   "metadata": {},
   "outputs": [],
   "source": [
    "p_est = jnp.zeros([n_grid_points, 1])\n",
    "p_est = update_kde_grid_multiple_observations(p_est, x, jnp.stack(observations, axis=1)[1, ...], n_observations=0, bandwidth=bandwidth)\n",
    "fig, axs, cax = plotting_utils.plot_2d_kde_as_contourf(p_est, x, [r\"$\\theta$\", r\"$\\omega$\"])\n",
    "# fig.savefig(\"excited_pendulum_kde_contourf.png\")"
   ]
  },
  {
   "cell_type": "code",
   "execution_count": null,
   "id": "57ecdb07-0538-4447-8d96-c4a1926efd67",
   "metadata": {},
   "outputs": [],
   "source": [
    "p_est = jnp.zeros([n_grid_points, 1])\n",
    "p_est = update_kde_grid_multiple_observations(p_est, x, jnp.stack(observations, axis=1)[0, ...], n_observations=0, bandwidth=bandwidth)\n",
    "fig, axs = plotting_utils.plot_2d_kde_as_surface(p_est, x, [r\"$\\theta$\", r\"$\\omega$\"])\n",
    "fig.suptitle(\"Vanilla KDE\")\n",
    "# fig.savefig(\"excited_pendulum_kde_surface.png\")\n",
    "plt.show()\n",
    "\n",
    "fig, axs = plotting_utils.plot_2d_kde_as_surface(jnp.abs(p_est - target_distribution), x, [r\"$\\theta$\", r\"$\\omega$\"])\n",
    "fig.suptitle(\"Difference\")\n",
    "\n",
    "plt.show()\n",
    "\n",
    "fig, axs, cax = plotting_utils.plot_2d_kde_as_contourf(jnp.abs(p_est - target_distribution), x, [r\"$\\theta$\", r\"$\\omega$\"])\n",
    "plt.colorbar(cax)\n",
    "fig.suptitle(\"Abs Difference\")\n",
    "\n",
    "plt.show()"
   ]
  },
  {
   "cell_type": "markdown",
   "id": "472ba2d7-eff7-45bf-bf37-a26a963e7083",
   "metadata": {},
   "source": [
    "### Learn NODE on optimized trajectory:"
   ]
  },
  {
   "cell_type": "code",
   "execution_count": null,
   "id": "94163dce-cc8e-4877-b2d5-f9983774a848",
   "metadata": {},
   "outputs": [],
   "source": [
    "observations = jnp.stack(observations, axis=1)\n",
    "print(observations.shape)\n",
    "\n",
    "actions = jnp.stack(actions, axis=1)\n",
    "print(actions.shape)"
   ]
  },
  {
   "cell_type": "markdown",
   "id": "5cc5343b-ca84-4e83-83a9-a75294d92a7a",
   "metadata": {},
   "source": [
    "- batches:    \n",
    "    - $u_b: (32, 50, 2)$\n",
    "    - $x_b: (32, 50, 1)$"
   ]
  },
  {
   "cell_type": "code",
   "execution_count": null,
   "id": "8c775278-9886-4b9e-887a-3acf2e559915",
   "metadata": {},
   "outputs": [],
   "source": [
    "from models import NeuralEulerODE, NeuralEulerODEPendulum"
   ]
  },
  {
   "cell_type": "code",
   "execution_count": null,
   "id": "80ce3f9e-0221-4a93-8844-020ebc7f6ca5",
   "metadata": {},
   "outputs": [],
   "source": [
    "def featurize_theta(obs):\n",
    "    \"\"\"The angle itself is difficult to properly interpret in the loss as angles\n",
    "    such as 1.99 * pi and 0 are essentially the same. Therefore the angle is \n",
    "    transformed to sin(phi) and cos(phi) for comparison in the loss.\"\"\"\n",
    "    feat_obs = jnp.stack([jnp.sin(obs[..., 0] * jnp.pi), jnp.cos(obs[..., 0] * jnp.pi), obs[..., 1]], axis=-1)\n",
    "    return feat_obs\n",
    "\n",
    "@eqx.filter_value_and_grad\n",
    "def grad_loss(model, true_obs, actions, tau):\n",
    "  \n",
    "    pred_obs = jax.vmap(simulate_ahead, in_axes=(None, 0, 0, None))(model, true_obs[:, 0, :], actions, tau)\n",
    "\n",
    "    feat_pred_obs = jax.vmap(featurize_theta, in_axes=(0))(pred_obs)\n",
    "    feat_true_obs = jax.vmap(featurize_theta, in_axes=(0))(true_obs)\n",
    "    \n",
    "    return jnp.mean((feat_pred_obs - feat_true_obs) ** 2)\n",
    "\n",
    "@eqx.filter_jit\n",
    "def make_step(model, observations, actions, tau, opt_state):\n",
    "    loss, grads = grad_loss(model, observations, actions, tau)\n",
    "    updates, opt_state = optim.update(grads, opt_state)\n",
    "    model = eqx.apply_updates(model, updates)\n",
    "    return loss, model, opt_state"
   ]
  },
  {
   "cell_type": "code",
   "execution_count": null,
   "id": "5f35a3b5-2cf2-4eb6-a87a-f8561b8da5a4",
   "metadata": {},
   "outputs": [],
   "source": [
    "def dataloader(observations_dataset, actions_dataset, batch_size, *, key):\n",
    "    dataset_size = observations_dataset.shape[0]\n",
    "    assert actions_dataset.shape[0] == dataset_size\n",
    "    assert actions_dataset.shape[1] == observations_dataset.shape[1] - 1\n",
    "\n",
    "    indices = jnp.arange(dataset_size)\n",
    "    \n",
    "    while True:\n",
    "        perm = jax.random.permutation(key, indices)\n",
    "        (key,) = jax.random.split(key, 1)\n",
    "        start = 0\n",
    "        end = batch_size\n",
    "\n",
    "        while end < dataset_size:\n",
    "            batch_perm = perm[start:end]\n",
    "            yield tuple([observations_dataset[batch_perm], actions_dataset[batch_perm]])\n",
    "            start = end\n",
    "            end = start + batch_size"
   ]
  },
  {
   "cell_type": "markdown",
   "id": "3f371bff-4eb2-4931-91c6-061bbc22a087",
   "metadata": {},
   "source": [
    "- training on the gathered trajectories:"
   ]
  },
  {
   "cell_type": "code",
   "execution_count": null,
   "id": "7a4e79b9-e6c4-4282-bb0d-df630bedb5ce",
   "metadata": {},
   "outputs": [],
   "source": [
    "obs_dim = env.env_observation_space.shape[-1]\n",
    "action_dim = env.action_space.shape[-1]\n",
    "\n",
    "model = NeuralEulerODEPendulum(obs_dim=obs_dim, action_dim=action_dim, width_size=128, depth=3, key=model_key)\n",
    "\n",
    "batch_size = 128\n",
    "sequence_length = n_prediction_steps\n",
    "\n",
    "lr = 1e-4\n",
    "n_iters = 5_000\n",
    "print_every = 100\n",
    "\n",
    "observations_dataset = observations.reshape(int(observations.shape[0] * observations.shape[1] / sequence_length), sequence_length, observations.shape[-1])\n",
    "print(\"observations_datset.shape\", observations_dataset.shape)\n",
    "\n",
    "actions_dataset = jnp.concatenate([actions, jnp.ones((actions.shape[0], 1, actions.shape[-1]))], axis=1)\n",
    "actions_dataset = actions_dataset.reshape(int(actions_dataset.shape[0] * actions_dataset.shape[1] / sequence_length), sequence_length, actions_dataset.shape[-1])\n",
    "actions_dataset = actions_dataset[:, :-1, :]\n",
    "print(\"actions_dataset.shape\", actions_dataset.shape)\n",
    "\n",
    "optim = optax.adabelief(lr)\n",
    "opt_state = optim.init(eqx.filter(model, eqx.is_inexact_array))\n",
    "\n",
    "loader_key, key = jax.random.split(key)"
   ]
  },
  {
   "cell_type": "code",
   "execution_count": null,
   "id": "b567b090-5c3f-48c1-ad88-83cb9bad54c2",
   "metadata": {
    "scrolled": true
   },
   "outputs": [],
   "source": [
    "for (iter, (observations_batch, actions_batch)) in zip(range(n_iters), dataloader(observations_dataset, actions_dataset, batch_size=batch_size, key=loader_key)):\n",
    "    pred_obs = jax.vmap(simulate_ahead, in_axes=(None, 0, 0, None))(model, observations_batch[:, 0, :], actions_batch, tau)\n",
    "    \n",
    "    start = time.time()\n",
    "    loss, model, opt_state = make_step(model, observations_batch, actions_batch, tau, opt_state)\n",
    "    end = time.time()\n",
    "\n",
    "    if (iter % print_every) == 0 or iter == n_iters - 1:\n",
    "        print(f\"iter: {iter}, Loss: {loss}, Computation time: {end - start}\")"
   ]
  },
  {
   "cell_type": "markdown",
   "id": "6bbdfdfe-3aa7-4b3d-90de-892259107ebf",
   "metadata": {},
   "source": [
    "- eval on the gathered trajectories:"
   ]
  },
  {
   "cell_type": "code",
   "execution_count": null,
   "id": "c9e3d5e8-99bf-4954-a977-484e0351b580",
   "metadata": {},
   "outputs": [],
   "source": [
    "print(observations.shape)\n",
    "print(actions.shape)"
   ]
  },
  {
   "cell_type": "code",
   "execution_count": null,
   "id": "81270ec0-4054-4aa8-a22d-ad97d2be3325",
   "metadata": {},
   "outputs": [],
   "source": [
    "from plotting_utils import plot_model_performance"
   ]
  },
  {
   "cell_type": "code",
   "execution_count": null,
   "id": "9af13278-19c3-46c9-b1d2-e66cb59016d9",
   "metadata": {},
   "outputs": [],
   "source": [
    "fig, axs = plot_model_performance(\n",
    "    model=model,\n",
    "    true_observations=observations[0, :1000],\n",
    "    actions=actions[0, :999],\n",
    "    tau=tau,\n",
    "    obs_labels=[r\"$\\theta$\", r\"$\\omega$\"],\n",
    "    action_labels=[r\"$u$\"],\n",
    ");\n",
    "plt.plot()"
   ]
  },
  {
   "cell_type": "code",
   "execution_count": null,
   "id": "c2639f9e-6ea2-48c4-a3c4-e4fd41827568",
   "metadata": {
    "scrolled": true
   },
   "outputs": [],
   "source": [
    "# test dataloader and datasets\n",
    "\n",
    "loader_key, key = jax.random.split(key)\n",
    "n_iters = 10\n",
    "\n",
    "for (iter, (observations_batch, actions_batch)) in zip(range(n_iters), dataloader(observations_dataset, actions_dataset, batch_size=batch_size, key=loader_key)):\n",
    "    print(observations_batch.shape)\n",
    "    print(actions_batch.shape)"
   ]
  },
  {
   "cell_type": "markdown",
   "id": "9a4e0959-304d-4cae-95f6-25346bee31ca",
   "metadata": {},
   "source": [
    "### Use learned model to make optimize trajectories"
   ]
  },
  {
   "cell_type": "code",
   "execution_count": null,
   "id": "cbef6523-cef6-4018-a4a7-73751fc8c596",
   "metadata": {
    "scrolled": true
   },
   "outputs": [],
   "source": [
    "model"
   ]
  },
  {
   "cell_type": "code",
   "execution_count": null,
   "id": "89cb16c6-d9d1-4fc4-add2-8ddcb07edf33",
   "metadata": {},
   "outputs": [],
   "source": [
    "env = excenvs.make(\n",
    "    env_id='Pendulum-v0',\n",
    "    batch_size=1,\n",
    "    tau=tau\n",
    ")"
   ]
  },
  {
   "cell_type": "code",
   "execution_count": null,
   "id": "0b292f25-2b23-4ef3-8abe-34dfaf3100f3",
   "metadata": {},
   "outputs": [],
   "source": [
    "x1, x2 = [\n",
    "    jnp.linspace(env.env_observation_space.low, env.env_observation_space.high, 40),\n",
    "    jnp.linspace(env.env_observation_space.low, env.env_observation_space.high, 40)\n",
    "]\n",
    "\n",
    "x = jnp.meshgrid(*[x1, x2])\n",
    "x = jnp.stack([x for x in x], axis=-1)\n",
    "x = x.reshape(-1, 2)\n",
    "n_grid_points = x.shape[0]\n",
    "\n",
    "start_n_measurments = jnp.array([0])\n",
    "\n",
    "bandwidth = 0.05\n",
    "p_est = jnp.zeros([1, n_grid_points, 1])\n",
    "\n",
    "target_distribution = jnp.ones(shape=(n_grid_points, 1))\n",
    "target_distribution *= 1 / (env.env_observation_space.high - env.env_observation_space.low)**2\n",
    "\n",
    "n_prediction_steps = 50\n",
    "n_time_steps = 5_000"
   ]
  },
  {
   "cell_type": "code",
   "execution_count": null,
   "id": "4628ecfb-9d31-483a-b8e9-198a5cf398d3",
   "metadata": {},
   "outputs": [],
   "source": [
    "grad_loss_function = jax.grad(loss_function, argnums=(3))"
   ]
  },
  {
   "cell_type": "code",
   "execution_count": null,
   "id": "e40f2936-68c1-4705-8d31-b5908426a060",
   "metadata": {},
   "outputs": [],
   "source": [
    "observations = []\n",
    "actions = []\n",
    "\n",
    "obs, state = env.reset()\n",
    "obs = obs.astype(jnp.float32)\n",
    "state = state.astype(jnp.float32)\n",
    "\n",
    "observations.append(obs)\n",
    "\n",
    "proposed_actions = aprbs(n_prediction_steps, 1, 20, 50, next(data_rng))\n",
    "\n",
    "for k in tqdm(range(n_time_steps)):\n",
    "    \n",
    "    proposed_actions, final_loss = optimize(\n",
    "        grad_loss_function=grad_loss_function,\n",
    "        proposed_actions=proposed_actions,\n",
    "        model=model,\n",
    "        init_obs=obs,\n",
    "        init_state=state,\n",
    "        p_est=p_est,\n",
    "        x=x,\n",
    "        start_n_measurments=start_n_measurments,\n",
    "        bandwidth=bandwidth,\n",
    "        tau=tau,\n",
    "        target_distribution=target_distribution\n",
    "    )\n",
    "\n",
    "    if k % 1000 == 0 and k > 0:\n",
    "        print(f\"Loss iteration: {k}: {final_loss[0]}\")\n",
    "        fig, axs = plot_sequence_and_prediction(\n",
    "            observations=jnp.stack(observations, axis=1)[0, :],\n",
    "            actions=jnp.stack(actions, axis=1)[0, :],\n",
    "            tau=tau,\n",
    "            obs_labels=[r\"$\\theta$\", r\"$\\omega$\"],\n",
    "            actions_labels=[r\"$u$\"],\n",
    "            model=env,\n",
    "            init_obs=obs[0, :],\n",
    "            init_state=state[0, :],\n",
    "            proposed_actions=proposed_actions[0, :]\n",
    "        )\n",
    "        plt.show()\n",
    "\n",
    "    p_est = jax.vmap(update_kde_grid, in_axes=[0, None, 0, None, None])(\n",
    "        p_est, x, obs, k, bandwidth\n",
    "    )\n",
    "    start_n_measurments = start_n_measurments + 1\n",
    "\n",
    "    action = proposed_actions[:, 0, :]\n",
    "    obs, _, _, _, state = env.step(action, state)\n",
    "    proposed_actions = proposed_actions.at[:, :-1, :].set(proposed_actions[:, 1:, :])\n",
    "\n",
    "    # store current trajectory\n",
    "    actions.append(action)\n",
    "    observations.append(obs)"
   ]
  },
  {
   "cell_type": "code",
   "execution_count": null,
   "id": "1872ff1b-de49-41f7-9cbc-b0542d9b469f",
   "metadata": {},
   "outputs": [],
   "source": [
    "fig, axs = plot_sequence(\n",
    "    observations=jnp.stack(observations),\n",
    "    actions=jnp.stack(actions),\n",
    "    tau=tau,\n",
    "    obs_labels=[r\"$\\theta$\", r\"$\\omega$\"],\n",
    "    action_labels=[r\"$u$\"],\n",
    ");"
   ]
  },
  {
   "cell_type": "markdown",
   "id": "dce4695f-f229-40ab-abf4-30cf71281172",
   "metadata": {},
   "source": [
    "## What has been done in this notebook:\n",
    "- use the perfect model to compute trajectories with informative data\n",
    "- use the gathered data to fit a model\n",
    "- use the fitted model in prediction to produce trajectories"
   ]
  },
  {
   "cell_type": "markdown",
   "id": "012814dc-f120-494d-8d48-e3085529ab5d",
   "metadata": {},
   "source": [
    "### Results:\n",
    "Works decently but the optimization sometimes gets stuck and does the same thing over and over. Just stays in the origin. Not sure if this is just a bug or what is going on here... **To be debugged**"
   ]
  },
  {
   "cell_type": "code",
   "execution_count": null,
   "id": "7f4dfe6c-adb0-4861-a7fc-b30a879d069b",
   "metadata": {},
   "outputs": [],
   "source": []
  }
 ],
 "metadata": {
  "kernelspec": {
   "display_name": "Python (conda-dev-base)",
   "language": "python",
   "name": "conda-dev-base"
  },
  "language_info": {
   "codemirror_mode": {
    "name": "ipython",
    "version": 3
   },
   "file_extension": ".py",
   "mimetype": "text/x-python",
   "name": "python",
   "nbconvert_exporter": "python",
   "pygments_lexer": "ipython3",
   "version": "3.11.3"
  }
 },
 "nbformat": 4,
 "nbformat_minor": 5
}
