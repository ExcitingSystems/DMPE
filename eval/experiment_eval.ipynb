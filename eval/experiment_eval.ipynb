{
 "cells": [
  {
   "cell_type": "code",
   "execution_count": null,
   "id": "e67df9c0-5760-4373-9de1-7cb75b4a8313",
   "metadata": {},
   "outputs": [],
   "source": [
    "%load_ext autoreload\n",
    "%autoreload 2\n",
    "%reload_ext line_profiler"
   ]
  },
  {
   "cell_type": "code",
   "execution_count": null,
   "id": "0c6c1113-0e7c-4bb1-b9d4-b7837f0fd56e",
   "metadata": {},
   "outputs": [],
   "source": [
    "import os\n",
    "os.environ[\"XLA_PYTHON_CLIENT_PREALLOCATE\"]=\"false\"\n",
    "\n",
    "import pathlib\n",
    "from functools import partial\n",
    "\n",
    "import time\n",
    "from tqdm.notebook import tqdm\n",
    "import numpy as np\n",
    "import matplotlib.pyplot as plt\n",
    "import matplotlib as mpl\n",
    "mpl.rcParams['text.usetex'] = True\n",
    "mpl.rcParams['text.latex.preamble']=r\"\\usepackage{bm}\"\n",
    "import plotly.express as px\n",
    "import plotly.graph_objects as go"
   ]
  },
  {
   "cell_type": "code",
   "execution_count": null,
   "id": "be8efd41-e0ae-4435-b8de-917fd06ef1fe",
   "metadata": {},
   "outputs": [],
   "source": [
    "import jax\n",
    "import jax.numpy as jnp\n",
    "# jax.config.update(\"jax_enable_x64\", True)\n",
    "gpus = jax.devices()\n",
    "jax.config.update(\"jax_default_device\", gpus[0])\n",
    "\n",
    "import diffrax\n",
    "import equinox as eqx\n",
    "import optax\n",
    "\n",
    "from haiku import PRNGSequence"
   ]
  },
  {
   "cell_type": "code",
   "execution_count": null,
   "id": "b383fff8-a793-45e9-a707-cde9ebcf9749",
   "metadata": {},
   "outputs": [],
   "source": [
    "import exciting_environments as excenvs\n",
    "\n",
    "import exciting_exciting_systems\n",
    "from exciting_exciting_systems.models import NeuralEulerODEPendulum, NeuralODEPendulum\n",
    "from exciting_exciting_systems.models.model_utils import simulate_ahead_with_env\n",
    "from exciting_exciting_systems.models.model_training import ModelTrainer\n",
    "from exciting_exciting_systems.excitation import loss_function, Exciter\n",
    "\n",
    "from exciting_exciting_systems.utils.density_estimation import (\n",
    "    update_density_estimate_single_observation, update_density_estimate_multiple_observations, DensityEstimate\n",
    ")\n",
    "from exciting_exciting_systems.utils.signals import aprbs\n",
    "from exciting_exciting_systems.evaluation.plotting_utils import (\n",
    "    plot_sequence, append_predictions_to_sequence_plot, plot_sequence_and_prediction, plot_model_performance\n",
    ")\n",
    "from exciting_exciting_systems.evaluation.experiment_utils import (\n",
    "    get_experiment_ids, load_experiment_results, quick_eval_pendulum, evaluate_experiment_metrics, evaluate_algorithm_metrics, evaluate_metrics\n",
    ")"
   ]
  },
  {
   "cell_type": "markdown",
   "id": "2197d6af-f329-4dea-aa0c-1fbf3a4588c0",
   "metadata": {},
   "source": [
    "---"
   ]
  },
  {
   "cell_type": "code",
   "execution_count": null,
   "id": "41e78f02-9a99-455c-b2ff-85dd6d9f6436",
   "metadata": {},
   "outputs": [],
   "source": [
    "def identity(x):\n",
    "    return x\n",
    "\n",
    "def featurize_theta(obs_action):\n",
    "    \"\"\"The angle itself is difficult to properly interpret in the loss as angles\n",
    "    such as 1.99 * pi and 0 are essentially the same. Therefore the angle is \n",
    "    transformed to sin(phi) and cos(phi) for comparison in the loss.\"\"\"\n",
    "\n",
    "    feat_obs_action = np.stack([np.sin(obs_action[..., 0] * np.pi), np.cos(obs_action[..., 0] * np.pi)], axis=-1)\n",
    "    feat_obs_action = np.concatenate([feat_obs_action, obs_action[..., 1:]], axis=-1)\n",
    "    \n",
    "    return feat_obs_action"
   ]
  },
  {
   "cell_type": "markdown",
   "id": "18765787-b032-49bb-849f-4f2e090c4aaf",
   "metadata": {},
   "source": [
    "## DMPE:"
   ]
  },
  {
   "cell_type": "code",
   "execution_count": null,
   "id": "a0286da0-9077-439f-87b5-38c8c42ba7b6",
   "metadata": {
    "scrolled": true
   },
   "outputs": [],
   "source": [
    "batch_size = 1\n",
    "tau = 2e-2\n",
    "\n",
    "env = excenvs.make(\n",
    "    env_id='Pendulum-v0',\n",
    "    batch_size=batch_size,\n",
    "    action_constraints={\"torque\": 8},\n",
    "    static_params={\"g\": 9.81, \"l\": 1, \"m\": 1},\n",
    "    solver=diffrax.Tsit5(),\n",
    "    tau=tau,\n",
    ")"
   ]
  },
  {
   "cell_type": "code",
   "execution_count": null,
   "id": "e78b2899-4399-457f-abf0-afaf129971b9",
   "metadata": {},
   "outputs": [],
   "source": [
    "results_path = pathlib.Path(\"/home/hvater@uni-paderborn.de/projects/exciting-exciting-systems/eval/results/dmpe/\")"
   ]
  },
  {
   "cell_type": "code",
   "execution_count": null,
   "id": "06c2efc7-8271-48d4-81e2-22e14964900b",
   "metadata": {},
   "outputs": [],
   "source": [
    "for identifier in get_experiment_ids(results_path)[-4:]:\n",
    "    quick_eval_pendulum(env, identifier, results_path, NeuralEulerODEPendulum)"
   ]
  },
  {
   "cell_type": "code",
   "execution_count": null,
   "id": "0489d365-d7e7-4bd9-88eb-fcc9aef577ff",
   "metadata": {},
   "outputs": [],
   "source": [
    "params, observations, actions, model = load_experiment_results(\n",
    "    exp_id=get_experiment_ids(results_path)[-2],\n",
    "    results_path=results_path,\n",
    "    model_class=NeuralEulerODEPendulum\n",
    ")"
   ]
  },
  {
   "cell_type": "code",
   "execution_count": null,
   "id": "f57027cc-18a7-4412-b183-5cbdd65bea30",
   "metadata": {},
   "outputs": [],
   "source": [
    "params"
   ]
  },
  {
   "cell_type": "code",
   "execution_count": null,
   "id": "9e333d3b-b98d-4a32-8f65-1a838b4f5487",
   "metadata": {},
   "outputs": [],
   "source": [
    "quick_eval_pendulum(env, get_experiment_ids(results_path)[-2], results_path, NeuralEulerODEPendulum)"
   ]
  },
  {
   "cell_type": "markdown",
   "id": "01842638-6f20-4004-a5fe-6baf79100c49",
   "metadata": {},
   "source": [
    "- why does that one dmpe run diverge?\n",
    "- What does the model look like for the run?\n",
    "\n",
    "-> first reproduce! **Check**\n",
    "- model does predict the behaviour correctly\n",
    "- the input optimization seems to get stuck in that position\n",
    "- Why though?\n",
    "\n",
    "-> Very small gradients in the loss w.r.t. the actions? does not seem to be the case\n",
    "\n",
    "- the learning rate is to small to move the inputs away from their old values, why is it able to do this for other smaller gradients then?"
   ]
  },
  {
   "cell_type": "code",
   "execution_count": null,
   "id": "495fdf7f-9c03-4b50-902b-5884c3756ee7",
   "metadata": {},
   "outputs": [],
   "source": [
    "results = evaluate_experiment_metrics(observations, actions, featurize=identity)"
   ]
  },
  {
   "cell_type": "code",
   "execution_count": null,
   "id": "c660e05d-1326-45cc-abe5-a3d87ba4c8bd",
   "metadata": {},
   "outputs": [],
   "source": [
    "results"
   ]
  },
  {
   "cell_type": "code",
   "execution_count": null,
   "id": "172fdb1b-da68-417c-9580-fe8ba7f46f73",
   "metadata": {},
   "outputs": [],
   "source": [
    "get_experiment_ids(results_path)[-3:]"
   ]
  },
  {
   "cell_type": "code",
   "execution_count": null,
   "id": "f96f4949-f958-40dd-a6df-20462ae0293b",
   "metadata": {},
   "outputs": [],
   "source": [
    "dmpe_results = evaluate_algorithm_metrics(\n",
    "    identifiers=get_experiment_ids(results_path)[-3:],\n",
    "    results_path=results_path,\n",
    ")"
   ]
  },
  {
   "cell_type": "code",
   "execution_count": null,
   "id": "5efdcc99-3266-432f-96e2-06074b1128c8",
   "metadata": {},
   "outputs": [],
   "source": [
    "import pandas as pd"
   ]
  },
  {
   "cell_type": "code",
   "execution_count": null,
   "id": "b0fc2a48-3e27-44b2-9d33-bf2de1fd0315",
   "metadata": {},
   "outputs": [],
   "source": [
    "pd.DataFrame.from_dict(dmpe_results)"
   ]
  },
  {
   "cell_type": "code",
   "execution_count": null,
   "id": "a47e4cfd-a4fe-4c65-ada8-18ff1aa32251",
   "metadata": {
    "scrolled": true
   },
   "outputs": [],
   "source": [
    "results = evaluate_metrics(\n",
    "    algorithm_names=[\"dmpe\", \"sgoats\", \"goats\"],\n",
    "    n_results=8,\n",
    "    results_parent_path=pathlib.Path(\"/home/hvater@uni-paderborn.de/projects/exciting-exciting-systems/eval/results/\"),\n",
    "    featurize=None\n",
    ")\n",
    "results"
   ]
  },
  {
   "cell_type": "code",
   "execution_count": null,
   "id": "f9b76acf-db0b-48d5-b20a-e2a21c3a3f3a",
   "metadata": {},
   "outputs": [],
   "source": [
    "df_dmpe = pd.DataFrame.from_dict(results[\"dmpe\"])\n",
    "df_goats = pd.DataFrame.from_dict(results[\"goats\"])\n",
    "df_sgoats = pd.DataFrame.from_dict(results[\"sgoats\"])\n",
    "\n",
    "df_mean = pd.DataFrame()\n",
    "df_mean[\"dmpe\"] = df_dmpe.mean(axis=0)\n",
    "df_mean[\"goats\"] = df_goats.mean(axis=0)\n",
    "df_mean[\"sgoats\"] = df_sgoats.mean(axis=0)\n",
    "\n",
    "df_std = pd.DataFrame()\n",
    "df_std[\"dmpe\"] = df_dmpe.std(axis=0)\n",
    "df_std[\"goats\"] = df_goats.std(axis=0)\n",
    "df_std[\"sgoats\"] = df_sgoats.std(axis=0)"
   ]
  },
  {
   "cell_type": "code",
   "execution_count": null,
   "id": "2330f016-1a24-4d4b-88bc-05e808f6ad89",
   "metadata": {},
   "outputs": [],
   "source": [
    "df_mean, df_std"
   ]
  },
  {
   "cell_type": "markdown",
   "id": "774e7392-9be9-47b0-83a8-ffa4912d5cfc",
   "metadata": {},
   "source": [
    "## GOATS + sGOATS:"
   ]
  },
  {
   "cell_type": "code",
   "execution_count": null,
   "id": "2847847c-29af-4d6d-b340-b2f72f4b5033",
   "metadata": {},
   "outputs": [],
   "source": [
    "algorithm = \"sgoats\"\n",
    "results_path = pathlib.Path(f\"/home/hvater@uni-paderborn.de/projects/exciting-exciting-systems/eval/results/{algorithm}/\")"
   ]
  },
  {
   "cell_type": "code",
   "execution_count": null,
   "id": "579cdccc-c00a-47d2-9d53-bfd67c3c80bc",
   "metadata": {},
   "outputs": [],
   "source": [
    "identifiers = get_experiment_ids(results_path)\n",
    "identifiers"
   ]
  },
  {
   "cell_type": "code",
   "execution_count": null,
   "id": "02d85778-8056-4dad-8ccf-49d39a3681d1",
   "metadata": {
    "scrolled": true
   },
   "outputs": [],
   "source": [
    "for identifier in get_experiment_ids(results_path):\n",
    "    quick_eval_pendulum(env, identifier, results_path, None)"
   ]
  },
  {
   "cell_type": "markdown",
   "id": "f5bcdfec-bfdf-4bcb-84b3-434e19b3cd9d",
   "metadata": {},
   "source": [
    "## iGOATS:"
   ]
  },
  {
   "cell_type": "code",
   "execution_count": null,
   "id": "6f2a946a-885b-432d-9e55-387c11cb4040",
   "metadata": {},
   "outputs": [],
   "source": []
  }
 ],
 "metadata": {
  "kernelspec": {
   "display_name": "Python 3 (ipykernel)",
   "language": "python",
   "name": "python3"
  },
  "language_info": {
   "codemirror_mode": {
    "name": "ipython",
    "version": 3
   },
   "file_extension": ".py",
   "mimetype": "text/x-python",
   "name": "python",
   "nbconvert_exporter": "python",
   "pygments_lexer": "ipython3",
   "version": "3.11.9"
  }
 },
 "nbformat": 4,
 "nbformat_minor": 5
}
