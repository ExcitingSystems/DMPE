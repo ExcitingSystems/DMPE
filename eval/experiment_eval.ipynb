{
 "cells": [
  {
   "cell_type": "code",
   "execution_count": null,
   "id": "e67df9c0-5760-4373-9de1-7cb75b4a8313",
   "metadata": {},
   "outputs": [],
   "source": [
    "%load_ext autoreload\n",
    "%autoreload 2\n",
    "%reload_ext line_profiler"
   ]
  },
  {
   "cell_type": "code",
   "execution_count": null,
   "id": "0c6c1113-0e7c-4bb1-b9d4-b7837f0fd56e",
   "metadata": {},
   "outputs": [],
   "source": [
    "import os\n",
    "os.environ['CUDA_VISIBLE_DEVICES'] = '0'\n",
    "os.environ[\"XLA_PYTHON_CLIENT_PREALLOCATE\"]=\"false\"\n",
    "\n",
    "import pathlib\n",
    "from functools import partial\n",
    "\n",
    "import time\n",
    "from tqdm.notebook import tqdm\n",
    "import numpy as np\n",
    "import matplotlib.pyplot as plt\n",
    "import matplotlib as mpl\n",
    "mpl.rcParams['text.usetex'] = True\n",
    "mpl.rcParams['text.latex.preamble']=r\"\\usepackage{bm}\"\n",
    "import plotly.express as px\n",
    "import plotly.graph_objects as go"
   ]
  },
  {
   "cell_type": "code",
   "execution_count": null,
   "id": "be8efd41-e0ae-4435-b8de-917fd06ef1fe",
   "metadata": {},
   "outputs": [],
   "source": [
    "import jax\n",
    "import jax.numpy as jnp\n",
    "# jax.config.update(\"jax_enable_x64\", True)\n",
    "gpus = jax.devices()\n",
    "jax.config.update(\"jax_default_device\", gpus[0])\n",
    "\n",
    "import diffrax\n",
    "import equinox as eqx\n",
    "import optax\n",
    "\n",
    "from haiku import PRNGSequence"
   ]
  },
  {
   "cell_type": "code",
   "execution_count": null,
   "id": "b383fff8-a793-45e9-a707-cde9ebcf9749",
   "metadata": {},
   "outputs": [],
   "source": [
    "import exciting_environments as excenvs\n",
    "\n",
    "import exciting_exciting_systems\n",
    "from exciting_exciting_systems.models import NeuralEulerODEPendulum, NeuralODEPendulum, NeuralEulerODE\n",
    "from exciting_exciting_systems.models.model_utils import simulate_ahead_with_env\n",
    "from exciting_exciting_systems.models.model_training import ModelTrainer\n",
    "from exciting_exciting_systems.excitation import loss_function, Exciter\n",
    "\n",
    "from exciting_exciting_systems.utils.density_estimation import (\n",
    "    update_density_estimate_single_observation, update_density_estimate_multiple_observations, DensityEstimate\n",
    ")\n",
    "from exciting_exciting_systems.utils.signals import aprbs\n",
    "from exciting_exciting_systems.evaluation.plotting_utils import (\n",
    "    plot_sequence, append_predictions_to_sequence_plot, plot_sequence_and_prediction, plot_model_performance\n",
    ")\n",
    "from exciting_exciting_systems.evaluation.experiment_utils import (\n",
    "    get_experiment_ids, load_experiment_results, quick_eval, evaluate_experiment_metrics, evaluate_algorithm_metrics, evaluate_metrics\n",
    ")"
   ]
  },
  {
   "cell_type": "markdown",
   "id": "2197d6af-f329-4dea-aa0c-1fbf3a4588c0",
   "metadata": {},
   "source": [
    "---"
   ]
  },
  {
   "cell_type": "code",
   "execution_count": null,
   "id": "41e78f02-9a99-455c-b2ff-85dd6d9f6436",
   "metadata": {},
   "outputs": [],
   "source": [
    "def identity(x):\n",
    "    return x\n",
    "\n",
    "def featurize_theta(obs_action):\n",
    "    \"\"\"The angle itself is difficult to properly interpret in the loss as angles\n",
    "    such as 1.99 * pi and 0 are essentially the same. Therefore the angle is \n",
    "    transformed to sin(phi) and cos(phi) for comparison in the loss.\"\"\"\n",
    "\n",
    "    feat_obs_action = np.stack([np.sin(obs_action[..., 0] * np.pi), np.cos(obs_action[..., 0] * np.pi)], axis=-1)\n",
    "    feat_obs_action = np.concatenate([feat_obs_action, obs_action[..., 1:]], axis=-1)\n",
    "    \n",
    "    return feat_obs_action"
   ]
  },
  {
   "cell_type": "code",
   "execution_count": null,
   "id": "c57b827d-c7ba-427f-ab07-60efa8f7e06a",
   "metadata": {},
   "outputs": [],
   "source": [
    "batch_size = 1\n",
    "tau = 5\n",
    "\n",
    "env_params = dict(\n",
    "    batch_size=batch_size,\n",
    "    tau=tau,\n",
    "    max_height=3,\n",
    "    max_inflow=0.2,\n",
    "    base_area=jnp.pi,\n",
    "    orifice_area=jnp.pi * 0.1**2,\n",
    "    c_d=0.6,\n",
    "    g=9.81,\n",
    "    env_solver=diffrax.Tsit5(),\n",
    ")"
   ]
  },
  {
   "cell_type": "code",
   "execution_count": null,
   "id": "7dd37af6-d9d3-4b73-870b-58d3ac658bd5",
   "metadata": {},
   "outputs": [],
   "source": [
    "batch_size = 1\n",
    "tau = 2e-2\n",
    "\n",
    "env = excenvs.make(\n",
    "    env_id='Pendulum-v0',\n",
    "    batch_size=batch_size,\n",
    "    action_constraints={\"torque\": 5},\n",
    "    static_params={\"g\": 9.81, \"l\": 1, \"m\": 1},\n",
    "    solver=diffrax.Tsit5(),\n",
    "    tau=tau,\n",
    ")"
   ]
  },
  {
   "cell_type": "code",
   "execution_count": null,
   "id": "406f23c7-c7df-49a9-a06d-7ca36cfd9ac9",
   "metadata": {},
   "outputs": [],
   "source": [
    "# env_params = dict(\n",
    "#     batch_size=1,\n",
    "#     tau=2e-2,\n",
    "#     max_force=5,\n",
    "#     static_params={\n",
    "#         \"mu_p\": 0,\n",
    "#         \"mu_c\": 0,\n",
    "#         \"l\": 1,\n",
    "#         \"m_p\": 1,\n",
    "#         \"m_c\": 1,\n",
    "#         \"g\": 9.81,\n",
    "#     },\n",
    "#     physical_constraints={\n",
    "#         \"deflection\": 1,\n",
    "#         \"velocity\": 10,\n",
    "#         \"theta\": jnp.pi,\n",
    "#         \"omega\": 10,\n",
    "#     },\n",
    "#     env_solver=diffrax.Tsit5(),\n",
    "# )\n",
    "# env = excenvs.make(\n",
    "#     env_id=\"CartPole-v0\",\n",
    "#     batch_size=env_params[\"batch_size\"],\n",
    "#     action_constraints={\"force\": env_params[\"max_force\"]},\n",
    "#     physical_constraints=env_params[\"physical_constraints\"],\n",
    "#     static_params=env_params[\"static_params\"],\n",
    "#     solver=env_params[\"env_solver\"],\n",
    "#     tau=env_params[\"tau\"],\n",
    "# )"
   ]
  },
  {
   "cell_type": "markdown",
   "id": "18765787-b032-49bb-849f-4f2e090c4aaf",
   "metadata": {},
   "source": [
    "## DMPE quick experiment eval:"
   ]
  },
  {
   "cell_type": "code",
   "execution_count": null,
   "id": "06c2efc7-8271-48d4-81e2-22e14964900b",
   "metadata": {},
   "outputs": [],
   "source": [
    "results_path = pathlib.Path(\"/home/hvater@uni-paderborn.de/projects/exciting-exciting-systems/eval/results/igoats/fluid_tank\")\n",
    "\n",
    "for exp_idx, identifier in enumerate(get_experiment_ids(results_path)):\n",
    "    print(exp_idx)\n",
    "    quick_eval(env, identifier, results_path, None)"
   ]
  },
  {
   "cell_type": "code",
   "execution_count": null,
   "id": "7ed1b7f9-13eb-48f6-920c-d7e0f7e80a32",
   "metadata": {},
   "outputs": [],
   "source": [
    "len(get_experiment_ids(results_path))"
   ]
  },
  {
   "cell_type": "code",
   "execution_count": null,
   "id": "4406ced9-3d7f-48bc-bf00-97fd716d3cdf",
   "metadata": {},
   "outputs": [],
   "source": [
    "params, observations, actions, model = load_experiment_results(get_experiment_ids(results_path)[-1], results_path, None)"
   ]
  },
  {
   "cell_type": "code",
   "execution_count": null,
   "id": "06d174fd-9d0b-4e92-9e48-6f35616d2cc5",
   "metadata": {},
   "outputs": [],
   "source": [
    "observations.shape"
   ]
  },
  {
   "cell_type": "code",
   "execution_count": null,
   "id": "40de0769-fc2b-4aa9-bceb-e91cb626de14",
   "metadata": {
    "scrolled": true
   },
   "outputs": [],
   "source": [
    "a = 3000\n",
    "b = a+1000\n",
    "\n",
    "plt.plot(observations[a:b, 0])\n",
    "plt.show()\n",
    "plt.plot(observations[a:b, 1])\n",
    "plt.show()\n",
    "plt.plot(observations[a:b, 2])\n",
    "plt.show()\n",
    "plt.plot(observations[a:b, 3])\n",
    "plt.show()\n",
    "\n",
    "plt.plot(actions[a:b, 0])\n",
    "plt.show()"
   ]
  },
  {
   "cell_type": "markdown",
   "id": "48d0222e-cd12-4a36-9b2a-aaa80904cad1",
   "metadata": {},
   "source": [
    "- how do you even evaluate the coverage for 5d?"
   ]
  },
  {
   "cell_type": "code",
   "execution_count": null,
   "id": "8c3b8398-1427-4947-b41a-f60fc312f4ba",
   "metadata": {},
   "outputs": [],
   "source": []
  },
  {
   "cell_type": "code",
   "execution_count": null,
   "id": "2aa8f052-ea15-41c9-8a48-df8a13c997c2",
   "metadata": {},
   "outputs": [],
   "source": []
  },
  {
   "cell_type": "code",
   "execution_count": null,
   "id": "e7bd34ff-77f3-4282-9f04-c881891f44f6",
   "metadata": {
    "scrolled": true
   },
   "outputs": [],
   "source": [
    "results_path = pathlib.Path(\"/home/hvater@uni-paderborn.de/projects/exciting-exciting-systems/eval/results/dmpe/pendulum\")\n",
    "\n",
    "for exp_idx, identifier in enumerate(get_experiment_ids(results_path)):\n",
    "    print(exp_idx)\n",
    "    quick_eval_pendulum(env, identifier, results_path, None)"
   ]
  },
  {
   "cell_type": "markdown",
   "id": "9877dc0e-7480-41aa-9904-813cfe969caf",
   "metadata": {},
   "source": [
    "---"
   ]
  },
  {
   "cell_type": "code",
   "execution_count": null,
   "id": "af532f25-1e1b-4eb6-9e7a-cd449b591624",
   "metadata": {},
   "outputs": [],
   "source": [
    "params, observations, actions, model = load_experiment_results(get_experiment_ids(results_path)[0], results_path, None)"
   ]
  },
  {
   "cell_type": "code",
   "execution_count": null,
   "id": "62be697a-db84-4e28-8f87-83a6c2234bad",
   "metadata": {},
   "outputs": [],
   "source": [
    "plot_sequence(observations, actions, env.tau, env.obs_description, env.action_description)"
   ]
  },
  {
   "cell_type": "code",
   "execution_count": null,
   "id": "9322ed6e-5064-40d2-87fa-300edee08f95",
   "metadata": {},
   "outputs": [],
   "source": [
    "density_est = DensityEstimate.from_dataset(observations, actions, points_per_dim=50, bandwidth=0.01)\n",
    "exciting_exciting_systems.evaluation.plotting_utils.plot_2d_kde_as_contourf(\n",
    "    density_est.p, density_est.x_g, [env.obs_description[0], env.action_description[0]]\n",
    ")\n",
    "plt.scatter(density_est.x_g[:, 0], density_est.x_g[:, 1], s=1)"
   ]
  },
  {
   "cell_type": "code",
   "execution_count": null,
   "id": "844b9029-9606-409e-8b38-e09ac714dff9",
   "metadata": {},
   "outputs": [],
   "source": [
    "density_est = DensityEstimate.from_dataset(observations, actions, points_per_dim=50, bandwidth=0.05)\n",
    "exciting_exciting_systems.evaluation.plotting_utils.plot_2d_kde_as_contourf(\n",
    "    density_est.p, density_est.x_g, [env.obs_description[0], env.action_description[0]]\n",
    ")"
   ]
  },
  {
   "cell_type": "code",
   "execution_count": null,
   "id": "a3951ef9-169f-4073-b376-64e5a846b2f2",
   "metadata": {},
   "outputs": [],
   "source": []
  },
  {
   "cell_type": "markdown",
   "id": "b1031833-a94f-469b-b956-aaaea7b47203",
   "metadata": {
    "jp-MarkdownHeadingCollapsed": true
   },
   "source": [
    "## GOATS quick experiment eval:"
   ]
  },
  {
   "cell_type": "code",
   "execution_count": null,
   "id": "dc1f4ea4-f614-424d-9085-e9399c01eeeb",
   "metadata": {
    "scrolled": true
   },
   "outputs": [],
   "source": [
    "results_path = pathlib.Path(\"/home/hvater@uni-paderborn.de/projects/exciting-exciting-systems/eval/results/sgoats/fluid_tank/\")\n",
    "\n",
    "for idx, identifier in enumerate(get_experiment_ids(results_path)):\n",
    "    print(idx)\n",
    "    quick_eval(env, identifier, results_path, None)"
   ]
  },
  {
   "cell_type": "code",
   "execution_count": null,
   "id": "f28e14fb-8246-4390-b101-85c8c23ae23a",
   "metadata": {},
   "outputs": [],
   "source": [
    "20 * 20 * tau"
   ]
  },
  {
   "cell_type": "code",
   "execution_count": null,
   "id": "972919df-bfc3-4123-83fd-35363dc19dad",
   "metadata": {},
   "outputs": [],
   "source": [
    "20 * 100 * tau"
   ]
  },
  {
   "cell_type": "code",
   "execution_count": null,
   "id": "41e5b5e3-23d2-4093-a35d-41b34202df32",
   "metadata": {},
   "outputs": [],
   "source": [
    "tau"
   ]
  },
  {
   "cell_type": "code",
   "execution_count": null,
   "id": "17285d04-d0b6-492e-a1a7-af7fcf44af87",
   "metadata": {},
   "outputs": [],
   "source": [
    "params, observations, actions, model = load_experiment_results(get_experiment_ids(results_path)[1], results_path, None)\n",
    "observations.shape"
   ]
  },
  {
   "cell_type": "code",
   "execution_count": null,
   "id": "cbcfefe4-ff67-4f89-a702-5d5b39d3e738",
   "metadata": {},
   "outputs": [],
   "source": []
  },
  {
   "cell_type": "code",
   "execution_count": null,
   "id": "50b3b548-150e-427a-bff7-98d0e7fd5a37",
   "metadata": {},
   "outputs": [],
   "source": [
    "results_path = pathlib.Path(\"/home/hvater@uni-paderborn.de/projects/exciting-exciting-systems/eval/results/igoats/fluid_tank/\")\n",
    "\n",
    "for idx, identifier in enumerate(get_experiment_ids(results_path)[-1:]):\n",
    "    print(idx)\n",
    "    quick_eval_pendulum(env, identifier, results_path, None)"
   ]
  },
  {
   "cell_type": "markdown",
   "id": "148f98ab-ff64-4ea7-accc-115b69fc8fc9",
   "metadata": {
    "jp-MarkdownHeadingCollapsed": true
   },
   "source": [
    "## Checkout difference in support points in metric computation for sGOATS"
   ]
  },
  {
   "cell_type": "code",
   "execution_count": null,
   "id": "eaee00d6-ff72-45a7-b1da-ed5e2ad62f65",
   "metadata": {},
   "outputs": [],
   "source": [
    "from exciting_exciting_systems.evaluation.experiment_utils import extract_metrics_over_timesteps"
   ]
  },
  {
   "cell_type": "code",
   "execution_count": null,
   "id": "106faf08-311f-4a8b-8b1e-7a35428cf3f0",
   "metadata": {
    "scrolled": true
   },
   "outputs": [],
   "source": [
    "results_path = pathlib.Path(\"/home/hvater@uni-paderborn.de/projects/exciting-exciting-systems/eval/results/sgoats/pendulum\")\n",
    "\n",
    "for idx, identifier in enumerate(get_experiment_ids(results_path)):\n",
    "    print(idx)\n",
    "    quick_eval_pendulum(env, identifier, results_path, None)"
   ]
  },
  {
   "cell_type": "code",
   "execution_count": null,
   "id": "d4a9f010-be8f-4e29-87a1-3af98cff557b",
   "metadata": {},
   "outputs": [],
   "source": [
    "params, observations, actions, _ = load_experiment_results(get_experiment_ids(results_path)[:1][0], results_path, None, to_array=False)"
   ]
  },
  {
   "cell_type": "code",
   "execution_count": null,
   "id": "65a1171f-ac5f-4dfa-8fdd-4dac39f5e7ac",
   "metadata": {},
   "outputs": [],
   "source": [
    "len(observations)"
   ]
  },
  {
   "cell_type": "code",
   "execution_count": null,
   "id": "256e00d1-7cb1-4f1c-a45a-b9343fa4669d",
   "metadata": {},
   "outputs": [],
   "source": [
    "lengths = jnp.linspace(1000, 15000, 15, dtype=jnp.int32)\n",
    "results_set_dist = extract_metrics_over_timesteps(\n",
    "    experiment_ids=get_experiment_ids(results_path)[:1],\n",
    "    results_path=results_path,\n",
    "    lengths=lengths,\n",
    ")"
   ]
  },
  {
   "cell_type": "code",
   "execution_count": null,
   "id": "432a3f47-0ef2-41a8-89a1-560dfbf27640",
   "metadata": {},
   "outputs": [],
   "source": [
    "lengths = [len(subsequence) for subsequence in observations]\n",
    "lengths = np.cumsum(lengths[:-1])\n",
    "lengths"
   ]
  },
  {
   "cell_type": "code",
   "execution_count": null,
   "id": "724b26c3-4f82-4eae-8955-b994119cdea4",
   "metadata": {},
   "outputs": [],
   "source": [
    "lengths"
   ]
  },
  {
   "cell_type": "code",
   "execution_count": null,
   "id": "a70ca0be-93ec-4105-b221-05d56f77e99c",
   "metadata": {
    "scrolled": true
   },
   "outputs": [],
   "source": [
    "results_nonset_dist = extract_metrics_over_timesteps(\n",
    "    experiment_ids=get_experiment_ids(results_path)[:1],\n",
    "    results_path=results_path,\n",
    "    lengths=lengths,\n",
    ")"
   ]
  },
  {
   "cell_type": "code",
   "execution_count": null,
   "id": "91579a8c-4a5a-4267-a2cd-1981618298a9",
   "metadata": {},
   "outputs": [],
   "source": [
    "def plot_metrics_by_sequence_length_for_all_algos(data_per_algo, lengths, algo_names, use_log=False):\n",
    "    assert len(data_per_algo) == len(algo_names), \"Mismatch in number of algo results and number of algo names\"\n",
    "\n",
    "    metric_keys = data_per_algo[0].keys()\n",
    "\n",
    "    fig, axs = plt.subplots(3, figsize=(19, 18), sharex=True)\n",
    "    colors = plt.rcParams[\"axes.prop_cycle\"]()\n",
    "\n",
    "    for length, algo_name, data in zip(lengths, algo_names, data_per_algo):\n",
    "        c = next(colors)[\"color\"]\n",
    "\n",
    "        for metric_idx, metric_key in enumerate(metric_keys):\n",
    "            mean = jnp.nanmean(jnp.log(data[metric_key]), axis=0) if use_log else jnp.nanmean(data[metric_key], axis=0)\n",
    "            std = jnp.nanstd(jnp.log(data[metric_key]), axis=0) if use_log else jnp.nanstd(data[metric_key], axis=0)\n",
    "\n",
    "            axs[metric_idx].plot(\n",
    "                length,\n",
    "                mean,  # jnp.log(mean) if use_log else mean,\n",
    "                label=algo_name,\n",
    "                color=c,\n",
    "            )\n",
    "            axs[metric_idx].fill_between(\n",
    "                length,\n",
    "                mean - std,  # jnp.log(mean - std) if use_log else mean - std,\n",
    "                mean + std,  # jnp.log(mean + std) if use_log else mean + std,\n",
    "                color=c,\n",
    "                alpha=0.1,\n",
    "            )\n",
    "            axs[metric_idx].set_ylabel((\"log \" if use_log else \"\") + metric_key)\n",
    "\n",
    "    for idx, metric_key in enumerate(metric_keys):\n",
    "        axs[idx].set_ylabel(f\"$\\mathcal{{L}}_\\mathrm{{{metric_key.upper()}}}$\")\n",
    "\n",
    "    axs[-1].set_xlabel(\"$\\mathrm{timesteps}$\")\n",
    "    axs[-1].set_xlim(lengths[0][0] - 100, lengths[0][-1] + 100)\n",
    "    [ax.grid(True) for ax in axs]\n",
    "    axs[0].legend()\n",
    "    plt.tight_layout()\n",
    "\n",
    "    return fig\n"
   ]
  },
  {
   "cell_type": "code",
   "execution_count": null,
   "id": "5599a0e3-2a54-4bba-a3f5-775e8f598661",
   "metadata": {},
   "outputs": [],
   "source": [
    "plot_metrics_by_sequence_length_for_all_algos(\n",
    "    [results_set_dist, results_nonset_dist],\n",
    "    [jnp.linspace(1000, 15000, 15, dtype=jnp.int32), lengths],\n",
    "    [\"set\", \"nonset\"],\n",
    ")"
   ]
  },
  {
   "cell_type": "code",
   "execution_count": null,
   "id": "fabdec7c-f291-48fe-b591-3fc8762a4034",
   "metadata": {},
   "outputs": [],
   "source": []
  }
 ],
 "metadata": {
  "kernelspec": {
   "display_name": "Python 3 (ipykernel)",
   "language": "python",
   "name": "python3"
  },
  "language_info": {
   "codemirror_mode": {
    "name": "ipython",
    "version": 3
   },
   "file_extension": ".py",
   "mimetype": "text/x-python",
   "name": "python",
   "nbconvert_exporter": "python",
   "pygments_lexer": "ipython3",
   "version": "3.11.9"
  }
 },
 "nbformat": 4,
 "nbformat_minor": 5
}
