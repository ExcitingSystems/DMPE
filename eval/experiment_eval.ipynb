{
 "cells": [
  {
   "cell_type": "code",
   "execution_count": null,
   "id": "e67df9c0-5760-4373-9de1-7cb75b4a8313",
   "metadata": {},
   "outputs": [],
   "source": [
    "%load_ext autoreload\n",
    "%autoreload 2\n",
    "%reload_ext line_profiler"
   ]
  },
  {
   "cell_type": "code",
   "execution_count": null,
   "id": "0c6c1113-0e7c-4bb1-b9d4-b7837f0fd56e",
   "metadata": {},
   "outputs": [],
   "source": [
    "import pathlib\n",
    "from functools import partial\n",
    "\n",
    "import time\n",
    "from tqdm.notebook import tqdm\n",
    "import numpy as np\n",
    "import matplotlib.pyplot as plt\n",
    "import matplotlib as mpl\n",
    "mpl.rcParams['text.usetex'] = True\n",
    "mpl.rcParams['text.latex.preamble']=r\"\\usepackage{bm}\"\n",
    "import plotly.express as px\n",
    "import plotly.graph_objects as go"
   ]
  },
  {
   "cell_type": "code",
   "execution_count": null,
   "id": "be8efd41-e0ae-4435-b8de-917fd06ef1fe",
   "metadata": {},
   "outputs": [],
   "source": [
    "import jax\n",
    "import jax.numpy as jnp\n",
    "# jax.config.update(\"jax_enable_x64\", True)\n",
    "import diffrax\n",
    "import equinox as eqx\n",
    "import optax\n",
    "\n",
    "from haiku import PRNGSequence"
   ]
  },
  {
   "cell_type": "code",
   "execution_count": null,
   "id": "b383fff8-a793-45e9-a707-cde9ebcf9749",
   "metadata": {},
   "outputs": [],
   "source": [
    "import exciting_environments as excenvs\n",
    "\n",
    "import exciting_exciting_systems\n",
    "from exciting_exciting_systems.models import NeuralEulerODEPendulum, NeuralODEPendulum\n",
    "from exciting_exciting_systems.models.model_utils import simulate_ahead_with_env\n",
    "from exciting_exciting_systems.models.model_training import ModelTrainer\n",
    "from exciting_exciting_systems.excitation import loss_function, Exciter\n",
    "\n",
    "from exciting_exciting_systems.utils.density_estimation import (\n",
    "    update_density_estimate_single_observation, update_density_estimate_multiple_observations, DensityEstimate\n",
    ")\n",
    "from exciting_exciting_systems.utils.signals import aprbs\n",
    "from exciting_exciting_systems.evaluation.plotting_utils import (\n",
    "    plot_sequence, append_predictions_to_sequence_plot, plot_sequence_and_prediction, plot_model_performance\n",
    ")\n",
    "from exciting_exciting_systems.evaluation.experiment_utils import (\n",
    "    get_experiment_ids, load_experiment_results, quick_eval_pendulum\n",
    ")"
   ]
  },
  {
   "cell_type": "markdown",
   "id": "2197d6af-f329-4dea-aa0c-1fbf3a4588c0",
   "metadata": {},
   "source": [
    "---"
   ]
  },
  {
   "cell_type": "markdown",
   "id": "18765787-b032-49bb-849f-4f2e090c4aaf",
   "metadata": {},
   "source": [
    "## DMPE:"
   ]
  },
  {
   "cell_type": "code",
   "execution_count": null,
   "id": "a0286da0-9077-439f-87b5-38c8c42ba7b6",
   "metadata": {
    "scrolled": true
   },
   "outputs": [],
   "source": [
    "batch_size = 1\n",
    "tau = 2e-2\n",
    "\n",
    "env = excenvs.make(\n",
    "    env_id='Pendulum-v0',\n",
    "    batch_size=batch_size,\n",
    "    action_constraints={\"torque\": 8},\n",
    "    static_params={\"g\": 9.81, \"l\": 1, \"m\": 1},\n",
    "    solver=diffrax.Tsit5(),\n",
    "    tau=tau,\n",
    ")"
   ]
  },
  {
   "cell_type": "code",
   "execution_count": null,
   "id": "e78b2899-4399-457f-abf0-afaf129971b9",
   "metadata": {},
   "outputs": [],
   "source": [
    "results_path = pathlib.Path(\"/home/hvater@uni-paderborn.de/projects/exciting-exciting-systems/eval/results/dmpe/\")"
   ]
  },
  {
   "cell_type": "code",
   "execution_count": null,
   "id": "06c2efc7-8271-48d4-81e2-22e14964900b",
   "metadata": {
    "scrolled": true
   },
   "outputs": [],
   "source": [
    "for identifier in get_experiment_ids(results_path):\n",
    "    quick_eval_pendulum(env, identifier, results_path, NeuralEulerODEPendulum)"
   ]
  },
  {
   "cell_type": "markdown",
   "id": "774e7392-9be9-47b0-83a8-ffa4912d5cfc",
   "metadata": {},
   "source": [
    "## GOATS + sGOATS:"
   ]
  },
  {
   "cell_type": "code",
   "execution_count": null,
   "id": "2847847c-29af-4d6d-b340-b2f72f4b5033",
   "metadata": {},
   "outputs": [],
   "source": [
    "algorithm = \"sgoats\"\n",
    "results_path = pathlib.Path(f\"/home/hvater@uni-paderborn.de/projects/exciting-exciting-systems/eval/results/{algorithm}/\")"
   ]
  },
  {
   "cell_type": "code",
   "execution_count": null,
   "id": "579cdccc-c00a-47d2-9d53-bfd67c3c80bc",
   "metadata": {},
   "outputs": [],
   "source": [
    "identifiers = get_experiment_ids(results_path)\n",
    "identifiers"
   ]
  },
  {
   "cell_type": "code",
   "execution_count": null,
   "id": "02d85778-8056-4dad-8ccf-49d39a3681d1",
   "metadata": {
    "scrolled": true
   },
   "outputs": [],
   "source": [
    "for identifier in get_experiment_ids(results_path):\n",
    "    quick_eval_pendulum(env, identifier, results_path, None)"
   ]
  },
  {
   "cell_type": "markdown",
   "id": "f5bcdfec-bfdf-4bcb-84b3-434e19b3cd9d",
   "metadata": {},
   "source": [
    "## iGOATS:"
   ]
  },
  {
   "cell_type": "code",
   "execution_count": null,
   "id": "6f2a946a-885b-432d-9e55-387c11cb4040",
   "metadata": {},
   "outputs": [],
   "source": []
  }
 ],
 "metadata": {
  "kernelspec": {
   "display_name": "Python 3 (ipykernel)",
   "language": "python",
   "name": "python3"
  },
  "language_info": {
   "codemirror_mode": {
    "name": "ipython",
    "version": 3
   },
   "file_extension": ".py",
   "mimetype": "text/x-python",
   "name": "python",
   "nbconvert_exporter": "python",
   "pygments_lexer": "ipython3",
   "version": "3.11.9"
  }
 },
 "nbformat": 4,
 "nbformat_minor": 5
}
