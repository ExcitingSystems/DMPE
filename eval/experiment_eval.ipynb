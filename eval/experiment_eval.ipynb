{
 "cells": [
  {
   "cell_type": "code",
   "execution_count": null,
   "id": "e67df9c0-5760-4373-9de1-7cb75b4a8313",
   "metadata": {
    "scrolled": true
   },
   "outputs": [],
   "source": [
    "%load_ext autoreload\n",
    "%autoreload 2\n",
    "%reload_ext line_profiler"
   ]
  },
  {
   "cell_type": "code",
   "execution_count": null,
   "id": "0c6c1113-0e7c-4bb1-b9d4-b7837f0fd56e",
   "metadata": {},
   "outputs": [],
   "source": [
    "import os\n",
    "os.environ['CUDA_VISIBLE_DEVICES'] = '0'\n",
    "os.environ[\"XLA_PYTHON_CLIENT_PREALLOCATE\"]=\"false\"\n",
    "\n",
    "import pathlib\n",
    "from functools import partial\n",
    "\n",
    "import time\n",
    "from tqdm.notebook import tqdm\n",
    "import numpy as np\n",
    "import matplotlib.pyplot as plt\n",
    "import matplotlib as mpl\n",
    "mpl.rcParams['text.usetex'] = True\n",
    "mpl.rcParams['text.latex.preamble']=r\"\\usepackage{bm}\"\n",
    "import plotly.express as px\n",
    "import plotly.graph_objects as go"
   ]
  },
  {
   "cell_type": "code",
   "execution_count": null,
   "id": "be8efd41-e0ae-4435-b8de-917fd06ef1fe",
   "metadata": {},
   "outputs": [],
   "source": [
    "import jax\n",
    "import jax.numpy as jnp\n",
    "# jax.config.update(\"jax_enable_x64\", True)\n",
    "gpus = jax.devices()\n",
    "jax.config.update(\"jax_default_device\", gpus[0])\n",
    "\n",
    "import diffrax\n",
    "import equinox as eqx\n",
    "import optax\n",
    "\n",
    "from haiku import PRNGSequence"
   ]
  },
  {
   "cell_type": "code",
   "execution_count": null,
   "id": "b383fff8-a793-45e9-a707-cde9ebcf9749",
   "metadata": {},
   "outputs": [],
   "source": [
    "import exciting_environments as excenvs\n",
    "\n",
    "import dmpe\n",
    "from dmpe.models import NeuralEulerODEPendulum, NeuralODEPendulum, NeuralEulerODE, NeuralEulerODECartpole\n",
    "from dmpe.models.model_utils import simulate_ahead_with_env\n",
    "from dmpe.models.model_training import ModelTrainer\n",
    "from dmpe.excitation import loss_function, Exciter\n",
    "\n",
    "from dmpe.utils.density_estimation import (\n",
    "    update_density_estimate_single_observation, update_density_estimate_multiple_observations, DensityEstimate\n",
    ")\n",
    "from dmpe.utils.signals import aprbs\n",
    "from dmpe.evaluation.plotting_utils import (\n",
    "    plot_sequence, append_predictions_to_sequence_plot, plot_sequence_and_prediction, plot_model_performance\n",
    ")\n",
    "from dmpe.evaluation.experiment_utils import (\n",
    "    get_experiment_ids, load_experiment_results, quick_eval, evaluate_experiment_metrics, evaluate_algorithm_metrics, evaluate_metrics\n",
    ")\n",
    "from dmpe.utils.density_estimation import select_bandwidth\n",
    "from dmpe.evaluation.experiment_utils import default_jsd, default_ae, default_mcudsa, default_ksfc"
   ]
  },
  {
   "cell_type": "markdown",
   "id": "2197d6af-f329-4dea-aa0c-1fbf3a4588c0",
   "metadata": {},
   "source": [
    "---"
   ]
  },
  {
   "cell_type": "code",
   "execution_count": null,
   "id": "41e78f02-9a99-455c-b2ff-85dd6d9f6436",
   "metadata": {},
   "outputs": [],
   "source": [
    "def identity(x):\n",
    "    return x\n",
    "\n",
    "def featurize_theta(obs_action):\n",
    "    \"\"\"The angle itself is difficult to properly interpret in the loss as angles\n",
    "    such as 1.99 * pi and 0 are essentially the same. Therefore the angle is \n",
    "    transformed to sin(phi) and cos(phi) for comparison in the loss.\"\"\"\n",
    "\n",
    "    feat_obs_action = np.stack([np.sin(obs_action[..., 0] * np.pi), np.cos(obs_action[..., 0] * np.pi)], axis=-1)\n",
    "    feat_obs_action = np.concatenate([feat_obs_action, obs_action[..., 1:]], axis=-1)\n",
    "    \n",
    "    return feat_obs_action"
   ]
  },
  {
   "cell_type": "code",
   "execution_count": null,
   "id": "c57b827d-c7ba-427f-ab07-60efa8f7e06a",
   "metadata": {},
   "outputs": [],
   "source": [
    "batch_size = 1\n",
    "tau = 5\n",
    "\n",
    "env_params = dict(\n",
    "    batch_size=batch_size,\n",
    "    tau=tau,\n",
    "    max_height=3,\n",
    "    max_inflow=0.2,\n",
    "    base_area=jnp.pi,\n",
    "    orifice_area=jnp.pi * 0.1**2,\n",
    "    c_d=0.6,\n",
    "    g=9.81,\n",
    "    env_solver=diffrax.Tsit5(),\n",
    ")\n",
    "env = excenvs.make(\n",
    "    \"FluidTank-v0\",\n",
    "    physical_constraints=dict(height=env_params[\"max_height\"]),\n",
    "    action_constraints=dict(inflow=env_params[\"max_inflow\"]),\n",
    "    static_params=dict(\n",
    "        base_area=env_params[\"base_area\"],\n",
    "        orifice_area=env_params[\"orifice_area\"],\n",
    "        c_d=env_params[\"c_d\"],\n",
    "        g=env_params[\"g\"],\n",
    "    ),\n",
    "    tau=env_params[\"tau\"],\n",
    "    solver=env_params[\"env_solver\"],\n",
    ")"
   ]
  },
  {
   "cell_type": "code",
   "execution_count": null,
   "id": "7dd37af6-d9d3-4b73-870b-58d3ac658bd5",
   "metadata": {},
   "outputs": [],
   "source": [
    "batch_size = 1\n",
    "tau = 2e-2\n",
    "\n",
    "env = excenvs.make(\n",
    "    env_id='Pendulum-v0',\n",
    "    batch_size=batch_size,\n",
    "    action_constraints={\"torque\": 5},\n",
    "    static_params={\"g\": 9.81, \"l\": 1, \"m\": 1},\n",
    "    solver=diffrax.Tsit5(),\n",
    "    tau=tau,\n",
    ")"
   ]
  },
  {
   "cell_type": "code",
   "execution_count": null,
   "id": "406f23c7-c7df-49a9-a06d-7ca36cfd9ac9",
   "metadata": {},
   "outputs": [],
   "source": [
    "env_params = dict(\n",
    "    batch_size=1,\n",
    "    tau=2e-2,\n",
    "    max_force=10,\n",
    "    static_params={\n",
    "        \"mu_p\": 0.002,\n",
    "        \"mu_c\": 0.5,\n",
    "        \"l\": 0.5,\n",
    "        \"m_p\": 0.1,\n",
    "        \"m_c\": 1,\n",
    "        \"g\": 9.81,\n",
    "    },\n",
    "    physical_constraints={\n",
    "        \"deflection\": 2.4,\n",
    "        \"velocity\": 8,\n",
    "        \"theta\": jnp.pi,\n",
    "        \"omega\": 8,\n",
    "    },\n",
    "    env_solver=diffrax.Tsit5(),\n",
    ")\n",
    "env = excenvs.make(\n",
    "    env_id=\"CartPole-v0\",\n",
    "    batch_size=env_params[\"batch_size\"],\n",
    "    action_constraints={\"force\": env_params[\"max_force\"]},\n",
    "    physical_constraints=env_params[\"physical_constraints\"],\n",
    "    static_params=env_params[\"static_params\"],\n",
    "    solver=env_params[\"env_solver\"],\n",
    "    tau=env_params[\"tau\"],\n",
    ")"
   ]
  },
  {
   "cell_type": "markdown",
   "id": "18765787-b032-49bb-849f-4f2e090c4aaf",
   "metadata": {
    "jp-MarkdownHeadingCollapsed": true
   },
   "source": [
    "## quick experiment eval:"
   ]
  },
  {
   "cell_type": "code",
   "execution_count": null,
   "id": "d9ac8374-0213-43d6-acb4-9f006ba7e464",
   "metadata": {},
   "outputs": [],
   "source": [
    "for algo in [\"dmpe\", \"perfect_model_dmpe\", \"igoats\", \"sgoats\"]:\n",
    "    for env in [\"fluid_tank\", \"pendulum\", \"cart_pole\"]:\n",
    "        results_path = pathlib.Path(f\"/home/hvater@uni-paderborn.de/projects/exciting-exciting-systems/eval/results/{algo}/{env}\")\n",
    "        print(algo, env, \":\", len(get_experiment_ids(results_path)) == 30)"
   ]
  },
  {
   "cell_type": "code",
   "execution_count": null,
   "id": "c6eb711b-c02e-4013-a8f5-41bf1d3f51cc",
   "metadata": {},
   "outputs": [],
   "source": [
    "results_path_1 = pathlib.Path(\"/home/hvater@uni-paderborn.de/projects/exciting-exciting-systems/eval/results/igoats/fluid_tank/old\")\n",
    "results_path_2 = pathlib.Path(\"/home/hvater@uni-paderborn.de/projects/exciting-exciting-systems/eval/results/igoats/fluid_tank/\")\n",
    "\n",
    "for i in range(len(get_experiment_ids(results_path))):\n",
    "    params_1, observations_1, actions_1, _ = load_experiment_results(get_experiment_ids(results_path_1)[i], results_path_1, None)\n",
    "    params_2, observations_2, actions_2, _ = load_experiment_results(get_experiment_ids(results_path_2)[i], results_path_2, None)\n",
    "\n",
    "    assert jnp.all(observations_1[:-1] == observations_2)\n",
    "    assert jnp.all(actions_1 == actions_2)\n",
    "\n",
    "print(\"Datasets are equal!\")"
   ]
  },
  {
   "cell_type": "code",
   "execution_count": null,
   "id": "91889b11-0a63-43c7-b750-40f48bfcd391",
   "metadata": {},
   "outputs": [],
   "source": []
  },
  {
   "cell_type": "code",
   "execution_count": null,
   "id": "98708379-ecca-422d-9bac-935a7762f135",
   "metadata": {},
   "outputs": [],
   "source": [
    "params_2, observations_2, actions_2, _ = load_experiment_results(get_experiment_ids(results_path)[30], results_path, None, to_array=False)"
   ]
  },
  {
   "cell_type": "code",
   "execution_count": null,
   "id": "93c24622-e7ad-4950-9dd5-fc1a0b91a952",
   "metadata": {
    "scrolled": true
   },
   "outputs": [],
   "source": [
    "for obs in observations_2:\n",
    "    print(len(obs))"
   ]
  },
  {
   "cell_type": "code",
   "execution_count": null,
   "id": "9f0945c3-a627-43f7-89cd-dd7c05dd1bb6",
   "metadata": {},
   "outputs": [],
   "source": []
  },
  {
   "cell_type": "code",
   "execution_count": null,
   "id": "2efb4b18-668e-45bf-8cfd-b93950dc3ecb",
   "metadata": {},
   "outputs": [],
   "source": [
    "len(get_experiment_ids(results_path))"
   ]
  },
  {
   "cell_type": "code",
   "execution_count": null,
   "id": "06cf1c1e-16cc-4030-8c3e-07fbcd940c01",
   "metadata": {},
   "outputs": [],
   "source": [
    "for "
   ]
  },
  {
   "cell_type": "code",
   "execution_count": null,
   "id": "0049a204-1ede-4ea4-9743-f6ed95d3a6f0",
   "metadata": {
    "scrolled": true
   },
   "outputs": [],
   "source": [
    "# for i in range(-30, 0):\n",
    "#     params, _, _, _ = load_experiment_results(get_experiment_ids(results_path)[i], results_path, None)\n",
    "#     print(params[\"seed\"])"
   ]
  },
  {
   "cell_type": "code",
   "execution_count": null,
   "id": "2dacdd18-8f57-4435-b6ef-e851d2b21cdf",
   "metadata": {},
   "outputs": [],
   "source": [
    "from dmpe.evaluation.experiment_utils import default_jsd, default_ae, default_mcudsa, default_ksfc"
   ]
  },
  {
   "cell_type": "code",
   "execution_count": null,
   "id": "5cb63e84-dc24-47d1-b1c3-5279879fa623",
   "metadata": {},
   "outputs": [],
   "source": [
    "test_loss = partial(default_ksfc, points_per_dim=20, eps=0.01)"
   ]
  },
  {
   "cell_type": "code",
   "execution_count": null,
   "id": "8b597541-8c08-406e-beec-92a8224464ad",
   "metadata": {},
   "outputs": [],
   "source": [
    "params, observations, actions, _ = load_experiment_results(get_experiment_ids(results_path)[0], results_path, None)"
   ]
  },
  {
   "cell_type": "code",
   "execution_count": null,
   "id": "a8204fa2-0b9b-4a0e-a7cb-55ce7d780ced",
   "metadata": {},
   "outputs": [],
   "source": [
    "test_loss(observations, actions)"
   ]
  },
  {
   "cell_type": "code",
   "execution_count": null,
   "id": "653fcb26-477f-43de-b7c7-747b47ed81f6",
   "metadata": {},
   "outputs": [],
   "source": [
    "raise"
   ]
  },
  {
   "cell_type": "code",
   "execution_count": null,
   "id": "448ade5a-888c-4963-8bd0-295ee86d2082",
   "metadata": {},
   "outputs": [],
   "source": []
  },
  {
   "cell_type": "code",
   "execution_count": null,
   "id": "090ef4d1-e70e-4747-ae59-7cdb224f0fb2",
   "metadata": {},
   "outputs": [],
   "source": []
  },
  {
   "cell_type": "code",
   "execution_count": null,
   "id": "910568b4-f045-4323-a8bd-017d4ecb5719",
   "metadata": {},
   "outputs": [],
   "source": [
    "results_path = pathlib.Path(\"/home/hvater@uni-paderborn.de/projects/exciting-exciting-systems/eval/results/sgoats/pendulum/test_N\")\n",
    "\n",
    "for exp_idx, identifier in enumerate(get_experiment_ids(results_path)[-30:]):\n",
    "    print(exp_idx)\n",
    "    quick_eval(env, identifier, results_path, None)"
   ]
  },
  {
   "cell_type": "code",
   "execution_count": null,
   "id": "7ed1b7f9-13eb-48f6-920c-d7e0f7e80a32",
   "metadata": {},
   "outputs": [],
   "source": [
    "params, observations, actions, model = load_experiment_results(get_experiment_ids(results_path)[93], results_path, None)"
   ]
  },
  {
   "cell_type": "code",
   "execution_count": null,
   "id": "467ef012-5c73-42a6-a621-1f22c09bde07",
   "metadata": {},
   "outputs": [],
   "source": [
    "params"
   ]
  },
  {
   "cell_type": "code",
   "execution_count": null,
   "id": "9d2b7b5e-b760-428a-9870-5dfa4ec03200",
   "metadata": {},
   "outputs": [],
   "source": [
    "plot_sequence(observations[:3000], actions[:2999], env.tau, env.obs_description, env.action_description)"
   ]
  },
  {
   "cell_type": "code",
   "execution_count": null,
   "id": "19385b39-6ba2-4104-97b0-c201773c3088",
   "metadata": {},
   "outputs": [],
   "source": [
    "from dmpe.utils.density_estimation import build_grid\n",
    "from dmpe.utils.metrics import kiss_space_filling_cost"
   ]
  },
  {
   "cell_type": "code",
   "execution_count": null,
   "id": "999bdb9e-3027-4631-9ea0-e4b98709f52a",
   "metadata": {},
   "outputs": [],
   "source": [
    "from dmpe.evaluation.experiment_utils import default_jsd"
   ]
  },
  {
   "cell_type": "code",
   "execution_count": null,
   "id": "1140e86d-7d0d-4179-a01a-fcd3b6bcb0ba",
   "metadata": {},
   "outputs": [],
   "source": [
    "cov_factor = 0.05"
   ]
  },
  {
   "cell_type": "code",
   "execution_count": null,
   "id": "ad7068f5-cfee-436c-b14a-dc76e25ab41e",
   "metadata": {},
   "outputs": [],
   "source": [
    "for data_points in [\n",
    "    build_grid(2, -1, 1, 100),\n",
    "    jnp.concatenate([observations[:3000],actions[:3000]], axis=-1),\n",
    "    np.random.uniform(-1, 1, size=(5000, 2)),\n",
    "    np.random.uniform(-0.7, 0.7, size=(5000, 2)),\n",
    "    jnp.ones((5000, 2)),\n",
    "    np.random.normal(0, 0.1, size=(5000, 2)),\n",
    "    np.random.normal(0, 0.1, size=(10000, 2)),\n",
    "    np.zeros((5000, 2)),\n",
    "    np.zeros((10000, 2))\n",
    "]:\n",
    "    value = kiss_space_filling_cost(data_points=data_points, support_points=support_points, covariance_matrix=jnp.eye(2) * cov_factor)\n",
    "    print(value)"
   ]
  },
  {
   "cell_type": "code",
   "execution_count": null,
   "id": "118c6684-4c28-46a0-a61b-c4eb1f89c0a1",
   "metadata": {},
   "outputs": [],
   "source": [
    "%debug"
   ]
  },
  {
   "cell_type": "code",
   "execution_count": null,
   "id": "961e8ac0-62c8-48ba-b3d7-0d0d5cb9d6e2",
   "metadata": {},
   "outputs": [],
   "source": [
    "data_points = build_grid(2, -1, 1, 100)\n",
    "support_points = build_grid(2, -1, 1, 100)\n",
    "kiss_space_filling_cost(data_points=data_points, support_points=support_points, covariance_matrix=jnp.eye(2) * cov_factor)"
   ]
  },
  {
   "cell_type": "code",
   "execution_count": null,
   "id": "72bbbbf3-a3d0-4746-bdc4-7700784729a9",
   "metadata": {},
   "outputs": [],
   "source": [
    "data_points = jnp.concatenate([observations[:3000], actions[:3000]], axis=-1)\n",
    "support_points = build_grid(2, -1, 1, 100)\n",
    "kiss_space_filling_cost(data_points=data_points, support_points=support_points, covariance_matrix=jnp.eye(2) * cov_factor)"
   ]
  },
  {
   "cell_type": "code",
   "execution_count": null,
   "id": "38d853a5-0db4-4c9e-b727-15962e2119ac",
   "metadata": {},
   "outputs": [],
   "source": [
    "data_points = np.random.uniform(-1, 1, size=(5000, 2))\n",
    "support_points = build_grid(2, -1, 1, 100)\n",
    "kiss_space_filling_cost(data_points=data_points, support_points=support_points, covariance_matrix=jnp.eye(2) * cov_factor)"
   ]
  },
  {
   "cell_type": "code",
   "execution_count": null,
   "id": "395c4f64-bf84-4bde-bbee-c933125c6849",
   "metadata": {},
   "outputs": [],
   "source": [
    "data_points = np.random.uniform(-0.7, 0.7, size=(5000, 2))\n",
    "support_points = build_grid(2, -1, 1, 100)\n",
    "kiss_space_filling_cost(data_points=data_points, support_points=support_points, covariance_matrix=jnp.eye(2) * cov_factor)"
   ]
  },
  {
   "cell_type": "code",
   "execution_count": null,
   "id": "6b5e2834-ccba-4c10-92cb-70e960f04db5",
   "metadata": {},
   "outputs": [],
   "source": [
    "data_points = jnp.concatenate([observations[:1000], actions[:1000]], axis=-1)\n",
    "support_points = build_grid(2, -1, 1, 100)\n",
    "data_points = jnp.concatenate([data_points, jnp.ones((2000, 2))], axis=0)\n",
    "kiss_space_filling_cost(data_points=data_points, support_points=support_points, covariance_matrix=jnp.eye(2) * cov_factor)"
   ]
  },
  {
   "cell_type": "code",
   "execution_count": null,
   "id": "19dcd165-9c3f-4ca9-94ac-dbdc9df6a41e",
   "metadata": {},
   "outputs": [],
   "source": [
    "support_points = build_grid(2, -1, 1, 100)\n",
    "data_points = jnp.ones((100, 2))\n",
    "kiss_space_filling_cost(data_points=data_points, support_points=support_points, covariance_matrix=jnp.eye(2) * cov_factor)"
   ]
  },
  {
   "cell_type": "code",
   "execution_count": null,
   "id": "bb914ea1-6e0a-4e87-8a76-2d2e31c7bcac",
   "metadata": {},
   "outputs": [],
   "source": [
    "data_points.shape"
   ]
  },
  {
   "cell_type": "code",
   "execution_count": null,
   "id": "36135088-c209-4010-b0fe-096d7c481def",
   "metadata": {
    "scrolled": true
   },
   "outputs": [],
   "source": [
    "%debug"
   ]
  },
  {
   "cell_type": "code",
   "execution_count": null,
   "id": "b4a83f4b-1e69-4399-be70-a4fb1d6c7949",
   "metadata": {},
   "outputs": [],
   "source": [
    "datapoints = "
   ]
  },
  {
   "cell_type": "code",
   "execution_count": null,
   "id": "40de0769-fc2b-4aa9-bceb-e91cb626de14",
   "metadata": {
    "scrolled": true
   },
   "outputs": [],
   "source": [
    "a = 3000\n",
    "b = a+1000\n",
    "\n",
    "plt.plot(observations[a:b, 0])\n",
    "plt.show()\n",
    "plt.plot(observations[a:b, 1])\n",
    "plt.show()\n",
    "plt.plot(observations[a:b, 2])\n",
    "plt.show()\n",
    "plt.plot(observations[a:b, 3])\n",
    "plt.show()\n",
    "\n",
    "plt.plot(actions[a:b, 0])\n",
    "plt.show()"
   ]
  },
  {
   "cell_type": "markdown",
   "id": "48d0222e-cd12-4a36-9b2a-aaa80904cad1",
   "metadata": {},
   "source": [
    "- how do you even evaluate the coverage for 5d?"
   ]
  },
  {
   "cell_type": "code",
   "execution_count": null,
   "id": "8c3b8398-1427-4947-b41a-f60fc312f4ba",
   "metadata": {},
   "outputs": [],
   "source": []
  },
  {
   "cell_type": "code",
   "execution_count": null,
   "id": "2aa8f052-ea15-41c9-8a48-df8a13c997c2",
   "metadata": {},
   "outputs": [],
   "source": []
  },
  {
   "cell_type": "code",
   "execution_count": null,
   "id": "e7bd34ff-77f3-4282-9f04-c881891f44f6",
   "metadata": {
    "scrolled": true
   },
   "outputs": [],
   "source": [
    "results_path = pathlib.Path(\"/home/hvater@uni-paderborn.de/projects/exciting-exciting-systems/eval/results/dmpe/pendulum\")\n",
    "\n",
    "for exp_idx, identifier in enumerate(get_experiment_ids(results_path)):\n",
    "    print(exp_idx)\n",
    "    quick_eval_pendulum(env, identifier, results_path, None)"
   ]
  },
  {
   "cell_type": "markdown",
   "id": "9877dc0e-7480-41aa-9904-813cfe969caf",
   "metadata": {},
   "source": [
    "---"
   ]
  },
  {
   "cell_type": "code",
   "execution_count": null,
   "id": "af532f25-1e1b-4eb6-9e7a-cd449b591624",
   "metadata": {},
   "outputs": [],
   "source": [
    "params, observations, actions, model = load_experiment_results(get_experiment_ids(results_path)[0], results_path, None)"
   ]
  },
  {
   "cell_type": "code",
   "execution_count": null,
   "id": "62be697a-db84-4e28-8f87-83a6c2234bad",
   "metadata": {},
   "outputs": [],
   "source": [
    "plot_sequence(observations, actions, env.tau, env.obs_description, env.action_description)"
   ]
  },
  {
   "cell_type": "code",
   "execution_count": null,
   "id": "9322ed6e-5064-40d2-87fa-300edee08f95",
   "metadata": {},
   "outputs": [],
   "source": [
    "density_est = DensityEstimate.from_dataset(observations, actions, points_per_dim=50, bandwidth=0.01)\n",
    "dmpe.evaluation.plotting_utils.plot_2d_kde_as_contourf(\n",
    "    density_est.p, density_est.x_g, [env.obs_description[0], env.action_description[0]]\n",
    ")\n",
    "plt.scatter(density_est.x_g[:, 0], density_est.x_g[:, 1], s=1)"
   ]
  },
  {
   "cell_type": "code",
   "execution_count": null,
   "id": "844b9029-9606-409e-8b38-e09ac714dff9",
   "metadata": {},
   "outputs": [],
   "source": [
    "density_est = DensityEstimate.from_dataset(observations, actions, points_per_dim=50, bandwidth=0.05)\n",
    "dmpe.evaluation.plotting_utils.plot_2d_kde_as_contourf(\n",
    "    density_est.p, density_est.x_g, [env.obs_description[0], env.action_description[0]]\n",
    ")"
   ]
  },
  {
   "cell_type": "code",
   "execution_count": null,
   "id": "a3951ef9-169f-4073-b376-64e5a846b2f2",
   "metadata": {},
   "outputs": [],
   "source": []
  },
  {
   "cell_type": "markdown",
   "id": "b1031833-a94f-469b-b956-aaaea7b47203",
   "metadata": {
    "jp-MarkdownHeadingCollapsed": true
   },
   "source": [
    "## GOATS quick experiment eval:"
   ]
  },
  {
   "cell_type": "code",
   "execution_count": null,
   "id": "dc1f4ea4-f614-424d-9085-e9399c01eeeb",
   "metadata": {
    "scrolled": true
   },
   "outputs": [],
   "source": [
    "results_path = pathlib.Path(\"/home/hvater@uni-paderborn.de/projects/exciting-exciting-systems/eval/results/sgoats/fluid_tank/\")\n",
    "\n",
    "for idx, identifier in enumerate(get_experiment_ids(results_path)):\n",
    "    print(idx)\n",
    "    quick_eval(env, identifier, results_path, None)"
   ]
  },
  {
   "cell_type": "code",
   "execution_count": null,
   "id": "f28e14fb-8246-4390-b101-85c8c23ae23a",
   "metadata": {},
   "outputs": [],
   "source": [
    "20 * 20 * tau"
   ]
  },
  {
   "cell_type": "code",
   "execution_count": null,
   "id": "972919df-bfc3-4123-83fd-35363dc19dad",
   "metadata": {},
   "outputs": [],
   "source": [
    "20 * 100 * tau"
   ]
  },
  {
   "cell_type": "code",
   "execution_count": null,
   "id": "41e5b5e3-23d2-4093-a35d-41b34202df32",
   "metadata": {},
   "outputs": [],
   "source": [
    "tau"
   ]
  },
  {
   "cell_type": "code",
   "execution_count": null,
   "id": "17285d04-d0b6-492e-a1a7-af7fcf44af87",
   "metadata": {},
   "outputs": [],
   "source": [
    "params, observations, actions, model = load_experiment_results(get_experiment_ids(results_path)[1], results_path, None)\n",
    "observations.shape"
   ]
  },
  {
   "cell_type": "code",
   "execution_count": null,
   "id": "cbcfefe4-ff67-4f89-a702-5d5b39d3e738",
   "metadata": {},
   "outputs": [],
   "source": []
  },
  {
   "cell_type": "code",
   "execution_count": null,
   "id": "50b3b548-150e-427a-bff7-98d0e7fd5a37",
   "metadata": {},
   "outputs": [],
   "source": [
    "results_path = pathlib.Path(\"/home/hvater@uni-paderborn.de/projects/exciting-exciting-systems/eval/results/igoats/fluid_tank/\")\n",
    "\n",
    "for idx, identifier in enumerate(get_experiment_ids(results_path)[-1:]):\n",
    "    print(idx)\n",
    "    quick_eval_pendulum(env, identifier, results_path, None)"
   ]
  },
  {
   "cell_type": "code",
   "execution_count": null,
   "id": "512aeb26-310f-4486-b2de-2b08e6446c97",
   "metadata": {},
   "outputs": [],
   "source": []
  },
  {
   "cell_type": "code",
   "execution_count": null,
   "id": "0c8c08e3-ff88-4f79-8e69-ffbf03de7492",
   "metadata": {},
   "outputs": [],
   "source": []
  },
  {
   "cell_type": "code",
   "execution_count": null,
   "id": "a0b451a8-c9db-4998-88e1-42694b1cf02c",
   "metadata": {},
   "outputs": [],
   "source": []
  },
  {
   "cell_type": "markdown",
   "id": "148f98ab-ff64-4ea7-accc-115b69fc8fc9",
   "metadata": {},
   "source": [
    "## Checkout difference in support points in metric computation for sGOATS"
   ]
  },
  {
   "cell_type": "markdown",
   "id": "47727d03-6168-4c8e-9291-90942e5b22f1",
   "metadata": {},
   "source": [
    "- checkout full numpy implementation. Is the jitting maybe a problem?"
   ]
  },
  {
   "cell_type": "code",
   "execution_count": null,
   "id": "eaee00d6-ff72-45a7-b1da-ed5e2ad62f65",
   "metadata": {},
   "outputs": [],
   "source": [
    "from dmpe.evaluation.experiment_utils import extract_metrics_over_timesteps, evaluate_experiment_metrics"
   ]
  },
  {
   "cell_type": "code",
   "execution_count": null,
   "id": "106faf08-311f-4a8b-8b1e-7a35428cf3f0",
   "metadata": {
    "scrolled": true
   },
   "outputs": [],
   "source": [
    "results_path = pathlib.Path(\"/home/hvater@uni-paderborn.de/projects/exciting-exciting-systems/eval/results/sgoats/cart_pole\")\n",
    "\n",
    "# for idx, identifier in enumerate(get_experiment_ids(results_path)[-5:]):\n",
    "#     print(idx)\n",
    "#     quick_eval(env, identifier, results_path, None)"
   ]
  },
  {
   "cell_type": "code",
   "execution_count": null,
   "id": "d4a9f010-be8f-4e29-87a1-3af98cff557b",
   "metadata": {},
   "outputs": [],
   "source": [
    "params, observations, actions, _ = load_experiment_results(get_experiment_ids(results_path)[7], results_path, None, to_array=False)"
   ]
  },
  {
   "cell_type": "code",
   "execution_count": null,
   "id": "65a1171f-ac5f-4dfa-8fdd-4dac39f5e7ac",
   "metadata": {},
   "outputs": [],
   "source": [
    "len(observations)"
   ]
  },
  {
   "cell_type": "code",
   "execution_count": null,
   "id": "46741743-44e5-41f1-bda8-228d6a7d80ed",
   "metadata": {
    "scrolled": true
   },
   "outputs": [],
   "source": [
    "from dmpe.related_work.np_reimpl.metric_utils import default_ae, default_mcudsa, default_ksfc\n",
    "\n",
    "start = time.time()\n",
    "\n",
    "evaluate_experiment_metrics(\n",
    "    np.concatenate(observations),\n",
    "    np.concatenate(actions),\n",
    "    metrics={\n",
    "        # \"jsd\": partial(default_jsd, points_per_dim=20, bandwidth=select_bandwidth(2, 5, 20, 0.1)),\n",
    "        \"ae\": default_ae,\n",
    "        \"mcudsa\": partial(default_mcudsa, points_per_dim=20),\n",
    "        \"ksfc\": partial(default_ksfc, points_per_dim=20, variance=0.1, eps=1e-6),\n",
    "    }\n",
    ")\n",
    "\n",
    "end = time.time()\n",
    "print(\"Computation time numpy:\", end - start)"
   ]
  },
  {
   "cell_type": "code",
   "execution_count": null,
   "id": "34fd7d58-315c-4d62-8e92-8f4b2288479c",
   "metadata": {},
   "outputs": [],
   "source": [
    "from dmpe.evaluation.experiment_utils import default_jsd, default_ae, default_mcudsa, default_ksfc\n",
    "\n",
    "start = time.time()\n",
    "\n",
    "evaluate_experiment_metrics(\n",
    "    jnp.array(np.concatenate(observations)),\n",
    "    jnp.array(np.concatenate(actions)),\n",
    "    metrics={\n",
    "        \"jsd\": partial(default_jsd, points_per_dim=20, bandwidth=select_bandwidth(2, 5, 20, 0.1)),\n",
    "        \"ae\": default_ae,\n",
    "        \"mcudsa\": partial(default_mcudsa, points_per_dim=20),\n",
    "        \"ksfc\": partial(default_ksfc, points_per_dim=20, variance=0.1, eps=1e-6),\n",
    "    }\n",
    ")\n",
    "\n",
    "end = time.time()\n",
    "print(\"Computation time jax:\", end - start)"
   ]
  },
  {
   "cell_type": "code",
   "execution_count": null,
   "id": "16df967e-c187-43b5-80df-725afe115a89",
   "metadata": {},
   "outputs": [],
   "source": [
    "from dmpe.evaluation.experiment_utils import default_jsd, default_ae, default_mcudsa, default_ksfc"
   ]
  },
  {
   "cell_type": "code",
   "execution_count": null,
   "id": "256e00d1-7cb1-4f1c-a45a-b9343fa4669d",
   "metadata": {},
   "outputs": [],
   "source": [
    "start = time.time()\n",
    "\n",
    "lengths = jnp.linspace(1000, 15000, 15, dtype=jnp.int32)\n",
    "results_set_dist = extract_metrics_over_timesteps(\n",
    "    experiment_ids=get_experiment_ids(results_path)[:1],\n",
    "    results_path=results_path,\n",
    "    lengths=lengths,\n",
    "    metrics={\n",
    "        # \"jsd\": partial(default_jsd, points_per_dim=20, bandwidth=select_bandwidth(2, 5, 20, 0.1)),\n",
    "        \"ae\": default_ae,\n",
    "        \"mcudsa\": partial(default_mcudsa, points_per_dim=20),\n",
    "        \"ksfc\": partial(default_ksfc, points_per_dim=20, variance=0.1, eps=1e-6),\n",
    "    }\n",
    ")\n",
    "\n",
    "end = time.time()\n",
    "print(\"Computation time jax:\", end - start)"
   ]
  },
  {
   "cell_type": "code",
   "execution_count": null,
   "id": "432a3f47-0ef2-41a8-89a1-560dfbf27640",
   "metadata": {},
   "outputs": [],
   "source": [
    "params, observations, actions, _ = load_experiment_results(get_experiment_ids(results_path)[0], results_path, None, to_array=False)\n",
    "raw_lengths = [len(subsequence) for subsequence in observations]\n",
    "raw_lengths = np.cumsum(raw_lengths[:-1])\n",
    "raw_lengths"
   ]
  },
  {
   "cell_type": "code",
   "execution_count": null,
   "id": "a70ca0be-93ec-4105-b221-05d56f77e99c",
   "metadata": {},
   "outputs": [],
   "source": [
    "start = time.time()\n",
    "\n",
    "results_nonset_dist = extract_metrics_over_timesteps(\n",
    "    experiment_ids=get_experiment_ids(results_path)[:1],\n",
    "    results_path=results_path,\n",
    "    lengths=lengths,\n",
    "    metrics={\n",
    "        \"jsd\": partial(default_jsd, points_per_dim=20, bandwidth=select_bandwidth(2, 5, 20, 0.1)),\n",
    "        \"ae\": default_ae,\n",
    "        \"mcudsa\": partial(default_mcudsa, points_per_dim=20),\n",
    "        \"ksfc\": partial(default_ksfc, points_per_dim=20, variance=0.1, eps=1e-6),\n",
    "    }\n",
    ")\n",
    "\n",
    "end = time.time()\n",
    "print(\"Computation time jax:\", end - start)"
   ]
  },
  {
   "cell_type": "code",
   "execution_count": null,
   "id": "cb37f432-15ab-42f7-a437-28d094313149",
   "metadata": {},
   "outputs": [],
   "source": [
    "lengths"
   ]
  },
  {
   "cell_type": "code",
   "execution_count": null,
   "id": "a12702d6-7e8c-4078-ad6a-e5349958c437",
   "metadata": {},
   "outputs": [],
   "source": [
    "raw_results = results_nonset_dist[\"jsd\"][0]"
   ]
  },
  {
   "cell_type": "code",
   "execution_count": null,
   "id": "f16a4963-8f97-4a54-a45a-beb5bbfb0642",
   "metadata": {},
   "outputs": [],
   "source": [
    "interpolated_results = jnp.interp(\n",
    "    x=lengths,\n",
    "    xp=raw_lengths,\n",
    "    fp=results_nonset_dist[\"jsd\"][0],\n",
    ")"
   ]
  },
  {
   "cell_type": "code",
   "execution_count": null,
   "id": "a65d3b24-20f1-4d7c-824b-42f0e4fc3df9",
   "metadata": {},
   "outputs": [],
   "source": [
    "plt.plot(lengths, interpolated_results, 'r.')\n",
    "plt.plot(raw_lengths, raw_results, 'b.')"
   ]
  },
  {
   "cell_type": "code",
   "execution_count": null,
   "id": "05e1d751-b31a-4b93-962b-cc036dfb7aab",
   "metadata": {},
   "outputs": [],
   "source": []
  },
  {
   "cell_type": "code",
   "execution_count": null,
   "id": "8b3dd1c4-7391-4e83-a893-4922e9d6f3e6",
   "metadata": {},
   "outputs": [],
   "source": []
  },
  {
   "cell_type": "code",
   "execution_count": null,
   "id": "91579a8c-4a5a-4267-a2cd-1981618298a9",
   "metadata": {},
   "outputs": [],
   "source": [
    "def plot_metrics_by_sequence_length_for_all_algos(data_per_algo, lengths, algo_names, use_log=False):\n",
    "    assert len(data_per_algo) == len(algo_names), \"Mismatch in number of algo results and number of algo names\"\n",
    "\n",
    "    metric_keys = data_per_algo[0].keys()\n",
    "\n",
    "    fig, axs = plt.subplots(4, figsize=(19, 18), sharex=True)\n",
    "    colors = plt.rcParams[\"axes.prop_cycle\"]()\n",
    "\n",
    "    for length, algo_name, data in zip(lengths, algo_names, data_per_algo):\n",
    "        c = next(colors)[\"color\"]\n",
    "\n",
    "        for metric_idx, metric_key in enumerate(metric_keys):\n",
    "            mean = jnp.nanmean(jnp.log(data[metric_key]), axis=0) if use_log else jnp.nanmean(data[metric_key], axis=0)\n",
    "            std = jnp.nanstd(jnp.log(data[metric_key]), axis=0) if use_log else jnp.nanstd(data[metric_key], axis=0)\n",
    "\n",
    "            axs[metric_idx].plot(\n",
    "                length,\n",
    "                mean,  # jnp.log(mean) if use_log else mean,\n",
    "                label=algo_name,\n",
    "                color=c,\n",
    "            )\n",
    "            axs[metric_idx].fill_between(\n",
    "                length,\n",
    "                mean - std,  # jnp.log(mean - std) if use_log else mean - std,\n",
    "                mean + std,  # jnp.log(mean + std) if use_log else mean + std,\n",
    "                color=c,\n",
    "                alpha=0.1,\n",
    "            )\n",
    "            axs[metric_idx].set_ylabel((\"log \" if use_log else \"\") + metric_key)\n",
    "\n",
    "    for idx, metric_key in enumerate(metric_keys):\n",
    "        axs[idx].set_ylabel(f\"$\\mathcal{{L}}_\\mathrm{{{metric_key.upper()}}}$\")\n",
    "\n",
    "    axs[-1].set_xlabel(\"$\\mathrm{timesteps}$\")\n",
    "    axs[-1].set_xlim(lengths[0][0] - 100, lengths[0][-1] + 100)\n",
    "    [ax.grid(True) for ax in axs]\n",
    "    axs[0].legend()\n",
    "    plt.tight_layout()\n",
    "\n",
    "    return fig\n"
   ]
  },
  {
   "cell_type": "code",
   "execution_count": null,
   "id": "5599a0e3-2a54-4bba-a3f5-775e8f598661",
   "metadata": {},
   "outputs": [],
   "source": [
    "plot_metrics_by_sequence_length_for_all_algos(\n",
    "    [results_set_dist, results_nonset_dist],\n",
    "    [jnp.linspace(1000, 15000, 15, dtype=jnp.int32), lengths],\n",
    "    [\"set\", \"nonset\"],\n",
    "    use_log=True\n",
    ");\n",
    "plt.savefig(\"test_interpolation.pdf\")"
   ]
  },
  {
   "cell_type": "markdown",
   "id": "6c5f5649-570d-41b9-98ef-7cc0c77ca32a",
   "metadata": {},
   "source": [
    "## Check blockwise metrics"
   ]
  },
  {
   "cell_type": "code",
   "execution_count": null,
   "id": "d05c8c44-9b8a-4ab9-8f7c-f29a93b318a7",
   "metadata": {},
   "outputs": [],
   "source": [
    "from dmpe.utils.metrics import blockwise_ksfc, kiss_space_filling_cost, blockwise_mcudsa, MC_uniform_sampling_distribution_approximation\n",
    "from dmpe.utils.density_estimation import build_grid"
   ]
  },
  {
   "cell_type": "code",
   "execution_count": null,
   "id": "986636b8-eef7-4eba-9ae4-493b4a870bd2",
   "metadata": {},
   "outputs": [],
   "source": [
    "results_path = pathlib.Path(f\"/home/hvater@uni-paderborn.de/projects/exciting-exciting-systems/eval/results/dmpe/cart_pole\")\n",
    "params, observations, actions, _ = load_experiment_results(get_experiment_ids(results_path)[0], results_path, None)"
   ]
  },
  {
   "cell_type": "code",
   "execution_count": null,
   "id": "b940c157-bfa4-494b-99fb-2ccd9e6b5f53",
   "metadata": {},
   "outputs": [],
   "source": [
    "observations.shape"
   ]
  },
  {
   "cell_type": "code",
   "execution_count": null,
   "id": "bded0221-b05b-4076-b288-097c764cc293",
   "metadata": {},
   "outputs": [],
   "source": [
    "support_points = build_grid(4, -1, 1, 14)\n",
    "support_points.shape"
   ]
  },
  {
   "cell_type": "code",
   "execution_count": null,
   "id": "5ae69384-f6a6-4b48-85e3-03ebf685fdb8",
   "metadata": {},
   "outputs": [],
   "source": [
    "blockwise_value = blockwise_mcudsa(observations, support_points).item()\n",
    "full_value = MC_uniform_sampling_distribution_approximation(observations, support_points).item()\n",
    "\n",
    "blockwise_value == full_value"
   ]
  },
  {
   "cell_type": "code",
   "execution_count": null,
   "id": "75abb6c1-3d6a-4ac8-8367-ba8b733d5d33",
   "metadata": {},
   "outputs": [],
   "source": [
    "full_value/blockwise_value"
   ]
  },
  {
   "cell_type": "code",
   "execution_count": null,
   "id": "9d6264e5-cb45-48c5-a734-5d832dcd660b",
   "metadata": {},
   "outputs": [],
   "source": [
    "blockwise_value = blockwise_ksfc(observations, support_points, variances=0.1, eps=1e-6).item()\n",
    "full_value = kiss_space_filling_cost(observations, support_points, variances=0.1, eps=1e-6).item()\n",
    "\n",
    "blockwise_value == full_value"
   ]
  },
  {
   "cell_type": "code",
   "execution_count": null,
   "id": "6cb43085-ed5e-414f-a6f0-74b841eede1c",
   "metadata": {},
   "outputs": [],
   "source": [
    "full_value/blockwise_value"
   ]
  },
  {
   "cell_type": "code",
   "execution_count": null,
   "id": "1ff706bc-79ec-46bc-a3d9-9e556acc65f8",
   "metadata": {},
   "outputs": [],
   "source": [
    "blockwise_value"
   ]
  },
  {
   "cell_type": "code",
   "execution_count": null,
   "id": "f5cbac98-88c1-4be1-9295-60ee750fdb78",
   "metadata": {},
   "outputs": [],
   "source": [
    "full_value"
   ]
  }
 ],
 "metadata": {
  "kernelspec": {
   "display_name": "Python 3 (ipykernel)",
   "language": "python",
   "name": "python3"
  },
  "language_info": {
   "codemirror_mode": {
    "name": "ipython",
    "version": 3
   },
   "file_extension": ".py",
   "mimetype": "text/x-python",
   "name": "python",
   "nbconvert_exporter": "python",
   "pygments_lexer": "ipython3",
   "version": "3.11.9"
  }
 },
 "nbformat": 4,
 "nbformat_minor": 5
}
