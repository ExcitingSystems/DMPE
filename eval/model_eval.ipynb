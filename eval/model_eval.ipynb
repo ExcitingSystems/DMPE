{
 "cells": [
  {
   "cell_type": "code",
   "execution_count": null,
   "id": "e5866b8a-7114-4d8b-9457-020956bc11e8",
   "metadata": {},
   "outputs": [],
   "source": [
    "%load_ext autoreload\n",
    "%autoreload 2\n",
    "%reload_ext line_profiler"
   ]
  },
  {
   "cell_type": "code",
   "execution_count": null,
   "id": "8c103841-314d-445f-b549-7493be21bb23",
   "metadata": {},
   "outputs": [],
   "source": [
    "import os\n",
    "os.environ['CUDA_VISIBLE_DEVICES'] = '0'\n",
    "os.environ[\"XLA_PYTHON_CLIENT_PREALLOCATE\"]=\"false\"\n",
    "\n",
    "import pathlib\n",
    "from functools import partial\n",
    "\n",
    "import time\n",
    "from tqdm.notebook import tqdm\n",
    "import numpy as np\n",
    "import matplotlib.pyplot as plt\n",
    "import matplotlib as mpl\n",
    "mpl.rcParams['text.usetex'] = True\n",
    "mpl.rcParams['text.latex.preamble']=r\"\\usepackage{bm}\"\n",
    "import plotly.express as px\n",
    "import plotly.graph_objects as go"
   ]
  },
  {
   "cell_type": "code",
   "execution_count": null,
   "id": "1df84f41-5ae5-448c-b672-ba61b97bc48a",
   "metadata": {},
   "outputs": [],
   "source": [
    "import jax\n",
    "import jax.numpy as jnp\n",
    "# jax.config.update(\"jax_enable_x64\", True)\n",
    "gpus = jax.devices()\n",
    "jax.config.update(\"jax_default_device\", gpus[0])\n",
    "\n",
    "import diffrax\n",
    "import equinox as eqx\n",
    "import optax\n",
    "\n",
    "from haiku import PRNGSequence"
   ]
  },
  {
   "cell_type": "code",
   "execution_count": null,
   "id": "47891632-ccdb-48de-a6d6-b3ba5cc67b76",
   "metadata": {},
   "outputs": [],
   "source": [
    "import exciting_environments as excenvs\n",
    "\n",
    "import exciting_exciting_systems\n",
    "from exciting_exciting_systems.models import NeuralEulerODEPendulum, NeuralODEPendulum, NeuralEulerODE, NeuralEulerODECartpole\n",
    "from exciting_exciting_systems.models.model_utils import simulate_ahead_with_env\n",
    "from exciting_exciting_systems.models.model_training import ModelTrainer\n",
    "from exciting_exciting_systems.excitation import loss_function, Exciter\n",
    "\n",
    "from exciting_exciting_systems.utils.density_estimation import (\n",
    "    update_density_estimate_single_observation, update_density_estimate_multiple_observations, DensityEstimate\n",
    ")\n",
    "from exciting_exciting_systems.utils.signals import aprbs\n",
    "from exciting_exciting_systems.evaluation.plotting_utils import (\n",
    "    plot_sequence, append_predictions_to_sequence_plot, plot_sequence_and_prediction, plot_model_performance\n",
    ")\n",
    "from exciting_exciting_systems.evaluation.experiment_utils import (\n",
    "    get_experiment_ids, load_experiment_results, quick_eval, evaluate_experiment_metrics, evaluate_algorithm_metrics, evaluate_metrics\n",
    ")"
   ]
  },
  {
   "cell_type": "markdown",
   "id": "dd83c3b5-e9f4-4dd6-b0bf-7441ed7f71b7",
   "metadata": {},
   "source": [
    "---"
   ]
  },
  {
   "cell_type": "code",
   "execution_count": null,
   "id": "4c4a9f34-3f3b-4227-8f53-842d6614cc2f",
   "metadata": {},
   "outputs": [],
   "source": [
    "# setup PRNG\n",
    "key = jax.random.PRNGKey(seed=33) # 21)\n",
    "\n",
    "data_key, model_key, loader_key, key = jax.random.split(key, 4)\n",
    "data_rng = PRNGSequence(data_key)"
   ]
  },
  {
   "cell_type": "code",
   "execution_count": null,
   "id": "d78c8bca-2dfd-4ad3-a459-5f1a43247b6b",
   "metadata": {},
   "outputs": [],
   "source": [
    "env_params = dict(\n",
    "    batch_size=1,\n",
    "    tau=2e-2,\n",
    "    max_force=10,\n",
    "    static_params={\n",
    "        \"mu_p\": 0.002,\n",
    "        \"mu_c\": 0.5,\n",
    "        \"l\": 0.5,\n",
    "        \"m_p\": 0.1,\n",
    "        \"m_c\": 1,\n",
    "        \"g\": 9.81,\n",
    "    },\n",
    "    physical_constraints={\n",
    "        \"deflection\": 2.4,\n",
    "        \"velocity\": 8,\n",
    "        \"theta\": jnp.pi,\n",
    "        \"omega\": 8,\n",
    "    },\n",
    "    env_solver=diffrax.Tsit5(),\n",
    ")\n",
    "env = excenvs.make(\n",
    "    env_id=\"CartPole-v0\",\n",
    "    batch_size=env_params[\"batch_size\"],\n",
    "    action_constraints={\"force\": env_params[\"max_force\"]},\n",
    "    physical_constraints=env_params[\"physical_constraints\"],\n",
    "    static_params=env_params[\"static_params\"],\n",
    "    solver=env_params[\"env_solver\"],\n",
    "    tau=env_params[\"tau\"],\n",
    ")"
   ]
  },
  {
   "cell_type": "code",
   "execution_count": null,
   "id": "95260494-dd8d-4974-9301-4fe465553001",
   "metadata": {},
   "outputs": [],
   "source": [
    "obs, state = env.reset()\n",
    "obs = obs[0]\n",
    "\n",
    "n_steps = 999\n",
    "\n",
    "# actions = aprbs(n_steps, batch_size, 1, 10, next(data_rng))[0]\n",
    "\n",
    "\n",
    "actions = jnp.ones((1000, 1))\n",
    "actions = actions.at[10:].set(0)"
   ]
  },
  {
   "cell_type": "code",
   "execution_count": null,
   "id": "d253c17a-8a2c-49db-a151-255ae7a05d7d",
   "metadata": {
    "scrolled": true
   },
   "outputs": [],
   "source": [
    "observations, _ = simulate_ahead_with_env(env, obs, state, actions)\n",
    "\n",
    "print(\"actions.shape:\", actions.shape)\n",
    "print(\"observations.shape:\", observations.shape)\n",
    "\n",
    "print(\" \\n One of the trajectories:\")\n",
    "fig, axs = plot_sequence(\n",
    "    observations=observations,\n",
    "    actions=actions,\n",
    "    tau=env.tau,\n",
    "    obs_labels=[r\"$p_x$\", r\"$v_x$\", r\"$\\theta$\", r\"$\\omega$\"],\n",
    "    action_labels=[r\"$F$\"],\n",
    ");\n",
    "plt.show()"
   ]
  },
  {
   "cell_type": "markdown",
   "id": "49e1df73-0fde-4b99-bb58-9a0fb4075ae6",
   "metadata": {},
   "source": [
    "---"
   ]
  },
  {
   "cell_type": "code",
   "execution_count": null,
   "id": "843dcc08-1a9b-4bb6-aadf-eecacdbb6358",
   "metadata": {},
   "outputs": [],
   "source": [
    "results_path = pathlib.Path(\"/home/hvater@uni-paderborn.de/projects/exciting-exciting-systems/eval/results/dmpe/cart_pole\")"
   ]
  },
  {
   "cell_type": "code",
   "execution_count": null,
   "id": "bab82aca-fa32-49f3-9d81-fc94c089456c",
   "metadata": {},
   "outputs": [],
   "source": [
    "params, observations, actions, model = load_experiment_results(get_experiment_ids(results_path)[7], results_path, NeuralEulerODECartpole)"
   ]
  },
  {
   "cell_type": "code",
   "execution_count": null,
   "id": "909910f3-523c-4367-89ad-daffef3463d1",
   "metadata": {},
   "outputs": [],
   "source": [
    "N = 15_000\n",
    "\n",
    "plot_model_performance(\n",
    "    model, observations[N:N+500], actions[N:N+499], env.tau, env.obs_description, env.action_description\n",
    ")"
   ]
  },
  {
   "cell_type": "code",
   "execution_count": null,
   "id": "c85f3713-d7f6-4801-89fb-2faffa6b3593",
   "metadata": {},
   "outputs": [],
   "source": [
    "actions = jnp.ones((100, 1))\n",
    "actions = actions.at[10:].set(0)\n",
    "\n",
    "actions = actions.at[50:].set(-1)\n",
    "actions = actions.at[60:].set(+1)\n",
    "\n",
    "observations, _ = simulate_ahead_with_env(env, obs, state, actions)\n",
    "\n",
    "plot_model_performance(\n",
    "    model, observations, actions, env.tau, env.obs_description, env.action_description\n",
    ")"
   ]
  },
  {
   "attachments": {
    "63871c0c-b3be-416b-8df6-57e1449bcbad.png": {
     "image/png": "[encoded data removed]"
    }
   },
   "cell_type": "markdown",
   "id": "b5b3038c-3403-4b40-9169-41f7e92189aa",
   "metadata": {},
   "source": [
    "- iterate through all the runs and test the models on random trajectories:\n",
    "\n",
    "could be done in theory at least\n",
    "\n",
    "The question would be:\n",
    "\n",
    "model good -> data good\n",
    "data good -> model good\n",
    "\n",
    "probably both?\n",
    "\n",
    "\n",
    "**jsd on the runs:**\n",
    "\n",
    "![image.png](attachment:63871c0c-b3be-416b-8df6-57e1449bcbad.png)\n"
   ]
  },
  {
   "cell_type": "code",
   "execution_count": null,
   "id": "fba615f6-68b5-44da-aad4-445e27cc4b09",
   "metadata": {},
   "outputs": [],
   "source": [
    "from exciting_exciting_systems.models.model_utils import simulate_ahead"
   ]
  },
  {
   "cell_type": "code",
   "execution_count": null,
   "id": "dc80eed0-6330-44e8-ac4d-82bbb6dfcc8b",
   "metadata": {},
   "outputs": [],
   "source": [
    "obs, state = env.reset()\n",
    "obs = obs[0]\n",
    "\n",
    "\n",
    "errors = []\n",
    "data_rng = PRNGSequence(jax.random.PRNGKey(seed=33))\n",
    "\n",
    "\n",
    "for exp_idx, identifier in enumerate(get_experiment_ids(results_path)):\n",
    "    params, observations, actions, model = load_experiment_results(identifier, results_path, NeuralEulerODECartpole)\n",
    "\n",
    "    errors_for_run = []\n",
    "    \n",
    "    for i in tqdm(range(1000)):       \n",
    "        actions = aprbs(50, 1, 1, 10, next(data_rng))[0]\n",
    "        \n",
    "        observations, _ = simulate_ahead_with_env(env, obs, state, actions)\n",
    "    \n",
    "        pred_observations = simulate_ahead(model, observations[0, :], actions, env.tau)\n",
    "    \n",
    "        mse = np.mean(np.linalg.norm(observations - pred_observations, axis=1), axis=0)\n",
    "        errors_for_run.append(mse)\n",
    "\n",
    "    errors.append(errors_for_run)"
   ]
  },
  {
   "cell_type": "code",
   "execution_count": null,
   "id": "ac203b8d-a6dd-4a1c-b4f3-5de9000deb9d",
   "metadata": {},
   "outputs": [],
   "source": [
    "plt.plot(np.mean(np.array(errors), axis=1))"
   ]
  },
  {
   "cell_type": "markdown",
   "id": "46a92777-e838-49f5-9c5a-a300feea0b8b",
   "metadata": {},
   "source": [
    "... use similar setup to model learning but with cross validation"
   ]
  },
  {
   "cell_type": "code",
   "execution_count": null,
   "id": "bd5a563a-b68e-4aec-a868-97dd5c9b9b57",
   "metadata": {},
   "outputs": [],
   "source": []
  }
 ],
 "metadata": {
  "kernelspec": {
   "display_name": "Python 3 (ipykernel)",
   "language": "python",
   "name": "python3"
  },
  "language_info": {
   "codemirror_mode": {
    "name": "ipython",
    "version": 3
   },
   "file_extension": ".py",
   "mimetype": "text/x-python",
   "name": "python",
   "nbconvert_exporter": "python",
   "pygments_lexer": "ipython3",
   "version": "3.11.9"
  }
 },
 "nbformat": 4,
 "nbformat_minor": 5
}
