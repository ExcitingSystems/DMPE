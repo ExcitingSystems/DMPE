{
 "cells": [
  {
   "cell_type": "code",
   "execution_count": null,
   "id": "e67df9c0-5760-4373-9de1-7cb75b4a8313",
   "metadata": {
    "scrolled": true
   },
   "outputs": [],
   "source": [
    "%load_ext autoreload\n",
    "%autoreload 2\n",
    "%reload_ext line_profiler"
   ]
  },
  {
   "cell_type": "code",
   "execution_count": null,
   "id": "0c6c1113-0e7c-4bb1-b9d4-b7837f0fd56e",
   "metadata": {},
   "outputs": [],
   "source": [
    "import os\n",
    "os.environ['CUDA_VISIBLE_DEVICES'] = '0'\n",
    "os.environ[\"XLA_PYTHON_CLIENT_PREALLOCATE\"]=\"false\"\n",
    "\n",
    "import pathlib\n",
    "from functools import partial\n",
    "\n",
    "import pickle\n",
    "\n",
    "import time\n",
    "from tqdm.notebook import tqdm\n",
    "import numpy as np\n",
    "import matplotlib.pyplot as plt\n",
    "import matplotlib as mpl\n",
    "\n",
    "from mpl_toolkits.axes_grid1.inset_locator import inset_axes\n",
    "\n",
    "mpl.rcParams['text.usetex'] = True\n",
    "mpl.rcParams.update({'font.size': 10 * 2.54})\n",
    "mpl.rcParams['text.latex.preamble']=r\"\\usepackage{bm}\\usepackage{amsmath}\"\n",
    "import plotly.express as px\n",
    "import plotly.graph_objects as go"
   ]
  },
  {
   "cell_type": "code",
   "execution_count": null,
   "id": "be8efd41-e0ae-4435-b8de-917fd06ef1fe",
   "metadata": {},
   "outputs": [],
   "source": [
    "import jax\n",
    "import jax.numpy as jnp\n",
    "# jax.config.update(\"jax_enable_x64\", True)\n",
    "gpus = jax.devices()\n",
    "jax.config.update(\"jax_default_device\", gpus[0])\n",
    "\n",
    "import diffrax\n",
    "import equinox as eqx\n",
    "import optax\n",
    "\n",
    "from haiku import PRNGSequence"
   ]
  },
  {
   "cell_type": "code",
   "execution_count": null,
   "id": "b383fff8-a793-45e9-a707-cde9ebcf9749",
   "metadata": {},
   "outputs": [],
   "source": [
    "import exciting_environments as excenvs\n",
    "\n",
    "import exciting_exciting_systems\n",
    "from exciting_exciting_systems.models import NeuralEulerODEPendulum, NeuralODEPendulum, NeuralEulerODE, NeuralEulerODECartpole\n",
    "from exciting_exciting_systems.models.model_utils import simulate_ahead_with_env\n",
    "from exciting_exciting_systems.models.model_training import ModelTrainer\n",
    "from exciting_exciting_systems.excitation import loss_function, Exciter\n",
    "\n",
    "from exciting_exciting_systems.utils.density_estimation import (\n",
    "    update_density_estimate_single_observation, update_density_estimate_multiple_observations, DensityEstimate, select_bandwidth\n",
    ")\n",
    "from exciting_exciting_systems.utils.signals import aprbs\n",
    "from exciting_exciting_systems.evaluation.plotting_utils import (\n",
    "    plot_sequence, append_predictions_to_sequence_plot, plot_sequence_and_prediction, plot_model_performance\n",
    ")\n",
    "from exciting_exciting_systems.evaluation.experiment_utils import (\n",
    "    get_experiment_ids, load_experiment_results, quick_eval, evaluate_experiment_metrics, evaluate_algorithm_metrics, evaluate_metrics\n",
    ")\n",
    "\n",
    "from exciting_exciting_systems.evaluation.experiment_utils import extract_metrics_over_timesteps"
   ]
  },
  {
   "cell_type": "markdown",
   "id": "0cf127b2-628c-4bd1-9522-08d87e9ead39",
   "metadata": {},
   "source": [
    "---"
   ]
  },
  {
   "cell_type": "markdown",
   "id": "47438908-c7c1-4d57-8d31-79e22a6c5bf9",
   "metadata": {},
   "source": [
    "- I think I can mostly reuse the code from the quantitative eval?"
   ]
  },
  {
   "cell_type": "code",
   "execution_count": null,
   "id": "c8decf38-cc91-445d-9cb3-adaf556befd8",
   "metadata": {},
   "outputs": [],
   "source": [
    "full_column_width = 18.2\n",
    "half_colmun_width = 8.89\n",
    "\n",
    "def plot_metrics_by_sequence_length_for_all_algos(data_per_algo, lengths, algo_names, use_log=False, show_legend=False, show_zoomed=False):\n",
    "    assert len(data_per_algo) == len(algo_names), \"Mismatch in number of algo results and number of algo names\"\n",
    "\n",
    "    metric_keys = data_per_algo[0].keys()\n",
    "\n",
    "    fig, axs = plt.subplots(1, figsize=(half_colmun_width, 4), sharex=True) # figsize=(19, 18)\n",
    "    colors = plt.rcParams[\"axes.prop_cycle\"]()\n",
    "\n",
    "    axs = [axs]\n",
    "    if show_zoomed:\n",
    "        inset_ax = axs[0].inset_axes(bounds=[0.55, 0.03, 0.3, 0.3])\n",
    "\n",
    "    for algo_name, data in zip(algo_names, data_per_algo):\n",
    "        c = next(colors)[\"color\"]\n",
    "        if c == '#d62728':\n",
    "            c = next(colors)[\"color\"]\n",
    "\n",
    "        metric_key = list(metric_keys)[0]\n",
    "        mean = jnp.nanmean(jnp.log(data[metric_key]), axis=0) if use_log else jnp.nanmean(data[metric_key], axis=0)\n",
    "        std = jnp.nanstd(jnp.log(data[metric_key]), axis=0) if use_log else jnp.nanstd(data[metric_key], axis=0)\n",
    "\n",
    "        axs[0].plot(\n",
    "            lengths,\n",
    "            mean,  # jnp.log(mean) if use_log else mean,\n",
    "            label=algo_name,\n",
    "            color=c,\n",
    "        )\n",
    "        axs[0].fill_between(\n",
    "            lengths,\n",
    "            mean - std,  # jnp.log(mean - std) if use_log else mean - std,\n",
    "            mean + std,  # jnp.log(mean + std) if use_log else mean + std,\n",
    "            color=c,\n",
    "            alpha=0.1,\n",
    "        )\n",
    "        axs[0].set_ylabel((\"log \" if use_log else \"\") + metric_key)\n",
    "\n",
    "        \n",
    "        if show_zoomed:\n",
    "            metric_key = list(metric_keys)[0]\n",
    "            mean = jnp.nanmean(jnp.log(data[metric_key]), axis=0) if use_log else jnp.nanmean(data[metric_key], axis=0)\n",
    "            std = jnp.nanstd(jnp.log(data[metric_key]), axis=0) if use_log else jnp.nanstd(data[metric_key], axis=0)\n",
    "    \n",
    "            inset_ax.plot(\n",
    "                lengths,\n",
    "                mean,  # jnp.log(mean) if use_log else mean,\n",
    "                label=algo_name,\n",
    "                color=c,\n",
    "            )\n",
    "            inset_ax.fill_between(\n",
    "                lengths,\n",
    "                mean - std,  # jnp.log(mean - std) if use_log else mean - std,\n",
    "                mean + std,  # jnp.log(mean + std) if use_log else mean + std,\n",
    "                color=c,\n",
    "                alpha=0.1,\n",
    "            )\n",
    "    \n",
    "            inset_ax.set_xlim(7_500, 10_000)\n",
    "    \n",
    "            inset_ax.set_xticks([])\n",
    "            inset_ax.ticklabel_format(style='sci',scilimits=(-3,4),axis='both')\n",
    "\n",
    "    if show_zoomed:\n",
    "        axs[0].indicate_inset_zoom(inset_ax)\n",
    "\n",
    "    for idx, metric_key in enumerate(metric_keys):\n",
    "        axs[idx].set_ylabel(f\"$\\mathcal{{L}}_\\mathrm{{{metric_key.upper()}}}$\")\n",
    "\n",
    "    axs[0].set_xlabel(\"$\\mathrm{timesteps}$\")\n",
    "    axs[0].set_xlim(lengths[0] - 100, lengths[-1] + 100)\n",
    "    axs[0].set_ylim(-0.2, 0.2)\n",
    "    [ax.grid(True) for ax in axs]\n",
    "    axs[0].legend()\n",
    "    \n",
    "    if not show_legend:\n",
    "        axs[0].get_legend().remove()\n",
    "    fig.tight_layout()\n",
    "    \n",
    "    return fig"
   ]
  },
  {
   "cell_type": "code",
   "execution_count": null,
   "id": "d1108c1e-671f-4525-bf3e-1ed5178f8e1f",
   "metadata": {},
   "outputs": [],
   "source": [
    "lengths = jnp.linspace(0, 15000, 151, dtype=jnp.int32)\n",
    "lengths"
   ]
  },
  {
   "cell_type": "code",
   "execution_count": null,
   "id": "918d2ac9-040c-4516-a2b8-b3f3277d0595",
   "metadata": {},
   "outputs": [],
   "source": [
    "def extract_results(lengths, raw_results_path, algo_names, system_name, metrics=None, extra_folders=None):\n",
    "\n",
    "    all_results_by_metric = {}\n",
    "    \n",
    "    for algo_name in algo_names:\n",
    "        full_results_path = raw_results_path / pathlib.Path(algo_name) / pathlib.Path(system_name)\n",
    "        full_results_path = full_results_path / pathlib.Path(extra_folders) if extra_folders is not None else full_results_path\n",
    "\n",
    "        print(\"Extract results for\", algo_name, \"\\n at\", full_results_path)\n",
    "        \n",
    "        all_results_by_metric[algo_name] = extract_metrics_over_timesteps(\n",
    "            experiment_ids=get_experiment_ids(full_results_path),\n",
    "            results_path=full_results_path,\n",
    "            lengths=lengths,\n",
    "            metrics=metrics,\n",
    "            slotted=True,\n",
    "        )\n",
    "        print(\"\\n\")\n",
    "    return all_results_by_metric"
   ]
  },
  {
   "cell_type": "markdown",
   "id": "6f6b9d07-175c-4d7b-abb4-2f23126090ba",
   "metadata": {},
   "source": [
    "## fluid_tank:"
   ]
  },
  {
   "cell_type": "code",
   "execution_count": null,
   "id": "82157d41-4066-4bf7-a0cf-d5168ba8a721",
   "metadata": {},
   "outputs": [],
   "source": [
    "from exciting_exciting_systems.excitation.excitation_utils import soft_penalty"
   ]
  },
  {
   "cell_type": "code",
   "execution_count": null,
   "id": "b0192298-d0da-4562-b2d8-20c74e82a459",
   "metadata": {},
   "outputs": [],
   "source": [
    "def soft_penalty_wrapper(observations, actions, a_max=1, penalty_order=1):\n",
    "    # actions are ignored because they practically cannot be out of the constraints\n",
    "    return soft_penalty(observations, a_max, penalty_order) / observations.shape[0]"
   ]
  },
  {
   "cell_type": "code",
   "execution_count": null,
   "id": "7bde5549-afad-49d8-a16e-1a082a2aa9d8",
   "metadata": {},
   "outputs": [],
   "source": []
  },
  {
   "cell_type": "code",
   "execution_count": null,
   "id": "1020f7dd-7bcb-4823-89a9-546cc3f3ab42",
   "metadata": {
    "scrolled": true
   },
   "outputs": [],
   "source": [
    "# system_name = \"fluid_tank\"\n",
    "\n",
    "# all_fluid_tank_results_by_metric = extract_results(\n",
    "#     lengths=lengths,\n",
    "#     raw_results_path=pathlib.Path(\"/home/hvater@uni-paderborn.de/projects/exciting-exciting-systems/eval/results/\"),\n",
    "#     algo_names=[\"dmpe\", \"sgoats\", \"perfect_model_dmpe\", \"igoats\"],\n",
    "#     system_name=system_name,\n",
    "#     extra_folders=None,\n",
    "#     metrics={\n",
    "#         \"sc\": soft_penalty_wrapper,\n",
    "#     }\n",
    "# )\n",
    "# with open(\"results/fluid_tank_results_constraints.pickle\", \"wb\") as handle:\n",
    "#     pickle.dump(all_fluid_tank_results_by_metric, handle, protocol=pickle.HIGHEST_PROTOCOL)"
   ]
  },
  {
   "cell_type": "code",
   "execution_count": null,
   "id": "79202094-e5da-4646-aa52-878d20b9e705",
   "metadata": {},
   "outputs": [],
   "source": [
    "system_name = \"fluid_tank\"\n",
    "with open(\"results/fluid_tank_results_constraints.pickle\", 'rb') as handle:\n",
    "    all_fluid_tank_results_by_metric = pickle.load(handle)"
   ]
  },
  {
   "cell_type": "code",
   "execution_count": null,
   "id": "e557603e-0a2d-4cc8-a181-5c3eb819ab41",
   "metadata": {},
   "outputs": [],
   "source": [
    "for algo in all_fluid_tank_results_by_metric.keys():\n",
    "    results_for_algo = all_fluid_tank_results_by_metric[algo]\n",
    "    print(algo)\n",
    "    print(\"mean:\", np.nanmean(results_for_algo[\"sc\"]))\n",
    "    print(\"std:\", np.nanstd(results_for_algo[\"sc\"]))\n",
    "    print(\"\\n\")"
   ]
  },
  {
   "cell_type": "code",
   "execution_count": null,
   "id": "06df7114-ee7d-4e13-a300-7f9236e44745",
   "metadata": {},
   "outputs": [],
   "source": [
    "pm_dmpe_results_by_metric = all_fluid_tank_results_by_metric[\"perfect_model_dmpe\"]\n",
    "dmpe_results_by_metric = all_fluid_tank_results_by_metric[\"dmpe\"]\n",
    "sgoats_results_by_metric = all_fluid_tank_results_by_metric[\"sgoats\"]\n",
    "igoats_results_by_metric = all_fluid_tank_results_by_metric[\"igoats\"] \n",
    "\n",
    "plot_metrics_by_sequence_length_for_all_algos(\n",
    "    data_per_algo=[pm_dmpe_results_by_metric, dmpe_results_by_metric, sgoats_results_by_metric, igoats_results_by_metric],\n",
    "    lengths=lengths[1:],\n",
    "    algo_names=[\"$\\mathrm{PM-DMPE}$\", \"$\\mathrm{DMPE}$\", \"$\\mathrm{sGOATS}$\", \"$\\mathrm{iGOATS}$\"],\n",
    "    use_log=False,\n",
    "    show_legend=True,\n",
    ");\n",
    "plt.savefig(f\"metrics_per_sequence_length_{system_name}_constraints.pdf\")"
   ]
  },
  {
   "cell_type": "markdown",
   "id": "17f1abe5-6061-4e0d-8f8d-0d74b94ecfd1",
   "metadata": {},
   "source": [
    "## pendulum:"
   ]
  },
  {
   "cell_type": "code",
   "execution_count": null,
   "id": "658cc045-b5e7-4619-95b0-7f7519135346",
   "metadata": {
    "scrolled": true
   },
   "outputs": [],
   "source": [
    "# system_name = \"pendulum\"\n",
    "\n",
    "# all_pendulum_results_by_metric = extract_results(\n",
    "#     lengths=lengths,\n",
    "#     raw_results_path=pathlib.Path(\"/home/hvater@uni-paderborn.de/projects/exciting-exciting-systems/eval/results/\"),\n",
    "#     algo_names=[\"dmpe\", \"sgoats\", \"perfect_model_dmpe\", \"igoats\"],\n",
    "#     system_name=system_name,\n",
    "#     extra_folders=None,\n",
    "#     metrics={\n",
    "#         \"sc\": soft_penalty_wrapper,\n",
    "#     }\n",
    "# )\n",
    "# with open(\"results/pendulum_results_constraints.pickle\", \"wb\") as handle:\n",
    "#     pickle.dump(all_pendulum_results_by_metric, handle, protocol=pickle.HIGHEST_PROTOCOL)"
   ]
  },
  {
   "cell_type": "code",
   "execution_count": null,
   "id": "529582c6-2dd5-44a3-aad7-9cd02e75e4ac",
   "metadata": {},
   "outputs": [],
   "source": [
    "system_name = \"pendulum\"\n",
    "with open(\"results/pendulum_results_constraints.pickle\", 'rb') as handle:\n",
    "    all_pendulum_results_by_metric = pickle.load(handle)"
   ]
  },
  {
   "cell_type": "code",
   "execution_count": null,
   "id": "91518b02-6809-46d0-9288-5428e5786593",
   "metadata": {},
   "outputs": [],
   "source": [
    "for algo in all_pendulum_results_by_metric.keys():\n",
    "    results_for_algo = all_pendulum_results_by_metric[algo]\n",
    "    print(algo)\n",
    "    print(\"mean:\", np.nanmean(results_for_algo[\"sc\"]))\n",
    "    print(\"std:\", np.nanstd(results_for_algo[\"sc\"]))\n",
    "    print(\"\\n\")"
   ]
  },
  {
   "cell_type": "code",
   "execution_count": null,
   "id": "5716827e-5f1e-4c1c-b450-5fa61ff8c5ea",
   "metadata": {},
   "outputs": [],
   "source": [
    "pm_dmpe_results_by_metric = all_pendulum_results_by_metric[\"perfect_model_dmpe\"]\n",
    "dmpe_results_by_metric = all_pendulum_results_by_metric[\"dmpe\"]\n",
    "sgoats_results_by_metric = all_pendulum_results_by_metric[\"sgoats\"]\n",
    "igoats_results_by_metric = all_pendulum_results_by_metric[\"igoats\"] \n",
    "\n",
    "plot_metrics_by_sequence_length_for_all_algos(\n",
    "    data_per_algo=[pm_dmpe_results_by_metric, dmpe_results_by_metric, sgoats_results_by_metric, igoats_results_by_metric],\n",
    "    lengths=lengths[1:],\n",
    "    algo_names=[\"$\\mathrm{PM-DMPE}$\", \"$\\mathrm{DMPE}$\", \"$\\mathrm{sGOATS}$\", \"$\\mathrm{iGOATS}$\"],\n",
    "    use_log=False,\n",
    "    show_zoomed=True,\n",
    ");\n",
    "plt.savefig(f\"metrics_per_sequence_length_{system_name}_constraints.pdf\")"
   ]
  },
  {
   "cell_type": "markdown",
   "id": "88385edf-7637-4112-94ca-fd477f24c1f0",
   "metadata": {},
   "source": [
    "## Cart pole:"
   ]
  },
  {
   "cell_type": "code",
   "execution_count": null,
   "id": "0de2bd9e-4e42-4677-a2b5-b7e6e108ff16",
   "metadata": {
    "scrolled": true
   },
   "outputs": [],
   "source": [
    "# system_name = \"cart_pole\"\n",
    "\n",
    "# all_cart_pole_results_by_metric = extract_results(\n",
    "#     lengths=lengths,\n",
    "#     raw_results_path=pathlib.Path(\"/home/hvater@uni-paderborn.de/projects/exciting-exciting-systems/eval/results/\"),\n",
    "#     algo_names=[\"dmpe\", \"sgoats\", \"perfect_model_dmpe\", \"igoats\"],\n",
    "#     system_name=system_name,\n",
    "#     extra_folders=None,\n",
    "#     metrics={\n",
    "#         \"sc\": soft_penalty_wrapper,\n",
    "#     }\n",
    "# )\n",
    "# with open(\"results/cart_pole_results_constraints.pickle\", \"wb\") as handle:\n",
    "#     pickle.dump(all_cart_pole_results_by_metric, handle, protocol=pickle.HIGHEST_PROTOCOL)"
   ]
  },
  {
   "cell_type": "code",
   "execution_count": null,
   "id": "4abe14b0-4b88-4647-b8e5-d00543306fc4",
   "metadata": {},
   "outputs": [],
   "source": [
    "system_name = \"cart_pole\"\n",
    "with open(\"results/cart_pole_results_constraints.pickle\", 'rb') as handle:\n",
    "    all_cart_pole_results_by_metric = pickle.load(handle)"
   ]
  },
  {
   "cell_type": "code",
   "execution_count": null,
   "id": "74a4b1ae-84fa-4759-adfa-49855bc9ee98",
   "metadata": {},
   "outputs": [],
   "source": [
    "for algo in all_cart_pole_results_by_metric.keys():\n",
    "    results_for_algo = all_cart_pole_results_by_metric[algo]\n",
    "    print(algo)\n",
    "    print(\"mean:\", np.nanmean(results_for_algo[\"sc\"]))\n",
    "    print(\"std:\", np.nanstd(results_for_algo[\"sc\"]))\n",
    "    print(\"\\n\")"
   ]
  },
  {
   "cell_type": "code",
   "execution_count": null,
   "id": "1deaa7b0-8979-48f4-ad53-c26d2a82c373",
   "metadata": {},
   "outputs": [],
   "source": [
    "pm_dmpe_results_by_metric = all_cart_pole_results_by_metric[\"perfect_model_dmpe\"]\n",
    "dmpe_results_by_metric = all_cart_pole_results_by_metric[\"dmpe\"]\n",
    "sgoats_results_by_metric = all_cart_pole_results_by_metric[\"sgoats\"]\n",
    "igoats_results_by_metric = all_cart_pole_results_by_metric[\"igoats\"] \n",
    "\n",
    "plot_metrics_by_sequence_length_for_all_algos(\n",
    "    data_per_algo=[pm_dmpe_results_by_metric, dmpe_results_by_metric, sgoats_results_by_metric, igoats_results_by_metric],\n",
    "    lengths=lengths[1:],\n",
    "    algo_names=[\"$\\mathrm{PM-DMPE}$\", \"$\\mathrm{DMPE}$\", \"$\\mathrm{sGOATS}$\", \"$\\mathrm{iGOATS}$\"],\n",
    "    use_log=False,\n",
    ");\n",
    "plt.savefig(f\"metrics_per_sequence_length_{system_name}_constraints.pdf\")"
   ]
  },
  {
   "cell_type": "code",
   "execution_count": null,
   "id": "47c29431-3f3d-4ce5-b5de-b224079fb500",
   "metadata": {},
   "outputs": [],
   "source": [
    "system_name"
   ]
  },
  {
   "cell_type": "code",
   "execution_count": null,
   "id": "6f7b15bd-fc2e-430a-88a5-d372613fc24e",
   "metadata": {},
   "outputs": [],
   "source": []
  },
  {
   "cell_type": "markdown",
   "id": "c0ca4d06-ae12-4e7c-8327-16e1ec1ae238",
   "metadata": {},
   "source": [
    "-> build the full plot in latex"
   ]
  },
  {
   "cell_type": "code",
   "execution_count": null,
   "id": "ab244d33-38a0-4ab6-b3a2-9453c8597284",
   "metadata": {},
   "outputs": [],
   "source": []
  }
 ],
 "metadata": {
  "kernelspec": {
   "display_name": "Python 3 (ipykernel)",
   "language": "python",
   "name": "python3"
  },
  "language_info": {
   "codemirror_mode": {
    "name": "ipython",
    "version": 3
   },
   "file_extension": ".py",
   "mimetype": "text/x-python",
   "name": "python",
   "nbconvert_exporter": "python",
   "pygments_lexer": "ipython3",
   "version": "3.11.9"
  }
 },
 "nbformat": 4,
 "nbformat_minor": 5
}
