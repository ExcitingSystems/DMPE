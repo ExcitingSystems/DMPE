{
 "cells": [
  {
   "cell_type": "code",
   "execution_count": null,
   "id": "49b82c6b-5668-448c-87e8-4008506bb530",
   "metadata": {},
   "outputs": [],
   "source": [
    "%load_ext autoreload\n",
    "%autoreload 2\n",
    "%reload_ext line_profiler"
   ]
  },
  {
   "cell_type": "code",
   "execution_count": null,
   "id": "53807c30-0c6f-43c3-8194-7339314b6d12",
   "metadata": {},
   "outputs": [],
   "source": [
    "import pathlib\n",
    "\n",
    "import os\n",
    "os.environ[\"XLA_PYTHON_CLIENT_PREALLOCATE\"]=\"false\"\n",
    "\n",
    "import numpy as np\n",
    "import matplotlib.pyplot as plt\n",
    "import matplotlib as mpl\n",
    "from matplotlib import rc\n",
    "# rc('font',**{'family':'serif','serif':['Helvetica']})\n",
    "mpl.rcParams['text.usetex'] = True\n",
    "mpl.rcParams.update({'font.size': 10 * 2.54})\n",
    "mpl.rcParams['text.latex.preamble']=r\"\\usepackage{bm}\\usepackage{amsmath}\"\n",
    "\n",
    "import jax\n",
    "import jax.numpy as jnp\n",
    "import jax_dataclasses as jdc\n",
    "from jax.tree_util import tree_flatten, tree_unflatten\n",
    "\n",
    "jax.config.update('jax_platform_name', 'cpu')\n",
    "\n",
    "# gpus = jax.devices()\n",
    "# jax.config.update(\"jax_default_device\", gpus[0])\n",
    "\n",
    "import diffrax"
   ]
  },
  {
   "cell_type": "code",
   "execution_count": null,
   "id": "b4b7f361-a6ec-4a6c-a028-e53d1026c08e",
   "metadata": {},
   "outputs": [],
   "source": [
    "from exciting_exciting_systems.evaluation.experiment_utils import extract_metrics_over_timesteps\n",
    "from exciting_exciting_systems.evaluation.plotting_utils import plot_metrics_by_sequence_length_for_all_algos\n",
    "from exciting_exciting_systems.evaluation.experiment_utils import get_experiment_ids"
   ]
  },
  {
   "cell_type": "code",
   "execution_count": null,
   "id": "d1108c1e-671f-4525-bf3e-1ed5178f8e1f",
   "metadata": {},
   "outputs": [],
   "source": [
    "lengths = jnp.arange(500, 5100, 500)\n",
    "lengths"
   ]
  },
  {
   "cell_type": "code",
   "execution_count": null,
   "id": "d39c583c-7bf1-4276-a76d-03aa516e31d7",
   "metadata": {
    "scrolled": true
   },
   "outputs": [],
   "source": [
    "igoats_results_path = pathlib.Path(\"/home/hvater@uni-paderborn.de/projects/exciting-exciting-systems/eval/results/igoats/fluid_tank/run1\")\n",
    "igoats_results_by_metric = extract_metrics_over_timesteps(\n",
    "    experiment_ids=get_experiment_ids(igoats_results_path),\n",
    "    results_path=igoats_results_path,\n",
    "    lengths=lengths,\n",
    ")"
   ]
  },
  {
   "cell_type": "code",
   "execution_count": null,
   "id": "50e5e326-bdb4-44b9-915f-b1888f3255c7",
   "metadata": {
    "scrolled": true
   },
   "outputs": [],
   "source": [
    "sgoats_results_path = pathlib.Path(\"/home/hvater@uni-paderborn.de/projects/exciting-exciting-systems/eval/results/sgoats/fluid_tank/run1\")\n",
    "sgoats_results_by_metric = extract_metrics_over_timesteps(\n",
    "    experiment_ids=get_experiment_ids(sgoats_results_path),\n",
    "    results_path=sgoats_results_path,\n",
    "    lengths=lengths,\n",
    ")"
   ]
  },
  {
   "cell_type": "code",
   "execution_count": null,
   "id": "c4704773-9249-4495-b626-c75017fdef60",
   "metadata": {
    "scrolled": true
   },
   "outputs": [],
   "source": [
    "dmpe_results_path = pathlib.Path(\"/home/hvater@uni-paderborn.de/projects/exciting-exciting-systems/eval/results/dmpe/fluid_tank\")\n",
    "dmpe_results_by_metric = extract_metrics_over_timesteps(\n",
    "    experiment_ids=get_experiment_ids(dmpe_results_path),\n",
    "    results_path=dmpe_results_path,\n",
    "    lengths=lengths,\n",
    ")"
   ]
  },
  {
   "cell_type": "code",
   "execution_count": null,
   "id": "a965d012-5ce1-4aa1-a55b-25269957a377",
   "metadata": {
    "scrolled": true
   },
   "outputs": [],
   "source": [
    "pm_dmpe_results_path = pathlib.Path(\"/home/hvater@uni-paderborn.de/projects/exciting-exciting-systems/eval/results/perfect_model_dmpe/fluid_tank\")\n",
    "pm_dmpe_results_by_metric = extract_metrics_over_timesteps(\n",
    "    experiment_ids=get_experiment_ids(pm_dmpe_results_path),\n",
    "    results_path=pm_dmpe_results_path,\n",
    "    lengths=lengths,\n",
    ")"
   ]
  },
  {
   "cell_type": "markdown",
   "id": "b1572a2b-e2ed-459e-b7fe-0e15ad396718",
   "metadata": {},
   "source": [
    "plot results:"
   ]
  },
  {
   "cell_type": "code",
   "execution_count": null,
   "id": "4c9894f3-f9da-49b7-9a8e-2d7c7e5e8f9a",
   "metadata": {},
   "outputs": [],
   "source": [
    "def plot_metrics_by_sequence_length_for_all_algos(data_per_algo, lengths, algo_names, use_log=False):\n",
    "    assert len(data_per_algo) == len(algo_names), \"Mismatch in number of algo results and number of algo names\"\n",
    "\n",
    "    metric_keys = data_per_algo[0].keys()\n",
    "\n",
    "    fig, axs = plt.subplots(3, figsize=(19, 18), sharex=True)\n",
    "    colors = plt.rcParams[\"axes.prop_cycle\"]()\n",
    "\n",
    "    for algo_name, data in zip(algo_names, data_per_algo):\n",
    "        c = next(colors)[\"color\"]\n",
    "\n",
    "        for metric_idx, metric_key in enumerate(metric_keys):\n",
    "            mean = jnp.nanmean(jnp.log(data[metric_key]), axis=0) if use_log else jnp.nanmean(data[metric_key], axis=0)\n",
    "            std = jnp.nanstd(jnp.log(data[metric_key]), axis=0) if use_log else jnp.nanstd(data[metric_key], axis=0)\n",
    "\n",
    "            axs[metric_idx].plot(\n",
    "                lengths,\n",
    "                mean,  # jnp.log(mean) if use_log else mean,\n",
    "                label=algo_name,\n",
    "                color=c,\n",
    "            )\n",
    "            axs[metric_idx].fill_between(\n",
    "                lengths,\n",
    "                mean - std,  # jnp.log(mean - std) if use_log else mean - std,\n",
    "                mean + std,  # jnp.log(mean + std) if use_log else mean + std,\n",
    "                color=c,\n",
    "                alpha=0.1,\n",
    "            )\n",
    "            axs[metric_idx].set_ylabel((\"log \" if use_log else \"\") + metric_key)\n",
    "\n",
    "    for idx, metric_key in enumerate(metric_keys):\n",
    "        axs[idx].set_ylabel(f\"$\\mathcal{{L}}_\\mathrm{{{metric_key.upper()}}}$\")\n",
    "\n",
    "    axs[-1].set_xlabel(\"$\\mathrm{timesteps}$\")\n",
    "    axs[-1].set_xlim(lengths[0] - 100, lengths[-1] + 100)\n",
    "    [ax.grid(True) for ax in axs]\n",
    "    axs[0].legend()\n",
    "    plt.tight_layout()\n",
    "\n",
    "    return fig\n"
   ]
  },
  {
   "cell_type": "code",
   "execution_count": null,
   "id": "4d1e48dd-3f89-4b3f-b508-257cccdaa27d",
   "metadata": {},
   "outputs": [],
   "source": [
    "plot_metrics_by_sequence_length_for_all_algos(\n",
    "    data_per_algo=[pm_dmpe_results_by_metric, dmpe_results_by_metric, sgoats_results_by_metric, igoats_results_by_metric],\n",
    "    lengths=lengths,\n",
    "    algo_names=[\"$\\mathrm{PM-DMPE}$\", \"$\\mathrm{DMPE}$\", \"$\\mathrm{sGOATS}$\", \"$\\mathrm{iGOATS}$\"],\n",
    "    use_log=True,\n",
    ");\n",
    "plt.savefig(f\"metrics_per_sequence_length.pdf\")"
   ]
  },
  {
   "cell_type": "code",
   "execution_count": null,
   "id": "6dcbba59-551d-497a-b74d-3e8ddd3a8b33",
   "metadata": {},
   "outputs": [],
   "source": [
    "dmpe_results_by_metric_wo_outlier = {key: jnp.delete(results_array, 5, axis=0) for key, results_array in dmpe_results_by_metric.items()}"
   ]
  },
  {
   "cell_type": "code",
   "execution_count": null,
   "id": "aa839355-3429-4b71-814e-2936da860770",
   "metadata": {},
   "outputs": [],
   "source": [
    "plot_metrics_by_sequence_length_for_all_algos(\n",
    "    data_per_algo=[pm_dmpe_results_by_metric, dmpe_results_by_metric_wo_outlier, sgoats_results_by_metric, igoats_results_by_metric],\n",
    "    lengths=lengths,\n",
    "    algo_names=[\"$\\mathrm{PM-DMPE}$\", \"$\\mathrm{DMPE \\ without \\ outlier} $\", \"$\\mathrm{sGOATS}$\", \"$\\mathrm{iGOATS}$\"],\n",
    "    use_log=True,\n",
    ");\n",
    "plt.savefig(f\"metrics_per_sequence_length_without_outlier.pdf\")"
   ]
  },
  {
   "cell_type": "code",
   "execution_count": null,
   "id": "2d355aea-566d-4a29-98a8-4925b000e83e",
   "metadata": {},
   "outputs": [],
   "source": []
  }
 ],
 "metadata": {
  "kernelspec": {
   "display_name": "Python 3 (ipykernel)",
   "language": "python",
   "name": "python3"
  },
  "language_info": {
   "codemirror_mode": {
    "name": "ipython",
    "version": 3
   },
   "file_extension": ".py",
   "mimetype": "text/x-python",
   "name": "python",
   "nbconvert_exporter": "python",
   "pygments_lexer": "ipython3",
   "version": "3.11.9"
  }
 },
 "nbformat": 4,
 "nbformat_minor": 5
}
