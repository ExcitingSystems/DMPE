{
 "cells": [
  {
   "cell_type": "code",
   "execution_count": null,
   "id": "49b82c6b-5668-448c-87e8-4008506bb530",
   "metadata": {},
   "outputs": [],
   "source": [
    "%load_ext autoreload\n",
    "%autoreload 2\n",
    "%reload_ext line_profiler"
   ]
  },
  {
   "cell_type": "code",
   "execution_count": null,
   "id": "53807c30-0c6f-43c3-8194-7339314b6d12",
   "metadata": {},
   "outputs": [],
   "source": [
    "import pathlib\n",
    "\n",
    "from functools import partial\n",
    "import os\n",
    "os.environ['CUDA_VISIBLE_DEVICES'] = '0'\n",
    "os.environ[\"XLA_PYTHON_CLIENT_PREALLOCATE\"]=\"false\"\n",
    "\n",
    "import pickle\n",
    "import json\n",
    "import numpy as np\n",
    "import matplotlib.pyplot as plt\n",
    "import matplotlib as mpl\n",
    "from matplotlib import rc\n",
    "# rc('font',**{'family':'serif','serif':['Helvetica']})\n",
    "mpl.rcParams['text.usetex'] = True\n",
    "mpl.rcParams.update({'font.size': 10 * 2.54})\n",
    "mpl.rcParams['text.latex.preamble']=r\"\\usepackage{bm}\\usepackage{amsmath}\"\n",
    "\n",
    "import jax\n",
    "import jax.numpy as jnp\n",
    "import jax_dataclasses as jdc\n",
    "from jax.tree_util import tree_flatten, tree_unflatten\n",
    "\n",
    "# jax.config.update('jax_platform_name', 'cpu')\n",
    "\n",
    "# jax.config.update(\"jax_debug_nans\", True)\n",
    "\n",
    "gpus = jax.devices()\n",
    "jax.config.update(\"jax_default_device\", gpus[0])\n",
    "\n",
    "import diffrax"
   ]
  },
  {
   "cell_type": "code",
   "execution_count": null,
   "id": "b4b7f361-a6ec-4a6c-a028-e53d1026c08e",
   "metadata": {},
   "outputs": [],
   "source": [
    "from exciting_exciting_systems.evaluation.experiment_utils import extract_metrics_over_timesteps, extract_metrics_over_timesteps_via_interpolation\n",
    "from exciting_exciting_systems.evaluation.plotting_utils import plot_metrics_by_sequence_length_for_all_algos\n",
    "from exciting_exciting_systems.evaluation.experiment_utils import get_experiment_ids\n",
    "\n",
    "from exciting_exciting_systems.utils.density_estimation import select_bandwidth\n",
    "from exciting_exciting_systems.evaluation.experiment_utils import default_jsd, default_ae, default_mcudsa, default_ksfc"
   ]
  },
  {
   "cell_type": "code",
   "execution_count": null,
   "id": "db302604-c074-41ed-b429-1716f8e05079",
   "metadata": {},
   "outputs": [],
   "source": [
    "full_column_width = 18.2\n",
    "half_colmun_width = 8.89\n",
    "\n",
    "def plot_metrics_by_sequence_length_for_all_algos(data_per_algo, lengths, algo_names, use_log=False):\n",
    "    assert len(data_per_algo) == len(algo_names), \"Mismatch in number of algo results and number of algo names\"\n",
    "\n",
    "    metric_keys = data_per_algo[0].keys()\n",
    "\n",
    "    fig, axs = plt.subplots(4, figsize=(half_colmun_width, 14), sharex=True) # figsize=(19, 18)\n",
    "    colors = plt.rcParams[\"axes.prop_cycle\"]()\n",
    "\n",
    "    for algo_name, data in zip(algo_names, data_per_algo):\n",
    "        c = next(colors)[\"color\"]\n",
    "        if c == '#d62728':\n",
    "            c = next(colors)[\"color\"]\n",
    "\n",
    "        for metric_idx, metric_key in enumerate(metric_keys):\n",
    "            mean = jnp.nanmean(jnp.log(data[metric_key]), axis=0) if use_log else jnp.nanmean(data[metric_key], axis=0)\n",
    "            std = jnp.nanstd(jnp.log(data[metric_key]), axis=0) if use_log else jnp.nanstd(data[metric_key], axis=0)\n",
    "\n",
    "            axs[metric_idx].plot(\n",
    "                lengths,\n",
    "                mean,  # jnp.log(mean) if use_log else mean,\n",
    "                label=algo_name,\n",
    "                color=c,\n",
    "            )\n",
    "            axs[metric_idx].fill_between(\n",
    "                lengths,\n",
    "                mean - std,  # jnp.log(mean - std) if use_log else mean - std,\n",
    "                mean + std,  # jnp.log(mean + std) if use_log else mean + std,\n",
    "                color=c,\n",
    "                alpha=0.1,\n",
    "            )\n",
    "            # axs[metric_idx].set_ylabel((\"log \" if use_log else \"\") + metric_key)\n",
    "\n",
    "    for idx, metric_key in enumerate(metric_keys):\n",
    "        axs[idx].set_ylabel(f\"$\\mathcal{{L}}_\\mathrm{{{metric_key.upper()}}}$\")\n",
    "\n",
    "    axs[-1].set_xlabel(\"$k$\")\n",
    "    axs[-1].set_xlim(lengths[0], lengths[-1])\n",
    "    [ax.grid(True) for ax in axs]\n",
    "    axs[0].legend()\n",
    "    plt.tight_layout()\n",
    "\n",
    "    [ax.tick_params(axis=\"y\", direction='in') for ax in axs]\n",
    "    [ax.tick_params(axis=\"x\", direction='in') for ax in axs]\n",
    "\n",
    "    # fig.align_ylabels(axs)\n",
    "\n",
    "    plt.subplots_adjust(hspace=0.05)\n",
    "\n",
    "    return fig"
   ]
  },
  {
   "cell_type": "code",
   "execution_count": null,
   "id": "d1108c1e-671f-4525-bf3e-1ed5178f8e1f",
   "metadata": {},
   "outputs": [],
   "source": [
    "lengths = jnp.linspace(1000, 15000, 15, dtype=jnp.int32)\n",
    "lengths"
   ]
  },
  {
   "cell_type": "code",
   "execution_count": null,
   "id": "918d2ac9-040c-4516-a2b8-b3f3277d0595",
   "metadata": {},
   "outputs": [],
   "source": [
    "def extract_results(lengths, raw_results_path, algo_names, interpolate_to_lengths, system_name, metrics=None, extra_folders=None):\n",
    "\n",
    "    all_results_by_metric = {}\n",
    "    \n",
    "    for (algo_name, use_interpolation) in zip(algo_names, interpolate_to_lengths):\n",
    "        full_results_path = raw_results_path / pathlib.Path(algo_name) / pathlib.Path(system_name)\n",
    "        full_results_path = full_results_path / pathlib.Path(extra_folders) if extra_folders is not None else full_results_path\n",
    "\n",
    "        print(\"Extract results for\", algo_name, \"\\n at\", full_results_path)\n",
    "\n",
    "        if not use_interpolation:\n",
    "            all_results_by_metric[algo_name] = extract_metrics_over_timesteps(\n",
    "                experiment_ids=get_experiment_ids(full_results_path),\n",
    "                results_path=full_results_path,\n",
    "                lengths=lengths,\n",
    "                metrics=metrics,\n",
    "            )\n",
    "        else:\n",
    "            all_results_by_metric[algo_name] = extract_metrics_over_timesteps_via_interpolation(\n",
    "                experiment_ids=get_experiment_ids(full_results_path),\n",
    "                results_path=full_results_path,\n",
    "                target_lengths=lengths,\n",
    "                metrics=metrics,\n",
    "            )\n",
    "        print(\"\\n\")\n",
    "    return all_results_by_metric"
   ]
  },
  {
   "cell_type": "markdown",
   "id": "56da536c-2c46-4dc7-8deb-59070b911c5a",
   "metadata": {},
   "source": [
    "## fluid_tank:"
   ]
  },
  {
   "cell_type": "code",
   "execution_count": null,
   "id": "3e319a70-d3be-4d1f-ac74-1efd6eb82f18",
   "metadata": {
    "scrolled": true
   },
   "outputs": [],
   "source": [
    "# system_name = \"fluid_tank\"\n",
    "\n",
    "# all_fluid_tank_results_by_metric = extract_results(\n",
    "#     lengths=lengths,\n",
    "#     raw_results_path=pathlib.Path(\"/home/hvater@uni-paderborn.de/projects/exciting-exciting-systems/eval/results/\"),\n",
    "#     algo_names=[\"dmpe\", \"sgoats\", \"perfect_model_dmpe\", \"igoats\"],\n",
    "#     interpolate_to_lengths=[False, True, False, True],\n",
    "#     system_name=system_name,\n",
    "#     extra_folders=None,\n",
    "#     metrics={\n",
    "#         \"jsd\": partial(default_jsd, points_per_dim=50, bandwidth=select_bandwidth(2, 2, 50, 0.3).item()),\n",
    "#         \"ae\": default_ae,\n",
    "#         \"mcudsa\": partial(default_mcudsa, points_per_dim=50),\n",
    "#         \"ksfc\": partial(default_ksfc, points_per_dim=50, eps=1e-6),\n",
    "#     }\n",
    "# )\n",
    "# with open(\"results/fluid_tank_results.pickle\", \"wb\") as handle:\n",
    "#     pickle.dump(all_fluid_tank_results_by_metric, handle, protocol=pickle.HIGHEST_PROTOCOL)"
   ]
  },
  {
   "cell_type": "code",
   "execution_count": null,
   "id": "b08310cb-c657-47fa-a862-58b66af9ade8",
   "metadata": {},
   "outputs": [],
   "source": [
    "system_name = \"fluid_tank\"\n",
    "\n",
    "with open(\"results/fluid_tank_results.pickle\", 'rb') as handle:\n",
    "    all_fluid_tank_results_by_metric = pickle.load(handle)\n",
    "\n",
    "all_fluid_tank_results_by_metric.keys()"
   ]
  },
  {
   "cell_type": "code",
   "execution_count": null,
   "id": "f38ff222-6e6a-48a7-8ad2-4003b44773d3",
   "metadata": {},
   "outputs": [],
   "source": []
  },
  {
   "cell_type": "code",
   "execution_count": null,
   "id": "7043fb07-0874-44ae-8df0-4423be2c0373",
   "metadata": {
    "scrolled": true
   },
   "outputs": [],
   "source": [
    "# system_name = \"fluid_tank\"\n",
    "\n",
    "# test_metrics = extract_results(\n",
    "#     lengths=lengths,\n",
    "#     raw_results_path=pathlib.Path(\"/home/hvater@uni-paderborn.de/projects/exciting-exciting-systems/eval/results/\"),\n",
    "#     algo_names=[\"sgoats\"],\n",
    "#     system_name=system_name,\n",
    "#     extra_folders=\"old\",\n",
    "#     metrics={\n",
    "#         \"jsd\": partial(default_jsd, points_per_dim=50, bandwidth=select_bandwidth(2, 2, 50, 0.3)),\n",
    "#         \"ae\": default_ae,\n",
    "#         \"mcudsa\": partial(default_mcudsa, points_per_dim=50),\n",
    "#         \"ksfc\": partial(default_ksfc, points_per_dim=50, eps=1e-6),\n",
    "#     }\n",
    "# )"
   ]
  },
  {
   "cell_type": "code",
   "execution_count": null,
   "id": "a6f3986e-2dca-44e8-9411-44da2cd8f618",
   "metadata": {},
   "outputs": [],
   "source": [
    "# pm_dmpe_results_by_metric = all_fluid_tank_results_by_metric[\"perfect_model_dmpe\"]\n",
    "# dmpe_results_by_metric = all_fluid_tank_results_by_metric[\"dmpe\"]\n",
    "# sgoats_results_by_metric = all_fluid_tank_results_by_metric[\"sgoats\"] \n",
    "# igoats_results_by_metric = all_fluid_tank_results_by_metric[\"igoats\"] \n",
    "\n",
    "# plot_metrics_by_sequence_length_for_all_algos(\n",
    "#     data_per_algo=[pm_dmpe_results_by_metric, dmpe_results_by_metric, sgoats_results_by_metric, igoats_results_by_metric, test_metrics[\"sgoats\"]],\n",
    "#     lengths=lengths,\n",
    "#     algo_names=[\"$\\mathrm{PM-DMPE}$\", \"$\\mathrm{DMPE}$\", \"$\\mathrm{sGOATS}$\", \"$\\mathrm{iGOATS}$\", \"$\\mathrm{sGOATS}_\\mathrm{old}$\"],\n",
    "#     use_log=True,\n",
    "# );\n",
    "# plt.savefig(f\"N_loss_test_{system_name}.pdf\")"
   ]
  },
  {
   "cell_type": "code",
   "execution_count": null,
   "id": "197f11a0-c3c1-467c-9b32-dc3bcfdc14c5",
   "metadata": {},
   "outputs": [],
   "source": []
  },
  {
   "cell_type": "code",
   "execution_count": null,
   "id": "640cce8e-e04a-4a4a-b6ca-81b8242e5a84",
   "metadata": {},
   "outputs": [],
   "source": [
    "pm_dmpe_results_by_metric = all_fluid_tank_results_by_metric[\"perfect_model_dmpe\"]\n",
    "dmpe_results_by_metric = all_fluid_tank_results_by_metric[\"dmpe\"]\n",
    "sgoats_results_by_metric = all_fluid_tank_results_by_metric[\"sgoats\"][\"interp\"]\n",
    "igoats_results_by_metric = all_fluid_tank_results_by_metric[\"igoats\"][\"interp\"]"
   ]
  },
  {
   "cell_type": "code",
   "execution_count": null,
   "id": "2f3e0921-2604-413f-9b31-7c1af65c576b",
   "metadata": {},
   "outputs": [],
   "source": [
    "plot_metrics_by_sequence_length_for_all_algos(\n",
    "    data_per_algo=[pm_dmpe_results_by_metric, dmpe_results_by_metric, sgoats_results_by_metric, igoats_results_by_metric],\n",
    "    lengths=lengths,\n",
    "    algo_names=[\"$\\mathrm{PM-DMPE}$\", \"$\\mathrm{DMPE}$\", \"$\\mathrm{sGOATS}$\", \"$\\mathrm{iGOATS}$\"],\n",
    "    use_log=True,\n",
    ");\n",
    "plt.savefig(f\"metrics_per_sequence_length_{system_name}.pdf\")"
   ]
  },
  {
   "cell_type": "markdown",
   "id": "d5986a6d-39b4-4abc-97c7-cbeaf5a4d3fc",
   "metadata": {
    "jp-MarkdownHeadingCollapsed": true
   },
   "source": [
    "## pendulum:"
   ]
  },
  {
   "cell_type": "code",
   "execution_count": null,
   "id": "f77d7c75-9bee-4e28-af2f-6d7ef12b70a6",
   "metadata": {
    "scrolled": true
   },
   "outputs": [],
   "source": [
    "# system_name = \"pendulum\"\n",
    "\n",
    "# all_pendulum_results_by_metric = extract_results(\n",
    "#     lengths=lengths,\n",
    "#     raw_results_path=pathlib.Path(\"/home/hvater@uni-paderborn.de/projects/exciting-exciting-systems/eval/results/\"),\n",
    "#     algo_names=[\"dmpe\", \"sgoats\", \"perfect_model_dmpe\", \"igoats\"],\n",
    "#     interpolate_to_lengths=[False, True, False, True],\n",
    "#     system_name=system_name,\n",
    "#     extra_folders=None,\n",
    "#     metrics={\n",
    "#         \"jsd\": partial(default_jsd, points_per_dim=50, bandwidth=select_bandwidth(2, 3, 50, 0.3)),\n",
    "#         \"ae\": default_ae,\n",
    "#         \"mcudsa\": partial(default_mcudsa, points_per_dim=50),\n",
    "#         \"ksfc\": partial(default_ksfc, points_per_dim=50, eps=1e-6),\n",
    "#     }\n",
    "# )\n",
    "# with open(\"results/pendulum_results.pickle\", \"wb\") as handle:\n",
    "#     pickle.dump(all_pendulum_results_by_metric, handle, protocol=pickle.HIGHEST_PROTOCOL)"
   ]
  },
  {
   "cell_type": "code",
   "execution_count": null,
   "id": "bbefceff-fed7-471c-b008-e2e58abda09f",
   "metadata": {},
   "outputs": [],
   "source": [
    "system_name = \"pendulum\"\n",
    "\n",
    "with open(\"results/pendulum_results.pickle\", 'rb') as handle:\n",
    "    all_pendulum_results_by_metric = pickle.load(handle)\n",
    "\n",
    "all_pendulum_results_by_metric.keys()"
   ]
  },
  {
   "cell_type": "code",
   "execution_count": null,
   "id": "d3fc3270-3a28-4b87-a263-7769c5be4f75",
   "metadata": {},
   "outputs": [],
   "source": []
  },
  {
   "cell_type": "code",
   "execution_count": null,
   "id": "0c859afc-101e-4148-84df-9a879a1c0704",
   "metadata": {},
   "outputs": [],
   "source": []
  },
  {
   "cell_type": "code",
   "execution_count": null,
   "id": "79eac932-14b0-4b8d-b0bd-40af348d20cb",
   "metadata": {},
   "outputs": [],
   "source": [
    "# system_name = \"pendulum\"\n",
    "\n",
    "# test_metrics = extract_results(\n",
    "#     lengths=lengths,\n",
    "#     raw_results_path=pathlib.Path(\"/home/hvater@uni-paderborn.de/projects/exciting-exciting-systems/eval/results/\"),\n",
    "#     algo_names=[\"sgoats\"],\n",
    "#     system_name=system_name,\n",
    "#     extra_folders=\"old\",\n",
    "#     metrics={\n",
    "#         \"jsd\": partial(default_jsd, points_per_dim=50, bandwidth=select_bandwidth(2, 3, 50, 0.3)),\n",
    "#         \"ae\": default_ae,\n",
    "#         \"mcudsa\": partial(default_mcudsa, points_per_dim=50),\n",
    "#         \"ksfc\": partial(default_ksfc, points_per_dim=50, eps=1e-6),\n",
    "#     }\n",
    "# )"
   ]
  },
  {
   "cell_type": "code",
   "execution_count": null,
   "id": "bb394609-b381-4cca-88ff-3d8a8948a2c5",
   "metadata": {},
   "outputs": [],
   "source": [
    "# pm_dmpe_results_by_metric = all_pendulum_results_by_metric[\"perfect_model_dmpe\"]\n",
    "# dmpe_results_by_metric = all_pendulum_results_by_metric[\"dmpe\"]\n",
    "# sgoats_results_by_metric = all_pendulum_results_by_metric[\"sgoats\"] \n",
    "# igoats_results_by_metric = all_pendulum_results_by_metric[\"igoats\"] \n",
    "\n",
    "# plot_metrics_by_sequence_length_for_all_algos(\n",
    "#     data_per_algo=[pm_dmpe_results_by_metric, dmpe_results_by_metric, sgoats_results_by_metric, igoats_results_by_metric, test_metrics[\"sgoats\"]],\n",
    "#     lengths=lengths,\n",
    "#     algo_names=[\"$\\mathrm{PM-DMPE}$\", \"$\\mathrm{DMPE}$\", \"$\\mathrm{sGOATS}$\", \"$\\mathrm{iGOATS}$\", \"$\\mathrm{sGOATS}_\\mathrm{old}$\"],\n",
    "#     use_log=True,\n",
    "# );\n",
    "# plt.savefig(f\"N_loss_test_{system_name}.pdf\")"
   ]
  },
  {
   "cell_type": "code",
   "execution_count": null,
   "id": "7f5b4269-4d4c-4cbf-b9d5-37ac89d7a9fe",
   "metadata": {},
   "outputs": [],
   "source": []
  },
  {
   "cell_type": "code",
   "execution_count": null,
   "id": "eec3336e-6394-45eb-8ce6-617d40873c52",
   "metadata": {
    "scrolled": true
   },
   "outputs": [],
   "source": [
    "pm_dmpe_results_by_metric = all_pendulum_results_by_metric[\"perfect_model_dmpe\"]\n",
    "dmpe_results_by_metric = all_pendulum_results_by_metric[\"dmpe\"]\n",
    "sgoats_results_by_metric = all_pendulum_results_by_metric[\"sgoats\"][\"interp\"]\n",
    "igoats_results_by_metric = all_pendulum_results_by_metric[\"igoats\"][\"interp\"]"
   ]
  },
  {
   "cell_type": "code",
   "execution_count": null,
   "id": "94a83d58-d03b-4984-abf2-f103be25c37a",
   "metadata": {},
   "outputs": [],
   "source": [
    "plot_metrics_by_sequence_length_for_all_algos(\n",
    "    data_per_algo=[pm_dmpe_results_by_metric, dmpe_results_by_metric, sgoats_results_by_metric, igoats_results_by_metric],\n",
    "    lengths=lengths,\n",
    "    algo_names=[\"$\\mathrm{PM-DMPE}$\", \"$\\mathrm{DMPE}$\", \"$\\mathrm{sGOATS}$\", \"$\\mathrm{iGOATS}$\"],\n",
    "    use_log=True,\n",
    ");\n",
    "plt.savefig(f\"metrics_per_sequence_length_{system_name}.pdf\")"
   ]
  },
  {
   "cell_type": "markdown",
   "id": "d2894b20-029a-4839-907a-066c208b0a05",
   "metadata": {
    "jp-MarkdownHeadingCollapsed": true
   },
   "source": [
    "## cart pole:"
   ]
  },
  {
   "cell_type": "code",
   "execution_count": null,
   "id": "d7d6c1db-0d7d-4b0b-a79a-ebfcf43e264f",
   "metadata": {
    "scrolled": true
   },
   "outputs": [],
   "source": [
    "# system_name = \"cart_pole\"\n",
    "\n",
    "# all_cart_pole_results_by_metric = extract_results(\n",
    "#     lengths=lengths,\n",
    "#     raw_results_path=pathlib.Path(\"/home/hvater@uni-paderborn.de/projects/exciting-exciting-systems/eval/results/\"),\n",
    "#     algo_names=[\"dmpe\", \"sgoats\", \"perfect_model_dmpe\", \"igoats\"],\n",
    "#     interpolate_to_lengths=[False, True, False, True],\n",
    "#     system_name=system_name,\n",
    "#     extra_folders=None,\n",
    "#     metrics={\n",
    "#         \"jsd\": partial(default_jsd, points_per_dim=20, bandwidth=select_bandwidth(2, 5, 20, 0.1)),\n",
    "#         \"ae\": default_ae,\n",
    "#         \"mcudsa\": partial(default_mcudsa, points_per_dim=20),\n",
    "#         \"ksfc\": partial(default_ksfc, points_per_dim=20, variance=0.1, eps=1e-6),\n",
    "#     }\n",
    "# )\n",
    "# with open(\"results/cart_pole_results.pickle\", \"wb\") as handle:\n",
    "#     pickle.dump(all_cart_pole_results_by_metric, handle, protocol=pickle.HIGHEST_PROTOCOL)"
   ]
  },
  {
   "cell_type": "code",
   "execution_count": null,
   "id": "bf6bdd51-51d7-45be-8987-10cecbbdf32d",
   "metadata": {},
   "outputs": [],
   "source": [
    "system_name = \"cart_pole\"\n",
    "with open(\"results/cart_pole_results.pickle\", 'rb') as handle:\n",
    "    all_cart_pole_results_by_metric = pickle.load(handle)"
   ]
  },
  {
   "cell_type": "code",
   "execution_count": null,
   "id": "208194de-2a25-4d0e-a8fc-78af3583df63",
   "metadata": {},
   "outputs": [],
   "source": []
  },
  {
   "cell_type": "code",
   "execution_count": null,
   "id": "d4894d0e-a6c2-49d9-a490-6f8834c7aaff",
   "metadata": {},
   "outputs": [],
   "source": [
    "# system_name = \"cart_pole\"\n",
    "\n",
    "# test_metrics = extract_results(\n",
    "#     lengths=lengths,\n",
    "#     raw_results_path=pathlib.Path(\"/home/hvater@uni-paderborn.de/projects/exciting-exciting-systems/eval/results/\"),\n",
    "#     algo_names=[\"sgoats\"],\n",
    "#     system_name=system_name,\n",
    "#     extra_folders=\"old\",\n",
    "#     metrics={\n",
    "#         \"jsd\": partial(default_jsd, points_per_dim=20, bandwidth=select_bandwidth(2, 5, 20, 0.1)),\n",
    "#         \"ae\": default_ae,\n",
    "#         \"mcudsa\": partial(default_mcudsa, points_per_dim=20),\n",
    "#         \"ksfc\": partial(default_ksfc, points_per_dim=20, variance=0.1, eps=1e-6),\n",
    "#     }\n",
    "# )"
   ]
  },
  {
   "cell_type": "code",
   "execution_count": null,
   "id": "04114d5c-1fa7-4563-b695-7be31fad220b",
   "metadata": {},
   "outputs": [],
   "source": [
    "# pm_dmpe_results_by_metric = all_cart_pole_results_by_metric[\"perfect_model_dmpe\"]\n",
    "# dmpe_results_by_metric = all_cart_pole_results_by_metric[\"dmpe\"]\n",
    "# sgoats_results_by_metric = all_cart_pole_results_by_metric[\"sgoats\"] \n",
    "# igoats_results_by_metric = all_cart_pole_results_by_metric[\"igoats\"] \n",
    "\n",
    "# plot_metrics_by_sequence_length_for_all_algos(\n",
    "#     data_per_algo=[pm_dmpe_results_by_metric, dmpe_results_by_metric, sgoats_results_by_metric, igoats_results_by_metric, test_metrics[\"sgoats\"]],\n",
    "#     lengths=lengths,\n",
    "#     algo_names=[\"$\\mathrm{PM-DMPE}$\", \"$\\mathrm{DMPE}$\", \"$\\mathrm{sGOATS}$\", \"$\\mathrm{iGOATS}$\", \"$\\mathrm{sGOATS}_\\mathrm{old}$\"],\n",
    "#     use_log=True,\n",
    "# );\n",
    "# plt.savefig(f\"N_loss_test_{system_name}.pdf\")"
   ]
  },
  {
   "cell_type": "code",
   "execution_count": null,
   "id": "475df32a-0adb-4d47-bf19-20dc1664d1f0",
   "metadata": {
    "scrolled": true
   },
   "outputs": [],
   "source": [
    "all_cart_pole_results_by_metric"
   ]
  },
  {
   "cell_type": "code",
   "execution_count": null,
   "id": "1c1a3b28-58d1-40d4-a0cf-e3ffee29ddcf",
   "metadata": {},
   "outputs": [],
   "source": [
    "pm_dmpe_results_by_metric = all_cart_pole_results_by_metric[\"perfect_model_dmpe\"]\n",
    "dmpe_results_by_metric = all_cart_pole_results_by_metric[\"dmpe\"]\n",
    "sgoats_results_by_metric = all_cart_pole_results_by_metric[\"sgoats\"][\"interp\"]\n",
    "igoats_results_by_metric = all_cart_pole_results_by_metric[\"igoats\"][\"interp\"]"
   ]
  },
  {
   "cell_type": "code",
   "execution_count": null,
   "id": "60835094-36b7-4365-a683-d2be2aa03e68",
   "metadata": {},
   "outputs": [],
   "source": [
    "plot_metrics_by_sequence_length_for_all_algos(\n",
    "    data_per_algo=[pm_dmpe_results_by_metric, dmpe_results_by_metric, sgoats_results_by_metric, igoats_results_by_metric],\n",
    "    lengths=lengths,\n",
    "    algo_names=[\"$\\mathrm{PM-DMPE}$\", \"$\\mathrm{DMPE}$\", \"$\\mathrm{sGOATS}$\", \"$\\mathrm{iGOATS}$\"],\n",
    "    use_log=True,\n",
    ");\n",
    "plt.savefig(f\"metrics_per_sequence_length_{system_name}.pdf\")"
   ]
  },
  {
   "cell_type": "code",
   "execution_count": null,
   "id": "563bb36c-07d8-4acc-a5f9-7c98e46f2945",
   "metadata": {},
   "outputs": [],
   "source": []
  }
 ],
 "metadata": {
  "kernelspec": {
   "display_name": "Python 3 (ipykernel)",
   "language": "python",
   "name": "python3"
  },
  "language_info": {
   "codemirror_mode": {
    "name": "ipython",
    "version": 3
   },
   "file_extension": ".py",
   "mimetype": "text/x-python",
   "name": "python",
   "nbconvert_exporter": "python",
   "pygments_lexer": "ipython3",
   "version": "3.11.9"
  }
 },
 "nbformat": 4,
 "nbformat_minor": 5
}
