{
 "cells": [
  {
   "cell_type": "code",
   "execution_count": null,
   "id": "66373231-c615-48cb-86d6-a7ea8382e887",
   "metadata": {},
   "outputs": [],
   "source": [
    "import pathlib\n",
    "import os\n",
    "import os\n",
    "os.environ['CUDA_VISIBLE_DEVICES'] = '1'\n",
    "os.environ[\"XLA_PYTHON_CLIENT_PREALLOCATE\"]=\"false\"\n",
    "\n",
    "import numpy as np\n",
    "import matplotlib.pyplot as plt\n",
    "import matplotlib as mpl\n",
    "from matplotlib import rc\n",
    "# rc('font',**{'family':'serif','serif':['Helvetica']})\n",
    "mpl.rcParams['text.usetex'] = True\n",
    "mpl.rcParams.update({'font.size': 10 * 2.54})\n",
    "mpl.rcParams['text.latex.preamble']=r\"\\usepackage{bm}\\usepackage{amsmath}\"\n",
    "\n",
    "import jax\n",
    "import jax.numpy as jnp\n",
    "import jax_dataclasses as jdc\n",
    "from jax.tree_util import tree_flatten, tree_unflatten\n",
    "\n",
    "gpus = jax.devices()\n",
    "jax.config.update(\"jax_default_device\", gpus[0])\n",
    "\n",
    "import diffrax"
   ]
  },
  {
   "cell_type": "code",
   "execution_count": null,
   "id": "48078bc9-6800-45f2-bbb3-2e009dd0943d",
   "metadata": {},
   "outputs": [],
   "source": [
    "import exciting_environments as excenvs\n",
    "\n",
    "from dmpe.utils.density_estimation import select_bandwidth\n",
    "from dmpe.utils.signals import aprbs\n",
    "from dmpe.models import NeuralEulerODE\n",
    "from dmpe.algorithms import excite_with_dmpe\n",
    "from dmpe.related_work.algorithms import excite_with_sGOATS\n",
    "\n",
    "from dmpe.evaluation.experiment_utils import (\n",
    "    get_experiment_ids, load_experiment_results, quick_eval, evaluate_experiment_metrics, evaluate_algorithm_metrics, evaluate_metrics\n",
    ")"
   ]
  },
  {
   "cell_type": "markdown",
   "id": "d71871bf-dfcf-43cd-ab4e-f563e9c37054",
   "metadata": {},
   "source": [
    "# data generation:"
   ]
  },
  {
   "cell_type": "markdown",
   "id": "c37cdb17-f68c-4ea5-b490-4dedcff4c874",
   "metadata": {},
   "source": [
    "## generate example data with dmpe:"
   ]
  },
  {
   "cell_type": "code",
   "execution_count": null,
   "id": "d32b1f40-a105-4b52-b49c-6125c4e74568",
   "metadata": {
    "scrolled": true
   },
   "outputs": [],
   "source": [
    "# seed=2222\n",
    "\n",
    "# env_params = dict(batch_size=1, tau=5e-1, env_solver=diffrax.Euler())\n",
    "# env = excenvs.make(\n",
    "#     \"FluidTank-v0\",\n",
    "#     tau=env_params[\"tau\"],\n",
    "#     solver=env_params[\"env_solver\"]\n",
    "# )\n",
    "\n",
    "# alg_params = dict(\n",
    "#     bandwidth=0.05,\n",
    "#     n_prediction_steps=100,\n",
    "#     points_per_dim=50,\n",
    "#     action_lr=1e-3,\n",
    "#     n_opt_steps=100,\n",
    "#     rho_obs=1,\n",
    "#     rho_act=1,\n",
    "#     penalty_order=1,\n",
    "#     clip_action=False,\n",
    "# )\n",
    "\n",
    "# model_trainer_params = dict(\n",
    "#     start_learning=alg_params[\"n_prediction_steps\"],\n",
    "#     training_batch_size=128,\n",
    "#     n_train_steps=1,\n",
    "#     sequence_length=alg_params[\"n_prediction_steps\"],\n",
    "#     featurize=lambda obs: obs,\n",
    "#     model_lr=1e-4,\n",
    "# )\n",
    "# model_params = dict(obs_dim=env.physical_state_dim, action_dim=env.action_dim, width_size=128, depth=3, key=None)\n",
    "\n",
    "# exp_params = dict(\n",
    "#     seed=seed,\n",
    "#     n_timesteps=5_000,\n",
    "#     model_class=NeuralEulerODE,\n",
    "#     env_params=env_params,\n",
    "#     alg_params=alg_params,\n",
    "#     model_trainer_params=model_trainer_params,\n",
    "# )\n",
    "\n",
    "# key = jax.random.PRNGKey(seed=exp_params[\"seed\"])\n",
    "# data_key, model_key, loader_key, expl_key, key = jax.random.split(key, 5)\n",
    "\n",
    "# model_params[\"key\"] = model_key\n",
    "# exp_params[\"model_params\"] = model_params\n",
    "\n",
    "# # initial guess\n",
    "# proposed_actions = aprbs(alg_params[\"n_prediction_steps\"], env.batch_size, 1, 10, data_key)[0]\n",
    "\n",
    "# # run excitation algorithm\n",
    "# dmpe_observations, dmpe_actions, model, density_estimate, losses, proposed_actions = excite_with_dmpe(\n",
    "#     env, exp_params, proposed_actions, loader_key, expl_key, plot_every=100\n",
    "# )\n",
    "\n",
    "# np.save(\"results/qualitative/dmpe_observations.npy\", np.stack(dmpe_observations))\n",
    "# np.save(\"results/qualitative/dmpe_actions.npy\", np.stack(dmpe_actions))\n",
    "\n",
    "dmpe_observations = np.load(\"results/qualitative/dmpe_observations.npy\")\n",
    "dmpe_actions = np.load(\"results/qualitative/dmpe_actions.npy\")"
   ]
  },
  {
   "cell_type": "code",
   "execution_count": null,
   "id": "5e63d0d6-7270-4695-b330-24ebdbdfcd2d",
   "metadata": {},
   "outputs": [],
   "source": [
    "results_path = pathlib.Path(\"/home/hvater@uni-paderborn.de/projects/exciting-exciting-systems/eval/results/perfect_model_dmpe/fluid_tank\")\n",
    "params, dmpe_observations, dmpe_actions, model = load_experiment_results(get_experiment_ids(results_path)[0], results_path, None)"
   ]
  },
  {
   "cell_type": "markdown",
   "id": "75e42397-ef50-48fd-b4ce-b3f191418e98",
   "metadata": {},
   "source": [
    "## generate example data with sGOATS:"
   ]
  },
  {
   "cell_type": "code",
   "execution_count": null,
   "id": "99f7ccdf-8dc7-46d4-9247-ae16b1bc85c8",
   "metadata": {
    "scrolled": true
   },
   "outputs": [],
   "source": [
    "# sgoats_observations, sgoats_actions = excite_with_sGOATS(\n",
    "#     n_amplitudes=200,\n",
    "#     n_amplitude_groups=5,\n",
    "#     reuse_observations=True,\n",
    "#     env=env,\n",
    "#     bounds_duration=(1, 50),\n",
    "#     population_size=50,\n",
    "#     n_generations=100,\n",
    "#     featurize=lambda obs: obs,\n",
    "#     rng=np.random.default_rng(seed=seed),\n",
    "#     verbose=True\n",
    "# )\n",
    "\n",
    "# np.save(\"results/qualitative/sgoats_observations.npy\", np.stack(sgoats_observations))\n",
    "# np.save(\"results/qualitative/sgoats_actions.npy\", np.stack(sgoats_actions[:-1, :]))\n",
    "\n",
    "sgoats_observations = np.load(\"results/qualitative/sgoats_observations.npy\")\n",
    "sgoats_actions = np.load(\"results/qualitative/sgoats_actions.npy\")"
   ]
  },
  {
   "cell_type": "code",
   "execution_count": null,
   "id": "cab3001d-9733-4670-93b4-5f6135061c30",
   "metadata": {},
   "outputs": [],
   "source": [
    "results_path = pathlib.Path(\"/home/hvater@uni-paderborn.de/projects/exciting-exciting-systems/eval/results/igoats/fluid_tank\")\n",
    "params, igoats_observations, igoats_actions, model = load_experiment_results(get_experiment_ids(results_path)[0], results_path, None)"
   ]
  },
  {
   "cell_type": "markdown",
   "id": "3fc98ced-860b-4dc2-9de0-a3734f32e353",
   "metadata": {},
   "source": [
    "# qualitative comparison:"
   ]
  },
  {
   "cell_type": "code",
   "execution_count": null,
   "id": "92a2160a-399a-40f5-a046-456503ac1d86",
   "metadata": {},
   "outputs": [],
   "source": [
    "tau = 5\n",
    "obs_labels=[r\"$\\tilde{h}$\"]\n",
    "action_labels=[r\"$\\tilde{q}_{\\mathrm{in}}$\"]\n",
    "\n",
    "full_column_width = 18.2\n",
    "half_colmun_width = 8.89\n"
   ]
  },
  {
   "cell_type": "code",
   "execution_count": null,
   "id": "bd41bba9-d348-47a7-a2ce-034fdb9e7d1f",
   "metadata": {},
   "outputs": [],
   "source": [
    "def plot_results(observations, actions, tau, obs_labels, action_labels, color, fig=None, axs=None, dotted=False):    \n",
    "    \n",
    "    \n",
    "    fig, axs = plt.subplots(nrows=1, ncols=3, figsize=(full_column_width, full_column_width/3 * 0.7))\n",
    "     \n",
    "    t = jnp.linspace(0, observations.shape[0] - 1, observations.shape[0]) * tau\n",
    "    \n",
    "    for observation_idx in range(observations.shape[-1]):\n",
    "        axs[0].plot(\n",
    "            t,\n",
    "            jnp.squeeze(observations[..., observation_idx]),\n",
    "            \".\" if dotted else \"-\",\n",
    "            markersize=1,\n",
    "            label=obs_labels[observation_idx],\n",
    "            color=c,\n",
    "        )\n",
    "    #axs[0].title.set_text(\"observations, timeseries\")\n",
    "    # axs[0].legend(loc='lower right')\n",
    "    axs[0].set_ylabel(r\"$\\tilde{x}$\", labelpad=-15)\n",
    "    axs[0].set_xlabel(\"$t \\mathrm{\\ in \\ } s$\")\n",
    "\n",
    "\n",
    "    if observations.shape[0] == actions.shape[0] + 1:\n",
    "        observations_ = observations[:-1]\n",
    "        t = t[:-1]\n",
    "    else:\n",
    "        observations_ = observations\n",
    "    \n",
    "    axs[1].scatter(jnp.squeeze(actions[..., 0]), jnp.squeeze(observations_[..., 0]), s=1, color=c,)\n",
    "    #axs[1].title.set_text(\"observation $\\\\times$ action plane\")\n",
    "    axs[1].set_ylabel(obs_labels[0], labelpad=-15)\n",
    "    axs[1].set_xlabel(action_labels[0])\n",
    "    \n",
    "    for action_idx in range(actions.shape[-1]):\n",
    "        axs[2].plot(t, jnp.squeeze(actions[..., action_idx]), label=action_labels[action_idx], color=c,)\n",
    "    \n",
    "    # axs[2].legend(loc='lower right')\n",
    "    axs[2].set_ylabel(r\"$\\tilde{u}$\", labelpad=-15)\n",
    "    axs[2].set_xlabel(\"$t \\mathrm{\\ in \\ } s$\")\n",
    "    \n",
    "    for ax in axs:\n",
    "        ax.grid(True)\n",
    "    fig.tight_layout(pad=0.3)\n",
    "    \n",
    "    [ax.tick_params(axis=\"y\", direction='in') for ax in axs]\n",
    "    [ax.tick_params(axis=\"x\", direction='in') for ax in axs]\n",
    "    \n",
    "    return fig, axs"
   ]
  },
  {
   "cell_type": "code",
   "execution_count": null,
   "id": "14584d0b-b779-41cc-964c-c82d674aec0e",
   "metadata": {},
   "outputs": [],
   "source": [
    "colors = plt.rcParams[\"axes.prop_cycle\"]()\n",
    "c = next(colors)[\"color\"]\n",
    "c = next(colors)[\"color\"]\n",
    "\n",
    "fig, axs = plot_results(\n",
    "    observations=dmpe_observations[:1000],\n",
    "    actions=dmpe_actions[:1000],\n",
    "    tau=tau,\n",
    "    obs_labels=obs_labels,\n",
    "    action_labels=action_labels,\n",
    "    color=c,\n",
    ");\n",
    "\n",
    "plt.savefig(\"results/qualitative/qualitative_results_fluidtank_dmpe.pdf\")\n",
    "plt.show()"
   ]
  },
  {
   "cell_type": "code",
   "execution_count": null,
   "id": "42d369d1-ef48-4157-b9a8-ee059e34f9a4",
   "metadata": {},
   "outputs": [],
   "source": [
    "c = next(colors)[\"color\"]\n",
    "c = next(colors)[\"color\"]\n",
    "\n",
    "if c == '#d62728':\n",
    "    c = next(colors)[\"color\"]\n",
    "\n",
    "fig, axs = plot_results(\n",
    "    observations=igoats_observations[:1000],\n",
    "    actions=igoats_actions[:1000],\n",
    "    tau=tau,\n",
    "    obs_labels=obs_labels,\n",
    "    action_labels=action_labels,\n",
    "    color=c\n",
    ");\n",
    "plt.savefig(\"results/qualitative/qualitative_results_fluidtank_igoats.pdf\")\n",
    "plt.show()"
   ]
  },
  {
   "cell_type": "markdown",
   "id": "efbbd2d9-4e46-4928-aca9-546e47e53f23",
   "metadata": {},
   "source": [
    "---"
   ]
  },
  {
   "cell_type": "code",
   "execution_count": null,
   "id": "b515175b-c988-4152-8462-acf883265b0c",
   "metadata": {},
   "outputs": [],
   "source": [
    "from dmpe.utils.density_estimation import DensityEstimate"
   ]
  },
  {
   "cell_type": "code",
   "execution_count": null,
   "id": "6ea81fcd-5dc2-4c5b-ac7c-1be86143d29e",
   "metadata": {},
   "outputs": [],
   "source": [
    "select_bandwidth(2, 2, 100, 0.5)"
   ]
  },
  {
   "cell_type": "code",
   "execution_count": null,
   "id": "5c682d56-5825-42e9-b80d-34024b5c1a39",
   "metadata": {},
   "outputs": [],
   "source": [
    "dmpe_density_estimate = DensityEstimate.from_dataset(dmpe_observations, dmpe_actions, bandwidth=select_bandwidth(2, 2, 50, 0.3), points_per_dim=50)\n",
    "igoats_density_estimate = DensityEstimate.from_dataset(igoats_observations, igoats_actions, bandwidth=select_bandwidth(2, 2, 50, 0.3), points_per_dim=50)"
   ]
  },
  {
   "cell_type": "code",
   "execution_count": null,
   "id": "c11daa7a-1cff-4c92-9c9c-6459510dbea0",
   "metadata": {},
   "outputs": [],
   "source": [
    "def plot_2d_kde_as_contourf(p_est, x, observation_label, action_label):\n",
    "\n",
    "    fig, axs = plt.subplots(figsize=(half_colmun_width, half_colmun_width * 8/9*0.7))\n",
    "\n",
    "    grid_len_per_dim = int(np.sqrt(x.shape[0]))\n",
    "    x_plot = x.reshape((grid_len_per_dim, grid_len_per_dim, 2))\n",
    "\n",
    "    cax = axs.contourf(\n",
    "        x_plot[..., 1],\n",
    "        x_plot[..., 0],\n",
    "        p_est.reshape(x_plot.shape[:-1]),\n",
    "        antialiased=False,\n",
    "        levels=np.linspace(0., 1.5, 31),\n",
    "        alpha=1.0,\n",
    "        cmap=plt.cm.coolwarm,\n",
    "    )\n",
    "    axs.set_xlabel(action_label, labelpad=0)\n",
    "    axs.set_ylabel(observation_label, labelpad=-15)\n",
    "\n",
    "    # axs.tick_params(axis=\"y\", direction='in')\n",
    "    # axs.tick_params(axis=\"x\", direction='in')\n",
    "\n",
    "    plt.tight_layout(pad=0.25)\n",
    "    cbar = fig.colorbar(cax)\n",
    "    return fig, axs, cax\n"
   ]
  },
  {
   "cell_type": "code",
   "execution_count": null,
   "id": "adc98445-3a7e-4613-917a-fdb402b41df3",
   "metadata": {},
   "outputs": [],
   "source": [
    "np.linspace(0., 1.5, 31)"
   ]
  },
  {
   "cell_type": "code",
   "execution_count": null,
   "id": "5369ff98-d421-4827-abaa-d3fd10784ccf",
   "metadata": {},
   "outputs": [],
   "source": [
    "fig, axs, cax = plot_2d_kde_as_contourf(igoats_density_estimate.p, igoats_density_estimate.x_g, obs_labels[0], action_labels[0])\n",
    "mpl.rcParams.update({'figure.autolayout': True})\n",
    "plt.savefig(\"results/qualitative/qualitative_kde_fluidtank_igoats.pdf\")\n",
    "plt.show()"
   ]
  },
  {
   "cell_type": "code",
   "execution_count": null,
   "id": "fc5d08a4-86da-4027-933e-458d41090fba",
   "metadata": {},
   "outputs": [],
   "source": [
    "fig, axs, cax = plot_2d_kde_as_contourf(dmpe_density_estimate.p, dmpe_density_estimate.x_g, obs_labels[0], action_labels[0])\n",
    "mpl.rcParams.update({'figure.autolayout': True})\n",
    "plt.savefig(\"results/qualitative/qualitative_kde_fluidtank_dmpe.pdf\")\n",
    "plt.show()"
   ]
  },
  {
   "cell_type": "code",
   "execution_count": null,
   "id": "12eeadb6-daab-444b-aee9-7acdb19e2ef2",
   "metadata": {},
   "outputs": [],
   "source": []
  },
  {
   "cell_type": "code",
   "execution_count": null,
   "id": "76361765-c2a3-4a2c-a3b8-c83504c75f64",
   "metadata": {},
   "outputs": [],
   "source": []
  }
 ],
 "metadata": {
  "kernelspec": {
   "display_name": "Python 3 (ipykernel)",
   "language": "python",
   "name": "python3"
  },
  "language_info": {
   "codemirror_mode": {
    "name": "ipython",
    "version": 3
   },
   "file_extension": ".py",
   "mimetype": "text/x-python",
   "name": "python",
   "nbconvert_exporter": "python",
   "pygments_lexer": "ipython3",
   "version": "3.11.9"
  }
 },
 "nbformat": 4,
 "nbformat_minor": 5
}
