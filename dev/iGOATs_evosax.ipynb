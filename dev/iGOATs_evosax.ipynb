{
 "cells": [
  {
   "cell_type": "code",
   "execution_count": null,
   "id": "06b5328b-aca0-4d5c-86c1-deef7d8b98ed",
   "metadata": {},
   "outputs": [],
   "source": [
    "%load_ext autoreload\n",
    "%autoreload 2\n",
    "%reload_ext line_profiler"
   ]
  },
  {
   "cell_type": "code",
   "execution_count": null,
   "id": "30a3c5dc-ea5c-4e83-91ab-66313cb7883d",
   "metadata": {},
   "outputs": [],
   "source": [
    "from functools import partial\n",
    "\n",
    "import time\n",
    "from tqdm.notebook import tqdm\n",
    "import numpy as np\n",
    "import matplotlib.pyplot as plt\n",
    "import plotly.express as px\n",
    "import plotly.graph_objects as go"
   ]
  },
  {
   "cell_type": "code",
   "execution_count": null,
   "id": "f5e770ca-d04e-4c30-82db-b2458256e322",
   "metadata": {},
   "outputs": [],
   "source": [
    "import jax\n",
    "import jax.numpy as jnp\n",
    "\n",
    "import diffrax\n",
    "import equinox as eqx\n",
    "import optax\n",
    "\n",
    "from haiku import PRNGSequence"
   ]
  },
  {
   "cell_type": "code",
   "execution_count": null,
   "id": "f5206cfe-3313-4d85-bedb-f01c420cc4ac",
   "metadata": {},
   "outputs": [],
   "source": [
    "import exciting_environments as excenvs\n",
    "\n",
    "from exciting_exciting_systems.utils.density_estimation import build_grid_2d\n",
    "from exciting_exciting_systems.models.model_utils import simulate_ahead_with_env\n",
    "from exciting_exciting_systems.utils.signals import aprbs\n",
    "from exciting_exciting_systems.evaluation.plotting_utils import plot_sequence"
   ]
  },
  {
   "cell_type": "markdown",
   "id": "e8762b63-41f7-47e6-90e2-ff27fd8e23d4",
   "metadata": {},
   "source": [
    "---"
   ]
  },
  {
   "cell_type": "code",
   "execution_count": null,
   "id": "d97abffd-59c6-43e0-b267-57d6cb3fee04",
   "metadata": {},
   "outputs": [],
   "source": [
    "# setup PRNG\n",
    "key = jax.random.PRNGKey(seed=3333) # 21)\n",
    "\n",
    "data_key, opt_key, key = jax.random.split(key, 3)\n",
    "data_rng = PRNGSequence(data_key)"
   ]
  },
  {
   "cell_type": "code",
   "execution_count": null,
   "id": "9adfd9b9-5242-4e72-9f29-2c0e271b8edc",
   "metadata": {},
   "outputs": [],
   "source": [
    "batch_size = 1\n",
    "tau = 2e-2 # 5e-2\n",
    "\n",
    "env = excenvs.make(\n",
    "    env_id='Pendulum-v0',\n",
    "    batch_size=batch_size,\n",
    "    tau=tau\n",
    ")"
   ]
  },
  {
   "cell_type": "code",
   "execution_count": null,
   "id": "c43f09f3-6f45-41bb-9451-7554df7f5189",
   "metadata": {},
   "outputs": [],
   "source": [
    "obs, state = env.reset()\n",
    "obs = obs.astype(jnp.float32)\n",
    "state = state.astype(jnp.float32)\n",
    "n_steps = 999\n",
    "\n",
    "actions = aprbs(n_steps, batch_size, 1, 10, next(data_rng))"
   ]
  },
  {
   "cell_type": "code",
   "execution_count": null,
   "id": "16232bb8-1259-49ce-b08b-ab308ea77c6d",
   "metadata": {},
   "outputs": [],
   "source": [
    "observations = jax.vmap(simulate_ahead_with_env, in_axes=(None, 0, 0, 0, 0, 0, 0))(\n",
    "    env,\n",
    "    obs,\n",
    "    state,\n",
    "    actions,\n",
    "    env.env_state_normalizer,\n",
    "    env.action_normalizer,\n",
    "    env.static_params\n",
    ")\n",
    "\n",
    "print(\"actions.shape:\", actions.shape)\n",
    "print(\"observations.shape:\", observations.shape)\n",
    "\n",
    "print(\" \\n One of the trajectories:\")\n",
    "fig, axs = plot_sequence(\n",
    "    observations=observations[0, ...],\n",
    "    actions=actions[0, ...],\n",
    "    tau=tau,\n",
    "    obs_labels=[r\"$\\theta$\", r\"$\\omega$\"],\n",
    "    action_labels=[r\"$u$\"],\n",
    ");\n",
    "plt.show()"
   ]
  },
  {
   "cell_type": "markdown",
   "id": "8ce903c4-e730-4299-a1e6-d3212d02d995",
   "metadata": {},
   "source": [
    "### Metrics:\n",
    "\n",
    "- maximum nearest neighbor sequence **[Smits+Nelles2024]**:\n",
    "\n",
    "\\begin{align}\n",
    "    f_{\\mathrm{MNNS}} = &- \\frac{1} {L} \\sum_{k=N+1}^{N+L} \\min_{i \\in \\{1, ..., N \\}} \\| \\mathbf{x}_i - \\mathbf{x}_k \\|_2 \\\\\n",
    "                        &+ \\# u_{v, l_v} d_{max},\n",
    "\\end{align}\n",
    "\n",
    "where $L$ is the sequence length made up of the next $h$ steps (which can vary in length) and $\\mathbf{x}_k$ are the new data_points that are simulated from the model. The term $\\# u_{v, l_v} d_{max}$ is meant to weaken the effect of overemphasized boundaries and corners.\n",
    "**Thereby, $\\# u_{v, l_v}$ denotes the counter of the amplitude levels of the $v$-th input dimension?** and $d_{max} = k_{d_{max}} \\Delta$, where\n",
    "\n",
    "\\begin{align}\n",
    "    \\Delta = \\frac{2}{N(N-1)} \\sum_{i=1}^N \\sum_{k=i+1}^N \\| \\mathbf{x}_i - \\mathbf{x}_k \\|_2.\n",
    "\\end{align}\n",
    "\n",
    "- audze eglais  **[Smits+Nelles2024]**:"
   ]
  },
  {
   "cell_type": "code",
   "execution_count": null,
   "id": "693dd316-48a0-45b5-bb9c-431dae5226df",
   "metadata": {},
   "outputs": [],
   "source": [
    "from sklearn.neighbors import NearestNeighbors\n",
    "\n",
    "from exciting_exciting_systems.utils.metrics import audze_eglais, MC_uniform_sampling_distribution_approximation, MNNS_without_penalty"
   ]
  },
  {
   "cell_type": "code",
   "execution_count": null,
   "id": "b8a92b9a-371e-4e33-8abb-a2b1bdcbf165",
   "metadata": {},
   "outputs": [],
   "source": [
    "new_observations = observations[:, 900:, :]\n",
    "old_observations = observations[:, :900, :]\n",
    "\n",
    "mnns_score = jax.vmap(MNNS_without_penalty)(\n",
    "    data_points=old_observations,\n",
    "    new_data_points=new_observations\n",
    ")\n",
    "\n",
    "mnns_score"
   ]
  },
  {
   "cell_type": "code",
   "execution_count": null,
   "id": "28121325-c869-4a3e-9243-11ddef48034a",
   "metadata": {},
   "outputs": [],
   "source": [
    "ae_score = jax.vmap(audze_eglais)(\n",
    "    data_points=observations,\n",
    ")\n",
    "\n",
    "print(ae_score)"
   ]
  },
  {
   "cell_type": "code",
   "execution_count": null,
   "id": "03a3fa2d-4bcd-488d-9223-f61270731e22",
   "metadata": {},
   "outputs": [],
   "source": [
    "support_points = build_grid_2d(-1, 1, 50)\n",
    "MCUSDA_score = jax.vmap(MC_uniform_sampling_distribution_approximation, in_axes=(0, None),)(\n",
    "    observations,\n",
    "    support_points\n",
    ")\n",
    "MCUSDA_score"
   ]
  },
  {
   "cell_type": "markdown",
   "id": "e3fea0f0-1830-4ef8-b1ad-cf7e9c0261b1",
   "metadata": {},
   "source": [
    "### Offline iGOATs:\n",
    "Implement and use the iGOATs algorithm as described in **[Smits+Nelles2024]** and **[Smits+Nelles2022]**."
   ]
  },
  {
   "cell_type": "markdown",
   "id": "5a5a312e-e216-4b0c-9c0b-23f5a6a9de02",
   "metadata": {},
   "source": [
    "- start with a random aprbs and optimize it by rolling out the next steps using the perfect model\n",
    "- add the chosen actions to the sequence and start with the next random aprbs steps\n",
    "- **in any case:** The simulation rollout should be part of the fitness function"
   ]
  },
  {
   "cell_type": "markdown",
   "id": "63f9e178-3568-408d-aa58-a183e634be65",
   "metadata": {},
   "source": [
    "- Further **TODO**: Test the metrics given above on random data and the optimized trajectory from your algorithm for sanity check..."
   ]
  },
  {
   "cell_type": "code",
   "execution_count": null,
   "id": "b831bfc8-d2e7-407d-8b7c-2ce646d1a0b5",
   "metadata": {},
   "outputs": [],
   "source": [
    "import evosax  # genetic algorithm in jax, The state of the library might be interesting to investigate for your own implementations"
   ]
  },
  {
   "cell_type": "code",
   "execution_count": null,
   "id": "0f49538b-8f56-41ed-b070-612fc2a3ea44",
   "metadata": {},
   "outputs": [],
   "source": [
    "def generate_aprbs(amplitudes, durations):\n",
    "    \"\"\"Parameterizable aprbs. This is used to transform the aprbs parameters into a signal.\n",
    "\n",
    "    Not jittable because duration cannot be traced. Seems to be an unsolvable problem for this algorithm.\n",
    "    -> To me it just looks like a bad idea to have the duration be dependent on randomness.\n",
    "    -> An alternative would be fixed full duration and have indexing dependent on the duration? Actually, this is not traceable as well?\n",
    "    \"\"\"\n",
    "    signal = jnp.concatenate([jnp.ones(duration) * amplitude for (amplitude, duration) in zip(amplitudes, durations)])\n",
    "    return signal"
   ]
  },
  {
   "cell_type": "code",
   "execution_count": null,
   "id": "676ffbe4-5ec0-4417-a518-9652928672c0",
   "metadata": {},
   "outputs": [],
   "source": [
    "h = 20\n",
    "\n",
    "action_parameters = jnp.concatenate([\n",
    "    jax.random.uniform(\n",
    "        key=next(data_rng),\n",
    "        shape=(h,),\n",
    "        minval=-1,\n",
    "        maxval=1\n",
    "    ),\n",
    "    jax.random.randint(\n",
    "        key=next(data_rng),\n",
    "        shape=(h,),\n",
    "        minval=2,\n",
    "        maxval=50\n",
    "    )\n",
    "])\n",
    "\n",
    "actions = generate_aprbs(\n",
    "    amplitudes=action_parameters[:h],\n",
    "    durations=action_parameters[h:].astype(jnp.int32)\n",
    ")[None, :, None]\n",
    "\n",
    "plt.plot(jnp.squeeze(actions))"
   ]
  },
  {
   "cell_type": "code",
   "execution_count": null,
   "id": "51acc9ef-6cb8-42df-ba9b-6823660ed869",
   "metadata": {},
   "outputs": [],
   "source": [
    "@jax.jit\n",
    "def featurize_theta(obs):\n",
    "    \"\"\"The angle itself is difficult to properly interpret in the loss as angles\n",
    "    such as 1.99 * pi and 0 are essentially the same. Therefore the angle is \n",
    "    transformed to sin(phi) and cos(phi) for comparison in the loss.\"\"\"\n",
    "    feat_obs = jnp.stack([jnp.sin(obs[..., 0] * jnp.pi), jnp.cos(obs[..., 0] * jnp.pi), obs[..., 1]], axis=-1)\n",
    "    return feat_obs\n",
    "\n",
    "@jax.jit\n",
    "def soft_penalty(a, a_max=1):\n",
    "    \"\"\"Computes penalty for the given input. Assumes symmetry in all dimensions.\"\"\"\n",
    "    penalty = jnp.sum(jax.nn.relu(jnp.abs(a) - a_max), axis=(-2, -1))\n",
    "    return jnp.squeeze(penalty)"
   ]
  },
  {
   "cell_type": "code",
   "execution_count": null,
   "id": "443f65d9-2fd7-4d54-8e94-91c50dea9682",
   "metadata": {},
   "outputs": [],
   "source": [
    "def fitness_function(\n",
    "    env,\n",
    "    obs,\n",
    "    state,\n",
    "    action_parameters,\n",
    "    h\n",
    "):\n",
    "    actions = generate_aprbs(\n",
    "        amplitudes=action_parameters[:h],\n",
    "        durations=jnp.abs(action_parameters[h:]).astype(jnp.int32)\n",
    "    )[None, :, None]\n",
    "    observations = jax.vmap(simulate_ahead_with_env, in_axes=(None, 0, 0, 0, 0, 0, 0))(\n",
    "        env,\n",
    "        obs,\n",
    "        state,\n",
    "        actions,\n",
    "        env.env_state_normalizer,\n",
    "        env.action_normalizer,\n",
    "        env.static_params\n",
    "    )\n",
    "\n",
    "    feat_observations = jax.vmap(featurize_theta, in_axes=(0))(observations)\n",
    "\n",
    "    ae_score = jax.vmap(audze_eglais)(\n",
    "        data_points=feat_observations,\n",
    "    )\n",
    "\n",
    "    rho_obs = 1e4\n",
    "    rho_act = 1e4\n",
    "    penalty_terms = rho_obs * soft_penalty(a=observations, a_max=1) + rho_act * soft_penalty(a=actions, a_max=1)\n",
    "    \n",
    "    return jnp.squeeze(ae_score) + penalty_terms"
   ]
  },
  {
   "cell_type": "code",
   "execution_count": null,
   "id": "1aaef4c4-ebc3-4a12-ae54-3f4194d0f701",
   "metadata": {},
   "outputs": [],
   "source": [
    "@jax.jit\n",
    "def dummy_fitness_func(x):\n",
    "    a = 2\n",
    "    b = 100\n",
    "    return (a - x[0])**2 + b * (x[1] - x[0]**2)**2"
   ]
  },
  {
   "cell_type": "code",
   "execution_count": null,
   "id": "94df1e04-f8b8-4521-8b2e-1991b4cc4610",
   "metadata": {},
   "outputs": [],
   "source": [
    "opt_key  # PRNGKey for the GA"
   ]
  },
  {
   "cell_type": "code",
   "execution_count": null,
   "id": "93085023-875e-4849-b342-1795d221a272",
   "metadata": {},
   "outputs": [],
   "source": [
    "num_generations = 100\n",
    "\n",
    "strategy = evosax.CMA_ES(popsize=20, num_dims=2*h, elite_ratio=0.5)\n",
    "es_params = strategy.default_params\n",
    "opt_state = strategy.initialize(opt_key, es_params)"
   ]
  },
  {
   "cell_type": "code",
   "execution_count": null,
   "id": "6493b410-bc5e-45fa-967b-6c40b5d97688",
   "metadata": {},
   "outputs": [],
   "source": [
    "es_params"
   ]
  },
  {
   "cell_type": "code",
   "execution_count": null,
   "id": "9051ad7c-ecf7-4f55-92e6-315273305b27",
   "metadata": {},
   "outputs": [],
   "source": [
    "for t in tqdm(range(num_generations)):\n",
    "    opt_key, opt_gen_key, opt_eval_key = jax.random.split(opt_key, 3)\n",
    "    x, opt_state = strategy.ask(opt_gen_key, opt_state, es_params)\n",
    "\n",
    "    obs, env_state = env.reset()\n",
    "    obs = obs.astype(jnp.float32)\n",
    "    env_state = env_state.astype(jnp.float32)\n",
    "    # fitness = jax.vmap(fitness_function, in_axes=(None, None, None, 0, None))(env, obs, env_state, x, h)\n",
    "    \n",
    "    fitness = jnp.stack([fitness_function(env, obs, env_state, _x, h) for _x in x])\n",
    "    opt_state = strategy.tell(x, fitness, state, es_params)\n",
    "\n",
    "# Get best overall population member & its fitness\n",
    "opt_state.best_member, opt_state.best_fitness"
   ]
  },
  {
   "cell_type": "code",
   "execution_count": null,
   "id": "a46106e3-9108-436b-ad94-3af2718d209c",
   "metadata": {},
   "outputs": [],
   "source": [
    "opt_state.best_member"
   ]
  },
  {
   "cell_type": "code",
   "execution_count": null,
   "id": "1838f26e-37ee-4f2b-93f6-f8ce1444c72a",
   "metadata": {},
   "outputs": [],
   "source": [
    "actions = generate_aprbs(\n",
    "    amplitudes=state.best_member[:h],\n",
    "    durations=jnp.abs(state.best_member[h:]).astype(jnp.int32)\n",
    ")[None, :, None]\n",
    "\n",
    "obs, env_state = env.reset()\n",
    "obs = obs.astype(jnp.float32)\n",
    "env_state = env_state.astype(jnp.float32)\n",
    "observations = jax.vmap(simulate_ahead_with_env, in_axes=(None, 0, 0, 0, 0, 0, 0))(\n",
    "    env,\n",
    "    obs,\n",
    "    env_state,\n",
    "    actions,\n",
    "    env.env_state_normalizer,\n",
    "    env.action_normalizer,\n",
    "    env.static_params\n",
    ")\n",
    "\n",
    "fig, axs = plot_sequence(\n",
    "    observations=observations[0, ...],\n",
    "    actions=actions[0, ...],\n",
    "    tau=tau,\n",
    "    obs_labels=[r\"$\\theta$\", r\"$\\omega$\"],\n",
    "    action_labels=[r\"$u$\"],\n",
    ");\n",
    "plt.show()"
   ]
  },
  {
   "cell_type": "code",
   "execution_count": null,
   "id": "2670cff4-f219-4ba3-86ff-85b219d41ce1",
   "metadata": {},
   "outputs": [],
   "source": [
    "generate_aprbs(\n",
    "    amplitudes=state.best_member[:h],\n",
    "    durations=jnp.abs(state.best_member[h:]).astype(jnp.int32)\n",
    ")[None, :, None]"
   ]
  },
  {
   "cell_type": "code",
   "execution_count": null,
   "id": "82f9deb7-3dad-4262-98ef-2e8ee42476e0",
   "metadata": {},
   "outputs": [],
   "source": [
    "state.best_member[:h]"
   ]
  },
  {
   "cell_type": "code",
   "execution_count": null,
   "id": "cefd4b55-d237-4c9e-a9af-381c99357de9",
   "metadata": {},
   "outputs": [],
   "source": [
    "jnp.abs(state.best_member[h:]).astype(jnp.int32)"
   ]
  },
  {
   "cell_type": "code",
   "execution_count": null,
   "id": "5125da80-10f7-4131-b8ea-9f4d60ce001c",
   "metadata": {},
   "outputs": [],
   "source": []
  }
 ],
 "metadata": {
  "kernelspec": {
   "display_name": "Python (conda-dev-base)",
   "language": "python",
   "name": "conda-dev-base"
  },
  "language_info": {
   "codemirror_mode": {
    "name": "ipython",
    "version": 3
   },
   "file_extension": ".py",
   "mimetype": "text/x-python",
   "name": "python",
   "nbconvert_exporter": "python",
   "pygments_lexer": "ipython3",
   "version": "3.11.3"
  }
 },
 "nbformat": 4,
 "nbformat_minor": 5
}
