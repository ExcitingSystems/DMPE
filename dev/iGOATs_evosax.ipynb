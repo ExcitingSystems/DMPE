{
 "cells": [
  {
   "cell_type": "code",
   "execution_count": null,
   "id": "06b5328b-aca0-4d5c-86c1-deef7d8b98ed",
   "metadata": {},
   "outputs": [],
   "source": [
    "%load_ext autoreload\n",
    "%autoreload 2\n",
    "%reload_ext line_profiler"
   ]
  },
  {
   "cell_type": "code",
   "execution_count": null,
   "id": "30a3c5dc-ea5c-4e83-91ab-66313cb7883d",
   "metadata": {},
   "outputs": [],
   "source": [
    "from functools import partial\n",
    "\n",
    "import time\n",
    "from tqdm.notebook import tqdm\n",
    "import numpy as np\n",
    "import matplotlib.pyplot as plt\n",
    "import plotly.express as px\n",
    "import plotly.graph_objects as go"
   ]
  },
  {
   "cell_type": "code",
   "execution_count": null,
   "id": "f5e770ca-d04e-4c30-82db-b2458256e322",
   "metadata": {},
   "outputs": [],
   "source": [
    "import jax\n",
    "import jax.numpy as jnp\n",
    "\n",
    "import diffrax\n",
    "import equinox as eqx\n",
    "import optax\n",
    "\n",
    "from haiku import PRNGSequence"
   ]
  },
  {
   "cell_type": "code",
   "execution_count": null,
   "id": "f5206cfe-3313-4d85-bedb-f01c420cc4ac",
   "metadata": {},
   "outputs": [],
   "source": [
    "import exciting_environments as excenvs\n",
    "\n",
    "from exciting_exciting_systems.utils.density_estimation import build_grid_2d\n",
    "from exciting_exciting_systems.models.model_utils import simulate_ahead_with_env\n",
    "from exciting_exciting_systems.utils.signals import aprbs\n",
    "from exciting_exciting_systems.evaluation.plotting_utils import plot_sequence\n",
    "from exciting_exciting_systems.excitation.excitation_utils import soft_penalty"
   ]
  },
  {
   "cell_type": "markdown",
   "id": "e8762b63-41f7-47e6-90e2-ff27fd8e23d4",
   "metadata": {},
   "source": [
    "---"
   ]
  },
  {
   "cell_type": "code",
   "execution_count": null,
   "id": "d97abffd-59c6-43e0-b267-57d6cb3fee04",
   "metadata": {},
   "outputs": [],
   "source": [
    "# setup PRNG\n",
    "key = jax.random.PRNGKey(seed=3333) # 21)\n",
    "\n",
    "data_key, opt_key, key = jax.random.split(key, 3)\n",
    "data_rng = PRNGSequence(data_key)"
   ]
  },
  {
   "cell_type": "code",
   "execution_count": null,
   "id": "9adfd9b9-5242-4e72-9f29-2c0e271b8edc",
   "metadata": {},
   "outputs": [],
   "source": [
    "batch_size = 1\n",
    "tau = 2e-2 # 5e-2\n",
    "\n",
    "env = excenvs.make(\n",
    "    env_id='Pendulum-v0',\n",
    "    batch_size=batch_size,\n",
    "    tau=tau\n",
    ")"
   ]
  },
  {
   "cell_type": "code",
   "execution_count": null,
   "id": "c43f09f3-6f45-41bb-9451-7554df7f5189",
   "metadata": {},
   "outputs": [],
   "source": [
    "obs, env_state = env.reset()\n",
    "obs = obs.astype(jnp.float32)\n",
    "env_state = env_state.astype(jnp.float32)\n",
    "n_steps = 999\n",
    "\n",
    "actions = aprbs(n_steps, batch_size, 1, 10, next(data_rng))"
   ]
  },
  {
   "cell_type": "code",
   "execution_count": null,
   "id": "16232bb8-1259-49ce-b08b-ab308ea77c6d",
   "metadata": {},
   "outputs": [],
   "source": [
    "observations = jax.vmap(simulate_ahead_with_env, in_axes=(None, 0, 0, 0, 0, 0, 0))(\n",
    "    env,\n",
    "    obs,\n",
    "    env_state,\n",
    "    actions,\n",
    "    env.env_state_normalizer,\n",
    "    env.action_normalizer,\n",
    "    env.static_params\n",
    ")\n",
    "\n",
    "print(\"actions.shape:\", actions.shape)\n",
    "print(\"observations.shape:\", observations.shape)\n",
    "\n",
    "print(\" \\n One of the trajectories:\")\n",
    "fig, axs = plot_sequence(\n",
    "    observations=observations[0, ...],\n",
    "    actions=actions[0, ...],\n",
    "    tau=tau,\n",
    "    obs_labels=[r\"$\\theta$\", r\"$\\omega$\"],\n",
    "    action_labels=[r\"$u$\"],\n",
    ");\n",
    "plt.show()"
   ]
  },
  {
   "cell_type": "markdown",
   "id": "8ce903c4-e730-4299-a1e6-d3212d02d995",
   "metadata": {},
   "source": [
    "### Metrics:\n",
    "\n",
    "- maximum nearest neighbor sequence **[Smits+Nelles2024]**:\n",
    "\n",
    "\\begin{align}\n",
    "    f_{\\mathrm{MNNS}} = &- \\frac{1} {L} \\sum_{k=N+1}^{N+L} \\min_{i \\in \\{1, ..., N \\}} \\| \\mathbf{x}_i - \\mathbf{x}_k \\|_2 \\\\\n",
    "                        &+ \\# u_{v, l_v} d_{max},\n",
    "\\end{align}\n",
    "\n",
    "where $L$ is the sequence length made up of the next $h$ steps (which can vary in length) and $\\mathbf{x}_k$ are the new data_points that are simulated from the model. The term $\\# u_{v, l_v} d_{max}$ is meant to weaken the effect of overemphasized boundaries and corners.\n",
    "**Thereby, $\\# u_{v, l_v}$ denotes the counter of the amplitude levels of the $v$-th input dimension?** and $d_{max} = k_{d_{max}} \\Delta$, where\n",
    "\n",
    "\\begin{align}\n",
    "    \\Delta = \\frac{2}{N(N-1)} \\sum_{i=1}^N \\sum_{k=i+1}^N \\| \\mathbf{x}_i - \\mathbf{x}_k \\|_2.\n",
    "\\end{align}\n",
    "\n",
    "- audze eglais  **[Smits+Nelles2024]**:"
   ]
  },
  {
   "cell_type": "code",
   "execution_count": null,
   "id": "693dd316-48a0-45b5-bb9c-431dae5226df",
   "metadata": {},
   "outputs": [],
   "source": [
    "from sklearn.neighbors import NearestNeighbors\n",
    "\n",
    "from exciting_exciting_systems.utils.metrics import audze_eglais, MC_uniform_sampling_distribution_approximation, MNNS_without_penalty"
   ]
  },
  {
   "cell_type": "code",
   "execution_count": null,
   "id": "b8a92b9a-371e-4e33-8abb-a2b1bdcbf165",
   "metadata": {},
   "outputs": [],
   "source": [
    "new_observations = observations[:, 900:, :]\n",
    "old_observations = observations[:, :900, :]\n",
    "\n",
    "mnns_score = jax.vmap(MNNS_without_penalty)(\n",
    "    data_points=old_observations,\n",
    "    new_data_points=new_observations\n",
    ")\n",
    "\n",
    "mnns_score"
   ]
  },
  {
   "cell_type": "code",
   "execution_count": null,
   "id": "28121325-c869-4a3e-9243-11ddef48034a",
   "metadata": {},
   "outputs": [],
   "source": [
    "ae_score = jax.vmap(audze_eglais)(\n",
    "    data_points=observations,\n",
    ")\n",
    "\n",
    "print(ae_score)"
   ]
  },
  {
   "cell_type": "code",
   "execution_count": null,
   "id": "03a3fa2d-4bcd-488d-9223-f61270731e22",
   "metadata": {},
   "outputs": [],
   "source": [
    "support_points = build_grid_2d(-1, 1, 50)\n",
    "MCUSDA_score = jax.vmap(MC_uniform_sampling_distribution_approximation, in_axes=(0, None),)(\n",
    "    observations,\n",
    "    support_points\n",
    ")\n",
    "MCUSDA_score"
   ]
  },
  {
   "cell_type": "markdown",
   "id": "e3fea0f0-1830-4ef8-b1ad-cf7e9c0261b1",
   "metadata": {},
   "source": [
    "### Offline iGOATs:\n",
    "Implement and use the iGOATs algorithm as described in **[Smits+Nelles2024]** and **[Smits+Nelles2022]**."
   ]
  },
  {
   "cell_type": "markdown",
   "id": "5a5a312e-e216-4b0c-9c0b-23f5a6a9de02",
   "metadata": {},
   "source": [
    "- start with a random aprbs and optimize it by rolling out the next steps using the perfect model\n",
    "- add the chosen actions to the sequence and start with the next random aprbs steps\n",
    "- **in any case:** The simulation rollout should be part of the fitness function"
   ]
  },
  {
   "cell_type": "markdown",
   "id": "63f9e178-3568-408d-aa58-a183e634be65",
   "metadata": {},
   "source": [
    "- Further **TODO**: Test the metrics given above on random data and the optimized trajectory from your algorithm for sanity check..."
   ]
  },
  {
   "cell_type": "code",
   "execution_count": null,
   "id": "b831bfc8-d2e7-407d-8b7c-2ce646d1a0b5",
   "metadata": {},
   "outputs": [],
   "source": [
    "import evosax  # genetic algorithm in jax, The state of the library might be interesting to investigate for your own implementations"
   ]
  },
  {
   "cell_type": "code",
   "execution_count": null,
   "id": "51acc9ef-6cb8-42df-ba9b-6823660ed869",
   "metadata": {},
   "outputs": [],
   "source": [
    "@jax.jit\n",
    "def featurize_theta(obs):\n",
    "    \"\"\"The angle itself is difficult to properly interpret in the loss as angles\n",
    "    such as 1.99 * pi and 0 are essentially the same. Therefore the angle is \n",
    "    transformed to sin(phi) and cos(phi) for comparison in the loss.\"\"\"\n",
    "    feat_obs = jnp.stack([jnp.sin(obs[..., 0] * jnp.pi), jnp.cos(obs[..., 0] * jnp.pi), obs[..., 1]], axis=-1)\n",
    "    return feat_obs"
   ]
  },
  {
   "cell_type": "code",
   "execution_count": null,
   "id": "8375af84-dc02-41b5-ad89-4f9a5edb4ec6",
   "metadata": {},
   "outputs": [],
   "source": [
    "def MNNS_without_penalty(\n",
    "        data_points: jnp.ndarray,\n",
    "        new_data_points: jnp.ndarray\n",
    ") -> jnp.ndarray:\n",
    "    \"\"\"From [Smits+Nelles2024].\n",
    "\n",
    "    Implementation inspired by https://github.com/google/jax/discussions/9813\n",
    "\n",
    "    TODO: Not sure about this penalty. Seems difficult to use for continuous action-spaces?\n",
    "    \"\"\"\n",
    "    L = new_data_points.shape[0]\n",
    "    distance_matrix = jnp.linalg.norm(data_points[:, None, :] - new_data_points[None, ...], axis=-1)\n",
    "    minimal_distances = jnp.min(distance_matrix, axis=0)\n",
    "    return - jnp.sum(minimal_distances) / L"
   ]
  },
  {
   "cell_type": "code",
   "execution_count": null,
   "id": "443f65d9-2fd7-4d54-8e94-91c50dea9682",
   "metadata": {},
   "outputs": [],
   "source": [
    "def fitness_function(\n",
    "    env,\n",
    "    obs,\n",
    "    env_state,\n",
    "    prev_observations,\n",
    "    actions\n",
    "):\n",
    "\n",
    "    actions = actions[None, :, None]\n",
    "    \n",
    "    observations = jax.vmap(simulate_ahead_with_env, in_axes=(None, 0, 0, 0, 0, 0, 0))(\n",
    "        env,\n",
    "        obs,\n",
    "        env_state,\n",
    "        actions,\n",
    "        env.env_state_normalizer,\n",
    "        env.action_normalizer,\n",
    "        env.static_params\n",
    "    )\n",
    "\n",
    "    feat_observations = jax.vmap(featurize_theta, in_axes=(0))(observations)\n",
    "    \n",
    "    score = MNNS_without_penalty(\n",
    "        data_points=featurize_theta(prev_observations),\n",
    "        new_data_points=feat_observations[0, 1:, :]\n",
    "                                       \n",
    "    )\n",
    "\n",
    "    rho_obs = 1e10\n",
    "    rho_act = 1e10\n",
    "    penalty_terms = rho_obs * soft_penalty(a=observations, a_max=1) + rho_act * soft_penalty(a=actions, a_max=1)\n",
    "    \n",
    "    return jnp.squeeze(score) + penalty_terms"
   ]
  },
  {
   "cell_type": "code",
   "execution_count": null,
   "id": "03baf897-c585-46a5-83f5-7f16c7e56fb4",
   "metadata": {},
   "outputs": [],
   "source": [
    "def optimize_actions(\n",
    "    opt_key,\n",
    "    strategy,\n",
    "    es_params,\n",
    "    env,\n",
    "    obs,\n",
    "    env_state,\n",
    "    prev_observations,\n",
    "    num_generations\n",
    "):\n",
    "    \"\"\"TODO: Put this in a lax loop. Not possible because of the loss....\"\"\"\n",
    "\n",
    "    opt_state = strategy.initialize(opt_key, es_params)\n",
    "    \n",
    "    for t in range(num_generations):\n",
    "        opt_key, opt_gen_key, opt_eval_key = jax.random.split(opt_key, 3)\n",
    "        actions, opt_state = strategy.ask(opt_gen_key, opt_state, es_params)\n",
    "    \n",
    "        fitness = jax.vmap(fitness_function, in_axes=(None, None, None, None, 0))(env, obs, env_state, prev_observations, actions)\n",
    "        opt_state = strategy.tell(actions, fitness, opt_state, es_params)\n",
    "\n",
    "    return opt_state.best_member[None, :, None]"
   ]
  },
  {
   "cell_type": "code",
   "execution_count": null,
   "id": "adfb051e-c6ca-4ff9-9958-1c477b185bd1",
   "metadata": {},
   "outputs": [],
   "source": [
    "observations = []\n",
    "actions = []\n",
    "\n",
    "n_prediction_steps = 50\n",
    "\n",
    "population_size = 20\n",
    "n_generations = 100\n",
    "\n",
    "obs, env_state = env.reset()\n",
    "obs = obs.astype(jnp.float32)\n",
    "env_state = env_state.astype(jnp.float32)\n",
    "\n",
    "observations.append(obs[0])\n",
    "\n",
    "strategy = evosax.CMA_ES(popsize=20, num_dims=n_prediction_steps, elite_ratio=0.5)\n",
    "es_params = strategy.default_params\n",
    "\n",
    "for j in tqdm(range(int(5000 / n_prediction_steps))):\n",
    "\n",
    "    new_actions = optimize_actions(\n",
    "        opt_key,\n",
    "        strategy,\n",
    "        es_params,\n",
    "        env,\n",
    "        obs,\n",
    "        env_state,\n",
    "        prev_observations=jnp.stack(observations),\n",
    "        num_generations=n_generations\n",
    "    )\n",
    "\n",
    "    for i in range(new_actions.shape[1]):\n",
    "        action = new_actions[:, i, :]\n",
    "        obs, _, _, _, env_state = env.step(action, env_state)\n",
    "    \n",
    "        observations.append(obs[0])\n",
    "        actions.append(action[0])\n"
   ]
  },
  {
   "cell_type": "code",
   "execution_count": null,
   "id": "aa26bc30-93f6-4098-b02c-ce91154a4f61",
   "metadata": {},
   "outputs": [],
   "source": [
    "fig, axs = plot_sequence(\n",
    "    observations=jnp.stack(observations),\n",
    "    actions=jnp.stack(actions),\n",
    "    tau=tau,\n",
    "    obs_labels=[r\"$\\theta$\", r\"$\\omega$\"],\n",
    "    action_labels=[r\"$u$\"],\n",
    ");\n",
    "plt.show()"
   ]
  },
  {
   "cell_type": "code",
   "execution_count": null,
   "id": "fbe012b0-1dec-423c-999b-3c6fbe7e3ff2",
   "metadata": {},
   "outputs": [],
   "source": []
  },
  {
   "cell_type": "code",
   "execution_count": null,
   "id": "9550b348-d656-4d13-8fc3-c5951c9cfc46",
   "metadata": {},
   "outputs": [],
   "source": [
    "from exciting_exciting_systems.utils.metrics import MNNS_without_penalty, audze_eglais, MC_uniform_sampling_distribution_approximation\n",
    "from scipy.stats.qmc import LatinHypercube"
   ]
  },
  {
   "cell_type": "code",
   "execution_count": null,
   "id": "79f6cb7c-509d-4c61-b562-314d69394a22",
   "metadata": {},
   "outputs": [],
   "source": [
    "lhc_sampler = LatinHypercube(d=2)"
   ]
  },
  {
   "cell_type": "code",
   "execution_count": null,
   "id": "3588e51c-e8ec-4956-84d1-8cc96a631d4f",
   "metadata": {},
   "outputs": [],
   "source": [
    "ae_score = audze_eglais(jnp.stack(observations))\n",
    "print(ae_score)"
   ]
  },
  {
   "cell_type": "code",
   "execution_count": null,
   "id": "182f9481-b966-4fc8-8d94-79cc91f0c8e1",
   "metadata": {},
   "outputs": [],
   "source": [
    "mcudsa_score = MC_uniform_sampling_distribution_approximation(\n",
    "    data_points=jnp.stack(observations),\n",
    "    support_points=lhc_sampler.random(n=1600)\n",
    ")\n",
    "print(mcudsa_score)"
   ]
  },
  {
   "cell_type": "code",
   "execution_count": null,
   "id": "799003b6-7139-4914-a6d6-5a7b033a1194",
   "metadata": {},
   "outputs": [],
   "source": []
  }
 ],
 "metadata": {
  "kernelspec": {
   "display_name": "Python (conda-dev-base)",
   "language": "python",
   "name": "conda-dev-base"
  },
  "language_info": {
   "codemirror_mode": {
    "name": "ipython",
    "version": 3
   },
   "file_extension": ".py",
   "mimetype": "text/x-python",
   "name": "python",
   "nbconvert_exporter": "python",
   "pygments_lexer": "ipython3",
   "version": "3.11.3"
  }
 },
 "nbformat": 4,
 "nbformat_minor": 5
}
