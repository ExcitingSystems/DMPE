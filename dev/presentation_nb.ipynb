{
 "cells": [
  {
   "cell_type": "code",
   "execution_count": null,
   "id": "6a01cf51-7d23-431f-a3c3-5b8890315b01",
   "metadata": {},
   "outputs": [],
   "source": [
    "%load_ext autoreload\n",
    "%autoreload 2\n",
    "%reload_ext line_profiler"
   ]
  },
  {
   "cell_type": "code",
   "execution_count": null,
   "id": "24767f07-9e7a-4cd8-ac44-682cee18185d",
   "metadata": {},
   "outputs": [],
   "source": [
    "import os\n",
    "os.environ[\"XLA_PYTHON_CLIENT_PREALLOCATE\"]=\"false\"\n",
    "\n",
    "import time\n",
    "import matplotlib.pyplot as plt\n",
    "import numpy as np\n",
    "\n",
    "import matplotlib as mpl\n",
    "mpl.rcParams['text.usetex'] = True\n",
    "mpl.rcParams['text.latex.preamble']=r\"\\usepackage{bm}\"\n"
   ]
  },
  {
   "cell_type": "code",
   "execution_count": null,
   "id": "a2cbff3e-21a6-4044-af37-159dbf48f6b9",
   "metadata": {},
   "outputs": [],
   "source": [
    "import jax\n",
    "import jax.numpy as jnp\n",
    "jax.config.update('jax_platform_name', 'gpu')\n",
    "gpus = jax.devices()\n",
    "jax.config.update(\"jax_default_device\", gpus[0])\n",
    "\n",
    "\n",
    "import diffrax\n",
    "import equinox as eqx\n",
    "import optax\n",
    "\n",
    "from haiku import PRNGSequence"
   ]
  },
  {
   "cell_type": "code",
   "execution_count": null,
   "id": "ae471ee6-f12b-46cb-91ed-054d06995d28",
   "metadata": {},
   "outputs": [],
   "source": [
    "import exciting_exciting_systems\n",
    "\n",
    "from exciting_exciting_systems.utils.signals import aprbs\n",
    "from exciting_exciting_systems.evaluation.plotting_utils import plot_sequence\n",
    "\n",
    "from exciting_exciting_systems.models.model_utils import simulate_ahead_with_env"
   ]
  },
  {
   "cell_type": "code",
   "execution_count": null,
   "id": "f5bab41e-6e7c-4838-bcb5-bee8eb37dc13",
   "metadata": {},
   "outputs": [],
   "source": [
    "# setup PRNG\n",
    "key = jax.random.PRNGKey(seed=2)\n",
    "\n",
    "data_key, model_key, loader_key, key = jax.random.split(key, 4)\n",
    "data_rng = PRNGSequence(data_key)"
   ]
  },
  {
   "cell_type": "markdown",
   "id": "00ec7eef-e27d-4097-bd3f-24219a3d947f",
   "metadata": {},
   "source": [
    "# Usage Presentation"
   ]
  },
  {
   "cell_type": "markdown",
   "id": "0460ccfa-2cc8-4861-8764-4b9562d8e13b",
   "metadata": {},
   "source": [
    "## Exciting Environments:\n",
    "\n",
    "- [Available on github](https://github.com/ExcitingSystems/exciting-environments)\n",
    "- Uses [jax](https://github.com/google/jax) to provide simulators for physical systems that are ...\n",
    "  - ... differentiable\n",
    "  - ... vectorizable\n",
    "  - ... just-in-time compilable"
   ]
  },
  {
   "cell_type": "code",
   "execution_count": null,
   "id": "41b990d9-83be-4543-95a3-1623705aa068",
   "metadata": {},
   "outputs": [],
   "source": [
    "import exciting_environments as excenvs"
   ]
  },
  {
   "cell_type": "code",
   "execution_count": null,
   "id": "42c6540e-4abc-41fa-8a6f-125256465e5a",
   "metadata": {},
   "outputs": [],
   "source": [
    "batch_size = 10\n",
    "tau = 2e-2\n",
    "\n",
    "env = excenvs.make(\n",
    "    env_id='Pendulum-v0',\n",
    "    batch_size=batch_size,\n",
    "    action_constraints={\"torque\": 8},\n",
    "    static_params={\"g\": 9.81, \"l\": 1, \"m\": 1},\n",
    "    solver=diffrax.Tsit5(),\n",
    "    tau=tau,\n",
    ")"
   ]
  },
  {
   "cell_type": "code",
   "execution_count": null,
   "id": "203c1ab8-7463-4558-8c82-d1d3d57ff19d",
   "metadata": {},
   "outputs": [],
   "source": [
    "obs, state = env.reset()\n",
    "n_steps = 1000"
   ]
  },
  {
   "cell_type": "code",
   "execution_count": null,
   "id": "650fe49a-b12c-4b18-a266-91b19896eacd",
   "metadata": {},
   "outputs": [],
   "source": [
    "k = jnp.linspace(0, n_steps-1, n_steps)[..., None]\n",
    "\n",
    "n_freq = 20\n",
    "\n",
    "A_l = jax.random.uniform(key=next(data_rng), shape=(1, n_freq,), dtype=jnp.float32, minval=-1, maxval=1)\n",
    "phi_l = jax.random.uniform(key=next(data_rng), shape=(1, n_freq,), dtype=jnp.float32, minval=-jnp.pi, maxval=jnp.pi)\n",
    "w_l = jnp.linspace(1, n_freq, n_freq)\n",
    "\n",
    "sin_actions = jnp.sum(A_l * jnp.sin(2 * jnp.pi * w_l/ n_steps * k + phi_l), axis=-1)\n",
    "plt.plot(sin_actions)\n",
    "sin_actions /= jnp.max(jnp.abs(sin_actions))\n",
    "plt.plot(sin_actions)"
   ]
  },
  {
   "cell_type": "code",
   "execution_count": null,
   "id": "3c9a06fc-e6a4-4be1-9ffa-c344fbd69b51",
   "metadata": {},
   "outputs": [],
   "source": [
    "n_steps = 1000\n",
    "aprbs_actions = aprbs(n_steps, batch_size, 20, 100, next(data_rng))\n",
    "\n",
    "fig, axs = plt.subplots(1, 2, figsize=(10, 4), sharey=True)\n",
    "\n",
    "axs[0].title.set_text(\"APRBS\")\n",
    "axs[0].plot(jnp.linspace(0, (n_steps-1) *tau, n_steps), aprbs_actions[0])\n",
    "\n",
    "axs[1].title.set_text(\"Sinusoidal\")\n",
    "axs[1].plot(jnp.linspace(0, (n_steps-1) *tau, n_steps), sin_actions)\n",
    "\n",
    "axs[0].set_xlabel(r\"$t$ in seconds\")\n",
    "axs[1].set_xlabel(r\"$t$ in seconds\")\n",
    "axs[0].set_ylabel(r\"$\\bm{u}_k$\")\n",
    "axs[0].grid()\n",
    "axs[1].grid()\n",
    "\n",
    "plt.tight_layout()\n",
    "\n",
    "# plt.savefig(\"results/plots/input_examples.pdf\")\n",
    "plt.show()"
   ]
  },
  {
   "cell_type": "code",
   "execution_count": null,
   "id": "2a80c346-5838-4aed-b30b-7016626c858f",
   "metadata": {},
   "outputs": [],
   "source": [
    "n_steps = 400\n",
    "actions = aprbs(n_steps, batch_size, 10, 50, next(data_rng))"
   ]
  },
  {
   "cell_type": "code",
   "execution_count": null,
   "id": "d64a8ea2-730a-41eb-8c62-6c64559b7b49",
   "metadata": {},
   "outputs": [],
   "source": [
    "observations, _, _, _, _ = env.vmap_sim_ahead(\n",
    "    state, actions, env.tau, env.tau\n",
    ")\n",
    "\n",
    "print(\"actions.shape:\", actions.shape)\n",
    "print(\"observations.shape:\", observations.shape)\n",
    "mpl.rcParams.update({'font.size': 20})\n",
    "fig,axs = plt.subplots(nrows=1, ncols=3, figsize=(18, 6))\n",
    "\n",
    "print(\" \\n One of the trajectories:\")\n",
    "fig, axs = plot_sequence(\n",
    "    fig=fig,\n",
    "    axs=axs,\n",
    "    observations=observations[0, ...],\n",
    "    actions=actions[0, ...],\n",
    "    tau=tau,\n",
    "    obs_labels=[r\"$\\theta$\", r\"$\\omega$\"],\n",
    "    action_labels=[r\"$M$\"],\n",
    ");\n",
    "\n",
    "# plt.savefig(\"results/plots/excenvs_pendulum_simulation_example.pdf\")\n",
    "plt.show()"
   ]
  },
  {
   "cell_type": "markdown",
   "id": "995b35b3-a0a3-45d2-8d9d-a9a4f7e89618",
   "metadata": {},
   "source": [
    "#### Speed:"
   ]
  },
  {
   "cell_type": "code",
   "execution_count": null,
   "id": "16c91dd8-3488-481a-abd3-c380a3c0848c",
   "metadata": {},
   "outputs": [],
   "source": [
    "batch_size = 1\n",
    "tau = 2e-2\n",
    "\n",
    "env = excenvs.make(\n",
    "    env_id='Pendulum-v0',\n",
    "    batch_size=batch_size,\n",
    "    action_constraints={\"torque\": 8},\n",
    "    static_params={\"g\": 9.81, \"l\": 1, \"m\": 1},\n",
    "    solver=diffrax.Euler(),\n",
    "    tau=tau,\n",
    ")\n",
    "\n",
    "obs, state = env.reset()\n",
    "obs = obs[0]\n",
    "\n",
    "n_steps = 999"
   ]
  },
  {
   "cell_type": "code",
   "execution_count": null,
   "id": "f15fafe4-c09d-4246-8f26-0deb2fbb7d39",
   "metadata": {},
   "outputs": [],
   "source": [
    "actions = aprbs(n_steps, 10, 5, 10, next(data_rng))"
   ]
  },
  {
   "cell_type": "code",
   "execution_count": null,
   "id": "ad739d8f-d7f2-4e73-a4e4-735ef732cdda",
   "metadata": {},
   "outputs": [],
   "source": [
    "jax_observations = []\n",
    "\n",
    "for acts in actions:\n",
    "    start = time.time()\n",
    "    observations = simulate_ahead_with_env(env, obs, state, acts).block_until_ready()\n",
    "    end = time.time()\n",
    "    print(end - start)\n",
    "\n",
    "    jax_observations.append(observations)"
   ]
  },
  {
   "cell_type": "code",
   "execution_count": null,
   "id": "0e892c8a-bdc0-42a8-9483-94ac0364b8b3",
   "metadata": {},
   "outputs": [],
   "source": [
    "from exciting_exciting_systems.related_work.np_reimpl.pendulum import Pendulum\n",
    "from exciting_exciting_systems.related_work.np_reimpl.env_utils import simulate_ahead_with_env as np_simulate_ahead_with_env"
   ]
  },
  {
   "cell_type": "code",
   "execution_count": null,
   "id": "24c8f4d8-5f35-473d-b88b-1ba4f35dbf38",
   "metadata": {},
   "outputs": [],
   "source": [
    "batch_size = 1\n",
    "tau = 2e-2\n",
    "\n",
    "np_env = Pendulum(\n",
    "    batch_size=batch_size,\n",
    "    tau=tau,\n",
    "    max_torque=8\n",
    ")\n",
    "\n",
    "obs, env_state = np_env.reset()\n",
    "obs = obs.astype(np.float32)[0]\n",
    "env_state = env_state.astype(np.float32)[0]"
   ]
  },
  {
   "cell_type": "code",
   "execution_count": null,
   "id": "3f92de56-0383-4d40-9bbd-1bda8aaee58f",
   "metadata": {},
   "outputs": [],
   "source": [
    "np_observations = []\n",
    "for acts in actions:\n",
    "    acts = np.array(acts)   \n",
    "    start = time.time()\n",
    "    observations, _ = np_simulate_ahead_with_env(\n",
    "        np_env,\n",
    "        obs,\n",
    "        env_state,\n",
    "        acts,\n",
    "    )\n",
    "    end = time.time()\n",
    "    print(end - start)\n",
    "\n",
    "    np_observations.append(observations)"
   ]
  },
  {
   "cell_type": "code",
   "execution_count": null,
   "id": "bd6378d8-f920-4f55-b0c0-b6f3e8910613",
   "metadata": {
    "scrolled": true
   },
   "outputs": [],
   "source": [
    "for (jax_obs, np_obs) in zip(jax_observations[:3], np_observations[:3]):\n",
    "    plt.plot(jax_obs[..., 0])\n",
    "    plt.plot(np_obs[..., 0])\n",
    "    plt.show()\n",
    "\n",
    "    plt.plot(jax_obs[..., 1])\n",
    "    plt.plot(np_obs[..., 1])\n",
    "    plt.show()"
   ]
  },
  {
   "cell_type": "markdown",
   "id": "62aab8c6-700a-41d0-acba-a9f94346586f",
   "metadata": {},
   "source": [
    "#### Automatic Differentation:"
   ]
  },
  {
   "cell_type": "code",
   "execution_count": null,
   "id": "a9fac381-a9ca-481e-b983-ef91a1afd3cb",
   "metadata": {},
   "outputs": [],
   "source": [
    "batch_size = 20\n",
    "tau = 2e-2\n",
    "\n",
    "env = excenvs.make(\n",
    "    env_id='Pendulum-v0',\n",
    "    batch_size=batch_size,\n",
    "    action_constraints={\"torque\": 8},\n",
    "    static_params={\"g\": 9.81, \"l\": 1, \"m\": 1},\n",
    "    solver=diffrax.Euler(),\n",
    "    tau=tau,\n",
    ")\n",
    "\n",
    "obs, state = env.reset()\n",
    "n_steps = 999\n",
    "\n",
    "actions = aprbs(n_steps, batch_size, 5, 10, next(data_rng))"
   ]
  },
  {
   "cell_type": "code",
   "execution_count": null,
   "id": "f36d8110-b071-4ff9-8cae-4fa17d481c1c",
   "metadata": {},
   "outputs": [],
   "source": [
    "def loss_function(\n",
    "    target_observations, actions, env, obs, state\n",
    "):\n",
    "    observations = jax.vmap(simulate_ahead_with_env, in_axes=(None, 0, 0, 0))(\n",
    "        env, obs, state, actions\n",
    "    )\n",
    "    return jnp.mean((observations - target_observations)**2)"
   ]
  },
  {
   "cell_type": "code",
   "execution_count": null,
   "id": "cd0a61cb-9c25-4449-8dc9-50c8c7944a31",
   "metadata": {},
   "outputs": [],
   "source": [
    "grad_function = jax.grad(loss_function, argnums=[1])"
   ]
  },
  {
   "cell_type": "code",
   "execution_count": null,
   "id": "a8ea01bb-a76c-4e80-8d61-43fb12894095",
   "metadata": {},
   "outputs": [],
   "source": [
    "grads = grad_function(\n",
    "    jnp.ones((20, 1000, 2)) * 0.5,\n",
    "    actions,\n",
    "    env=env,\n",
    "    obs=obs,\n",
    "    state=state\n",
    ")[0]\n",
    "print(\"actions.shape\", actions.shape)\n",
    "\n",
    "print(\"grads.shape\", grads.shape)"
   ]
  },
  {
   "cell_type": "markdown",
   "id": "0a34b1c0-04d0-485a-a32c-bb635ec3030d",
   "metadata": {},
   "source": [
    "## Differentiable Model Predictive Excitation (DMPE):"
   ]
  },
  {
   "cell_type": "markdown",
   "id": "ce440ed5-c7e9-4d2b-9260-4c4dffd4fd20",
   "metadata": {},
   "source": [
    "- excite systems by simultaneous identification and input optimization"
   ]
  },
  {
   "cell_type": "code",
   "execution_count": null,
   "id": "b111c8bb-9235-4346-a152-369aefbdf44d",
   "metadata": {},
   "outputs": [],
   "source": [
    "batch_size = 1\n",
    "tau = 2e-2\n",
    "\n",
    "env = excenvs.make(\n",
    "    env_id='Pendulum-v0',\n",
    "    batch_size=batch_size,\n",
    "    action_constraints={\"torque\": 8},\n",
    "    static_params={\"g\": 9.81, \"l\": 1, \"m\": 1},\n",
    "    solver=diffrax.Tsit5(),\n",
    "    tau=tau,\n",
    ")"
   ]
  },
  {
   "cell_type": "code",
   "execution_count": null,
   "id": "4dab064a-d2e0-4e6a-948b-6c25e3e2fac8",
   "metadata": {},
   "outputs": [],
   "source": [
    "def featurize_theta(obs):\n",
    "    \"\"\"The angle itself is difficult to properly interpret in the loss as angles\n",
    "    such as 1.99 * pi and 0 are essentially the same. Therefore the angle is \n",
    "    transformed to sin(phi) and cos(phi) for comparison in the loss.\"\"\"\n",
    "    feat_obs = jnp.stack([jnp.sin(obs[..., 0] * jnp.pi), jnp.cos(obs[..., 0] * jnp.pi), obs[..., 1]], axis=-1)\n",
    "    return feat_obs"
   ]
  },
  {
   "cell_type": "code",
   "execution_count": null,
   "id": "205ef9ad-be2a-4eeb-b37a-9d2ec1385d17",
   "metadata": {},
   "outputs": [],
   "source": [
    "bandwidth = 0.05\n",
    "n_prediction_steps = 50\n",
    "\n",
    "dim_obs_space = 2\n",
    "dim_action_space = 1\n",
    "\n",
    "dim = dim_obs_space + dim_action_space\n",
    "points_per_dim = 50\n",
    "n_grid_points=points_per_dim**dim\n",
    "\n",
    "n_timesteps = 15_000"
   ]
  },
  {
   "cell_type": "code",
   "execution_count": null,
   "id": "f6fd15f4-5f57-49a6-b09d-fa88d632dd47",
   "metadata": {},
   "outputs": [],
   "source": [
    "obs, state = env.reset()\n",
    "obs = obs[0]\n",
    "\n",
    "observations = jnp.zeros((n_timesteps, dim_obs_space))\n",
    "observations = observations.at[0].set(obs)\n",
    "actions = jnp.zeros((n_timesteps-1, dim_action_space))\n",
    "\n",
    "proposed_actions = aprbs(n_prediction_steps, batch_size, 1, 10, next(data_rng))[0]"
   ]
  },
  {
   "cell_type": "code",
   "execution_count": null,
   "id": "1fe3c803-6ea4-4faf-a0b3-85f3083ac682",
   "metadata": {},
   "outputs": [],
   "source": [
    "from exciting_exciting_systems.models.model_training import ModelTrainer\n",
    "from exciting_exciting_systems.excitation import loss_function, Exciter\n",
    "from exciting_exciting_systems.models import NeuralEulerODEPendulum\n",
    "from exciting_exciting_systems.utils.density_estimation import (\n",
    "    DensityEstimate, build_grid_2d\n",
    ")"
   ]
  },
  {
   "cell_type": "code",
   "execution_count": null,
   "id": "4e7fe4ee-80ca-49e7-97d5-12e034d73e32",
   "metadata": {},
   "outputs": [],
   "source": [
    "exciter = Exciter(\n",
    "    grad_loss_function=jax.grad(loss_function, argnums=(2)),\n",
    "    excitation_optimizer=optax.adabelief(1e-2),\n",
    "    n_opt_steps=50,\n",
    "    tau=tau,\n",
    "    target_distribution=jnp.ones(shape=(n_grid_points, 1)) * 1 / (1 - (-1))**dim,\n",
    "    rho_obs=1e10,\n",
    "    rho_act=1e10\n",
    ")\n",
    "\n",
    "model_trainer = ModelTrainer(\n",
    "    start_learning=n_prediction_steps,\n",
    "    training_batch_size=128,\n",
    "    n_train_steps=1,\n",
    "    sequence_length=n_prediction_steps,\n",
    "    featurize=featurize_theta,\n",
    "    model_optimizer=optax.adabelief(1e-4),\n",
    "    tau=tau\n",
    ")\n",
    "\n",
    "density_estimate = DensityEstimate(\n",
    "    p=jnp.zeros([n_grid_points, 1]),\n",
    "    x_g=exciting_exciting_systems.utils.density_estimation.build_grid_3d(\n",
    "        low=-1,\n",
    "        high=1,\n",
    "        points_per_dim=points_per_dim\n",
    "    ),\n",
    "    bandwidth=jnp.array([bandwidth]),\n",
    "    n_observations=jnp.array([0])\n",
    ")\n",
    "\n",
    "\n",
    "model = NeuralEulerODEPendulum(\n",
    "    obs_dim=dim_obs_space,\n",
    "    action_dim=dim_action_space,\n",
    "    width_size=128,\n",
    "    depth=3,\n",
    "    key=model_key\n",
    ")\n",
    "opt_state_model = model_trainer.model_optimizer.init(eqx.filter(model, eqx.is_inexact_array))"
   ]
  },
  {
   "cell_type": "code",
   "execution_count": null,
   "id": "44309499-ac9a-4a53-8bb3-a6a8e9a829d5",
   "metadata": {},
   "outputs": [],
   "source": [
    "from exciting_exciting_systems.algorithms import excite_and_fit"
   ]
  },
  {
   "cell_type": "code",
   "execution_count": null,
   "id": "6f3b6913-b5e5-4330-bb22-6384f2c74d93",
   "metadata": {},
   "outputs": [],
   "source": [
    "# dmpe_observations, dmpe_actions, model, density_estimate, losses = excite_and_fit(\n",
    "#     n_timesteps=n_timesteps,\n",
    "#     env=env,\n",
    "#     model=model,\n",
    "#     obs=obs,\n",
    "#     state=state,\n",
    "#     proposed_actions=proposed_actions,\n",
    "#     exciter=exciter,\n",
    "#     model_trainer=model_trainer,\n",
    "#     density_estimate=density_estimate,\n",
    "#     observations=observations,\n",
    "#     actions=actions,\n",
    "#     opt_state_model=opt_state_model,\n",
    "#     loader_key=loader_key,\n",
    "#     plot_every=2500,\n",
    "# )\n",
    "\n",
    "# np.save(\"results/obs_dmpe.npy\", np.stack(dmpe_observations))\n",
    "# np.save(\"results/act_dmpe.npy\", np.stack(dmpe_actions))\n",
    "\n",
    "dmpe_observations = np.load(\"results/obs_dmpe.npy\")\n",
    "dmpe_actions = np.load(\"results/act_dmpe.npy\")"
   ]
  },
  {
   "cell_type": "code",
   "execution_count": null,
   "id": "66636f23-6df0-4e25-be88-bb6e8cfb0dbc",
   "metadata": {},
   "outputs": [],
   "source": [
    "fig, axs = plot_sequence(\n",
    "    dmpe_observations,\n",
    "    dmpe_actions,\n",
    "    tau=tau,\n",
    "    obs_labels=[r\"$\\theta$\", r\"$\\omega$\"],\n",
    "    action_labels=[r\"$u$\"],\n",
    ");\n",
    "plt.savefig(\"results/plots/dmpe_example_result.pdf\")\n",
    "\n",
    "plt.plot()"
   ]
  },
  {
   "cell_type": "markdown",
   "id": "99056e8e-51c2-410c-8521-8c944d4ee215",
   "metadata": {},
   "source": [
    "## sGOATs reimplementation:"
   ]
  },
  {
   "cell_type": "code",
   "execution_count": null,
   "id": "de6cfcb5-32e9-4111-9763-e55e4565bcb1",
   "metadata": {},
   "outputs": [],
   "source": [
    "from exciting_exciting_systems.related_work.np_reimpl.pendulum import Pendulum\n",
    "from exciting_exciting_systems.related_work.algorithms import excite_with_sGOATs, excite_with_GOATs, excite_with_iGOATs"
   ]
  },
  {
   "cell_type": "code",
   "execution_count": null,
   "id": "b86bcd5f-ecfc-4655-be6b-07075ff61a8a",
   "metadata": {},
   "outputs": [],
   "source": [
    "def featurize_theta(obs_action):\n",
    "    \"\"\"The angle itself is difficult to properly interpret in the loss as angles\n",
    "    such as 1.99 * pi and 0 are essentially the same. Therefore the angle is \n",
    "    transformed to sin(phi) and cos(phi) for comparison in the loss.\"\"\"\n",
    "\n",
    "    feat_obs_action = np.stack([np.sin(obs_action[..., 0] * np.pi), np.cos(obs_action[..., 0] * np.pi)], axis=-1)\n",
    "    feat_obs_action = np.concatenate([feat_obs_action, obs_action[..., 1:]], axis=-1)\n",
    "    \n",
    "    return feat_obs_action"
   ]
  },
  {
   "cell_type": "code",
   "execution_count": null,
   "id": "c1b6b0f1-d657-4557-9d25-5b16601ecccd",
   "metadata": {},
   "outputs": [],
   "source": [
    "batch_size = 1\n",
    "tau = 2e-2\n",
    "\n",
    "env = Pendulum(\n",
    "    batch_size=batch_size,\n",
    "    tau=tau,\n",
    "    max_torque=8\n",
    ")"
   ]
  },
  {
   "cell_type": "code",
   "execution_count": null,
   "id": "4f2e59e5-eeee-4ca7-a392-08bd44485585",
   "metadata": {
    "scrolled": true
   },
   "outputs": [],
   "source": [
    "# all_observations = []\n",
    "# all_actions = []\n",
    "\n",
    "# all_observations, all_actions = excite_with_sGOATs(\n",
    "#     n_amplitudes=600,\n",
    "#     n_amplitude_groups=6,\n",
    "#     reuse_observations=True,\n",
    "#     all_observations=all_observations,\n",
    "#     all_actions=all_actions,\n",
    "#     env=env,\n",
    "#     bounds_duration=(1,50),\n",
    "#     population_size=50,\n",
    "#     n_generations=100,\n",
    "#     # n_support_points=1600,\n",
    "#     featurize=featurize_theta,\n",
    "#     seed=0,\n",
    "#     verbose=True\n",
    "# )\n",
    "\n",
    "# sgoats_observations = np.concatenate(all_observations)\n",
    "# sgoats_actions = np.concatenate(all_actions)\n",
    "\n",
    "# np.save(\"results/obs_sGOATS.npy\", np.stack(sgoats_observations))\n",
    "# np.save(\"results/act_sGOATS.npy\", np.stack(sgoats_actions))\n",
    "\n",
    "\n",
    "sgoats_observations = np.load(\"results/obs_sGOATs.npy\")\n",
    "sgoats_actions = np.load(\"results/act_sGOATs.npy\")"
   ]
  },
  {
   "cell_type": "code",
   "execution_count": null,
   "id": "7e991d74-ece1-4711-b687-ac3708e07a6b",
   "metadata": {},
   "outputs": [],
   "source": [
    "print(\"sgoats actions.shape:\", sgoats_actions.shape)\n",
    "print(\"sgoats observations.shape:\", sgoats_observations.shape)\n",
    "\n",
    "fig, axs = plot_sequence(\n",
    "    observations=sgoats_observations,\n",
    "    actions=sgoats_actions[:-1, ...],\n",
    "    tau=tau,\n",
    "    obs_labels=[r\"$\\theta$\", r\"$\\omega$\"],\n",
    "    action_labels=[r\"$u$\"],\n",
    ");\n",
    "\n",
    "plt.savefig(\"results/plots/sGOATS_example_result.pdf\")\n",
    "\n",
    "plt.show()"
   ]
  },
  {
   "cell_type": "code",
   "execution_count": null,
   "id": "67cd435c-6418-4152-9165-c152b457f7fd",
   "metadata": {},
   "outputs": [],
   "source": [
    "number_of_singletons = 0\n",
    "for idx in range(1, sgoats_actions.shape[0] - 1):\n",
    "    if sgoats_actions[idx-1] != sgoats_actions[idx] and sgoats_actions[idx] != sgoats_actions[idx+1]:\n",
    "        number_of_singletons +=1\n",
    "\n",
    "print(\"number of singleton inputs: \", number_of_singletons)"
   ]
  },
  {
   "cell_type": "code",
   "execution_count": null,
   "id": "f1d82fb6-d599-4931-9743-97f824a3d6d7",
   "metadata": {},
   "outputs": [],
   "source": [
    "number_of_cons_inputs = np.zeros(600)\n",
    "\n",
    "j = 0\n",
    "number_of_cons_inputs[j] += 1\n",
    "for idx in range(sgoats_actions.shape[0] - 1):\n",
    "    if sgoats_actions[idx] == sgoats_actions[idx+1]:\n",
    "        number_of_cons_inputs[j] += 1\n",
    "    else:\n",
    "        number_of_cons_inputs[j] += 1\n",
    "        j+=1"
   ]
  },
  {
   "cell_type": "code",
   "execution_count": null,
   "id": "51ae19ab-d1d4-47b2-9b04-822ea23a1296",
   "metadata": {},
   "outputs": [],
   "source": [
    "np.sum(number_of_cons_inputs == 50)"
   ]
  },
  {
   "cell_type": "code",
   "execution_count": null,
   "id": "a24be2a7-e432-42f1-8dc5-33498b081c7b",
   "metadata": {},
   "outputs": [],
   "source": [
    "plt.hist(number_of_cons_inputs, bins=50)"
   ]
  },
  {
   "cell_type": "markdown",
   "id": "888c0fa7-e1ad-4aa3-bc8f-b8766a1ce638",
   "metadata": {},
   "source": [
    "## GOATS implementation:"
   ]
  },
  {
   "cell_type": "code",
   "execution_count": null,
   "id": "b4f6f266-0ee8-42bb-9596-bd3bb17dd396",
   "metadata": {},
   "outputs": [],
   "source": [
    "# goats_observations, goats_actions = excite_with_GOATs(\n",
    "#     n_amplitudes=600,\n",
    "#     env=env,\n",
    "#     bounds_duration=(1,50),\n",
    "#     population_size=50,\n",
    "#     n_generations=100,\n",
    "#     featurize=featurize_theta,\n",
    "#     seed=0,\n",
    "#     verbose=True\n",
    "# )"
   ]
  },
  {
   "cell_type": "code",
   "execution_count": null,
   "id": "25db1f3c-d262-4f1d-8082-d1851953c8fd",
   "metadata": {},
   "outputs": [],
   "source": [
    "# print(\"goats actions.shape:\", goats_actions.shape)\n",
    "# print(\"goats observations.shape:\", goats_observations.shape)\n",
    "\n",
    "# fig, axs = plot_sequence(\n",
    "#     observations=goats_observations,\n",
    "#     actions=goats_actions,\n",
    "#     tau=tau,\n",
    "#     obs_labels=[r\"$\\theta$\", r\"$\\omega$\"],\n",
    "#     action_labels=[r\"$u$\"],\n",
    "# );\n",
    "\n",
    "# plt.savefig(\"results/plots/GOATS_example_result.pdf\")\n",
    "\n",
    "# plt.show()"
   ]
  },
  {
   "cell_type": "markdown",
   "id": "069c2df2-f656-49a7-a71a-66908c7ff825",
   "metadata": {},
   "source": [
    "- I suspect the optimization problem to be way too hard?\n",
    "- unable to stabilize"
   ]
  },
  {
   "cell_type": "markdown",
   "id": "278b93b7-e092-4fa8-907d-22060584184e",
   "metadata": {},
   "source": [
    "## iGOATS implementation:"
   ]
  },
  {
   "cell_type": "code",
   "execution_count": null,
   "id": "9b94cb31-14d9-4b39-ba28-16d20a51a42d",
   "metadata": {},
   "outputs": [],
   "source": [
    "# h = 2\n",
    "# a = 2\n",
    "\n",
    "# igoats_actions = []\n",
    "# igoats_observations = []\n",
    "\n",
    "# igoats_observations, igoats_actions = excite_with_iGOATs(\n",
    "#     n_timesteps=15000,\n",
    "#     env=env,\n",
    "#     actions=igoats_actions,\n",
    "#     observations=igoats_observations,\n",
    "#     h=h,\n",
    "#     a=a,\n",
    "#     bounds_amplitude=[-1, 1],\n",
    "#     bounds_duration=[1, 50],\n",
    "#     population_size=20,\n",
    "#     n_generations=20,\n",
    "#     mean=np.hstack([np.zeros(h), np.ones(h) * 25]),\n",
    "#     sigma=2.0,\n",
    "#     featurize=featurize_theta\n",
    "# )\n",
    "\n",
    "# np.save(\"results/obs_iGOATS.npy\", np.stack(igoats_observations))\n",
    "# np.save(\"results/act_iGOATS.npy\", np.stack(igoats_actions))\n",
    "\n",
    "\n",
    "igoats_observations = np.load(\"results/obs_iGOATS.npy\")\n",
    "igoats_actions = np.load(\"results/act_iGOATS.npy\")"
   ]
  },
  {
   "cell_type": "code",
   "execution_count": null,
   "id": "81170666-8fea-49ab-ba83-81dc9494eb3c",
   "metadata": {},
   "outputs": [],
   "source": [
    "print(\"goats actions.shape:\", igoats_actions.shape)\n",
    "print(\"goats observations.shape:\", igoats_observations.shape)\n",
    "\n",
    "fig, axs = plot_sequence(\n",
    "    observations=igoats_observations,\n",
    "    actions=igoats_actions,\n",
    "    tau=tau,\n",
    "    obs_labels=[r\"$\\theta$\", r\"$\\omega$\"],\n",
    "    action_labels=[r\"$u$\"],\n",
    ");\n",
    "\n",
    "plt.savefig(\"results/plots/iGOATS_example_result.pdf\")\n",
    "\n",
    "plt.show()"
   ]
  },
  {
   "cell_type": "markdown",
   "id": "3c7215d2-3aa6-4d5e-8c6a-8628101e6beb",
   "metadata": {},
   "source": [
    "## Comparison:"
   ]
  },
  {
   "cell_type": "markdown",
   "id": "7910be9b-ed29-4cce-916d-89ca06df13a2",
   "metadata": {},
   "source": [
    "#### Qualitative:\n",
    "\n",
    "- Note that sGOATS uses **explicit Euler**, while DMPE uses **Tsit5** as ODE solver in the simulation\n",
    "- both algorithms consider $\\mathbf{u}_k$ and $\\mathbf{y}_k$, first only look at observation distribution"
   ]
  },
  {
   "cell_type": "code",
   "execution_count": null,
   "id": "6d18bdfb-faac-4a10-b300-29c1a923cfca",
   "metadata": {},
   "outputs": [],
   "source": [
    "mpl.rcParams.update({'font.size': 20})\n",
    "\n",
    "fig, ax = plt.subplots(1, 3, figsize=(18,6), sharey=True)\n",
    "for (idx, observations), name in zip(enumerate([dmpe_observations, sgoats_observations, igoats_observations]), [\"dmpe\", \"sgoats\", \"igoats\"]):\n",
    "    ax[idx].scatter(observations[..., 0], observations[..., 1], s=1)\n",
    "    ax[idx].grid()\n",
    "    ax[idx].title.set_text(name + \" observations, timeseries\")\n",
    "\n",
    "fig.tight_layout()\n",
    "\n",
    "# plt.savefig(\"results/plots/comparison_observation_space.pdf\")\n",
    "plt.show()"
   ]
  },
  {
   "cell_type": "code",
   "execution_count": null,
   "id": "68302f51-f833-4c26-b14c-fec1c5f118d1",
   "metadata": {},
   "outputs": [],
   "source": [
    "from exciting_exciting_systems.utils.density_estimation import update_density_estimate_multiple_observations"
   ]
  },
  {
   "cell_type": "code",
   "execution_count": null,
   "id": "7e9edf61",
   "metadata": {},
   "outputs": [],
   "source": [
    "density_estimate = DensityEstimate(\n",
    "    p=jnp.zeros([points_per_dim**2, 1]),\n",
    "    x_g=build_grid_2d(low=-1, high=1, points_per_dim=points_per_dim),\n",
    "    bandwidth=jnp.array([bandwidth]),\n",
    "    n_observations=jnp.array([0])\n",
    ")\n",
    "\n",
    "dmpe_density_estimate = update_density_estimate_multiple_observations(\n",
    "    density_estimate, dmpe_observations,\n",
    ")\n",
    "\n",
    "sgoats_density_estimate = update_density_estimate_multiple_observations(\n",
    "    density_estimate, sgoats_observations,\n",
    ")\n",
    "\n",
    "igoats_density_estimate = update_density_estimate_multiple_observations(\n",
    "    density_estimate, igoats_observations,\n",
    ")"
   ]
  },
  {
   "cell_type": "code",
   "execution_count": null,
   "id": "4e160118-6eba-4569-87fd-ca091b6b879a",
   "metadata": {
    "scrolled": true
   },
   "outputs": [],
   "source": [
    "mpl.rcParams.update({'font.size': 20, 'figure.autolayout': True})\n",
    "#mpl.rcParams.update()\n",
    "\n",
    "\n",
    "fig, axs, cax = exciting_exciting_systems.evaluation.plotting_utils.plot_2d_kde_as_contourf(\n",
    "    dmpe_density_estimate.p, dmpe_density_estimate.x_g, [r\"$\\theta$\", r\"$\\omega$\"]\n",
    ")\n",
    "# plt.savefig(\"results/plots/dmpe_example_kde.pdf\")\n",
    "plt.show()\n",
    "\n",
    "fig, axs, cax = exciting_exciting_systems.evaluation.plotting_utils.plot_2d_kde_as_contourf(\n",
    "    sgoats_density_estimate.p, sgoats_density_estimate.x_g, [r\"$\\theta$\", r\"$\\omega$\"]\n",
    ")\n",
    "# plt.savefig(\"results/plots/sgoats_example_kde.pdf\")\n",
    "\n",
    "fig, axs, cax = exciting_exciting_systems.evaluation.plotting_utils.plot_2d_kde_as_contourf(\n",
    "    igoats_density_estimate.p, igoats_density_estimate.x_g, [r\"$\\theta$\", r\"$\\omega$\"]\n",
    ")\n",
    "# plt.savefig(\"results/plots/igoats_example_kde.pdf\")"
   ]
  },
  {
   "cell_type": "markdown",
   "id": "8fe350d3-50c6-4cde-8c96-12321e757e14",
   "metadata": {},
   "source": [
    "- joint distributions $\\mathbf{u}_k$ and $\\mathbf{y}_k$"
   ]
  },
  {
   "cell_type": "code",
   "execution_count": null,
   "id": "a35854d1-261b-4590-b358-ada2180d914c",
   "metadata": {},
   "outputs": [],
   "source": [
    "points_per_dim = 50\n",
    "n_grid_points=points_per_dim**3\n",
    "density_estimate = DensityEstimate(\n",
    "    p=jnp.zeros([n_grid_points, 1]),\n",
    "    x_g=exciting_exciting_systems.utils.density_estimation.build_grid_3d(\n",
    "        low=-1,\n",
    "        high=1,\n",
    "        points_per_dim=points_per_dim\n",
    "    ),\n",
    "    bandwidth=jnp.array([bandwidth]),\n",
    "    n_observations=jnp.array([0])\n",
    ")\n",
    "\n",
    "\n",
    "dmpe_density_estimate = update_density_estimate_multiple_observations(\n",
    "    density_estimate, jnp.concatenate([dmpe_observations[0:-1, :], dmpe_actions], axis=-1),\n",
    ")\n",
    "\n",
    "sgoats_density_estimate = update_density_estimate_multiple_observations(\n",
    "    density_estimate, jnp.concatenate([sgoats_observations, sgoats_actions], axis=-1),\n",
    ")\n",
    "\n",
    "igoats_density_estimate = update_density_estimate_multiple_observations(\n",
    "    density_estimate, jnp.concatenate([igoats_observations[0:-1, :], igoats_actions], axis=-1),\n",
    ")"
   ]
  },
  {
   "cell_type": "code",
   "execution_count": null,
   "id": "0765c567-9d11-4ea0-b716-ee127d4c37b3",
   "metadata": {
    "scrolled": true
   },
   "outputs": [],
   "source": [
    "x_plot = dmpe_density_estimate.x_g.reshape((points_per_dim, points_per_dim, points_per_dim, 3))\n",
    "ims = []\n",
    "for i in range(points_per_dim):\n",
    "    fig, axs = plt.subplots(1, 2, figsize=(12, 6))\n",
    "    axs[0].contourf(\n",
    "        dmpe_density_estimate.p.reshape((points_per_dim, points_per_dim, points_per_dim))[:, :, i],\n",
    "        antialiased=False,\n",
    "        levels=100,\n",
    "        alpha=0.9,\n",
    "        cmap=plt.cm.coolwarm\n",
    "    )\n",
    "    axs[1].contourf(\n",
    "        sgoats_density_estimate.p.reshape((points_per_dim, points_per_dim, points_per_dim))[:, :, i],\n",
    "        antialiased=False,\n",
    "        levels=100,\n",
    "        alpha=0.9,\n",
    "        cmap=plt.cm.coolwarm\n",
    "    )\n",
    "\n",
    "    axs[0].title.set_text(\"dmpe: u_k = \" + str(jnp.linspace(-1, 1, points_per_dim)[i]))\n",
    "    axs[1].title.set_text(\"sgoats: u_k = \" + str(jnp.linspace(-1, 1, points_per_dim)[i]))\n",
    "    plt.show()"
   ]
  },
  {
   "cell_type": "markdown",
   "id": "86468c15-d034-468b-8d44-6b46af3c8566",
   "metadata": {},
   "source": [
    "#### Quantitative:\n",
    "\n",
    "- metrics used for comparison:\n",
    "  - Jensen Shannon divergence (JSD) **<- optimization metric for dmpe optimization**\n",
    "  - MC unifrom sampling distribution approximation (MCUDSA) **<- optimization metric for sGOATs**\n",
    "  - Audze-Eglais (AE)\n",
    "- metric used for iGOATs optimization:\n",
    "  - Maximum nearest neighbor sequence (MNNS) (without penalty, only for MISO systems?)"
   ]
  },
  {
   "cell_type": "code",
   "execution_count": null,
   "id": "1b46132f-0108-479b-860d-af3563aa4c2c",
   "metadata": {},
   "outputs": [],
   "source": []
  },
  {
   "cell_type": "code",
   "execution_count": null,
   "id": "0e522cd1-7dd9-49f7-ab3a-c423cd516c59",
   "metadata": {},
   "outputs": [],
   "source": [
    "import exciting_exciting_systems"
   ]
  },
  {
   "cell_type": "code",
   "execution_count": null,
   "id": "b31ce266-cb70-4f60-a3b8-d91eba3d984f",
   "metadata": {},
   "outputs": [],
   "source": [
    "from exciting_exciting_systems.utils.metrics import JSDLoss\n",
    "from exciting_exciting_systems.related_work.np_reimpl.metrics import (\n",
    "    MC_uniform_sampling_distribution_approximation, audze_eglais\n",
    ")\n",
    "from exciting_exciting_systems.related_work.excitation_utils import latin_hypercube_sampling"
   ]
  },
  {
   "cell_type": "markdown",
   "id": "cdef005d-4207-44dd-b49c-a240e0ce8694",
   "metadata": {},
   "source": [
    "**JSD:**"
   ]
  },
  {
   "cell_type": "code",
   "execution_count": null,
   "id": "257e9228-59d8-4ec6-ae16-f5f869acda32",
   "metadata": {},
   "outputs": [],
   "source": [
    "dmpe_jsd_loss = JSDLoss(\n",
    "    p=dmpe_density_estimate.p / jnp.sum(dmpe_density_estimate.p),\n",
    "    q=exciter.target_distribution / jnp.sum(exciter.target_distribution),\n",
    ")\n",
    "print(\"dmpe jsd loss: \", dmpe_jsd_loss)\n",
    "\n",
    "sgoats_jsd_loss = JSDLoss(\n",
    "    p=sgoats_density_estimate.p / jnp.sum(sgoats_density_estimate.p),\n",
    "    q=exciter.target_distribution / jnp.sum(exciter.target_distribution),\n",
    ")\n",
    "print(\"sgoats jsd loss: \", sgoats_jsd_loss)\n",
    "\n",
    "igoats_jsd_loss = JSDLoss(\n",
    "    p=igoats_density_estimate.p / jnp.sum(igoats_density_estimate.p),\n",
    "    q=exciter.target_distribution / jnp.sum(exciter.target_distribution),\n",
    ")\n",
    "print(\"igoats jsd loss: \", igoats_jsd_loss)"
   ]
  },
  {
   "cell_type": "markdown",
   "id": "ad66683a-b82d-43be-92c5-f36c2f30660d",
   "metadata": {},
   "source": [
    "**MCUDSA:**"
   ]
  },
  {
   "cell_type": "code",
   "execution_count": null,
   "id": "6c30b8e3-8ce4-4a9d-b2c3-441a9ab63d8f",
   "metadata": {},
   "outputs": [],
   "source": [
    "support_points = latin_hypercube_sampling(d=3, n=20**3)\n",
    "\n",
    "dmpe_mcudsa_loss = MC_uniform_sampling_distribution_approximation(\n",
    "    data_points=np.concatenate([dmpe_observations[0:-1, :], dmpe_actions], axis=-1),\n",
    "    support_points=support_points\n",
    ")\n",
    "print(\"dmpe mcudsa loss: \", dmpe_mcudsa_loss)\n",
    "\n",
    "sgoats_mcudsa_loss = MC_uniform_sampling_distribution_approximation(\n",
    "    data_points=np.concatenate([sgoats_observations, sgoats_actions], axis=-1),\n",
    "    support_points=support_points\n",
    ")\n",
    "print(\"sgoats mcudsa loss: \", sgoats_mcudsa_loss)\n",
    "\n",
    "igoats_mcudsa_loss = MC_uniform_sampling_distribution_approximation(\n",
    "    data_points=np.concatenate([igoats_observations[0:-1, :], igoats_actions], axis=-1),\n",
    "    support_points=support_points\n",
    ")\n",
    "print(\"igoats mcudsa loss: \", igoats_mcudsa_loss)"
   ]
  },
  {
   "cell_type": "code",
   "execution_count": null,
   "id": "afce3443-fe0f-4212-a606-2950299d413d",
   "metadata": {},
   "outputs": [],
   "source": [
    "support_points = latin_hypercube_sampling(d=3, n=20**3)\n",
    "\n",
    "dmpe_mcudsa_loss = MC_uniform_sampling_distribution_approximation(\n",
    "    data_points=featurize_theta(np.concatenate([dmpe_observations[0:-1, :], dmpe_actions], axis=-1)),\n",
    "    support_points=featurize_theta(support_points)\n",
    ")\n",
    "print(\"dmpe mcudsa loss: \", dmpe_mcudsa_loss)\n",
    "\n",
    "sgoats_mcudsa_loss = MC_uniform_sampling_distribution_approximation(\n",
    "    data_points=featurize_theta(np.concatenate([sgoats_observations, sgoats_actions], axis=-1)),\n",
    "    support_points=featurize_theta(support_points)\n",
    ")\n",
    "print(\"sgoats mcudsa loss: \", sgoats_mcudsa_loss)\n",
    "\n",
    "igoats_mcudsa_loss = MC_uniform_sampling_distribution_approximation(\n",
    "    data_points=featurize_theta(np.concatenate([igoats_observations[0:-1, :], igoats_actions], axis=-1)),\n",
    "    support_points=featurize_theta(support_points)\n",
    ")\n",
    "print(\"igoats mcudsa loss: \", igoats_mcudsa_loss)"
   ]
  },
  {
   "cell_type": "markdown",
   "id": "3200df7a-54ab-4e0e-8b8d-d3509e5f5656",
   "metadata": {},
   "source": [
    "**AE:**"
   ]
  },
  {
   "cell_type": "code",
   "execution_count": null,
   "id": "dd08be74-df3a-4c75-b957-d8dc28bc0dae",
   "metadata": {},
   "outputs": [],
   "source": [
    "dmpe_ae_loss = audze_eglais(np.concatenate([dmpe_observations[0:-1, :], dmpe_actions], axis=-1))\n",
    "print(\"dmpe ae loss: \", dmpe_ae_loss)\n",
    "\n",
    "sgoats_ae_loss = audze_eglais(np.concatenate([sgoats_observations, sgoats_actions], axis=-1))\n",
    "print(\"sgoats ae loss: \", sgoats_ae_loss)\n",
    "\n",
    "igoats_ae_loss = audze_eglais(np.concatenate([igoats_observations[0:-1, :], igoats_actions], axis=-1))\n",
    "print(\"igoats ae loss: \", igoats_ae_loss)"
   ]
  },
  {
   "cell_type": "code",
   "execution_count": null,
   "id": "1f9e1acf-cf4b-4b5e-904a-7fac61be8c30",
   "metadata": {},
   "outputs": [],
   "source": [
    "dmpe_ae_loss = audze_eglais(featurize_theta(np.concatenate([dmpe_observations[0:-1, :], dmpe_actions], axis=-1)))\n",
    "print(\"dmpe ae loss: \", dmpe_ae_loss)\n",
    "\n",
    "sgoats_ae_loss = audze_eglais(featurize_theta(np.concatenate([sgoats_observations, sgoats_actions], axis=-1)))\n",
    "print(\"sgoats ae loss: \", sgoats_ae_loss)\n",
    "\n",
    "igoats_ae_loss = audze_eglais(featurize_theta(np.concatenate([igoats_observations[0:-1, :], igoats_actions], axis=-1)))\n",
    "print(\"igoats ae loss: \", igoats_ae_loss)"
   ]
  },
  {
   "cell_type": "markdown",
   "id": "71143b46-589a-47ce-a366-2a10279c12a9",
   "metadata": {},
   "source": [
    "## dev compression"
   ]
  },
  {
   "cell_type": "markdown",
   "id": "242b09e4-a3c6-4dcf-85cd-572cc715ceb1",
   "metadata": {},
   "source": [
    "observe:\n",
    "- sign changes in $\\theta$\n",
    "- strong curvature (change in $\\theta$)"
   ]
  },
  {
   "cell_type": "code",
   "execution_count": null,
   "id": "37a823a7-d554-4003-b1b8-5cd4feb0fe98",
   "metadata": {},
   "outputs": [],
   "source": [
    "from exciting_exciting_systems.related_work.excitation_utils import compress_datapoints"
   ]
  },
  {
   "cell_type": "code",
   "execution_count": null,
   "id": "ceddc021-1f6a-4da5-8479-f6fc6569d907",
   "metadata": {
    "scrolled": true
   },
   "outputs": [],
   "source": [
    "N = 1000\n",
    "%lprun -f compress_datapoints compress_datapoints(sgoats_observations[:N], N_c=100, feature_dimension=1)"
   ]
  },
  {
   "cell_type": "code",
   "execution_count": null,
   "id": "bbfa2bd3-0216-4e18-9299-067106f89f1d",
   "metadata": {},
   "outputs": [],
   "source": [
    "%timeit compressed_data, indices = compress_datapoints(sgoats_observations[:N], N_c=100, feature_dimension=1)"
   ]
  },
  {
   "cell_type": "code",
   "execution_count": null,
   "id": "ba243e62-8f40-4884-acf9-64110bceb1ea",
   "metadata": {},
   "outputs": [],
   "source": [
    "compressed_data, indices = compress_datapoints(sgoats_observations[:N], N_c=100, feature_dimension=1)"
   ]
  },
  {
   "cell_type": "code",
   "execution_count": null,
   "id": "4a6803e8-8ab1-45c9-9f37-e39c2ff0bf3f",
   "metadata": {},
   "outputs": [],
   "source": [
    "plt.plot(np.linspace(0, N-1, N), sgoats_observations[:N, 1])\n",
    "plt.plot(np.linspace(0, N-1, N)[indices], compressed_data[..., 1], 'r.')\n",
    "plt.show()"
   ]
  },
  {
   "cell_type": "code",
   "execution_count": null,
   "id": "9a9febbc-3ec9-473c-b0ac-580f90af37df",
   "metadata": {
    "scrolled": true
   },
   "outputs": [],
   "source": [
    "plt.plot(np.linspace(0, N-1, N), sgoats_observations[:N, 0])\n",
    "plt.plot(np.linspace(0, N-1, N)[indices], compressed_data[..., 0], 'r.')"
   ]
  },
  {
   "cell_type": "code",
   "execution_count": null,
   "id": "7c3f8b7c-4291-4325-8d32-16de0a144b9a",
   "metadata": {},
   "outputs": [],
   "source": []
  },
  {
   "cell_type": "code",
   "execution_count": null,
   "id": "a5ad3ff4-4f21-4db9-98d1-b4e409875ba3",
   "metadata": {},
   "outputs": [],
   "source": []
  },
  {
   "cell_type": "markdown",
   "id": "37d50e5e-bcbc-43cd-9b48-6e7d49b812ec",
   "metadata": {},
   "source": [
    "#### KDE for feature space:"
   ]
  },
  {
   "cell_type": "code",
   "execution_count": null,
   "id": "a97f89d8-0189-4f21-b60f-d6818a5728f6",
   "metadata": {},
   "outputs": [],
   "source": [
    "points_per_dim = 50\n",
    "n_grid_points=points_per_dim**3\n",
    "density_estimate = DensityEstimate(\n",
    "    p=jnp.zeros([n_grid_points, 1]),\n",
    "    x_g=exciting_exciting_systems.utils.density_estimation.build_grid_3d(\n",
    "        low=-1,\n",
    "        high=1,\n",
    "        points_per_dim=points_per_dim\n",
    "    ),\n",
    "    bandwidth=jnp.array([bandwidth]),\n",
    "    n_observations=jnp.array([0])\n",
    ")\n",
    "\n",
    "\n",
    "dmpe_density_estimate = update_density_estimate_multiple_observations(\n",
    "    density_estimate, featurize_theta(dmpe_observations),\n",
    ")\n",
    "\n",
    "sgoats_density_estimate = update_density_estimate_multiple_observations(\n",
    "    density_estimate, featurize_theta(sgoats_observations),\n",
    ")\n",
    "\n",
    "igoats_density_estimate = update_density_estimate_multiple_observations(\n",
    "    density_estimate, featurize_theta(igoats_observations),\n",
    ")"
   ]
  },
  {
   "cell_type": "code",
   "execution_count": null,
   "id": "d95b71f5-60b4-4c5f-9bfe-9ed934ffdd5f",
   "metadata": {
    "scrolled": true
   },
   "outputs": [],
   "source": [
    "x_plot = dmpe_density_estimate.x_g.reshape((points_per_dim, points_per_dim, points_per_dim, 3))\n",
    "ims = []\n",
    "for i in range(points_per_dim):\n",
    "    fig, axs = plt.subplots(1, 2, figsize=(12, 6))\n",
    "    axs[0].contourf(\n",
    "        dmpe_density_estimate.p.reshape((points_per_dim, points_per_dim, points_per_dim))[:, :, i],\n",
    "        antialiased=False,\n",
    "        levels=100,\n",
    "        alpha=0.9,\n",
    "        cmap=plt.cm.coolwarm\n",
    "    )\n",
    "    axs[1].contourf(\n",
    "        sgoats_density_estimate.p.reshape((points_per_dim, points_per_dim, points_per_dim))[:, :, i],\n",
    "        antialiased=False,\n",
    "        levels=100,\n",
    "        alpha=0.9,\n",
    "        cmap=plt.cm.coolwarm\n",
    "    )\n",
    "\n",
    "    axs[0].title.set_text(\"dmpe: omega = \" + str(jnp.linspace(-1, 1, points_per_dim)[i]))\n",
    "    axs[1].title.set_text(\"sgoats: omega = \" + str(jnp.linspace(-1, 1, points_per_dim)[i]))\n",
    "    plt.show()"
   ]
  },
  {
   "cell_type": "code",
   "execution_count": null,
   "id": "c500eb7c-1c67-4fcf-856c-b9d574f36d61",
   "metadata": {},
   "outputs": [],
   "source": []
  }
 ],
 "metadata": {
  "kernelspec": {
   "display_name": "Python 3 (ipykernel)",
   "language": "python",
   "name": "python3"
  },
  "language_info": {
   "codemirror_mode": {
    "name": "ipython",
    "version": 3
   },
   "file_extension": ".py",
   "mimetype": "text/x-python",
   "name": "python",
   "nbconvert_exporter": "python",
   "pygments_lexer": "ipython3",
   "version": "3.11.9"
  }
 },
 "nbformat": 4,
 "nbformat_minor": 5
}
