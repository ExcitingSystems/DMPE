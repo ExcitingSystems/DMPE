{
 "cells": [
  {
   "cell_type": "code",
   "execution_count": null,
   "id": "6a01cf51-7d23-431f-a3c3-5b8890315b01",
   "metadata": {},
   "outputs": [],
   "source": [
    "%load_ext autoreload\n",
    "%autoreload 2\n",
    "%reload_ext line_profiler"
   ]
  },
  {
   "cell_type": "code",
   "execution_count": null,
   "id": "24767f07-9e7a-4cd8-ac44-682cee18185d",
   "metadata": {},
   "outputs": [],
   "source": [
    "import time\n",
    "import matplotlib.pyplot as plt\n",
    "import numpy as np"
   ]
  },
  {
   "cell_type": "code",
   "execution_count": null,
   "id": "a2cbff3e-21a6-4044-af37-159dbf48f6b9",
   "metadata": {},
   "outputs": [],
   "source": [
    "import jax\n",
    "import jax.numpy as jnp\n",
    "jax.config.update('jax_platform_name', 'gpu')\n",
    "\n",
    "import diffrax\n",
    "import equinox as eqx\n",
    "import optax\n",
    "\n",
    "from haiku import PRNGSequence"
   ]
  },
  {
   "cell_type": "code",
   "execution_count": null,
   "id": "ae471ee6-f12b-46cb-91ed-054d06995d28",
   "metadata": {},
   "outputs": [],
   "source": [
    "import exciting_exciting_systems\n",
    "\n",
    "from exciting_exciting_systems.utils.signals import aprbs\n",
    "from exciting_exciting_systems.evaluation.plotting_utils import plot_sequence\n",
    "\n",
    "from exciting_exciting_systems.models.model_utils import simulate_ahead_with_env"
   ]
  },
  {
   "cell_type": "code",
   "execution_count": null,
   "id": "f5bab41e-6e7c-4838-bcb5-bee8eb37dc13",
   "metadata": {},
   "outputs": [],
   "source": [
    "# setup PRNG\n",
    "key = jax.random.PRNGKey(seed=9)\n",
    "\n",
    "data_key, model_key, loader_key, key = jax.random.split(key, 4)\n",
    "data_rng = PRNGSequence(data_key)"
   ]
  },
  {
   "cell_type": "markdown",
   "id": "00ec7eef-e27d-4097-bd3f-24219a3d947f",
   "metadata": {},
   "source": [
    "# Usage Presentation"
   ]
  },
  {
   "cell_type": "markdown",
   "id": "0460ccfa-2cc8-4861-8764-4b9562d8e13b",
   "metadata": {},
   "source": [
    "## Exciting Environments:\n",
    "\n",
    "- [Available on github](https://github.com/ExcitingSystems/exciting-environments)\n",
    "- Uses [jax](https://github.com/google/jax) to provide simulators for physical systems that are ...\n",
    "  - ... differentiable\n",
    "  - ... vectorizable\n",
    "  - ... just-in-time compilable"
   ]
  },
  {
   "cell_type": "code",
   "execution_count": null,
   "id": "41b990d9-83be-4543-95a3-1623705aa068",
   "metadata": {},
   "outputs": [],
   "source": [
    "import exciting_environments as excenvs"
   ]
  },
  {
   "cell_type": "code",
   "execution_count": null,
   "id": "42c6540e-4abc-41fa-8a6f-125256465e5a",
   "metadata": {},
   "outputs": [],
   "source": [
    "batch_size = 10\n",
    "tau = 2e-2\n",
    "\n",
    "env = excenvs.make(\n",
    "    env_id='Pendulum-v0',\n",
    "    batch_size=batch_size,\n",
    "    action_constraints={\"torque\": 8},\n",
    "    static_params={\"g\": 9.81, \"l\": 1, \"m\": 1},\n",
    "    solver=diffrax.Tsit5(),\n",
    "    tau=tau,\n",
    ")"
   ]
  },
  {
   "cell_type": "code",
   "execution_count": null,
   "id": "203c1ab8-7463-4558-8c82-d1d3d57ff19d",
   "metadata": {},
   "outputs": [],
   "source": [
    "obs, state = env.reset()\n",
    "n_steps = 999\n",
    "\n",
    "actions = aprbs(n_steps, batch_size, 5, 10, next(data_rng))"
   ]
  },
  {
   "cell_type": "code",
   "execution_count": null,
   "id": "d64a8ea2-730a-41eb-8c62-6c64559b7b49",
   "metadata": {},
   "outputs": [],
   "source": [
    "observations, _, _, _ = env.vmap_sim_ahead(\n",
    "    state, actions[..., 0] * env.env_properties.action_constraints.torque, env.tau, env.tau\n",
    ")\n",
    "\n",
    "print(\"actions.shape:\", actions.shape)\n",
    "print(\"observations.shape:\", observations.shape)\n",
    "\n",
    "print(\" \\n One of the trajectories:\")\n",
    "fig, axs = plot_sequence(\n",
    "    observations=observations[0, ...],\n",
    "    actions=actions[0, ...],\n",
    "    tau=tau,\n",
    "    obs_labels=[r\"$\\theta$\", r\"$\\omega$\"],\n",
    "    action_labels=[r\"$u$\"],\n",
    ");\n",
    "plt.show()"
   ]
  },
  {
   "cell_type": "markdown",
   "id": "995b35b3-a0a3-45d2-8d9d-a9a4f7e89618",
   "metadata": {},
   "source": [
    "#### Speed:"
   ]
  },
  {
   "cell_type": "code",
   "execution_count": null,
   "id": "16c91dd8-3488-481a-abd3-c380a3c0848c",
   "metadata": {},
   "outputs": [],
   "source": [
    "batch_size = 1\n",
    "tau = 2e-2\n",
    "\n",
    "env = excenvs.make(\n",
    "    env_id='Pendulum-v0',\n",
    "    batch_size=batch_size,\n",
    "    action_constraints={\"torque\": 8},\n",
    "    static_params={\"g\": 9.81, \"l\": 1, \"m\": 1},\n",
    "    solver=diffrax.Euler(),\n",
    "    tau=tau,\n",
    ")\n",
    "\n",
    "obs, state = env.reset()\n",
    "obs = obs[0]\n",
    "\n",
    "n_steps = 999"
   ]
  },
  {
   "cell_type": "code",
   "execution_count": null,
   "id": "ad739d8f-d7f2-4e73-a4e4-735ef732cdda",
   "metadata": {},
   "outputs": [],
   "source": [
    "for _ in range(10):\n",
    "    actions = aprbs(n_steps, batch_size, 5, 10, next(data_rng))[0]\n",
    "\n",
    "    start = time.time()\n",
    "    observations = simulate_ahead_with_env(env, obs, state, actions)\n",
    "    end = time.time()\n",
    "    print(end - start)"
   ]
  },
  {
   "cell_type": "code",
   "execution_count": null,
   "id": "ec989e4b-5ce1-49e5-8393-d99b076d5fc1",
   "metadata": {},
   "outputs": [],
   "source": [
    "from exciting_exciting_systems.related_work.np_reimpl.pendulum import Pendulum\n",
    "from exciting_exciting_systems.related_work.np_reimpl.env_utils import simulate_ahead_with_env as np_simulate_ahead_with_env"
   ]
  },
  {
   "cell_type": "code",
   "execution_count": null,
   "id": "24c8f4d8-5f35-473d-b88b-1ba4f35dbf38",
   "metadata": {},
   "outputs": [],
   "source": [
    "batch_size = 1\n",
    "tau = 2e-2\n",
    "\n",
    "np_env = Pendulum(\n",
    "    batch_size=batch_size,\n",
    "    tau=tau,\n",
    "    max_torque=8\n",
    ")\n",
    "\n",
    "actions = np.array(actions)\n",
    "\n",
    "obs, env_state = np_env.reset()\n",
    "obs = obs.astype(np.float32)\n",
    "env_state = env_state.astype(np.float32)"
   ]
  },
  {
   "cell_type": "code",
   "execution_count": null,
   "id": "3f92de56-0383-4d40-9bbd-1bda8aaee58f",
   "metadata": {},
   "outputs": [],
   "source": [
    "for _ in range(10):\n",
    "    actions = np.array(aprbs(n_steps, batch_size, 5, 10, next(data_rng)))\n",
    "    \n",
    "    start = time.time()\n",
    "    observations, _ = np_simulate_ahead_with_env(\n",
    "        np_env,\n",
    "        obs,\n",
    "        env_state,\n",
    "        actions,\n",
    "    )\n",
    "    end = time.time()\n",
    "    print(end - start)"
   ]
  },
  {
   "cell_type": "markdown",
   "id": "62aab8c6-700a-41d0-acba-a9f94346586f",
   "metadata": {},
   "source": [
    "#### Automatic Differentation:"
   ]
  },
  {
   "cell_type": "code",
   "execution_count": null,
   "id": "a9fac381-a9ca-481e-b983-ef91a1afd3cb",
   "metadata": {},
   "outputs": [],
   "source": [
    "batch_size = 20\n",
    "tau = 2e-2\n",
    "\n",
    "env = excenvs.make(\n",
    "    env_id='Pendulum-v0',\n",
    "    batch_size=batch_size,\n",
    "    action_constraints={\"torque\": 8},\n",
    "    static_params={\"g\": 9.81, \"l\": 1, \"m\": 1},\n",
    "    solver=diffrax.Euler(),\n",
    "    tau=tau,\n",
    ")\n",
    "\n",
    "obs, state = env.reset()\n",
    "n_steps = 999\n",
    "\n",
    "actions = aprbs(n_steps, batch_size, 5, 10, next(data_rng))"
   ]
  },
  {
   "cell_type": "code",
   "execution_count": null,
   "id": "f36d8110-b071-4ff9-8cae-4fa17d481c1c",
   "metadata": {},
   "outputs": [],
   "source": [
    "def loss_function(\n",
    "    target_observations, actions, env, obs, state\n",
    "):\n",
    "    observations = jax.vmap(simulate_ahead_with_env, in_axes=(None, 0, 0, 0))(\n",
    "        env, obs, state, actions\n",
    "    )\n",
    "    return jnp.mean((observations - target_observations)**2)"
   ]
  },
  {
   "cell_type": "code",
   "execution_count": null,
   "id": "cd0a61cb-9c25-4449-8dc9-50c8c7944a31",
   "metadata": {},
   "outputs": [],
   "source": [
    "grad_function = jax.grad(loss_function, argnums=[1])"
   ]
  },
  {
   "cell_type": "code",
   "execution_count": null,
   "id": "a8ea01bb-a76c-4e80-8d61-43fb12894095",
   "metadata": {},
   "outputs": [],
   "source": [
    "grads = grad_function(\n",
    "    jnp.ones((20, 1000, 2)) * 0.5,\n",
    "    actions,\n",
    "    env=env,\n",
    "    obs=obs,\n",
    "    state=state\n",
    ")[0]\n",
    "print(\"actions.shape\", actions.shape)\n",
    "\n",
    "print(\"grads.shape\", grads.shape)"
   ]
  },
  {
   "cell_type": "markdown",
   "id": "0a34b1c0-04d0-485a-a32c-bb635ec3030d",
   "metadata": {},
   "source": [
    "## Differentiable Model Predictive Excitation (DMPE):"
   ]
  },
  {
   "cell_type": "markdown",
   "id": "ce440ed5-c7e9-4d2b-9260-4c4dffd4fd20",
   "metadata": {},
   "source": [
    "- excite systems by simultaneous identification and input optimization"
   ]
  },
  {
   "cell_type": "code",
   "execution_count": null,
   "id": "b111c8bb-9235-4346-a152-369aefbdf44d",
   "metadata": {},
   "outputs": [],
   "source": [
    "batch_size = 1\n",
    "tau = 2e-2\n",
    "\n",
    "env = excenvs.make(\n",
    "    env_id='Pendulum-v0',\n",
    "    batch_size=batch_size,\n",
    "    action_constraints={\"torque\": 8},\n",
    "    static_params={\"g\": 9.81, \"l\": 1, \"m\": 1},\n",
    "    solver=diffrax.Tsit5(),\n",
    "    tau=tau,\n",
    ")"
   ]
  },
  {
   "cell_type": "code",
   "execution_count": null,
   "id": "4dab064a-d2e0-4e6a-948b-6c25e3e2fac8",
   "metadata": {},
   "outputs": [],
   "source": [
    "def featurize_theta(obs):\n",
    "    \"\"\"The angle itself is difficult to properly interpret in the loss as angles\n",
    "    such as 1.99 * pi and 0 are essentially the same. Therefore the angle is \n",
    "    transformed to sin(phi) and cos(phi) for comparison in the loss.\"\"\"\n",
    "    feat_obs = jnp.stack([jnp.sin(obs[..., 0] * jnp.pi), jnp.cos(obs[..., 0] * jnp.pi), obs[..., 1]], axis=-1)\n",
    "    return feat_obs"
   ]
  },
  {
   "cell_type": "code",
   "execution_count": null,
   "id": "205ef9ad-be2a-4eeb-b37a-9d2ec1385d17",
   "metadata": {},
   "outputs": [],
   "source": [
    "bandwidth = 0.05\n",
    "n_prediction_steps = 50\n",
    "\n",
    "dim_obs_space = 2\n",
    "dim_action_space = 1\n",
    "\n",
    "dim = dim_obs_space + dim_action_space\n",
    "points_per_dim = 50\n",
    "n_grid_points=points_per_dim**dim\n",
    "\n",
    "n_timesteps = 15_000"
   ]
  },
  {
   "cell_type": "code",
   "execution_count": null,
   "id": "f6fd15f4-5f57-49a6-b09d-fa88d632dd47",
   "metadata": {},
   "outputs": [],
   "source": [
    "obs, state = env.reset()\n",
    "obs = obs[0]\n",
    "\n",
    "observations = jnp.zeros((n_timesteps, dim_obs_space))\n",
    "observations = observations.at[0].set(obs)\n",
    "actions = jnp.zeros((n_timesteps-1, dim_action_space))\n",
    "\n",
    "proposed_actions = aprbs(n_prediction_steps, batch_size, 1, 10, next(data_rng))[0]"
   ]
  },
  {
   "cell_type": "code",
   "execution_count": null,
   "id": "1fe3c803-6ea4-4faf-a0b3-85f3083ac682",
   "metadata": {},
   "outputs": [],
   "source": [
    "from exciting_exciting_systems.models.model_training import ModelTrainer\n",
    "from exciting_exciting_systems.excitation import loss_function, Exciter\n",
    "from exciting_exciting_systems.models import NeuralEulerODEPendulum\n",
    "from exciting_exciting_systems.utils.density_estimation import (\n",
    "    DensityEstimate, build_grid_2d\n",
    ")"
   ]
  },
  {
   "cell_type": "code",
   "execution_count": null,
   "id": "4e7fe4ee-80ca-49e7-97d5-12e034d73e32",
   "metadata": {},
   "outputs": [],
   "source": [
    "exciter = Exciter(\n",
    "    grad_loss_function=jax.grad(loss_function, argnums=(3)),\n",
    "    excitation_optimizer=optax.adabelief(1e-1),\n",
    "    tau=tau,\n",
    "    target_distribution=jnp.ones(shape=(n_grid_points, 1)) * 1 / (1 - (-1))**dim\n",
    ")\n",
    "\n",
    "model_trainer = ModelTrainer(\n",
    "    start_learning=n_prediction_steps,\n",
    "    training_batch_size=128,\n",
    "    n_train_steps=1,\n",
    "    sequence_length=n_prediction_steps,\n",
    "    featurize=featurize_theta,\n",
    "    model_optimizer=optax.adabelief(1e-4),\n",
    "    tau=tau\n",
    ")\n",
    "\n",
    "density_estimate = DensityEstimate(\n",
    "    p=jnp.zeros([n_grid_points, 1]),\n",
    "    x_g=exciting_exciting_systems.utils.density_estimation.build_grid_3d(\n",
    "        low=-1,\n",
    "        high=1,\n",
    "        points_per_dim=points_per_dim\n",
    "    ),\n",
    "    bandwidth=jnp.array([bandwidth]),\n",
    "    n_observations=jnp.array([0])\n",
    ")\n",
    "\n",
    "\n",
    "model = NeuralEulerODEPendulum(\n",
    "    obs_dim=dim_obs_space,\n",
    "    action_dim=dim_action_space,\n",
    "    width_size=128,\n",
    "    depth=3,\n",
    "    key=model_key\n",
    ")\n",
    "opt_state_model = model_trainer.model_optimizer.init(eqx.filter(model, eqx.is_inexact_array))"
   ]
  },
  {
   "cell_type": "code",
   "execution_count": null,
   "id": "44309499-ac9a-4a53-8bb3-a6a8e9a829d5",
   "metadata": {},
   "outputs": [],
   "source": [
    "from exciting_exciting_systems.algorithms import excite_and_fit"
   ]
  },
  {
   "cell_type": "code",
   "execution_count": null,
   "id": "6f3b6913-b5e5-4330-bb22-6384f2c74d93",
   "metadata": {},
   "outputs": [],
   "source": [
    "dmpe_observations, dmpe_actions, model, density_estimate = excite_and_fit(\n",
    "    n_timesteps=n_timesteps,\n",
    "    env=env,\n",
    "    model=model,\n",
    "    obs=obs,\n",
    "    state=state,\n",
    "    proposed_actions=proposed_actions,\n",
    "    exciter=exciter,\n",
    "    model_trainer=model_trainer,\n",
    "    density_estimate=density_estimate,\n",
    "    observations=observations,\n",
    "    actions=actions,\n",
    "    opt_state_model=opt_state_model,\n",
    "    loader_key=loader_key,\n",
    "    plot_every=2500,\n",
    ")"
   ]
  },
  {
   "cell_type": "code",
   "execution_count": null,
   "id": "66636f23-6df0-4e25-be88-bb6e8cfb0dbc",
   "metadata": {},
   "outputs": [],
   "source": [
    "fig, axs = plot_sequence(\n",
    "    dmpe_observations,\n",
    "    dmpe_actions,\n",
    "    tau=tau,\n",
    "    obs_labels=[r\"$\\theta$\", r\"$\\omega$\"],\n",
    "    action_labels=[r\"$u$\"],\n",
    ");\n",
    "plt.plot()"
   ]
  },
  {
   "cell_type": "markdown",
   "id": "99056e8e-51c2-410c-8521-8c944d4ee215",
   "metadata": {},
   "source": [
    "## sGOATs reimplementation:"
   ]
  },
  {
   "cell_type": "code",
   "execution_count": null,
   "id": "de6cfcb5-32e9-4111-9763-e55e4565bcb1",
   "metadata": {},
   "outputs": [],
   "source": [
    "from exciting_exciting_systems.related_work.np_reimpl.pendulum import Pendulum\n",
    "from exciting_exciting_systems.related_work.algorithms import excite_with_sGOATs"
   ]
  },
  {
   "cell_type": "code",
   "execution_count": null,
   "id": "b86bcd5f-ecfc-4655-be6b-07075ff61a8a",
   "metadata": {},
   "outputs": [],
   "source": [
    "def featurize_theta(obs_action):\n",
    "    \"\"\"The angle itself is difficult to properly interpret in the loss as angles\n",
    "    such as 1.99 * pi and 0 are essentially the same. Therefore the angle is \n",
    "    transformed to sin(phi) and cos(phi) for comparison in the loss.\"\"\"\n",
    "\n",
    "    feat_obs_action = np.stack([np.sin(obs_action[..., 0] * np.pi), np.cos(obs_action[..., 0] * np.pi)], axis=-1)\n",
    "    feat_obs_action = np.concatenate([feat_obs_action, obs_action[..., 1:]], axis=-1)\n",
    "    \n",
    "    return feat_obs_action"
   ]
  },
  {
   "cell_type": "code",
   "execution_count": null,
   "id": "c1b6b0f1-d657-4557-9d25-5b16601ecccd",
   "metadata": {},
   "outputs": [],
   "source": [
    "env = Pendulum(\n",
    "    batch_size=batch_size,\n",
    "    tau=tau,\n",
    "    max_torque=8\n",
    ")"
   ]
  },
  {
   "cell_type": "code",
   "execution_count": null,
   "id": "4f2e59e5-eeee-4ca7-a392-08bd44485585",
   "metadata": {
    "scrolled": true
   },
   "outputs": [],
   "source": [
    "# optimization routine, commented out because time-intensive computation\n",
    "\n",
    "# all_observations = []\n",
    "# all_actions = []\n",
    "\n",
    "# all_observations, all_actions = excite_with_sGOATs(\n",
    "#     n_amplitudes=600,\n",
    "#     n_amplitude_groups=6,\n",
    "#     reuse_observations=True,\n",
    "#     all_observations=all_observations,\n",
    "#     all_actions=all_actions,\n",
    "#     env=env,\n",
    "#     bounds_duration=(1,50),\n",
    "#     population_size=20,\n",
    "#     n_generations=50,\n",
    "#     n_support_points=1600,\n",
    "#     featurize=featurize_theta,\n",
    "#     seed=0,\n",
    "#     verbose=True\n",
    "# )\n",
    "\n",
    "# sgoats_observations = np.concatenate(all_observations)\n",
    "# sgoats_actions = np.concatenate(all_actions)\n",
    "\n",
    "sgoats_observations = np.load(\"results/obs_sGOATs.npy\")\n",
    "sgoats_actions = np.load(\"results/act_sGOATs.npy\")"
   ]
  },
  {
   "cell_type": "code",
   "execution_count": null,
   "id": "7e991d74-ece1-4711-b687-ac3708e07a6b",
   "metadata": {},
   "outputs": [],
   "source": [
    "print(\"sgoats actions.shape:\", sgoats_actions.shape)\n",
    "print(\"sgoats observations.shape:\", sgoats_observations.shape)\n",
    "\n",
    "fig, axs = plot_sequence(\n",
    "    observations=sgoats_observations,\n",
    "    actions=sgoats_actions[:-1, ...],\n",
    "    tau=tau,\n",
    "    obs_labels=[r\"$\\theta$\", r\"$\\omega$\"],\n",
    "    action_labels=[r\"$u$\"],\n",
    ");\n",
    "plt.show()"
   ]
  },
  {
   "cell_type": "markdown",
   "id": "3c7215d2-3aa6-4d5e-8c6a-8628101e6beb",
   "metadata": {},
   "source": [
    "## Comparison:"
   ]
  },
  {
   "cell_type": "markdown",
   "id": "7910be9b-ed29-4cce-916d-89ca06df13a2",
   "metadata": {},
   "source": [
    "#### Qualitative:\n",
    "\n",
    "- Note that sGOATs uses **explicit Euler**, while DMPE uses **Tsit5** as ODE solver in the simulation\n",
    "- both algorithms consider $\\mathbf{u}_k$ and $\\mathbf{y}_k$, first only look at observation distribution"
   ]
  },
  {
   "cell_type": "code",
   "execution_count": null,
   "id": "6d18bdfb-faac-4a10-b300-29c1a923cfca",
   "metadata": {},
   "outputs": [],
   "source": [
    "fig, ax = plt.subplots(1, 2, figsize=(12,6), sharey=True)\n",
    "for (idx, observations), name in zip(enumerate([dmpe_observations, sgoats_observations]), [\"dmpe\", \"sgoats\"]):\n",
    "    ax[idx].scatter(observations[..., 0], observations[..., 1], s=1)\n",
    "    ax[idx].grid()\n",
    "    ax[idx].title.set_text(name + \" observations, timeseries\")\n",
    "\n",
    "fig.tight_layout()\n",
    "plt.show()"
   ]
  },
  {
   "cell_type": "code",
   "execution_count": null,
   "id": "68302f51-f833-4c26-b14c-fec1c5f118d1",
   "metadata": {},
   "outputs": [],
   "source": [
    "from exciting_exciting_systems.utils.density_estimation import update_density_estimate_multiple_observations"
   ]
  },
  {
   "cell_type": "code",
   "execution_count": null,
   "id": "7e9edf61",
   "metadata": {},
   "outputs": [],
   "source": [
    "density_estimate = DensityEstimate(\n",
    "    p=jnp.zeros([points_per_dim**2, 1]),\n",
    "    x_g=build_grid_2d(low=-1, high=1, points_per_dim=points_per_dim),\n",
    "    bandwidth=jnp.array([bandwidth]),\n",
    "    n_observations=jnp.array([0])\n",
    ")\n",
    "\n",
    "dmpe_density_estimate = update_density_estimate_multiple_observations(\n",
    "    density_estimate, dmpe_observations,\n",
    ")\n",
    "\n",
    "sgoats_density_estimate = update_density_estimate_multiple_observations(\n",
    "    density_estimate, sgoats_observations,\n",
    ")"
   ]
  },
  {
   "cell_type": "code",
   "execution_count": null,
   "id": "4e160118-6eba-4569-87fd-ca091b6b879a",
   "metadata": {},
   "outputs": [],
   "source": [
    "fig, axs, cax = exciting_exciting_systems.evaluation.plotting_utils.plot_2d_kde_as_contourf(\n",
    "    dmpe_density_estimate.p, dmpe_density_estimate.x_g, [r\"$\\theta$\", r\"$\\omega$\"]\n",
    ")\n",
    "plt.show()\n",
    "\n",
    "fig, axs, cax = exciting_exciting_systems.evaluation.plotting_utils.plot_2d_kde_as_contourf(\n",
    "    sgoats_density_estimate.p, sgoats_density_estimate.x_g, [r\"$\\theta$\", r\"$\\omega$\"]\n",
    ")"
   ]
  },
  {
   "cell_type": "markdown",
   "id": "8fe350d3-50c6-4cde-8c96-12321e757e14",
   "metadata": {},
   "source": [
    "- joint distributions $\\mathbf{u}_k$ and $\\mathbf{y}_k$"
   ]
  },
  {
   "cell_type": "code",
   "execution_count": null,
   "id": "a35854d1-261b-4590-b358-ada2180d914c",
   "metadata": {},
   "outputs": [],
   "source": [
    "points_per_dim = 50\n",
    "n_grid_points=points_per_dim**3\n",
    "density_estimate = DensityEstimate(\n",
    "    p=jnp.zeros([n_grid_points, 1]),\n",
    "    x_g=exciting_exciting_systems.utils.density_estimation.build_grid_3d(\n",
    "        low=-1,\n",
    "        high=1,\n",
    "        points_per_dim=points_per_dim\n",
    "    ),\n",
    "    bandwidth=jnp.array([bandwidth]),\n",
    "    n_observations=jnp.array([0])\n",
    ")\n",
    "\n",
    "\n",
    "dmpe_density_estimate = update_density_estimate_multiple_observations(\n",
    "    density_estimate, jnp.concatenate([dmpe_observations[0:-1, :], dmpe_actions], axis=-1),\n",
    ")\n",
    "\n",
    "sgoats_density_estimate = update_density_estimate_multiple_observations(\n",
    "    density_estimate, jnp.concatenate([sgoats_observations, sgoats_actions], axis=-1),\n",
    ")"
   ]
  },
  {
   "cell_type": "code",
   "execution_count": null,
   "id": "0765c567-9d11-4ea0-b716-ee127d4c37b3",
   "metadata": {
    "scrolled": true
   },
   "outputs": [],
   "source": [
    "x_plot = dmpe_density_estimate.x_g.reshape((points_per_dim, points_per_dim, points_per_dim, 3))\n",
    "ims = []\n",
    "for i in range(points_per_dim):\n",
    "    fig, axs = plt.subplots(1, 2, figsize=(12, 6))\n",
    "    axs[0].contourf(\n",
    "        dmpe_density_estimate.p.reshape((points_per_dim, points_per_dim, points_per_dim))[:, :, i],\n",
    "        antialiased=False,\n",
    "        levels=100,\n",
    "        alpha=0.9,\n",
    "        cmap=plt.cm.coolwarm\n",
    "    )\n",
    "    axs[1].contourf(\n",
    "        sgoats_density_estimate.p.reshape((points_per_dim, points_per_dim, points_per_dim))[:, :, i],\n",
    "        antialiased=False,\n",
    "        levels=100,\n",
    "        alpha=0.9,\n",
    "        cmap=plt.cm.coolwarm\n",
    "    )\n",
    "\n",
    "    axs[0].title.set_text(\"dmpe: u_k = \" + str(jnp.linspace(-1, 1, points_per_dim)[i]))\n",
    "    axs[1].title.set_text(\"goats: u_k = \" + str(jnp.linspace(-1, 1, points_per_dim)[i]))\n",
    "    plt.show()"
   ]
  },
  {
   "cell_type": "markdown",
   "id": "86468c15-d034-468b-8d44-6b46af3c8566",
   "metadata": {},
   "source": [
    "#### Quantitative:\n",
    "\n",
    "- metrics used for comparison:\n",
    "  - Jensen Shannon divergence (JSD) **<- optimization metric for dmpe optimization**\n",
    "  - MC unifrom sampling distribution approximation (MCUDSA) **<- optimization metric for sGOATs**\n",
    "  - Audze-Eglais (AE)\n",
    "- metric used for iGOATs optimization:\n",
    "  - Maximum nearest neighbor sequence (MNNS) (without penalty, only for MISO systems?)"
   ]
  },
  {
   "cell_type": "code",
   "execution_count": null,
   "id": "0e522cd1-7dd9-49f7-ab3a-c423cd516c59",
   "metadata": {},
   "outputs": [],
   "source": [
    "import exciting_exciting_systems"
   ]
  },
  {
   "cell_type": "code",
   "execution_count": null,
   "id": "b31ce266-cb70-4f60-a3b8-d91eba3d984f",
   "metadata": {},
   "outputs": [],
   "source": [
    "from exciting_exciting_systems.utils.metrics import JSDLoss\n",
    "from exciting_exciting_systems.related_work.np_reimpl.metrics import (\n",
    "    MC_uniform_sampling_distribution_approximation, audze_eglais\n",
    ")\n",
    "from exciting_exciting_systems.related_work.excitation_utils import latin_hypercube_sampling"
   ]
  },
  {
   "cell_type": "markdown",
   "id": "cdef005d-4207-44dd-b49c-a240e0ce8694",
   "metadata": {},
   "source": [
    "**JSD:**"
   ]
  },
  {
   "cell_type": "code",
   "execution_count": null,
   "id": "257e9228-59d8-4ec6-ae16-f5f869acda32",
   "metadata": {},
   "outputs": [],
   "source": [
    "dmpe_jsd_loss = JSDLoss(\n",
    "    p=dmpe_density_estimate.p / jnp.sum(dmpe_density_estimate.p),\n",
    "    q=exciter.target_distribution / jnp.sum(exciter.target_distribution),\n",
    ")\n",
    "print(\"dmpe jsd loss: \", dmpe_jsd_loss)\n",
    "\n",
    "sgoats_jsd_loss = JSDLoss(\n",
    "    p=sgoats_density_estimate.p / jnp.sum(sgoats_density_estimate.p),\n",
    "    q=exciter.target_distribution / jnp.sum(exciter.target_distribution),\n",
    ")\n",
    "print(\"sgoats jsd loss: \", sgoats_jsd_loss)"
   ]
  },
  {
   "cell_type": "markdown",
   "id": "ad66683a-b82d-43be-92c5-f36c2f30660d",
   "metadata": {},
   "source": [
    "**MCUDSA:**"
   ]
  },
  {
   "cell_type": "code",
   "execution_count": null,
   "id": "6c30b8e3-8ce4-4a9d-b2c3-441a9ab63d8f",
   "metadata": {},
   "outputs": [],
   "source": [
    "support_points = latin_hypercube_sampling(d=3, n=20**3)\n",
    "\n",
    "dmpe_mcudsa_loss = MC_uniform_sampling_distribution_approximation(\n",
    "    data_points=np.concatenate([dmpe_observations[0:-1, :], dmpe_actions], axis=-1),\n",
    "    support_points=support_points\n",
    ")\n",
    "print(\"dmpe mcudsa loss: \", dmpe_mcudsa_loss)\n",
    "\n",
    "sgoats_mcudsa_loss = MC_uniform_sampling_distribution_approximation(\n",
    "    data_points=np.concatenate([sgoats_observations, sgoats_actions], axis=-1),\n",
    "    support_points=support_points\n",
    ")\n",
    "print(\"sgoats mcudsa loss: \", sgoats_mcudsa_loss)"
   ]
  },
  {
   "cell_type": "markdown",
   "id": "3200df7a-54ab-4e0e-8b8d-d3509e5f5656",
   "metadata": {},
   "source": [
    "**AE:**"
   ]
  },
  {
   "cell_type": "code",
   "execution_count": null,
   "id": "dd08be74-df3a-4c75-b957-d8dc28bc0dae",
   "metadata": {},
   "outputs": [],
   "source": [
    "dmpe_ae_loss = audze_eglais(np.concatenate([dmpe_observations[0:-1, :], dmpe_actions], axis=-1))\n",
    "print(\"dmpe ae loss: \", dmpe_ae_loss)\n",
    "\n",
    "sgoats_ae_loss = audze_eglais(np.concatenate([sgoats_observations, sgoats_actions], axis=-1))\n",
    "print(\"sgoats ae loss: \", sgoats_ae_loss)"
   ]
  },
  {
   "cell_type": "markdown",
   "id": "d7c39537-0823-4f7b-970f-edc714e8b9c2",
   "metadata": {},
   "source": [
    "# Questions:"
   ]
  },
  {
   "cell_type": "markdown",
   "id": "fc5c4b5e-7289-4210-92d9-d5147fd20a80",
   "metadata": {},
   "source": [
    "- how fast are your GOATs implementations roughly? How long did the optimization take and why is that so important?\n",
    "  - i.e. could the optimization not just run through the night?\n",
    "- Is your code fully MATLAB? Are you using the \"standard\" GA or did you implement one yourself?\n",
    "- What about the compression? Why is it actually necessary?\n",
    "- Why is Audze-Eglais not used in the Evaluation?\n",
    "- I found that if the bounds of the input space are large I get stability issues with GOATs and sGOATs. Did you observe something similar?\n",
    "- I did not really understand the penalty term in the MNNS loss function for iGOATs. Can you explain your idea?"
   ]
  },
  {
   "cell_type": "markdown",
   "id": "8bb5ecd5-d67c-49f0-9d70-39814e7d243a",
   "metadata": {},
   "source": [
    "# Feedback:"
   ]
  },
  {
   "cell_type": "markdown",
   "id": "1a822c7c-bce1-45bd-abd4-cc5adf3ae8d3",
   "metadata": {},
   "source": [
    "What do you think about my approach?\n",
    "- What are possible vulnerablilities?"
   ]
  },
  {
   "cell_type": "code",
   "execution_count": null,
   "id": "8e3b513e-bbfe-4ceb-88f6-566fe49fe464",
   "metadata": {},
   "outputs": [],
   "source": [
    "# np.save(\"results/obs_dmpe.npy\", np.stack(dmpe_observations))\n",
    "# np.save(\"results/act_dmpe.npy\", np.stack(dmpe_actions))"
   ]
  },
  {
   "cell_type": "code",
   "execution_count": null,
   "id": "e1f2e4f3-f715-4af5-b027-d51ddc0033fa",
   "metadata": {},
   "outputs": [],
   "source": [
    "# np.save(\"results/obs_sGOATs.npy\", np.stack(sgoats_observations))\n",
    "# np.save(\"results/act_sGOATs.npy\", np.stack(sgoats_actions))"
   ]
  },
  {
   "cell_type": "code",
   "execution_count": null,
   "id": "94a16147-8a5e-4eb0-85b0-5eb1f8d2da3f",
   "metadata": {},
   "outputs": [],
   "source": []
  }
 ],
 "metadata": {
  "kernelspec": {
   "display_name": "Python 3 (ipykernel)",
   "language": "python",
   "name": "python3"
  },
  "language_info": {
   "codemirror_mode": {
    "name": "ipython",
    "version": 3
   },
   "file_extension": ".py",
   "mimetype": "text/x-python",
   "name": "python",
   "nbconvert_exporter": "python",
   "pygments_lexer": "ipython3",
   "version": "3.11.9"
  }
 },
 "nbformat": 4,
 "nbformat_minor": 5
}
