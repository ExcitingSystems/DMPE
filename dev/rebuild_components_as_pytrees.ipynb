{
 "cells": [
  {
   "cell_type": "code",
   "execution_count": null,
   "id": "71705638-788f-4f02-ad69-00c3d32c63cc",
   "metadata": {},
   "outputs": [],
   "source": [
    "%load_ext autoreload\n",
    "%autoreload 2\n",
    "%reload_ext line_profiler"
   ]
  },
  {
   "cell_type": "code",
   "execution_count": null,
   "id": "1436231d-309c-4070-bc91-357c75de996d",
   "metadata": {},
   "outputs": [],
   "source": [
    "from functools import partial\n",
    "\n",
    "import time\n",
    "from tqdm.notebook import tqdm\n",
    "import numpy as np\n",
    "import matplotlib.pyplot as plt\n",
    "# plt.rcParams['text.usetex'] = True\n",
    "import plotly.express as px\n",
    "import plotly.graph_objects as go"
   ]
  },
  {
   "cell_type": "code",
   "execution_count": null,
   "id": "48693b1a-6247-4e13-8176-56adcea562fe",
   "metadata": {},
   "outputs": [],
   "source": [
    "import jax\n",
    "import jax.numpy as jnp\n",
    "\n",
    "import diffrax\n",
    "import equinox as eqx\n",
    "import optax\n",
    "\n",
    "from haiku import PRNGSequence"
   ]
  },
  {
   "cell_type": "code",
   "execution_count": null,
   "id": "ebdc86a1-684a-4ecc-9974-90783c3f58ee",
   "metadata": {},
   "outputs": [],
   "source": [
    "import exciting_environments as excenvs\n",
    "\n",
    "import exciting_exciting_systems as eesys\n",
    "from exciting_exciting_systems.models import NeuralEulerODEPendulum\n",
    "from exciting_exciting_systems.models.model_utils import simulate_ahead, simulate_ahead_with_env\n",
    "from exciting_exciting_systems.optimization import loss_function, optimize, soft_penalty\n",
    "from exciting_exciting_systems.models.model_training import make_step, dataloader, load_single_batch\n",
    "\n",
    "from exciting_exciting_systems.utils.metrics import JSDLoss\n",
    "from exciting_exciting_systems.utils.signals import generate_constant_action, aprbs\n",
    "from exciting_exciting_systems.evaluation.plotting_utils import (\n",
    "    plot_sequence, append_predictions_to_sequence_plot, plot_sequence_and_prediction, plot_model_performance\n",
    ")"
   ]
  },
  {
   "cell_type": "markdown",
   "id": "b6f01cb3-d4eb-495b-b170-ad825af69ae1",
   "metadata": {},
   "source": [
    "---"
   ]
  },
  {
   "cell_type": "code",
   "execution_count": null,
   "id": "33f596f4-dd8b-428d-96d0-25178c716935",
   "metadata": {},
   "outputs": [],
   "source": [
    "# setup PRNG\n",
    "key = jax.random.PRNGKey(seed=23) # 21)\n",
    "\n",
    "data_key, model_key, loader_key, key = jax.random.split(key, 4)\n",
    "data_rng = PRNGSequence(data_key)"
   ]
  },
  {
   "cell_type": "code",
   "execution_count": null,
   "id": "090fa044-f707-4fd5-8c96-ae92c2de5106",
   "metadata": {},
   "outputs": [],
   "source": [
    "batch_size = 5\n",
    "tau = 2e-2 # 5e-2\n",
    "\n",
    "env = excenvs.make(\n",
    "    env_id='Pendulum-v0',\n",
    "    batch_size=batch_size,\n",
    "    tau=tau\n",
    ")"
   ]
  },
  {
   "cell_type": "code",
   "execution_count": null,
   "id": "5dbcd842",
   "metadata": {},
   "outputs": [],
   "source": [
    "obs, state = env.reset()\n",
    "obs = obs.astype(jnp.float32)\n",
    "state = state.astype(jnp.float32)\n",
    "n_steps = 999\n",
    "\n",
    "actions = aprbs(n_steps, batch_size, 1, 10, next(data_rng))"
   ]
  },
  {
   "cell_type": "code",
   "execution_count": null,
   "id": "99904015",
   "metadata": {},
   "outputs": [],
   "source": [
    "observations = jax.vmap(simulate_ahead_with_env, in_axes=(None, 0, 0, 0, 0, 0, 0))(\n",
    "    env,\n",
    "    obs,\n",
    "    state,\n",
    "    actions,\n",
    "    env.env_state_normalizer,\n",
    "    env.action_normalizer,\n",
    "    env.static_params\n",
    ")\n",
    "\n",
    "print(\"actions.shape:\", actions.shape)\n",
    "print(\"observations.shape:\", observations.shape)\n",
    "\n",
    "print(\" \\n One of the trajectories:\")\n",
    "fig, axs = plot_sequence(\n",
    "    observations=observations[0, ...],\n",
    "    actions=actions[0, ...],\n",
    "    tau=tau,\n",
    "    obs_labels=[r\"$\\theta$\", r\"$\\omega$\"],\n",
    "    action_labels=[r\"$u$\"],\n",
    ");\n",
    "plt.show()"
   ]
  },
  {
   "cell_type": "markdown",
   "id": "a281f3d5-aa63-4766-81f6-5e2dfce1b992",
   "metadata": {},
   "source": [
    "### Rebuild density estimatior"
   ]
  },
  {
   "cell_type": "code",
   "execution_count": null,
   "id": "25fe1425-e289-426f-87cf-33b6e838d6b7",
   "metadata": {},
   "outputs": [],
   "source": [
    "# x_g = eesys.utils.density_estimation.build_grid_2d(\n",
    "#     low=env.env_observation_space.low,\n",
    "#     high=env.env_observation_space.high,\n",
    "#     points_per_dim=100\n",
    "# )\n",
    "# n_grid_points = x_g.shape[0]\n",
    "\n",
    "# bandwidth = 0.1\n",
    "\n",
    "# p_est = jnp.zeros([n_grid_points, 1])\n",
    "\n",
    "# for i in range(100):\n",
    "#     start = time.time()\n",
    "#     p_est = update_kde_grid_multiple_observations(p_est, x_g, observations[0, ...], n_observations=0, bandwidth=bandwidth)\n",
    "#     end = time.time()\n",
    "#     print(\"computation time: \", end - start)\n",
    "\n",
    "# fig, axs, cax = eesys.evaluation.plotting_utils.plot_2d_kde_as_contourf(p_est, x_g, [r\"$\\theta$\", r\"$\\omega$\"])"
   ]
  },
  {
   "cell_type": "code",
   "execution_count": null,
   "id": "6b83cacc-929d-40f2-bf9c-f713315727e2",
   "metadata": {},
   "outputs": [],
   "source": [
    "from exciting_exciting_systems.utils.density_estimation import (\n",
    "    DensityEstimate, update_density_estimate, update_density_estimate_multiple_observations\n",
    ")"
   ]
  },
  {
   "cell_type": "code",
   "execution_count": null,
   "id": "7356e29b-1746-41ea-8433-e092a1484234",
   "metadata": {},
   "outputs": [],
   "source": [
    "density_estimate = DensityEstimate(\n",
    "    p=jnp.zeros([batch_size, 100**2, 1]),\n",
    "    x_g=eesys.utils.density_estimation.build_grid_2d(\n",
    "        low=env.env_observation_space.low,\n",
    "        high=env.env_observation_space.high,\n",
    "        points_per_dim=100\n",
    "    ),\n",
    "    bandwidth=jnp.array([0.1]),\n",
    "    n_observations=jnp.array([0])\n",
    ")\n",
    "print(\"before_update: \", density_estimate)\n",
    "\n",
    "for i in range(10):\n",
    "    start = time.time()\n",
    "    density_estimate_after = jax.vmap(\n",
    "        update_density_estimate_multiple_observations,\n",
    "        in_axes=(DensityEstimate(0, None, None, None), 0),\n",
    "        out_axes=(DensityEstimate(0, None, None, None))\n",
    "    )(\n",
    "        density_estimate,\n",
    "        observations,\n",
    "    )\n",
    "    end = time.time()\n",
    "    print(\"computation time: \", end - start)\n",
    "print(\"after_update: \", density_estimate_after)\n",
    "\n",
    "fig, axs, cax = eesys.evaluation.plotting_utils.plot_2d_kde_as_contourf(\n",
    "    density_estimate_after.p[0, ...], \n",
    "    density_estimate_after.x_g, [r\"$\\theta$\", r\"$\\omega$\"])"
   ]
  },
  {
   "cell_type": "code",
   "execution_count": null,
   "id": "b7e25e42-742a-434e-b430-87208e6003bc",
   "metadata": {},
   "outputs": [],
   "source": [
    "observations.shape"
   ]
  },
  {
   "cell_type": "code",
   "execution_count": null,
   "id": "9b30abfc-ed30-4ed6-bec6-90623be6dee9",
   "metadata": {
    "scrolled": true
   },
   "outputs": [],
   "source": [
    "density_estimate = DensityEstimate(\n",
    "    p=jnp.zeros([batch_size, 100**2, 1]),\n",
    "    x_g=eesys.utils.density_estimation.build_grid_2d(\n",
    "        low=env.env_observation_space.low,\n",
    "        high=env.env_observation_space.high,\n",
    "        points_per_dim=100\n",
    "    ),\n",
    "    bandwidth=jnp.array([0.1]),\n",
    "    n_observations=jnp.array([0])\n",
    ")\n",
    "print(\"before_update: \", density_estimate)\n",
    "\n",
    "for i in range(1000):\n",
    "    start = time.time()\n",
    "    density_estimate = jax.vmap(\n",
    "        update_density_estimate,\n",
    "        in_axes=(DensityEstimate(0, None, None, None), 0),\n",
    "        out_axes=(DensityEstimate(0, None, None, None))\n",
    "    )(\n",
    "        density_estimate,\n",
    "        observations[:, i, :],\n",
    "    )\n",
    "    end = time.time()\n",
    "\n",
    "    if i < 10:\n",
    "        print(\"computation time: \", end - start)\n",
    "print(\"after_update: \", density_estimate)\n",
    "\n",
    "fig, axs, cax = eesys.evaluation.plotting_utils.plot_2d_kde_as_contourf(\n",
    "    density_estimate.p[0, ...], \n",
    "    density_estimate.x_g, [r\"$\\theta$\", r\"$\\omega$\"])"
   ]
  },
  {
   "cell_type": "code",
   "execution_count": null,
   "id": "773a1ae4-d07e-4fce-af1f-613a7fba9f92",
   "metadata": {},
   "outputs": [],
   "source": []
  }
 ],
 "metadata": {
  "kernelspec": {
   "display_name": "venv-dev-base",
   "language": "python",
   "name": "venv-dev-base"
  },
  "language_info": {
   "codemirror_mode": {
    "name": "ipython",
    "version": 3
   },
   "file_extension": ".py",
   "mimetype": "text/x-python",
   "name": "python",
   "nbconvert_exporter": "python",
   "pygments_lexer": "ipython3",
   "version": "3.11.6"
  }
 },
 "nbformat": 4,
 "nbformat_minor": 5
}
