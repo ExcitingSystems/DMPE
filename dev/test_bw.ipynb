{
 "cells": [
  {
   "cell_type": "code",
   "execution_count": null,
   "id": "9258e0e9-be21-4c43-82ab-a7b3cc785aae",
   "metadata": {},
   "outputs": [],
   "source": [
    "%load_ext autoreload\n",
    "%autoreload 2\n",
    "%reload_ext line_profiler"
   ]
  },
  {
   "cell_type": "code",
   "execution_count": null,
   "id": "671d7555-5496-4b77-99ee-60a457ca883e",
   "metadata": {},
   "outputs": [],
   "source": [
    "import os\n",
    "os.environ['CUDA_VISIBLE_DEVICES'] = '0'\n",
    "os.environ[\"XLA_PYTHON_CLIENT_PREALLOCATE\"]=\"false\"\n",
    "\n",
    "import pathlib\n",
    "from functools import partial\n",
    "\n",
    "import time\n",
    "from tqdm.notebook import tqdm\n",
    "import numpy as np\n",
    "import matplotlib.pyplot as plt\n",
    "import matplotlib as mpl\n",
    "mpl.rcParams['text.usetex'] = True\n",
    "mpl.rcParams['text.latex.preamble']=r\"\\usepackage{bm}\"\n",
    "import plotly.express as px\n",
    "import plotly.graph_objects as go"
   ]
  },
  {
   "cell_type": "code",
   "execution_count": null,
   "id": "f362719b-da1b-4190-ad6b-cde6a4d1f2ed",
   "metadata": {},
   "outputs": [],
   "source": [
    "import jax\n",
    "import jax.numpy as jnp\n",
    "# jax.config.update(\"jax_enable_x64\", True)\n",
    "gpus = jax.devices()\n",
    "jax.config.update(\"jax_default_device\", gpus[0])\n",
    "\n",
    "import diffrax\n",
    "import equinox as eqx\n",
    "import optax\n",
    "\n",
    "from haiku import PRNGSequence"
   ]
  },
  {
   "cell_type": "code",
   "execution_count": null,
   "id": "a8508a45-8b8e-4e4d-b7ba-394515bd4146",
   "metadata": {},
   "outputs": [],
   "source": [
    "from exciting_exciting_systems.utils.density_estimation import (\n",
    "    select_bandwidth)"
   ]
  },
  {
   "cell_type": "code",
   "execution_count": null,
   "id": "723703b2-8924-46b3-ae01-cf11b6a4e521",
   "metadata": {},
   "outputs": [],
   "source": [
    "select_bandwidth(\n",
    "    delta_x=2,\n",
    "    dim=1,\n",
    "    n_g=50,\n",
    "    percentage=0.3,\n",
    ")"
   ]
  },
  {
   "cell_type": "code",
   "execution_count": null,
   "id": "91ab64bc-fb61-41fa-a022-e95f3d7b306d",
   "metadata": {},
   "outputs": [],
   "source": [
    "@jax.jit\n",
    "def gaussian_kernel(x: jnp.ndarray, bandwidth: float) -> jnp.ndarray:\n",
    "    \"\"\"Evaluates the Gaussian RBF kernel at x with given bandwidth. This can take arbitrary\n",
    "    dimensions for 'x' and will compute the output by broadcasting. The last dimension of\n",
    "    the input needs to be the dimension of the data which is reduced.\n",
    "    \"\"\"\n",
    "    data_dim = x.shape[-1]\n",
    "    factor = bandwidth**data_dim * jnp.power(2 * jnp.pi, data_dim / 2)\n",
    "    return 1 / factor * jnp.exp(-jnp.linalg.norm(x, axis=-1) ** 2 / (2 * bandwidth**2))"
   ]
  },
  {
   "cell_type": "code",
   "execution_count": null,
   "id": "3c66e4a2-25fd-4075-b477-a354ffe91f69",
   "metadata": {},
   "outputs": [],
   "source": [
    "x_g = jnp.linspace(-1, 1, 10)[:, None]\n",
    "\n",
    "x = jnp.linspace(-1.5, 1.5, 1000)[:, None]\n",
    "y = gaussian_kernel(x, bandwidth=1)"
   ]
  },
  {
   "cell_type": "code",
   "execution_count": null,
   "id": "121e27c6-1dbe-4637-89a2-842861cbcc53",
   "metadata": {},
   "outputs": [],
   "source": [
    "x = jnp.linspace(0, .2, 1000)\n",
    "for a in np.arange(0.05, 0.5, 0.05):\n",
    "    plt.plot(x, jnp.sqrt(-1 * jnp.abs(x)**2 / (2 * jnp.log(a))))\n",
    "\n",
    "plt.show()"
   ]
  },
  {
   "cell_type": "code",
   "execution_count": null,
   "id": "503b616c-2166-4224-8109-a26ca372e70e",
   "metadata": {},
   "outputs": [],
   "source": [
    "def calc_bw(delta_x, d, n_g, a):\n",
    "    return delta_x * jnp.sqrt(d) / (n_g * jnp.sqrt(-2 * jnp.log(a)))"
   ]
  },
  {
   "cell_type": "code",
   "execution_count": null,
   "id": "2e5ee7a3-7bfc-4792-bfe7-478dc91788c3",
   "metadata": {},
   "outputs": [],
   "source": [
    "h = calc_bw(\n",
    "    x=jnp.sqrt(5) / 10,\n",
    "    a=0.3\n",
    ")\n",
    "h"
   ]
  },
  {
   "cell_type": "code",
   "execution_count": null,
   "id": "fedcb9b1-084f-46f2-9db4-fe1d1a0352e4",
   "metadata": {},
   "outputs": [],
   "source": [
    "h = calc_bw(\n",
    "    x=jnp.sqrt(5) / 5,\n",
    "    a=0.3\n",
    ")\n",
    "h"
   ]
  },
  {
   "cell_type": "code",
   "execution_count": null,
   "id": "2fb82bbd-716e-4c9d-a6a4-b71ae8671a17",
   "metadata": {},
   "outputs": [],
   "source": [
    "calc_bw(delta_x=2, d=5, n_g=10, a=0.3)"
   ]
  },
  {
   "cell_type": "code",
   "execution_count": null,
   "id": "5c22c0a0-ae02-4d74-a0cd-749b2c7a5394",
   "metadata": {},
   "outputs": [],
   "source": [
    "test(jnp.array([0.2])[:, None] * jnp.sqrt(5), h)"
   ]
  },
  {
   "cell_type": "code",
   "execution_count": null,
   "id": "313284f7-3758-45b4-bfef-564eab9efc50",
   "metadata": {},
   "outputs": [],
   "source": [
    "test(jnp.array([0.2])[:, None], h)"
   ]
  },
  {
   "cell_type": "code",
   "execution_count": null,
   "id": "5ee565bb-9e80-4e48-b3b4-7a977f5c016e",
   "metadata": {},
   "outputs": [],
   "source": [
    "0.025 * np.sqrt(2)"
   ]
  },
  {
   "cell_type": "code",
   "execution_count": null,
   "id": "68e87093-8e0f-4848-b31a-33973f4293ec",
   "metadata": {},
   "outputs": [],
   "source": [
    "plt.plot(x, y)\n",
    "plt.plot(x_g, jnp.zeros(x_g.shape), \"r.\")"
   ]
  },
  {
   "cell_type": "code",
   "execution_count": null,
   "id": "533824ec-12dc-4687-b9a1-1006c2c85d9b",
   "metadata": {},
   "outputs": [],
   "source": [
    "from exciting_exciting_systems.utils.density_estimation import build_grid"
   ]
  },
  {
   "cell_type": "code",
   "execution_count": null,
   "id": "2a4bdf91-cc14-439d-9a3c-7a6b91cd6c68",
   "metadata": {},
   "outputs": [],
   "source": [
    "x_g = build_grid(dim=2, low=-1, high=1, points_per_dim=10)"
   ]
  },
  {
   "cell_type": "code",
   "execution_count": null,
   "id": "8fa493c2-2cd6-40b8-9312-ec988cf5c2b9",
   "metadata": {},
   "outputs": [],
   "source": [
    "plt.scatter(x_g[:, 0], x_g[:, 1])"
   ]
  },
  {
   "cell_type": "code",
   "execution_count": null,
   "id": "8f7326dc-0311-4db4-bb4e-c01a274572f6",
   "metadata": {},
   "outputs": [],
   "source": [
    "np.sqrt(0.04**2 + 0.04**2 + 0.04**2 + 0.04**2)"
   ]
  },
  {
   "cell_type": "code",
   "execution_count": null,
   "id": "4d9081d1-2f17-4f42-9b66-4189fcc80ac2",
   "metadata": {},
   "outputs": [],
   "source": [
    "2 / 20 * np.sqrt(5)"
   ]
  },
  {
   "cell_type": "code",
   "execution_count": null,
   "id": "f9abe350-78f7-4e8f-ba4f-0acea27cb756",
   "metadata": {},
   "outputs": [],
   "source": [
    "gaussian_kernel(x=jnp.array([0, 0.5, 1, -1])[:, None], bandwidth=0.05)"
   ]
  },
  {
   "cell_type": "code",
   "execution_count": null,
   "id": "35d32440-e045-4f42-90a4-f2a9e01e49e4",
   "metadata": {},
   "outputs": [],
   "source": [
    "gaussian_kernel(x=jnp.array([[0.04, 0.5, 1, -1], [0, 0.5, 1, -1]]).T, bandwidth=0.05) * 2* jnp.pi * 0.05**2"
   ]
  },
  {
   "cell_type": "code",
   "execution_count": null,
   "id": "2012ae94-672a-4344-9adb-4683e0f8b336",
   "metadata": {},
   "outputs": [],
   "source": [
    "def test(x, bandwidth):\n",
    "    return jnp.exp(-jnp.linalg.norm(x, axis=-1) ** 2 / (2 * bandwidth**2))"
   ]
  },
  {
   "cell_type": "code",
   "execution_count": null,
   "id": "74ca0419-11d4-458a-8ec2-92a6c8c8dff0",
   "metadata": {},
   "outputs": [],
   "source": [
    "test(x=jnp.array([[1, 0.05, 0.05 / 2, -1], [0, 0.0, 0.05 / 2, -1]]).T, bandwidth=0.05)"
   ]
  },
  {
   "cell_type": "code",
   "execution_count": null,
   "id": "95f90a46-c858-477e-8d8a-8816b1e7afb4",
   "metadata": {},
   "outputs": [],
   "source": [
    "test(x=jnp.array([0.025, 0.04, 1, -1])[:, None], bandwidth=0.025)"
   ]
  },
  {
   "cell_type": "code",
   "execution_count": null,
   "id": "c3a759ae-0bff-4aed-a708-0a8550d16ad3",
   "metadata": {},
   "outputs": [],
   "source": [
    "plt.plot(jnp.arange(0.025, 0.5, 0.025), test(x=jnp.array([2/20 * jnp.sqrt(5)])[:, None], bandwidth=jnp.arange(0.025, 0.5, 0.025)))"
   ]
  },
  {
   "cell_type": "code",
   "execution_count": null,
   "id": "28497089-05f0-44ba-8fe1-98733ac913a2",
   "metadata": {},
   "outputs": [],
   "source": [
    "test(x=jnp.array([2/20 * jnp.sqrt(5)])[:, None], bandwidth=0.14)"
   ]
  },
  {
   "cell_type": "code",
   "execution_count": null,
   "id": "764fb47b-d18a-4bbe-ad2a-dc0f2bcd1aaa",
   "metadata": {},
   "outputs": [],
   "source": [
    "test(x=jnp.array([[0.05], [0.05], [0.05], [0.05], [0.05]]).T, bandwidth=0.1)"
   ]
  },
  {
   "cell_type": "code",
   "execution_count": null,
   "id": "32e1b32a-798c-4d28-b316-e372c418f407",
   "metadata": {},
   "outputs": [],
   "source": [
    "np.linalg.norm(np.ones(5) * 0.05)"
   ]
  },
  {
   "cell_type": "code",
   "execution_count": null,
   "id": "33885c4a-f770-480b-9c36-656bb726b81b",
   "metadata": {},
   "outputs": [],
   "source": []
  }
 ],
 "metadata": {
  "kernelspec": {
   "display_name": "Python 3 (ipykernel)",
   "language": "python",
   "name": "python3"
  },
  "language_info": {
   "codemirror_mode": {
    "name": "ipython",
    "version": 3
   },
   "file_extension": ".py",
   "mimetype": "text/x-python",
   "name": "python",
   "nbconvert_exporter": "python",
   "pygments_lexer": "ipython3",
   "version": "3.11.9"
  }
 },
 "nbformat": 4,
 "nbformat_minor": 5
}
