{
 "cells": [
  {
   "cell_type": "code",
   "execution_count": null,
   "id": "f2766531-8cbc-420b-9377-b485392174e9",
   "metadata": {},
   "outputs": [],
   "source": [
    "%load_ext autoreload\n",
    "%autoreload 2\n",
    "%reload_ext line_profiler"
   ]
  },
  {
   "cell_type": "code",
   "execution_count": null,
   "id": "3a33f57d-a51d-4041-a17a-cbf36181e626",
   "metadata": {},
   "outputs": [],
   "source": [
    "from functools import partial\n",
    "\n",
    "import time\n",
    "from tqdm.notebook import tqdm\n",
    "import numpy as np\n",
    "import matplotlib.pyplot as plt\n",
    "import plotly.express as px\n",
    "import plotly.graph_objects as go"
   ]
  },
  {
   "cell_type": "code",
   "execution_count": null,
   "id": "bbffb8c5-aa61-4649-a437-b8c93aa0fb76",
   "metadata": {},
   "outputs": [],
   "source": [
    "import jax\n",
    "import jax.numpy as jnp\n",
    "\n",
    "jax.config.update('jax_platform_name', 'cpu')\n",
    "\n",
    "import diffrax\n",
    "import equinox as eqx\n",
    "import optax\n",
    "\n",
    "from haiku import PRNGSequence"
   ]
  },
  {
   "cell_type": "code",
   "execution_count": null,
   "id": "d364ae4a-8c5a-486c-967a-272b31060674",
   "metadata": {},
   "outputs": [],
   "source": [
    "from cmaes import CMAwM\n",
    "\n",
    "import exciting_environments as excenvs\n",
    "\n",
    "import exciting_exciting_systems\n",
    "# from exciting_exciting_systems.models.model_utils import simulate_ahead_with_env\n",
    "\n",
    "from exciting_exciting_systems.evaluation.plotting_utils import plot_sequence\n",
    "\n",
    "from exciting_exciting_systems.related_work.np_reimpl.env_utils import simulate_ahead_with_env\n",
    "from exciting_exciting_systems.related_work.excitation_utils import generate_aprbs\n",
    "from exciting_exciting_systems.related_work.np_reimpl.pendulum import Pendulum"
   ]
  },
  {
   "cell_type": "markdown",
   "id": "c04e2d25-f5df-48d7-9b37-7891865e7291",
   "metadata": {},
   "source": [
    "---"
   ]
  },
  {
   "cell_type": "code",
   "execution_count": null,
   "id": "b87f5c52-b10b-46e5-a414-48d1b9b4b395",
   "metadata": {},
   "outputs": [],
   "source": [
    "# # setup PRNG\n",
    "# key = jax.random.PRNGKey(seed=3333) # 21)\n",
    "\n",
    "# data_key, opt_key, key = jax.random.split(key, 3)\n",
    "# data_rng = PRNGSequence(data_key)"
   ]
  },
  {
   "cell_type": "code",
   "execution_count": null,
   "id": "44f4f8b1-a9b5-43f5-b2f8-773fee30367c",
   "metadata": {},
   "outputs": [],
   "source": [
    "# batch_size = 1\n",
    "# tau = 2e-2 # 5e-2"
   ]
  },
  {
   "cell_type": "code",
   "execution_count": null,
   "id": "7c55424b-c4eb-4494-9a1b-0fadc7f05d46",
   "metadata": {},
   "outputs": [],
   "source": [
    "batch_size = 1\n",
    "tau = 2e-2\n",
    "\n",
    "env = Pendulum(\n",
    "    batch_size=batch_size,\n",
    "    tau=tau\n",
    ")"
   ]
  },
  {
   "cell_type": "markdown",
   "id": "041ae8c7-dd94-429d-b43a-7c43ef417945",
   "metadata": {},
   "source": [
    "- on runtime in jit generate a mask\n",
    "- loss = jnp.sum(jnp.where(a != jnp.inf, a, 0)\n",
    "- **this does not solve the issue with mixed-integer optimization!?**"
   ]
  },
  {
   "cell_type": "code",
   "execution_count": null,
   "id": "7745c781-541c-4940-ae25-55ef41200228",
   "metadata": {},
   "outputs": [],
   "source": [
    "h = 100\n",
    "\n",
    "# action_parameters = jnp.concatenate([\n",
    "#     jax.random.uniform(\n",
    "#         key=next(data_rng),\n",
    "#         shape=(h,),\n",
    "#         minval=-1,\n",
    "#         maxval=1\n",
    "#     ),\n",
    "#     jax.random.randint(\n",
    "#         key=next(data_rng),\n",
    "#         shape=(h,),\n",
    "#         minval=2,\n",
    "#         maxval=50\n",
    "#     )\n",
    "# ])\n",
    "\n",
    "action_parameters = np.concatenate([\n",
    "    np.random.uniform(low=-1, high=1, size=(h,)).astype(np.float32),\n",
    "    np.random.randint(low=2, high=50, size=(h,), dtype=np.int32)\n",
    "])\n",
    "\n",
    "actions = generate_aprbs(\n",
    "    amplitudes=action_parameters[:h],\n",
    "    durations=np.abs(action_parameters[h:].astype(np.int32))\n",
    ")[:, None]\n",
    "\n",
    "plt.plot(np.squeeze(actions))"
   ]
  },
  {
   "cell_type": "code",
   "execution_count": null,
   "id": "2436b246-0abf-4bf5-87f9-b72a53e32b00",
   "metadata": {},
   "outputs": [],
   "source": [
    "obs, env_state = env.reset()\n",
    "obs = obs.astype(np.float32)[0]\n",
    "env_state = env_state.astype(np.float32)[0]\n",
    "\n",
    "observations, _ = simulate_ahead_with_env(\n",
    "    env,\n",
    "    obs,\n",
    "    env_state,\n",
    "    actions,\n",
    ")\n",
    "\n",
    "print(\"actions.shape:\", actions.shape)\n",
    "print(\"observations.shape:\", observations.shape)\n",
    "\n",
    "print(\" \\n One of the trajectories:\")\n",
    "fig, axs = plot_sequence(\n",
    "    observations=observations,\n",
    "    actions=actions,\n",
    "    tau=tau,\n",
    "    obs_labels=[r\"$\\theta$\", r\"$\\omega$\"],\n",
    "    action_labels=[r\"$u$\"],\n",
    ");\n",
    "plt.show()"
   ]
  },
  {
   "cell_type": "code",
   "execution_count": null,
   "id": "abc1258f-83e8-4ca2-9068-6ae4bd8ff93d",
   "metadata": {
    "scrolled": true
   },
   "outputs": [],
   "source": [
    "# jax_env = excenvs.make(\n",
    "#     env_id='Pendulum-v0',\n",
    "#     batch_size=batch_size,\n",
    "#     tau=tau\n",
    "# )\n",
    "\n",
    "\n",
    "# jax_observations = jax.vmap(\n",
    "#     exciting_exciting_systems.models.model_utils.simulate_ahead_with_env,\n",
    "#     in_axes=(None, 0, 0, 0, 0, 0, 0)\n",
    "# )(\n",
    "#     jax_env,\n",
    "#     obs,\n",
    "#     env_state,\n",
    "#     actions,\n",
    "#     jax_env.env_state_normalizer,\n",
    "#     jax_env.action_normalizer,\n",
    "#     jax_env.static_params\n",
    "# )\n",
    "\n",
    "# plt.plot(observations[0, :, 0])\n",
    "# plt.plot(jax_observations[0, :, 0])\n",
    "# plt.show()\n",
    "\n",
    "# plt.plot(observations[0, :, 1])\n",
    "# plt.plot(jax_observations[0, :, 1])\n",
    "# plt.show()"
   ]
  },
  {
   "cell_type": "markdown",
   "id": "8e3664a8-87d6-4c76-aa59-3d60e2185781",
   "metadata": {},
   "source": [
    "---"
   ]
  },
  {
   "cell_type": "code",
   "execution_count": null,
   "id": "5efb80a5-a18a-4d30-bb5a-894d7b3adb6e",
   "metadata": {},
   "outputs": [],
   "source": [
    "from exciting_exciting_systems.related_work.algorithms import excite_with_iGOATs"
   ]
  },
  {
   "cell_type": "code",
   "execution_count": null,
   "id": "bfbe17fb-e9d9-4f66-893d-623a36a907e7",
   "metadata": {},
   "outputs": [],
   "source": [
    "def featurize_theta(obs):\n",
    "    \"\"\"The angle itself is difficult to properly interpret in the loss as angles\n",
    "    such as 1.99 * pi and 0 are essentially the same. Therefore the angle is \n",
    "    transformed to sin(phi) and cos(phi) for comparison in the loss.\"\"\"\n",
    "\n",
    "    feat_obs = np.stack([np.sin(obs[..., 0] * np.pi), np.cos(obs[..., 0] * np.pi), obs[..., 1]], axis=-1)\n",
    "    return feat_obs"
   ]
  },
  {
   "cell_type": "code",
   "execution_count": null,
   "id": "10569a02-504e-4ab4-a1db-6b8548d6fd50",
   "metadata": {},
   "outputs": [],
   "source": [
    "h = 2\n",
    "a = 2\n",
    "\n",
    "actions = []\n",
    "observations = []\n",
    "\n",
    "observations, actions = excite_with_iGOATs(\n",
    "    n_timesteps=5000,\n",
    "    env=env,\n",
    "    actions=actions,\n",
    "    observations=observations,\n",
    "    h=h,\n",
    "    a=a,\n",
    "    bounds_amplitude=[-1, 1],\n",
    "    bounds_duration=[1, 50],\n",
    "    population_size=20,\n",
    "    n_generations=20,\n",
    "    mean=np.hstack([np.zeros(h), np.ones(h) * 25]),\n",
    "    sigma=2.0,\n",
    "    featurize=featurize_theta\n",
    ")"
   ]
  },
  {
   "cell_type": "code",
   "execution_count": null,
   "id": "d8db70f3-8a88-4154-b481-942bfe1bf41c",
   "metadata": {},
   "outputs": [],
   "source": [
    "fig, axs = plot_sequence(\n",
    "    observations=np.stack(observations),\n",
    "    actions=np.stack(actions),\n",
    "    tau=tau,\n",
    "    obs_labels=[r\"$\\theta$\", r\"$\\omega$\"],\n",
    "    action_labels=[r\"$u$\"],\n",
    ");\n",
    "plt.show()"
   ]
  },
  {
   "cell_type": "code",
   "execution_count": null,
   "id": "6df81f1d-0088-47cc-b1b0-d5e970268ab6",
   "metadata": {},
   "outputs": [],
   "source": [
    "from exciting_exciting_systems.utils.density_estimation import DensityEstimate, build_grid_2d, update_density_estimate_multiple_observations"
   ]
  },
  {
   "cell_type": "code",
   "execution_count": null,
   "id": "b07f8680-77f5-428e-b4a6-19e666adffa7",
   "metadata": {},
   "outputs": [],
   "source": [
    "density_estimate = DensityEstimate(\n",
    "    p=jnp.zeros([50**2, 1]),\n",
    "    x_g=build_grid_2d(low=-1, high=1, points_per_dim=50),\n",
    "    bandwidth=jnp.array([0.05]),\n",
    "    n_observations=jnp.array([0])\n",
    ")\n",
    "\n",
    "density_estimate = update_density_estimate_multiple_observations(\n",
    "    density_estimate, np.stack(observations),\n",
    ")"
   ]
  },
  {
   "cell_type": "code",
   "execution_count": null,
   "id": "0782b77f-60e3-4054-843c-5479606c955c",
   "metadata": {},
   "outputs": [],
   "source": [
    "fig, axs = exciting_exciting_systems.evaluation.plotting_utils.plot_2d_kde_as_surface(\n",
    "    density_estimate.p, density_estimate.x_g, [r\"$\\theta$\", r\"$\\omega$\"]\n",
    ")\n",
    "plt.show()\n",
    "\n",
    "fig, axs, _ = exciting_exciting_systems.evaluation.plotting_utils.plot_2d_kde_as_contourf(\n",
    "    density_estimate.p, density_estimate.x_g, [r\"$\\theta$\", r\"$\\omega$\"]\n",
    ")\n",
    "plt.show()"
   ]
  },
  {
   "cell_type": "markdown",
   "id": "0230cf42-35da-4610-8516-10b387387d1e",
   "metadata": {},
   "source": [
    "---"
   ]
  },
  {
   "cell_type": "code",
   "execution_count": null,
   "id": "4c7ec787-ee72-4ec4-9340-fc6d2bdb0488",
   "metadata": {},
   "outputs": [],
   "source": [
    "# np.save(\"obs_iGOATs.npy\", np.stack(observations))\n",
    "# np.save(\"act_iGOATs.npy\", np.stack(actions))"
   ]
  },
  {
   "cell_type": "code",
   "execution_count": null,
   "id": "065c6be5-9ed5-4757-b84d-1afcdda7fdcd",
   "metadata": {},
   "outputs": [],
   "source": [
    "observations = np.load(\"obs_iGOATs.npy\")\n",
    "actions = np.load(\"act_iGOATs.npy\")"
   ]
  },
  {
   "cell_type": "code",
   "execution_count": null,
   "id": "60c9dd11-033f-492c-a73a-865ea451c85c",
   "metadata": {},
   "outputs": [],
   "source": [
    "fig, axs = plot_sequence(\n",
    "    observations=np.stack(observations),\n",
    "    actions=np.stack(actions),\n",
    "    tau=tau,\n",
    "    obs_labels=[r\"$\\theta$\", r\"$\\omega$\"],\n",
    "    action_labels=[r\"$u$\"],\n",
    ");\n",
    "plt.show()"
   ]
  },
  {
   "cell_type": "code",
   "execution_count": null,
   "id": "233ceb4d-d391-43b6-8055-9ee0c4837797",
   "metadata": {},
   "outputs": [],
   "source": [
    "from exciting_exciting_systems.utils.metrics import MNNS_without_penalty, audze_eglais, MC_uniform_sampling_distribution_approximation\n",
    "from scipy.stats.qmc import LatinHypercube"
   ]
  },
  {
   "cell_type": "code",
   "execution_count": null,
   "id": "d3b31008-2a03-4b01-afbe-1564b3611fc7",
   "metadata": {},
   "outputs": [],
   "source": [
    "lhc_sampler = LatinHypercube(d=2)"
   ]
  },
  {
   "cell_type": "code",
   "execution_count": null,
   "id": "16aa9317-a7a9-4cc2-8d07-2d1e63b2f82c",
   "metadata": {},
   "outputs": [],
   "source": [
    "ae_score = audze_eglais(jnp.stack(observations))\n",
    "print(ae_score)"
   ]
  },
  {
   "cell_type": "code",
   "execution_count": null,
   "id": "b2023ef7-adc5-4252-8961-916fbc8756d3",
   "metadata": {},
   "outputs": [],
   "source": [
    "mcudsa_score = MC_uniform_sampling_distribution_approximation(\n",
    "    data_points=jnp.stack(observations),\n",
    "    support_points=lhc_sampler.random(n=1600) * 2 - 1\n",
    ")\n",
    "print(mcudsa_score)"
   ]
  },
  {
   "cell_type": "code",
   "execution_count": null,
   "id": "701d2897-0ed9-4a54-acc2-fb8b36fc77c6",
   "metadata": {},
   "outputs": [],
   "source": []
  }
 ],
 "metadata": {
  "kernelspec": {
   "display_name": "Python 3 (ipykernel)",
   "language": "python",
   "name": "python3"
  },
  "language_info": {
   "codemirror_mode": {
    "name": "ipython",
    "version": 3
   },
   "file_extension": ".py",
   "mimetype": "text/x-python",
   "name": "python",
   "nbconvert_exporter": "python",
   "pygments_lexer": "ipython3",
   "version": "3.11.9"
  }
 },
 "nbformat": 4,
 "nbformat_minor": 5
}
