{
 "cells": [
  {
   "cell_type": "code",
   "execution_count": null,
   "id": "f2766531-8cbc-420b-9377-b485392174e9",
   "metadata": {},
   "outputs": [],
   "source": [
    "%load_ext autoreload\n",
    "%autoreload 2\n",
    "%reload_ext line_profiler"
   ]
  },
  {
   "cell_type": "code",
   "execution_count": null,
   "id": "3a33f57d-a51d-4041-a17a-cbf36181e626",
   "metadata": {},
   "outputs": [],
   "source": [
    "from functools import partial\n",
    "\n",
    "import time\n",
    "from tqdm.notebook import tqdm\n",
    "import numpy as np\n",
    "import matplotlib.pyplot as plt\n",
    "import plotly.express as px\n",
    "import plotly.graph_objects as go"
   ]
  },
  {
   "cell_type": "code",
   "execution_count": null,
   "id": "bbffb8c5-aa61-4649-a437-b8c93aa0fb76",
   "metadata": {},
   "outputs": [],
   "source": [
    "import jax\n",
    "import jax.numpy as jnp\n",
    "\n",
    "import diffrax\n",
    "import equinox as eqx\n",
    "import optax\n",
    "\n",
    "from haiku import PRNGSequence"
   ]
  },
  {
   "cell_type": "code",
   "execution_count": null,
   "id": "d364ae4a-8c5a-486c-967a-272b31060674",
   "metadata": {},
   "outputs": [],
   "source": [
    "import exciting_environments as excenvs\n",
    "\n",
    "from exciting_exciting_systems.utils.density_estimation import build_grid_2d\n",
    "from exciting_exciting_systems.models.model_utils import simulate_ahead_with_env\n",
    "from exciting_exciting_systems.utils.signals import aprbs\n",
    "from exciting_exciting_systems.evaluation.plotting_utils import plot_sequence"
   ]
  },
  {
   "cell_type": "markdown",
   "id": "c04e2d25-f5df-48d7-9b37-7891865e7291",
   "metadata": {},
   "source": [
    "---"
   ]
  },
  {
   "cell_type": "code",
   "execution_count": null,
   "id": "b87f5c52-b10b-46e5-a414-48d1b9b4b395",
   "metadata": {},
   "outputs": [],
   "source": [
    "# setup PRNG\n",
    "key = jax.random.PRNGKey(seed=3333) # 21)\n",
    "\n",
    "data_key, opt_key, key = jax.random.split(key, 3)\n",
    "data_rng = PRNGSequence(data_key)"
   ]
  },
  {
   "cell_type": "code",
   "execution_count": null,
   "id": "44f4f8b1-a9b5-43f5-b2f8-773fee30367c",
   "metadata": {},
   "outputs": [],
   "source": [
    "batch_size = 1\n",
    "tau = 2e-2 # 5e-2\n",
    "\n",
    "env = excenvs.make(\n",
    "    env_id='Pendulum-v0',\n",
    "    batch_size=batch_size,\n",
    "    tau=tau\n",
    ")"
   ]
  },
  {
   "cell_type": "code",
   "execution_count": null,
   "id": "a853134e-7746-4284-907e-e65826e8015b",
   "metadata": {},
   "outputs": [],
   "source": [
    "obs, state = env.reset()\n",
    "obs = obs.astype(jnp.float32)\n",
    "state = state.astype(jnp.float32)\n",
    "n_steps = 999\n",
    "\n",
    "actions = aprbs(n_steps, batch_size, 1, 10, next(data_rng))"
   ]
  },
  {
   "cell_type": "code",
   "execution_count": null,
   "id": "a50e0d14-c506-4cd4-b544-55eefc168530",
   "metadata": {},
   "outputs": [],
   "source": [
    "observations = jax.vmap(simulate_ahead_with_env, in_axes=(None, 0, 0, 0, 0, 0, 0))(\n",
    "    env,\n",
    "    obs,\n",
    "    state,\n",
    "    actions,\n",
    "    env.env_state_normalizer,\n",
    "    env.action_normalizer,\n",
    "    env.static_params\n",
    ")\n",
    "\n",
    "print(\"actions.shape:\", actions.shape)\n",
    "print(\"observations.shape:\", observations.shape)\n",
    "\n",
    "print(\" \\n One of the trajectories:\")\n",
    "fig, axs = plot_sequence(\n",
    "    observations=observations[0, ...],\n",
    "    actions=actions[0, ...],\n",
    "    tau=tau,\n",
    "    obs_labels=[r\"$\\theta$\", r\"$\\omega$\"],\n",
    "    action_labels=[r\"$u$\"],\n",
    ");\n",
    "plt.show()"
   ]
  },
  {
   "cell_type": "markdown",
   "id": "186ae7cf-3421-4697-ab1b-ca3d30403816",
   "metadata": {},
   "source": [
    "---"
   ]
  },
  {
   "cell_type": "code",
   "execution_count": null,
   "id": "d2e6d903-626d-4444-b293-351c344c2653",
   "metadata": {},
   "outputs": [],
   "source": [
    "import optuna"
   ]
  },
  {
   "cell_type": "code",
   "execution_count": null,
   "id": "66ca5584-b47e-4c68-85c9-0a0a37fdf30b",
   "metadata": {},
   "outputs": [],
   "source": [
    "@jax.jit\n",
    "def dummy_fitness_func(x):\n",
    "    a = 2\n",
    "    b = 100\n",
    "    return (a - x[0])**2 + b * (x[1] - x[0]**2)**2\n",
    "\n",
    "\n",
    "def objective(trial):\n",
    "    x0 = trial.suggest_float('x0', -10, 10)\n",
    "    x1 = trial.suggest_float('x1', -10, 10)\n",
    "    return dummy_fitness_func(jnp.array([x0, x1]))"
   ]
  },
  {
   "cell_type": "code",
   "execution_count": null,
   "id": "70768eaa-cb94-46af-95a5-00deb8d344f8",
   "metadata": {
    "scrolled": true
   },
   "outputs": [],
   "source": [
    "sampler = optuna.samplers.CmaEsSampler(popsize=50)\n",
    "study = optuna.create_study(sampler=sampler)\n",
    "study.optimize(objective, n_trials=500, show_progress_bar=True)\n",
    "\n",
    "study.best_params"
   ]
  },
  {
   "cell_type": "code",
   "execution_count": null,
   "id": "6be6444d-3b42-4ae0-b5f5-5ad38ab24150",
   "metadata": {},
   "outputs": [],
   "source": [
    "from cmaes import CMA, CMAwM"
   ]
  },
  {
   "cell_type": "code",
   "execution_count": null,
   "id": "f28f7f18-c97e-46e4-b63d-3ded51a3f315",
   "metadata": {},
   "outputs": [],
   "source": [
    "optimizer = CMA(mean=np.zeros(2), sigma=1.3, population_size=20)\n",
    "\n",
    "for generation in range(100):\n",
    "    solutions = []\n",
    "    for i in range(optimizer.population_size):\n",
    "        x = optimizer.ask()\n",
    "        value = dummy_fitness_func(x)\n",
    "        solutions.append((x, value))\n",
    "        # if (generation % 10) == 0:\n",
    "        #     print(f\"#{generation} {value} (x1={x[0]}, x2 = {x[1]})\")\n",
    "    optimizer.tell(solutions)"
   ]
  },
  {
   "cell_type": "code",
   "execution_count": null,
   "id": "02361c05-1e9d-4b81-a1b3-fcbc7d2e142e",
   "metadata": {},
   "outputs": [],
   "source": [
    "print(x)"
   ]
  },
  {
   "cell_type": "code",
   "execution_count": null,
   "id": "005472fb-0530-4495-963a-e24ce303ff10",
   "metadata": {},
   "outputs": [],
   "source": [
    "xs, values = [], []\n",
    "for x, value in solutions:\n",
    "    xs.append(x)\n",
    "    values.append(value)\n",
    "\n",
    "xs = np.stack(xs)\n",
    "values = np.stack(values)"
   ]
  },
  {
   "cell_type": "code",
   "execution_count": null,
   "id": "93c0cbc6-e7c2-4cc2-b6e7-bdbd7a197992",
   "metadata": {},
   "outputs": [],
   "source": [
    "min_idx = np.argmin(values)\n",
    "\n",
    "print(\"min location:\", xs[min_idx])\n",
    "print(\"min value:\", values[min_idx])"
   ]
  },
  {
   "cell_type": "markdown",
   "id": "38f7afd6-c4fa-48c6-9654-e52f798c265b",
   "metadata": {},
   "source": [
    "---"
   ]
  },
  {
   "cell_type": "code",
   "execution_count": null,
   "id": "1c3c7103-6933-400d-b380-f8a1aa0d77e8",
   "metadata": {},
   "outputs": [],
   "source": [
    "# from exciting_exciting_systems.utils.metrics import audze_eglais"
   ]
  },
  {
   "cell_type": "code",
   "execution_count": null,
   "id": "c80afb35-6754-4f33-a22c-6c4513e85b6d",
   "metadata": {},
   "outputs": [],
   "source": [
    "def generate_aprbs(amplitudes, durations):\n",
    "    \"\"\"Parameterizable aprbs. This is used to transform the aprbs parameters into a signal.\n",
    "\n",
    "    Not jittable because duration cannot be traced. Seems to be an unsolvable problem for this algorithm.\n",
    "    -> To me it just looks like a bad idea to have the duration be dependent on randomness.\n",
    "    -> An alternative would be fixed full duration and have indexing dependent on the duration? Actually, this is not traceable as well?\n",
    "    \"\"\"\n",
    "    signal = np.concatenate([np.ones(duration) * amplitude for (amplitude, duration) in zip(amplitudes, durations)])\n",
    "    return signal"
   ]
  },
  {
   "cell_type": "code",
   "execution_count": null,
   "id": "7745c781-541c-4940-ae25-55ef41200228",
   "metadata": {},
   "outputs": [],
   "source": [
    "h = 20\n",
    "\n",
    "action_parameters = jnp.concatenate([\n",
    "    jax.random.uniform(\n",
    "        key=next(data_rng),\n",
    "        shape=(h,),\n",
    "        minval=-1,\n",
    "        maxval=1\n",
    "    ),\n",
    "    jax.random.randint(\n",
    "        key=next(data_rng),\n",
    "        shape=(h,),\n",
    "        minval=2,\n",
    "        maxval=50\n",
    "    )\n",
    "])\n",
    "\n",
    "actions = generate_aprbs(\n",
    "    amplitudes=action_parameters[:h],\n",
    "    durations=action_parameters[h:].astype(jnp.int32)\n",
    ")[None, :, None]\n",
    "\n",
    "plt.plot(jnp.squeeze(actions))"
   ]
  },
  {
   "cell_type": "code",
   "execution_count": null,
   "id": "bfbe17fb-e9d9-4f66-893d-623a36a907e7",
   "metadata": {},
   "outputs": [],
   "source": [
    "def soft_penalty(a, a_max=1):\n",
    "    \"\"\"Computes penalty for the given input. Assumes symmetry in all dimensions.\"\"\"\n",
    "    penalty = np.sum(jax.nn.relu(jnp.abs(a) - a_max), axis=(-2, -1))\n",
    "    return np.squeeze(penalty)\n",
    "\n",
    "\n",
    "def featurize_theta(obs):\n",
    "    \"\"\"The angle itself is difficult to properly interpret in the loss as angles\n",
    "    such as 1.99 * pi and 0 are essentially the same. Therefore the angle is \n",
    "    transformed to sin(phi) and cos(phi) for comparison in the loss.\"\"\"\n",
    "\n",
    "    feat_obs = np.stack([np.sin(obs[..., 0] * np.pi), np.cos(obs[..., 0] * np.pi), obs[..., 1]], axis=-1)\n",
    "    return feat_obs\n",
    "\n",
    "\n",
    "def audze_eglais(data_points: jnp.ndarray) -> jnp.ndarray:\n",
    "    \"\"\"From [Smits+Nelles2024]. The maximin-desing penalizes points that\n",
    "    are too close in the point distribution.\n",
    "\n",
    "    TODO: There has to be a more efficient way to do this.\n",
    "    \"\"\"\n",
    "    N = data_points.shape[0]\n",
    "    distance_matrix = np.linalg.norm(data_points[:, None, :] - data_points[None, ...], axis=-1)\n",
    "    # distances = distance_matrix[jax.numpy.triu_indices(N, k=1)]\n",
    "    distances = distance_matrix[np.triu_indices(N, k=1)]\n",
    "    \n",
    "    return 2 / (N * (N-1)) * np.sum(1 / distances**2)"
   ]
  },
  {
   "cell_type": "code",
   "execution_count": null,
   "id": "9979ea7c-28ce-4643-bec7-a5e7e795907a",
   "metadata": {},
   "outputs": [],
   "source": [
    "def fitness_function(\n",
    "    env,\n",
    "    obs,\n",
    "    state,\n",
    "    action_parameters,\n",
    "    h\n",
    "):\n",
    "    actions = generate_aprbs(\n",
    "        amplitudes=action_parameters[:h],\n",
    "        durations=action_parameters[h:].astype(np.int32)\n",
    "    )[None, :, None]\n",
    "\n",
    "    max_signal_length = h * 50\n",
    "    diff_to_max = max_signal_length - actions.shape[1]\n",
    "\n",
    "    padded_actions = jnp.concatenate([actions, jnp.zeros((1, diff_to_max, 1))], axis=1)\n",
    "    \n",
    "    padded_observations = jax.vmap(simulate_ahead_with_env, in_axes=(None, 0, 0, 0, 0, 0, 0))(\n",
    "        env,\n",
    "        obs,\n",
    "        state,\n",
    "        padded_actions,\n",
    "        env.env_state_normalizer,\n",
    "        env.action_normalizer,\n",
    "        env.static_params\n",
    "    )\n",
    "    padded_observations = np.array(padded_observations)\n",
    "    actions = np.array(actions)\n",
    "    \n",
    "    padded_feat_observations = featurize_theta(padded_observations[0])\n",
    "\n",
    "    observations = padded_observations[:, :-diff_to_max, :]\n",
    "    feat_observations = padded_feat_observations[:-diff_to_max, :]\n",
    "    actions = padded_actions[:, :-diff_to_max, :]\n",
    "\n",
    "    \n",
    "    ae_score = audze_eglais(\n",
    "        data_points=feat_observations,\n",
    "    )\n",
    "    #ae_score = audze_eglais(feat_observations)\n",
    "    \n",
    "    rho_obs = 1e8\n",
    "    rho_act = 1e8\n",
    "    penalty_terms = rho_obs * soft_penalty(a=observations, a_max=1) + rho_act * soft_penalty(a=actions, a_max=1)\n",
    "    \n",
    "    return jnp.squeeze(ae_score).item() + penalty_terms.item()"
   ]
  },
  {
   "cell_type": "code",
   "execution_count": null,
   "id": "99663e29-12b9-4b6b-9aa5-74bf63ad2cfa",
   "metadata": {},
   "outputs": [],
   "source": [
    "h = 20\n",
    "\n",
    "continuous_dim = h\n",
    "discrete_dim = h\n",
    "\n",
    "population_size = 21\n",
    "n_generations = 100\n",
    "\n",
    "bounds = np.concatenate(\n",
    "    [\n",
    "        np.tile([-1, 1], (continuous_dim, 1)),\n",
    "        np.tile([1, 50], (discrete_dim, 1)),\n",
    "    ]\n",
    ")\n",
    "\n",
    "steps = np.concatenate([np.zeros(continuous_dim), np.ones(discrete_dim)])"
   ]
  },
  {
   "cell_type": "code",
   "execution_count": null,
   "id": "916f87b1-b531-4dfc-bfc8-22aa36a68fa3",
   "metadata": {},
   "outputs": [],
   "source": [
    "optimizer = CMAwM(\n",
    "    mean=np.hstack([np.zeros(h), np.ones(h) * 25]),\n",
    "    sigma=2.0,\n",
    "    population_size=population_size,\n",
    "    bounds=bounds,\n",
    "    steps=steps\n",
    ")\n",
    "\n",
    "obs, env_state = env.reset()\n",
    "obs = obs.astype(jnp.float32)\n",
    "env_state = state.astype(jnp.float32)\n",
    "\n",
    "for generation in tqdm(range(n_generations)):\n",
    "    solutions = []\n",
    "    for i in range(optimizer.population_size):        \n",
    "        x_for_eval, x_for_tell = optimizer.ask()\n",
    "        value = fitness_function(\n",
    "            env,\n",
    "            obs,\n",
    "            env_state,\n",
    "            x_for_eval,\n",
    "            h\n",
    "        )\n",
    "        \n",
    "        solutions.append((x_for_tell, value))\n",
    "        # if (generation % 10) == 0:\n",
    "        #     print(f\"#{generation} {value} (x1={x[0]}, x2 = {x[1]})\")\n",
    "    optimizer.tell(solutions)"
   ]
  },
  {
   "cell_type": "code",
   "execution_count": null,
   "id": "e97afb26-2ecc-4532-8f3f-3e030d5c2ca9",
   "metadata": {},
   "outputs": [],
   "source": [
    "xs, values = [], []\n",
    "for x, value in solutions:\n",
    "    xs.append(x)\n",
    "    values.append(value)\n",
    "\n",
    "xs = np.stack(xs)\n",
    "values = np.stack(values)"
   ]
  },
  {
   "cell_type": "code",
   "execution_count": null,
   "id": "bc49c961-5ed5-4c9e-8c91-3a048b32f857",
   "metadata": {},
   "outputs": [],
   "source": [
    "min_idx = np.argmin(values)\n",
    "\n",
    "print(\"min location:\", xs[min_idx])\n",
    "print(\"min value:\", values[min_idx])"
   ]
  },
  {
   "cell_type": "code",
   "execution_count": null,
   "id": "33bf3e3e-3b55-439b-b358-ad67373ee75c",
   "metadata": {},
   "outputs": [],
   "source": [
    "x_for_eval, _ = optimizer.ask()"
   ]
  },
  {
   "cell_type": "code",
   "execution_count": null,
   "id": "99197acf-8671-4949-9090-71bb40aa194a",
   "metadata": {},
   "outputs": [],
   "source": [
    "actions = generate_aprbs(\n",
    "    amplitudes=x_for_eval[:h],\n",
    "    durations=x_for_eval[h:].astype(np.int32)\n",
    ")[None, :, None]\n",
    "\n",
    "obs, env_state = env.reset()\n",
    "obs = obs.astype(jnp.float32)\n",
    "env_state = env_state.astype(jnp.float32)\n",
    "observations = jax.vmap(simulate_ahead_with_env, in_axes=(None, 0, 0, 0, 0, 0, 0))(\n",
    "    env,\n",
    "    obs,\n",
    "    env_state,\n",
    "    actions,\n",
    "    env.env_state_normalizer,\n",
    "    env.action_normalizer,\n",
    "    env.static_params\n",
    ")\n",
    "\n",
    "fig, axs = plot_sequence(\n",
    "    observations=observations[0, ...],\n",
    "    actions=actions[0, ...],\n",
    "    tau=tau,\n",
    "    obs_labels=[r\"$\\theta$\", r\"$\\omega$\"],\n",
    "    action_labels=[r\"$u$\"],\n",
    ");\n",
    "plt.show()"
   ]
  },
  {
   "cell_type": "markdown",
   "id": "11779b30-faa4-4706-8bd5-89547d8e572d",
   "metadata": {},
   "source": [
    "- good enough for this week...\n",
    "- i think the jit compilation eats a whole lot of time :(\n",
    "- **test without any jitting** -> jax without jitting is slow as hell. What about pure numpy?"
   ]
  },
  {
   "cell_type": "code",
   "execution_count": null,
   "id": "79efba0e-6a89-42f0-8439-fec8157d4b53",
   "metadata": {},
   "outputs": [],
   "source": []
  }
 ],
 "metadata": {
  "kernelspec": {
   "display_name": "Python (conda-dev-base)",
   "language": "python",
   "name": "conda-dev-base"
  },
  "language_info": {
   "codemirror_mode": {
    "name": "ipython",
    "version": 3
   },
   "file_extension": ".py",
   "mimetype": "text/x-python",
   "name": "python",
   "nbconvert_exporter": "python",
   "pygments_lexer": "ipython3",
   "version": "3.11.3"
  }
 },
 "nbformat": 4,
 "nbformat_minor": 5
}
