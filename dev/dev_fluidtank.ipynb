{
 "cells": [
  {
   "cell_type": "code",
   "execution_count": null,
   "id": "0f251e3a-0e7e-46e9-9006-4f46423e47d7",
   "metadata": {},
   "outputs": [],
   "source": [
    "%load_ext autoreload\n",
    "%autoreload 2\n",
    "%reload_ext line_profiler"
   ]
  },
  {
   "cell_type": "code",
   "execution_count": null,
   "id": "6a94d5cb-1841-4920-acc7-6804bc939714",
   "metadata": {},
   "outputs": [],
   "source": [
    "import pathlib\n",
    "import os\n",
    "os.environ['CUDA_VISIBLE_DEVICES'] = '0'\n",
    "os.environ[\"XLA_PYTHON_CLIENT_PREALLOCATE\"]=\"false\"\n",
    "\n",
    "from functools import partial\n",
    "from typing import Callable\n",
    "\n",
    "import time\n",
    "from tqdm.notebook import tqdm\n",
    "import numpy as np\n",
    "import matplotlib.pyplot as plt\n",
    "# plt.rcParams['text.usetex'] = True\n",
    "import matplotlib as mpl\n",
    "mpl.rcParams['text.usetex'] = True\n",
    "mpl.rcParams.update({'font.size': 10})\n",
    "mpl.rcParams['text.latex.preamble']=r\"\\usepackage{bm}\\usepackage{amsmath}\"\n",
    "import plotly.express as px\n",
    "import plotly.graph_objects as go"
   ]
  },
  {
   "cell_type": "code",
   "execution_count": null,
   "id": "58d5461b-ca7b-4d52-9c3d-7c758203ab8f",
   "metadata": {},
   "outputs": [],
   "source": [
    "import jax\n",
    "import jax.numpy as jnp\n",
    "import jax_dataclasses as jdc\n",
    "from jax.tree_util import tree_flatten, tree_unflatten\n",
    "\n",
    "# jax.config.update('jax_platform_name', 'gpu')\n",
    "gpus = jax.devices()\n",
    "jax.config.update(\"jax_default_device\", gpus[0])\n",
    "# jax.config.update(\"jax_enable_x64\", True)\n",
    "\n",
    "import diffrax\n",
    "import equinox as eqx\n",
    "import optax\n",
    "\n",
    "from haiku import PRNGSequence"
   ]
  },
  {
   "cell_type": "code",
   "execution_count": null,
   "id": "853bcb58-f682-49ba-8738-37771378d805",
   "metadata": {},
   "outputs": [],
   "source": [
    "import exciting_environments as excenvs\n",
    "\n",
    "import exciting_exciting_systems\n",
    "from exciting_exciting_systems.models import NeuralEulerODE\n",
    "from exciting_exciting_systems.models.model_utils import simulate_ahead_with_env\n",
    "from exciting_exciting_systems.models.model_training import ModelTrainer\n",
    "from exciting_exciting_systems.excitation import loss_function, Exciter\n",
    "\n",
    "from exciting_exciting_systems.utils.density_estimation import (\n",
    "    update_density_estimate_single_observation, update_density_estimate_multiple_observations, DensityEstimate\n",
    ")\n",
    "from exciting_exciting_systems.utils.signals import aprbs\n",
    "from exciting_exciting_systems.evaluation.plotting_utils import (\n",
    "    plot_sequence, append_predictions_to_sequence_plot, plot_sequence_and_prediction, plot_model_performance, plot_2d_kde_as_contourf\n",
    ")"
   ]
  },
  {
   "cell_type": "markdown",
   "id": "796f7b7e-4f1c-4b23-886f-efe3fd96c0be",
   "metadata": {},
   "source": [
    "---"
   ]
  },
  {
   "cell_type": "code",
   "execution_count": null,
   "id": "0dcf4fcd-9e8e-48a4-8ada-cddc34b2787d",
   "metadata": {},
   "outputs": [],
   "source": [
    "# setup PRNG\n",
    "key = jax.random.PRNGKey(seed=33) # 21)\n",
    "\n",
    "data_key, model_key, loader_key, key = jax.random.split(key, 4)\n",
    "data_rng = PRNGSequence(data_key)"
   ]
  },
  {
   "cell_type": "code",
   "execution_count": null,
   "id": "06fe3e26-4986-4580-adea-00e380d4ed87",
   "metadata": {},
   "outputs": [],
   "source": [
    "batch_size = 1\n",
    "tau = 5e-1 # 5e-2\n",
    "\n",
    "env = excenvs.make(\n",
    "    \"FluidTank-v0\",\n",
    "    tau=tau\n",
    ")"
   ]
  },
  {
   "cell_type": "code",
   "execution_count": null,
   "id": "04ef87df-6267-4315-b1b9-2ea42481abfe",
   "metadata": {},
   "outputs": [],
   "source": [
    "obs, state = env.reset()\n",
    "obs = obs[0]\n",
    "n_steps = 999\n",
    "\n",
    "actions = aprbs(n_steps, batch_size, 10, 100, next(data_rng))[0]"
   ]
  },
  {
   "cell_type": "code",
   "execution_count": null,
   "id": "1422b606-5d45-4072-81bd-e1dfd76a1ba9",
   "metadata": {},
   "outputs": [],
   "source": [
    "observations, state = simulate_ahead_with_env(env, obs, state, actions)\n",
    "\n",
    "print(\"actions.shape:\", actions.shape)\n",
    "print(\"observations.shape:\", observations.shape)\n",
    "\n",
    "print(\" \\n One of the trajectories:\")\n",
    "fig, axs = plot_sequence(\n",
    "    observations=observations,\n",
    "    actions=actions,\n",
    "    tau=tau,\n",
    "    obs_labels=[r\"$h$\"],\n",
    "    action_labels=[r\"$u$\"],\n",
    ");\n",
    "plt.show()"
   ]
  },
  {
   "cell_type": "code",
   "execution_count": null,
   "id": "e058b15f-6511-425f-99da-4980293d4a26",
   "metadata": {},
   "outputs": [],
   "source": [
    "from exciting_exciting_systems.algorithms import excite_with_dmpe"
   ]
  },
  {
   "cell_type": "code",
   "execution_count": null,
   "id": "11d2e206-79a9-4329-8b66-8c1dd8bd7ae7",
   "metadata": {},
   "outputs": [],
   "source": [
    "from exciting_exciting_systems.evaluation.experiment_utils import (\n",
    "    get_experiment_ids, load_experiment_results\n",
    ")"
   ]
  },
  {
   "cell_type": "code",
   "execution_count": null,
   "id": "dc2f253c-0572-4557-b02e-1e71ebba6a17",
   "metadata": {},
   "outputs": [],
   "source": [
    "idx = 0\n",
    "\n",
    "NaN_indices = np.array([5, 61, 65, 69], dtype=int)\n",
    "\n",
    "dmpe_results_path = pathlib.Path(\"/home/hvater@uni-paderborn.de/projects/exciting-exciting-systems/eval/results/dmpe/fluid_tank/\")\n",
    "dmpe_exp_ids = np.array(get_experiment_ids(dmpe_results_path))\n",
    "NaN_cases = dmpe_exp_ids[NaN_indices].tolist()\n",
    "\n",
    "params, observations, actions, model = load_experiment_results(NaN_cases[idx], dmpe_results_path, NeuralEulerODE)"
   ]
  },
  {
   "cell_type": "code",
   "execution_count": null,
   "id": "4876a41b-7195-4c56-b488-54b8bed6b23f",
   "metadata": {},
   "outputs": [],
   "source": [
    "idx = 57\n",
    "\n",
    "params, observations, actions, model = load_experiment_results(dmpe_exp_ids[idx], dmpe_results_path, NeuralEulerODE)"
   ]
  },
  {
   "cell_type": "code",
   "execution_count": null,
   "id": "6f158619-fb8f-4d37-b6f5-4381a0f3ecb8",
   "metadata": {},
   "outputs": [],
   "source": [
    "plot_sequence(observations, actions, env.tau, env.obs_description, env.action_description)"
   ]
  },
  {
   "cell_type": "code",
   "execution_count": null,
   "id": "44767439-1904-4de3-b9ff-28b981162a4e",
   "metadata": {
    "scrolled": true
   },
   "outputs": [],
   "source": [
    "plot_sequence_and_prediction(\n",
    "    observations=observations,\n",
    "    actions=actions,\n",
    "    tau=env.tau,\n",
    "    obs_labels=env.obs_description,\n",
    "    actions_labels=[r\"$u$\"],\n",
    "    model=model,\n",
    "    init_obs=observations[-1],\n",
    "    proposed_actions=-jnp.ones(100)[..., None],\n",
    ")"
   ]
  },
  {
   "cell_type": "code",
   "execution_count": null,
   "id": "888c62df-32fc-43df-881b-b1c8f20e2ac3",
   "metadata": {},
   "outputs": [],
   "source": [
    "env_params = dict(\n",
    "    batch_size=1,\n",
    "    tau=5e-1,\n",
    "    max_height=3,\n",
    "    max_inflow=0.2,\n",
    "    base_area=jnp.pi,\n",
    "    orifice_area=jnp.pi * 0.1**2,\n",
    "    c_d=0.6,\n",
    "    g=9.81,\n",
    "    env_solver=diffrax.Euler(),\n",
    ")\n",
    "env = excenvs.make(\n",
    "    \"FluidTank-v0\",\n",
    "    physical_constraints=dict(height=env_params[\"max_height\"]),\n",
    "    action_constraints=dict(inflow=env_params[\"max_inflow\"]),\n",
    "    static_params=dict(\n",
    "        base_area=env_params[\"base_area\"],\n",
    "        orifice_area=env_params[\"orifice_area\"],\n",
    "        c_d=env_params[\"c_d\"],\n",
    "        g=env_params[\"g\"],\n",
    "    ),\n",
    "    tau=env_params[\"tau\"],\n",
    "    solver=env_params[\"env_solver\"],\n",
    ")\n",
    "\n",
    "alg_params = dict(\n",
    "    bandwidth=0.025,\n",
    "    n_prediction_steps=100,\n",
    "    points_per_dim=50,\n",
    "    action_lr=1e-1,\n",
    "    n_opt_steps=10,\n",
    "    rho_obs=1,\n",
    "    rho_act=1,\n",
    "    penalty_order=1,\n",
    "    clip_action=True,\n",
    ")\n",
    "\n",
    "model_trainer_params = dict(\n",
    "    start_learning=alg_params[\"n_prediction_steps\"],\n",
    "    training_batch_size=128,\n",
    "    n_train_steps=1,\n",
    "    sequence_length=alg_params[\"n_prediction_steps\"],\n",
    "    featurize=lambda x: x,\n",
    "    model_lr=1e-4,\n",
    ")\n",
    "model_params = dict(obs_dim=env.physical_state_dim, action_dim=env.action_dim, width_size=128, depth=3, key=None)\n",
    "\n",
    "exp_params = dict(\n",
    "    seed=None,\n",
    "    n_timesteps=5_000,\n",
    "    model_class=NeuralEulerODE,\n",
    "    env_params=env_params,\n",
    "    alg_params=alg_params,\n",
    "    model_trainer_params=model_trainer_params,\n",
    "    model_params=model_params,\n",
    ")\n",
    "seeds = list(np.arange(1, 101))\n",
    "\n",
    "seed = seeds[idx]\n",
    "\n",
    "exp_params[\"seed\"] = int(seed)\n",
    "\n",
    "# setup PRNG\n",
    "key = jax.random.PRNGKey(seed=exp_params[\"seed\"])\n",
    "data_key, model_key, loader_key, expl_key, key = jax.random.split(key, 5)\n",
    "data_rng = PRNGSequence(data_key)\n",
    "exp_params[\"model_params\"][\"key\"] = model_key\n"
   ]
  },
  {
   "cell_type": "code",
   "execution_count": null,
   "id": "93ac4a2c-0a49-40fe-987c-aeecbfa55fa6",
   "metadata": {},
   "outputs": [],
   "source": [
    "model = exp_params[\"model_class\"](**exp_params[\"model_params\"])"
   ]
  },
  {
   "cell_type": "code",
   "execution_count": null,
   "id": "aac9c176-d230-4aad-ba48-3ed5769a1ef8",
   "metadata": {},
   "outputs": [],
   "source": [
    "def plot_model_trajectory(model, obs, actions, tau, obs_labels, action_labels):\n",
    "\n",
    "    pred_observations = exciting_exciting_systems.models.model_utils.simulate_ahead(model, obs, actions, tau)\n",
    "\n",
    "    fig, axs = plot_sequence(\n",
    "        observations=pred_observations,\n",
    "        actions=actions,\n",
    "        tau=tau,\n",
    "        obs_labels=obs_labels,\n",
    "        action_labels=action_labels\n",
    "    )"
   ]
  },
  {
   "cell_type": "code",
   "execution_count": null,
   "id": "497605c3-ad99-4856-8baf-1d48e05026fe",
   "metadata": {},
   "outputs": [],
   "source": [
    "obs, state = env.reset()\n",
    "obs = obs[0]\n",
    " \n",
    "plot_model_trajectory(\n",
    "    model,\n",
    "    obs=obs,\n",
    "    actions=+jnp.ones(10)[..., None],\n",
    "    tau=env.tau,\n",
    "    obs_labels=env.obs_description,\n",
    "    action_labels=env.action_description,\n",
    ")"
   ]
  },
  {
   "cell_type": "code",
   "execution_count": null,
   "id": "5f2d5d15-950b-483e-8d02-824dfde43ec1",
   "metadata": {},
   "outputs": [],
   "source": [
    "obs, state = env.reset()\n",
    "obs = obs[0]\n",
    " \n",
    "plot_model_trajectory(\n",
    "    exciting_exciting_systems.models.model_utils.ModelEnvWrapper(env),\n",
    "    obs=obs,\n",
    "    actions=jnp.ones(10)[..., None],\n",
    "    tau=env.tau,\n",
    "    obs_labels=env.obs_description,\n",
    "    action_labels=env.action_description,\n",
    ")"
   ]
  },
  {
   "cell_type": "code",
   "execution_count": null,
   "id": "ea4f8be0-5b4e-4389-aef7-19d0678b64ca",
   "metadata": {},
   "outputs": [],
   "source": []
  },
  {
   "cell_type": "code",
   "execution_count": null,
   "id": "f06c3036-ddd5-4da5-af04-e895f5d1a083",
   "metadata": {
    "scrolled": true
   },
   "outputs": [],
   "source": [
    "observations, actions, model, density_estimate, losses, proposed_actions = excite_with_dmpe(\n",
    "    env, params, proposed_actions, loader_key, expl_key, plot_every=100\n",
    ")"
   ]
  },
  {
   "cell_type": "code",
   "execution_count": null,
   "id": "5551cdeb-981c-4b56-8897-47822eb3e224",
   "metadata": {},
   "outputs": [],
   "source": [
    "from copy import deepcopy\n",
    "from exciting_exciting_systems.models.model_utils import simulate_ahead"
   ]
  },
  {
   "cell_type": "code",
   "execution_count": null,
   "id": "e91ff49f-3ec4-4ca9-969c-d7f1712b0b8b",
   "metadata": {},
   "outputs": [],
   "source": [
    "from exciting_exciting_systems.excitation.excitation_utils import optimize_actions"
   ]
  },
  {
   "cell_type": "code",
   "execution_count": null,
   "id": "66ef3ff5-d9af-4394-8613-24ffb6816f4b",
   "metadata": {},
   "outputs": [],
   "source": [
    "init_obs = observations[~jnp.isnan(observations)][-1][None]\n",
    "init_state = env.State(physical_state=env.PhysicalState(height=(obs + 1) * 1.5), PRNGKey=0, optional=env.Optional(0))\n",
    "action = actions[~jnp.isnan(observations)[:-1]][-1][None]\n",
    "\n",
    "\n",
    "k = observations.shape[0]\n",
    "\n",
    "prpsed_actions = deepcopy(proposed_actions)\n",
    "dnsty_estimate = deepcopy(density_estimate)\n",
    "\n",
    "# env.step(state, action, env.env_properties)"
   ]
  },
  {
   "cell_type": "code",
   "execution_count": null,
   "id": "f5168fe9-5e23-4596-915f-87cda8212359",
   "metadata": {},
   "outputs": [],
   "source": [
    "prpsed_actions.shape"
   ]
  },
  {
   "cell_type": "code",
   "execution_count": null,
   "id": "38ec9264-0242-4acc-a3a6-b273039fbc3e",
   "metadata": {},
   "outputs": [],
   "source": [
    "obs = observations[~jnp.isnan(observations)][-1][None]\n",
    "state = env.State(physical_state=env.PhysicalState(height=(obs + 1) * 1.5), PRNGKey=0, optional=env.Optional(0))"
   ]
  },
  {
   "cell_type": "code",
   "execution_count": null,
   "id": "e625180d-bb05-443e-9af9-837195dea07b",
   "metadata": {},
   "outputs": [],
   "source": [
    "obs"
   ]
  },
  {
   "cell_type": "code",
   "execution_count": null,
   "id": "8f2d396d-2660-4ecb-8b9b-1b562ba0fb99",
   "metadata": {},
   "outputs": [],
   "source": [
    "test_key = jax.random.PRNGKey(seed=2)\n",
    "test_rng = PRNGSequence(test_key)\n",
    "\n",
    "exciter = Exciter(\n",
    "    loss_function=loss_function,\n",
    "    grad_loss_function=jax.value_and_grad(loss_function, argnums=(2)),\n",
    "    excitation_optimizer=optax.adabelief(1e-3),\n",
    "    tau=tau,\n",
    "    n_opt_steps=100,\n",
    "    target_distribution=jnp.ones(shape=(50**2, 1)) * 1 / (1 - (-1))**2,\n",
    "    rho_obs=1,\n",
    "    rho_act=1,\n",
    "    penalty_order=1,\n",
    "    clip_action=True\n",
    ")"
   ]
  },
  {
   "cell_type": "code",
   "execution_count": null,
   "id": "7b99f6d1-25ed-46a0-869f-c0de5246c396",
   "metadata": {},
   "outputs": [],
   "source": [
    "new_observations = []\n",
    "        \n",
    "prpsed_actions, loss = optimize_actions(#, in_axes=(None, None, 0, None, None, 0, None, None, None, None, None, None, None))(\n",
    "    exciter.loss_function,\n",
    "    exciter.grad_loss_function,\n",
    "    prpsed_actions,\n",
    "    model,\n",
    "    exciter.excitation_optimizer,\n",
    "    obs,\n",
    "    dnsty_estimate,\n",
    "    exciter.n_opt_steps,\n",
    "    exciter.tau,\n",
    "    exciter.target_distribution,\n",
    "    exciter.rho_obs,\n",
    "    exciter.rho_act,\n",
    "    exciter.penalty_order\n",
    ")\n",
    "\n",
    "action = prpsed_actions[0, :]\n",
    "\n",
    "action = jax.lax.cond(\n",
    "    exciter.clip_action,\n",
    "    jnp.clip,\n",
    "    lambda action, min_val, max_val: action,\n",
    "    action,\n",
    "    -1,\n",
    "    1,\n",
    ")\n",
    "\n",
    "next_proposed_actions = prpsed_actions.at[:-1, :].set(prpsed_actions[1:, :])\n",
    "\n",
    "new_proposed_actions = jax.random.uniform(key=test_key, minval=-1, maxval=1)\n",
    "next_proposed_actions = next_proposed_actions.at[-1, :].set(new_proposed_action)\n",
    "\n",
    "\n",
    "\n",
    "dnsty_estimate = update_density_estimate_single_observation(\n",
    "    dnsty_estimate, jnp.concatenate([obs, action], axis=-1)\n",
    ")\n",
    "\n",
    "prpsed_actions = next_proposed_actions\n",
    "\n",
    "obs, _, _, _, state = env.step(state, action, env.env_properties)\n",
    "\n",
    "new_observations.append(obs)\n",
    "\n",
    "obs"
   ]
  },
  {
   "cell_type": "code",
   "execution_count": null,
   "id": "fd44202c-183b-4b69-8f70-034416cd2a20",
   "metadata": {},
   "outputs": [],
   "source": []
  },
  {
   "cell_type": "code",
   "execution_count": null,
   "id": "c1ad75cc-a588-4342-b86c-453d16d01d11",
   "metadata": {},
   "outputs": [],
   "source": [
    "env_params = dict(batch_size=1, tau=5e-1, env_solver=diffrax.Euler())\n",
    "env = excenvs.make(\n",
    "    \"FluidTank-v0\",\n",
    "    tau=env_params[\"tau\"],\n",
    "    solver=env_params[\"env_solver\"]\n",
    ")\n",
    "\n",
    "\n",
    "# alg_params = dict(\n",
    "#     bandwidth=0.1, n_prediction_steps=100, points_per_dim=50, action_lr=1e-1, n_opt_steps=10, rho_obs=1, rho_act=1\n",
    "# )\n",
    "\n",
    "alg_params = dict(\n",
    "    bandwidth=0.05, n_prediction_steps=100, points_per_dim=50, action_lr=1e-3, n_opt_steps=100, rho_obs=1, rho_act=1, penalty_order=1\n",
    ")\n",
    "\n",
    "model_trainer_params = dict(\n",
    "    start_learning=alg_params[\"n_prediction_steps\"],\n",
    "    training_batch_size=128,\n",
    "    n_train_steps=1,\n",
    "    sequence_length=alg_params[\"n_prediction_steps\"],\n",
    "    featurize=lambda obs: obs,\n",
    "    model_lr=1e-4,\n",
    ")\n",
    "model_params = dict(obs_dim=env.physical_state_dim, action_dim=env.action_dim, width_size=128, depth=3, key=None)\n",
    "\n",
    "exp_params = dict(\n",
    "    seed=seed,\n",
    "    n_timesteps=5_000,\n",
    "    model_class=NeuralEulerODE,\n",
    "    env_params=env_params,\n",
    "    alg_params=alg_params,\n",
    "    model_trainer_params=model_trainer_params,\n",
    ")\n",
    "\n",
    "key = jax.random.PRNGKey(seed=exp_params[\"seed\"])\n",
    "data_key, model_key, loader_key, expl_key, key = jax.random.split(key, 5)\n",
    "data_rng = PRNGSequence(data_key)\n",
    "\n",
    "model_params[\"key\"] = model_key\n",
    "exp_params[\"model_params\"] = model_params\n",
    "\n",
    "# initial guess\n",
    "proposed_actions = aprbs(alg_params[\"n_prediction_steps\"], env.batch_size, 1, 10, next(data_rng))[0]\n",
    "\n",
    "# run excitation algorithm\n",
    "dmpe_observations, dmpe_actions, model, density_estimate, losses, proposed_actions = excite_with_dmpe(\n",
    "    env, exp_params, proposed_actions, loader_key, expl_key, plot_every=1000\n",
    ")"
   ]
  },
  {
   "cell_type": "code",
   "execution_count": null,
   "id": "d2abd67e-cf16-4a04-8cef-f4501ec47a0d",
   "metadata": {},
   "outputs": [],
   "source": []
  },
  {
   "cell_type": "code",
   "execution_count": null,
   "id": "9889c980-7267-4156-bc7b-38339613f021",
   "metadata": {},
   "outputs": [],
   "source": [
    "fig, axs = plot_sequence(\n",
    "    observations=dmpe_observations,\n",
    "    actions=dmpe_actions,\n",
    "    tau=tau,\n",
    "    obs_labels=[r\"$h$\"],\n",
    "    action_labels=[r\"$q_{in}$\"],\n",
    ");\n",
    "plt.show()"
   ]
  },
  {
   "cell_type": "code",
   "execution_count": null,
   "id": "fcf2f017-fd62-4575-be02-7b79821ee29c",
   "metadata": {},
   "outputs": [],
   "source": [
    "def plot_observations(observations, actions, tau, obs_labels, action_labels, fig=None, axs=None, dotted=False):    \n",
    "    fig, axs = plt.subplots(nrows=1, ncols=2, figsize=(19, 9.5))\n",
    "    \n",
    "    t = jnp.linspace(0, observations.shape[0] - 1, observations.shape[0]) * tau\n",
    "    \n",
    "    for observation_idx in range(observations.shape[-1]):\n",
    "        axs[0].plot(\n",
    "            t,\n",
    "            jnp.squeeze(observations[..., observation_idx]),\n",
    "            \".\" if dotted else \"-\",\n",
    "            markersize=1,\n",
    "            label=obs_labels[observation_idx],\n",
    "        )\n",
    "    axs[0].title.set_text(\"observations, timeseries\")\n",
    "    axs[0].legend()\n",
    "    axs[0].set_ylabel(r\"$\\bm{x}$\")\n",
    "    axs[0].set_xlabel(\"$t$ in seconds\")\n",
    "    \n",
    "    axs[1].scatter(jnp.squeeze(actions[..., 0]), jnp.squeeze(observations[:-1, 0]), s=1)\n",
    "    axs[1].title.set_text(\"observation $\\\\times$ action plane\")\n",
    "    axs[1].set_ylabel(obs_labels[0])\n",
    "    axs[1].set_xlabel(action_labels[0])\n",
    "    \n",
    "    # for action_idx in range(actions.shape[-1]):\n",
    "    #     axs[2].plot(t[:-1], jnp.squeeze(actions[..., action_idx]), label=action_labels[action_idx])\n",
    "    \n",
    "    # axs[2].title.set_text(\"actions, timeseries\")\n",
    "    # axs[2].legend()\n",
    "    # axs[2].set_ylabel(r\"$\\bm{u}$\")\n",
    "    # axs[2].set_xlabel(r\"$t$ in seconds\")\n",
    "    \n",
    "    for ax in axs:\n",
    "        ax.grid(True)\n",
    "    fig.tight_layout()\n",
    "    return fig, axs"
   ]
  },
  {
   "cell_type": "code",
   "execution_count": null,
   "id": "b256edd7-053c-4412-b31a-3243518a4307",
   "metadata": {},
   "outputs": [],
   "source": [
    "fig, axs = plot_observations(\n",
    "    observations=dmpe_observations,\n",
    "    actions=dmpe_actions,\n",
    "    tau=tau,\n",
    "    obs_labels=[r\"$h$\"],\n",
    "    action_labels=[r\"$q_{in}$\"],\n",
    ");\n",
    "plt.show()"
   ]
  },
  {
   "cell_type": "code",
   "execution_count": null,
   "id": "08a31667-8cf0-499a-ae76-f7694549a1d3",
   "metadata": {},
   "outputs": [],
   "source": [
    "density_estimate = DensityEstimate.from_dataset(dmpe_observations, dmpe_actions, bandwidth=0.05)\n",
    "fig, axs, cax = plot_2d_kde_as_contourf(density_estimate.p, density_estimate.x_g, observation_labels=[\"$h$\", \"$u$\"])"
   ]
  },
  {
   "cell_type": "code",
   "execution_count": null,
   "id": "b09eb8a5-c57f-4e87-8201-dfcccb75a0f2",
   "metadata": {},
   "outputs": [],
   "source": [
    "from exciting_exciting_systems.related_work.algorithms import excite_with_sGOATS, excite_with_GOATS, excite_with_iGOATS"
   ]
  },
  {
   "cell_type": "code",
   "execution_count": null,
   "id": "e2af381c-1914-483a-a9b0-24b6eb9192c4",
   "metadata": {
    "scrolled": true
   },
   "outputs": [],
   "source": [
    "# current version is a bit sketchy, because it jit-compiles the episode rollout for all input sequence lengths that are presented....\n",
    "# but this is wayy faster than just computing it as is\n",
    "\n",
    "sgoats_observations, sgoats_actions = excite_with_sGOATS(\n",
    "    n_amplitudes=200,\n",
    "    n_amplitude_groups=5,\n",
    "    reuse_observations=True,\n",
    "    env=env,\n",
    "    bounds_duration=(1, 50),\n",
    "    population_size=50,\n",
    "    n_generations=100,\n",
    "    featurize=lambda obs: obs,\n",
    "    rng=np.random.default_rng(seed=seed),\n",
    "    verbose=True\n",
    ")"
   ]
  },
  {
   "cell_type": "code",
   "execution_count": null,
   "id": "4e94bf55-e6f1-414a-aca4-f4405c02c44e",
   "metadata": {},
   "outputs": [],
   "source": [
    "fig, axs = plot_sequence(\n",
    "    observations=sgoats_observations,\n",
    "    actions=sgoats_actions[:-1, :],\n",
    "    tau=tau,\n",
    "    obs_labels=[r\"$h$\"],\n",
    "    action_labels=[r\"$u$\"],\n",
    ");\n",
    "plt.show()"
   ]
  },
  {
   "cell_type": "code",
   "execution_count": null,
   "id": "cfea010e-812e-469c-a0c1-0c496313ef23",
   "metadata": {},
   "outputs": [],
   "source": [
    "sgoats_density_estimate = DensityEstimate.from_dataset(sgoats_observations, sgoats_actions[:-1, :], bandwidth=0.05)\n",
    "fig, axs, cax = plot_2d_kde_as_contourf(sgoats_density_estimate.p, sgoats_density_estimate.x_g, observation_labels=[\"$h$\", \"$u$\"])"
   ]
  },
  {
   "cell_type": "markdown",
   "id": "081efb6b-ea5f-4e25-a562-5b56423f6082",
   "metadata": {},
   "source": [
    "metrics:"
   ]
  },
  {
   "cell_type": "code",
   "execution_count": null,
   "id": "59cc9fab-f026-4593-9e20-d291a87630aa",
   "metadata": {},
   "outputs": [],
   "source": [
    "from exciting_exciting_systems.utils.metrics import JSDLoss\n",
    "from exciting_exciting_systems.related_work.np_reimpl.metrics import (\n",
    "    MC_uniform_sampling_distribution_approximation, audze_eglais\n",
    ")\n",
    "from exciting_exciting_systems.related_work.excitation_utils import latin_hypercube_sampling"
   ]
  },
  {
   "cell_type": "code",
   "execution_count": null,
   "id": "af1b7860-aa19-4c29-b71d-d3823228a6a9",
   "metadata": {},
   "outputs": [],
   "source": [
    "dim = 2\n",
    "points_per_dim = 30\n",
    "\n",
    "target_distribution = jnp.ones(shape=(points_per_dim**dim, 1))[None]\n",
    "\n",
    "dmpe_density_estimate = DensityEstimate.from_dataset(dmpe_observations, dmpe_actions, points_per_dim=points_per_dim, bandwidth=0.05)\n",
    "sgoats_density_estimate = DensityEstimate.from_dataset(sgoats_observations, sgoats_actions[:-1, :], points_per_dim=points_per_dim, bandwidth=0.05)\n",
    "\n",
    "dmpe_jsd_loss = JSDLoss(\n",
    "    p=dmpe_density_estimate.p / jnp.sum(dmpe_density_estimate.p),\n",
    "    q=target_distribution / jnp.sum(target_distribution),\n",
    ")\n",
    "print(\"dmpe jsd loss: \", dmpe_jsd_loss)\n",
    "\n",
    "sgoats_jsd_loss = JSDLoss(\n",
    "    p=sgoats_density_estimate.p / jnp.sum(sgoats_density_estimate.p),\n",
    "    q=target_distribution / jnp.sum(target_distribution),\n",
    ")\n",
    "print(\"sgoats jsd loss: \", sgoats_jsd_loss)"
   ]
  },
  {
   "cell_type": "code",
   "execution_count": null,
   "id": "9a93d8c8-0720-4499-884e-1eb21d6a3998",
   "metadata": {},
   "outputs": [],
   "source": [
    "support_points = latin_hypercube_sampling(d=dim, n=30**dim, rng=np.random.default_rng())\n",
    "\n",
    "dmpe_mcudsa_loss = MC_uniform_sampling_distribution_approximation(\n",
    "    data_points=np.concatenate([dmpe_observations[:-1, :], dmpe_actions], axis=-1),\n",
    "    support_points=support_points\n",
    ")\n",
    "print(\"dmpe mcudsa loss: \", dmpe_mcudsa_loss)\n",
    "\n",
    "sgoats_mcudsa_loss = MC_uniform_sampling_distribution_approximation(\n",
    "    data_points=np.concatenate([sgoats_observations, sgoats_actions], axis=-1),\n",
    "    support_points=support_points\n",
    ")\n",
    "print(\"sgoats mcudsa loss: \", sgoats_mcudsa_loss)"
   ]
  },
  {
   "cell_type": "code",
   "execution_count": null,
   "id": "bcac2efb-5b43-4a64-ba8a-779ce2ab2084",
   "metadata": {},
   "outputs": [],
   "source": [
    "dmpe_ae_loss = audze_eglais(np.concatenate([dmpe_observations[:-1, :], dmpe_actions], axis=-1))\n",
    "print(\"dmpe ae loss: \", dmpe_ae_loss)\n",
    "\n",
    "sgoats_ae_loss = audze_eglais(np.concatenate([sgoats_observations, sgoats_actions], axis=-1))\n",
    "print(\"sgoats ae loss: \", sgoats_ae_loss)"
   ]
  },
  {
   "cell_type": "code",
   "execution_count": null,
   "id": "ae6d2505-5815-4eed-bf32-d91425760a53",
   "metadata": {},
   "outputs": [],
   "source": [
    "raise"
   ]
  },
  {
   "cell_type": "markdown",
   "id": "9cdab2ba-c6bd-4459-84fb-9ebc6b807981",
   "metadata": {},
   "source": [
    "# Rest:"
   ]
  },
  {
   "cell_type": "code",
   "execution_count": null,
   "id": "fcc4bc28-e854-4aa8-83de-0135ce394042",
   "metadata": {},
   "outputs": [],
   "source": [
    "bandwidth = 0.1\n",
    "n_prediction_steps = 50\n",
    "\n",
    "dim = 2\n",
    "points_per_dim = 50\n",
    "n_grid_points=points_per_dim**dim\n",
    "\n",
    "n_timesteps = 5_000 #15_000"
   ]
  },
  {
   "cell_type": "code",
   "execution_count": null,
   "id": "aac229c9-1c34-4023-ad53-b97dace30595",
   "metadata": {},
   "outputs": [],
   "source": [
    "obs, state = env.reset()\n",
    "obs = obs.astype(jnp.float32)\n",
    "state = state.astype(jnp.float32)\n",
    "\n",
    "observations = jnp.zeros((n_timesteps, env.env_observation_space.shape[-1]))\n",
    "observations = observations.at[0].set(obs[0])\n",
    "actions = jnp.zeros((n_timesteps-1, env.action_space.shape[-1]))\n",
    "\n",
    "proposed_actions = aprbs(n_prediction_steps, batch_size, 1, 10, next(data_rng))\n",
    "# proposed_actions = (proposed_actions + 1) / 2  # remap from (-1, 1) to (0, 1)"
   ]
  },
  {
   "cell_type": "code",
   "execution_count": null,
   "id": "9aa21152-7e77-4c83-a7a2-baf801432eda",
   "metadata": {},
   "outputs": [],
   "source": [
    "exciter = Exciter(\n",
    "    grad_loss_function=jax.grad(loss_function, argnums=(3)),\n",
    "    excitation_optimizer=optax.adabelief(1e-1),\n",
    "    tau=tau,\n",
    "    target_distribution=jnp.ones(shape=(n_grid_points, 1)) * 1 / (env.env_observation_space.high - env.env_observation_space.low)**dim  # transposed pdf_vectorfield instead as a test\n",
    ")\n",
    "\n",
    "model_trainer = ModelTrainer(\n",
    "    start_learning=n_prediction_steps,\n",
    "    training_batch_size=32,\n",
    "    n_train_steps=2,\n",
    "    sequence_length=n_prediction_steps,\n",
    "    featurize=lambda obs: obs,\n",
    "    model_optimizer=optax.adabelief(1e-4),\n",
    "    tau=tau\n",
    ")\n",
    "\n",
    "density_estimate = DensityEstimate(\n",
    "    p=jnp.zeros([batch_size, n_grid_points, 1]),\n",
    "    x_g=eesys.utils.density_estimation.build_grid_2d(\n",
    "        low=env.env_observation_space.low,\n",
    "        high=env.env_observation_space.high,\n",
    "        points_per_dim=points_per_dim\n",
    "    ),\n",
    "    bandwidth=jnp.array([bandwidth]),\n",
    "    n_observations=jnp.array([0])\n",
    ")\n",
    "\n",
    "model = NeuralEulerODE(\n",
    "    obs_dim=env.env_observation_space.shape[-1],\n",
    "    action_dim=env.action_space.shape[-1],\n",
    "    width_size=128,\n",
    "    depth=3,\n",
    "    key=model_key\n",
    ")\n",
    "\n",
    "opt_state_model = model_trainer.model_optimizer.init(eqx.filter(model, eqx.is_inexact_array))"
   ]
  },
  {
   "cell_type": "code",
   "execution_count": null,
   "id": "622fd7a9-d2b3-46cf-95d0-cd64ce3f43ec",
   "metadata": {},
   "outputs": [],
   "source": [
    "from exciting_exciting_systems.algorithms import excite_and_fit"
   ]
  },
  {
   "cell_type": "code",
   "execution_count": null,
   "id": "997397db-9a58-4f6c-ac52-dadfffc3f905",
   "metadata": {},
   "outputs": [],
   "source": [
    "# with jax.profiler.trace(\"/tmp/jax-trace\", create_perfetto_trace=True):\n",
    "#     observations, actions, model, density_estimate = excite_and_fit(\n",
    "#         n_timesteps=n_timesteps,\n",
    "#         env=env,\n",
    "#         model=model,\n",
    "#         obs=obs,\n",
    "#         state=state,\n",
    "#         proposed_actions=proposed_actions,\n",
    "#         exciter=exciter,\n",
    "#         model_trainer=model_trainer,\n",
    "#         density_estimate=density_estimate,\n",
    "#         observations=observations,\n",
    "#         actions=actions,\n",
    "#         opt_state_model=opt_state_model,\n",
    "#         loader_key=loader_key\n",
    "#     )\n",
    "#     observations.block_until_ready()"
   ]
  },
  {
   "cell_type": "code",
   "execution_count": null,
   "id": "df2bf955-05a3-425f-9bd9-07239d6bf282",
   "metadata": {},
   "outputs": [],
   "source": [
    "observations, actions, model, density_estimate = excite_and_fit(\n",
    "    n_timesteps=n_timesteps,\n",
    "    env=env,\n",
    "    model=model,\n",
    "    obs=obs,\n",
    "    state=state,\n",
    "    proposed_actions=proposed_actions,\n",
    "    exciter=exciter,\n",
    "    model_trainer=model_trainer,\n",
    "    density_estimate=density_estimate,\n",
    "    observations=observations,\n",
    "    actions=actions,\n",
    "    opt_state_model=opt_state_model,\n",
    "    loader_key=loader_key\n",
    ")"
   ]
  },
  {
   "cell_type": "code",
   "execution_count": null,
   "id": "402fadcc-b0f6-48b8-a65d-f0cc042e9d27",
   "metadata": {},
   "outputs": [],
   "source": [
    "fig, axs = plot_sequence(\n",
    "    observations,\n",
    "    actions,\n",
    "    tau=tau,\n",
    "    obs_labels=[r\"$h$\"],\n",
    "    action_labels=[r\"$q_{in}$\"]\n",
    ");\n",
    "plt.plot()"
   ]
  },
  {
   "cell_type": "code",
   "execution_count": null,
   "id": "639dab71-27e8-4650-a117-014e10356774",
   "metadata": {},
   "outputs": [],
   "source": [
    "fig, axs = plot_model_performance(\n",
    "    model=model,\n",
    "    true_observations=observations,\n",
    "    actions=actions,\n",
    "    tau=tau,\n",
    "    obs_labels=[r\"$h$\"],\n",
    "    action_labels=[r\"$q_{in}$\"]\n",
    ");\n",
    "plt.plot()"
   ]
  },
  {
   "cell_type": "code",
   "execution_count": null,
   "id": "b3f55df8-5400-4e85-9e39-53360f869570",
   "metadata": {},
   "outputs": [],
   "source": [
    "fig, axs, cax = eesys.evaluation.plotting_utils.plot_2d_kde_as_contourf(\n",
    "    density_estimate.p, density_estimate.x_g, [r\"$h$\", r\"$q_{in}$\"]\n",
    ")"
   ]
  },
  {
   "cell_type": "code",
   "execution_count": null,
   "id": "b1adbdbf-dca9-4b3c-8a9a-60f95bc3bc57",
   "metadata": {},
   "outputs": [],
   "source": [
    "jnp.max(density_estimate.p)"
   ]
  },
  {
   "cell_type": "code",
   "execution_count": null,
   "id": "008db1e8-4e66-4991-81f7-ca1ef7584291",
   "metadata": {
    "scrolled": true
   },
   "outputs": [],
   "source": [
    "grid = eesys.utils.density_estimation.build_grid_2d(-1, 1, 50)\n",
    "df_dt = jax.vmap(model.func)(grid[:, 0], grid[:, 1])"
   ]
  },
  {
   "cell_type": "code",
   "execution_count": null,
   "id": "8590886c-0aad-4da6-b89e-2634439b4afe",
   "metadata": {},
   "outputs": [],
   "source": [
    "df_dt.shape"
   ]
  },
  {
   "cell_type": "code",
   "execution_count": null,
   "id": "77595b23-de08-4286-bfab-4cab33e16bb2",
   "metadata": {},
   "outputs": [],
   "source": [
    "fig, axs = plt.subplots(figsize=(12,12))\n",
    "axs.quiver(grid[:, 0], grid[:, 1], df_dt, np.zeros(df_dt.shape))\n",
    "axs.axis('equal')\n",
    "axs.set_xlabel(r\"$h$\")\n",
    "axs.set_ylabel(r\"$q_{in}$\")\n",
    "fig.show()"
   ]
  },
  {
   "cell_type": "code",
   "execution_count": null,
   "id": "964d1acd-93e2-45d0-8ff0-eff476c38fb1",
   "metadata": {},
   "outputs": [],
   "source": [
    "fig, axs, cax = eesys.evaluation.plotting_utils.plot_2d_kde_as_contourf(\n",
    "   jnp.max(jnp.abs(df_dt)) - jnp.abs(df_dt), grid, [r\"$h$\", r\"$q_{in}$\"]\n",
    ")\n",
    "\n",
    "fig, axs = eesys.evaluation.plotting_utils.plot_2d_kde_as_surface(\n",
    "    jnp.max(jnp.abs(df_dt)) - jnp.abs(df_dt), grid, [r\"$h$\", r\"$q_{in}$\"]\n",
    ")"
   ]
  },
  {
   "cell_type": "code",
   "execution_count": null,
   "id": "d168bba1-fd27-49fd-9da8-03ec64225e0f",
   "metadata": {},
   "outputs": [],
   "source": [
    "fig, axs, cax = eesys.evaluation.plotting_utils.plot_2d_kde_as_contourf(\n",
    "    density_estimate.p, density_estimate.x_g, [r\"$h$\", r\"$q_{in}$\"]\n",
    ")\n",
    "\n",
    "fig, axs = eesys.evaluation.plotting_utils.plot_2d_kde_as_surface(\n",
    "    density_estimate.p, density_estimate.x_g, [r\"$h$\", r\"$q_{in}$\"]\n",
    ")"
   ]
  },
  {
   "cell_type": "markdown",
   "id": "f74c8265-1dde-4ff2-b728-03a3ace6abd6",
   "metadata": {},
   "source": [
    "- somehow compare this vector field to the kde?\n",
    "- target distribution could be changed depending on this vector field\n",
    "- The best way I see is to assume a histogram and normalize the values so that the histogram volume equals to $1$"
   ]
  },
  {
   "cell_type": "code",
   "execution_count": null,
   "id": "80204e3f-3465-4410-94d7-1b7ab2403d8e",
   "metadata": {},
   "outputs": [],
   "source": [
    "exciter.target_distribution"
   ]
  },
  {
   "cell_type": "code",
   "execution_count": null,
   "id": "a9c8f538-33b0-42d9-922b-f1e02821b28d",
   "metadata": {},
   "outputs": [],
   "source": [
    "unnormalized_values = jnp.max(jnp.abs(df_dt)) - jnp.abs(df_dt)"
   ]
  },
  {
   "cell_type": "code",
   "execution_count": null,
   "id": "9894e5a5-2bfd-49ea-88b3-4c04e4e3b55f",
   "metadata": {},
   "outputs": [],
   "source": [
    "full_area = 1\n",
    "area_of_each_gridpoint = full_area / 2500"
   ]
  },
  {
   "cell_type": "code",
   "execution_count": null,
   "id": "e2d376cf-be8d-4753-b546-23c986c43782",
   "metadata": {},
   "outputs": [],
   "source": [
    "normalization_factor = area_of_each_gridpoint * jnp.sum(unnormalized_values)"
   ]
  },
  {
   "cell_type": "code",
   "execution_count": null,
   "id": "2007f4e9-6e18-43b3-b672-d165e005f7db",
   "metadata": {},
   "outputs": [],
   "source": [
    "pdf_vectorfield = 1 / normalization_factor * unnormalized_values"
   ]
  },
  {
   "cell_type": "code",
   "execution_count": null,
   "id": "2c02929c-f219-4c10-a7e5-112aacd6ecae",
   "metadata": {},
   "outputs": [],
   "source": [
    "fig, axs, cax = eesys.evaluation.plotting_utils.plot_2d_kde_as_contourf(\n",
    "    pdf_vectorfield, grid, [r\"$h$\", r\"$q_{in}$\"]\n",
    ")\n",
    "\n",
    "fig, axs = eesys.evaluation.plotting_utils.plot_2d_kde_as_surface(\n",
    "    pdf_vectorfield, grid, [r\"$h$\", r\"$q_{in}$\"]\n",
    ")"
   ]
  },
  {
   "cell_type": "markdown",
   "id": "e33acecc-c754-4334-b153-13affffd6366",
   "metadata": {},
   "source": [
    "## debug stuff"
   ]
  },
  {
   "cell_type": "code",
   "execution_count": null,
   "id": "276cbba0-68f0-43f0-895b-69fd6141f487",
   "metadata": {},
   "outputs": [],
   "source": [
    "test_density_estimate = jax.vmap(\n",
    "    update_density_estimate_single_observation,\n",
    "    in_axes=(DensityEstimate(0, None, None, None), None),\n",
    "    out_axes=DensityEstimate(0, None, None, None)\n",
    ")(density_estimate, jnp.stack([0.2, 0.2]))"
   ]
  },
  {
   "cell_type": "code",
   "execution_count": null,
   "id": "b853fee0-aa47-4564-a091-3ba88400ea33",
   "metadata": {},
   "outputs": [],
   "source": [
    "for i in range(400):\n",
    "    test_density_estimate = jax.vmap(\n",
    "        update_density_estimate_single_observation,\n",
    "        in_axes=(DensityEstimate(0, None, None, None), None),\n",
    "        out_axes=DensityEstimate(0, None, None, None)\n",
    "    )(test_density_estimate, jnp.stack([0.2, 0.2]))"
   ]
  },
  {
   "cell_type": "code",
   "execution_count": null,
   "id": "f9ac4dcd-66d5-4c8e-a450-d4fbbbfafaf2",
   "metadata": {},
   "outputs": [],
   "source": [
    "test_density_estimate.x_g.shape"
   ]
  },
  {
   "cell_type": "code",
   "execution_count": null,
   "id": "768bf599-f281-4f53-8389-2436a920a0db",
   "metadata": {},
   "outputs": [],
   "source": [
    "fig, axs, cax = eesys.evaluation.plotting_utils.plot_2d_kde_as_contourf(\n",
    "    test_density_estimate.p, test_density_estimate.x_g, [r\"$h$\", r\"$q_{in}$\"]\n",
    ")"
   ]
  },
  {
   "cell_type": "code",
   "execution_count": null,
   "id": "1b16070c-c299-477a-bc26-910ee4f6072a",
   "metadata": {},
   "outputs": [],
   "source": [
    "exciter.target_distribution.shape\n",
    "density_estimate.p.shape"
   ]
  },
  {
   "cell_type": "code",
   "execution_count": null,
   "id": "12477208-21a2-4819-9450-1de02d934c34",
   "metadata": {},
   "outputs": [],
   "source": [
    "eesys.utils.metrics.JSDLoss(density_estimate.p[0], exciter.target_distribution)"
   ]
  },
  {
   "cell_type": "code",
   "execution_count": null,
   "id": "fdf40f14-75c4-4dcb-90bc-e343c25eb27a",
   "metadata": {},
   "outputs": [],
   "source": [
    "eesys.utils.metrics.JSDLoss(test_density_estimate.p[0], exciter.target_distribution)"
   ]
  },
  {
   "cell_type": "code",
   "execution_count": null,
   "id": "bb6d1a06-cdba-4a5c-92ff-5887f290d1a8",
   "metadata": {},
   "outputs": [],
   "source": [
    "jnp.max(density_estimate.p[0])"
   ]
  },
  {
   "cell_type": "code",
   "execution_count": null,
   "id": "dd478302-7fa2-40d1-9721-8f64fee6ca0a",
   "metadata": {},
   "outputs": [],
   "source": [
    "fig, axs = eesys.evaluation.plotting_utils.plot_2d_kde_as_surface(\n",
    "    density_estimate.p, density_estimate.x_g, [r\"$h$\", r\"$q_{in}$\"]\n",
    ")"
   ]
  },
  {
   "cell_type": "code",
   "execution_count": null,
   "id": "a2701ab1-cd0f-4e0c-b4a4-63752a0a010a",
   "metadata": {},
   "outputs": [],
   "source": []
  }
 ],
 "metadata": {
  "kernelspec": {
   "display_name": "Python 3 (ipykernel)",
   "language": "python",
   "name": "python3"
  },
  "language_info": {
   "codemirror_mode": {
    "name": "ipython",
    "version": 3
   },
   "file_extension": ".py",
   "mimetype": "text/x-python",
   "name": "python",
   "nbconvert_exporter": "python",
   "pygments_lexer": "ipython3",
   "version": "3.11.9"
  }
 },
 "nbformat": 4,
 "nbformat_minor": 5
}
