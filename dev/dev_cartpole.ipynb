{
 "cells": [
  {
   "cell_type": "code",
   "execution_count": null,
   "id": "6ba5a51e-a048-4440-8028-3f25596414cd",
   "metadata": {},
   "outputs": [],
   "source": [
    "%load_ext autoreload\n",
    "%autoreload 2\n",
    "%reload_ext line_profiler"
   ]
  },
  {
   "cell_type": "code",
   "execution_count": null,
   "id": "048c6da1-76eb-4b9b-b1d2-256c70a3881d",
   "metadata": {},
   "outputs": [],
   "source": [
    "import os\n",
    "os.environ['CUDA_VISIBLE_DEVICES'] = '0'\n",
    "os.environ[\"XLA_PYTHON_CLIENT_PREALLOCATE\"]=\"false\"\n",
    "\n",
    "from functools import partial\n",
    "import time\n",
    "from tqdm.notebook import tqdm\n",
    "import numpy as np\n",
    "import matplotlib.pyplot as plt\n",
    "import matplotlib as mpl\n",
    "mpl.rcParams['text.usetex'] = True\n",
    "mpl.rcParams['text.latex.preamble']=r\"\\usepackage{bm}\"\n",
    "import plotly.express as px\n"
   ]
  },
  {
   "cell_type": "code",
   "execution_count": null,
   "id": "ee9052a4-8b34-4475-8b29-16161c344c3f",
   "metadata": {},
   "outputs": [],
   "source": [
    "import jax\n",
    "import jax.numpy as jnp\n",
    "# jax.config.update(\"jax_enable_x64\", True)\n",
    "gpus = jax.devices()\n",
    "print(gpus)\n",
    "\n",
    "jax.config.update(\"jax_default_device\", gpus[0])\n",
    "\n",
    "import diffrax\n",
    "import equinox as eqx\n",
    "import optax\n",
    "\n",
    "from haiku import PRNGSequence"
   ]
  },
  {
   "cell_type": "code",
   "execution_count": null,
   "id": "f0ec815b-38c9-462e-801c-ae41da4491f3",
   "metadata": {},
   "outputs": [],
   "source": [
    "import exciting_environments as excenvs\n",
    "\n",
    "import exciting_exciting_systems\n",
    "from exciting_exciting_systems.models import NeuralEulerODEPendulum, NeuralODEPendulum, NeuralEulerODECartpole\n",
    "from exciting_exciting_systems.models.model_utils import simulate_ahead_with_env\n",
    "from exciting_exciting_systems.models.model_training import ModelTrainer\n",
    "from exciting_exciting_systems.excitation import loss_function, Exciter\n",
    "\n",
    "from exciting_exciting_systems.utils.density_estimation import (\n",
    "    select_bandwidth, update_density_estimate_single_observation, update_density_estimate_multiple_observations, DensityEstimate\n",
    ")\n",
    "from exciting_exciting_systems.utils.signals import aprbs\n",
    "from exciting_exciting_systems.evaluation.plotting_utils import (\n",
    "    plot_sequence, append_predictions_to_sequence_plot, plot_sequence_and_prediction, plot_model_performance, plot_2d_kde_as_contourf\n",
    ")\n",
    "\n",
    "from exciting_exciting_systems.models.model_utils import ModelEnvWrapperCartPole"
   ]
  },
  {
   "cell_type": "markdown",
   "id": "3d544f37-8dd0-4986-8701-19c195de413d",
   "metadata": {},
   "source": [
    "---"
   ]
  },
  {
   "cell_type": "code",
   "execution_count": null,
   "id": "b34b2ed4-6d97-42bf-84b8-5fda0e6c0b62",
   "metadata": {},
   "outputs": [],
   "source": [
    "# setup PRNG\n",
    "key = jax.random.PRNGKey(seed=2)\n",
    "\n",
    "data_key, model_key, loader_key, expl_key, key = jax.random.split(key, 5)\n",
    "data_rng = PRNGSequence(data_key)"
   ]
  },
  {
   "cell_type": "code",
   "execution_count": null,
   "id": "4225fd3b-3f1c-4478-b83b-22cd321ae26f",
   "metadata": {},
   "outputs": [],
   "source": [
    "batch_size = 1\n",
    "tau = 2e-2\n",
    "\n",
    "# cartpole parameters: \"Evaluation of Policy Gradient Methods and Variants on the Cart-Pole Benchmark\" Riedmiller2007\n",
    "# comparable: \"Evaluation of Policy Gradient Methods and Variants on the Cart-Pole Benchmark\" Nagendra2017\n",
    "\n",
    "env_params = dict(batch_size=1, tau=2e-2, max_force=10, env_solver=diffrax.Tsit5()) # diffrax.Euler())\n",
    "env = excenvs.make(\n",
    "    env_id=\"CartPole-v0\",\n",
    "    batch_size=env_params[\"batch_size\"],\n",
    "    action_constraints={\"force\": env_params[\"max_force\"]},\n",
    "    static_params={# typical values? 10.1109/TSMC.1983.6313077\n",
    "        \"mu_p\": 0.002, # ?0.000002, 2e-6\n",
    "        \"mu_c\": 0.5, # ?0.0005, 5e-4\n",
    "        \"l\": 0.5,\n",
    "        \"m_p\": 0.1,\n",
    "        \"m_c\": 1,\n",
    "        \"g\": 9.81,\n",
    "    },\n",
    "    physical_constraints={\n",
    "        \"deflection\": 2.4,\n",
    "        \"velocity\": 8,\n",
    "        \"theta\": jnp.pi,\n",
    "        \"omega\": 8,\n",
    "    },\n",
    "    solver=env_params[\"env_solver\"],\n",
    "    tau=env_params[\"tau\"],\n",
    ")"
   ]
  },
  {
   "cell_type": "markdown",
   "id": "8c56cccb-9575-4c96-9ecb-c1e2f2bb93fb",
   "metadata": {},
   "source": [
    "### Test simulation:\n",
    "\n",
    "- starting from the intial state/obs ($\\mathbf{x}_0$ / $\\mathbf{y}_0$)\n",
    "- apply $N = 999$ actions $\\mathbf{u}_0 \\dots \\mathbf{u}_N$ (**here**: random APRBS actions)\n",
    "- which results in the state trajectory $\\mathbf{x}_0 ... \\mathbf{x}_N+1$ with $N+1 = 1000$ elements"
   ]
  },
  {
   "cell_type": "code",
   "execution_count": null,
   "id": "bf64a032-25b9-4305-9960-824b1abf7c15",
   "metadata": {},
   "outputs": [],
   "source": [
    "obs, state = env.reset()\n",
    "obs = obs[0]\n",
    "\n",
    "n_steps = 999\n",
    "\n",
    "# actions = aprbs(n_steps, batch_size, 1, 10, next(data_rng))[0]\n",
    "\n",
    "\n",
    "actions = jnp.ones((1000, 1))\n",
    "actions = actions.at[10:].set(0)"
   ]
  },
  {
   "cell_type": "code",
   "execution_count": null,
   "id": "93127160-bd36-4f4b-8d05-180658833bdc",
   "metadata": {},
   "outputs": [],
   "source": [
    "observations, _ = simulate_ahead_with_env(env, obs, state, actions)\n",
    "\n",
    "print(\"actions.shape:\", actions.shape)\n",
    "print(\"observations.shape:\", observations.shape)\n",
    "\n",
    "print(\" \\n One of the trajectories:\")\n",
    "fig, axs = plot_sequence(\n",
    "    observations=observations,\n",
    "    actions=actions,\n",
    "    tau=tau,\n",
    "    obs_labels=[r\"$p_x$\", r\"$v_x$\", r\"$\\theta$\", r\"$\\omega$\"],\n",
    "    action_labels=[r\"$F$\"],\n",
    ");\n",
    "plt.show()"
   ]
  },
  {
   "cell_type": "markdown",
   "id": "da2e0681-465b-4660-af60-e0fc7e2278d9",
   "metadata": {},
   "source": [
    "---"
   ]
  },
  {
   "cell_type": "code",
   "execution_count": null,
   "id": "489a0df2-7e60-48c7-b35d-0622d52313ae",
   "metadata": {},
   "outputs": [],
   "source": [
    "from exciting_exciting_systems.algorithms import excite_with_dmpe"
   ]
  },
  {
   "cell_type": "code",
   "execution_count": null,
   "id": "78fcc109-e2a6-405a-8c66-f493ffa52eb7",
   "metadata": {},
   "outputs": [],
   "source": [
    "def featurize_theta(obs):\n",
    "    \"\"\"The angle itself is difficult to properly interpret in the loss as angles\n",
    "    such as 1.99 * pi and 0 are essentially the same. Therefore the angle is \n",
    "    transformed to sin(phi) and cos(phi) for comparison in the loss.\"\"\"\n",
    "    feat_obs = jnp.stack([obs[..., 0], obs[..., 1], jnp.sin(obs[..., 2] * jnp.pi), jnp.cos(obs[..., 2] * jnp.pi), obs[..., 3]], axis=-1)\n",
    "    return feat_obs"
   ]
  },
  {
   "cell_type": "code",
   "execution_count": null,
   "id": "bb45297e-c620-4892-8c8b-c271732c2b78",
   "metadata": {},
   "outputs": [],
   "source": [
    "seed = 55551212515\n",
    "\n",
    "points_per_dim = 15\n",
    "\n",
    "alg_params = dict(\n",
    "    bandwidth=select_bandwidth(2, 5, points_per_dim, 0.1),\n",
    "    n_prediction_steps=50,\n",
    "    points_per_dim=points_per_dim,\n",
    "    action_lr=1e-2,\n",
    "    n_opt_steps=10,\n",
    "    rho_obs=1,\n",
    "    rho_act=1,\n",
    "    penalty_order=2,\n",
    "    clip_action=True,\n",
    "    n_starts=5,\n",
    "    reuse_proposed_actions=True,\n",
    ")\n",
    "\n",
    "exp_params = dict(\n",
    "    seed=None,\n",
    "    n_timesteps=15_000,\n",
    "    model_class=None,\n",
    "    env_params=env_params,\n",
    "    alg_params=alg_params,\n",
    "    model_trainer_params=None,\n",
    "    model_params=None,\n",
    "    model_env_wrapper=ModelEnvWrapperCartPole,\n",
    ")"
   ]
  },
  {
   "cell_type": "code",
   "execution_count": null,
   "id": "5293c8aa-86c5-4cab-8e33-36caf3767a96",
   "metadata": {},
   "outputs": [],
   "source": [
    "key = jax.random.PRNGKey(seed=seed)\n",
    "data_key, _, _, expl_key, key = jax.random.split(key, 5)\n",
    "data_rng = PRNGSequence(data_key)\n",
    "\n",
    "# initial guess\n",
    "proposed_actions = aprbs(exp_params[\"alg_params\"][\"n_prediction_steps\"], env.batch_size, 1, 10, next(data_rng))[0]\n",
    "\n",
    "# run excitation algorithm\n",
    "observations, actions, model, density_estimate, losses, proposed_actions = excite_with_dmpe(\n",
    "    env,\n",
    "    exp_params,\n",
    "    proposed_actions,\n",
    "    None,\n",
    "    expl_key,\n",
    "    plot_every=500\n",
    ")"
   ]
  },
  {
   "cell_type": "code",
   "execution_count": null,
   "id": "f975da06-eecb-453b-b143-29b1dfaffd61",
   "metadata": {},
   "outputs": [],
   "source": [
    "raise"
   ]
  },
  {
   "cell_type": "code",
   "execution_count": null,
   "id": "3ea0c40e-5579-4cd0-a408-5b810db13e83",
   "metadata": {},
   "outputs": [],
   "source": [
    "seed = 4444\n",
    "\n",
    "points_per_dim = 15\n",
    "\n",
    "alg_params = dict(\n",
    "    bandwidth=select_bandwidth(2, 5, points_per_dim, 0.1),\n",
    "    n_prediction_steps=50,\n",
    "    points_per_dim=points_per_dim,\n",
    "    action_lr=1e-2,\n",
    "    n_opt_steps=10,\n",
    "    rho_obs=1,\n",
    "    rho_act=1,\n",
    "    penalty_order=2,\n",
    "    clip_action=True,\n",
    "    n_starts=5,\n",
    "    reuse_proposed_actions=True,\n",
    ")\n",
    "\n",
    "model_trainer_params = dict(\n",
    "    start_learning=alg_params[\"n_prediction_steps\"],\n",
    "    training_batch_size=128,\n",
    "    n_train_steps=5,\n",
    "    sequence_length=alg_params[\"n_prediction_steps\"],\n",
    "    featurize=featurize_theta,\n",
    "    model_lr=1e-4,\n",
    ")\n",
    "model_params = dict(obs_dim=env.physical_state_dim, action_dim=env.action_dim, width_size=128, depth=3, key=None)\n",
    "\n",
    "exp_params = dict(\n",
    "    seed=None,\n",
    "    n_timesteps=15_000,\n",
    "    model_class=NeuralEulerODECartpole,\n",
    "    env_params=env_params,\n",
    "    alg_params=alg_params,\n",
    "    model_trainer_params=model_trainer_params,\n",
    "    model_params=model_params,\n",
    ")"
   ]
  },
  {
   "cell_type": "code",
   "execution_count": null,
   "id": "94dd64ff-2afa-4acb-8148-d5b46895c2b0",
   "metadata": {
    "scrolled": true
   },
   "outputs": [],
   "source": [
    "key = jax.random.PRNGKey(seed=seed)\n",
    "data_key, model_key, loader_key, expl_key, key = jax.random.split(key, 5)\n",
    "data_rng = PRNGSequence(data_key)\n",
    "\n",
    "exp_params[\"seed\"] = int(seed)\n",
    "exp_params[\"model_params\"][\"key\"] = model_key\n",
    "\n",
    "# initial guess\n",
    "proposed_actions = aprbs(exp_params[\"alg_params\"][\"n_prediction_steps\"], env.batch_size, 1, 10, next(data_rng))[0]\n",
    "\n",
    "# run excitation algorithm\n",
    "observations, actions, model, density_estimate, losses, proposed_actions = excite_with_dmpe(\n",
    "    env, exp_params, proposed_actions, loader_key, expl_key, plot_every=500\n",
    ")"
   ]
  },
  {
   "cell_type": "code",
   "execution_count": null,
   "id": "d82a96df-f107-47ad-86a5-6b69aff7a6e1",
   "metadata": {},
   "outputs": [],
   "source": []
  },
  {
   "cell_type": "code",
   "execution_count": null,
   "id": "ce322ec7-bade-427f-b9a4-a38edd466e85",
   "metadata": {},
   "outputs": [],
   "source": []
  },
  {
   "cell_type": "code",
   "execution_count": null,
   "id": "0ebb43b1-844c-45ba-83aa-ac110aa90334",
   "metadata": {},
   "outputs": [],
   "source": [
    "bw = select_bandwidth(2, 5, points_per_dim, 0.1)"
   ]
  },
  {
   "cell_type": "code",
   "execution_count": null,
   "id": "4ca71042-ac06-4e7d-9f05-1dc0f0a8d76a",
   "metadata": {},
   "outputs": [],
   "source": [
    "bw"
   ]
  },
  {
   "cell_type": "code",
   "execution_count": null,
   "id": "3ba3476a-f14d-45c9-9b21-618d2d38c6f4",
   "metadata": {},
   "outputs": [],
   "source": [
    "from exciting_exciting_systems.utils.density_estimation import gaussian_kernel"
   ]
  },
  {
   "cell_type": "code",
   "execution_count": null,
   "id": "42ad9f1b-b85a-4290-85a7-c8fd1e196ace",
   "metadata": {},
   "outputs": [],
   "source": [
    "gaussian_kernel(x=jnp.array([2 / 30, 2 / 30, 2 / 30, 2 / 30, 2 / 30,]), bandwidth=bw) "
   ]
  },
  {
   "cell_type": "code",
   "execution_count": null,
   "id": "e71d8bed-068e-483d-802d-b134354d2220",
   "metadata": {},
   "outputs": [],
   "source": [
    "bw**5 * jnp.power(2 * jnp.pi, 5 / 2)"
   ]
  },
  {
   "cell_type": "code",
   "execution_count": null,
   "id": "95816340-0d5c-4666-a955-dc5eaef89c12",
   "metadata": {},
   "outputs": [],
   "source": [
    "points = [\n",
    "    jnp.array([2 / 30, 2 / 30, 2 / 30, 2 / 30, 2 / 30,]),\n",
    "    jnp.array([0, 2 / 30, 2 / 30, 2 / 30, 2 / 30,]),\n",
    "    jnp.array([0, 0, 2 / 30, 2 / 30, 2 / 30,]),\n",
    "    jnp.array([0, 0, 0, 2 / 30, 2 / 30,]),\n",
    "    jnp.array([0, 0, 0, 0, 2 / 30,]),\n",
    "    jnp.array([0, 0, 0, 0, 0,]),\n",
    "    jnp.array([8/30, 0, 0, 0, 0,]),\n",
    "]\n",
    "\n",
    "for point in points:\n",
    "    print(gaussian_kernel(x=point, bandwidth=bw) * bw**5 * jnp.power(2 * jnp.pi, 5 / 2))"
   ]
  },
  {
   "cell_type": "code",
   "execution_count": null,
   "id": "59107966-b8a6-4656-b072-a2c354fec0b2",
   "metadata": {},
   "outputs": [],
   "source": []
  },
  {
   "cell_type": "code",
   "execution_count": null,
   "id": "479ca54c-99b7-4665-8233-3856a4c08b43",
   "metadata": {},
   "outputs": [],
   "source": [
    "2/30"
   ]
  },
  {
   "cell_type": "code",
   "execution_count": null,
   "id": "c2c35934-6bd1-4ce5-a207-51fe1c19774b",
   "metadata": {},
   "outputs": [],
   "source": [
    "jnp.array([2 / 30, 2 / 30, 2 / 30, 2 / 30, 2 / 30,]).dim"
   ]
  },
  {
   "cell_type": "code",
   "execution_count": null,
   "id": "5ef3f808-ff45-429d-b866-e8769510fbde",
   "metadata": {},
   "outputs": [],
   "source": []
  }
 ],
 "metadata": {
  "kernelspec": {
   "display_name": "Python 3 (ipykernel)",
   "language": "python",
   "name": "python3"
  },
  "language_info": {
   "codemirror_mode": {
    "name": "ipython",
    "version": 3
   },
   "file_extension": ".py",
   "mimetype": "text/x-python",
   "name": "python",
   "nbconvert_exporter": "python",
   "pygments_lexer": "ipython3",
   "version": "3.11.9"
  }
 },
 "nbformat": 4,
 "nbformat_minor": 5
}
