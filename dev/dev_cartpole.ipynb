{
 "cells": [
  {
   "cell_type": "code",
   "execution_count": null,
   "id": "6ba5a51e-a048-4440-8028-3f25596414cd",
   "metadata": {},
   "outputs": [],
   "source": [
    "%load_ext autoreload\n",
    "%autoreload 2\n",
    "%reload_ext line_profiler"
   ]
  },
  {
   "cell_type": "code",
   "execution_count": null,
   "id": "048c6da1-76eb-4b9b-b1d2-256c70a3881d",
   "metadata": {},
   "outputs": [],
   "source": [
    "import os\n",
    "os.environ[\"XLA_PYTHON_CLIENT_PREALLOCATE\"]=\"false\"\n",
    "\n",
    "from functools import partial\n",
    "import time\n",
    "from tqdm.notebook import tqdm\n",
    "import numpy as np\n",
    "import matplotlib.pyplot as plt\n",
    "import matplotlib as mpl\n",
    "mpl.rcParams['text.usetex'] = True\n",
    "mpl.rcParams['text.latex.preamble']=r\"\\usepackage{bm}\"\n",
    "import plotly.express as px\n"
   ]
  },
  {
   "cell_type": "code",
   "execution_count": null,
   "id": "ee9052a4-8b34-4475-8b29-16161c344c3f",
   "metadata": {},
   "outputs": [],
   "source": [
    "import jax\n",
    "import jax.numpy as jnp\n",
    "# jax.config.update(\"jax_enable_x64\", True)\n",
    "gpus = jax.devices()\n",
    "jax.config.update(\"jax_default_device\", gpus[0])\n",
    "\n",
    "import diffrax\n",
    "import equinox as eqx\n",
    "import optax\n",
    "\n",
    "from haiku import PRNGSequence"
   ]
  },
  {
   "cell_type": "code",
   "execution_count": null,
   "id": "f0ec815b-38c9-462e-801c-ae41da4491f3",
   "metadata": {},
   "outputs": [],
   "source": [
    "import exciting_environments as excenvs\n",
    "\n",
    "import exciting_exciting_systems\n",
    "from exciting_exciting_systems.models import NeuralEulerODEPendulum, NeuralODEPendulum, NeuralEulerODECartpole\n",
    "from exciting_exciting_systems.models.model_utils import simulate_ahead_with_env\n",
    "from exciting_exciting_systems.models.model_training import ModelTrainer\n",
    "from exciting_exciting_systems.excitation import loss_function, Exciter\n",
    "\n",
    "from exciting_exciting_systems.utils.density_estimation import (\n",
    "    update_density_estimate_single_observation, update_density_estimate_multiple_observations, DensityEstimate\n",
    ")\n",
    "from exciting_exciting_systems.utils.signals import aprbs\n",
    "from exciting_exciting_systems.evaluation.plotting_utils import (\n",
    "    plot_sequence, append_predictions_to_sequence_plot, plot_sequence_and_prediction, plot_model_performance, plot_2d_kde_as_contourf\n",
    ")"
   ]
  },
  {
   "cell_type": "markdown",
   "id": "3d544f37-8dd0-4986-8701-19c195de413d",
   "metadata": {},
   "source": [
    "---"
   ]
  },
  {
   "cell_type": "code",
   "execution_count": null,
   "id": "b34b2ed4-6d97-42bf-84b8-5fda0e6c0b62",
   "metadata": {},
   "outputs": [],
   "source": [
    "# setup PRNG\n",
    "key = jax.random.PRNGKey(seed=2)\n",
    "\n",
    "data_key, model_key, loader_key, expl_key, key = jax.random.split(key, 5)\n",
    "data_rng = PRNGSequence(data_key)"
   ]
  },
  {
   "cell_type": "code",
   "execution_count": null,
   "id": "4225fd3b-3f1c-4478-b83b-22cd321ae26f",
   "metadata": {},
   "outputs": [],
   "source": [
    "batch_size = 1\n",
    "tau = 2e-2\n",
    "\n",
    "env_params = dict(batch_size=1, tau=2e-2, max_force=10, env_solver=diffrax.Tsit5()) # diffrax.Euler())\n",
    "env = excenvs.make(\n",
    "    env_id=\"CartPole-v0\",\n",
    "    batch_size=env_params[\"batch_size\"],\n",
    "    action_constraints={\"force\": env_params[\"max_force\"]},\n",
    "    static_params={\n",
    "        \"mu_p\": 0,\n",
    "        \"mu_c\": 0,\n",
    "        \"l\": 1,\n",
    "        \"m_p\": 1,\n",
    "        \"m_c\": 1,\n",
    "        \"g\": 9.81,\n",
    "    },\n",
    "    solver=env_params[\"env_solver\"],\n",
    "    tau=env_params[\"tau\"],\n",
    ")"
   ]
  },
  {
   "cell_type": "markdown",
   "id": "8c56cccb-9575-4c96-9ecb-c1e2f2bb93fb",
   "metadata": {},
   "source": [
    "### Test simulation:\n",
    "\n",
    "- starting from the intial state/obs ($\\mathbf{x}_0$ / $\\mathbf{y}_0$)\n",
    "- apply $N = 999$ actions $\\mathbf{u}_0 \\dots \\mathbf{u}_N$ (**here**: random APRBS actions)\n",
    "- which results in the state trajectory $\\mathbf{x}_0 ... \\mathbf{x}_N+1$ with $N+1 = 1000$ elements"
   ]
  },
  {
   "cell_type": "code",
   "execution_count": null,
   "id": "bf64a032-25b9-4305-9960-824b1abf7c15",
   "metadata": {},
   "outputs": [],
   "source": [
    "obs, state = env.reset()\n",
    "obs = obs[0]\n",
    "\n",
    "n_steps = 999\n",
    "\n",
    "actions = aprbs(n_steps, batch_size, 1, 10, next(data_rng))[0]"
   ]
  },
  {
   "cell_type": "code",
   "execution_count": null,
   "id": "93127160-bd36-4f4b-8d05-180658833bdc",
   "metadata": {},
   "outputs": [],
   "source": [
    "observations = simulate_ahead_with_env(env, obs, state, actions)\n",
    "\n",
    "print(\"actions.shape:\", actions.shape)\n",
    "print(\"observations.shape:\", observations.shape)\n",
    "\n",
    "print(\" \\n One of the trajectories:\")\n",
    "fig, axs = plot_sequence(\n",
    "    observations=observations,\n",
    "    actions=actions,\n",
    "    tau=tau,\n",
    "    obs_labels=[r\"$p_x$\", r\"$v_x$\", r\"$\\theta$\", r\"$\\omega$\"],\n",
    "    action_labels=[r\"$F$\"],\n",
    ");\n",
    "plt.show()"
   ]
  },
  {
   "cell_type": "markdown",
   "id": "da2e0681-465b-4660-af60-e0fc7e2278d9",
   "metadata": {},
   "source": [
    "---"
   ]
  },
  {
   "cell_type": "code",
   "execution_count": null,
   "id": "78fcc109-e2a6-405a-8c66-f493ffa52eb7",
   "metadata": {},
   "outputs": [],
   "source": [
    "def featurize_theta(obs):\n",
    "    \"\"\"The angle itself is difficult to properly interpret in the loss as angles\n",
    "    such as 1.99 * pi and 0 are essentially the same. Therefore the angle is \n",
    "    transformed to sin(phi) and cos(phi) for comparison in the loss.\"\"\"\n",
    "    feat_obs = jnp.stack([obs[..., 0], obs[..., 1], jnp.sin(obs[..., 2] * jnp.pi), jnp.cos(obs[..., 2] * jnp.pi), obs[..., 3]], axis=-1)\n",
    "    return feat_obs"
   ]
  },
  {
   "cell_type": "code",
   "execution_count": null,
   "id": "b1b449ce-5758-4421-981c-5c69eeebec08",
   "metadata": {},
   "outputs": [],
   "source": [
    "seed = 0\n",
    "\n",
    "alg_params = dict(\n",
    "    bandwidth=0.05, n_prediction_steps=50, points_per_dim=20, action_lr=1e-1, n_opt_steps=5, rho_obs=1e3, rho_act=1e3\n",
    ")\n",
    "model_trainer_params = dict(\n",
    "    start_learning=alg_params[\"n_prediction_steps\"],\n",
    "    training_batch_size=128,\n",
    "    n_train_steps=1,\n",
    "    sequence_length=alg_params[\"n_prediction_steps\"],\n",
    "    featurize=featurize_theta,\n",
    "    model_lr=1e-4,\n",
    ")\n",
    "model_params = dict(obs_dim=env.physical_state_dim, action_dim=env.action_dim, width_size=128, depth=3, key=None)\n",
    "\n",
    "exp_params = dict(\n",
    "    seed=seed,\n",
    "    n_timesteps=30_000,\n",
    "    model_class=NeuralEulerODECartpole,\n",
    "    env_params=env_params,\n",
    "    alg_params=alg_params,\n",
    "    model_trainer_params=model_trainer_params,\n",
    ")\n",
    "\n",
    "# setup PRNG\n",
    "key = jax.random.PRNGKey(seed=exp_params[\"seed\"])\n",
    "data_key, model_key, loader_key, expl_key, key = jax.random.split(key, 5)\n",
    "data_rng = PRNGSequence(data_key)\n",
    "\n",
    "model_params[\"key\"] = model_key\n",
    "exp_params[\"model_params\"] = model_params"
   ]
  },
  {
   "cell_type": "code",
   "execution_count": null,
   "id": "c71f90e2-f025-4a9a-ba7b-e56e738ca986",
   "metadata": {},
   "outputs": [],
   "source": [
    "proposed_actions = aprbs(alg_params[\"n_prediction_steps\"], env.batch_size, 1, 10, next(data_rng))[0]"
   ]
  },
  {
   "cell_type": "code",
   "execution_count": null,
   "id": "c49d5797-2151-4986-a5fd-1460ec531f38",
   "metadata": {
    "scrolled": true
   },
   "outputs": [],
   "source": [
    "from exciting_exciting_systems.algorithms import excite_with_dmpe\n",
    "\n",
    "\n",
    "# run excitation algorithm\n",
    "observations, actions, model, density_estimate, losses, proposed_actions = excite_with_dmpe(\n",
    "    env, exp_params, proposed_actions, loader_key, expl_key, plot_every=2500,\n",
    ")"
   ]
  },
  {
   "cell_type": "markdown",
   "id": "e466cff3-c595-4499-8a96-b935e3c2344e",
   "metadata": {},
   "source": [
    "### TODO: Examine model after training:"
   ]
  },
  {
   "cell_type": "markdown",
   "id": "488acc0c-8f82-41c7-b776-3fe26fdc9cef",
   "metadata": {},
   "source": [
    "..."
   ]
  },
  {
   "cell_type": "code",
   "execution_count": null,
   "id": "e83d6a59-9bf5-45a9-951f-a6c926c1f940",
   "metadata": {},
   "outputs": [],
   "source": [
    "# np.save(\"results/cartpole_dmpe_observations.npy\", np.stack(observations))\n",
    "# np.save(\"results/cartpole_dmpe_actions.npy\", np.stack(actions))"
   ]
  },
  {
   "cell_type": "code",
   "execution_count": null,
   "id": "ce773cd1-e6d8-4de1-8ecb-cf554ed7f66b",
   "metadata": {},
   "outputs": [],
   "source": [
    "observations = np.load(\"results/cartpole_dmpe_observations.npy\")\n",
    "actions = np.load(\"results/cartpole_dmpe_actions.npy\")"
   ]
  },
  {
   "cell_type": "code",
   "execution_count": null,
   "id": "c0317e76-614a-49c6-82a2-a527009db107",
   "metadata": {},
   "outputs": [],
   "source": [
    "observations.shape"
   ]
  },
  {
   "cell_type": "code",
   "execution_count": null,
   "id": "2be5e776-6f36-43ac-8307-ea219f7e8a6a",
   "metadata": {},
   "outputs": [],
   "source": [
    "actions.shape"
   ]
  },
  {
   "cell_type": "code",
   "execution_count": null,
   "id": "62fd8809-3d7d-4213-bd31-2d8266cce84e",
   "metadata": {},
   "outputs": [],
   "source": [
    "plot_sequence(observations, actions, tau, env.obs_description, [\"$u$\"])"
   ]
  },
  {
   "cell_type": "code",
   "execution_count": null,
   "id": "565955ca-afb7-4ae1-938d-1a5fa78e4a7a",
   "metadata": {
    "scrolled": true
   },
   "outputs": [],
   "source": [
    "density_estimate = DensityEstimate.from_dataset(observations[..., 2:], actions, use_actions=False)"
   ]
  },
  {
   "cell_type": "code",
   "execution_count": null,
   "id": "4e96854c-558e-48fe-b321-386248b0b6dd",
   "metadata": {},
   "outputs": [],
   "source": [
    "fig, axs, cax = plot_2d_kde_as_contourf(\n",
    "    density_estimate.p, density_estimate.x_g, [r\"$\\theta$\", r\"$\\omega$\"]\n",
    ")\n",
    "fig.suptitle(\"Vanilla KDE\")\n",
    "# fig.savefig(\"excited_pendulum_kde_surface.png\")\n",
    "plt.show()"
   ]
  },
  {
   "cell_type": "code",
   "execution_count": null,
   "id": "0ebb43b1-844c-45ba-83aa-ac110aa90334",
   "metadata": {},
   "outputs": [],
   "source": []
  }
 ],
 "metadata": {
  "kernelspec": {
   "display_name": "Python 3 (ipykernel)",
   "language": "python",
   "name": "python3"
  },
  "language_info": {
   "codemirror_mode": {
    "name": "ipython",
    "version": 3
   },
   "file_extension": ".py",
   "mimetype": "text/x-python",
   "name": "python",
   "nbconvert_exporter": "python",
   "pygments_lexer": "ipython3",
   "version": "3.11.9"
  }
 },
 "nbformat": 4,
 "nbformat_minor": 5
}
