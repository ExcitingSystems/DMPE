{
 "cells": [
  {
   "cell_type": "code",
   "execution_count": null,
   "id": "6ba5a51e-a048-4440-8028-3f25596414cd",
   "metadata": {},
   "outputs": [],
   "source": [
    "%load_ext autoreload\n",
    "%autoreload 2\n",
    "%reload_ext line_profiler"
   ]
  },
  {
   "cell_type": "code",
   "execution_count": null,
   "id": "048c6da1-76eb-4b9b-b1d2-256c70a3881d",
   "metadata": {},
   "outputs": [],
   "source": [
    "import os\n",
    "os.environ['CUDA_VISIBLE_DEVICES'] = '0'\n",
    "os.environ[\"XLA_PYTHON_CLIENT_PREALLOCATE\"]=\"false\"\n",
    "\n",
    "from functools import partial\n",
    "import time\n",
    "from tqdm.notebook import tqdm\n",
    "import numpy as np\n",
    "import matplotlib.pyplot as plt\n",
    "import matplotlib as mpl\n",
    "mpl.rcParams['text.usetex'] = True\n",
    "mpl.rcParams['text.latex.preamble']=r\"\\usepackage{bm}\"\n",
    "import plotly.express as px\n"
   ]
  },
  {
   "cell_type": "code",
   "execution_count": null,
   "id": "ee9052a4-8b34-4475-8b29-16161c344c3f",
   "metadata": {},
   "outputs": [],
   "source": [
    "import jax\n",
    "import jax.numpy as jnp\n",
    "# jax.config.update(\"jax_enable_x64\", True)\n",
    "gpus = jax.devices()\n",
    "print(gpus)\n",
    "\n",
    "jax.config.update(\"jax_default_device\", gpus[0])\n",
    "\n",
    "import diffrax\n",
    "import equinox as eqx\n",
    "import optax\n",
    "\n",
    "from haiku import PRNGSequence"
   ]
  },
  {
   "cell_type": "code",
   "execution_count": null,
   "id": "f0ec815b-38c9-462e-801c-ae41da4491f3",
   "metadata": {},
   "outputs": [],
   "source": [
    "import exciting_environments as excenvs\n",
    "\n",
    "import exciting_exciting_systems\n",
    "from exciting_exciting_systems.models import NeuralEulerODEPendulum, NeuralODEPendulum, NeuralEulerODECartpole\n",
    "from exciting_exciting_systems.models.model_utils import simulate_ahead_with_env\n",
    "from exciting_exciting_systems.models.model_training import ModelTrainer\n",
    "from exciting_exciting_systems.excitation import loss_function, Exciter\n",
    "\n",
    "from exciting_exciting_systems.utils.density_estimation import (\n",
    "    select_bandwidth, update_density_estimate_single_observation, update_density_estimate_multiple_observations, DensityEstimate\n",
    ")\n",
    "from exciting_exciting_systems.utils.signals import aprbs\n",
    "from exciting_exciting_systems.evaluation.plotting_utils import (\n",
    "    plot_sequence, append_predictions_to_sequence_plot, plot_sequence_and_prediction, plot_model_performance, plot_2d_kde_as_contourf\n",
    ")\n",
    "\n",
    "from exciting_exciting_systems.models.model_utils import ModelEnvWrapperCartPole"
   ]
  },
  {
   "cell_type": "markdown",
   "id": "3d544f37-8dd0-4986-8701-19c195de413d",
   "metadata": {},
   "source": [
    "---"
   ]
  },
  {
   "cell_type": "code",
   "execution_count": null,
   "id": "b34b2ed4-6d97-42bf-84b8-5fda0e6c0b62",
   "metadata": {},
   "outputs": [],
   "source": [
    "# setup PRNG\n",
    "key = jax.random.PRNGKey(seed=2)\n",
    "\n",
    "data_key, model_key, loader_key, expl_key, key = jax.random.split(key, 5)\n",
    "data_rng = PRNGSequence(data_key)"
   ]
  },
  {
   "cell_type": "code",
   "execution_count": null,
   "id": "4225fd3b-3f1c-4478-b83b-22cd321ae26f",
   "metadata": {},
   "outputs": [],
   "source": [
    "batch_size = 1\n",
    "tau = 2e-2\n",
    "\n",
    "# cartpole parameters: \"Evaluation of Policy Gradient Methods and Variants on the Cart-Pole Benchmark\" Riedmiller2007\n",
    "# comparable: \"Evaluation of Policy Gradient Methods and Variants on the Cart-Pole Benchmark\" Nagendra2017\n",
    "\n",
    "env_params = dict(batch_size=1, tau=2e-2, max_force=10, env_solver=diffrax.Tsit5()) # diffrax.Euler())\n",
    "env = excenvs.make(\n",
    "    env_id=\"CartPole-v0\",\n",
    "    batch_size=env_params[\"batch_size\"],\n",
    "    action_constraints={\"force\": env_params[\"max_force\"]},\n",
    "    static_params={# typical values? 10.1109/TSMC.1983.6313077\n",
    "        \"mu_p\": 0.002, # ?0.000002,\n",
    "        \"mu_c\": 0.5, # ?0.0005\n",
    "        \"l\": 0.5,\n",
    "        \"m_p\": 0.1,\n",
    "        \"m_c\": 1,\n",
    "        \"g\": 9.81,\n",
    "    },\n",
    "    physical_constraints={\n",
    "        \"deflection\": 2.4,\n",
    "        \"velocity\": 8,\n",
    "        \"theta\": jnp.pi,\n",
    "        \"omega\": 8,\n",
    "    },\n",
    "    solver=env_params[\"env_solver\"],\n",
    "    tau=env_params[\"tau\"],\n",
    ")"
   ]
  },
  {
   "cell_type": "markdown",
   "id": "8c56cccb-9575-4c96-9ecb-c1e2f2bb93fb",
   "metadata": {},
   "source": [
    "### Test simulation:\n",
    "\n",
    "- starting from the intial state/obs ($\\mathbf{x}_0$ / $\\mathbf{y}_0$)\n",
    "- apply $N = 999$ actions $\\mathbf{u}_0 \\dots \\mathbf{u}_N$ (**here**: random APRBS actions)\n",
    "- which results in the state trajectory $\\mathbf{x}_0 ... \\mathbf{x}_N+1$ with $N+1 = 1000$ elements"
   ]
  },
  {
   "cell_type": "code",
   "execution_count": null,
   "id": "bf64a032-25b9-4305-9960-824b1abf7c15",
   "metadata": {},
   "outputs": [],
   "source": [
    "obs, state = env.reset()\n",
    "obs = obs[0]\n",
    "\n",
    "n_steps = 999\n",
    "\n",
    "# actions = aprbs(n_steps, batch_size, 1, 10, next(data_rng))[0]\n",
    "\n",
    "\n",
    "actions = jnp.ones((1000, 1))\n",
    "actions = actions.at[1:].set(0)"
   ]
  },
  {
   "cell_type": "code",
   "execution_count": null,
   "id": "93127160-bd36-4f4b-8d05-180658833bdc",
   "metadata": {},
   "outputs": [],
   "source": [
    "observations, _ = simulate_ahead_with_env(env, obs, state, actions)\n",
    "\n",
    "print(\"actions.shape:\", actions.shape)\n",
    "print(\"observations.shape:\", observations.shape)\n",
    "\n",
    "print(\" \\n One of the trajectories:\")\n",
    "fig, axs = plot_sequence(\n",
    "    observations=observations,\n",
    "    actions=actions,\n",
    "    tau=tau,\n",
    "    obs_labels=[r\"$p_x$\", r\"$v_x$\", r\"$\\theta$\", r\"$\\omega$\"],\n",
    "    action_labels=[r\"$F$\"],\n",
    ");\n",
    "plt.show()"
   ]
  },
  {
   "cell_type": "markdown",
   "id": "da2e0681-465b-4660-af60-e0fc7e2278d9",
   "metadata": {},
   "source": [
    "---"
   ]
  },
  {
   "cell_type": "code",
   "execution_count": null,
   "id": "489a0df2-7e60-48c7-b35d-0622d52313ae",
   "metadata": {},
   "outputs": [],
   "source": [
    "from exciting_exciting_systems.algorithms import excite_with_dmpe"
   ]
  },
  {
   "cell_type": "code",
   "execution_count": null,
   "id": "78fcc109-e2a6-405a-8c66-f493ffa52eb7",
   "metadata": {},
   "outputs": [],
   "source": [
    "def featurize_theta(obs):\n",
    "    \"\"\"The angle itself is difficult to properly interpret in the loss as angles\n",
    "    such as 1.99 * pi and 0 are essentially the same. Therefore the angle is \n",
    "    transformed to sin(phi) and cos(phi) for comparison in the loss.\"\"\"\n",
    "    feat_obs = jnp.stack([obs[..., 0], obs[..., 1], jnp.sin(obs[..., 2] * jnp.pi), jnp.cos(obs[..., 2] * jnp.pi), obs[..., 3]], axis=-1)\n",
    "    return feat_obs"
   ]
  },
  {
   "cell_type": "code",
   "execution_count": null,
   "id": "bb45297e-c620-4892-8c8b-c271732c2b78",
   "metadata": {},
   "outputs": [],
   "source": [
    "seed = 2\n",
    "\n",
    "alg_params = dict(\n",
    "    bandwidth=select_bandwidth(2, 5, 20, 0.3),\n",
    "    n_prediction_steps=50,\n",
    "    points_per_dim=20,\n",
    "    action_lr=1e-1,\n",
    "    n_opt_steps=5,\n",
    "    rho_obs=1,\n",
    "    rho_act=1,\n",
    "    penalty_order=2,\n",
    "    clip_action=True,\n",
    ")\n",
    "\n",
    "exp_params = dict(\n",
    "    seed=None,\n",
    "    n_timesteps=45_000,\n",
    "    model_class=None,\n",
    "    env_params=env_params,\n",
    "    alg_params=alg_params,\n",
    "    model_trainer_params=None,\n",
    "    model_params=None,\n",
    "    model_env_wrapper=ModelEnvWrapperCartPole,\n",
    ")"
   ]
  },
  {
   "cell_type": "code",
   "execution_count": null,
   "id": "5293c8aa-86c5-4cab-8e33-36caf3767a96",
   "metadata": {},
   "outputs": [],
   "source": [
    "key = jax.random.PRNGKey(seed=seed)\n",
    "data_key, _, _, expl_key, key = jax.random.split(key, 5)\n",
    "data_rng = PRNGSequence(data_key)\n",
    "\n",
    "# initial guess\n",
    "proposed_actions = aprbs(exp_params[\"alg_params\"][\"n_prediction_steps\"], env.batch_size, 1, 10, next(data_rng))[0]\n",
    "\n",
    "# run excitation algorithm\n",
    "observations, actions, model, density_estimate, losses, proposed_actions = excite_with_dmpe(\n",
    "    env,\n",
    "    exp_params,\n",
    "    proposed_actions,\n",
    "    None,\n",
    "    expl_key,\n",
    "    plot_every=1000\n",
    ")"
   ]
  },
  {
   "cell_type": "code",
   "execution_count": null,
   "id": "f975da06-eecb-453b-b143-29b1dfaffd61",
   "metadata": {},
   "outputs": [],
   "source": [
    "raise"
   ]
  },
  {
   "cell_type": "code",
   "execution_count": null,
   "id": "0ebb43b1-844c-45ba-83aa-ac110aa90334",
   "metadata": {},
   "outputs": [],
   "source": []
  }
 ],
 "metadata": {
  "kernelspec": {
   "display_name": "Python 3 (ipykernel)",
   "language": "python",
   "name": "python3"
  },
  "language_info": {
   "codemirror_mode": {
    "name": "ipython",
    "version": 3
   },
   "file_extension": ".py",
   "mimetype": "text/x-python",
   "name": "python",
   "nbconvert_exporter": "python",
   "pygments_lexer": "ipython3",
   "version": "3.11.9"
  }
 },
 "nbformat": 4,
 "nbformat_minor": 5
}
