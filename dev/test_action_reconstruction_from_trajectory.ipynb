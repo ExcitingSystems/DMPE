{
 "cells": [
  {
   "cell_type": "markdown",
   "id": "ad1d9bd2-8f97-4836-9d9b-c9f89de03f9b",
   "metadata": {},
   "source": [
    "### To be solved here:\n",
    "- given a perfect model of the system\n",
    "- predict the state trajectory\n",
    "- choose the action using MPC\n",
    "- such that the $\\mathcal{L} = \\mathrm{JSD}(p(x), p^*(x))$ is minimized\n",
    "\n",
    "---"
   ]
  },
  {
   "cell_type": "code",
   "execution_count": null,
   "id": "7a7e7eee-d23a-49b3-8ebe-861d1c7315a1",
   "metadata": {},
   "outputs": [],
   "source": [
    "%load_ext autoreload\n",
    "%autoreload 2\n",
    "%reload_ext line_profiler"
   ]
  },
  {
   "cell_type": "code",
   "execution_count": null,
   "id": "db69273b-7dd2-4338-990a-153cca07931a",
   "metadata": {},
   "outputs": [],
   "source": [
    "from functools import partial\n",
    "\n",
    "import time\n",
    "from tqdm.notebook import tqdm\n",
    "import numpy as np\n",
    "import matplotlib.pyplot as plt\n",
    "import plotly.express as px\n",
    "import plotly.graph_objects as go"
   ]
  },
  {
   "cell_type": "code",
   "execution_count": null,
   "id": "19590d73-e71a-439d-8fbf-51b3b89c496f",
   "metadata": {},
   "outputs": [],
   "source": [
    "import jax\n",
    "import jax.numpy as jnp\n",
    "\n",
    "import diffrax\n",
    "import equinox as eqx\n",
    "import optax\n",
    "\n",
    "from haiku import PRNGSequence"
   ]
  },
  {
   "cell_type": "code",
   "execution_count": null,
   "id": "89ab50db-d348-4a6c-a259-26f73565ecd4",
   "metadata": {},
   "outputs": [],
   "source": [
    "import exciting_environments as excenvs\n",
    "from models import NeuralEulerODE"
   ]
  },
  {
   "cell_type": "markdown",
   "id": "6020fe6f-548c-48de-ad7b-87365b87cc7e",
   "metadata": {},
   "source": [
    "---"
   ]
  },
  {
   "cell_type": "markdown",
   "id": "b196d19c-8103-4e9d-829e-103cd90bba7b",
   "metadata": {},
   "source": [
    "- find a suitable jax MPC library -> nah i dont think this is necessary\n",
    "- This is just a \"simple\" optimization problem and is only somewhat loosely connected to MPC?\n",
    "- First off I need a fully trained differentiable model of our system\n",
    "- We will use the derivative of the model w.r.t. to the inputs to find the action(s) with the best predicted **endpoint** of \"loss\"\n",
    "- We are only interested that the final excitation state is a good one\n",
    "- Maybe this needs to be relaxed when the model is still bad and the predictions are not that trustworthy"
   ]
  },
  {
   "cell_type": "markdown",
   "id": "28f91917-0271-49f9-bb95-562d5137dac2",
   "metadata": {},
   "source": [
    "## Familiarization with jax.grad and application in optimization for a given env"
   ]
  },
  {
   "cell_type": "code",
   "execution_count": null,
   "id": "1a887355-9ae9-4b22-9600-74bb709f7526",
   "metadata": {},
   "outputs": [],
   "source": [
    "# setup PRNG\n",
    "key = jax.random.PRNGKey(seed=21)\n",
    "\n",
    "data_key, model_key, key = jax.random.split(key, 3)\n",
    "data_rng = PRNGSequence(data_key)"
   ]
  },
  {
   "cell_type": "code",
   "execution_count": null,
   "id": "9619c97c-d6dc-4a32-a07b-3504228b6c31",
   "metadata": {},
   "outputs": [],
   "source": [
    "batch_size = 1\n",
    "n_steps = 1000\n",
    "tau = 1e-3\n",
    "\n",
    "env = excenvs.make(\n",
    "    env_id='Pendulum-v0',\n",
    "    batch_size=batch_size,\n",
    "    tau=tau\n",
    ")\n",
    "\n",
    "model = excenvs.make(\n",
    "    env_id='Pendulum-v0',\n",
    "    batch_size=batch_size,\n",
    "    tau=tau\n",
    ")"
   ]
  },
  {
   "cell_type": "code",
   "execution_count": null,
   "id": "8ee9d508-2f06-4b64-bd25-9fd575cd4022",
   "metadata": {},
   "outputs": [],
   "source": [
    "env"
   ]
  },
  {
   "cell_type": "code",
   "execution_count": null,
   "id": "81fddf53-2078-46c4-9381-58e447ea38d1",
   "metadata": {},
   "outputs": [],
   "source": [
    "model"
   ]
  },
  {
   "cell_type": "code",
   "execution_count": null,
   "id": "bfd0f78d-f117-4833-8863-2525f88f471a",
   "metadata": {},
   "outputs": [],
   "source": [
    "@partial(jax.jit, static_argnums=(0, 1))\n",
    "def gen_actions(n_steps, batch_size, key):\n",
    "    actions = jax.random.uniform(key, shape=(batch_size, 1, 1), minval=-1, maxval=1)\n",
    "    actions = jnp.repeat(actions, repeats=n_steps, axis=1)\n",
    "    return actions"
   ]
  },
  {
   "cell_type": "code",
   "execution_count": null,
   "id": "95b7ea4f-7ab7-45ea-a7f9-82989f8a836a",
   "metadata": {},
   "outputs": [],
   "source": [
    "actions = gen_actions(n_steps, batch_size, next(data_rng))"
   ]
  },
  {
   "cell_type": "code",
   "execution_count": null,
   "id": "8b5951fb-0b40-4da2-a779-a535c1a8e46a",
   "metadata": {},
   "outputs": [],
   "source": [
    "@partial(jax.jit, static_argnums=(0, 3))\n",
    "def simulate_episode(env, obs, state, n_steps, actions):\n",
    "\n",
    "    batch_size, obs_dim = obs.shape\n",
    "    observations = jnp.zeros([batch_size, n_steps, obs_dim])\n",
    "    observations = observations.at[:, 0, :].set(obs)\n",
    "\n",
    "    def body_fun(n, carry):\n",
    "        obs, state, observations = carry\n",
    "\n",
    "        action = actions[:, n, :]\n",
    "        obs, reward, terminated, truncated, state = env.step(action, state)\n",
    "        observations = observations.at[:, n, :].set(obs)\n",
    "\n",
    "        return (obs, state, observations)\n",
    "\n",
    "    obs, state, observations = jax.lax.fori_loop(lower=1, upper=n_steps, body_fun=body_fun, init_val=(obs, state, observations))\n",
    "\n",
    "    return observations\n",
    "\n",
    "\n",
    "def plot_episode(observations, actions, max_n=2):\n",
    "    n_plots = min(max_n, observations.shape[0])\n",
    "\n",
    "    for idx in range(n_plots):\n",
    "        plt.plot(observations[idx, :, 0], label=\"theta\")\n",
    "        plt.plot(observations[idx, :, 1], label=\"omega\")\n",
    "        plt.grid()\n",
    "        plt.title(\"observations, timeseries\")\n",
    "        plt.legend()\n",
    "        plt.show()\n",
    "    \n",
    "    for idx in range(n_plots):\n",
    "        plt.plot(observations[idx, :, 0], observations[idx, :, 1], 'b.')\n",
    "        plt.grid()\n",
    "        plt.title(\"observations, together\")\n",
    "        plt.show()\n",
    "    \n",
    "    for idx in range(n_plots):\n",
    "        plt.plot(actions[idx, :, 0])\n",
    "        plt.grid()\n",
    "        plt.title(\"actions, timeseries\")\n",
    "        plt.show()"
   ]
  },
  {
   "cell_type": "code",
   "execution_count": null,
   "id": "b50f72d0-7d34-402a-8e7e-89e242200f4c",
   "metadata": {},
   "outputs": [],
   "source": [
    "obs, state = env.reset()\n",
    "obs = obs.astype(jnp.float32)\n",
    "state = state.astype(jnp.float32)\n",
    "\n",
    "# actions = aprbs(n_steps, batch_size, 5, 100, next(data_rng))\n",
    "actions = gen_actions(n_steps, batch_size, next(data_rng))\n",
    "\n",
    "observations = simulate_episode(\n",
    "    env,\n",
    "    obs,\n",
    "    state,\n",
    "    n_steps=n_steps,\n",
    "    actions=actions\n",
    ")\n",
    "\n",
    "observations_model = simulate_episode(\n",
    "    model, \n",
    "    obs,\n",
    "    state,\n",
    "    n_steps=n_steps,\n",
    "    actions=actions\n",
    ")\n",
    "\n",
    "print(observations.shape)\n",
    "print(observations_model.shape)\n",
    "print(actions.shape)"
   ]
  },
  {
   "cell_type": "code",
   "execution_count": null,
   "id": "22444f1d-c8cc-4f1c-be3b-390a24f7db2d",
   "metadata": {},
   "outputs": [],
   "source": [
    "jnp.all(observations == observations_model)"
   ]
  },
  {
   "cell_type": "code",
   "execution_count": null,
   "id": "6abc2931-7652-4eb3-8f63-73b202f7ee7a",
   "metadata": {
    "scrolled": true
   },
   "outputs": [],
   "source": [
    "plot_episode(observations, actions, max_n=1)"
   ]
  },
  {
   "cell_type": "code",
   "execution_count": null,
   "id": "bfb78b08-a4b0-4445-a242-153369827122",
   "metadata": {
    "scrolled": true
   },
   "outputs": [],
   "source": [
    "plot_episode(observations_model, actions, max_n=1)"
   ]
  },
  {
   "cell_type": "markdown",
   "id": "887a359c-fd28-4afc-aa9e-b657bb2a7fd9",
   "metadata": {},
   "source": [
    "### Examine gradient properties of the model:"
   ]
  },
  {
   "cell_type": "code",
   "execution_count": null,
   "id": "8adf6d87-b6f5-4cc4-829b-4d0030351038",
   "metadata": {},
   "outputs": [],
   "source": [
    "def wrap_model_for_theta(action, state, env_state_normalizer, action_normalizer, static_params):\n",
    "    \n",
    "    state = model._ode_exp_euler_step(\n",
    "        state,\n",
    "        action,\n",
    "        env_state_normalizer,\n",
    "        action_normalizer,\n",
    "        static_params\n",
    "    )\n",
    "    \n",
    "    return state[1]"
   ]
  },
  {
   "cell_type": "code",
   "execution_count": null,
   "id": "81db6087-6f64-4aa2-9f35-399382e54d6c",
   "metadata": {},
   "outputs": [],
   "source": [
    "grad_model = jax.grad(wrap_model_for_theta, argnums=(0))"
   ]
  },
  {
   "cell_type": "code",
   "execution_count": null,
   "id": "64f576dd-e6ad-42b6-8e4b-f609db7e790b",
   "metadata": {},
   "outputs": [],
   "source": [
    "action = jnp.linspace(-1, 1, 1)[:, None]\n",
    "obs, state = env.reset()\n",
    "obs = obs.astype(jnp.float32)\n",
    "state = state.astype(jnp.float32)"
   ]
  },
  {
   "cell_type": "code",
   "execution_count": null,
   "id": "ef9d67bf-4914-4552-bb2c-f1c66d55d848",
   "metadata": {
    "scrolled": true
   },
   "outputs": [],
   "source": [
    "grads = jax.vmap(grad_model)(action, state, model.env_state_normalizer, model.action_normalizer, model.static_params)\n",
    "grads"
   ]
  },
  {
   "cell_type": "code",
   "execution_count": null,
   "id": "ac0c83e4-f633-4468-a953-4f92d81dcc57",
   "metadata": {},
   "outputs": [],
   "source": [
    "jax.vmap(wrap_model_for_theta)(action, state, model.env_state_normalizer, model.action_normalizer, model.static_params)"
   ]
  },
  {
   "cell_type": "markdown",
   "id": "30d2096a-c4e0-47aa-915a-ab37ce1ca355",
   "metadata": {},
   "source": [
    "### 1D-choice: Try to follow the given trajectory:"
   ]
  },
  {
   "cell_type": "markdown",
   "id": "e9387d80-8b20-4e68-bc15-dc751f3039b4",
   "metadata": {},
   "source": [
    "- find the actions that produce the given trajectory?\n",
    "- This is exactly DPC?"
   ]
  },
  {
   "cell_type": "code",
   "execution_count": null,
   "id": "c7976c47-ab8b-411d-b6fd-e7318a3eae0a",
   "metadata": {},
   "outputs": [],
   "source": [
    "def featurize_theta(obs):\n",
    "    \"\"\"The angle itself is difficult to properly \"\"\"\n",
    "    feat_obs = jnp.stack([jnp.sin(obs[:, 0] * jnp.pi), jnp.cos(obs[:, 0] * jnp.pi), obs[:, 1]], axis=-1)\n",
    "    return feat_obs\n",
    "\n",
    "@partial(jax.jit, static_argnums=(1, 4))\n",
    "def loss_function(true_obs, model, init_obs, init_state, n_steps, proposed_action):\n",
    "    proposed_actions = jnp.ones(shape=(true_obs.shape[0], true_obs.shape[1], 1)) * proposed_action\n",
    "\n",
    "    pred_obs = simulate_episode(model, init_obs, init_state, n_steps, proposed_actions)\n",
    "\n",
    "    feat_pred_obs = jax.vmap(featurize_theta)(pred_obs)\n",
    "    feat_true_obs = jax.vmap(featurize_theta)(true_obs)\n",
    "\n",
    "    return jnp.mean((feat_pred_obs - feat_true_obs)**2)\n",
    "\n",
    "grad_loss_function = jax.grad(loss_function, argnums=(5))\n",
    "hessian_loss_function = jax.grad(grad_loss_function, argnums=(5))\n",
    "\n",
    "@partial(jax.jit, static_argnums=(1, 4))\n",
    "def step(true_obs, model, init_obs, init_state, n_steps, proposed_action):\n",
    "    return proposed_action - 1 / hessian_loss_function(true_obs, model, obs, state, n_steps, jnp.squeeze(proposed_action)) * grad_loss_function(true_obs, model, obs, state, n_steps, proposed_action)"
   ]
  },
  {
   "cell_type": "code",
   "execution_count": null,
   "id": "2ae8aae4-6c21-4543-8de7-18170caaffcc",
   "metadata": {},
   "outputs": [],
   "source": [
    "obs, state = env.reset()\n",
    "obs = obs.astype(jnp.float32)\n",
    "state = state.astype(jnp.float32)\n",
    "\n",
    "# actions = aprbs(n_steps, batch_size, 5, 100, next(data_rng))\n",
    "actions = gen_actions(n_steps, batch_size, next(data_rng))\n",
    "\n",
    "true_obs = simulate_episode(\n",
    "    env,\n",
    "    obs,\n",
    "    state,\n",
    "    n_steps=n_steps,\n",
    "    actions=actions\n",
    ")"
   ]
  },
  {
   "cell_type": "code",
   "execution_count": null,
   "id": "8911127f-d761-4fa8-be6f-24a6fa602559",
   "metadata": {},
   "outputs": [],
   "source": [
    "proposed_action = gen_actions(1, batch_size, next(data_rng))\n",
    "print(\"proposed: \", proposed_action)\n",
    "print(\"true\", actions[:, 0, :])\n",
    "\n",
    "start = time.time()\n",
    "\n",
    "proposed_action = step(true_obs, model, obs, state, n_steps, proposed_action)\n",
    "\n",
    "end = time.time()\n",
    "\n",
    "loss = loss_function(true_obs, model, obs, state, n_steps, proposed_action)\n",
    "\n",
    "print(f\"Loss: {loss}, Computation time: {end - start}\")\n",
    "print(\"proposed: \", proposed_action)\n",
    "print(\"true\", actions[:, 0, :])"
   ]
  },
  {
   "cell_type": "markdown",
   "id": "e1c74de4-bb33-4d15-b782-c5d51dd75faa",
   "metadata": {
    "jp-MarkdownHeadingCollapsed": true
   },
   "source": [
    "#### use optax to optimize\n",
    "\n",
    "- naturally this is a lot slower\n",
    "- not sure yet if it makes sense to use something like this\n",
    "- maybe it becomes necessary when model and actions are more complex?"
   ]
  },
  {
   "cell_type": "code",
   "execution_count": null,
   "id": "3063a732-e663-4d13-ace9-56d893e75ca6",
   "metadata": {},
   "outputs": [],
   "source": [
    "import optax"
   ]
  },
  {
   "cell_type": "code",
   "execution_count": null,
   "id": "ca7ac489-d313-47f3-b4d4-15277f4e1171",
   "metadata": {},
   "outputs": [],
   "source": [
    "def optimize(true_obs, model, init_obs, init_state, n_steps, initial_action):\n",
    "    solver = optax.adabelief(learning_rate=1)\n",
    "    action = initial_action\n",
    "\n",
    "    opt_state = solver.init(action)\n",
    "    \n",
    "    for iter in range(1000):\n",
    "        grad = grad_loss_function(true_obs, model, init_obs, init_state, n_steps, action)\n",
    "        updates, opt_state = solver.update(grad, opt_state, action)\n",
    "        action = optax.apply_updates(action, updates)\n",
    "\n",
    "    return action"
   ]
  },
  {
   "cell_type": "code",
   "execution_count": null,
   "id": "32d5c3f8-cfa1-497b-9138-c9d7b186a4e0",
   "metadata": {},
   "outputs": [],
   "source": [
    "proposed_action = gen_actions(1, batch_size, next(data_rng))\n",
    "\n",
    "\n",
    "print(\"proposed: \", proposed_action)\n",
    "print(\"true\", actions[:, 0, :])\n",
    "\n",
    "start = time.time()\n",
    "\n",
    "proposed_action = optimize(true_obs, model, obs, state, n_steps, proposed_action)\n",
    "\n",
    "end = time.time()\n",
    "\n",
    "loss = loss_function(true_obs, model, obs, state, n_steps, proposed_action)\n",
    "\n",
    "print(f\"Loss: {loss}, Computation time: {end - start}\")\n",
    "print(\"proposed: \", proposed_action)\n",
    "print(\"true\", actions[:, 0, :])"
   ]
  },
  {
   "cell_type": "markdown",
   "id": "32cdd869-aa69-48a7-8341-faf52b9aa3c6",
   "metadata": {},
   "source": [
    "### Multi-dim choice: Try to follow the given trajectory\n",
    "\n",
    "- optax likely already has some solvers?"
   ]
  },
  {
   "cell_type": "code",
   "execution_count": null,
   "id": "3eae3ac3-c473-47eb-93a7-8c3fe691be60",
   "metadata": {},
   "outputs": [],
   "source": [
    "def aprbs2(len, t_min, t_max, key):\n",
    "    t = 0\n",
    "    sig = []\n",
    "    while t < len:\n",
    "        steps_key, value_key, key = jax.random.split(key, 3)\n",
    "\n",
    "        t_step = jax.random.randint(steps_key, shape=(1,), minval=t_min, maxval=t_max)\n",
    "           \n",
    "        sig.append(jnp.ones(t_step) * jax.random.uniform(value_key, shape=(1,), minval=-1, maxval=1))\n",
    "        t += t_step.item()\n",
    "\n",
    "    return jnp.hstack(sig)[:len]\n",
    "\n",
    "def aprbs(n_steps, batch_size, t_min, t_max, key):\n",
    "    actions = []\n",
    "    for _ in range(batch_size):\n",
    "        subkey, key = jax.random.split(key)\n",
    "        actions.append(aprbs2(n_steps, t_min, t_max, subkey)[..., None])\n",
    "    return jnp.stack(actions, axis=0)"
   ]
  },
  {
   "cell_type": "code",
   "execution_count": null,
   "id": "6824cb76-3bf4-42d2-9a1d-479b511476cf",
   "metadata": {},
   "outputs": [],
   "source": [
    "obs, state = env.reset()\n",
    "obs = obs.astype(jnp.float32)\n",
    "state = state.astype(jnp.float32)\n",
    "\n",
    "actions = aprbs(n_steps, batch_size, 200, 500, next(data_rng))\n",
    "# actions = gen_actions(n_steps, batch_size, next(data_rng))\n",
    "\n",
    "true_obs = simulate_episode(\n",
    "    env,\n",
    "    obs,\n",
    "    state,\n",
    "    n_steps=n_steps,\n",
    "    actions=actions\n",
    ")"
   ]
  },
  {
   "cell_type": "code",
   "execution_count": null,
   "id": "9120e43d-362d-4b2f-95cf-a50e634ade60",
   "metadata": {
    "scrolled": true
   },
   "outputs": [],
   "source": [
    "plot_episode(true_obs, actions, max_n=1)"
   ]
  },
  {
   "cell_type": "code",
   "execution_count": null,
   "id": "77c4db46-b962-44af-b012-bae5a4f29c45",
   "metadata": {},
   "outputs": [],
   "source": [
    "def featurize_theta(obs):\n",
    "    \"\"\"The angle itself is difficult to properly \"\"\"\n",
    "    feat_obs = jnp.stack([jnp.sin(obs[:, 0] * jnp.pi), jnp.cos(obs[:, 0] * jnp.pi), obs[:, 1]], axis=-1)\n",
    "    return feat_obs\n",
    "\n",
    "@partial(jax.jit, static_argnums=(1, 4))\n",
    "def loss_function(true_obs, model, init_obs, init_state, n_steps, proposed_actions):\n",
    "\n",
    "    pred_obs = simulate_episode(model, init_obs, init_state, n_steps, proposed_actions)\n",
    "\n",
    "    feat_pred_obs = jax.vmap(featurize_theta)(pred_obs)\n",
    "    feat_true_obs = jax.vmap(featurize_theta)(true_obs)        \n",
    "    \n",
    "    return jnp.mean((feat_pred_obs - feat_true_obs)**2)\n",
    "\n",
    "grad_loss_function = jax.grad(loss_function, argnums=(5))\n",
    "hessian_loss_function = jax.grad(grad_loss_function, argnums=(5))\n",
    "\n",
    "@partial(jax.jit, static_argnums=(1, 4))\n",
    "def step(true_obs, model, init_obs, init_state, n_steps, proposed_actions, alpha):\n",
    "    return proposed_actions - alpha * grad_loss_function(true_obs, model, obs, state, n_steps, proposed_actions)\n",
    "\n",
    "def optimize(true_obs, model, init_obs, init_state, n_steps, proposed_actions):\n",
    "    solver = optax.adabelief(learning_rate=1)\n",
    "\n",
    "    opt_state = solver.init(proposed_actions)\n",
    "    \n",
    "    for iter in tqdm(range(100)):\n",
    "        grad = grad_loss_function(true_obs, model, init_obs, init_state, n_steps, proposed_actions)\n",
    "        updates, opt_state = solver.update(grad, opt_state, proposed_actions)\n",
    "        proposed_actions = optax.apply_updates(proposed_actions, updates)\n",
    "\n",
    "    return proposed_actions"
   ]
  },
  {
   "cell_type": "code",
   "execution_count": null,
   "id": "7a3af93d-fe5b-401b-bcdf-470e674c6628",
   "metadata": {},
   "outputs": [],
   "source": [
    "pred_obs = simulate_episode(\n",
    "    env,\n",
    "    obs,\n",
    "    state,\n",
    "    n_steps=n_steps,\n",
    "    actions=proposed_actions\n",
    ")\n",
    "plot_episode(\n",
    "    pred_obs,\n",
    "    proposed_actions,\n",
    "    max_n=1\n",
    ")"
   ]
  },
  {
   "cell_type": "code",
   "execution_count": null,
   "id": "d294134e-7be6-4a2b-b741-92c1a0924a34",
   "metadata": {},
   "outputs": [],
   "source": [
    "proposed_actions = aprbs(n_steps, batch_size, 200, 500, next(data_rng))"
   ]
  },
  {
   "cell_type": "code",
   "execution_count": null,
   "id": "bbe119b4-5d60-4aa9-9abf-8b1f7e224875",
   "metadata": {},
   "outputs": [],
   "source": [
    "print(\"loss before:\", loss_function(true_obs, model, obs, state, n_steps, proposed_actions))\n",
    "start = time.time()\n",
    "# for n in range(50_000):\n",
    "#     proposed_actions = step(true_obs, model, obs, state, n_steps, proposed_actions, alpha=1000)\n",
    "\n",
    "proposed_actions_after_opt = optimize(true_obs, model, obs, state, n_steps, proposed_actions)\n",
    "\n",
    "end = time.time()\n",
    "\n",
    "print(f\"Computation time: {end - start}\")\n",
    "print(\"loss after:\", loss_function(true_obs, model, obs, state, n_steps, proposed_actions_after_opt))\n",
    "\n",
    "print(jnp.mean(proposed_actions - actions**2))"
   ]
  },
  {
   "cell_type": "code",
   "execution_count": null,
   "id": "2614c8ac-e931-4f85-a42b-40f544a97392",
   "metadata": {},
   "outputs": [],
   "source": [
    "print(\"loss after:\", loss_function(true_obs, model, obs, state, n_steps, proposed_actions))\n",
    "print(\"loss after:\", loss_function(true_obs, model, obs, state, n_steps, proposed_actions_after_opt))"
   ]
  },
  {
   "cell_type": "code",
   "execution_count": null,
   "id": "7edf8212-c085-49d5-97aa-b4f0177c74d2",
   "metadata": {},
   "outputs": [],
   "source": [
    "print(jnp.mean(proposed_actions_after_opt - actions**2))"
   ]
  },
  {
   "cell_type": "code",
   "execution_count": null,
   "id": "b62c38c4-b5bf-4ba5-913f-ba71d21f1550",
   "metadata": {},
   "outputs": [],
   "source": [
    "pred_obs = simulate_episode(\n",
    "    env,\n",
    "    obs,\n",
    "    state,\n",
    "    n_steps=n_steps,\n",
    "    actions=proposed_actions_after_opt\n",
    ")\n",
    "plot_episode(\n",
    "    pred_obs,\n",
    "    proposed_actions_after_opt,\n",
    "    max_n=1\n",
    ")"
   ]
  },
  {
   "cell_type": "code",
   "execution_count": null,
   "id": "6ce35221-c2b0-432a-ba92-a873967ddffd",
   "metadata": {
    "scrolled": true
   },
   "outputs": [],
   "source": [
    "plot_episode(\n",
    "    true_obs,\n",
    "    actions,\n",
    "    max_n=1\n",
    ")"
   ]
  },
  {
   "cell_type": "code",
   "execution_count": null,
   "id": "e1f774b8-cf2f-4ec1-9478-7f33f41d9abd",
   "metadata": {},
   "outputs": [],
   "source": [
    "def hessian(f):\n",
    "    return jax.jacfwd(jax.jacrev(f))"
   ]
  },
  {
   "cell_type": "code",
   "execution_count": null,
   "id": "081ef0ff-1e05-444b-9185-4a37642b38a1",
   "metadata": {},
   "outputs": [],
   "source": [
    "jnp.linalg.inv(hessian(loss_function)(true_obs, model, obs, state, n_steps, proposed_actions))"
   ]
  },
  {
   "cell_type": "code",
   "execution_count": null,
   "id": "1ce4f807-b16f-458e-96b5-1e71922f12f2",
   "metadata": {},
   "outputs": [],
   "source": [
    "# huh, I guess the vmapping needs to be moved up closer to the optimization routine\n",
    "# not really sure where to start with this and also very hungry, continue tomorrow\n",
    "# Also not really sure if hessian is the ways to go"
   ]
  }
 ],
 "metadata": {
  "kernelspec": {
   "display_name": "venv-dev-base",
   "language": "python",
   "name": "venv-dev-base"
  },
  "language_info": {
   "codemirror_mode": {
    "name": "ipython",
    "version": 3
   },
   "file_extension": ".py",
   "mimetype": "text/x-python",
   "name": "python",
   "nbconvert_exporter": "python",
   "pygments_lexer": "ipython3",
   "version": "3.11.6"
  }
 },
 "nbformat": 4,
 "nbformat_minor": 5
}
