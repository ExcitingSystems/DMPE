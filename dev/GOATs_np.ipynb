{
 "cells": [
  {
   "cell_type": "code",
   "execution_count": null,
   "id": "f5271a5b-91b3-4339-aadc-c6b21bc4d531",
   "metadata": {},
   "outputs": [],
   "source": [
    "%load_ext autoreload\n",
    "%autoreload 2\n",
    "%reload_ext line_profiler"
   ]
  },
  {
   "cell_type": "code",
   "execution_count": null,
   "id": "4c6c2442-45dd-4dbf-abe3-d4ffa2a8b7f4",
   "metadata": {},
   "outputs": [],
   "source": [
    "from functools import partial\n",
    "\n",
    "import time\n",
    "from tqdm.notebook import tqdm\n",
    "import numpy as np\n",
    "import matplotlib.pyplot as plt\n",
    "import plotly.express as px\n",
    "import plotly.graph_objects as go"
   ]
  },
  {
   "cell_type": "code",
   "execution_count": null,
   "id": "cf7a0514-c52c-448a-aa2e-2c1b71ae320e",
   "metadata": {},
   "outputs": [],
   "source": [
    "import jax\n",
    "import jax.numpy as jnp\n",
    "\n",
    "jax.config.update('jax_platform_name', 'cpu')\n",
    "\n",
    "import diffrax\n",
    "import equinox as eqx\n",
    "import optax\n",
    "\n",
    "from haiku import PRNGSequence"
   ]
  },
  {
   "cell_type": "code",
   "execution_count": null,
   "id": "d839e870-ad25-40f2-a69a-67a8dc27aa4d",
   "metadata": {},
   "outputs": [],
   "source": [
    "from cmaes import CMAwM\n",
    "from scipy.stats.qmc import LatinHypercube\n",
    "\n",
    "import exciting_environments as excenvs\n",
    "\n",
    "import exciting_exciting_systems\n",
    "# from exciting_exciting_systems.models.model_utils import simulate_ahead_with_env\n",
    "\n",
    "from exciting_exciting_systems.evaluation.plotting_utils import plot_sequence\n",
    "\n",
    "from exciting_exciting_systems.related_work.np_reimpl.env_utils import simulate_ahead_with_env\n",
    "from exciting_exciting_systems.related_work.excitation_utils import generate_aprbs, soft_penalty\n",
    "from exciting_exciting_systems.related_work.np_reimpl.pendulum import Pendulum\n",
    "from exciting_exciting_systems.related_work.np_reimpl.metrics import MC_uniform_sampling_distribution_approximation"
   ]
  },
  {
   "cell_type": "markdown",
   "id": "2fea19b0-4e86-4348-8c5a-4d501ebeeea7",
   "metadata": {},
   "source": [
    "---"
   ]
  },
  {
   "cell_type": "code",
   "execution_count": null,
   "id": "c44db260-a89b-495f-88c2-48818103bb9e",
   "metadata": {},
   "outputs": [],
   "source": [
    "batch_size = 1\n",
    "tau = 2e-2\n",
    "\n",
    "env = Pendulum(\n",
    "    batch_size=batch_size,\n",
    "    tau=tau,\n",
    "    max_torque=5\n",
    ")"
   ]
  },
  {
   "cell_type": "code",
   "execution_count": null,
   "id": "e8697470-22f4-4464-841d-0892ce9c6ef0",
   "metadata": {},
   "outputs": [],
   "source": [
    "h = 100\n",
    "\n",
    "action_parameters = np.concatenate([\n",
    "    np.random.uniform(low=-1, high=1, size=(h,)).astype(np.float32),\n",
    "    np.random.randint(low=2, high=50, size=(h,), dtype=np.int32)\n",
    "])\n",
    "\n",
    "actions = generate_aprbs(\n",
    "    amplitudes=action_parameters[:h],\n",
    "    durations=np.abs(action_parameters[h:].astype(np.int32))\n",
    ")[None, :, None]\n",
    "\n",
    "plt.plot(np.squeeze(actions))"
   ]
  },
  {
   "cell_type": "code",
   "execution_count": null,
   "id": "a07d102c-4a41-440d-8b04-07bfcfcb964e",
   "metadata": {},
   "outputs": [],
   "source": [
    "obs, env_state = env.reset()\n",
    "obs = obs.astype(np.float32)\n",
    "env_state = env_state.astype(jnp.float32)\n",
    "\n",
    "observations = simulate_ahead_with_env(\n",
    "    env,\n",
    "    obs,\n",
    "    env_state,\n",
    "    actions,\n",
    ")\n",
    "\n",
    "print(\"actions.shape:\", actions.shape)\n",
    "print(\"observations.shape:\", observations.shape)\n",
    "\n",
    "print(\" \\n One of the trajectories:\")\n",
    "fig, axs = plot_sequence(\n",
    "    observations=observations[0, ...],\n",
    "    actions=actions[0, ...],\n",
    "    tau=tau,\n",
    "    obs_labels=[r\"$\\theta$\", r\"$\\omega$\"],\n",
    "    action_labels=[r\"$u$\"],\n",
    ");\n",
    "plt.show()"
   ]
  },
  {
   "cell_type": "code",
   "execution_count": null,
   "id": "a70a786a-6a4d-4332-a114-ada5ea988627",
   "metadata": {
    "scrolled": true
   },
   "outputs": [],
   "source": [
    "n_amplitude_levels = 1000\n",
    "\n",
    "# use latin hypercube sampling to generate the amplitude levels\n",
    "amplitude_sampler = LatinHypercube(d=1)\n",
    "\n",
    "amplitudes = amplitude_sampler.random(n=n_amplitude_levels) * 2 - 1"
   ]
  },
  {
   "cell_type": "code",
   "execution_count": null,
   "id": "b84f19a5-6338-4b2f-8ff5-1b96c328b4dc",
   "metadata": {},
   "outputs": [],
   "source": [
    "plt.plot(amplitudes)"
   ]
  },
  {
   "cell_type": "code",
   "execution_count": null,
   "id": "5d953167-03df-4bc6-ab2e-5dc0322b34f6",
   "metadata": {},
   "outputs": [],
   "source": [
    "def featurize_theta(obs):\n",
    "    \"\"\"The angle itself is difficult to properly interpret in the loss as angles\n",
    "    such as 1.99 * pi and 0 are essentially the same. Therefore the angle is \n",
    "    transformed to sin(phi) and cos(phi) for comparison in the loss.\"\"\"\n",
    "\n",
    "    feat_obs = np.stack([np.sin(obs[..., 0] * np.pi), np.cos(obs[..., 0] * np.pi), obs[..., 1]], axis=-1)\n",
    "    return feat_obs"
   ]
  },
  {
   "cell_type": "code",
   "execution_count": null,
   "id": "299dfd70-a0ea-4260-b082-b8f1d048dd86",
   "metadata": {},
   "outputs": [],
   "source": [
    "from exciting_exciting_systems.related_work.algorithms import excite_with_GOATs"
   ]
  },
  {
   "cell_type": "code",
   "execution_count": null,
   "id": "cbcf0af9-c064-4d27-a8e3-ef3a1e9ab885",
   "metadata": {
    "scrolled": true
   },
   "outputs": [],
   "source": [
    "observations, actions = excite_with_GOATs(\n",
    "    n_amplitudes=100,\n",
    "    env=env,\n",
    "    bounds_duration=(1,50),\n",
    "    population_size=20,\n",
    "    n_generations=None,\n",
    "    n_support_points=1600,\n",
    "    featurize=featurize_theta,\n",
    "    seed=0,\n",
    "    verbose=True\n",
    ")"
   ]
  },
  {
   "cell_type": "code",
   "execution_count": null,
   "id": "def32574-f7ac-46d0-9c86-f0d3bd1c1cf5",
   "metadata": {},
   "outputs": [],
   "source": [
    "fig, axs = plot_sequence(\n",
    "    observations=observations[0, ...],\n",
    "    actions=actions[0, ...],\n",
    "    tau=tau,\n",
    "    obs_labels=[r\"$\\theta$\", r\"$\\omega$\"],\n",
    "    action_labels=[r\"$u$\"],\n",
    ");\n",
    "plt.show()"
   ]
  },
  {
   "cell_type": "code",
   "execution_count": null,
   "id": "043e22d7-8d24-46ea-b948-61225b83ed90",
   "metadata": {},
   "outputs": [],
   "source": []
  },
  {
   "cell_type": "code",
   "execution_count": null,
   "id": "e683305a-8eee-4458-adf5-2247e369dea9",
   "metadata": {},
   "outputs": [],
   "source": []
  },
  {
   "cell_type": "code",
   "execution_count": null,
   "id": "6365b549-43f4-452b-b636-6863ed9dbc36",
   "metadata": {},
   "outputs": [],
   "source": [
    "from pymoo.core.problem import ElementwiseProblem\n",
    "from pymoo.core.variable import Real, Integer, Choice, Binary\n",
    "\n",
    "from pymoo.problems import get_problem\n",
    "from pymoo.optimize import minimize\n",
    "from pymoo.algorithms.soo.nonconvex.ga import GA\n",
    "from pymoo.core.mixed import MixedVariableGA\n",
    "\n",
    "from pymoo.operators.repair.rounding import RoundingRepair\n",
    "from pymoo.operators.sampling.rnd import PermutationRandomSampling, IntegerRandomSampling\n",
    "from pymoo.operators.crossover.ox import OrderCrossover\n",
    "from pymoo.operators.mutation.inversion import InversionMutation\n",
    "from pymoo.operators.crossover.sbx import SBX\n",
    "from pymoo.operators.mutation.pm import PM"
   ]
  },
  {
   "cell_type": "markdown",
   "id": "eb404c0d-3ed5-4e50-bf07-c1bfba214809",
   "metadata": {},
   "source": [
    "## GOATS:\n",
    "- What is the influence of the Lehmer coding on the result of the algorithm?\n",
    "- What genetic algorithm is best suited here?"
   ]
  },
  {
   "cell_type": "code",
   "execution_count": null,
   "id": "6c962f83-b722-4c67-9cea-fd4e21ede861",
   "metadata": {},
   "outputs": [],
   "source": [
    "def decode(lehmer_code: list[int]) -> list[int]:\n",
    "    \"\"\"Decode Lehmer code to permutation.\n",
    "\n",
    "    This function decodes Lehmer code represented as a list of integers to a permutation.\n",
    "    \"\"\"\n",
    "\n",
    "    n = len(lehmer_code)\n",
    "    \n",
    "    all_indices = list(range(n))\n",
    "    output = []\n",
    "    for k in lehmer_code:\n",
    "        value = all_indices[k]\n",
    "        output.append(value)\n",
    "        all_indices.remove(value)\n",
    "    return output"
   ]
  },
  {
   "cell_type": "code",
   "execution_count": null,
   "id": "e2926499-b24a-4be3-bd8b-a04ca64a6d83",
   "metadata": {},
   "outputs": [],
   "source": [
    "def featurize_theta(obs):\n",
    "    \"\"\"The angle itself is difficult to properly interpret in the loss as angles\n",
    "    such as 1.99 * pi and 0 are essentially the same. Therefore the angle is \n",
    "    transformed to sin(phi) and cos(phi) for comparison in the loss.\"\"\"\n",
    "\n",
    "    feat_obs = np.stack([np.sin(obs[..., 0] * np.pi), np.cos(obs[..., 0] * np.pi), obs[..., 1]], axis=-1)\n",
    "    return feat_obs"
   ]
  },
  {
   "cell_type": "code",
   "execution_count": null,
   "id": "49fb71ee-b76f-4a49-aed9-0146f8fc0737",
   "metadata": {},
   "outputs": [],
   "source": [
    "class GoatsProblem(ElementwiseProblem):\n",
    "\n",
    "    def __init__(self, n_amplitudes, max_duration, **kwargs):\n",
    "        super().__init__(\n",
    "            n_var=2*n_amplitudes,\n",
    "            n_obj=1,\n",
    "            xl=np.concatenate([np.zeros(n_amplitudes), np.ones(n_amplitudes)]),\n",
    "            xu=np.concatenate([\n",
    "                np.ones(n_amplitudes) * np.linspace(0, n_amplitudes-1, n_amplitudes)[::-1],\n",
    "                np.ones(n_amplitudes) * max_duration\n",
    "            ]),\n",
    "        )\n",
    "        amplitude_sampler = LatinHypercube(d=1)\n",
    "        self.n_amplitudes = n_amplitudes\n",
    "        self.amplitudes = amplitude_sampler.random(n=n_amplitudes) * 2 - 1\n",
    "\n",
    "    def _evaluate(self, x, out, *args, **kwargs):\n",
    "        indices = decode(x[:self.n_amplitudes])\n",
    "\n",
    "        applied_amplitudes = self.amplitudes[indices]\n",
    "\n",
    "        actions = generate_aprbs(\n",
    "            amplitudes=applied_amplitudes,\n",
    "            durations=x[self.n_amplitudes:]\n",
    "        )[None, :, None]\n",
    "\n",
    "        observations = simulate_ahead_with_env(\n",
    "            env,\n",
    "            obs,\n",
    "            env_state,\n",
    "            actions,\n",
    "        )[0]\n",
    "\n",
    "        feat_observations = featurize_theta(observations)\n",
    "\n",
    "        score = MC_uniform_sampling_distribution_approximation(\n",
    "            data_points=feat_observations,\n",
    "            support_points=support_points\n",
    "        )\n",
    "        N = observations.shape[0]\n",
    "\n",
    "        rho_obs = 1\n",
    "        rho_act = 1\n",
    "        penalty_terms = rho_obs * soft_penalty(a=observations, a_max=1) + rho_act * soft_penalty(a=actions, a_max=1)\n",
    "        \n",
    "        out[\"F\"] = 1 * score + penalty_terms.item()"
   ]
  },
  {
   "cell_type": "code",
   "execution_count": null,
   "id": "ae020809-e59e-471a-9ccc-551a788e9480",
   "metadata": {},
   "outputs": [],
   "source": [
    "support_points = LatinHypercube(d=2).random(n=1600) * 2 - 1\n",
    "support_points = featurize_theta(support_points)\n",
    "\n",
    "support_points.shape"
   ]
  },
  {
   "cell_type": "code",
   "execution_count": null,
   "id": "6011b109-fc58-4d4d-865d-a0e0300103d1",
   "metadata": {
    "scrolled": true
   },
   "outputs": [],
   "source": [
    "n_amplitudes = 100\n",
    "max_duration = 50\n",
    "\n",
    "problem = GoatsProblem(\n",
    "    n_amplitudes=n_amplitudes,\n",
    "    max_duration=max_duration\n",
    ")\n",
    "\n",
    "algorithm = GA(\n",
    "    pop_size=20,\n",
    "    sampling=IntegerRandomSampling(),\n",
    "    crossover=SBX(prob=1.0, eta=10.0, vtype=float, repair=RoundingRepair()),\n",
    "    mutation=PM(prob=1.0, eta=10.0, vtype=float, repair=RoundingRepair()),\n",
    "    eliminate_duplicates=True,\n",
    ")\n",
    "\n",
    "res = minimize(\n",
    "    problem,\n",
    "    algorithm,\n",
    "    seed=3,\n",
    "    save_history=False,\n",
    "    verbose=True\n",
    ")\n",
    "\n",
    "print(\"Best solution found: %s\" % res.X)\n",
    "print(\"Function value: %s\" % res.F)\n",
    "print(\"Constraint violation: %s\" % res.CV)"
   ]
  },
  {
   "cell_type": "code",
   "execution_count": null,
   "id": "33bb021a-7aa7-4e5d-8742-9beed253eade",
   "metadata": {},
   "outputs": [],
   "source": [
    "indices = decode(res.X[:problem.n_amplitudes])\n",
    "\n",
    "applied_amplitudes = problem.amplitudes[indices]\n",
    "\n",
    "actions = generate_aprbs(\n",
    "    amplitudes=applied_amplitudes,\n",
    "    durations=res.X[problem.n_amplitudes:]\n",
    ")[None, :, None]\n",
    "\n",
    "observations = simulate_ahead_with_env(\n",
    "    env,\n",
    "    obs,\n",
    "    env_state,\n",
    "    actions,\n",
    ")"
   ]
  },
  {
   "cell_type": "code",
   "execution_count": null,
   "id": "e5d64536-8ac1-43e7-ae4b-adca13e7bfb3",
   "metadata": {},
   "outputs": [],
   "source": [
    "fig, axs = plot_sequence(\n",
    "    observations=observations[0, ...],\n",
    "    actions=actions[0, ...],\n",
    "    tau=tau,\n",
    "    obs_labels=[r\"$\\theta$\", r\"$\\omega$\"],\n",
    "    action_labels=[r\"$u$\"],\n",
    ");\n",
    "plt.show()"
   ]
  },
  {
   "cell_type": "markdown",
   "id": "8c3d2b02-d669-4442-805f-6859646e02b9",
   "metadata": {},
   "source": [
    "## sGOATS:\n",
    "\n",
    "- essentially repeat GOATs for subsets of the data\n",
    "- either take previous data points into account or not (I would argue that you should always take previous datapoints into account?)"
   ]
  },
  {
   "cell_type": "code",
   "execution_count": null,
   "id": "6e576713-c919-4b1d-8409-6a26b4b74efa",
   "metadata": {},
   "outputs": [],
   "source": []
  }
 ],
 "metadata": {
  "kernelspec": {
   "display_name": "Python 3 (ipykernel)",
   "language": "python",
   "name": "python3"
  },
  "language_info": {
   "codemirror_mode": {
    "name": "ipython",
    "version": 3
   },
   "file_extension": ".py",
   "mimetype": "text/x-python",
   "name": "python",
   "nbconvert_exporter": "python",
   "pygments_lexer": "ipython3",
   "version": "3.11.9"
  }
 },
 "nbformat": 4,
 "nbformat_minor": 5
}
