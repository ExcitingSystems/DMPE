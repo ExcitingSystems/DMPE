{
 "cells": [
  {
   "cell_type": "code",
   "execution_count": null,
   "id": "f5271a5b-91b3-4339-aadc-c6b21bc4d531",
   "metadata": {},
   "outputs": [],
   "source": [
    "%load_ext autoreload\n",
    "%autoreload 2\n",
    "%reload_ext line_profiler"
   ]
  },
  {
   "cell_type": "code",
   "execution_count": null,
   "id": "4c6c2442-45dd-4dbf-abe3-d4ffa2a8b7f4",
   "metadata": {},
   "outputs": [],
   "source": [
    "from functools import partial\n",
    "\n",
    "import time\n",
    "from tqdm.notebook import tqdm\n",
    "import numpy as np\n",
    "import matplotlib.pyplot as plt\n",
    "import plotly.express as px\n",
    "import plotly.graph_objects as go"
   ]
  },
  {
   "cell_type": "code",
   "execution_count": null,
   "id": "cf7a0514-c52c-448a-aa2e-2c1b71ae320e",
   "metadata": {},
   "outputs": [],
   "source": [
    "import jax\n",
    "import jax.numpy as jnp\n",
    "\n",
    "jax.config.update('jax_platform_name', 'cpu')\n",
    "\n",
    "import diffrax\n",
    "import equinox as eqx\n",
    "import optax\n",
    "\n",
    "from haiku import PRNGSequence"
   ]
  },
  {
   "cell_type": "code",
   "execution_count": null,
   "id": "d839e870-ad25-40f2-a69a-67a8dc27aa4d",
   "metadata": {},
   "outputs": [],
   "source": [
    "from cmaes import CMAwM\n",
    "from scipy.stats.qmc import LatinHypercube\n",
    "\n",
    "import exciting_environments as excenvs\n",
    "\n",
    "import exciting_exciting_systems\n",
    "# from exciting_exciting_systems.models.model_utils import simulate_ahead_with_env\n",
    "\n",
    "from exciting_exciting_systems.evaluation.plotting_utils import plot_sequence\n",
    "\n",
    "from exciting_exciting_systems.related_work.np_reimpl.env_utils import simulate_ahead_with_env\n",
    "from exciting_exciting_systems.related_work.excitation_utils import generate_aprbs, soft_penalty\n",
    "from exciting_exciting_systems.related_work.np_reimpl.pendulum import Pendulum\n",
    "from exciting_exciting_systems.related_work.np_reimpl.metrics import MC_uniform_sampling_distribution_approximation"
   ]
  },
  {
   "cell_type": "markdown",
   "id": "2fea19b0-4e86-4348-8c5a-4d501ebeeea7",
   "metadata": {},
   "source": [
    "---"
   ]
  },
  {
   "cell_type": "code",
   "execution_count": null,
   "id": "c44db260-a89b-495f-88c2-48818103bb9e",
   "metadata": {},
   "outputs": [],
   "source": [
    "batch_size = 1\n",
    "tau = 2e-2\n",
    "\n",
    "env = Pendulum(\n",
    "    batch_size=batch_size,\n",
    "    tau=tau,\n",
    "    max_torque=5\n",
    ")"
   ]
  },
  {
   "cell_type": "code",
   "execution_count": null,
   "id": "e8697470-22f4-4464-841d-0892ce9c6ef0",
   "metadata": {},
   "outputs": [],
   "source": [
    "h = 100\n",
    "\n",
    "action_parameters = np.concatenate([\n",
    "    np.random.uniform(low=-1, high=1, size=(h,)).astype(np.float32),\n",
    "    np.random.randint(low=2, high=50, size=(h,), dtype=np.int32)\n",
    "])\n",
    "\n",
    "actions = generate_aprbs(\n",
    "    amplitudes=action_parameters[:h],\n",
    "    durations=np.abs(action_parameters[h:].astype(np.int32))\n",
    ")[None, :, None]\n",
    "\n",
    "plt.plot(np.squeeze(actions))"
   ]
  },
  {
   "cell_type": "code",
   "execution_count": null,
   "id": "a07d102c-4a41-440d-8b04-07bfcfcb964e",
   "metadata": {},
   "outputs": [],
   "source": [
    "obs, env_state = env.reset()\n",
    "obs = obs.astype(np.float32)\n",
    "env_state = env_state.astype(jnp.float32)\n",
    "\n",
    "observations, _ = simulate_ahead_with_env(\n",
    "    env,\n",
    "    obs,\n",
    "    env_state,\n",
    "    actions,\n",
    ")\n",
    "\n",
    "print(\"actions.shape:\", actions.shape)\n",
    "print(\"observations.shape:\", observations.shape)\n",
    "\n",
    "print(\" \\n One of the trajectories:\")\n",
    "fig, axs = plot_sequence(\n",
    "    observations=observations[0, ...],\n",
    "    actions=actions[0, ...],\n",
    "    tau=tau,\n",
    "    obs_labels=[r\"$\\theta$\", r\"$\\omega$\"],\n",
    "    action_labels=[r\"$u$\"],\n",
    ");\n",
    "plt.show()"
   ]
  },
  {
   "cell_type": "code",
   "execution_count": null,
   "id": "a70a786a-6a4d-4332-a114-ada5ea988627",
   "metadata": {
    "scrolled": true
   },
   "outputs": [],
   "source": [
    "n_amplitude_levels = 1000\n",
    "\n",
    "# use latin hypercube sampling to generate the amplitude levels\n",
    "amplitude_sampler = LatinHypercube(d=1)\n",
    "\n",
    "amplitudes = amplitude_sampler.random(n=n_amplitude_levels) * 2 - 1"
   ]
  },
  {
   "cell_type": "code",
   "execution_count": null,
   "id": "b84f19a5-6338-4b2f-8ff5-1b96c328b4dc",
   "metadata": {},
   "outputs": [],
   "source": [
    "plt.plot(amplitudes)"
   ]
  },
  {
   "cell_type": "markdown",
   "id": "ab27063b-fa89-478a-920b-379f9726a2dc",
   "metadata": {},
   "source": [
    "## GOATS:\n",
    "- What is the influence of the Lehmer coding on the result of the algorithm?\n",
    "- What genetic algorithm is best suited here?"
   ]
  },
  {
   "cell_type": "code",
   "execution_count": null,
   "id": "adade1fe-b5ec-4d92-a907-749c9a0a05cd",
   "metadata": {},
   "outputs": [],
   "source": [
    "from exciting_exciting_systems.related_work.algorithms import excite_with_GOATs"
   ]
  },
  {
   "cell_type": "code",
   "execution_count": null,
   "id": "5d953167-03df-4bc6-ab2e-5dc0322b34f6",
   "metadata": {},
   "outputs": [],
   "source": [
    "def featurize_theta(obs):\n",
    "    \"\"\"The angle itself is difficult to properly interpret in the loss as angles\n",
    "    such as 1.99 * pi and 0 are essentially the same. Therefore the angle is \n",
    "    transformed to sin(phi) and cos(phi) for comparison in the loss.\"\"\"\n",
    "\n",
    "    feat_obs = np.stack([np.sin(obs[..., 0] * np.pi), np.cos(obs[..., 0] * np.pi), obs[..., 1]], axis=-1)\n",
    "    return feat_obs"
   ]
  },
  {
   "cell_type": "code",
   "execution_count": null,
   "id": "cbcf0af9-c064-4d27-a8e3-ef3a1e9ab885",
   "metadata": {},
   "outputs": [],
   "source": [
    "observations, actions = excite_with_GOATs(\n",
    "    n_amplitudes=100,\n",
    "    env=env,\n",
    "    bounds_duration=(1,50),\n",
    "    population_size=20,\n",
    "    n_generations=10,\n",
    "    n_support_points=1600,\n",
    "    featurize=featurize_theta,\n",
    "    seed=0,\n",
    "    verbose=True\n",
    ")"
   ]
  },
  {
   "cell_type": "code",
   "execution_count": null,
   "id": "def32574-f7ac-46d0-9c86-f0d3bd1c1cf5",
   "metadata": {},
   "outputs": [],
   "source": [
    "fig, axs = plot_sequence(\n",
    "    observations=observations[0, ...],\n",
    "    actions=actions[0, ...],\n",
    "    tau=tau,\n",
    "    obs_labels=[r\"$\\theta$\", r\"$\\omega$\"],\n",
    "    action_labels=[r\"$u$\"],\n",
    ");\n",
    "plt.show()"
   ]
  },
  {
   "cell_type": "markdown",
   "id": "8c3d2b02-d669-4442-805f-6859646e02b9",
   "metadata": {},
   "source": [
    "## sGOATS:\n",
    "\n",
    "- essentially repeat GOATs for subsets of the data"
   ]
  },
  {
   "cell_type": "code",
   "execution_count": null,
   "id": "d47886ac-0ca7-44b4-8a73-75c95189ae2f",
   "metadata": {},
   "outputs": [],
   "source": [
    "from exciting_exciting_systems.related_work.algorithms import excite_with_sGOATs"
   ]
  },
  {
   "cell_type": "markdown",
   "id": "ec94828e-7c06-4a79-82f1-846688b0aad7",
   "metadata": {},
   "source": [
    "#### without reuse:\n",
    "perform ```n_amplitude_groups``` independent optimizations"
   ]
  },
  {
   "cell_type": "code",
   "execution_count": null,
   "id": "bbee4edf-097f-43c5-85fc-5252fdf54780",
   "metadata": {},
   "outputs": [],
   "source": [
    "all_observations = []\n",
    "all_actions = []\n",
    "\n",
    "all_observations, all_actions = excite_with_sGOATs(\n",
    "    n_amplitudes=600,\n",
    "    n_amplitude_groups=6,\n",
    "    reuse_observations=False,\n",
    "    all_observations=all_observations,\n",
    "    all_actions=all_actions,\n",
    "    env=env,\n",
    "    bounds_duration=(1,50),\n",
    "    population_size=20,\n",
    "    n_generations=20,\n",
    "    n_support_points=1600,\n",
    "    featurize=featurize_theta,\n",
    "    seed=0,\n",
    "    verbose=True\n",
    ")\n",
    "\n",
    "observations = np.concatenate(all_observations)\n",
    "actions = np.concatenate(all_actions)"
   ]
  },
  {
   "cell_type": "code",
   "execution_count": null,
   "id": "1b62493c-bb97-46cb-9c02-a9517f6e2e51",
   "metadata": {},
   "outputs": [],
   "source": [
    "fig, axs = plot_sequence(\n",
    "    observations=observations,\n",
    "    actions=actions,\n",
    "    tau=tau,\n",
    "    obs_labels=[r\"$\\theta$\", r\"$\\omega$\"],\n",
    "    action_labels=[r\"$u$\"],\n",
    ");\n",
    "plt.show()"
   ]
  },
  {
   "cell_type": "markdown",
   "id": "d9049d5b-1409-4167-8aed-b12876d2413c",
   "metadata": {},
   "source": [
    "#### with reuse:\n",
    "reuse the observations from a previous amplitude group for the current iteration"
   ]
  },
  {
   "cell_type": "code",
   "execution_count": null,
   "id": "6dbf7ff7-fec8-41d2-9759-ddc78497d538",
   "metadata": {},
   "outputs": [],
   "source": [
    "all_observations = []\n",
    "all_actions = []\n",
    "\n",
    "all_observations, all_actions = excite_with_sGOATs(\n",
    "    n_amplitudes=600,\n",
    "    n_amplitude_groups=6,\n",
    "    reuse_observations=True,\n",
    "    all_observations=all_observations,\n",
    "    all_actions=all_actions,\n",
    "    env=env,\n",
    "    bounds_duration=(1,50),\n",
    "    population_size=20,\n",
    "    n_generations=20,\n",
    "    n_support_points=1600,\n",
    "    featurize=featurize_theta,\n",
    "    seed=0,\n",
    "    verbose=True\n",
    ")\n",
    "\n",
    "observations = np.concatenate(all_observations)\n",
    "actions = np.concatenate(all_actions)"
   ]
  },
  {
   "cell_type": "code",
   "execution_count": null,
   "id": "6017a697-da3e-46f8-828d-a5f50a276ed9",
   "metadata": {},
   "outputs": [],
   "source": [
    "fig, axs = plot_sequence(\n",
    "    observations=observations,\n",
    "    actions=actions,\n",
    "    tau=tau,\n",
    "    obs_labels=[r\"$\\theta$\", r\"$\\omega$\"],\n",
    "    action_labels=[r\"$u$\"],\n",
    ");\n",
    "plt.show()"
   ]
  }
 ],
 "metadata": {
  "kernelspec": {
   "display_name": "Python 3 (ipykernel)",
   "language": "python",
   "name": "python3"
  },
  "language_info": {
   "codemirror_mode": {
    "name": "ipython",
    "version": 3
   },
   "file_extension": ".py",
   "mimetype": "text/x-python",
   "name": "python",
   "nbconvert_exporter": "python",
   "pygments_lexer": "ipython3",
   "version": "3.11.9"
  }
 },
 "nbformat": 4,
 "nbformat_minor": 5
}
