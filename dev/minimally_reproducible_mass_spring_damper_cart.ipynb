{
 "cells": [
  {
   "cell_type": "code",
   "execution_count": null,
   "id": "d35a09f8-2fd2-4f35-98a2-c586667a99f3",
   "metadata": {},
   "outputs": [],
   "source": [
    "import os\n",
    "os.environ['CUDA_VISIBLE_DEVICES'] = '0'\n",
    "os.environ[\"XLA_PYTHON_CLIENT_PREALLOCATE\"]=\"false\""
   ]
  },
  {
   "cell_type": "code",
   "execution_count": null,
   "id": "7900de91-a7e1-46d3-8ff5-18c12028efd4",
   "metadata": {},
   "outputs": [],
   "source": [
    "import matplotlib.pyplot as plt\n",
    "import jax\n",
    "import jax.numpy as jnp\n",
    "gpus = jax.devices()\n",
    "jax.config.update(\"jax_default_device\", gpus[0])\n",
    "\n",
    "import jax_dataclasses as jdc\n",
    "from haiku import PRNGSequence"
   ]
  },
  {
   "cell_type": "code",
   "execution_count": null,
   "id": "5d0c8f17-4a14-460d-877f-932ef6c1cca5",
   "metadata": {},
   "outputs": [],
   "source": [
    "def plot_sequence(observations, actions, tau, obs_labels, action_labels, fig=None, axs=None, dotted=False):\n",
    "    \"\"\"Plots a given sequence of observations and actions.\"\"\"\n",
    "\n",
    "    if fig is None or axs is None:\n",
    "        fig, axs = plt.subplots(nrows=1, ncols=3, figsize=(18, 6))\n",
    "\n",
    "    t = jnp.linspace(0, observations.shape[0] - 1, observations.shape[0]) * tau\n",
    "\n",
    "    for observation_idx in range(observations.shape[-1]):\n",
    "        axs[0].plot(\n",
    "            t,\n",
    "            jnp.squeeze(observations[..., observation_idx]),\n",
    "            \".\" if dotted else \"-\",\n",
    "            markersize=1,\n",
    "            label=obs_labels[observation_idx],\n",
    "        )\n",
    "\n",
    "    axs[0].title.set_text(\"observations, timeseries\")\n",
    "    axs[0].legend()\n",
    "    axs[0].set_ylabel(r\"x\")\n",
    "    axs[0].set_xlabel(\"t in seconds\")\n",
    "\n",
    "    if observations.shape[-1] == 2:\n",
    "        axs[1].scatter(jnp.squeeze(observations[..., 0]), jnp.squeeze(observations[..., 1]), s=1)\n",
    "        axs[1].title.set_text(\"observation plane\")\n",
    "        axs[1].set_ylabel(obs_labels[1])\n",
    "        axs[1].set_xlabel(obs_labels[0])\n",
    "\n",
    "    if actions is not None:\n",
    "        for action_idx in range(actions.shape[-1]):\n",
    "            axs[2].plot(t[:-1], jnp.squeeze(actions[..., action_idx]), label=action_labels[action_idx])\n",
    "        axs[2].title.set_text(\"actions, timeseries\")\n",
    "        axs[2].legend()\n",
    "        axs[2].set_ylabel(r\"u$\")\n",
    "        axs[2].set_xlabel(r\"t in seconds\")\n",
    "\n",
    "    for ax in axs:\n",
    "        ax.grid(True)\n",
    "\n",
    "    fig.tight_layout()\n",
    "    return fig, axs"
   ]
  },
  {
   "cell_type": "code",
   "execution_count": null,
   "id": "07aad919-ba6b-4a24-bbb7-4be0f1ef8a4f",
   "metadata": {},
   "outputs": [],
   "source": [
    "@jdc.pytree_dataclass\n",
    "class StaticParams:\n",
    "    \"\"\"Dataclass containing the static parameters of the environment.\"\"\"\n",
    "    c: jax.Array\n",
    "    s: jax.Array\n",
    "    l: jax.Array\n",
    "    a: jax.Array\n",
    "    m: jax.Array"
   ]
  },
  {
   "cell_type": "code",
   "execution_count": null,
   "id": "b5abfb06-09ae-4ded-85eb-e5e85435522d",
   "metadata": {},
   "outputs": [],
   "source": [
    "def msdc_step(state, F, params, tau):\n",
    "    x1, x2 = tuple(state)\n",
    "\n",
    "    d_x1 = x2.copy()\n",
    "    d_x2 = (\n",
    "        F.item()\n",
    "        - x1 * (params.s * params.l) / (jnp.sqrt(x1**2 + params.a**2))\n",
    "        - params.c * x2\n",
    "    ) / params.m\n",
    "\n",
    "    x1 = x1 + tau * d_x1\n",
    "    x2 = x2 + tau * d_x2\n",
    "\n",
    "    return jnp.array([x1, x2])"
   ]
  },
  {
   "cell_type": "code",
   "execution_count": null,
   "id": "73d4246f-0183-4b5c-a9a0-470235384c41",
   "metadata": {},
   "outputs": [],
   "source": [
    "static_params = StaticParams(\n",
    "    c=10, s=800, l=0.17, a=0.25, m=5\n",
    ")\n",
    "tau = 0.01"
   ]
  },
  {
   "cell_type": "code",
   "execution_count": null,
   "id": "e06da169-0cc8-47c7-ad82-a78b18d2710e",
   "metadata": {},
   "outputs": [],
   "source": [
    "l = jnp.arange(21, 205)[..., None]\n",
    "N = 2048\n",
    "\n",
    "k = jnp.linspace(0, N-1, N)[None, ...]\n",
    "\n",
    "f_s = 100\n",
    "f_0 = f_s / N"
   ]
  },
  {
   "cell_type": "code",
   "execution_count": null,
   "id": "2e386d0b-6699-48dd-afeb-5c211746b6ae",
   "metadata": {},
   "outputs": [],
   "source": [
    "# generate multisine\n",
    "data_rng = PRNGSequence(jax.random.PRNGKey(seed=0))\n",
    "\n",
    "phi_l = jax.random.uniform(key=next(data_rng), shape=l.shape, minval=0, maxval=jnp.pi * 2)\n",
    "\n",
    "actions = jnp.sin(2 * jnp.pi * l * f_0 / f_s * k + phi_l)\n",
    "actions = jnp.sum(actions, axis=0)[..., None]\n",
    "\n",
    "actions =  actions * 8 / jnp.std(actions)"
   ]
  },
  {
   "cell_type": "code",
   "execution_count": null,
   "id": "0e0ab3c3-ef93-495d-aff8-e7333ea95329",
   "metadata": {},
   "outputs": [],
   "source": [
    "# run simulation starting from the origin\n",
    "\n",
    "state = jnp.array([0, 0])\n",
    "\n",
    "states = []\n",
    "\n",
    "for action in actions:\n",
    "    next_state = msdc_step(state, action, static_params, tau)\n",
    "    state = next_state\n",
    "\n",
    "    states.append(state)\n",
    "\n",
    "states = jnp.stack(states)"
   ]
  },
  {
   "cell_type": "code",
   "execution_count": null,
   "id": "a95fccd3-ad95-4903-875f-aa5d1969dac3",
   "metadata": {},
   "outputs": [],
   "source": [
    "plot_sequence(states, actions[:-1], tau, [\"deflection in m\", \"velocity in m/s\"], [\"force in N\"])"
   ]
  },
  {
   "cell_type": "code",
   "execution_count": null,
   "id": "5688b640-82e9-4ad2-9d79-42145e39b84a",
   "metadata": {},
   "outputs": [],
   "source": []
  }
 ],
 "metadata": {
  "kernelspec": {
   "display_name": "Python 3 (ipykernel)",
   "language": "python",
   "name": "python3"
  },
  "language_info": {
   "codemirror_mode": {
    "name": "ipython",
    "version": 3
   },
   "file_extension": ".py",
   "mimetype": "text/x-python",
   "name": "python",
   "nbconvert_exporter": "python",
   "pygments_lexer": "ipython3",
   "version": "3.11.9"
  }
 },
 "nbformat": 4,
 "nbformat_minor": 5
}
