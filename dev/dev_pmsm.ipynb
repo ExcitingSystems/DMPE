{
 "cells": [
  {
   "cell_type": "code",
   "execution_count": null,
   "id": "e47b0ce0-780e-4a2a-8834-3962729f79f8",
   "metadata": {
    "scrolled": true
   },
   "outputs": [],
   "source": [
    "%load_ext autoreload\n",
    "%autoreload 2\n",
    "%reload_ext line_profiler"
   ]
  },
  {
   "cell_type": "code",
   "execution_count": null,
   "id": "432bea73-ca2f-4368-b797-a7d20708ba69",
   "metadata": {},
   "outputs": [],
   "source": [
    "import os\n",
    "os.environ['CUDA_VISIBLE_DEVICES'] = '0'\n",
    "os.environ[\"XLA_PYTHON_CLIENT_PREALLOCATE\"]=\"false\"\n",
    "\n",
    "import pathlib\n",
    "from functools import partial\n",
    "\n",
    "import time\n",
    "from tqdm.notebook import tqdm\n",
    "import numpy as np\n",
    "import matplotlib.pyplot as plt\n",
    "import matplotlib as mpl\n",
    "mpl.rcParams['text.usetex'] = True\n",
    "mpl.rcParams['text.latex.preamble']=r\"\\usepackage{bm}\"\n",
    "import plotly.express as px\n",
    "import plotly.graph_objects as go"
   ]
  },
  {
   "cell_type": "code",
   "execution_count": null,
   "id": "dabdf089-62e0-49f1-aeda-1efdd59505ed",
   "metadata": {},
   "outputs": [],
   "source": [
    "import jax\n",
    "import jax.numpy as jnp\n",
    "# jax.config.update(\"jax_enable_x64\", True)\n",
    "# gpus = jax.devices()\n",
    "# jax.config.update(\"jax_default_device\", gpus[0])\n",
    "jax.config.update('jax_platform_name', 'cpu')\n",
    "\n",
    "import diffrax\n",
    "import equinox as eqx\n",
    "import optax\n",
    "\n",
    "from haiku import PRNGSequence"
   ]
  },
  {
   "cell_type": "code",
   "execution_count": null,
   "id": "e7a6bd50-20e8-45ec-bcaa-ccaa22482799",
   "metadata": {},
   "outputs": [],
   "source": [
    "import exciting_environments as excenvs\n",
    "\n",
    "import exciting_exciting_systems\n",
    "from exciting_exciting_systems.models import NeuralEulerODEPendulum, NeuralODEPendulum, NeuralEulerODE, NeuralEulerODECartpole\n",
    "from exciting_exciting_systems.models.model_utils import simulate_ahead_with_env\n",
    "from exciting_exciting_systems.models.model_training import ModelTrainer\n",
    "from exciting_exciting_systems.excitation import loss_function, Exciter\n",
    "\n",
    "from exciting_exciting_systems.utils.density_estimation import (\n",
    "    update_density_estimate_single_observation, update_density_estimate_multiple_observations, DensityEstimate, select_bandwidth\n",
    ")\n",
    "from exciting_exciting_systems.utils.signals import aprbs\n",
    "from exciting_exciting_systems.evaluation.plotting_utils import (\n",
    "    plot_sequence, append_predictions_to_sequence_plot, plot_sequence_and_prediction, plot_model_performance\n",
    ")\n",
    "from exciting_exciting_systems.evaluation.experiment_utils import (\n",
    "    get_experiment_ids, load_experiment_results, quick_eval, evaluate_experiment_metrics, evaluate_algorithm_metrics, evaluate_metrics\n",
    ")"
   ]
  },
  {
   "cell_type": "markdown",
   "id": "ffe4ed9b-89a3-409d-92a6-6d97891b6783",
   "metadata": {},
   "source": [
    "---"
   ]
  },
  {
   "cell_type": "code",
   "execution_count": null,
   "id": "bfdfeafb-18c0-406e-8d7a-9a299eea0f2c",
   "metadata": {},
   "outputs": [],
   "source": [
    "# setup PRNG\n",
    "key = jax.random.PRNGKey(seed=2)\n",
    "\n",
    "data_key, model_key, loader_key, expl_key, key = jax.random.split(key, 5)\n",
    "data_rng = PRNGSequence(data_key)"
   ]
  },
  {
   "cell_type": "code",
   "execution_count": null,
   "id": "246ba0f6-71f1-4c27-a658-af465664f9cc",
   "metadata": {},
   "outputs": [],
   "source": [
    "from exciting_environments.pmsm.pmsm_env import PMSM, PMSM_Physical"
   ]
  },
  {
   "cell_type": "code",
   "execution_count": null,
   "id": "d9c7e589-216c-43dc-b4e8-b60c29595e87",
   "metadata": {},
   "outputs": [],
   "source": [
    "batch_size=1\n",
    "\n",
    "env = PMSM(\n",
    "    pmsm_physical = PMSM_Physical(\n",
    "        control_state=\"torque\",\n",
    "        deadtime=0,\n",
    "        batch_size=batch_size,\n",
    "        saturated=True,\n",
    "        params = {\n",
    "            \"p\": 3,\n",
    "            \"r_s\": 15e-3,\n",
    "            \"l_d\": 0.37e-3,\n",
    "            \"l_q\": 1.2e-3,\n",
    "            \"psi_p\": 65.6e-3,\n",
    "            \"u_dc\": 400,\n",
    "            \"i_n\": 250,\n",
    "            \"max_omega_el\": 3000 / 60 * 2 * jnp.pi,\n",
    "        }\n",
    "    ),\n",
    "    gamma=0.85,\n",
    "    batch_size=batch_size,\n",
    "    static_params = {\n",
    "        \"p_omega\": 0.00005,\n",
    "        \"p_reference\": 0.0002,\n",
    "        \"p_reset\": 1.0,\n",
    "        \"i_lim_multiplier\": 1.2,\n",
    "        \"constant_omega\": True,\n",
    "        \"omega_ramp_min\": 20000,\n",
    "        \"omega_ramp_max\": 25000,\n",
    "    }\n",
    ")"
   ]
  },
  {
   "cell_type": "code",
   "execution_count": null,
   "id": "e52e3f24-59d0-489e-970c-5cf9c25b64d7",
   "metadata": {},
   "outputs": [],
   "source": [
    "act=jnp.repeat(jnp.array([0.03,0.03])[:,None],BATCH_SIZE,axis=1).T\n",
    "act.shape"
   ]
  },
  {
   "cell_type": "code",
   "execution_count": null,
   "id": "b1483bde-71b2-49ff-a0af-5574b90ea87f",
   "metadata": {},
   "outputs": [],
   "source": [
    "obs, state = env.reset()\n",
    "\n",
    "n_steps = 99\n",
    "actions = jnp.concatenate([aprbs(n_steps, batch_size, 1, 10, next(data_rng)), aprbs(n_steps, batch_size, 1, 10, next(data_rng))], axis=-1)\n",
    "\n",
    "observations = [obs[..., 0:2]]\n",
    "\n",
    "for i in range(actions.shape[1]):\n",
    "   \n",
    "    obs, state = new_motor_env.vmap_step(state, actions[:, i,:])\n",
    "    observations.append(obs[...,0:2])"
   ]
  },
  {
   "cell_type": "code",
   "execution_count": null,
   "id": "a29c6ace-b88f-4ffc-9ee7-7b404940f99d",
   "metadata": {},
   "outputs": [],
   "source": [
    "plot_sequence(np.concatenate(observations), np.concatenate(actions), env.tau, obs_labels=env.obs_description[:2], action_labels=['u_d', 'u_q'])"
   ]
  },
  {
   "cell_type": "code",
   "execution_count": null,
   "id": "9b94ea73-12fc-494c-bf4d-ad0a4f19ff68",
   "metadata": {},
   "outputs": [],
   "source": []
  }
 ],
 "metadata": {
  "kernelspec": {
   "display_name": "Python 3 (ipykernel)",
   "language": "python",
   "name": "python3"
  },
  "language_info": {
   "codemirror_mode": {
    "name": "ipython",
    "version": 3
   },
   "file_extension": ".py",
   "mimetype": "text/x-python",
   "name": "python",
   "nbconvert_exporter": "python",
   "pygments_lexer": "ipython3",
   "version": "3.11.9"
  }
 },
 "nbformat": 4,
 "nbformat_minor": 5
}
