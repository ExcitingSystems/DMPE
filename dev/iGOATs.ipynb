{
 "cells": [
  {
   "cell_type": "code",
   "execution_count": null,
   "id": "06b5328b-aca0-4d5c-86c1-deef7d8b98ed",
   "metadata": {},
   "outputs": [],
   "source": [
    "%load_ext autoreload\n",
    "%autoreload 2\n",
    "%reload_ext line_profiler"
   ]
  },
  {
   "cell_type": "code",
   "execution_count": null,
   "id": "30a3c5dc-ea5c-4e83-91ab-66313cb7883d",
   "metadata": {},
   "outputs": [],
   "source": [
    "from functools import partial\n",
    "\n",
    "import time\n",
    "from tqdm.notebook import tqdm\n",
    "import numpy as np\n",
    "import matplotlib.pyplot as plt\n",
    "import plotly.express as px\n",
    "import plotly.graph_objects as go"
   ]
  },
  {
   "cell_type": "code",
   "execution_count": null,
   "id": "f5e770ca-d04e-4c30-82db-b2458256e322",
   "metadata": {},
   "outputs": [],
   "source": [
    "import jax\n",
    "import jax.numpy as jnp\n",
    "\n",
    "import diffrax\n",
    "import equinox as eqx\n",
    "import optax\n",
    "\n",
    "from haiku import PRNGSequence"
   ]
  },
  {
   "cell_type": "code",
   "execution_count": null,
   "id": "f5206cfe-3313-4d85-bedb-f01c420cc4ac",
   "metadata": {},
   "outputs": [],
   "source": [
    "import exciting_environments as excenvs\n",
    "\n",
    "from exciting_exciting_systems.utils.density_estimation import build_grid_2d\n",
    "from exciting_exciting_systems.models.model_utils import simulate_ahead_with_env\n",
    "from exciting_exciting_systems.utils.signals import aprbs\n",
    "from exciting_exciting_systems.evaluation.plotting_utils import plot_sequence"
   ]
  },
  {
   "cell_type": "markdown",
   "id": "e8762b63-41f7-47e6-90e2-ff27fd8e23d4",
   "metadata": {},
   "source": [
    "---"
   ]
  },
  {
   "cell_type": "code",
   "execution_count": null,
   "id": "d97abffd-59c6-43e0-b267-57d6cb3fee04",
   "metadata": {},
   "outputs": [],
   "source": [
    "# setup PRNG\n",
    "key = jax.random.PRNGKey(seed=3333) # 21)\n",
    "\n",
    "data_key, model_key, loader_key, key = jax.random.split(key, 4)\n",
    "data_rng = PRNGSequence(data_key)"
   ]
  },
  {
   "cell_type": "code",
   "execution_count": null,
   "id": "9adfd9b9-5242-4e72-9f29-2c0e271b8edc",
   "metadata": {},
   "outputs": [],
   "source": [
    "batch_size = 1\n",
    "tau = 2e-2 # 5e-2\n",
    "\n",
    "env = excenvs.make(\n",
    "    env_id='Pendulum-v0',\n",
    "    batch_size=batch_size,\n",
    "    tau=tau\n",
    ")"
   ]
  },
  {
   "cell_type": "code",
   "execution_count": null,
   "id": "c43f09f3-6f45-41bb-9451-7554df7f5189",
   "metadata": {},
   "outputs": [],
   "source": [
    "obs, state = env.reset()\n",
    "obs = obs.astype(jnp.float32)\n",
    "state = state.astype(jnp.float32)\n",
    "n_steps = 999\n",
    "\n",
    "actions = aprbs(n_steps, batch_size, 1, 10, next(data_rng))"
   ]
  },
  {
   "cell_type": "code",
   "execution_count": null,
   "id": "16232bb8-1259-49ce-b08b-ab308ea77c6d",
   "metadata": {},
   "outputs": [],
   "source": [
    "observations = jax.vmap(simulate_ahead_with_env, in_axes=(None, 0, 0, 0, 0, 0, 0))(\n",
    "    env,\n",
    "    obs,\n",
    "    state,\n",
    "    actions,\n",
    "    env.env_state_normalizer,\n",
    "    env.action_normalizer,\n",
    "    env.static_params\n",
    ")\n",
    "\n",
    "print(\"actions.shape:\", actions.shape)\n",
    "print(\"observations.shape:\", observations.shape)\n",
    "\n",
    "print(\" \\n One of the trajectories:\")\n",
    "fig, axs = plot_sequence(\n",
    "    observations=observations[0, ...],\n",
    "    actions=actions[0, ...],\n",
    "    tau=tau,\n",
    "    obs_labels=[r\"$\\theta$\", r\"$\\omega$\"],\n",
    "    action_labels=[r\"$u$\"],\n",
    ");\n",
    "plt.show()"
   ]
  },
  {
   "cell_type": "markdown",
   "id": "8ce903c4-e730-4299-a1e6-d3212d02d995",
   "metadata": {},
   "source": [
    "### Metrics:\n",
    "\n",
    "- maximum nearest neighbor sequence **[Smits+Nelles2024]**:\n",
    "\n",
    "\\begin{align}\n",
    "    f_{\\mathrm{MNNS}} = &- \\frac{1} {L} \\sum_{k=N+1}^{N+L} \\min_{i \\in \\{1, ..., N \\}} \\| \\mathbf{x}_i - \\mathbf{x}_k \\|_2 \\\\\n",
    "                        &+ \\# u_{v, l_v} d_{max},\n",
    "\\end{align}\n",
    "\n",
    "where $L$ is the sequence length made up of the next $h$ steps (which can vary in length) and $\\mathbf{x}_k$ are the new data_points that are simulated from the model. The term $\\# u_{v, l_v} d_{max}$ is meant to weaken the effect of overemphasized boundaries and corners.\n",
    "**Thereby, $\\# u_{v, l_v}$ denotes the counter of the amplitude levels of the $v$-th input dimension?** and $d_{max} = k_{d_{max}} \\Delta$, where\n",
    "\n",
    "\\begin{align}\n",
    "    \\Delta = \\frac{2}{N(N-1)} \\sum_{i=1}^N \\sum_{k=i+1}^N \\| \\mathbf{x}_i - \\mathbf{x}_k \\|_2.\n",
    "\\end{align}\n",
    "\n",
    "- audze eglais  **[Smits+Nelles2024]**:"
   ]
  },
  {
   "cell_type": "code",
   "execution_count": null,
   "id": "693dd316-48a0-45b5-bb9c-431dae5226df",
   "metadata": {},
   "outputs": [],
   "source": [
    "from sklearn.neighbors import NearestNeighbors"
   ]
  },
  {
   "cell_type": "code",
   "execution_count": null,
   "id": "2a5ba408-100b-415a-aa27-f69629b76faf",
   "metadata": {},
   "outputs": [],
   "source": [
    "@jax.jit\n",
    "def max_nearest_neighbour_seq(\n",
    "        data_points: jnp.ndarray,\n",
    "        new_data_points: jnp.ndarray\n",
    ") -> jnp.ndarray:\n",
    "    \"\"\"From [Smits+Nelles2024].\n",
    "\n",
    "    Implementation inspired by https://github.com/google/jax/discussions/9813\n",
    "\n",
    "    TODO: add penalty? I do not really understand what this penalty is supposed to be..\n",
    "    \"\"\"\n",
    "    L = new_data_points.shape[0]\n",
    "    distance_matrix = jnp.linalg.norm(data_points[:, None, :] - new_data_points[None, ...], axis=-1)\n",
    "    minimal_distances = jnp.min(distance_matrix, axis=0)\n",
    "    return - jnp.sum(minimal_distances) / L\n",
    "\n",
    "\n",
    "@jax.jit\n",
    "def audze_eglais(data_points: jnp.ndarray) -> jnp.ndarray:\n",
    "    \"\"\"From [Smits+Nelles2024]. The maximin-desing penalizes points that \n",
    "    are too close in the point distribution.\n",
    "\n",
    "    TODO: There has to be a more efficient way to do this.    \n",
    "    \"\"\"\n",
    "    N = data_points.shape[0]\n",
    "    distance_matrix = jnp.linalg.norm(data_points[:, None, :] - data_points[None, ...], axis=-1)\n",
    "    distances = distance_matrix[jax.numpy.triu_indices(N, k=1)]\n",
    "    \n",
    "    return 2 / (N * (N-1)) * jnp.sum(1 / distances**2)\n",
    "\n",
    "\n",
    "# jax does not like the dynamic slicing....\n",
    "# @jax.jit\n",
    "# def audze_eglais_loop(data_points: jnp.ndarray) -> jnp.ndarray:\n",
    "#     \"\"\"From [Smits+Nelles2024].\n",
    "\n",
    "#     Single loop based implementation.\n",
    "#     \"\"\"\n",
    "#     N = data_points.shape[0]\n",
    "\n",
    "#     def body_fun(i, carry):\n",
    "#         sum_value = carry\n",
    "\n",
    "#         helper_points = data_points[i+1:, :]\n",
    "#         distance_matrix = jnp.linalg.norm(data_points[:, None, :] - data_points[None, ...], axis=-1)\n",
    "#         sum_value += jnp.sum(distance_matrix)\n",
    "#         return sum_value        \n",
    "\n",
    "#     result = jax.lax.fori_loop(\n",
    "#         lower=0, \n",
    "#         upper=N,\n",
    "#         body_fun=body_fun,\n",
    "#         init_val=jnp.array([0.])\n",
    "#     )                  \n",
    "\n",
    "#     return result * 2 / (N * (N-1))\n",
    "\n",
    "\n",
    "@jax.jit\n",
    "def audze_eglais_loops(data_points: jnp.ndarray) -> jnp.ndarray:\n",
    "    \"\"\"From [Smits+Nelles2024].\n",
    "\n",
    "    Multiple loops based implementation. Pretty slow. This is not it\n",
    "    \"\"\"\n",
    "    N = data_points.shape[0]\n",
    "\n",
    "    def body_fun(k, carry):\n",
    "        i, sum_value = carry\n",
    "        sum_value += 1 / jnp.linalg.norm(\n",
    "            data_points[i, :] - data_points[k, :], axis=-1\n",
    "        )**2\n",
    "        return i, sum_value       \n",
    "\n",
    "    result = jax.lax.fori_loop(\n",
    "        lower=0, \n",
    "        upper=N,\n",
    "        body_fun=lambda i, carry: jax.lax.fori_loop(i+1, N, body_fun, (i, carry))[1],\n",
    "        init_val=jnp.array([0.])\n",
    "    )                  \n",
    "\n",
    "    return result * 2 / (N * (N-1))\n",
    "\n",
    "\n",
    "@jax.jit\n",
    "def MC_uniform_sampling_distribution_approximation(\n",
    "        data_points: jnp.ndarray,\n",
    "        support_points: jnp.ndarray\n",
    ") -> jnp.ndarray:\n",
    "    \"\"\"From [Smits+Nelles2024]. The minimax-design tries to minimize\n",
    "    the distances of the data points to the support points.\n",
    "\n",
    "    What stops the data points to just flock to a single support point?\n",
    "    This is just looking at the shortest distance.\n",
    "    \"\"\"\n",
    "    M = support_points.shape[0]\n",
    "    distance_matrix = jnp.linalg.norm(data_points[:, None, :] - support_points[None, ...], axis=-1)\n",
    "    minimal_distances = jnp.min(distance_matrix, axis=0)\n",
    "    return jnp.sum(minimal_distances) / M"
   ]
  },
  {
   "cell_type": "code",
   "execution_count": null,
   "id": "b8a92b9a-371e-4e33-8abb-a2b1bdcbf165",
   "metadata": {},
   "outputs": [],
   "source": [
    "new_observations = observations[:, 900:, :]\n",
    "old_observations = observations[:, :900, :]\n",
    "\n",
    "mnns_score = jax.vmap(max_nearest_neighbour_seq)(\n",
    "    data_points=old_observations,\n",
    "    new_data_points=new_observations\n",
    ")\n",
    "\n",
    "mnns_score"
   ]
  },
  {
   "cell_type": "code",
   "execution_count": null,
   "id": "28121325-c869-4a3e-9243-11ddef48034a",
   "metadata": {},
   "outputs": [],
   "source": [
    "ae_score = jax.vmap(audze_eglais)(\n",
    "    data_points=observations,\n",
    ")\n",
    "\n",
    "print(ae_score)"
   ]
  },
  {
   "cell_type": "code",
   "execution_count": null,
   "id": "03a3fa2d-4bcd-488d-9223-f61270731e22",
   "metadata": {},
   "outputs": [],
   "source": [
    "support_points = build_grid_2d(-1, 1, 50)\n",
    "MCUSDA_score = jax.vmap(MC_uniform_sampling_distribution_approximation, in_axes=(0, None),)(\n",
    "    observations,\n",
    "    support_points\n",
    ")\n",
    "MCUSDA_score"
   ]
  },
  {
   "cell_type": "markdown",
   "id": "e3fea0f0-1830-4ef8-b1ad-cf7e9c0261b1",
   "metadata": {},
   "source": [
    "### Offline iGOATs:"
   ]
  },
  {
   "cell_type": "code",
   "execution_count": null,
   "id": "443f65d9-2fd7-4d54-8e94-91c50dea9682",
   "metadata": {},
   "outputs": [],
   "source": [
    "def generate_aprbs"
   ]
  }
 ],
 "metadata": {
  "kernelspec": {
   "display_name": "Python (conda-dev-base)",
   "language": "python",
   "name": "conda-dev-base"
  },
  "language_info": {
   "codemirror_mode": {
    "name": "ipython",
    "version": 3
   },
   "file_extension": ".py",
   "mimetype": "text/x-python",
   "name": "python",
   "nbconvert_exporter": "python",
   "pygments_lexer": "ipython3",
   "version": "3.11.3"
  }
 },
 "nbformat": 4,
 "nbformat_minor": 5
}
