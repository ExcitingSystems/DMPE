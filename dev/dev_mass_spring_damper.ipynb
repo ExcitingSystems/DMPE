{
 "cells": [
  {
   "cell_type": "code",
   "execution_count": null,
   "id": "29f2e8fd-34bc-475f-b4ac-fff53059985f",
   "metadata": {
    "scrolled": true
   },
   "outputs": [],
   "source": [
    "%load_ext autoreload\n",
    "%autoreload 2\n",
    "%reload_ext line_profiler"
   ]
  },
  {
   "cell_type": "code",
   "execution_count": null,
   "id": "1e52c6b0-ecf3-4162-9342-16ea08ba879e",
   "metadata": {},
   "outputs": [],
   "source": [
    "import os\n",
    "os.environ['CUDA_VISIBLE_DEVICES'] = '0'\n",
    "os.environ[\"XLA_PYTHON_CLIENT_PREALLOCATE\"]=\"false\"\n",
    "\n",
    "import pathlib\n",
    "from functools import partial\n",
    "\n",
    "import time\n",
    "from tqdm.notebook import tqdm\n",
    "import numpy as np\n",
    "import matplotlib.pyplot as plt\n",
    "import matplotlib as mpl\n",
    "mpl.rcParams['text.usetex'] = True\n",
    "mpl.rcParams['text.latex.preamble']=r\"\\usepackage{bm}\"\n",
    "import plotly.express as px\n",
    "import plotly.graph_objects as go"
   ]
  },
  {
   "cell_type": "code",
   "execution_count": null,
   "id": "62398db5-2e91-42bb-9fc1-c17bb3becca4",
   "metadata": {},
   "outputs": [],
   "source": [
    "import jax\n",
    "import jax.numpy as jnp\n",
    "# jax.config.update(\"jax_enable_x64\", True)\n",
    "gpus = jax.devices()\n",
    "jax.config.update(\"jax_default_device\", gpus[0])\n",
    "\n",
    "import diffrax\n",
    "import equinox as eqx\n",
    "import optax\n",
    "\n",
    "from haiku import PRNGSequence"
   ]
  },
  {
   "cell_type": "code",
   "execution_count": null,
   "id": "0f125976-0591-43e9-8160-004b735d2b6b",
   "metadata": {},
   "outputs": [],
   "source": [
    "import exciting_environments as excenvs\n",
    "\n",
    "import exciting_exciting_systems\n",
    "from exciting_exciting_systems.models import NeuralEulerODEPendulum, NeuralODEPendulum, NeuralEulerODE, NeuralEulerODECartpole\n",
    "from exciting_exciting_systems.models.model_utils import simulate_ahead_with_env\n",
    "from exciting_exciting_systems.models.model_training import ModelTrainer\n",
    "from exciting_exciting_systems.excitation import loss_function, Exciter\n",
    "\n",
    "from exciting_exciting_systems.utils.density_estimation import (\n",
    "    update_density_estimate_single_observation, update_density_estimate_multiple_observations, DensityEstimate, select_bandwidth\n",
    ")\n",
    "from exciting_exciting_systems.utils.signals import aprbs\n",
    "from exciting_exciting_systems.evaluation.plotting_utils import (\n",
    "    plot_sequence, append_predictions_to_sequence_plot, plot_sequence_and_prediction, plot_model_performance\n",
    ")\n",
    "from exciting_exciting_systems.evaluation.experiment_utils import (\n",
    "    get_experiment_ids, load_experiment_results, quick_eval, evaluate_experiment_metrics, evaluate_algorithm_metrics, evaluate_metrics\n",
    ")"
   ]
  },
  {
   "cell_type": "markdown",
   "id": "4b288c78-c597-43b5-b2bd-c07055c76e9f",
   "metadata": {},
   "source": [
    "---"
   ]
  },
  {
   "attachments": {
    "5fc6cfca-8335-41dd-b05c-9c86e3b33cd6.png": {
     "image/png": "[encoded data removed]"
    }
   },
   "cell_type": "markdown",
   "id": "0cf7515d-7b1c-4336-8d05-b6534c9954d9",
   "metadata": {},
   "source": [
    "![image.png](attachment:5fc6cfca-8335-41dd-b05c-9c86e3b33cd6.png)"
   ]
  },
  {
   "cell_type": "code",
   "execution_count": null,
   "id": "f3ec5a78-89e8-404e-981e-678eec873e72",
   "metadata": {},
   "outputs": [],
   "source": [
    "from exciting_environments.mass_spring_damper.mass_spring_damper_env import MassSpringDamperCart"
   ]
  },
  {
   "cell_type": "code",
   "execution_count": null,
   "id": "da7623a0-ec59-4c6a-998b-3a8da34c6f71",
   "metadata": {},
   "outputs": [],
   "source": [
    "env = MassSpringDamperCart(\n",
    "    batch_size=1,\n",
    "    tau=0.01,\n",
    "    solver=diffrax.Euler(),\n",
    "    action_constraints={\"force\": 400},\n",
    "    static_params={\n",
    "        \"d\": 10,\n",
    "        \"s\": 800,\n",
    "        \"l\": 0.17,\n",
    "        \"a\": 0.25,\n",
    "        \"m\": 5,\n",
    "    },\n",
    "    physical_constraints={\n",
    "        \"deflection\": 2,\n",
    "        \"velocity\": 20,\n",
    "    },\n",
    ")"
   ]
  },
  {
   "cell_type": "code",
   "execution_count": null,
   "id": "40231113-b8c0-4f86-a13a-253abe5dc7f9",
   "metadata": {},
   "outputs": [],
   "source": [
    "obs, state = env.reset()\n",
    "obs = obs[0]\n",
    "\n",
    "n_steps = 999"
   ]
  },
  {
   "cell_type": "code",
   "execution_count": null,
   "id": "6c6a6755-a606-4217-b191-0549c8f08504",
   "metadata": {},
   "outputs": [],
   "source": [
    "data_rng = PRNGSequence(jax.random.PRNGKey(seed=0))\n",
    "l = jnp.arange(21, 204+1)[..., None]\n",
    "phi_l = jax.random.uniform(key=next(data_rng), shape=l.shape, minval=0, maxval=jnp.pi * 2)\n",
    "# A = jax.random.normal(key=next(data_rng), shape=l.shape) * 8\n",
    "# A = jax.random.normal(key=next(data_rng), shape=(1,)) * 8\n",
    "N = 2048\n",
    "\n",
    "actions = jnp.sin(2 * jnp.pi * l * 1 / N * jnp.linspace(0, 2047, 2048)[None, ...] + phi_l)\n",
    "actions = jnp.sum(actions, axis=0)[..., None] / 200\n",
    "\n",
    "actions =  actions * 8/20 / jnp.std(actions)"
   ]
  },
  {
   "cell_type": "code",
   "execution_count": null,
   "id": "a6fe9ff1-0123-4aee-b19c-d0860e186bd7",
   "metadata": {},
   "outputs": [],
   "source": [
    "plt.plot(actions)"
   ]
  },
  {
   "cell_type": "code",
   "execution_count": null,
   "id": "71aa901b-bc64-47f3-bfce-713b968ea0f4",
   "metadata": {},
   "outputs": [],
   "source": [
    "from jax.tree_util import tree_flatten\n",
    "jnp.array(tree_flatten(env.env_properties.action_constraints)[0], dtype=jnp.float32)"
   ]
  },
  {
   "cell_type": "code",
   "execution_count": null,
   "id": "4fa3b11a-54fc-4054-af73-ce72b7d24844",
   "metadata": {},
   "outputs": [],
   "source": [
    "observations, _ = simulate_ahead_with_env(env, obs, state, actions)\n",
    "\n",
    "print(\"actions.shape:\", actions.shape)\n",
    "print(\"observations.shape:\", observations.shape)\n",
    "\n",
    "print(\" \\n One of the trajectories:\")\n",
    "fig, axs = plot_sequence(\n",
    "    observations=observations,\n",
    "    actions=actions,\n",
    "    tau=env.tau,\n",
    "    obs_labels=env.obs_description,\n",
    "    action_labels=env.action_description,\n",
    ");\n",
    "plt.show()"
   ]
  },
  {
   "cell_type": "markdown",
   "id": "265736bf-309f-4bde-9fc1-995cfd2dc285",
   "metadata": {},
   "source": [
    "something is not right.. There has to be a scaling error right? The current inputs are off by a factor of 20!!\n",
    "\n",
    "- Is the implementation and parameterization correct?\n",
    "- Are the inputs correctly scaled when placed into the environment"
   ]
  },
  {
   "cell_type": "code",
   "execution_count": null,
   "id": "20fb66dd-591e-4d92-a0d7-3605609175cf",
   "metadata": {},
   "outputs": [],
   "source": [
    "observations, _ = simulate_ahead_with_env(env, obs, state, actions)\n",
    "\n",
    "print(\"actions.shape:\", actions.shape)\n",
    "print(\"observations.shape:\", observations.shape)\n",
    "\n",
    "print(\" \\n One of the trajectories:\")\n",
    "fig, axs = plot_sequence(\n",
    "    observations=observations,\n",
    "    actions=actions,\n",
    "    tau=env.tau,\n",
    "    obs_labels=env.obs_description,\n",
    "    action_labels=env.action_description,\n",
    ");\n",
    "plt.show()"
   ]
  },
  {
   "cell_type": "code",
   "execution_count": null,
   "id": "fd79d554-de7c-4913-afdc-3a05f5da16db",
   "metadata": {},
   "outputs": [],
   "source": [
    "from exciting_exciting_systems.algorithms import excite_with_dmpe"
   ]
  },
  {
   "cell_type": "code",
   "execution_count": null,
   "id": "534f054d-670b-4b1a-8200-3cbf777c395e",
   "metadata": {
    "scrolled": true
   },
   "outputs": [],
   "source": [
    "alg_params = dict(\n",
    "    bandwidth=None,\n",
    "    n_prediction_steps=50,\n",
    "    points_per_dim=50,\n",
    "    action_lr=1e-1,\n",
    "    n_opt_steps=10,\n",
    "    rho_obs=1,\n",
    "    rho_act=1,\n",
    "    penalty_order=2,\n",
    "    clip_action=True,\n",
    "    n_starts=5,\n",
    "    reuse_proposed_actions=True,\n",
    ")\n",
    "alg_params[\"bandwidth\"] = select_bandwidth(\n",
    "    delta_x=2,\n",
    "    dim=env.physical_state_dim + env.action_dim,\n",
    "    n_g=alg_params[\"points_per_dim\"],\n",
    "    percentage=0.3,\n",
    ")\n",
    "\n",
    "model_trainer_params = dict(\n",
    "    start_learning=alg_params[\"n_prediction_steps\"],\n",
    "    training_batch_size=128,\n",
    "    n_train_steps=10,\n",
    "    sequence_length=alg_params[\"n_prediction_steps\"],\n",
    "    featurize=lambda x: x,\n",
    "    model_lr=1e-4,\n",
    ")\n",
    "model_params = dict(obs_dim=env.physical_state_dim, action_dim=env.action_dim, width_size=128, depth=3, key=None)\n",
    "\n",
    "exp_params = dict(\n",
    "    seed=None,\n",
    "    n_timesteps=2_500,\n",
    "    model_class=NeuralEulerODEPendulum,\n",
    "    env_params=None,\n",
    "    alg_params=alg_params,\n",
    "    model_trainer_params=model_trainer_params,\n",
    "    model_params=model_params,\n",
    ")\n",
    "\n",
    "seed = 0\n",
    "\n",
    "key = jax.random.PRNGKey(seed=seed)\n",
    "data_key, model_key, loader_key, expl_key, key = jax.random.split(key, 5)\n",
    "data_rng = PRNGSequence(data_key)\n",
    "\n",
    "model_params[\"key\"] = model_key\n",
    "exp_params[\"model_params\"] = model_params\n",
    "\n",
    "# initial guess\n",
    "proposed_actions = aprbs(alg_params[\"n_prediction_steps\"], env.batch_size, 1, 10, next(data_rng))[0]\n",
    "\n",
    "# run excitation algorithm\n",
    "observations, actions, model, density_estimate, losses, proposed_actions = excite_with_dmpe(\n",
    "    env, exp_params, proposed_actions, loader_key, expl_key, plot_every=1000\n",
    ")"
   ]
  },
  {
   "cell_type": "code",
   "execution_count": null,
   "id": "bfb49908-d764-411a-a38a-42904c5dee52",
   "metadata": {},
   "outputs": [],
   "source": [
    "N = 2048"
   ]
  },
  {
   "cell_type": "code",
   "execution_count": null,
   "id": "1799d473-f16a-4854-9e26-309401a04df9",
   "metadata": {},
   "outputs": [],
   "source": [
    "fig, axs = plt.subplots(nrows=1, ncols=3, figsize=(18, 6))\n",
    "\n",
    "axs[0].plot(observations[:N, 0], observations[:N, 1], 'b.', markersize=2,)\n",
    "axs[0].grid(True)\n",
    "\n",
    "axs[1].plot(observations[:N, 0], actions[:N, 0], 'b.', markersize=2,)\n",
    "axs[1].grid(True)\n",
    "axs[2].plot(observations[:N, 1], actions[:N, 0], 'b.', markersize=2,)\n",
    "axs[2].grid(True)\n",
    "\n",
    "fig.tight_layout()\n",
    "# plt.savefig(\"mass_spring_damper_cart_dmpe.png\")"
   ]
  },
  {
   "cell_type": "code",
   "execution_count": null,
   "id": "e8481c88-d3ed-4f98-bbcd-48efa662870e",
   "metadata": {},
   "outputs": [],
   "source": [
    "from exciting_exciting_systems.models.model_utils import ModelWrapperMassSpringDamper"
   ]
  },
  {
   "cell_type": "code",
   "execution_count": null,
   "id": "c5bbd7c4-2931-420d-8e09-8c24ee8ab856",
   "metadata": {
    "scrolled": true
   },
   "outputs": [],
   "source": [
    "seed = 0\n",
    "\n",
    "alg_params = dict(\n",
    "    bandwidth=None,\n",
    "    n_prediction_steps=50,\n",
    "    points_per_dim=50,\n",
    "    action_lr=1e-1,\n",
    "    n_opt_steps=10,\n",
    "    rho_obs=1,\n",
    "    rho_act=1,\n",
    "    penalty_order=2,\n",
    "    clip_action=True,\n",
    "    n_starts=5,\n",
    "    reuse_proposed_actions=True,\n",
    ")\n",
    "alg_params[\"bandwidth\"] = select_bandwidth(\n",
    "    delta_x=2,\n",
    "    dim=env.physical_state_dim + env.action_dim,\n",
    "    n_g=alg_params[\"points_per_dim\"],\n",
    "    percentage=0.3,\n",
    ")\n",
    "\n",
    "exp_params = dict(\n",
    "    seed=None,\n",
    "    n_timesteps=15_000,\n",
    "    model_class=None,\n",
    "    env_params=None,\n",
    "    alg_params=alg_params,\n",
    "    model_trainer_params=None,\n",
    "    model_params=None,\n",
    "    model_env_wrapper=ModelWrapperMassSpringDamper,\n",
    ")\n",
    "\n",
    "exp_params[\"seed\"] = int(seed)\n",
    "\n",
    "# setup PRNG\n",
    "key = jax.random.PRNGKey(seed=exp_params[\"seed\"])\n",
    "data_key, _, _, expl_key, key = jax.random.split(key, 5)\n",
    "data_rng = PRNGSequence(data_key)\n",
    "\n",
    "# initial guess\n",
    "proposed_actions = aprbs(exp_params[\"alg_params\"][\"n_prediction_steps\"], env.batch_size, 1, 10, next(data_rng))[0]\n",
    "\n",
    "# run excitation algorithm\n",
    "observations, actions, model, density_estimate, losses, proposed_actions = excite_with_dmpe(\n",
    "    env,\n",
    "    exp_params,\n",
    "    proposed_actions,\n",
    "    None,\n",
    "    expl_key,\n",
    "    100\n",
    ")"
   ]
  },
  {
   "cell_type": "code",
   "execution_count": null,
   "id": "f103bf7b-eb57-483b-ba6c-6750d12d4352",
   "metadata": {},
   "outputs": [],
   "source": [
    "fig, axs = plt.subplots(nrows=1, ncols=3, figsize=(18, 6))\n",
    "\n",
    "axs[0].plot(observations[:N, 0], observations[:N, 1], 'b.', markersize=2,)\n",
    "axs[0].grid(True)\n",
    "\n",
    "axs[1].plot(observations[:N, 0], actions[:N, 0], 'b.', markersize=2,)\n",
    "axs[1].grid(True)\n",
    "axs[2].plot(observations[:N, 1], actions[:N, 0], 'b.', markersize=2,)\n",
    "axs[2].grid(True)\n",
    "\n",
    "fig.tight_layout()\n",
    "# plt.savefig(\"mass_spring_damper_cart_dmpe.png\")"
   ]
  },
  {
   "cell_type": "code",
   "execution_count": null,
   "id": "e5e3a44f-553f-40f0-be58-22152c696c94",
   "metadata": {},
   "outputs": [],
   "source": [
    "obervations, last_state = simulate_ahead_with_env(env, obs, state, actions)"
   ]
  },
  {
   "cell_type": "code",
   "execution_count": null,
   "id": "0ce88bfe-1617-432a-8fcf-b90f4e3f7786",
   "metadata": {},
   "outputs": [],
   "source": [
    "last_state"
   ]
  },
  {
   "cell_type": "code",
   "execution_count": null,
   "id": "a82c7510-32be-45ad-994a-3b703cee7e98",
   "metadata": {},
   "outputs": [],
   "source": [
    "observations[-1] * jnp.array([2, 20])"
   ]
  },
  {
   "cell_type": "code",
   "execution_count": null,
   "id": "0866dc46-e54c-4ab8-993a-995e52d69aa4",
   "metadata": {},
   "outputs": [],
   "source": [
    "plt.plot(actions)"
   ]
  },
  {
   "cell_type": "code",
   "execution_count": null,
   "id": "bd94286f-01f8-44af-8c3f-0c1b50ce940a",
   "metadata": {},
   "outputs": [],
   "source": []
  },
  {
   "cell_type": "markdown",
   "id": "4d84ec9f-f837-4da4-b2a3-0cc98fdfe8ed",
   "metadata": {
    "jp-MarkdownHeadingCollapsed": true
   },
   "source": [
    "# debug:"
   ]
  },
  {
   "cell_type": "code",
   "execution_count": null,
   "id": "b525fca0-a705-4cb0-a730-c19cf2c89997",
   "metadata": {},
   "outputs": [],
   "source": [
    "import jax_dataclasses as jdc"
   ]
  },
  {
   "cell_type": "code",
   "execution_count": null,
   "id": "6d88afcb-b828-489a-9bc5-1fd26413cf9d",
   "metadata": {},
   "outputs": [],
   "source": [
    "@jdc.pytree_dataclass\n",
    "class StaticParams:\n",
    "    \"\"\"Dataclass containing the static parameters of the environment.\"\"\"\n",
    "\n",
    "    c: jax.Array\n",
    "    s: jax.Array\n",
    "    l: jax.Array\n",
    "    a: jax.Array\n",
    "    m: jax.Array"
   ]
  },
  {
   "cell_type": "code",
   "execution_count": null,
   "id": "d7017c8b-ac71-4bfa-9dc1-670f0fedcd45",
   "metadata": {},
   "outputs": [],
   "source": [
    "def msdc_step(state, F, params, tau):\n",
    "    x1, x2 = tuple(state)\n",
    "\n",
    "    d_x1 = x2.copy()\n",
    "    d_x2 = (\n",
    "        F.item()\n",
    "        - x1 * params.s *(jnp.sqrt(x1**2 + params.a**2) - params.l) / (jnp.sqrt(x1**2 + params.a**2))\n",
    "        - params.c * x2\n",
    "    ) / params.m\n",
    "\n",
    "    x1 = x1 + tau * d_x1\n",
    "    x2 = x2 + tau * d_x2\n",
    "\n",
    "    return jnp.array([x1, x2])"
   ]
  },
  {
   "cell_type": "code",
   "execution_count": null,
   "id": "0ffda4bd-f91c-414e-aa86-1e5029a44e52",
   "metadata": {},
   "outputs": [],
   "source": [
    "static_params = StaticParams(\n",
    "    c=10, s=800, l=0.17, a=0.25, m=5\n",
    ")\n",
    "tau = 0.01"
   ]
  },
  {
   "cell_type": "code",
   "execution_count": null,
   "id": "dc15e5d8-b6f5-4cb7-9d5b-70460869572b",
   "metadata": {},
   "outputs": [],
   "source": [
    "l = jnp.arange(21, 205)[..., None]\n",
    "N = 2048\n",
    "\n",
    "k = jnp.linspace(0, N-1, N)[None, ...]\n",
    "\n",
    "f_s = 100\n",
    "f_0 = f_s / N"
   ]
  },
  {
   "cell_type": "code",
   "execution_count": null,
   "id": "01bad1f8-9dc3-45a0-bbb4-6405009536bb",
   "metadata": {},
   "outputs": [],
   "source": [
    "# generate multisine\n",
    "data_rng = PRNGSequence(jax.random.PRNGKey(seed=14))\n",
    "\n",
    "phi_l = jax.random.uniform(key=next(data_rng), shape=l.shape, minval=0, maxval=jnp.pi * 2)\n",
    "\n",
    "actions = jnp.sin(2 * jnp.pi * l * f_0 / f_s * k + phi_l)\n",
    "actions = jnp.sum(actions, axis=0)[..., None]\n",
    "\n",
    "actions =  actions * 8 / jnp.std(actions) * 20"
   ]
  },
  {
   "cell_type": "code",
   "execution_count": null,
   "id": "2ace3bb6-27b7-4b45-abd1-966f5b8cd9b7",
   "metadata": {},
   "outputs": [],
   "source": [
    "plt.plot(actions)"
   ]
  },
  {
   "cell_type": "code",
   "execution_count": null,
   "id": "3f8cfe7e-06e2-4416-a798-90ce42bcd25e",
   "metadata": {},
   "outputs": [],
   "source": [
    "state = jnp.array([0, 0])\n",
    "\n",
    "states = []\n",
    "\n",
    "for action in actions:\n",
    "    next_state = msdc_step(state, action, static_params, tau)\n",
    "    state = next_state\n",
    "\n",
    "    states.append(state)\n",
    "\n",
    "states = jnp.stack(states)"
   ]
  },
  {
   "cell_type": "code",
   "execution_count": null,
   "id": "f252e1b5-4825-4fd7-836a-df2521c8692e",
   "metadata": {},
   "outputs": [],
   "source": [
    "plot_sequence(states, actions, tau, [\"deflection\", \"velocity\"], [\"force\"])"
   ]
  }
 ],
 "metadata": {
  "kernelspec": {
   "display_name": "Python 3 (ipykernel)",
   "language": "python",
   "name": "python3"
  },
  "language_info": {
   "codemirror_mode": {
    "name": "ipython",
    "version": 3
   },
   "file_extension": ".py",
   "mimetype": "text/x-python",
   "name": "python",
   "nbconvert_exporter": "python",
   "pygments_lexer": "ipython3",
   "version": "3.11.9"
  }
 },
 "nbformat": 4,
 "nbformat_minor": 5
}
