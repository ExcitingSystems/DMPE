{
 "cells": [
  {
   "cell_type": "code",
   "execution_count": null,
   "id": "e5f7be75-e317-4ecd-8cf1-d6f4c9518687",
   "metadata": {},
   "outputs": [],
   "source": [
    "%load_ext autoreload\n",
    "%autoreload 2\n",
    "%reload_ext line_profiler"
   ]
  },
  {
   "cell_type": "code",
   "execution_count": null,
   "id": "2b45f8d7-8a4f-46c2-a994-0cf08a432b1e",
   "metadata": {},
   "outputs": [],
   "source": [
    "from functools import partial\n",
    "\n",
    "import time\n",
    "from tqdm.notebook import tqdm\n",
    "import numpy as np\n",
    "import matplotlib.pyplot as plt\n",
    "# plt.rcParams['text.usetex'] = True\n",
    "import plotly.express as px\n",
    "import plotly.graph_objects as go"
   ]
  },
  {
   "cell_type": "code",
   "execution_count": null,
   "id": "6f7470b7-eb24-4f07-ba67-6a781308429a",
   "metadata": {},
   "outputs": [],
   "source": [
    "import jax\n",
    "import jax.numpy as jnp\n",
    "\n",
    "import diffrax\n",
    "import equinox as eqx\n",
    "import optax\n",
    "\n",
    "from haiku import PRNGSequence"
   ]
  },
  {
   "cell_type": "code",
   "execution_count": null,
   "id": "d4257478-92eb-4816-86f0-287ca42c1d2e",
   "metadata": {},
   "outputs": [],
   "source": [
    "import exciting_environments as excenvs\n",
    "\n",
    "from density_estimation import update_kde_grid, update_kde_grid_multiple_observations\n",
    "from metrics import JSDLoss\n",
    "from model_utils import simulate_ahead\n",
    "from plotting_utils import plot_sequence\n",
    "from signals import generate_constant_action, aprbs\n",
    "from optimization_utils import loss_function, optimize, soft_penalty"
   ]
  },
  {
   "cell_type": "markdown",
   "id": "5553440c-7575-486d-b6b7-62be7104ee0f",
   "metadata": {},
   "source": [
    "---"
   ]
  },
  {
   "cell_type": "code",
   "execution_count": null,
   "id": "a1a8b30c-ead3-4fc4-8dfa-8a6abb65985a",
   "metadata": {},
   "outputs": [],
   "source": [
    "# setup PRNG\n",
    "key = jax.random.PRNGKey(seed=21)\n",
    "\n",
    "data_key, model_key, key = jax.random.split(key, 3)\n",
    "data_rng = PRNGSequence(data_key)"
   ]
  },
  {
   "cell_type": "markdown",
   "id": "46162186-a912-4f64-9bd2-93fa5243c841",
   "metadata": {},
   "source": [
    "- 1d:"
   ]
  },
  {
   "cell_type": "code",
   "execution_count": null,
   "id": "d671115b-910b-4554-90dc-3039ffdf82c0",
   "metadata": {},
   "outputs": [],
   "source": [
    "observations = jnp.linspace(-2, 2, 100)[..., None, None, None]\n",
    "result = jax.vmap(soft_penalty)(observations)\n",
    "plt.plot(jnp.squeeze(observations), result)"
   ]
  },
  {
   "cell_type": "markdown",
   "id": "f558855c-f10e-4784-a201-ea59fe167bc4",
   "metadata": {},
   "source": [
    "- multidim"
   ]
  },
  {
   "cell_type": "code",
   "execution_count": null,
   "id": "39708c2c-bf5e-4adf-9da1-8c1141800c3b",
   "metadata": {},
   "outputs": [],
   "source": [
    "observations = jnp.stack([jnp.linspace(-2, 2, 100) for i in range(5)], axis=1)\n",
    "observations = observations[..., None, None, :]"
   ]
  },
  {
   "cell_type": "code",
   "execution_count": null,
   "id": "0bd865f4-6ddd-4c2b-add7-81b10bde36aa",
   "metadata": {},
   "outputs": [],
   "source": [
    "observations.shape"
   ]
  },
  {
   "cell_type": "code",
   "execution_count": null,
   "id": "5fdc9938-42ab-4f48-8c3e-3477e598fd74",
   "metadata": {},
   "outputs": [],
   "source": [
    "result = jax.vmap(soft_penalty, in_axes=(0))(observations)\n",
    "plt.plot(jnp.squeeze(observations[..., 0]), result)"
   ]
  },
  {
   "cell_type": "markdown",
   "id": "8c1bd8d4-180a-4f36-96c9-10ebdde55a6c",
   "metadata": {},
   "source": [
    "- unreduced"
   ]
  },
  {
   "cell_type": "code",
   "execution_count": null,
   "id": "ef5efb8c-80bd-4e64-889f-5401b023bc7a",
   "metadata": {},
   "outputs": [],
   "source": [
    "penalty_unreduced = lambda a, a_max: jax.nn.relu(jnp.abs(a) - a_max)"
   ]
  },
  {
   "cell_type": "code",
   "execution_count": null,
   "id": "24ff4d3a-777a-48b7-855f-f9cf3f612f9b",
   "metadata": {},
   "outputs": [],
   "source": [
    "observations = jnp.linspace(-2, 2, 100)\n",
    "observations = observations[None, :, None]\n",
    "\n",
    "result = penalty_unreduced(observations, a_max=1)\n",
    "plt.plot(jnp.squeeze(observations), jnp.squeeze(result))"
   ]
  },
  {
   "cell_type": "code",
   "execution_count": null,
   "id": "bd10e056-d0df-4d68-8e9c-6b8d4ce89172",
   "metadata": {},
   "outputs": [],
   "source": []
  }
 ],
 "metadata": {
  "kernelspec": {
   "display_name": "Python (conda-dev-base)",
   "language": "python",
   "name": "conda-dev-base"
  },
  "language_info": {
   "codemirror_mode": {
    "name": "ipython",
    "version": 3
   },
   "file_extension": ".py",
   "mimetype": "text/x-python",
   "name": "python",
   "nbconvert_exporter": "python",
   "pygments_lexer": "ipython3",
   "version": "3.11.3"
  }
 },
 "nbformat": 4,
 "nbformat_minor": 5
}
