{
 "cells": [
  {
   "cell_type": "code",
   "execution_count": null,
   "id": "91f61853-dfc7-4f7e-8388-16afd9a381a9",
   "metadata": {},
   "outputs": [],
   "source": [
    "%load_ext autoreload\n",
    "%autoreload 2\n",
    "%reload_ext line_profiler"
   ]
  },
  {
   "cell_type": "code",
   "execution_count": null,
   "id": "28304729-a026-4256-9949-81f29eb70d26",
   "metadata": {},
   "outputs": [],
   "source": [
    "from functools import partial\n",
    "\n",
    "import time\n",
    "from tqdm.notebook import tqdm\n",
    "import numpy as np\n",
    "import matplotlib.pyplot as plt\n",
    "# plt.rcParams['text.usetex'] = True\n",
    "import plotly.express as px\n",
    "import plotly.graph_objects as go"
   ]
  },
  {
   "cell_type": "code",
   "execution_count": null,
   "id": "5337f432-d879-494f-818a-c042513df2e7",
   "metadata": {},
   "outputs": [],
   "source": [
    "import jax\n",
    "import jax.numpy as jnp\n",
    "\n",
    "import diffrax\n",
    "import equinox as eqx\n",
    "import optax\n",
    "\n",
    "from haiku import PRNGSequence"
   ]
  },
  {
   "cell_type": "code",
   "execution_count": null,
   "id": "c7330308-dea4-47b8-916f-0b2a3b923cad",
   "metadata": {},
   "outputs": [],
   "source": [
    "import exciting_environments as excenvs\n",
    "\n",
    "import exciting_exciting_systems as eesys\n",
    "from exciting_exciting_systems.models import NeuralEulerODEPendulum\n",
    "from exciting_exciting_systems.models.model_utils import simulate_ahead_with_env\n",
    "from exciting_exciting_systems.models.model_training import ModelTrainer\n",
    "from exciting_exciting_systems.excitation import loss_function, Exciter\n",
    "\n",
    "from exciting_exciting_systems.utils.density_estimation import (\n",
    "    update_density_estimate_single_observation, update_density_estimate_multiple_observations, DensityEstimate\n",
    ")\n",
    "from exciting_exciting_systems.utils.signals import aprbs\n",
    "from exciting_exciting_systems.evaluation.plotting_utils import (\n",
    "    plot_sequence, append_predictions_to_sequence_plot, plot_sequence_and_prediction, plot_model_performance\n",
    ")"
   ]
  },
  {
   "cell_type": "markdown",
   "id": "fc80a8ef-fcdf-4548-a14a-4b55a1fb46e8",
   "metadata": {},
   "source": [
    "---"
   ]
  },
  {
   "cell_type": "code",
   "execution_count": null,
   "id": "cf3fe693-0f86-4a94-a0d2-8046a31da5df",
   "metadata": {},
   "outputs": [],
   "source": [
    "from exciting_exciting_systems.utils.metrics import JSDLoss"
   ]
  },
  {
   "cell_type": "code",
   "execution_count": null,
   "id": "365940af-138e-4736-b7dd-2033073ab49c",
   "metadata": {},
   "outputs": [],
   "source": [
    "n_grid_points = 2500\n",
    "points_per_dim = int(np.sqrt(n_grid_points))\n",
    "dim = 2\n",
    "\n",
    "bandwidth = 0.001\n",
    "\n",
    "target = jnp.ones(shape=(n_grid_points, 1)) * 1 / (1 - (-1))**dim"
   ]
  },
  {
   "cell_type": "code",
   "execution_count": null,
   "id": "9448bab7-2136-474b-b9b1-da104928aafb",
   "metadata": {},
   "outputs": [],
   "source": [
    "density_estimate = DensityEstimate(\n",
    "    p=jnp.zeros([1, n_grid_points, 1]),\n",
    "    x_g=eesys.utils.density_estimation.build_grid_2d(\n",
    "        low=-1,\n",
    "        high=1,\n",
    "        points_per_dim=points_per_dim\n",
    "    ),\n",
    "    bandwidth=jnp.array([bandwidth]),\n",
    "    n_observations=jnp.array([0])\n",
    ")\n",
    "\n",
    "density_estimate_1 = update_density_estimate_single_observation(\n",
    "    density_estimate, -jnp.ones((1,2))\n",
    ")\n",
    "density_estimate.p\n",
    "\n",
    "delta_x_g = jnp.abs(density_estimate.x_g[0, 0] - density_estimate.x_g[1, 0])\n",
    "delta_x_g**dim"
   ]
  },
  {
   "cell_type": "code",
   "execution_count": null,
   "id": "bd13f873-fbac-4b8f-b22d-2dae01aed955",
   "metadata": {},
   "outputs": [],
   "source": [
    "from copy import deepcopy"
   ]
  },
  {
   "cell_type": "code",
   "execution_count": null,
   "id": "88643997-c81a-4589-ba1c-62bdc60cc630",
   "metadata": {},
   "outputs": [],
   "source": [
    "density_estimate_2 = update_density_estimate_single_observation(\n",
    "    density_estimate, jnp.ones((1,2))\n",
    ")"
   ]
  },
  {
   "cell_type": "code",
   "execution_count": null,
   "id": "3adde75e-0387-45c8-80ec-7adba415cc20",
   "metadata": {},
   "outputs": [],
   "source": [
    "fig, axs, cax = eesys.evaluation.plotting_utils.plot_2d_kde_as_contourf(\n",
    "    density_estimate_1.p, density_estimate.x_g, [r\"$\\theta$\", r\"$\\omega$\"]\n",
    ")"
   ]
  },
  {
   "cell_type": "code",
   "execution_count": null,
   "id": "642e08c9-fb90-41b1-b86e-0401c6fb635d",
   "metadata": {},
   "outputs": [],
   "source": [
    "fig, axs, cax = eesys.evaluation.plotting_utils.plot_2d_kde_as_contourf(\n",
    "    density_estimate_2.p, density_estimate.x_g, [r\"$\\theta$\", r\"$\\omega$\"]\n",
    ")"
   ]
  },
  {
   "cell_type": "code",
   "execution_count": null,
   "id": "1b8daf12-1873-4216-85b1-047019a51409",
   "metadata": {},
   "outputs": [],
   "source": [
    "def normalized_JSDLoss(estimate, target):\n",
    "    return JSDLoss(\n",
    "        p=estimate / (jnp.sum(estimate)),\n",
    "        q=target / (jnp.sum(target))\n",
    "    )"
   ]
  },
  {
   "cell_type": "code",
   "execution_count": null,
   "id": "68bd97db-fd40-4234-8794-c90a390aba32",
   "metadata": {},
   "outputs": [],
   "source": [
    "normalized_JSDLoss(\n",
    "    estimate=density_estimate_1.p[0],\n",
    "    target=target\n",
    ")"
   ]
  },
  {
   "cell_type": "markdown",
   "id": "229d3afa-761a-4a9f-b8aa-78967cd5f577",
   "metadata": {},
   "source": [
    "- tested shifting so that all points have the same area within the constraints\n",
    "\n",
    "I do not see major benefits in this approach. I guess we can put more value on the edge values."
   ]
  },
  {
   "cell_type": "code",
   "execution_count": null,
   "id": "11fca692-d048-4540-8303-6fdc09c6b678",
   "metadata": {},
   "outputs": [],
   "source": [
    "points = jnp.linspace(-1, 1, points_per_dim + 1)\n",
    "space_between_elements = points[1] - points[0]\n",
    "points = points[:-1] + space_between_elements / 2\n",
    "\n",
    "points"
   ]
  }
 ],
 "metadata": {
  "kernelspec": {
   "display_name": "Python 3 (ipykernel)",
   "language": "python",
   "name": "python3"
  },
  "language_info": {
   "codemirror_mode": {
    "name": "ipython",
    "version": 3
   },
   "file_extension": ".py",
   "mimetype": "text/x-python",
   "name": "python",
   "nbconvert_exporter": "python",
   "pygments_lexer": "ipython3",
   "version": "3.11.9"
  }
 },
 "nbformat": 4,
 "nbformat_minor": 5
}
