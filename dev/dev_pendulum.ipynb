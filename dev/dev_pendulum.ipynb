{
 "cells": [
  {
   "cell_type": "code",
   "execution_count": null,
   "id": "94c12c85",
   "metadata": {},
   "outputs": [],
   "source": [
    "%load_ext autoreload\n",
    "%autoreload 2\n",
    "%reload_ext line_profiler"
   ]
  },
  {
   "cell_type": "code",
   "execution_count": null,
   "id": "4870fff0",
   "metadata": {},
   "outputs": [],
   "source": [
    "import os\n",
    "os.environ[\"XLA_PYTHON_CLIENT_PREALLOCATE\"]=\"false\"\n",
    "\n",
    "from functools import partial\n",
    "import time\n",
    "from tqdm.notebook import tqdm\n",
    "import numpy as np\n",
    "import matplotlib.pyplot as plt\n",
    "import matplotlib as mpl\n",
    "mpl.rcParams['text.usetex'] = True\n",
    "mpl.rcParams['text.latex.preamble']=r\"\\usepackage{bm}\"\n",
    "import plotly.express as px\n"
   ]
  },
  {
   "cell_type": "code",
   "execution_count": null,
   "id": "f2d09591",
   "metadata": {},
   "outputs": [],
   "source": [
    "import jax\n",
    "import jax.numpy as jnp\n",
    "# jax.config.update(\"jax_enable_x64\", True)\n",
    "gpus = jax.devices()\n",
    "jax.config.update(\"jax_default_device\", gpus[0])\n",
    "\n",
    "import diffrax\n",
    "import equinox as eqx\n",
    "import optax\n",
    "\n",
    "from haiku import PRNGSequence"
   ]
  },
  {
   "cell_type": "code",
   "execution_count": null,
   "id": "ec2be399",
   "metadata": {},
   "outputs": [],
   "source": [
    "import exciting_environments as excenvs\n",
    "\n",
    "import exciting_exciting_systems\n",
    "from exciting_exciting_systems.models import NeuralEulerODEPendulum, NeuralODEPendulum\n",
    "from exciting_exciting_systems.models.model_utils import simulate_ahead_with_env\n",
    "from exciting_exciting_systems.models.model_training import ModelTrainer\n",
    "from exciting_exciting_systems.excitation import loss_function, Exciter\n",
    "\n",
    "from exciting_exciting_systems.utils.density_estimation import (\n",
    "    update_density_estimate_single_observation, update_density_estimate_multiple_observations, DensityEstimate\n",
    ")\n",
    "from exciting_exciting_systems.utils.signals import aprbs\n",
    "from exciting_exciting_systems.evaluation.plotting_utils import (\n",
    "    plot_sequence, append_predictions_to_sequence_plot, plot_sequence_and_prediction, plot_model_performance\n",
    ")"
   ]
  },
  {
   "cell_type": "markdown",
   "id": "dbd0f2ca",
   "metadata": {},
   "source": [
    "---"
   ]
  },
  {
   "cell_type": "code",
   "execution_count": null,
   "id": "1d070863",
   "metadata": {},
   "outputs": [],
   "source": [
    "# setup PRNG\n",
    "key = jax.random.PRNGKey(seed=22)#8)\n",
    "\n",
    "data_key, model_key, loader_key, expl_key, key = jax.random.split(key, 5)\n",
    "data_rng = PRNGSequence(data_key)"
   ]
  },
  {
   "cell_type": "code",
   "execution_count": null,
   "id": "6653ae60",
   "metadata": {},
   "outputs": [],
   "source": [
    "batch_size = 1\n",
    "tau = 2e-2\n",
    "\n",
    "env = excenvs.make(\n",
    "    env_id='Pendulum-v0',\n",
    "    batch_size=batch_size,\n",
    "    action_constraints={\"torque\": 5},\n",
    "    static_params={\"g\": 9.81, \"l\": 1, \"m\": 1},\n",
    "    solver=diffrax.Tsit5(),\n",
    "    tau=tau,\n",
    ")"
   ]
  },
  {
   "cell_type": "markdown",
   "id": "19a917a9",
   "metadata": {},
   "source": [
    "### Test simulation:\n",
    "\n",
    "- starting from the intial state/obs ($\\mathbf{x}_0$ / $\\mathbf{y}_0$)\n",
    "- apply $N = 999$ actions $\\mathbf{u}_0 \\dots \\mathbf{u}_N$ (**here**: random APRBS actions)\n",
    "- which results in the state trajectory $\\mathbf{x}_0 ... \\mathbf{x}_N+1$ with $N+1 = 1000$ elements"
   ]
  },
  {
   "cell_type": "code",
   "execution_count": null,
   "id": "5dbcd842",
   "metadata": {},
   "outputs": [],
   "source": [
    "obs, state = env.reset()\n",
    "obs = obs[0]\n",
    "\n",
    "n_steps = 999\n",
    "\n",
    "actions = aprbs(n_steps, batch_size, 1, 10, next(data_rng))[0]"
   ]
  },
  {
   "cell_type": "code",
   "execution_count": null,
   "id": "99904015",
   "metadata": {},
   "outputs": [],
   "source": [
    "observations = simulate_ahead_with_env(env, obs, state, actions)\n",
    "\n",
    "print(\"actions.shape:\", actions.shape)\n",
    "print(\"observations.shape:\", observations.shape)\n",
    "\n",
    "print(\" \\n One of the trajectories:\")\n",
    "fig, axs = plot_sequence(\n",
    "    observations=observations,\n",
    "    actions=actions,\n",
    "    tau=tau,\n",
    "    obs_labels=[r\"$\\theta$\", r\"$\\omega$\"],\n",
    "    action_labels=[r\"$u$\"],\n",
    ");\n",
    "plt.show()"
   ]
  },
  {
   "cell_type": "code",
   "execution_count": null,
   "id": "a3d713b9-e03d-43be-b158-1c5f440236f9",
   "metadata": {},
   "outputs": [],
   "source": [
    "from exciting_exciting_systems.algorithms import excite_with_dmpe"
   ]
  },
  {
   "cell_type": "code",
   "execution_count": null,
   "id": "8e02ec08-63d2-4874-a917-adf041830338",
   "metadata": {},
   "outputs": [],
   "source": [
    "seed=22"
   ]
  },
  {
   "cell_type": "code",
   "execution_count": null,
   "id": "2e373473-bba2-4a0d-a1ee-691dba40a505",
   "metadata": {},
   "outputs": [],
   "source": [
    "def featurize_theta(obs):\n",
    "    \"\"\"The angle itself is difficult to properly interpret in the loss as angles\n",
    "    such as 1.99 * pi and 0 are essentially the same. Therefore the angle is \n",
    "    transformed to sin(phi) and cos(phi) for comparison in the loss.\"\"\"\n",
    "    feat_obs = jnp.stack([jnp.sin(obs[..., 0] * jnp.pi), jnp.cos(obs[..., 0] * jnp.pi), obs[..., 1]], axis=-1)\n",
    "    return feat_obs"
   ]
  },
  {
   "cell_type": "code",
   "execution_count": null,
   "id": "3ebc23b4-302a-4d30-ab96-9c69a5224025",
   "metadata": {
    "scrolled": true
   },
   "outputs": [],
   "source": [
    "env_params = dict(batch_size=1, tau=2e-2, max_torque=5, g=9.81, l=1, m=1, env_solver=diffrax.Euler())\n",
    "env = excenvs.make(\n",
    "    env_id=\"Pendulum-v0\",\n",
    "    batch_size=env_params[\"batch_size\"],\n",
    "    action_constraints={\"torque\": env_params[\"max_torque\"]},\n",
    "    static_params={\"g\": env_params[\"g\"], \"l\": env_params[\"l\"], \"m\": env_params[\"m\"]},\n",
    "    solver=env_params[\"env_solver\"],\n",
    "    tau=env_params[\"tau\"],\n",
    ")\n",
    "\n",
    "\n",
    "alg_params = dict(\n",
    "    bandwidth=0.05, n_prediction_steps=50, points_per_dim=50, action_lr=1e-1, n_opt_steps=10, rho_obs=1, rho_act=1\n",
    ")\n",
    "model_trainer_params = dict(\n",
    "    start_learning=alg_params[\"n_prediction_steps\"],\n",
    "    training_batch_size=128,\n",
    "    n_train_steps=1,\n",
    "    sequence_length=alg_params[\"n_prediction_steps\"],\n",
    "    featurize=featurize_theta,\n",
    "    model_lr=1e-4,\n",
    ")\n",
    "model_params = dict(obs_dim=env.physical_state_dim, action_dim=env.action_dim, width_size=128, depth=3, key=None)\n",
    "\n",
    "exp_params = dict(\n",
    "    seed=seed,\n",
    "    n_timesteps=15_000,\n",
    "    model_class=NeuralEulerODEPendulum,\n",
    "    env_params=env_params,\n",
    "    alg_params=alg_params,\n",
    "    model_trainer_params=model_trainer_params,\n",
    ")\n",
    "\n",
    "key = jax.random.PRNGKey(seed=exp_params[\"seed\"])\n",
    "data_key, model_key, loader_key, expl_key, key = jax.random.split(key, 5)\n",
    "data_rng = PRNGSequence(data_key)\n",
    "\n",
    "model_params[\"key\"] = model_key\n",
    "exp_params[\"model_params\"] = model_params\n",
    "\n",
    "# initial guess\n",
    "proposed_actions = aprbs(alg_params[\"n_prediction_steps\"], env.batch_size, 1, 10, next(data_rng))[0]\n",
    "\n",
    "# run excitation algorithm\n",
    "observations, actions, model, density_estimate, losses, proposed_actions = excite_with_dmpe(\n",
    "    env, exp_params, proposed_actions, loader_key, expl_key, plot_every=100\n",
    ")"
   ]
  },
  {
   "cell_type": "markdown",
   "id": "2e04ced2",
   "metadata": {},
   "source": [
    "## Build an algorithm that simultaneously learns the model and optimizes its trajectory:"
   ]
  },
  {
   "cell_type": "code",
   "execution_count": null,
   "id": "8f3b03eb",
   "metadata": {},
   "outputs": [],
   "source": [
    "bandwidth = 0.05\n",
    "n_prediction_steps = 50\n",
    "\n",
    "dim_obs_space = 2\n",
    "dim_action_space = 1\n",
    "\n",
    "dim = dim_obs_space + dim_action_space\n",
    "points_per_dim = 50\n",
    "n_grid_points=points_per_dim**dim\n",
    "\n",
    "n_timesteps = 15_000"
   ]
  },
  {
   "cell_type": "code",
   "execution_count": null,
   "id": "ba8e6717",
   "metadata": {},
   "outputs": [],
   "source": [
    "obs, state = env.reset()\n",
    "obs = obs[0]\n",
    "\n",
    "observations = jnp.zeros((n_timesteps, dim_obs_space))\n",
    "observations = observations.at[0].set(obs)\n",
    "actions = jnp.zeros((n_timesteps-1, dim_action_space))\n",
    "\n",
    "proposed_actions = aprbs(n_prediction_steps, batch_size, 1, 10, next(data_rng))[0]"
   ]
  },
  {
   "cell_type": "code",
   "execution_count": null,
   "id": "11c74af1-c468-4085-a65a-fb57c3872303",
   "metadata": {
    "scrolled": true
   },
   "outputs": [],
   "source": [
    "exciter = Exciter(\n",
    "    loss_function=loss_function,\n",
    "    grad_loss_function=jax.value_and_grad(loss_function, argnums=(2)),\n",
    "    excitation_optimizer=optax.lbfgs(),\n",
    "    tau=tau,\n",
    "    n_opt_steps=10,\n",
    "    target_distribution=jnp.ones(shape=(n_grid_points, 1)) * 1 / (1 - (-1))**dim,\n",
    "    rho_obs=1,\n",
    "    rho_act=1\n",
    ")\n",
    "\n",
    "model_trainer = ModelTrainer(\n",
    "    start_learning=n_prediction_steps,\n",
    "    training_batch_size=128,\n",
    "    n_train_steps=1,\n",
    "    sequence_length=n_prediction_steps,\n",
    "    featurize=featurize_theta,\n",
    "    model_optimizer=optax.adabelief(1e-4),\n",
    "    tau=tau\n",
    ")\n",
    "\n",
    "# density_estimate = DensityEstimate(\n",
    "#     p=jnp.zeros([batch_size, n_grid_points, 1]),\n",
    "#     x_g=eesys.utils.density_estimation.build_grid_2d(\n",
    "#         low=env.env_observation_space.low,\n",
    "#         high=env.env_observation_space.high,\n",
    "#         points_per_dim=points_per_dim\n",
    "#     ),\n",
    "#     bandwidth=jnp.array([bandwidth]),\n",
    "#     n_observations=jnp.array([0])\n",
    "# )\n",
    "\n",
    "density_estimate = DensityEstimate(\n",
    "    p=jnp.zeros([n_grid_points, 1]),\n",
    "    x_g=exciting_exciting_systems.utils.density_estimation.build_grid_3d(\n",
    "        low=-1,\n",
    "        high=1,\n",
    "        points_per_dim=points_per_dim\n",
    "    ),\n",
    "    bandwidth=jnp.array([bandwidth]),\n",
    "    n_observations=jnp.array([0])\n",
    ")\n",
    "\n",
    "# model = NeuralODEPendulum(\n",
    "#     solver=diffrax.Euler(),\n",
    "#     obs_dim=dim_obs_space,\n",
    "#     action_dim=dim_action_space,\n",
    "#     width_size=128,\n",
    "#     depth=3,\n",
    "#     key=model_key\n",
    "# )\n",
    "\n",
    "model = NeuralEulerODEPendulum(\n",
    "    obs_dim=dim_obs_space,\n",
    "    action_dim=dim_action_space,\n",
    "    width_size=128,\n",
    "    depth=3,\n",
    "    key=model_key\n",
    ")\n",
    "\n",
    "opt_state_model = model_trainer.model_optimizer.init(eqx.filter(model, eqx.is_inexact_array))"
   ]
  },
  {
   "cell_type": "code",
   "execution_count": null,
   "id": "855ced2c",
   "metadata": {},
   "outputs": [],
   "source": [
    "from exciting_exciting_systems.algorithms import excite_and_fit"
   ]
  },
  {
   "cell_type": "code",
   "execution_count": null,
   "id": "702907d1",
   "metadata": {
    "scrolled": true
   },
   "outputs": [],
   "source": [
    "observations, actions, model, density_estimate, losses, proposed_actions = excite_and_fit(\n",
    "    n_timesteps=n_timesteps,\n",
    "    env=env,\n",
    "    model=model,\n",
    "    obs=obs,\n",
    "    state=state,\n",
    "    proposed_actions=proposed_actions,\n",
    "    exciter=exciter,\n",
    "    model_trainer=model_trainer,\n",
    "    density_estimate=density_estimate,\n",
    "    observations=observations,\n",
    "    actions=actions,\n",
    "    opt_state_model=opt_state_model,\n",
    "    loader_key=loader_key,\n",
    "    expl_key=expl_key,\n",
    "    plot_every=250,\n",
    ")"
   ]
  },
  {
   "cell_type": "code",
   "execution_count": null,
   "id": "623931e9-4e79-4ebc-a24a-e43995843107",
   "metadata": {},
   "outputs": [],
   "source": [
    "fig, axs = plot_sequence(\n",
    "    observations,\n",
    "    actions,\n",
    "    tau=tau,\n",
    "    obs_labels=[r\"$\\theta$\", r\"$\\omega$\"],\n",
    "    action_labels=[r\"$u$\"],\n",
    ");\n",
    "plt.savefig(\"results/plots/dmpe_example_result.pdf\")\n",
    "\n",
    "plt.plot()"
   ]
  },
  {
   "cell_type": "code",
   "execution_count": null,
   "id": "43014c4f-e7e1-4191-b005-32ccfdd0693e",
   "metadata": {},
   "outputs": [],
   "source": [
    "raise"
   ]
  },
  {
   "cell_type": "markdown",
   "id": "8b89ca9a-17af-4772-88a3-babe59d98570",
   "metadata": {},
   "source": [
    "---"
   ]
  },
  {
   "cell_type": "markdown",
   "id": "d308b51e-326c-4395-ae27-ea1aa7c23aa5",
   "metadata": {},
   "source": [
    "## Tests and Stuff"
   ]
  },
  {
   "cell_type": "code",
   "execution_count": null,
   "id": "c17de3bd-b69f-4118-be74-7576cff68637",
   "metadata": {},
   "outputs": [],
   "source": [
    "from copy import deepcopy\n",
    "from exciting_exciting_systems.excitation.excitation_utils import optimize_actions"
   ]
  },
  {
   "cell_type": "code",
   "execution_count": null,
   "id": "522e1e05-06a9-4558-94e4-25edff65d166",
   "metadata": {},
   "outputs": [],
   "source": [
    "obs = deepcopy(observations[-1, :])\n",
    "state = env.State(physical_state=env.PhysicalState(theta=obs[0]*jnp.pi, omega=obs[1]*10), PRNGKey=0, optional=env.Optional(0))\n",
    "\n",
    "k = observations.shape[0]\n",
    "\n",
    "prpsed_actions = deepcopy(proposed_actions)\n",
    "dnsty_estimate = deepcopy(density_estimate)"
   ]
  },
  {
   "cell_type": "code",
   "execution_count": null,
   "id": "d79cfc48-0069-4433-8718-b30dbbede15c",
   "metadata": {},
   "outputs": [],
   "source": [
    "plt.plot(prpsed_actions)\n",
    "plt.show()\n",
    "\n",
    "print(obs)"
   ]
  },
  {
   "cell_type": "code",
   "execution_count": null,
   "id": "4e7d28b2-d5be-4ca5-a9c2-913c8875b8b5",
   "metadata": {},
   "outputs": [],
   "source": [
    "test_key = jax.random.PRNGKey(seed=2)\n",
    "test_rng = PRNGSequence(test_key)"
   ]
  },
  {
   "cell_type": "code",
   "execution_count": null,
   "id": "c82ee463-db30-413d-98bc-86d00b056145",
   "metadata": {},
   "outputs": [],
   "source": [
    "exciter = Exciter(\n",
    "    grad_loss_function=jax.grad(loss_function, argnums=(2)),\n",
    "    excitation_optimizer=optax.adabelief(1e-1),\n",
    "    tau=tau,\n",
    "    n_opt_steps=50,\n",
    "    target_distribution=jnp.ones(shape=(n_grid_points, 1)) * 1 / (1 - (-1))**dim,\n",
    "    rho_obs=1e3,\n",
    "    rho_act=1e3\n",
    ")"
   ]
  },
  {
   "cell_type": "code",
   "execution_count": null,
   "id": "463e4158-be54-41e3-a883-49c978ba80db",
   "metadata": {},
   "outputs": [],
   "source": [
    "new_observations = []\n",
    "\n",
    "for i in range(500):\n",
    "\n",
    "    prpsed_actions = prpsed_actions[None, ...].repeat(10, axis=0)\n",
    "    prpsed_actions = prpsed_actions + jax.random.normal(\n",
    "        key=next(test_rng),\n",
    "        shape=prpsed_actions.shape,\n",
    "    ) * jnp.sqrt(0.1)\n",
    "\n",
    "    next_proposed_actions = jnp.clip(next_proposed_actions, min=-1, max=1)\n",
    "        \n",
    "    prpsed_actions, loss = jax.vmap(optimize_actions, in_axes=(None, 0, None, None, 0, None, None, None, None, None, None))(\n",
    "            exciter.grad_loss_function,\n",
    "            prpsed_actions,\n",
    "            model,\n",
    "            exciter.excitation_optimizer,\n",
    "            obs[None, ...].repeat(10, axis=0),\n",
    "            dnsty_estimate,\n",
    "            exciter.n_opt_steps,\n",
    "            exciter.tau,\n",
    "            exciter.target_distribution,\n",
    "            exciter.rho_obs,\n",
    "            exciter.rho_act,\n",
    "        )\n",
    "    best_idx = jnp.argmin(loss)\n",
    "    prpsed_actions = prpsed_actions[best_idx]\n",
    "    loss = loss[best_idx]\n",
    "    \n",
    "    action = prpsed_actions[0, :]\n",
    "    next_proposed_actions = prpsed_actions.at[:-1, :].set(prpsed_actions[1:, :])\n",
    "\n",
    "\n",
    "    # new_proposed_action = next_proposed_actions[-1, :] + jax.random.uniform(key=next(test_rng), minval=-0.1, maxval=0.1)\n",
    "    # next_proposed_actions = next_proposed_actions.at[-1, :].set(jnp.clip(new_proposed_action, min=-1, max=1))\n",
    "    \n",
    "    if i % 100 == 0:\n",
    "        plt.plot(next_proposed_actions)\n",
    "        plt.show()\n",
    "    \n",
    "    dnsty_estimate = update_density_estimate_single_observation(\n",
    "        dnsty_estimate, jnp.concatenate([obs, action], axis=-1)\n",
    "    )\n",
    "    \n",
    "    prpsed_actions = next_proposed_actions\n",
    "    \n",
    "    obs, _, _, _, state = env.step(state, action, env.env_properties)\n",
    "\n",
    "    new_observations.append(obs)"
   ]
  },
  {
   "cell_type": "code",
   "execution_count": null,
   "id": "92809ee7-7b54-4cec-8413-b5fc7cd60727",
   "metadata": {},
   "outputs": [],
   "source": [
    "plt.plot(new_observations)"
   ]
  },
  {
   "cell_type": "code",
   "execution_count": null,
   "id": "f7bcfd76-9aff-4a7a-9afd-201cb255c1c0",
   "metadata": {},
   "outputs": [],
   "source": []
  },
  {
   "cell_type": "code",
   "execution_count": null,
   "id": "96f0f8d3-58bb-4197-9a5f-e537a295dcb0",
   "metadata": {},
   "outputs": [],
   "source": []
  },
  {
   "cell_type": "code",
   "execution_count": null,
   "id": "19fe17fd-e0b0-47c8-aa4f-dc5fdcabcfcc",
   "metadata": {},
   "outputs": [],
   "source": [
    "plt.plot(np.log(losses))\n",
    "#plt.plot(losses_test)"
   ]
  },
  {
   "cell_type": "code",
   "execution_count": null,
   "id": "21830624-fe36-4f57-be14-6cea9ef3657b",
   "metadata": {},
   "outputs": [],
   "source": [
    "exciter = Exciter(\n",
    "    grad_loss_function=jax.grad(loss_function, argnums=(2)),\n",
    "    excitation_optimizer=optax.adabelief(1e-2),\n",
    "    tau=tau,\n",
    "    n_opt_steps=50,\n",
    "    target_distribution=jnp.ones(shape=(n_grid_points, 1)) * 1 / (1 - (-1))**dim,\n",
    "    rho_obs=1e3,\n",
    "    rho_act=1e3\n",
    ")"
   ]
  },
  {
   "cell_type": "code",
   "execution_count": null,
   "id": "c0d51d39-a3dc-4722-adf8-d8e7c02448c3",
   "metadata": {},
   "outputs": [],
   "source": [
    "plt.plot(proposed_actions)\n",
    "plt.show()\n",
    "\n",
    "action, new_proposed_actions, new_density_estimate, loss = exciter.choose_action(\n",
    "    obs=observations[-1, :], model=model, density_estimate=density_estimate, proposed_actions=proposed_actions\n",
    ")\n",
    "\n",
    "plt.plot(new_proposed_actions)\n",
    "plt.show()\n",
    "\n",
    "print(loss)"
   ]
  },
  {
   "cell_type": "code",
   "execution_count": null,
   "id": "dedc08bc-88b3-40f5-ba6e-108fcd0f5a2b",
   "metadata": {
    "scrolled": true
   },
   "outputs": [],
   "source": [
    "jax.grad(loss_function, argnums=(2))(\n",
    "            model, observations[0, :], proposed_actions, density_estimate, tau, exciter.target_distribution, 1e3, 1e3\n",
    "        )"
   ]
  },
  {
   "cell_type": "code",
   "execution_count": null,
   "id": "1fd3b599-b234-417f-82d3-cf67f0ee8093",
   "metadata": {},
   "outputs": [],
   "source": [
    "fig, axs = plot_model_performance(\n",
    "    model=model,\n",
    "    true_observations=observations[1500:],\n",
    "    actions=actions[1500:],\n",
    "    tau=env.tau,\n",
    "    obs_labels=[r\"$\\theta$\", r\"$\\omega$\"],\n",
    "    action_labels=[r\"$u$\"],\n",
    ")\n",
    "plt.show()"
   ]
  },
  {
   "cell_type": "code",
   "execution_count": null,
   "id": "580e44c8-7e4f-417b-bff4-231287d75685",
   "metadata": {},
   "outputs": [],
   "source": []
  },
  {
   "cell_type": "code",
   "execution_count": null,
   "id": "701d0a26-66f6-4967-9d6c-bb3bf3555022",
   "metadata": {},
   "outputs": [],
   "source": [
    "from exciting_exciting_systems.utils.metrics import JSDLoss, KLDLoss"
   ]
  },
  {
   "cell_type": "code",
   "execution_count": null,
   "id": "b86ce74f-1675-4c24-9ad3-0c54ed67ba8d",
   "metadata": {},
   "outputs": [],
   "source": [
    "JSDLoss(\n",
    "    p=density_estimate.p / jnp.sum(density_estimate.p),\n",
    "    q=exciter.target_distribution / jnp.sum(exciter.target_distribution),\n",
    ")"
   ]
  },
  {
   "cell_type": "code",
   "execution_count": null,
   "id": "5e727afc",
   "metadata": {},
   "outputs": [],
   "source": [
    "fig, axs = plot_sequence(\n",
    "    observations,\n",
    "    actions,\n",
    "    tau=tau,\n",
    "    obs_labels=[r\"$\\theta$\", r\"$\\omega$\"],\n",
    "    action_labels=[r\"$u$\"],\n",
    ");\n",
    "plt.plot()"
   ]
  },
  {
   "cell_type": "markdown",
   "id": "8084a220-c287-441e-a517-37466f6766bb",
   "metadata": {
    "jp-MarkdownHeadingCollapsed": true
   },
   "source": [
    "### Interpolation tests:"
   ]
  },
  {
   "cell_type": "markdown",
   "id": "2d2860b7-133d-46ec-a748-61cb9aae451b",
   "metadata": {},
   "source": [
    "in exc_envs:\n",
    "- action is given with $(batch\\_size, n\\_steps, action\\_dim)$\n",
    "- also $\\tau_{act}$ is given\n",
    "- The length of the action sequence is therefore $n\\_steps \\cdot \\tau_{act}$ when each input is held constant (zero-order-hold) for $\\tau_{act}$ seconds\n",
    "- Note however, that the last element starts at the time $(n\\_steps - 1) \\cdot \\tau_{act}$\n",
    "- This occurs because the first element starts at time $0$"
   ]
  },
  {
   "cell_type": "code",
   "execution_count": null,
   "id": "8c0a3f11-227c-4c9b-a596-e29fb6bde0a2",
   "metadata": {},
   "outputs": [],
   "source": [
    "tau = 2e-2\n",
    "actions = aprbs(20, 1, 1, 10, next(data_rng))[0]\n",
    "\n",
    "t_true = jnp.linspace(0, (actions.shape[0]-1) * tau, actions.shape[0])\n",
    "plt.plot(t_true, actions, 'r.')"
   ]
  },
  {
   "cell_type": "code",
   "execution_count": null,
   "id": "30126d74-9e54-4d6c-b568-70968c0ca2c4",
   "metadata": {},
   "outputs": [],
   "source": [
    "t_int = jnp.linspace(0, (actions.shape[0]) * tau, 1000)\n",
    "interpolated_actions = actions[jnp.array(t_int / tau, int), 0]"
   ]
  },
  {
   "cell_type": "code",
   "execution_count": null,
   "id": "411f84ed-f7e7-4383-a524-534a382b4c35",
   "metadata": {},
   "outputs": [],
   "source": [
    "plt.plot(t_int, interpolated_actions, label=r\"$u(t)$\")\n",
    "plt.plot(t_true, actions, label=r\"$u_k$\")\n",
    "plt.legend()\n",
    "plt.grid()"
   ]
  },
  {
   "cell_type": "markdown",
   "id": "fb138223-ed33-4a5e-9b41-58f44e59add1",
   "metadata": {
    "jp-MarkdownHeadingCollapsed": true
   },
   "source": [
    "### KDEs & Metrics:"
   ]
  },
  {
   "cell_type": "code",
   "execution_count": null,
   "id": "ef40651b",
   "metadata": {},
   "outputs": [],
   "source": [
    "if dim == 2:\n",
    "    fig, axs, cax = eesys.evaluation.plotting_utils.plot_2d_kde_as_contourf(\n",
    "        density_estimate.p, density_estimate.x_g, [r\"$\\theta$\", r\"$\\omega$\"]\n",
    "    )\n",
    "    # fig.savefig(\"excited_pendulum_kde_contourf.png\")"
   ]
  },
  {
   "cell_type": "code",
   "execution_count": null,
   "id": "e7bf351e",
   "metadata": {},
   "outputs": [],
   "source": [
    "if dim == 2:\n",
    "    fig, axs = eesys.evaluation.plotting_utils.plot_2d_kde_as_surface(\n",
    "        density_estimate.p, density_estimate.x_g, [r\"$\\theta$\", r\"$\\omega$\"]\n",
    "    )\n",
    "    fig.suptitle(\"Vanilla KDE\")\n",
    "    # fig.savefig(\"excited_pendulum_kde_surface.png\")\n",
    "    plt.show()\n",
    "    \n",
    "    fig, axs = eesys.evaluation.plotting_utils.plot_2d_kde_as_surface(\n",
    "        jnp.abs(density_estimate.p - exciter.target_distribution), density_estimate.x_g, [r\"$\\theta$\", r\"$\\omega$\"]\n",
    "    )\n",
    "    fig.suptitle(\"Difference\")\n",
    "    \n",
    "    plt.show()\n",
    "    \n",
    "    fig, axs, cax = eesys.evaluation.plotting_utils.plot_2d_kde_as_contourf(\n",
    "        jnp.abs(density_estimate.p - exciter.target_distribution), density_estimate.x_g, [r\"$\\theta$\", r\"$\\omega$\"]\n",
    "    )\n",
    "    plt.colorbar(cax)\n",
    "    fig.suptitle(\"Abs Difference\")\n",
    "    \n",
    "    plt.show()"
   ]
  },
  {
   "cell_type": "code",
   "execution_count": null,
   "id": "3512fb3a-d921-496d-9a5c-6c7d6a3ab4f4",
   "metadata": {},
   "outputs": [],
   "source": [
    "raise"
   ]
  },
  {
   "cell_type": "markdown",
   "id": "5e8e003e-fc09-4003-a5ad-63925aa2de70",
   "metadata": {},
   "source": [
    "---\n",
    "### Look at the actions:"
   ]
  },
  {
   "cell_type": "code",
   "execution_count": null,
   "id": "77594257-e4f7-4dda-a768-7b1beb41dd5a",
   "metadata": {},
   "outputs": [],
   "source": [
    "def build_grid_3d(low, high, points_per_dim):\n",
    "    x1, x2, x3 = [\n",
    "        jnp.linspace(low, high, points_per_dim),\n",
    "        jnp.linspace(low, high, points_per_dim),\n",
    "        jnp.linspace(low, high, points_per_dim)\n",
    "    ]\n",
    "\n",
    "    x_g = jnp.meshgrid(*[x1, x2, x3])\n",
    "    x_g = jnp.stack([_x for _x in x_g], axis=-1)\n",
    "    x_g = x_g.reshape(-1, 3)\n",
    "\n",
    "    assert x_g.shape[0] == points_per_dim**3\n",
    "    return x_g"
   ]
  },
  {
   "cell_type": "code",
   "execution_count": null,
   "id": "2c3eb76e-8e89-488e-ae36-ad982cc46fc6",
   "metadata": {},
   "outputs": [],
   "source": [
    "jnp.concatenate([observations[0:-1, :], actions], axis=-1).shape"
   ]
  },
  {
   "cell_type": "code",
   "execution_count": null,
   "id": "99818c4f-8672-4a65-92ed-27f6191b4b31",
   "metadata": {},
   "outputs": [],
   "source": [
    "points_per_dim = 40\n",
    "n_grid_points=points_per_dim**3\n",
    "density_estimate = DensityEstimate(\n",
    "    p=jnp.zeros([batch_size, n_grid_points, 1]),\n",
    "    x_g=build_grid_3d(-1, 1, points_per_dim),\n",
    "    bandwidth=jnp.array([bandwidth]),\n",
    "    n_observations=jnp.array([0])\n",
    ")\n",
    "\n",
    "density_estimate = jax.vmap(\n",
    "    update_density_estimate_multiple_observations,\n",
    "    in_axes=(DensityEstimate(0, None, None, None), 0),\n",
    "    out_axes=(DensityEstimate(0, None, None, None))\n",
    ")(\n",
    "    density_estimate,\n",
    "    jnp.concatenate([observations[0:-1, :], actions], axis=-1)[None],\n",
    ")"
   ]
  },
  {
   "cell_type": "code",
   "execution_count": null,
   "id": "f405a901-efc8-41ff-9d9c-363db3698356",
   "metadata": {},
   "outputs": [],
   "source": [
    "density_estimate.p.shape"
   ]
  },
  {
   "cell_type": "code",
   "execution_count": null,
   "id": "0765c567-9d11-4ea0-b716-ee127d4c37b3",
   "metadata": {},
   "outputs": [],
   "source": [
    "x_plot = density_estimate.x_g.reshape((points_per_dim, points_per_dim, points_per_dim, 3))\n",
    "\n",
    "fig, axs = plt.subplots(\n",
    "    figsize=(6, 6)\n",
    ")\n",
    "\n",
    "ims = []\n",
    "for i in range(points_per_dim):\n",
    "    # fig, axs = plt.subplots(\n",
    "    #     figsize=(6, 6)\n",
    "    # )\n",
    "    cax = axs.contourf(\n",
    "        # x_plot[:, :, 0, :-1][..., 0],\n",
    "        #x_plot[:, :, 0, :-1][..., 1],\n",
    "        density_estimate.p[0].reshape((points_per_dim, points_per_dim, points_per_dim))[:, :, i],\n",
    "        #jnp.sum(density_estimate.p[0].reshape((points_per_dim, points_per_dim, points_per_dim)), axis=-1),\n",
    "        antialiased=False,\n",
    "        levels=100,\n",
    "        alpha=0.9,\n",
    "        cmap=plt.cm.coolwarm\n",
    "    )\n",
    "    ims.append([cax])\n",
    "    # plt.title(jnp.linspace(-1, 1, points_per_dim)[i])\n",
    "    # plt.show()"
   ]
  },
  {
   "cell_type": "code",
   "execution_count": null,
   "id": "3dc569fb-af55-41f1-aab4-cb91660eaf5e",
   "metadata": {},
   "outputs": [],
   "source": [
    "import matplotlib.animation as animation"
   ]
  },
  {
   "cell_type": "code",
   "execution_count": null,
   "id": "c4642d95-f44c-4295-8915-0015d5144f43",
   "metadata": {
    "scrolled": true
   },
   "outputs": [],
   "source": [
    "ani = animation.ArtistAnimation(fig, ims, interval=50, blit=True,\n",
    "                                repeat_delay=1000)"
   ]
  },
  {
   "cell_type": "code",
   "execution_count": null,
   "id": "11de0b7d-cc86-441a-9d17-d894c1ed91ad",
   "metadata": {},
   "outputs": [],
   "source": [
    "writer = animation.PillowWriter(fps=5,\n",
    "                                metadata=dict(artist='Me'),\n",
    "                                bitrate=1800)\n",
    "ani.save('opt_wrt_obs_and_act.gif', writer=writer)"
   ]
  },
  {
   "cell_type": "markdown",
   "id": "74dc52eb-b4d3-4195-b410-1a5a36cd6f6a",
   "metadata": {},
   "source": [
    "- maybe look at the vector fields here as well?\n",
    "- I thinks it is possible that the system does not have enough strength to go through the upper equilibrium at max velocity?\n",
    "\n",
    "AFAICT ~$6.2 \\ \\mathrm{ Nm}$ are necessary for max angular velocity at the top position and only $5 \\ \\mathrm{ Nm}$ were available\n",
    "\n",
    "$8 \\ \\mathrm{ Nm}$ seems to be a good point, were stability is also still maintainable"
   ]
  },
  {
   "cell_type": "code",
   "execution_count": null,
   "id": "18f46d96-409e-47cb-a9d9-f7bbb1a6dba8",
   "metadata": {},
   "outputs": [],
   "source": []
  }
 ],
 "metadata": {
  "kernelspec": {
   "display_name": "Python 3 (ipykernel)",
   "language": "python",
   "name": "python3"
  },
  "language_info": {
   "codemirror_mode": {
    "name": "ipython",
    "version": 3
   },
   "file_extension": ".py",
   "mimetype": "text/x-python",
   "name": "python",
   "nbconvert_exporter": "python",
   "pygments_lexer": "ipython3",
   "version": "3.11.9"
  }
 },
 "nbformat": 4,
 "nbformat_minor": 5
}
