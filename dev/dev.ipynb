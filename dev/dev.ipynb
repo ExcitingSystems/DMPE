{
 "cells": [
  {
   "cell_type": "code",
   "execution_count": null,
   "id": "77bc7ef0-b1f7-4a68-a3f5-35ac37aa27e7",
   "metadata": {},
   "outputs": [],
   "source": [
    "%load_ext autoreload\n",
    "%autoreload 2\n",
    "%reload_ext line_profiler"
   ]
  },
  {
   "cell_type": "code",
   "execution_count": null,
   "id": "e4aa7c25-7895-4998-a088-8a5b52dc5dc6",
   "metadata": {},
   "outputs": [],
   "source": [
    "from functools import partial\n",
    "\n",
    "import time\n",
    "from tqdm.notebook import tqdm\n",
    "import numpy as np\n",
    "import matplotlib.pyplot as plt\n",
    "# plt.rcParams['text.usetex'] = True\n",
    "import plotly.express as px\n",
    "import plotly.graph_objects as go"
   ]
  },
  {
   "cell_type": "code",
   "execution_count": null,
   "id": "6cf2832e-7a38-4671-a271-1cdc2b5cb6ba",
   "metadata": {},
   "outputs": [],
   "source": [
    "import jax\n",
    "import jax.numpy as jnp\n",
    "\n",
    "import diffrax\n",
    "import equinox as eqx\n",
    "import optax\n",
    "\n",
    "from haiku import PRNGSequence"
   ]
  },
  {
   "cell_type": "code",
   "execution_count": null,
   "id": "fa8a3a59-787d-463f-bd20-30dd451916e6",
   "metadata": {},
   "outputs": [],
   "source": [
    "import exciting_environments as excenvs\n",
    "\n",
    "import exciting_exciting_systems as eesys\n",
    "from exciting_exciting_systems.models import NeuralEulerODEPendulum\n",
    "from exciting_exciting_systems.models.model_utils import simulate_ahead, simulate_ahead_with_env\n",
    "from exciting_exciting_systems.optimization import loss_function, optimize, soft_penalty\n",
    "from exciting_exciting_systems.models.model_training import make_step, dataloader\n",
    "\n",
    "from exciting_exciting_systems.utils.density_estimation import update_kde_grid, update_kde_grid_multiple_observations\n",
    "from exciting_exciting_systems.utils.metrics import JSDLoss\n",
    "from exciting_exciting_systems.utils.signals import generate_constant_action, aprbs\n",
    "from exciting_exciting_systems.evaluation.plotting_utils import (\n",
    "    plot_sequence, append_predictions_to_sequence_plot, plot_sequence_and_prediction, plot_model_performance\n",
    ")"
   ]
  },
  {
   "cell_type": "markdown",
   "id": "7da2c970-cf2e-4190-a86c-accb7816c7a2",
   "metadata": {},
   "source": [
    "---"
   ]
  },
  {
   "cell_type": "code",
   "execution_count": null,
   "id": "668168ec-e0fd-4bb9-88c5-ba1aee872e5b",
   "metadata": {},
   "outputs": [],
   "source": [
    "# setup PRNG\n",
    "key = jax.random.PRNGKey(seed=21)\n",
    "\n",
    "data_key, model_key, loader_key, key = jax.random.split(key, 4)\n",
    "data_rng = PRNGSequence(data_key)"
   ]
  },
  {
   "cell_type": "code",
   "execution_count": null,
   "id": "3032c0a2-3d73-40e8-be9b-84741a868721",
   "metadata": {},
   "outputs": [],
   "source": [
    "batch_size = 1\n",
    "tau = 1e-2\n",
    "\n",
    "env = excenvs.make(\n",
    "    env_id='Pendulum-v0',\n",
    "    batch_size=batch_size,\n",
    "    tau=tau\n",
    ")"
   ]
  },
  {
   "cell_type": "markdown",
   "id": "a09c0185-d618-46be-8360-c102655012c0",
   "metadata": {},
   "source": [
    "### Test simulation:\n",
    "\n",
    "- starting from the intial state/obs ($\\mathbf{x}_0$ / $\\mathbf{y}_0$)\n",
    "- apply $N = 999$ actions $\\mathbf{u}_0 \\dots \\mathbf{u}_N$ (**here**: random APRBS actions)\n",
    "- which results in the state trajectory $\\mathbf{x}_0 ... \\mathbf{x}_N+1$ with $N+1 = 1000$ elements"
   ]
  },
  {
   "cell_type": "code",
   "execution_count": null,
   "id": "8febaa41-abd5-4d22-83af-90934bc868e1",
   "metadata": {},
   "outputs": [],
   "source": [
    "obs, state = env.reset()\n",
    "obs = obs.astype(jnp.float32)\n",
    "state = state.astype(jnp.float32)\n",
    "n_steps = 999\n",
    "\n",
    "actions = aprbs(n_steps, batch_size, 200, 500, next(data_rng))"
   ]
  },
  {
   "cell_type": "code",
   "execution_count": null,
   "id": "07341063-353e-448c-b9ca-7ed2f7396f63",
   "metadata": {},
   "outputs": [],
   "source": [
    "observations = jax.vmap(simulate_ahead_with_env, in_axes=(None, 0, 0, 0, 0, 0, 0))(\n",
    "    env,\n",
    "    obs,\n",
    "    state,\n",
    "    actions,\n",
    "    env.env_state_normalizer,\n",
    "    env.action_normalizer,\n",
    "    env.static_params\n",
    ")\n",
    "\n",
    "print(\"actions.shape:\", actions.shape)\n",
    "print(\"observations.shape:\", observations.shape)\n",
    "\n",
    "print(\" \\n One of the trajectories:\")\n",
    "fig, axs = plot_sequence(\n",
    "    observations=observations[0, ...],\n",
    "    actions=actions[0, ...],\n",
    "    tau=tau,\n",
    "    obs_labels=[r\"$\\theta$\", r\"$\\omega$\"],\n",
    "    action_labels=[r\"$u$\"],\n",
    ");\n",
    "plt.show()"
   ]
  },
  {
   "cell_type": "markdown",
   "id": "c67b74b4-395f-47e4-8593-fd562a11a9d6",
   "metadata": {},
   "source": [
    "## Build an algorithm that simultaneously learns the model and optimizes its trajectory:"
   ]
  },
  {
   "cell_type": "code",
   "execution_count": null,
   "id": "eace3486-5210-4410-9237-a3e09116fc61",
   "metadata": {},
   "outputs": [],
   "source": [
    "def featurize_theta(obs):\n",
    "    \"\"\"The angle itself is difficult to properly interpret in the loss as angles\n",
    "    such as 1.99 * pi and 0 are essentially the same. Therefore the angle is \n",
    "    transformed to sin(phi) and cos(phi) for comparison in the loss.\"\"\"\n",
    "    feat_obs = jnp.stack([jnp.sin(obs[..., 0] * jnp.pi), jnp.cos(obs[..., 0] * jnp.pi), obs[..., 1]], axis=-1)\n",
    "    return feat_obs"
   ]
  },
  {
   "cell_type": "code",
   "execution_count": null,
   "id": "d509c555-0e62-4c0e-9588-ae429b9093fa",
   "metadata": {},
   "outputs": [],
   "source": [
    "# parameters\n",
    "bandwidth = 0.05\n",
    "n_prediction_steps = 50\n",
    "# n_opt_steps = 5  # TODO: Not yet implemented\n",
    "\n",
    "n_train_steps = 1\n",
    "training_batch_size = 32\n",
    "sequence_length = n_prediction_steps\n",
    "\n",
    "n_timesteps = 5_000"
   ]
  },
  {
   "cell_type": "code",
   "execution_count": null,
   "id": "d22943a8-598a-4c51-bc1a-70323740f7fc",
   "metadata": {},
   "outputs": [],
   "source": [
    "x_g = eesys.utils.density_estimation.build_grid_2d(\n",
    "    low=env.env_observation_space.low,\n",
    "    high=env.env_observation_space.high,\n",
    "    points_per_dim=40\n",
    ")\n",
    "n_grid_points = x_g.shape[0]"
   ]
  },
  {
   "cell_type": "code",
   "execution_count": null,
   "id": "d0d5eb67-09f3-49b2-8d28-ab7f01cbafbd",
   "metadata": {},
   "outputs": [],
   "source": [
    "target_distribution = jnp.ones(shape=(n_grid_points, 1))\n",
    "target_distribution *= 1 / (env.env_observation_space.high - env.env_observation_space.low)**2\n",
    "\n",
    "obs, state = env.reset()\n",
    "obs = obs.astype(jnp.float32)\n",
    "state = state.astype(jnp.float32)\n",
    "\n",
    "memory = {\n",
    "    \"observations\": [obs],\n",
    "    \"actions\": []\n",
    "}\n",
    "\n",
    "p_est = jnp.zeros([batch_size, n_grid_points, 1])\n",
    "\n",
    "proposed_actions = aprbs(n_prediction_steps, batch_size, 20, 50, next(data_rng))\n",
    "\n",
    "model = NeuralEulerODEPendulum(\n",
    "    obs_dim=env.env_observation_space.shape[-1],\n",
    "    action_dim=env.action_space.shape[-1],\n",
    "    width_size=128,\n",
    "    depth=3,\n",
    "    key=model_key\n",
    ")\n",
    "lr = 1e-3\n",
    "optim = optax.adabelief(lr)\n",
    "opt_state = optim.init(eqx.filter(model, eqx.is_inexact_array))\n",
    "\n",
    "start_n_measurments = jnp.array([0])\n",
    "grad_loss_function = jax.grad(loss_function, argnums=(3))  # derivatve w.r.t. the actions"
   ]
  },
  {
   "cell_type": "code",
   "execution_count": null,
   "id": "816cecb7-ebb9-4dd1-975e-402bab8c1f11",
   "metadata": {},
   "outputs": [],
   "source": [
    "for k in tqdm(range(n_timesteps)):\n",
    "    proposed_actions, final_loss = optimize(\n",
    "        grad_loss_function=grad_loss_function,\n",
    "        proposed_actions=proposed_actions,\n",
    "        model=model,\n",
    "        init_obs=obs,\n",
    "        init_state=state,\n",
    "        p_est=p_est,\n",
    "        x=x_g,\n",
    "        start_n_measurments=start_n_measurments,\n",
    "        bandwidth=bandwidth,\n",
    "        tau=tau,\n",
    "        target_distribution=target_distribution\n",
    "    )\n",
    "\n",
    "    if k % 100 == 0 and k > 0:\n",
    "        print(f\"Loss iteration: {k}: {final_loss[0]}\")\n",
    "        fig, axs = plot_sequence_and_prediction(\n",
    "            observations=jnp.stack(memory[\"observations\"], axis=1)[0, :],\n",
    "            actions=jnp.stack(memory[\"actions\"], axis=1)[0, :],\n",
    "            tau=tau,\n",
    "            obs_labels=[r\"$\\theta$\", r\"$\\omega$\"],\n",
    "            actions_labels=[r\"$u$\"],\n",
    "            model=env,\n",
    "            init_obs=obs[0, :],\n",
    "            init_state=state[0, :],\n",
    "            proposed_actions=proposed_actions[0, :]\n",
    "        )\n",
    "        plt.show()\n",
    "\n",
    "    # update grid KDE with x_k\n",
    "    p_est = jax.vmap(update_kde_grid, in_axes=[0, None, 0, None, None])(\n",
    "        p_est, x_g, obs, k, bandwidth\n",
    "    )\n",
    "    start_n_measurments = start_n_measurments + 1\n",
    "\n",
    "    # apply u_k = \\hat{u}_{k+1} and go to x_{k+1}\n",
    "    action = proposed_actions[:, 0, :]\n",
    "    obs, _, _, _, state = env.step(action, state)\n",
    "    proposed_actions = proposed_actions.at[:, :-1, :].set(proposed_actions[:, 1:, :])\n",
    "\n",
    "    memory[\"actions\"].append(action)  # store u_k\n",
    "    memory[\"observations\"].append(obs)  # store x_{k+1}\n",
    "\n",
    "    # update the model\n",
    "    if k > n_prediction_steps:\n",
    "        for (i, (observations_batch, actions_batch)) in zip(\n",
    "            range(n_train_steps), dataloader(memory, training_batch_size, sequence_length, key=loader_key)\n",
    "        ):\n",
    "            observations_batch = observations_batch[:, :, 0, :]\n",
    "            actions_batch = actions_batch[:, :-1, 0, :]\n",
    "            \n",
    "            model_training_loss, model, opt_state = make_step(\n",
    "                model,\n",
    "                observations_batch,\n",
    "                actions_batch,\n",
    "                tau,\n",
    "                opt_state,\n",
    "                featurize_theta,\n",
    "                optim\n",
    "            )\n",
    "    if (k % 10) == 0 and k > n_prediction_steps:\n",
    "        print(f\"iter: {k}, Loss: {model_training_loss}\")        "
   ]
  },
  {
   "cell_type": "code",
   "execution_count": null,
   "id": "94abc7ef-b07f-4dc9-83ed-ba54a0f08a62",
   "metadata": {},
   "outputs": [],
   "source": [
    "fig, axs = plot_model_performance(\n",
    "    model=model,\n",
    "    true_observations=jnp.stack(memory[\"observations\"])[700:1700, 0],\n",
    "    actions=jnp.stack(memory[\"actions\"])[700:1699, 0],\n",
    "    tau=tau,\n",
    "    obs_labels=[r\"$\\theta$\", r\"$\\omega$\"],\n",
    "    action_labels=[r\"$u$\"],\n",
    ");\n",
    "plt.plot()"
   ]
  },
  {
   "cell_type": "code",
   "execution_count": null,
   "id": "773090ca-8e48-4d39-9083-d6e350f2743c",
   "metadata": {},
   "outputs": [],
   "source": []
  }
 ],
 "metadata": {
  "kernelspec": {
   "display_name": "Python (conda-dev-base)",
   "language": "python",
   "name": "conda-dev-base"
  },
  "language_info": {
   "codemirror_mode": {
    "name": "ipython",
    "version": 3
   },
   "file_extension": ".py",
   "mimetype": "text/x-python",
   "name": "python",
   "nbconvert_exporter": "python",
   "pygments_lexer": "ipython3",
   "version": "3.11.3"
  }
 },
 "nbformat": 4,
 "nbformat_minor": 5
}
