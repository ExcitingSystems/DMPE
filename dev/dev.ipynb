{
 "cells": [
  {
   "cell_type": "code",
   "execution_count": null,
   "id": "94c12c85",
   "metadata": {},
   "outputs": [],
   "source": [
    "%load_ext autoreload\n",
    "%autoreload 2\n",
    "%reload_ext line_profiler"
   ]
  },
  {
   "cell_type": "code",
   "execution_count": null,
   "id": "4870fff0",
   "metadata": {},
   "outputs": [],
   "source": [
    "from functools import partial\n",
    "\n",
    "import time\n",
    "from tqdm.notebook import tqdm\n",
    "import numpy as np\n",
    "import matplotlib.pyplot as plt\n",
    "# plt.rcParams['text.usetex'] = True\n",
    "import plotly.express as px\n",
    "import plotly.graph_objects as go"
   ]
  },
  {
   "cell_type": "code",
   "execution_count": null,
   "id": "f2d09591",
   "metadata": {},
   "outputs": [],
   "source": [
    "import jax\n",
    "import jax.numpy as jnp\n",
    "\n",
    "import diffrax\n",
    "import equinox as eqx\n",
    "import optax\n",
    "\n",
    "from haiku import PRNGSequence"
   ]
  },
  {
   "cell_type": "code",
   "execution_count": null,
   "id": "ec2be399",
   "metadata": {},
   "outputs": [],
   "source": [
    "import exciting_environments as excenvs\n",
    "\n",
    "import exciting_exciting_systems as eesys\n",
    "from exciting_exciting_systems.models import NeuralEulerODEPendulum\n",
    "from exciting_exciting_systems.models.model_utils import simulate_ahead_with_env\n",
    "from exciting_exciting_systems.models.model_training import ModelTrainer\n",
    "from exciting_exciting_systems.excitation import loss_function, Exciter\n",
    "\n",
    "from exciting_exciting_systems.utils.density_estimation import (\n",
    "    update_density_estimate_single_observation, update_density_estimate_multiple_observations, DensityEstimate\n",
    ")\n",
    "from exciting_exciting_systems.utils.signals import aprbs\n",
    "from exciting_exciting_systems.evaluation.plotting_utils import (\n",
    "    plot_sequence, append_predictions_to_sequence_plot, plot_sequence_and_prediction, plot_model_performance\n",
    ")"
   ]
  },
  {
   "cell_type": "markdown",
   "id": "dbd0f2ca",
   "metadata": {},
   "source": [
    "---"
   ]
  },
  {
   "cell_type": "code",
   "execution_count": null,
   "id": "1d070863",
   "metadata": {},
   "outputs": [],
   "source": [
    "# setup PRNG\n",
    "key = jax.random.PRNGKey(seed=33) # 21)\n",
    "\n",
    "data_key, model_key, loader_key, key = jax.random.split(key, 4)\n",
    "data_rng = PRNGSequence(data_key)"
   ]
  },
  {
   "cell_type": "code",
   "execution_count": null,
   "id": "6653ae60",
   "metadata": {},
   "outputs": [],
   "source": [
    "batch_size = 1\n",
    "tau = 2e-2 # 5e-2\n",
    "\n",
    "env = excenvs.make(\n",
    "    env_id='Pendulum-v0',\n",
    "    batch_size=batch_size,\n",
    "    tau=tau,\n",
    "    max_torque=5\n",
    ")"
   ]
  },
  {
   "cell_type": "markdown",
   "id": "19a917a9",
   "metadata": {},
   "source": [
    "### Test simulation:\n",
    "\n",
    "- starting from the intial state/obs ($\\mathbf{x}_0$ / $\\mathbf{y}_0$)\n",
    "- apply $N = 999$ actions $\\mathbf{u}_0 \\dots \\mathbf{u}_N$ (**here**: random APRBS actions)\n",
    "- which results in the state trajectory $\\mathbf{x}_0 ... \\mathbf{x}_N+1$ with $N+1 = 1000$ elements"
   ]
  },
  {
   "cell_type": "code",
   "execution_count": null,
   "id": "5dbcd842",
   "metadata": {},
   "outputs": [],
   "source": [
    "obs, state = env.reset()\n",
    "obs = obs.astype(jnp.float32)\n",
    "state = state.astype(jnp.float32)\n",
    "n_steps = 999\n",
    "\n",
    "actions = aprbs(n_steps, batch_size, 1, 10, next(data_rng))"
   ]
  },
  {
   "cell_type": "code",
   "execution_count": null,
   "id": "99904015",
   "metadata": {},
   "outputs": [],
   "source": [
    "observations = jax.vmap(simulate_ahead_with_env, in_axes=(None, 0, 0, 0, 0, 0, 0))(\n",
    "    env,\n",
    "    obs,\n",
    "    state,\n",
    "    actions,\n",
    "    env.env_state_normalizer,\n",
    "    env.action_normalizer,\n",
    "    env.static_params\n",
    ")\n",
    "\n",
    "print(\"actions.shape:\", actions.shape)\n",
    "print(\"observations.shape:\", observations.shape)\n",
    "\n",
    "print(\" \\n One of the trajectories:\")\n",
    "fig, axs = plot_sequence(\n",
    "    observations=observations[0, ...],\n",
    "    actions=actions[0, ...],\n",
    "    tau=tau,\n",
    "    obs_labels=[r\"$\\theta$\", r\"$\\omega$\"],\n",
    "    action_labels=[r\"$u$\"],\n",
    ");\n",
    "plt.show()"
   ]
  },
  {
   "cell_type": "markdown",
   "id": "2e04ced2",
   "metadata": {},
   "source": [
    "## Build an algorithm that simultaneously learns the model and optimizes its trajectory:"
   ]
  },
  {
   "cell_type": "code",
   "execution_count": null,
   "id": "3cff8aeb",
   "metadata": {},
   "outputs": [],
   "source": [
    "def featurize_theta(obs):\n",
    "    \"\"\"The angle itself is difficult to properly interpret in the loss as angles\n",
    "    such as 1.99 * pi and 0 are essentially the same. Therefore the angle is \n",
    "    transformed to sin(phi) and cos(phi) for comparison in the loss.\"\"\"\n",
    "    feat_obs = jnp.stack([jnp.sin(obs[..., 0] * jnp.pi), jnp.cos(obs[..., 0] * jnp.pi), obs[..., 1]], axis=-1)\n",
    "    return feat_obs"
   ]
  },
  {
   "cell_type": "code",
   "execution_count": null,
   "id": "8f3b03eb",
   "metadata": {},
   "outputs": [],
   "source": [
    "bandwidth = 0.1\n",
    "n_prediction_steps = 50\n",
    "\n",
    "dim = 3\n",
    "points_per_dim = 50\n",
    "n_grid_points=points_per_dim**dim\n",
    "\n",
    "n_timesteps = 15_000"
   ]
  },
  {
   "cell_type": "code",
   "execution_count": null,
   "id": "ba8e6717",
   "metadata": {},
   "outputs": [],
   "source": [
    "obs, state = env.reset()\n",
    "obs = obs.astype(jnp.float32)\n",
    "state = state.astype(jnp.float32)\n",
    "\n",
    "observations = jnp.zeros((n_timesteps, env.env_observation_space.shape[-1]))\n",
    "observations = observations.at[0].set(obs[0])\n",
    "actions = jnp.zeros((n_timesteps-1, env.action_space.shape[-1]))\n",
    "\n",
    "proposed_actions = aprbs(n_prediction_steps, batch_size, 1, 10, next(data_rng))"
   ]
  },
  {
   "cell_type": "code",
   "execution_count": null,
   "id": "11c74af1-c468-4085-a65a-fb57c3872303",
   "metadata": {},
   "outputs": [],
   "source": [
    "exciter = Exciter(\n",
    "    grad_loss_function=jax.grad(loss_function, argnums=(3)),\n",
    "    excitation_optimizer=optax.adabelief(1e-1),\n",
    "    tau=tau,\n",
    "    target_distribution=jnp.ones(shape=(n_grid_points, 1)) * 1 / (env.env_observation_space.high - env.env_observation_space.low)**dim\n",
    ")\n",
    "\n",
    "model_trainer = ModelTrainer(\n",
    "    start_learning=n_prediction_steps,\n",
    "    training_batch_size=128,\n",
    "    n_train_steps=1,\n",
    "    sequence_length=n_prediction_steps,\n",
    "    featurize=featurize_theta,\n",
    "    model_optimizer=optax.adabelief(1e-4),\n",
    "    tau=tau\n",
    ")\n",
    "\n",
    "density_estimate = DensityEstimate(\n",
    "    p=jnp.zeros([batch_size, n_grid_points, 1]),\n",
    "    x_g=eesys.utils.density_estimation.build_grid_3d(\n",
    "        low=env.env_observation_space.low,\n",
    "        high=env.env_observation_space.high,\n",
    "        points_per_dim=points_per_dim\n",
    "    ),\n",
    "    bandwidth=jnp.array([bandwidth]),\n",
    "    n_observations=jnp.array([0])\n",
    ")\n",
    "\n",
    "# density_estimate = DensityEstimate(\n",
    "#     p=jnp.zeros([batch_size, n_grid_points, 1]),\n",
    "#     x_g=eesys.utils.density_estimation.build_grid_2d(\n",
    "#         low=env.env_observation_space.low,\n",
    "#         high=env.env_observation_space.high,\n",
    "#         points_per_dim=points_per_dim\n",
    "#     ),\n",
    "#     bandwidth=jnp.array([bandwidth]),\n",
    "#     n_observations=jnp.array([0])\n",
    "# )\n",
    "\n",
    "model = NeuralEulerODEPendulum(\n",
    "    obs_dim=env.env_observation_space.shape[-1],\n",
    "    action_dim=env.action_space.shape[-1],\n",
    "    width_size=128,\n",
    "    depth=3,\n",
    "    key=model_key\n",
    ")\n",
    "\n",
    "opt_state_model = model_trainer.model_optimizer.init(eqx.filter(model, eqx.is_inexact_array))"
   ]
  },
  {
   "cell_type": "code",
   "execution_count": null,
   "id": "855ced2c",
   "metadata": {},
   "outputs": [],
   "source": [
    "from exciting_exciting_systems.algorithms import excite_and_fit"
   ]
  },
  {
   "cell_type": "code",
   "execution_count": null,
   "id": "702907d1",
   "metadata": {},
   "outputs": [],
   "source": [
    "observations, actions, model, density_estimate = excite_and_fit(\n",
    "    n_timesteps=n_timesteps,\n",
    "    env=env,\n",
    "    model=model,\n",
    "    obs=obs,\n",
    "    state=state,\n",
    "    proposed_actions=proposed_actions,\n",
    "    exciter=exciter,\n",
    "    model_trainer=model_trainer,\n",
    "    density_estimate=density_estimate,\n",
    "    observations=observations,\n",
    "    actions=actions,\n",
    "    opt_state_model=opt_state_model,\n",
    "    loader_key=loader_key\n",
    ")"
   ]
  },
  {
   "cell_type": "code",
   "execution_count": null,
   "id": "5e727afc",
   "metadata": {},
   "outputs": [],
   "source": [
    "fig, axs = plot_sequence(\n",
    "    observations,\n",
    "    actions,\n",
    "    tau=tau,\n",
    "    obs_labels=[r\"$\\theta$\", r\"$\\omega$\"],\n",
    "    action_labels=[r\"$u$\"],\n",
    ");\n",
    "plt.plot()"
   ]
  },
  {
   "cell_type": "code",
   "execution_count": null,
   "id": "3dc90dd7",
   "metadata": {},
   "outputs": [],
   "source": [
    "fig, axs = plot_model_performance(\n",
    "    model=model,\n",
    "    true_observations=observations[1000:2000],\n",
    "    actions=actions[1000:1999],\n",
    "    tau=tau,\n",
    "    obs_labels=[r\"$\\theta$\", r\"$\\omega$\"],\n",
    "    action_labels=[r\"$u$\"],\n",
    ");\n",
    "plt.plot()"
   ]
  },
  {
   "cell_type": "code",
   "execution_count": null,
   "id": "ef40651b",
   "metadata": {},
   "outputs": [],
   "source": [
    "if dim == 2:\n",
    "    fig, axs, cax = eesys.evaluation.plotting_utils.plot_2d_kde_as_contourf(\n",
    "        density_estimate.p, density_estimate.x_g, [r\"$\\theta$\", r\"$\\omega$\"]\n",
    "    )\n",
    "    # fig.savefig(\"excited_pendulum_kde_contourf.png\")"
   ]
  },
  {
   "cell_type": "code",
   "execution_count": null,
   "id": "e7bf351e",
   "metadata": {},
   "outputs": [],
   "source": [
    "if dim == 2:\n",
    "    fig, axs = eesys.evaluation.plotting_utils.plot_2d_kde_as_surface(\n",
    "        density_estimate.p, density_estimate.x_g, [r\"$\\theta$\", r\"$\\omega$\"]\n",
    "    )\n",
    "    fig.suptitle(\"Vanilla KDE\")\n",
    "    # fig.savefig(\"excited_pendulum_kde_surface.png\")\n",
    "    plt.show()\n",
    "    \n",
    "    fig, axs = eesys.evaluation.plotting_utils.plot_2d_kde_as_surface(\n",
    "        jnp.abs(density_estimate.p - exciter.target_distribution), density_estimate.x_g, [r\"$\\theta$\", r\"$\\omega$\"]\n",
    "    )\n",
    "    fig.suptitle(\"Difference\")\n",
    "    \n",
    "    plt.show()\n",
    "    \n",
    "    fig, axs, cax = eesys.evaluation.plotting_utils.plot_2d_kde_as_contourf(\n",
    "        jnp.abs(density_estimate.p - exciter.target_distribution), density_estimate.x_g, [r\"$\\theta$\", r\"$\\omega$\"]\n",
    "    )\n",
    "    plt.colorbar(cax)\n",
    "    fig.suptitle(\"Abs Difference\")\n",
    "    \n",
    "    plt.show()"
   ]
  },
  {
   "cell_type": "code",
   "execution_count": null,
   "id": "23f5f4e7-8a07-41b8-85a9-a14b4591a338",
   "metadata": {},
   "outputs": [],
   "source": [
    "from exciting_exciting_systems.utils.metrics import MNNS_without_penalty, audze_eglais, MC_uniform_sampling_distribution_approximation\n",
    "from scipy.stats.qmc import LatinHypercube"
   ]
  },
  {
   "cell_type": "code",
   "execution_count": null,
   "id": "e071c34d-3bc6-4ccf-a676-4bdeb807f66b",
   "metadata": {},
   "outputs": [],
   "source": [
    "lhc_sampler = LatinHypercube(d=2)"
   ]
  },
  {
   "cell_type": "code",
   "execution_count": null,
   "id": "87f4acec-8780-48e6-8b7c-121403bb99b9",
   "metadata": {},
   "outputs": [],
   "source": [
    "ae_score = audze_eglais(observations)\n",
    "print(ae_score)"
   ]
  },
  {
   "cell_type": "code",
   "execution_count": null,
   "id": "244adf9d-5e40-46e1-b579-c431d028f613",
   "metadata": {},
   "outputs": [],
   "source": []
  },
  {
   "cell_type": "code",
   "execution_count": null,
   "id": "4cdd57b3-84e1-4861-84a3-ee7ac06aa004",
   "metadata": {},
   "outputs": [],
   "source": [
    "def MC_uniform_sampling_distribution_approximation(\n",
    "        data_points: jnp.ndarray,\n",
    "        support_points: jnp.ndarray\n",
    ") -> jnp.ndarray:\n",
    "    \"\"\"From [Smits+Nelles2024]. The minimax-design tries to minimize\n",
    "    the distances of the data points to the support points.\n",
    "\n",
    "    What stops the data points to just flock to a single support point?\n",
    "    This is just looking at the shortest distance.\n",
    "    \"\"\"\n",
    "    M = support_points.shape[0]\n",
    "    distance_matrix = jnp.linalg.norm(data_points[:, None, :] - support_points[None, ...], axis=-1)\n",
    "    minimal_distances = jnp.min(distance_matrix, axis=0)\n",
    "\n",
    "    return jnp.sum(minimal_distances) / M"
   ]
  },
  {
   "cell_type": "code",
   "execution_count": null,
   "id": "fb1e0f7b-e993-4822-80ae-9ea5d718be2e",
   "metadata": {},
   "outputs": [],
   "source": [
    "mcudsa_score = MC_uniform_sampling_distribution_approximation(\n",
    "    data_points=observations,\n",
    "    support_points=lhc_sampler.random(n=1600) * 2 - 1\n",
    ")\n",
    "print(mcudsa_score)"
   ]
  },
  {
   "cell_type": "markdown",
   "id": "5e8e003e-fc09-4003-a5ad-63925aa2de70",
   "metadata": {},
   "source": [
    "---\n",
    "### Look at the actions:"
   ]
  },
  {
   "cell_type": "code",
   "execution_count": null,
   "id": "77594257-e4f7-4dda-a768-7b1beb41dd5a",
   "metadata": {},
   "outputs": [],
   "source": [
    "def build_grid_3d(low, high, points_per_dim):\n",
    "    x1, x2, x3 = [\n",
    "        jnp.linspace(low, high, points_per_dim),\n",
    "        jnp.linspace(low, high, points_per_dim),\n",
    "        jnp.linspace(low, high, points_per_dim)\n",
    "    ]\n",
    "\n",
    "    x_g = jnp.meshgrid(*[x1, x2, x3])\n",
    "    x_g = jnp.stack([_x for _x in x_g], axis=-1)\n",
    "    x_g = x_g.reshape(-1, 3)\n",
    "\n",
    "    assert x_g.shape[0] == points_per_dim**3\n",
    "    return x_g"
   ]
  },
  {
   "cell_type": "code",
   "execution_count": null,
   "id": "2c3eb76e-8e89-488e-ae36-ad982cc46fc6",
   "metadata": {},
   "outputs": [],
   "source": [
    "jnp.concatenate([observations[0:-1, :], actions], axis=-1).shape"
   ]
  },
  {
   "cell_type": "code",
   "execution_count": null,
   "id": "99818c4f-8672-4a65-92ed-27f6191b4b31",
   "metadata": {},
   "outputs": [],
   "source": [
    "points_per_dim = 40\n",
    "n_grid_points=points_per_dim**3\n",
    "density_estimate = DensityEstimate(\n",
    "    p=jnp.zeros([batch_size, n_grid_points, 1]),\n",
    "    x_g=build_grid_3d(-1, 1, points_per_dim),\n",
    "    bandwidth=jnp.array([bandwidth]),\n",
    "    n_observations=jnp.array([0])\n",
    ")\n",
    "\n",
    "density_estimate = jax.vmap(\n",
    "    update_density_estimate_multiple_observations,\n",
    "    in_axes=(DensityEstimate(0, None, None, None), 0),\n",
    "    out_axes=(DensityEstimate(0, None, None, None))\n",
    ")(\n",
    "    density_estimate,\n",
    "    jnp.concatenate([observations[0:-1, :], actions], axis=-1)[None],\n",
    ")"
   ]
  },
  {
   "cell_type": "code",
   "execution_count": null,
   "id": "f405a901-efc8-41ff-9d9c-363db3698356",
   "metadata": {},
   "outputs": [],
   "source": [
    "density_estimate.p.shape"
   ]
  },
  {
   "cell_type": "code",
   "execution_count": null,
   "id": "0765c567-9d11-4ea0-b716-ee127d4c37b3",
   "metadata": {},
   "outputs": [],
   "source": [
    "x_plot = density_estimate.x_g.reshape((points_per_dim, points_per_dim, points_per_dim, 3))\n",
    "\n",
    "fig, axs = plt.subplots(\n",
    "    figsize=(6, 6)\n",
    ")\n",
    "\n",
    "ims = []\n",
    "for i in range(points_per_dim):\n",
    "    # fig, axs = plt.subplots(\n",
    "    #     figsize=(6, 6)\n",
    "    # )\n",
    "    cax = axs.contourf(\n",
    "        # x_plot[:, :, 0, :-1][..., 0],\n",
    "        #x_plot[:, :, 0, :-1][..., 1],\n",
    "        density_estimate.p[0].reshape((points_per_dim, points_per_dim, points_per_dim))[:, :, i],\n",
    "        #jnp.sum(density_estimate.p[0].reshape((points_per_dim, points_per_dim, points_per_dim)), axis=-1),\n",
    "        antialiased=False,\n",
    "        levels=100,\n",
    "        alpha=0.9,\n",
    "        cmap=plt.cm.coolwarm\n",
    "    )\n",
    "    ims.append([cax])\n",
    "    # plt.title(jnp.linspace(-1, 1, points_per_dim)[i])\n",
    "    # plt.show()"
   ]
  },
  {
   "cell_type": "code",
   "execution_count": null,
   "id": "3dc569fb-af55-41f1-aab4-cb91660eaf5e",
   "metadata": {},
   "outputs": [],
   "source": [
    "import matplotlib.animation as animation"
   ]
  },
  {
   "cell_type": "code",
   "execution_count": null,
   "id": "c4642d95-f44c-4295-8915-0015d5144f43",
   "metadata": {
    "scrolled": true
   },
   "outputs": [],
   "source": [
    "ani = animation.ArtistAnimation(fig, ims, interval=50, blit=True,\n",
    "                                repeat_delay=1000)"
   ]
  },
  {
   "cell_type": "code",
   "execution_count": null,
   "id": "11de0b7d-cc86-441a-9d17-d894c1ed91ad",
   "metadata": {},
   "outputs": [],
   "source": [
    "writer = animation.PillowWriter(fps=5,\n",
    "                                metadata=dict(artist='Me'),\n",
    "                                bitrate=1800)\n",
    "ani.save('opt_wrt_obs_and_act.gif', writer=writer)"
   ]
  },
  {
   "cell_type": "markdown",
   "id": "74dc52eb-b4d3-4195-b410-1a5a36cd6f6a",
   "metadata": {},
   "source": [
    "- maybe look at the vector fields here as well?\n",
    "- I thinks it is possible that the system does not have enough strength to go through the upper equilibrium at max velocity?"
   ]
  },
  {
   "cell_type": "code",
   "execution_count": null,
   "id": "18f46d96-409e-47cb-a9d9-f7bbb1a6dba8",
   "metadata": {},
   "outputs": [],
   "source": []
  }
 ],
 "metadata": {
  "kernelspec": {
   "display_name": "Python 3 (ipykernel)",
   "language": "python",
   "name": "python3"
  },
  "language_info": {
   "codemirror_mode": {
    "name": "ipython",
    "version": 3
   },
   "file_extension": ".py",
   "mimetype": "text/x-python",
   "name": "python",
   "nbconvert_exporter": "python",
   "pygments_lexer": "ipython3",
   "version": "3.11.9"
  }
 },
 "nbformat": 4,
 "nbformat_minor": 5
}
