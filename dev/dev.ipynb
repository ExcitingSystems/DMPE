{
 "cells": [
  {
   "cell_type": "code",
   "execution_count": null,
   "id": "94c12c85",
   "metadata": {},
   "outputs": [],
   "source": [
    "%load_ext autoreload\n",
    "%autoreload 2\n",
    "%reload_ext line_profiler"
   ]
  },
  {
   "cell_type": "code",
   "execution_count": null,
   "id": "4870fff0",
   "metadata": {},
   "outputs": [],
   "source": [
    "from functools import partial\n",
    "\n",
    "import time\n",
    "from tqdm.notebook import tqdm\n",
    "import numpy as np\n",
    "import matplotlib.pyplot as plt\n",
    "import matplotlib as mpl\n",
    "mpl.rcParams['text.usetex'] = True\n",
    "mpl.rcParams['text.latex.preamble']=r\"\\usepackage{bm}\"\n",
    "import plotly.express as px\n",
    "import plotly.graph_objects as go"
   ]
  },
  {
   "cell_type": "code",
   "execution_count": null,
   "id": "f2d09591",
   "metadata": {},
   "outputs": [],
   "source": [
    "import jax\n",
    "import jax.numpy as jnp\n",
    "# jax.config.update(\"jax_enable_x64\", True)\n",
    "import diffrax\n",
    "import equinox as eqx\n",
    "import optax\n",
    "\n",
    "from haiku import PRNGSequence"
   ]
  },
  {
   "cell_type": "code",
   "execution_count": null,
   "id": "ec2be399",
   "metadata": {},
   "outputs": [],
   "source": [
    "import exciting_environments as excenvs\n",
    "\n",
    "import exciting_exciting_systems\n",
    "from exciting_exciting_systems.models import NeuralEulerODEPendulum, NeuralODEPendulum\n",
    "from exciting_exciting_systems.models.model_utils import simulate_ahead_with_env\n",
    "from exciting_exciting_systems.models.model_training import ModelTrainer\n",
    "from exciting_exciting_systems.excitation import loss_function, Exciter\n",
    "\n",
    "from exciting_exciting_systems.utils.density_estimation import (\n",
    "    update_density_estimate_single_observation, update_density_estimate_multiple_observations, DensityEstimate\n",
    ")\n",
    "from exciting_exciting_systems.utils.signals import aprbs\n",
    "from exciting_exciting_systems.evaluation.plotting_utils import (\n",
    "    plot_sequence, append_predictions_to_sequence_plot, plot_sequence_and_prediction, plot_model_performance\n",
    ")"
   ]
  },
  {
   "cell_type": "markdown",
   "id": "dbd0f2ca",
   "metadata": {},
   "source": [
    "---"
   ]
  },
  {
   "cell_type": "code",
   "execution_count": null,
   "id": "1d070863",
   "metadata": {},
   "outputs": [],
   "source": [
    "# setup PRNG\n",
    "key = jax.random.PRNGKey(seed=2)#8)\n",
    "\n",
    "data_key, model_key, loader_key, key = jax.random.split(key, 4)\n",
    "data_rng = PRNGSequence(data_key)"
   ]
  },
  {
   "cell_type": "code",
   "execution_count": null,
   "id": "6653ae60",
   "metadata": {},
   "outputs": [],
   "source": [
    "batch_size = 1\n",
    "tau = 2e-2\n",
    "\n",
    "env = excenvs.make(\n",
    "    env_id='Pendulum-v0',\n",
    "    batch_size=batch_size,\n",
    "    action_constraints={\"torque\": 8},\n",
    "    static_params={\"g\": 9.81, \"l\": 1, \"m\": 1},\n",
    "    solver=diffrax.Tsit5(),\n",
    "    tau=tau,\n",
    ")"
   ]
  },
  {
   "cell_type": "markdown",
   "id": "19a917a9",
   "metadata": {},
   "source": [
    "### Test simulation:\n",
    "\n",
    "- starting from the intial state/obs ($\\mathbf{x}_0$ / $\\mathbf{y}_0$)\n",
    "- apply $N = 999$ actions $\\mathbf{u}_0 \\dots \\mathbf{u}_N$ (**here**: random APRBS actions)\n",
    "- which results in the state trajectory $\\mathbf{x}_0 ... \\mathbf{x}_N+1$ with $N+1 = 1000$ elements"
   ]
  },
  {
   "cell_type": "code",
   "execution_count": null,
   "id": "5dbcd842",
   "metadata": {},
   "outputs": [],
   "source": [
    "obs, state = env.reset()\n",
    "obs = obs[0]\n",
    "\n",
    "n_steps = 999\n",
    "\n",
    "actions = aprbs(n_steps, batch_size, 1, 10, next(data_rng))[0]"
   ]
  },
  {
   "cell_type": "code",
   "execution_count": null,
   "id": "99904015",
   "metadata": {},
   "outputs": [],
   "source": [
    "observations = simulate_ahead_with_env(env, obs, state, actions)\n",
    "\n",
    "print(\"actions.shape:\", actions.shape)\n",
    "print(\"observations.shape:\", observations.shape)\n",
    "\n",
    "print(\" \\n One of the trajectories:\")\n",
    "fig, axs = plot_sequence(\n",
    "    observations=observations,\n",
    "    actions=actions,\n",
    "    tau=tau,\n",
    "    obs_labels=[r\"$\\theta$\", r\"$\\omega$\"],\n",
    "    action_labels=[r\"$u$\"],\n",
    ");\n",
    "plt.show()"
   ]
  },
  {
   "cell_type": "markdown",
   "id": "2e04ced2",
   "metadata": {},
   "source": [
    "## Build an algorithm that simultaneously learns the model and optimizes its trajectory:"
   ]
  },
  {
   "cell_type": "code",
   "execution_count": null,
   "id": "3cff8aeb",
   "metadata": {},
   "outputs": [],
   "source": [
    "def featurize_theta(obs):\n",
    "    \"\"\"The angle itself is difficult to properly interpret in the loss as angles\n",
    "    such as 1.99 * pi and 0 are essentially the same. Therefore the angle is \n",
    "    transformed to sin(phi) and cos(phi) for comparison in the loss.\"\"\"\n",
    "    feat_obs = jnp.stack([jnp.sin(obs[..., 0] * jnp.pi), jnp.cos(obs[..., 0] * jnp.pi), obs[..., 1]], axis=-1)\n",
    "    return feat_obs"
   ]
  },
  {
   "cell_type": "code",
   "execution_count": null,
   "id": "8f3b03eb",
   "metadata": {},
   "outputs": [],
   "source": [
    "bandwidth = 0.05\n",
    "n_prediction_steps = 50\n",
    "\n",
    "dim_obs_space = 2\n",
    "dim_action_space = 1\n",
    "\n",
    "dim = dim_obs_space + dim_action_space\n",
    "points_per_dim = 50\n",
    "n_grid_points=points_per_dim**dim\n",
    "\n",
    "n_timesteps = 15_000"
   ]
  },
  {
   "cell_type": "code",
   "execution_count": null,
   "id": "ba8e6717",
   "metadata": {},
   "outputs": [],
   "source": [
    "obs, state = env.reset()\n",
    "obs = obs[0]\n",
    "\n",
    "observations = jnp.zeros((n_timesteps, dim_obs_space))\n",
    "observations = observations.at[0].set(obs)\n",
    "actions = jnp.zeros((n_timesteps-1, dim_action_space))\n",
    "\n",
    "proposed_actions = aprbs(n_prediction_steps, batch_size, 1, 10, next(data_rng))[0]"
   ]
  },
  {
   "cell_type": "code",
   "execution_count": null,
   "id": "11c74af1-c468-4085-a65a-fb57c3872303",
   "metadata": {
    "scrolled": true
   },
   "outputs": [],
   "source": [
    "exciter = Exciter(\n",
    "    grad_loss_function=jax.grad(loss_function, argnums=(2)),\n",
    "    excitation_optimizer=optax.adabelief(1e-1),\n",
    "    tau=tau,\n",
    "    target_distribution=jnp.ones(shape=(n_grid_points, 1)) * 1 / (1 - (-1))**dim\n",
    ")\n",
    "\n",
    "model_trainer = ModelTrainer(\n",
    "    start_learning=n_prediction_steps,\n",
    "    training_batch_size=128,\n",
    "    n_train_steps=1,\n",
    "    sequence_length=n_prediction_steps,\n",
    "    featurize=featurize_theta,\n",
    "    model_optimizer=optax.adabelief(1e-4),\n",
    "    tau=tau\n",
    ")\n",
    "\n",
    "# density_estimate = DensityEstimate(\n",
    "#     p=jnp.zeros([batch_size, n_grid_points, 1]),\n",
    "#     x_g=eesys.utils.density_estimation.build_grid_2d(\n",
    "#         low=env.env_observation_space.low,\n",
    "#         high=env.env_observation_space.high,\n",
    "#         points_per_dim=points_per_dim\n",
    "#     ),\n",
    "#     bandwidth=jnp.array([bandwidth]),\n",
    "#     n_observations=jnp.array([0])\n",
    "# )\n",
    "\n",
    "density_estimate = DensityEstimate(\n",
    "    p=jnp.zeros([n_grid_points, 1]),\n",
    "    x_g=exciting_exciting_systems.utils.density_estimation.build_grid_3d(\n",
    "        low=-1,\n",
    "        high=1,\n",
    "        points_per_dim=points_per_dim\n",
    "    ),\n",
    "    bandwidth=jnp.array([bandwidth]),\n",
    "    n_observations=jnp.array([0])\n",
    ")\n",
    "\n",
    "model = NeuralODEPendulum(\n",
    "    solver=diffrax.Euler(),\n",
    "    obs_dim=dim_obs_space,\n",
    "    action_dim=dim_action_space,\n",
    "    width_size=128,\n",
    "    depth=3,\n",
    "    key=model_key\n",
    ")\n",
    "\n",
    "# model = NeuralEulerODEPendulum(\n",
    "#     obs_dim=dim_obs_space,\n",
    "#     action_dim=dim_action_space,\n",
    "#     width_size=128,\n",
    "#     depth=3,\n",
    "#     key=model_key\n",
    "# )\n",
    "\n",
    "opt_state_model = model_trainer.model_optimizer.init(eqx.filter(model, eqx.is_inexact_array))"
   ]
  },
  {
   "cell_type": "code",
   "execution_count": null,
   "id": "855ced2c",
   "metadata": {},
   "outputs": [],
   "source": [
    "from exciting_exciting_systems.algorithms import excite_and_fit"
   ]
  },
  {
   "cell_type": "code",
   "execution_count": null,
   "id": "702907d1",
   "metadata": {},
   "outputs": [],
   "source": [
    "observations, actions, model, density_estimate = excite_and_fit(\n",
    "    n_timesteps=n_timesteps,\n",
    "    env=env,\n",
    "    model=model,\n",
    "    obs=obs,\n",
    "    state=state,\n",
    "    proposed_actions=proposed_actions,\n",
    "    exciter=exciter,\n",
    "    model_trainer=model_trainer,\n",
    "    density_estimate=density_estimate,\n",
    "    observations=observations,\n",
    "    actions=actions,\n",
    "    opt_state_model=opt_state_model,\n",
    "    loader_key=loader_key,\n",
    "    plot_every=500,\n",
    ")"
   ]
  },
  {
   "cell_type": "code",
   "execution_count": null,
   "id": "d54218e4-c849-4f8e-9518-7116e667fe80",
   "metadata": {},
   "outputs": [],
   "source": [
    "%debug"
   ]
  },
  {
   "cell_type": "code",
   "execution_count": null,
   "id": "701d0a26-66f6-4967-9d6c-bb3bf3555022",
   "metadata": {},
   "outputs": [],
   "source": [
    "from exciting_exciting_systems.utils.metrics import JSDLoss, KLDLoss"
   ]
  },
  {
   "cell_type": "code",
   "execution_count": null,
   "id": "b86ce74f-1675-4c24-9ad3-0c54ed67ba8d",
   "metadata": {},
   "outputs": [],
   "source": [
    "JSDLoss(\n",
    "    p=density_estimate.p / jnp.sum(density_estimate.p),\n",
    "    q=exciter.target_distribution / jnp.sum(exciter.target_distribution),\n",
    ")"
   ]
  },
  {
   "cell_type": "code",
   "execution_count": null,
   "id": "5e727afc",
   "metadata": {},
   "outputs": [],
   "source": [
    "fig, axs = plot_sequence(\n",
    "    observations,\n",
    "    actions,\n",
    "    tau=tau,\n",
    "    obs_labels=[r\"$\\theta$\", r\"$\\omega$\"],\n",
    "    action_labels=[r\"$u$\"],\n",
    ");\n",
    "plt.plot()"
   ]
  },
  {
   "cell_type": "markdown",
   "id": "69fd102d-2409-45b3-a64e-37b1fe851ffe",
   "metadata": {},
   "source": [
    "### load data from experiments:"
   ]
  },
  {
   "cell_type": "code",
   "execution_count": null,
   "id": "2fa54808-b57c-4b01-8599-f13066bfcda8",
   "metadata": {},
   "outputs": [],
   "source": [
    "import json\n",
    "import pathlib\n",
    "import glob\n",
    "\n",
    "from exciting_exciting_systems.models.model_utils import load_model"
   ]
  },
  {
   "cell_type": "code",
   "execution_count": null,
   "id": "a38bd9e3-fc69-453c-b5d1-5dd1ed3bbe1d",
   "metadata": {},
   "outputs": [],
   "source": [
    "def get_experiment_ids(results_path: pathlib.Path):\n",
    "    json_file_paths = glob.glob(str(results_path / pathlib.Path(\"*.json\")))\n",
    "    identifiers = set([pathlib.Path(path).stem.split('_', maxsplit=1)[-1] for path in json_file_paths])\n",
    "    return sorted(list(identifiers))"
   ]
  },
  {
   "cell_type": "code",
   "execution_count": null,
   "id": "9380838d-93a0-418c-9626-eef1e06ecd89",
   "metadata": {},
   "outputs": [],
   "source": [
    "def load_experiment_results(\n",
    "    exp_id: str,\n",
    "    model_class,\n",
    "    results_path: pathlib.Path\n",
    "):\n",
    "    with open(results_path / pathlib.Path(f\"params_{exp_id}.json\"), \"rb\") as fp:\n",
    "        params = json.load(fp)\n",
    "\n",
    "    with open(results_path / pathlib.Path(f\"data_{exp_id}.json\"), \"rb\") as fp:\n",
    "        data = json.load(fp)\n",
    "        observations = jnp.array(data[\"observations\"])\n",
    "        actions = jnp.array(data[\"actions\"])\n",
    "    \n",
    "    model = load_model(results_path / pathlib.Path(f\"model_{exp_id}.json\"), model_class)\n",
    "    \n",
    "    return params, observations, actions, model"
   ]
  },
  {
   "cell_type": "code",
   "execution_count": null,
   "id": "32771ab9-8c27-4009-993f-9657b23460e0",
   "metadata": {},
   "outputs": [],
   "source": [
    "results_path = pathlib.Path(\"/home/hvater@uni-paderborn.de/projects/exciting-exciting-systems/eval/results/dmpe/\")"
   ]
  },
  {
   "cell_type": "code",
   "execution_count": null,
   "id": "f8710e94-b617-4de0-ba08-ffe696fac3b1",
   "metadata": {},
   "outputs": [],
   "source": [
    "get_experiment_ids(results_path)"
   ]
  },
  {
   "cell_type": "code",
   "execution_count": null,
   "id": "210d477f-39d1-443d-9ff1-9a773ea4477c",
   "metadata": {},
   "outputs": [],
   "source": [
    "def quick_eval(identifier):\n",
    "    params, observations, actions, model = load_experiment_results(\n",
    "        exp_id=identifier,\n",
    "        model_class=NeuralEulerODEPendulum,\n",
    "        results_path=results_path\n",
    "    )\n",
    "\n",
    "    print(identifier)\n",
    "    print(params[\"alg_params\"])\n",
    "\n",
    "    \n",
    "    fig, axs = plot_sequence(\n",
    "        observations=observations,\n",
    "        actions=actions,\n",
    "        tau=env.tau,\n",
    "        obs_labels=[r\"$\\theta$\", r\"$\\omega$\"],\n",
    "        action_labels=[r\"$u$\"],\n",
    "    );\n",
    "    plt.show()\n",
    "    \n",
    "    fig, axs = plot_model_performance(\n",
    "        model=model,\n",
    "        true_observations=observations[:1000],\n",
    "        actions=actions[:999],\n",
    "        tau=tau,\n",
    "        obs_labels=[r\"$\\theta$\", r\"$\\omega$\"],\n",
    "        action_labels=[r\"$u$\"],\n",
    "    );\n",
    "    plt.show()"
   ]
  },
  {
   "cell_type": "code",
   "execution_count": null,
   "id": "9186f95a-4dd7-45c6-8fdc-899a028f72c0",
   "metadata": {},
   "outputs": [],
   "source": [
    "# identifier = '2024-06-26_14:13:52'  -> 0.9 u_max\n",
    "# identifier = '2024-06-26_14:21:15' -> clipping\n",
    "\n",
    "print(\"standard\")\n",
    "quick_eval(identifier='2024-06-26_11:13:15') # standard\n",
    "\n",
    "print(\"0.9 u_max\")\n",
    "quick_eval(identifier='2024-06-26_14:13:52') # 0.9 u_max\n",
    "\n",
    "print(\"clipping\")\n",
    "quick_eval(identifier = '2024-06-26_14:21:15') # clipping"
   ]
  },
  {
   "cell_type": "code",
   "execution_count": null,
   "id": "2b920047-6b04-495e-9a2d-582c2435d4da",
   "metadata": {
    "scrolled": true
   },
   "outputs": [],
   "source": [
    "for identifier in get_experiment_ids(results_path):\n",
    "    print(identifier)\n",
    "    quick_eval(identifier)"
   ]
  },
  {
   "cell_type": "markdown",
   "id": "8084a220-c287-441e-a517-37466f6766bb",
   "metadata": {},
   "source": [
    "### Interpolation tests:"
   ]
  },
  {
   "cell_type": "markdown",
   "id": "2d2860b7-133d-46ec-a748-61cb9aae451b",
   "metadata": {},
   "source": [
    "in exc_envs:\n",
    "- action is given with $(batch\\_size, n\\_steps, action\\_dim)$\n",
    "- also $\\tau_{act}$ is given\n",
    "- The length of the action sequence is therefore $n\\_steps \\cdot \\tau_{act}$ when each input is held constant (zero-order-hold) for $\\tau_{act}$ seconds\n",
    "- Note however, that the last element starts at the time $(n\\_steps - 1) \\cdot \\tau_{act}$\n",
    "- This occurs because the first element starts at time $0$"
   ]
  },
  {
   "cell_type": "code",
   "execution_count": null,
   "id": "8c0a3f11-227c-4c9b-a596-e29fb6bde0a2",
   "metadata": {},
   "outputs": [],
   "source": [
    "tau = 2e-2\n",
    "actions = aprbs(20, 1, 1, 10, next(data_rng))[0]\n",
    "\n",
    "t_true = jnp.linspace(0, (actions.shape[0]-1) * tau, actions.shape[0])\n",
    "plt.plot(t_true, actions, 'r.')"
   ]
  },
  {
   "cell_type": "code",
   "execution_count": null,
   "id": "30126d74-9e54-4d6c-b568-70968c0ca2c4",
   "metadata": {},
   "outputs": [],
   "source": [
    "t_int = jnp.linspace(0, (actions.shape[0]) * tau, 1000)\n",
    "interpolated_actions = actions[jnp.array(t_int / tau, int), 0]"
   ]
  },
  {
   "cell_type": "code",
   "execution_count": null,
   "id": "411f84ed-f7e7-4383-a524-534a382b4c35",
   "metadata": {},
   "outputs": [],
   "source": [
    "plt.plot(t_int, interpolated_actions, label=r\"$u(t)$\")\n",
    "plt.plot(t_true, actions, label=r\"$u_k$\")\n",
    "plt.legend()\n",
    "plt.grid()"
   ]
  },
  {
   "cell_type": "markdown",
   "id": "fb138223-ed33-4a5e-9b41-58f44e59add1",
   "metadata": {},
   "source": [
    "### KDEs & Metrics:"
   ]
  },
  {
   "cell_type": "code",
   "execution_count": null,
   "id": "ef40651b",
   "metadata": {},
   "outputs": [],
   "source": [
    "if dim == 2:\n",
    "    fig, axs, cax = eesys.evaluation.plotting_utils.plot_2d_kde_as_contourf(\n",
    "        density_estimate.p, density_estimate.x_g, [r\"$\\theta$\", r\"$\\omega$\"]\n",
    "    )\n",
    "    # fig.savefig(\"excited_pendulum_kde_contourf.png\")"
   ]
  },
  {
   "cell_type": "code",
   "execution_count": null,
   "id": "e7bf351e",
   "metadata": {},
   "outputs": [],
   "source": [
    "if dim == 2:\n",
    "    fig, axs = eesys.evaluation.plotting_utils.plot_2d_kde_as_surface(\n",
    "        density_estimate.p, density_estimate.x_g, [r\"$\\theta$\", r\"$\\omega$\"]\n",
    "    )\n",
    "    fig.suptitle(\"Vanilla KDE\")\n",
    "    # fig.savefig(\"excited_pendulum_kde_surface.png\")\n",
    "    plt.show()\n",
    "    \n",
    "    fig, axs = eesys.evaluation.plotting_utils.plot_2d_kde_as_surface(\n",
    "        jnp.abs(density_estimate.p - exciter.target_distribution), density_estimate.x_g, [r\"$\\theta$\", r\"$\\omega$\"]\n",
    "    )\n",
    "    fig.suptitle(\"Difference\")\n",
    "    \n",
    "    plt.show()\n",
    "    \n",
    "    fig, axs, cax = eesys.evaluation.plotting_utils.plot_2d_kde_as_contourf(\n",
    "        jnp.abs(density_estimate.p - exciter.target_distribution), density_estimate.x_g, [r\"$\\theta$\", r\"$\\omega$\"]\n",
    "    )\n",
    "    plt.colorbar(cax)\n",
    "    fig.suptitle(\"Abs Difference\")\n",
    "    \n",
    "    plt.show()"
   ]
  },
  {
   "cell_type": "code",
   "execution_count": null,
   "id": "3512fb3a-d921-496d-9a5c-6c7d6a3ab4f4",
   "metadata": {},
   "outputs": [],
   "source": [
    "raise"
   ]
  },
  {
   "cell_type": "code",
   "execution_count": null,
   "id": "cbae2efc-0f34-4908-8a93-52982c542cdd",
   "metadata": {},
   "outputs": [],
   "source": []
  },
  {
   "cell_type": "code",
   "execution_count": null,
   "id": "23f5f4e7-8a07-41b8-85a9-a14b4591a338",
   "metadata": {},
   "outputs": [],
   "source": [
    "from exciting_exciting_systems.utils.metrics import MNNS_without_penalty, audze_eglais, MC_uniform_sampling_distribution_approximation\n",
    "from scipy.stats.qmc import LatinHypercube"
   ]
  },
  {
   "cell_type": "code",
   "execution_count": null,
   "id": "e071c34d-3bc6-4ccf-a676-4bdeb807f66b",
   "metadata": {},
   "outputs": [],
   "source": [
    "lhc_sampler = LatinHypercube(d=2)"
   ]
  },
  {
   "cell_type": "code",
   "execution_count": null,
   "id": "87f4acec-8780-48e6-8b7c-121403bb99b9",
   "metadata": {},
   "outputs": [],
   "source": [
    "ae_score = audze_eglais(observations)\n",
    "print(ae_score)"
   ]
  },
  {
   "cell_type": "code",
   "execution_count": null,
   "id": "244adf9d-5e40-46e1-b579-c431d028f613",
   "metadata": {},
   "outputs": [],
   "source": []
  },
  {
   "cell_type": "code",
   "execution_count": null,
   "id": "4cdd57b3-84e1-4861-84a3-ee7ac06aa004",
   "metadata": {},
   "outputs": [],
   "source": [
    "def MC_uniform_sampling_distribution_approximation(\n",
    "        data_points: jnp.ndarray,\n",
    "        support_points: jnp.ndarray\n",
    ") -> jnp.ndarray:\n",
    "    \"\"\"From [Smits+Nelles2024]. The minimax-design tries to minimize\n",
    "    the distances of the data points to the support points.\n",
    "\n",
    "    What stops the data points to just flock to a single support point?\n",
    "    This is just looking at the shortest distance.\n",
    "    \"\"\"\n",
    "    M = support_points.shape[0]\n",
    "    distance_matrix = jnp.linalg.norm(data_points[:, None, :] - support_points[None, ...], axis=-1)\n",
    "    minimal_distances = jnp.min(distance_matrix, axis=0)\n",
    "\n",
    "    return jnp.sum(minimal_distances) / M"
   ]
  },
  {
   "cell_type": "code",
   "execution_count": null,
   "id": "fb1e0f7b-e993-4822-80ae-9ea5d718be2e",
   "metadata": {},
   "outputs": [],
   "source": [
    "mcudsa_score = MC_uniform_sampling_distribution_approximation(\n",
    "    data_points=observations,\n",
    "    support_points=lhc_sampler.random(n=1600) * 2 - 1\n",
    ")\n",
    "print(mcudsa_score)"
   ]
  },
  {
   "cell_type": "markdown",
   "id": "5e8e003e-fc09-4003-a5ad-63925aa2de70",
   "metadata": {},
   "source": [
    "---\n",
    "### Look at the actions:"
   ]
  },
  {
   "cell_type": "code",
   "execution_count": null,
   "id": "77594257-e4f7-4dda-a768-7b1beb41dd5a",
   "metadata": {},
   "outputs": [],
   "source": [
    "def build_grid_3d(low, high, points_per_dim):\n",
    "    x1, x2, x3 = [\n",
    "        jnp.linspace(low, high, points_per_dim),\n",
    "        jnp.linspace(low, high, points_per_dim),\n",
    "        jnp.linspace(low, high, points_per_dim)\n",
    "    ]\n",
    "\n",
    "    x_g = jnp.meshgrid(*[x1, x2, x3])\n",
    "    x_g = jnp.stack([_x for _x in x_g], axis=-1)\n",
    "    x_g = x_g.reshape(-1, 3)\n",
    "\n",
    "    assert x_g.shape[0] == points_per_dim**3\n",
    "    return x_g"
   ]
  },
  {
   "cell_type": "code",
   "execution_count": null,
   "id": "2c3eb76e-8e89-488e-ae36-ad982cc46fc6",
   "metadata": {},
   "outputs": [],
   "source": [
    "jnp.concatenate([observations[0:-1, :], actions], axis=-1).shape"
   ]
  },
  {
   "cell_type": "code",
   "execution_count": null,
   "id": "99818c4f-8672-4a65-92ed-27f6191b4b31",
   "metadata": {},
   "outputs": [],
   "source": [
    "points_per_dim = 40\n",
    "n_grid_points=points_per_dim**3\n",
    "density_estimate = DensityEstimate(\n",
    "    p=jnp.zeros([batch_size, n_grid_points, 1]),\n",
    "    x_g=build_grid_3d(-1, 1, points_per_dim),\n",
    "    bandwidth=jnp.array([bandwidth]),\n",
    "    n_observations=jnp.array([0])\n",
    ")\n",
    "\n",
    "density_estimate = jax.vmap(\n",
    "    update_density_estimate_multiple_observations,\n",
    "    in_axes=(DensityEstimate(0, None, None, None), 0),\n",
    "    out_axes=(DensityEstimate(0, None, None, None))\n",
    ")(\n",
    "    density_estimate,\n",
    "    jnp.concatenate([observations[0:-1, :], actions], axis=-1)[None],\n",
    ")"
   ]
  },
  {
   "cell_type": "code",
   "execution_count": null,
   "id": "f405a901-efc8-41ff-9d9c-363db3698356",
   "metadata": {},
   "outputs": [],
   "source": [
    "density_estimate.p.shape"
   ]
  },
  {
   "cell_type": "code",
   "execution_count": null,
   "id": "0765c567-9d11-4ea0-b716-ee127d4c37b3",
   "metadata": {},
   "outputs": [],
   "source": [
    "x_plot = density_estimate.x_g.reshape((points_per_dim, points_per_dim, points_per_dim, 3))\n",
    "\n",
    "fig, axs = plt.subplots(\n",
    "    figsize=(6, 6)\n",
    ")\n",
    "\n",
    "ims = []\n",
    "for i in range(points_per_dim):\n",
    "    # fig, axs = plt.subplots(\n",
    "    #     figsize=(6, 6)\n",
    "    # )\n",
    "    cax = axs.contourf(\n",
    "        # x_plot[:, :, 0, :-1][..., 0],\n",
    "        #x_plot[:, :, 0, :-1][..., 1],\n",
    "        density_estimate.p[0].reshape((points_per_dim, points_per_dim, points_per_dim))[:, :, i],\n",
    "        #jnp.sum(density_estimate.p[0].reshape((points_per_dim, points_per_dim, points_per_dim)), axis=-1),\n",
    "        antialiased=False,\n",
    "        levels=100,\n",
    "        alpha=0.9,\n",
    "        cmap=plt.cm.coolwarm\n",
    "    )\n",
    "    ims.append([cax])\n",
    "    # plt.title(jnp.linspace(-1, 1, points_per_dim)[i])\n",
    "    # plt.show()"
   ]
  },
  {
   "cell_type": "code",
   "execution_count": null,
   "id": "3dc569fb-af55-41f1-aab4-cb91660eaf5e",
   "metadata": {},
   "outputs": [],
   "source": [
    "import matplotlib.animation as animation"
   ]
  },
  {
   "cell_type": "code",
   "execution_count": null,
   "id": "c4642d95-f44c-4295-8915-0015d5144f43",
   "metadata": {
    "scrolled": true
   },
   "outputs": [],
   "source": [
    "ani = animation.ArtistAnimation(fig, ims, interval=50, blit=True,\n",
    "                                repeat_delay=1000)"
   ]
  },
  {
   "cell_type": "code",
   "execution_count": null,
   "id": "11de0b7d-cc86-441a-9d17-d894c1ed91ad",
   "metadata": {},
   "outputs": [],
   "source": [
    "writer = animation.PillowWriter(fps=5,\n",
    "                                metadata=dict(artist='Me'),\n",
    "                                bitrate=1800)\n",
    "ani.save('opt_wrt_obs_and_act.gif', writer=writer)"
   ]
  },
  {
   "cell_type": "markdown",
   "id": "74dc52eb-b4d3-4195-b410-1a5a36cd6f6a",
   "metadata": {},
   "source": [
    "- maybe look at the vector fields here as well?\n",
    "- I thinks it is possible that the system does not have enough strength to go through the upper equilibrium at max velocity?\n",
    "\n",
    "AFAICT ~$6.2 \\ \\mathrm{ Nm}$ are necessary for max angular velocity at the top position and only $5 \\ \\mathrm{ Nm}$ were available\n",
    "\n",
    "$8 \\ \\mathrm{ Nm}$ seems to be a good point, were stability is also still maintainable"
   ]
  },
  {
   "cell_type": "code",
   "execution_count": null,
   "id": "18f46d96-409e-47cb-a9d9-f7bbb1a6dba8",
   "metadata": {},
   "outputs": [],
   "source": []
  }
 ],
 "metadata": {
  "kernelspec": {
   "display_name": "Python 3 (ipykernel)",
   "language": "python",
   "name": "python3"
  },
  "language_info": {
   "codemirror_mode": {
    "name": "ipython",
    "version": 3
   },
   "file_extension": ".py",
   "mimetype": "text/x-python",
   "name": "python",
   "nbconvert_exporter": "python",
   "pygments_lexer": "ipython3",
   "version": "3.11.9"
  }
 },
 "nbformat": 4,
 "nbformat_minor": 5
}
