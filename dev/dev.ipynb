{
 "cells": [
  {
   "cell_type": "code",
   "execution_count": null,
   "id": "94c12c85",
   "metadata": {},
   "outputs": [],
   "source": [
    "%load_ext autoreload\n",
    "%autoreload 2\n",
    "%reload_ext line_profiler"
   ]
  },
  {
   "cell_type": "code",
   "execution_count": null,
   "id": "4870fff0",
   "metadata": {},
   "outputs": [],
   "source": [
    "from functools import partial\n",
    "\n",
    "import time\n",
    "from tqdm.notebook import tqdm\n",
    "import numpy as np\n",
    "import matplotlib.pyplot as plt\n",
    "# plt.rcParams['text.usetex'] = True\n",
    "import plotly.express as px\n",
    "import plotly.graph_objects as go"
   ]
  },
  {
   "cell_type": "code",
   "execution_count": null,
   "id": "f2d09591",
   "metadata": {},
   "outputs": [],
   "source": [
    "import jax\n",
    "import jax.numpy as jnp\n",
    "\n",
    "import diffrax\n",
    "import equinox as eqx\n",
    "import optax\n",
    "\n",
    "from haiku import PRNGSequence"
   ]
  },
  {
   "cell_type": "code",
   "execution_count": null,
   "id": "ec2be399",
   "metadata": {},
   "outputs": [],
   "source": [
    "import exciting_environments as excenvs\n",
    "\n",
    "import exciting_exciting_systems as eesys\n",
    "from exciting_exciting_systems.models import NeuralEulerODEPendulum\n",
    "from exciting_exciting_systems.models.model_utils import simulate_ahead_with_env\n",
    "from exciting_exciting_systems.excitation import loss_function, Exciter\n",
    "\n",
    "from exciting_exciting_systems.utils.density_estimation import (\n",
    "    update_density_estimate, update_density_estimate_multiple_observations, DensityEstimate\n",
    ")\n",
    "from exciting_exciting_systems.utils.signals import aprbs\n",
    "from exciting_exciting_systems.evaluation.plotting_utils import (\n",
    "    plot_sequence, append_predictions_to_sequence_plot, plot_sequence_and_prediction, plot_model_performance\n",
    ")"
   ]
  },
  {
   "cell_type": "markdown",
   "id": "dbd0f2ca",
   "metadata": {},
   "source": [
    "---"
   ]
  },
  {
   "cell_type": "code",
   "execution_count": null,
   "id": "1d070863",
   "metadata": {},
   "outputs": [],
   "source": [
    "# setup PRNG\n",
    "key = jax.random.PRNGKey(seed=213) # 21)\n",
    "\n",
    "data_key, model_key, loader_key, key = jax.random.split(key, 4)\n",
    "data_rng = PRNGSequence(data_key)"
   ]
  },
  {
   "cell_type": "code",
   "execution_count": null,
   "id": "6653ae60",
   "metadata": {},
   "outputs": [],
   "source": [
    "batch_size = 1\n",
    "tau = 2e-2 # 5e-2\n",
    "\n",
    "env = excenvs.make(\n",
    "    env_id='Pendulum-v0',\n",
    "    batch_size=batch_size,\n",
    "    tau=tau\n",
    ")"
   ]
  },
  {
   "cell_type": "markdown",
   "id": "19a917a9",
   "metadata": {},
   "source": [
    "### Test simulation:\n",
    "\n",
    "- starting from the intial state/obs ($\\mathbf{x}_0$ / $\\mathbf{y}_0$)\n",
    "- apply $N = 999$ actions $\\mathbf{u}_0 \\dots \\mathbf{u}_N$ (**here**: random APRBS actions)\n",
    "- which results in the state trajectory $\\mathbf{x}_0 ... \\mathbf{x}_N+1$ with $N+1 = 1000$ elements"
   ]
  },
  {
   "cell_type": "code",
   "execution_count": null,
   "id": "5dbcd842",
   "metadata": {},
   "outputs": [],
   "source": [
    "obs, state = env.reset()\n",
    "obs = obs.astype(jnp.float32)\n",
    "state = state.astype(jnp.float32)\n",
    "n_steps = 999\n",
    "\n",
    "actions = aprbs(n_steps, batch_size, 1, 10, next(data_rng))"
   ]
  },
  {
   "cell_type": "code",
   "execution_count": null,
   "id": "99904015",
   "metadata": {},
   "outputs": [],
   "source": [
    "observations = jax.vmap(simulate_ahead_with_env, in_axes=(None, 0, 0, 0, 0, 0, 0))(\n",
    "    env,\n",
    "    obs,\n",
    "    state,\n",
    "    actions,\n",
    "    env.env_state_normalizer,\n",
    "    env.action_normalizer,\n",
    "    env.static_params\n",
    ")\n",
    "\n",
    "print(\"actions.shape:\", actions.shape)\n",
    "print(\"observations.shape:\", observations.shape)\n",
    "\n",
    "print(\" \\n One of the trajectories:\")\n",
    "fig, axs = plot_sequence(\n",
    "    observations=observations[0, ...],\n",
    "    actions=actions[0, ...],\n",
    "    tau=tau,\n",
    "    obs_labels=[r\"$\\theta$\", r\"$\\omega$\"],\n",
    "    action_labels=[r\"$u$\"],\n",
    ");\n",
    "plt.show()"
   ]
  },
  {
   "cell_type": "markdown",
   "id": "2e04ced2",
   "metadata": {},
   "source": [
    "## Build an algorithm that simultaneously learns the model and optimizes its trajectory:"
   ]
  },
  {
   "cell_type": "code",
   "execution_count": null,
   "id": "3cff8aeb",
   "metadata": {},
   "outputs": [],
   "source": [
    "def featurize_theta(obs):\n",
    "    \"\"\"The angle itself is difficult to properly interpret in the loss as angles\n",
    "    such as 1.99 * pi and 0 are essentially the same. Therefore the angle is \n",
    "    transformed to sin(phi) and cos(phi) for comparison in the loss.\"\"\"\n",
    "    feat_obs = jnp.stack([jnp.sin(obs[..., 0] * jnp.pi), jnp.cos(obs[..., 0] * jnp.pi), obs[..., 1]], axis=-1)\n",
    "    return feat_obs"
   ]
  },
  {
   "cell_type": "code",
   "execution_count": null,
   "id": "8f3b03eb",
   "metadata": {},
   "outputs": [],
   "source": [
    "# parameters\n",
    "bandwidth = 0.1\n",
    "n_prediction_steps = 50\n",
    "# n_opt_steps = 5  # TODO: Not yet implemented\n",
    "\n",
    "n_train_steps = 1\n",
    "training_batch_size = 32\n",
    "sequence_length = n_prediction_steps\n",
    "\n",
    "n_timesteps = 5_000"
   ]
  },
  {
   "cell_type": "code",
   "execution_count": null,
   "id": "ba8e6717",
   "metadata": {},
   "outputs": [],
   "source": [
    "obs, state = env.reset()\n",
    "obs = obs.astype(jnp.float32)\n",
    "state = state.astype(jnp.float32)\n",
    "\n",
    "observations = jnp.zeros((n_timesteps, env.env_observation_space.shape[-1]))\n",
    "observations = observations.at[0].set(obs[0])\n",
    "actions = jnp.zeros((n_timesteps-1, env.action_space.shape[-1]))\n",
    "\n",
    "proposed_actions = aprbs(n_prediction_steps, batch_size, 1, 10, next(data_rng))\n",
    "\n",
    "n_grid_points = 100**2"
   ]
  },
  {
   "cell_type": "code",
   "execution_count": null,
   "id": "11c74af1-c468-4085-a65a-fb57c3872303",
   "metadata": {},
   "outputs": [],
   "source": [
    "exciter = Exciter(\n",
    "    grad_loss_function=jax.grad(loss_function, argnums=(3)),\n",
    "    excitation_solver=optax.adabelief(1e-1),\n",
    "    tau=tau,\n",
    "    target_distribution=jnp.ones(shape=(n_grid_points, 1)) * 1 / (env.env_observation_space.high - env.env_observation_space.low)**2\n",
    ")"
   ]
  },
  {
   "cell_type": "code",
   "execution_count": null,
   "id": "04cfe8ac-2450-4257-9a23-242f690a5a3b",
   "metadata": {},
   "outputs": [],
   "source": [
    "density_estimate = DensityEstimate(\n",
    "    p=jnp.zeros([batch_size, n_grid_points, 1]),\n",
    "    x_g=eesys.utils.density_estimation.build_grid_2d(\n",
    "        low=env.env_observation_space.low,\n",
    "        high=env.env_observation_space.high,\n",
    "        points_per_dim=jnp.sqrt(n_grid_points).astype(jnp.int32)\n",
    "    ),\n",
    "    bandwidth=jnp.array([bandwidth]),\n",
    "    n_observations=jnp.array([0])\n",
    ")"
   ]
  },
  {
   "cell_type": "code",
   "execution_count": null,
   "id": "c4367007",
   "metadata": {},
   "outputs": [],
   "source": [
    "model = NeuralEulerODEPendulum(\n",
    "    obs_dim=env.env_observation_space.shape[-1],\n",
    "    action_dim=env.action_space.shape[-1],\n",
    "    width_size=128,\n",
    "    depth=3,\n",
    "    key=model_key\n",
    ")\n",
    "lr = 1e-4\n",
    "solver_model = optax.adabelief(lr)\n",
    "opt_state_model = solver_model.init(eqx.filter(model, eqx.is_inexact_array))"
   ]
  },
  {
   "cell_type": "code",
   "execution_count": null,
   "id": "855ced2c",
   "metadata": {},
   "outputs": [],
   "source": [
    "from exciting_exciting_systems.algorithms import excite_and_fit"
   ]
  },
  {
   "cell_type": "code",
   "execution_count": null,
   "id": "702907d1",
   "metadata": {},
   "outputs": [],
   "source": [
    "observations, actions, model = excite_and_fit(\n",
    "    n_timesteps=n_timesteps,\n",
    "    env=env,\n",
    "    obs=obs,\n",
    "    state=state,\n",
    "    proposed_actions=proposed_actions,\n",
    "    exciter=exciter,\n",
    "    model=model,\n",
    "    density_estimate=density_estimate,\n",
    "    observations=observations,\n",
    "    actions=actions,\n",
    "    tau=tau,\n",
    "    start_learning=n_prediction_steps,\n",
    "    training_batch_size=training_batch_size,\n",
    "    n_train_steps=n_train_steps,\n",
    "    sequence_length=sequence_length,\n",
    "    featurize=featurize_theta,\n",
    "    solver_model=solver_model,\n",
    "    opt_state_model=opt_state_model,\n",
    "    loader_key=loader_key\n",
    ")"
   ]
  },
  {
   "cell_type": "code",
   "execution_count": null,
   "id": "5e727afc",
   "metadata": {},
   "outputs": [],
   "source": [
    "fig, axs = plot_sequence(\n",
    "    observations,\n",
    "    actions,\n",
    "    tau=tau,\n",
    "    obs_labels=[r\"$\\theta$\", r\"$\\omega$\"],\n",
    "    action_labels=[r\"$u$\"],\n",
    ");\n",
    "plt.plot()"
   ]
  },
  {
   "cell_type": "code",
   "execution_count": null,
   "id": "3dc90dd7",
   "metadata": {},
   "outputs": [],
   "source": [
    "fig, axs = plot_model_performance(\n",
    "    model=model,\n",
    "    true_observations=observations[700:1000],\n",
    "    actions=actions[700:999],\n",
    "    tau=tau,\n",
    "    obs_labels=[r\"$\\theta$\", r\"$\\omega$\"],\n",
    "    action_labels=[r\"$u$\"],\n",
    ");\n",
    "plt.plot()"
   ]
  },
  {
   "cell_type": "code",
   "execution_count": null,
   "id": "ef40651b",
   "metadata": {},
   "outputs": [],
   "source": [
    "density_estimate = update_density_estimate_multiple_observations(\n",
    "    DensityEstimate(\n",
    "        p=jnp.zeros([batch_size, n_grid_points, 1]),\n",
    "        x_g=eesys.utils.density_estimation.build_grid_2d(\n",
    "            low=env.env_observation_space.low,\n",
    "            high=env.env_observation_space.high,\n",
    "            points_per_dim=100\n",
    "        ),\n",
    "        bandwidth=jnp.array([bandwidth]),\n",
    "        n_observations=jnp.array([0])\n",
    "    ),\n",
    "    observations\n",
    ")\n",
    "fig, axs, cax = eesys.evaluation.plotting_utils.plot_2d_kde_as_contourf(\n",
    "    density_estimate.p, density_estimate.x_g, [r\"$\\theta$\", r\"$\\omega$\"]\n",
    ")\n",
    "# fig.savefig(\"excited_pendulum_kde_contourf.png\")"
   ]
  },
  {
   "cell_type": "code",
   "execution_count": null,
   "id": "e7bf351e",
   "metadata": {},
   "outputs": [],
   "source": [
    "density_estimate = update_density_estimate_multiple_observations(\n",
    "    DensityEstimate(\n",
    "        p=jnp.zeros([batch_size, n_grid_points, 1]),\n",
    "        x_g=eesys.utils.density_estimation.build_grid_2d(\n",
    "            low=env.env_observation_space.low,\n",
    "            high=env.env_observation_space.high,\n",
    "            points_per_dim=100\n",
    "        ),\n",
    "        bandwidth=jnp.array([bandwidth]),\n",
    "        n_observations=jnp.array([0])\n",
    "    ),\n",
    "    observations\n",
    ")\n",
    "fig, axs = eesys.evaluation.plotting_utils.plot_2d_kde_as_surface(\n",
    "    density_estimate.p, density_estimate.x_g, [r\"$\\theta$\", r\"$\\omega$\"]\n",
    ")\n",
    "fig.suptitle(\"Vanilla KDE\")\n",
    "# fig.savefig(\"excited_pendulum_kde_surface.png\")\n",
    "plt.show()\n",
    "\n",
    "fig, axs = eesys.evaluation.plotting_utils.plot_2d_kde_as_surface(\n",
    "    jnp.abs(density_estimate.p - exciter.target_distribution), density_estimate.x_g, [r\"$\\theta$\", r\"$\\omega$\"]\n",
    ")\n",
    "fig.suptitle(\"Difference\")\n",
    "\n",
    "plt.show()\n",
    "\n",
    "fig, axs, cax = eesys.evaluation.plotting_utils.plot_2d_kde_as_contourf(\n",
    "    jnp.abs(density_estimate.p - exciter.target_distribution), density_estimate.x_g, [r\"$\\theta$\", r\"$\\omega$\"]\n",
    ")\n",
    "plt.colorbar(cax)\n",
    "fig.suptitle(\"Abs Difference\")\n",
    "\n",
    "plt.show()"
   ]
  },
  {
   "cell_type": "code",
   "execution_count": null,
   "id": "6f0232b9-fa23-427e-a444-809857e0f99d",
   "metadata": {},
   "outputs": [],
   "source": []
  }
 ],
 "metadata": {
  "kernelspec": {
   "display_name": "venv-dev-base",
   "language": "python",
   "name": "venv-dev-base"
  },
  "language_info": {
   "codemirror_mode": {
    "name": "ipython",
    "version": 3
   },
   "file_extension": ".py",
   "mimetype": "text/x-python",
   "name": "python",
   "nbconvert_exporter": "python",
   "pygments_lexer": "ipython3",
   "version": "3.11.6"
  }
 },
 "nbformat": 4,
 "nbformat_minor": 5
}
