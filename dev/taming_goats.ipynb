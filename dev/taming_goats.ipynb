{
 "cells": [
  {
   "cell_type": "code",
   "execution_count": null,
   "id": "9421c514-48f6-4945-b051-5333f21424ab",
   "metadata": {},
   "outputs": [],
   "source": [
    "%load_ext autoreload\n",
    "%autoreload 2\n",
    "%reload_ext line_profiler"
   ]
  },
  {
   "cell_type": "code",
   "execution_count": null,
   "id": "c6e4b7ad-cf56-4719-bf18-ed6ac152f891",
   "metadata": {},
   "outputs": [],
   "source": [
    "from operator import itemgetter\n",
    "from functools import partial\n",
    "\n",
    "import time\n",
    "from tqdm.notebook import tqdm\n",
    "import numpy as np\n",
    "import matplotlib.pyplot as plt\n",
    "import matplotlib as mpl\n",
    "mpl.rcParams['text.usetex'] = True\n",
    "mpl.rcParams['text.latex.preamble']=r\"\\usepackage{bm}\"\n",
    "import plotly.express as px\n",
    "import plotly.graph_objects as go"
   ]
  },
  {
   "cell_type": "code",
   "execution_count": null,
   "id": "9fbefcd4-3d97-4822-b3df-c2bb3838fc8e",
   "metadata": {},
   "outputs": [],
   "source": [
    "import jax\n",
    "import jax.numpy as jnp\n",
    "jax.config.update('jax_platform_name', 'cpu')\n",
    "# jax.config.update(\"jax_enable_x64\", True)\n",
    "import diffrax\n",
    "import equinox as eqx\n",
    "import optax\n",
    "\n",
    "from haiku import PRNGSequence"
   ]
  },
  {
   "cell_type": "code",
   "execution_count": null,
   "id": "e2e321c4-c91d-4682-8611-b29cc78a86fc",
   "metadata": {},
   "outputs": [],
   "source": [
    "from exciting_exciting_systems.utils.signals import aprbs\n",
    "from exciting_exciting_systems.evaluation.plotting_utils import (\n",
    "    plot_sequence, append_predictions_to_sequence_plot, plot_sequence_and_prediction, plot_model_performance\n",
    ")"
   ]
  },
  {
   "cell_type": "code",
   "execution_count": null,
   "id": "dd25ce97-2f59-4870-b11e-3bc764663ff9",
   "metadata": {},
   "outputs": [],
   "source": [
    "import exciting_environments as excenvs\n",
    "\n",
    "import exciting_exciting_systems\n",
    "from exciting_exciting_systems.related_work.algorithms import excite_with_sGOATS, excite_with_GOATS, excite_with_iGOATS"
   ]
  },
  {
   "cell_type": "code",
   "execution_count": null,
   "id": "45a5b5cf-048d-46f5-aa5d-035272af3a7d",
   "metadata": {},
   "outputs": [],
   "source": [
    "env_params = dict(\n",
    "    batch_size=1,\n",
    "    tau=5e-1,\n",
    "    max_height=3,\n",
    "    max_inflow=0.2,\n",
    "    base_area=jnp.pi,\n",
    "    orifice_area=jnp.pi * 0.1**2,\n",
    "    c_d=0.6,\n",
    "    g=9.81,\n",
    "    env_solver=diffrax.Euler(),\n",
    ")\n",
    "env = excenvs.make(\n",
    "    \"FluidTank-v0\",\n",
    "    physical_constraints=dict(height=env_params[\"max_height\"]),\n",
    "    action_constraints=dict(inflow=env_params[\"max_inflow\"]),\n",
    "    static_params=dict(\n",
    "        base_area=env_params[\"base_area\"],\n",
    "        orifice_area=env_params[\"orifice_area\"],\n",
    "        c_d=env_params[\"c_d\"],\n",
    "        g=env_params[\"g\"],\n",
    "    ),\n",
    "    tau=env_params[\"tau\"],\n",
    "    solver=env_params[\"env_solver\"],\n",
    ")"
   ]
  },
  {
   "cell_type": "code",
   "execution_count": null,
   "id": "eaf59106-921d-4805-a3db-97ce0aff749b",
   "metadata": {},
   "outputs": [],
   "source": [
    "prediction_horizon = 4\n",
    "application_horizon = 4\n",
    "\n",
    "igoats_observations, igoats_actions = excite_with_iGOATS(\n",
    "    n_timesteps=15000,\n",
    "    env=env,\n",
    "    prediction_horizon=prediction_horizon,\n",
    "    application_horizon=application_horizon,\n",
    "    bounds_amplitude=[-1, 1],\n",
    "    bounds_duration=[1, 100],\n",
    "    population_size=50,\n",
    "    n_generations=50,\n",
    "    featurize=lambda x: x,\n",
    "    rng=np.random.default_rng(0),\n",
    "    compress_data=True,\n",
    "    compression_target_N=500,\n",
    "    rho_obs=1e3,\n",
    "    rho_act=1e3,\n",
    "    compression_feat_dim=-2,\n",
    "    compression_dist_th=0.1,\n",
    "    plot_subsequences=True,\n",
    ")\n"
   ]
  },
  {
   "cell_type": "code",
   "execution_count": null,
   "id": "839a7b66-85c9-4ed1-8c19-eb0364b36b33",
   "metadata": {},
   "outputs": [],
   "source": [
    "%debug"
   ]
  },
  {
   "cell_type": "code",
   "execution_count": null,
   "id": "8b5a8c40-6805-4012-93c3-74181ab8336e",
   "metadata": {},
   "outputs": [],
   "source": [
    "plot_sequence(igoats_observations, igoats_actions, env.tau, env.obs_description, env.action_description)"
   ]
  },
  {
   "cell_type": "markdown",
   "id": "6f2241f0-4a00-48a6-81de-ba6252a7b858",
   "metadata": {},
   "source": [
    "## work on MixedGA based iGOATS?"
   ]
  },
  {
   "cell_type": "code",
   "execution_count": null,
   "id": "5609c2b1-d436-4c9e-97c8-629810df7166",
   "metadata": {},
   "outputs": [],
   "source": []
  },
  {
   "cell_type": "code",
   "execution_count": null,
   "id": "4b435e72-f38b-4541-8b45-8d5bbf982853",
   "metadata": {},
   "outputs": [],
   "source": []
  },
  {
   "cell_type": "code",
   "execution_count": null,
   "id": "b4fa53b2-52eb-4b09-8118-15282dd85d46",
   "metadata": {},
   "outputs": [],
   "source": []
  },
  {
   "cell_type": "code",
   "execution_count": null,
   "id": "cd73e84c-be31-4fb6-9a0c-2bc4502b7163",
   "metadata": {},
   "outputs": [],
   "source": [
    "def featurize_theta(obs_action):\n",
    "    \"\"\"The angle itself is difficult to properly interpret in the loss as angles\n",
    "    such as 1.99 * pi and 0 are essentially the same. Therefore the angle is \n",
    "    transformed to sin(phi) and cos(phi) for comparison in the loss.\"\"\"\n",
    "\n",
    "    feat_obs_action = np.stack([np.sin(obs_action[..., 0] * np.pi), np.cos(obs_action[..., 0] * np.pi)], axis=-1)\n",
    "    feat_obs_action = np.concatenate([feat_obs_action, obs_action[..., 1:]], axis=-1)\n",
    "    \n",
    "    return feat_obs_action"
   ]
  },
  {
   "cell_type": "code",
   "execution_count": null,
   "id": "1a0ec6f5-054f-4528-b357-b3b5ed15c5ce",
   "metadata": {},
   "outputs": [],
   "source": [
    "def identity(x):\n",
    "    return x"
   ]
  },
  {
   "cell_type": "markdown",
   "id": "5394a81b-ce3b-42f1-a264-cbf45a6bdf67",
   "metadata": {},
   "source": [
    "---"
   ]
  },
  {
   "cell_type": "code",
   "execution_count": null,
   "id": "9f86ebdf-e34c-44ca-b050-28f696c5c6ad",
   "metadata": {},
   "outputs": [],
   "source": [
    "from exciting_exciting_systems.related_work.excitation_utils import compress_datapoints\n",
    "from exciting_exciting_systems.related_work.np_reimpl.env_utils import simulate_ahead_with_env\n",
    "from exciting_exciting_systems.related_work.np_reimpl.pendulum import Pendulum"
   ]
  },
  {
   "cell_type": "code",
   "execution_count": null,
   "id": "da693025-0085-4dbf-adde-26a194ebf1b7",
   "metadata": {},
   "outputs": [],
   "source": [
    "data_rng = PRNGSequence(jax.random.PRNGKey(0))\n",
    "\n",
    "batch_size = 1\n",
    "tau = 2e-2\n",
    "\n",
    "env = Pendulum(\n",
    "    tau=tau,\n",
    "    max_torque=8\n",
    ")"
   ]
  },
  {
   "cell_type": "code",
   "execution_count": null,
   "id": "2bb3109a-d7c8-4fc8-9e25-4cf0c28d26be",
   "metadata": {},
   "outputs": [],
   "source": [
    "import exciting_environments as excenvs"
   ]
  },
  {
   "cell_type": "code",
   "execution_count": null,
   "id": "a8303315-052a-4e43-b2d8-539df04d612f",
   "metadata": {},
   "outputs": [],
   "source": [
    "env = excenvs.make(\"FluidTank-v0\")"
   ]
  },
  {
   "cell_type": "code",
   "execution_count": null,
   "id": "230a224e-cfca-45b7-8117-fe2dd8790523",
   "metadata": {},
   "outputs": [],
   "source": [
    "obs, state = env.reset()\n",
    "\n",
    "n_steps = 1000\n",
    "actions = aprbs(n_steps, batch_size, 20, 100, next(data_rng))[0]\n",
    "\n",
    "observations, state = simulate_ahead_with_env(env, obs, state, actions)\n",
    "\n",
    "plot_sequence(observations, actions, tau, env.obs_description, env.action_description)\n",
    "plt.show()"
   ]
  },
  {
   "cell_type": "code",
   "execution_count": null,
   "id": "c32aa66c-f63c-410d-9f38-6ca18698866d",
   "metadata": {},
   "outputs": [],
   "source": [
    "actions.shape"
   ]
  },
  {
   "cell_type": "code",
   "execution_count": null,
   "id": "750fa9ec-4e45-4b2e-81e5-f2ffa05d94dd",
   "metadata": {},
   "outputs": [],
   "source": [
    "rng = np.random.default_rng(seed=0)"
   ]
  },
  {
   "cell_type": "code",
   "execution_count": null,
   "id": "02843061-3772-4da7-8cbb-3214e842ab45",
   "metadata": {
    "scrolled": true
   },
   "outputs": [],
   "source": [
    "all_observations = []\n",
    "all_actions = []\n",
    "\n",
    "all_observations, all_actions = excite_with_sGOATs(\n",
    "    n_amplitudes=600,\n",
    "    n_amplitude_groups=12,\n",
    "    reuse_observations=True,\n",
    "    all_observations=all_observations,\n",
    "    all_actions=all_actions,\n",
    "    env=env,\n",
    "    bounds_duration=(1,50),\n",
    "    population_size=50,\n",
    "    n_generations=50,\n",
    "    featurize=identity,\n",
    "    rng=np.random.default_rng(seed=12),\n",
    "    verbose=True\n",
    ")\n",
    "\n",
    "sgoats_observations = np.concatenate(all_observations)\n",
    "sgoats_actions = np.concatenate(all_actions)"
   ]
  },
  {
   "cell_type": "code",
   "execution_count": null,
   "id": "b3482957-d76d-442c-a4fd-9790844a6412",
   "metadata": {},
   "outputs": [],
   "source": [
    "compressed_data, indices = compress_datapoints(sgoats_observations, N_c=500, feature_dimension=1)"
   ]
  },
  {
   "cell_type": "code",
   "execution_count": null,
   "id": "a63edd5b-82db-43b0-99c9-70e0c19613ad",
   "metadata": {},
   "outputs": [],
   "source": [
    "N = 1000\n",
    "\n",
    "plt.plot(np.linspace(0, sgoats_observations.shape[0]-1, sgoats_observations.shape[0]), sgoats_observations[..., 1])\n",
    "plt.plot(np.linspace(0, sgoats_observations.shape[0]-1, sgoats_observations.shape[0])[indices], compressed_data[..., 1], 'r.')\n",
    "plt.xlim(200, 1300)\n",
    "plt.show()\n"
   ]
  },
  {
   "cell_type": "code",
   "execution_count": null,
   "id": "fe1c84f7-299f-445f-aa62-05769ed13bd3",
   "metadata": {},
   "outputs": [],
   "source": [
    "print(\"sgoats actions.shape:\", sgoats_actions.shape)\n",
    "print(\"sgoats observations.shape:\", sgoats_observations.shape)\n",
    "\n",
    "fig, axs = plot_sequence(\n",
    "    observations=sgoats_observations,\n",
    "    actions=sgoats_actions[:-1, ...],\n",
    "    tau=tau,\n",
    "    obs_labels=[r\"$\\theta$\", r\"$\\omega$\"],\n",
    "    action_labels=[r\"$u$\"],\n",
    ");\n",
    "plt.show()"
   ]
  },
  {
   "cell_type": "code",
   "execution_count": null,
   "id": "66920236-c760-4a89-8cf9-960568eb5078",
   "metadata": {},
   "outputs": [],
   "source": [
    "from exciting_exciting_systems.utils.density_estimation import update_density_estimate_multiple_observations, DensityEstimate, build_grid_2d\n",
    "\n",
    "points_per_dim = 50\n",
    "bandwidth = 0.05\n",
    "\n",
    "\n",
    "density_estimate = DensityEstimate(\n",
    "    p=jnp.zeros([points_per_dim**2, 1]),\n",
    "    x_g=build_grid_2d(low=-1, high=1, points_per_dim=points_per_dim),\n",
    "    bandwidth=jnp.array([bandwidth]),\n",
    "    n_observations=jnp.array([0])\n",
    ")\n",
    "\n",
    "sgoats_density_estimate = update_density_estimate_multiple_observations(\n",
    "    density_estimate, sgoats_observations,\n",
    ")\n",
    "fig, axs, cax = exciting_exciting_systems.evaluation.plotting_utils.plot_2d_kde_as_contourf(\n",
    "    sgoats_density_estimate.p, sgoats_density_estimate.x_g, [r\"$\\theta$\", r\"$\\omega$\"]\n",
    ")"
   ]
  },
  {
   "cell_type": "code",
   "execution_count": null,
   "id": "5a26cda1-8845-43c2-83b8-0d7a3d6b3074",
   "metadata": {},
   "outputs": [],
   "source": [
    "from exciting_exciting_systems.related_work.excitation_utils import latin_hypercube_sampling"
   ]
  },
  {
   "cell_type": "code",
   "execution_count": null,
   "id": "4c38524f-aae0-448b-8c39-4415b3f4ea5f",
   "metadata": {},
   "outputs": [],
   "source": [
    "all_amplitudes = latin_hypercube_sampling(d=env.action_space.shape[-1], n=600, seed=1)\n",
    "amplitude_groups = np.split(all_amplitudes, 12, axis=0)"
   ]
  },
  {
   "cell_type": "code",
   "execution_count": null,
   "id": "c1550d51-c4ad-4779-98fb-5076b369619c",
   "metadata": {},
   "outputs": [],
   "source": [
    "n_amplitude_groups = 12\n",
    "n_amplitudes = 600\n",
    "\n",
    "from exciting_exciting_systems.related_work.algorithms import generate_amplitude_groups"
   ]
  },
  {
   "cell_type": "code",
   "execution_count": null,
   "id": "c0669ce8-6699-48cf-91e3-eb8b59144ffc",
   "metadata": {},
   "outputs": [],
   "source": [
    "amplitude_groups = generate_amplitude_groups(n_amplitudes, n_amplitude_groups)\n",
    "for amplitude_group in amplitude_groups:\n",
    "    np.random.shuffle(amplitude_group)"
   ]
  },
  {
   "cell_type": "code",
   "execution_count": null,
   "id": "c5a2d791-c465-42ce-8115-66b5b05460ea",
   "metadata": {},
   "outputs": [],
   "source": [
    "for amplitude_group in amplitude_groups:\n",
    "    plt.plot(amplitude_group, 'r.')\n",
    "    plt.show()"
   ]
  },
  {
   "cell_type": "code",
   "execution_count": null,
   "id": "15d30e4a-4103-4ed9-ace0-79cfcdd73899",
   "metadata": {
    "scrolled": true
   },
   "outputs": [],
   "source": [
    "for amplitude_group in amplitude_groups:\n",
    "    plt.hist(amplitude_group, bins=20, range=(-1,1))\n",
    "    plt.show()"
   ]
  },
  {
   "cell_type": "markdown",
   "id": "7da71f9e-dcb6-478b-9497-b7e3121d6917",
   "metadata": {},
   "source": [
    "## GOATS optimization problem as mixed integer permutation problem:"
   ]
  },
  {
   "cell_type": "code",
   "execution_count": null,
   "id": "c0ba7eef-42cb-4248-8421-5830d4e2c2cc",
   "metadata": {},
   "outputs": [],
   "source": [
    "batch_size = 1\n",
    "tau = 2e-2\n",
    "\n",
    "env = Pendulum(\n",
    "    batch_size=batch_size,\n",
    "    tau=tau,\n",
    "    max_torque=8\n",
    ")"
   ]
  },
  {
   "cell_type": "code",
   "execution_count": null,
   "id": "1ce3c9ef-0689-4b3e-b4ab-db233e024385",
   "metadata": {
    "scrolled": true
   },
   "outputs": [],
   "source": [
    "goats_observations, goats_actions = excite_with_GOATs(\n",
    "    n_amplitudes=100,\n",
    "    env=env,\n",
    "    bounds_duration=(5,50),\n",
    "    population_size=50,\n",
    "    n_generations=300,\n",
    "    featurize=featurize_theta,\n",
    "    rng=np.random.default_rng(seed=120),\n",
    "    verbose=True\n",
    ")"
   ]
  },
  {
   "cell_type": "code",
   "execution_count": null,
   "id": "7ea1e3ff-57c9-45bf-89eb-380df7161951",
   "metadata": {},
   "outputs": [],
   "source": [
    "goats_observations, goats_actions = excite_with_GOATs(\n",
    "    n_amplitudes=100,\n",
    "    env=env,\n",
    "    bounds_duration=(5,50),\n",
    "    population_size=50,\n",
    "    n_generations=300,\n",
    "    featurize=featurize_theta,\n",
    "    rng=np.random.default_rng(seed=120),\n",
    "    verbose=True\n",
    ")"
   ]
  },
  {
   "cell_type": "code",
   "execution_count": null,
   "id": "37df1c93-e142-444d-b2c4-66ec0a03acd2",
   "metadata": {},
   "outputs": [],
   "source": [
    "print(\"goats actions.shape:\", goats_actions.shape)\n",
    "print(\"goats observations.shape:\", goats_observations.shape)\n",
    "\n",
    "fig, axs = plot_sequence(\n",
    "    observations=goats_observations,\n",
    "    actions=goats_actions,\n",
    "    tau=tau,\n",
    "    obs_labels=[r\"$\\theta$\", r\"$\\omega$\"],\n",
    "    action_labels=[r\"$u$\"],\n",
    ");\n",
    "\n",
    "plt.show()"
   ]
  },
  {
   "cell_type": "markdown",
   "id": "07661242-51de-4e8f-b66e-00d48d8ed7e9",
   "metadata": {},
   "source": [
    "- inspect compressed datapoints"
   ]
  },
  {
   "cell_type": "code",
   "execution_count": null,
   "id": "75aa423e-c2bd-4b7d-99fc-31530a8d12db",
   "metadata": {},
   "outputs": [],
   "source": [
    "from exciting_exciting_systems.related_work.excitation_utils import compress_datapoints"
   ]
  },
  {
   "cell_type": "code",
   "execution_count": null,
   "id": "2fe99e90-a0b1-4190-a543-2c8064f8a2e6",
   "metadata": {},
   "outputs": [],
   "source": [
    "compressed_data, indices = compress_datapoints(goats_observations, N_c=500, feature_dimension=1)"
   ]
  },
  {
   "cell_type": "code",
   "execution_count": null,
   "id": "c134f0fa-80d4-4d24-bdf2-5342179299ec",
   "metadata": {},
   "outputs": [],
   "source": [
    "plt.plot(np.linspace(0, goats_observations.shape[0]-1, goats_observations.shape[0]), goats_observations[:, 1])\n",
    "plt.plot(np.linspace(0, goats_observations.shape[0]-1, goats_observations.shape[0])[indices], compressed_data[..., 1], 'r.')\n",
    "plt.show()"
   ]
  },
  {
   "cell_type": "code",
   "execution_count": null,
   "id": "e5e0aa92-79ae-4d73-92f6-fd0b1d9ffaa4",
   "metadata": {},
   "outputs": [],
   "source": []
  },
  {
   "cell_type": "markdown",
   "id": "da8b5f09-707a-410f-8486-f4eeee9b6137",
   "metadata": {},
   "source": [
    "## test genetic algorithm with permutation encoding on travelling salesperson problem (**TSP**):"
   ]
  },
  {
   "cell_type": "code",
   "execution_count": null,
   "id": "765c0405-24be-419e-b85d-af192dccd1e1",
   "metadata": {},
   "outputs": [],
   "source": [
    "from scipy.spatial.distance import cdist\n",
    "\n",
    "from pymoo.algorithms.soo.nonconvex.ga import GA\n",
    "\n",
    "from pymoo.core.problem import ElementwiseProblem\n",
    "\n",
    "\n",
    "\n",
    "from pymoo.optimize import minimize\n",
    "from pymoo.operators.sampling.rnd import IntegerRandomSampling\n",
    "from pymoo.operators.crossover.sbx import SBX\n",
    "from pymoo.operators.mutation.pm import PM\n",
    "from pymoo.operators.repair.rounding import RoundingRepair\n",
    "from pymoo.termination.default import DefaultSingleObjectiveTermination\n",
    "\n",
    "from pymoo.operators.sampling.rnd import PermutationRandomSampling\n",
    "from pymoo.operators.crossover.ox import OrderCrossover\n",
    "from pymoo.operators.mutation.inversion import InversionMutation"
   ]
  },
  {
   "cell_type": "code",
   "execution_count": null,
   "id": "e07e8ae6-bbea-423a-8ab4-b314843976ac",
   "metadata": {},
   "outputs": [],
   "source": [
    "from pymoo.problems.single.traveling_salesman import visualize\n",
    "from pymoo.problems.single.traveling_salesman import create_random_tsp_problem"
   ]
  },
  {
   "cell_type": "code",
   "execution_count": null,
   "id": "4b7c9f93-d340-475e-94ae-0623e02f3a2b",
   "metadata": {},
   "outputs": [],
   "source": [
    "import numpy as np\n",
    "from pymoo.core.repair import Repair\n",
    "\n",
    "class StartFromZeroRepair(Repair):\n",
    "\n",
    "    def _do(self, problem, X, **kwargs):\n",
    "        print(\"raw:\", X[0])\n",
    "        \n",
    "        decoded_X = np.array([problem.decode(x) for x in X])\n",
    "\n",
    "        print(\"decoded:\", decoded_X[0])\n",
    "                \n",
    "        I = np.where(decoded_X == 0)[1]\n",
    "\n",
    "        for k in range(len(decoded_X)):\n",
    "            i = I[k]\n",
    "            decoded_X[k] = np.concatenate([decoded_X[k, i:], decoded_X[k, :i]])\n",
    "\n",
    "        print(\"sorted:\", decoded_X[0])\n",
    "\n",
    "        encoded_X = np.array([problem.encode(decoded_x) for decoded_x in decoded_X])\n",
    "        print(\"raw out:\", encoded_X[0])\n",
    "        return encoded_X"
   ]
  },
  {
   "cell_type": "code",
   "execution_count": null,
   "id": "e50036bd-749c-4393-99f0-f76dbe6c3f26",
   "metadata": {},
   "outputs": [],
   "source": [
    "class TravelingSalesperson(ElementwiseProblem):\n",
    "\n",
    "    def __init__(self, cities, **kwargs):\n",
    "        \"\"\"\n",
    "        A two-dimensional traveling salesperson problem (TSP)\n",
    "\n",
    "        Parameters\n",
    "        ----------\n",
    "        cities : numpy.array\n",
    "            The cities with 2-dimensional coordinates provided by a matrix where where city is represented by a row.\n",
    "\n",
    "        \"\"\"       \n",
    "        n_cities, _ = cities.shape\n",
    "\n",
    "        self.cities = cities\n",
    "        self.D = cdist(cities, cities)\n",
    "\n",
    "        super(TravelingSalesperson, self).__init__(\n",
    "            n_var=n_cities,\n",
    "            n_obj=1,\n",
    "            xl=np.zeros(n_cities),\n",
    "            xu=np.ones(n_cities) * np.linspace(0, n_cities - 1, n_cities)[::-1],\n",
    "            vtype=int,\n",
    "            **kwargs\n",
    "        )\n",
    "\n",
    "    @staticmethod\n",
    "    def decode(lehmer_code: list[int]) -> list[int]:\n",
    "        \"\"\"Decode Lehmer code to permutation.\n",
    "\n",
    "        This function decodes Lehmer code represented as a list of integers to a permutation.\n",
    "\n",
    "        Source: https://optuna.readthedocs.io/en/latest/faq.html#how-can-i-deal-with-permutation-as-a-parameter\n",
    "        \"\"\"\n",
    "        n = len(lehmer_code)\n",
    "\n",
    "        all_indices = list(range(n))\n",
    "        output = []\n",
    "        for k in lehmer_code:\n",
    "            value = all_indices[k]\n",
    "            output.append(value)\n",
    "            all_indices.remove(value)\n",
    "        return output\n",
    "\n",
    "\n",
    "    @staticmethod\n",
    "    def encode(x: list[int]) -> list[int]:\n",
    "        \"\"\"Source: https://gist.github.com/theepicsnail/ec3c9e91d881468fa4a822feb85a6e0e\"\"\"    \n",
    "        for i in range(len(x)):\n",
    "            for j in range(i+1, len(x)):\n",
    "                if x[j] > x[i]:\n",
    "                    x[j] -= 1\n",
    "        return x\n",
    "    \n",
    "    def _evaluate(self, x, out, *args, **kwargs):\n",
    "        out['F'] = self.get_route_length(x)\n",
    "\n",
    "    def get_route_length(self, x):        \n",
    "        x = self.decode(x)\n",
    "        n_cities = len(x)\n",
    "        dist = 0\n",
    "        for k in range(n_cities - 1):\n",
    "            i, j = x[k], x[k + 1]\n",
    "            dist += self.D[i, j]\n",
    "\n",
    "        last, first = x[-1], x[0]\n",
    "        dist += self.D[last, first]  # back to the initial city\n",
    "        return dist\n",
    "\n",
    "def create_cities(n_cities, grid_width=100.0, grid_height=None, seed=None):\n",
    "    if seed is not None:\n",
    "        np.random.seed(seed)\n",
    "    grid_height = grid_height if grid_height is not None else grid_width\n",
    "    cities = np.random.random((n_cities, 2)) * [grid_width, grid_height]\n",
    "    return cities\n",
    "\n",
    "def visualize(problem, x, fig=None, ax=None, show=True, label=True):\n",
    "    with plt.style.context('ggplot'):\n",
    "\n",
    "        if fig is None or ax is None:\n",
    "            fig, ax = plt.subplots()\n",
    "\n",
    "        # plot cities using scatter plot\n",
    "        ax.scatter(problem.cities[:, 0], problem.cities[:, 1], s=250)\n",
    "        if label:\n",
    "            # annotate cities\n",
    "            for i, c in enumerate(problem.cities):\n",
    "                ax.annotate(str(i), xy=c, fontsize=10, ha=\"center\", va=\"center\", color=\"white\")\n",
    "\n",
    "        # plot the line on the path\n",
    "        for i in range(len(x)):\n",
    "            current = x[i]\n",
    "            next_ = x[(i + 1) % len(x)]\n",
    "            ax.plot(problem.cities[[current, next_], 0], problem.cities[[current, next_], 1], 'r--')\n",
    "\n",
    "        fig.suptitle(\"Route length: %.4f\" % problem.get_route_length(problem.encode(x)))\n",
    "\n",
    "        if show:\n",
    "            fig.show()"
   ]
  },
  {
   "cell_type": "code",
   "execution_count": null,
   "id": "7f5d746e-270a-4d87-90d2-7df537397274",
   "metadata": {},
   "outputs": [],
   "source": [
    "cities = create_cities(20)"
   ]
  },
  {
   "cell_type": "code",
   "execution_count": null,
   "id": "679fef52-2cdb-4a37-9727-d1e7f1827b41",
   "metadata": {
    "scrolled": true
   },
   "outputs": [],
   "source": [
    "opt_algorithm = GA(\n",
    "    pop_size=20,\n",
    "    sampling=IntegerRandomSampling(),\n",
    "    crossover=SBX(vtype=float, repair=RoundingRepair()),\n",
    "    mutation=PM(vtype=float, repair=RoundingRepair()),\n",
    "    eliminate_duplicates=True,\n",
    ")\n",
    "\n",
    "opt_problem = TravelingSalesperson(cities)\n",
    "\n",
    "termination = DefaultSingleObjectiveTermination(period=200, n_max_gen=np.inf)\n",
    "\n",
    "res = minimize(\n",
    "    problem=opt_problem,\n",
    "    algorithm=opt_algorithm,\n",
    "    termination=termination,\n",
    "    seed=0,\n",
    "    save_history=False,\n",
    "    verbose=True,\n",
    ")"
   ]
  },
  {
   "cell_type": "code",
   "execution_count": null,
   "id": "792500e0-da30-46b8-892a-d367e0810205",
   "metadata": {},
   "outputs": [],
   "source": [
    "visualize(opt_problem, opt_problem.decode(res.X))"
   ]
  },
  {
   "cell_type": "code",
   "execution_count": null,
   "id": "f560d859-ebe1-427a-a2da-571aa0f6836e",
   "metadata": {},
   "outputs": [],
   "source": [
    "visualize(opt_problem, opt_problem.decode(opt_problem.encode(opt_problem.decode(res.X))))"
   ]
  },
  {
   "cell_type": "code",
   "execution_count": null,
   "id": "004e8e15-9fa3-42bc-86e7-e68780592176",
   "metadata": {},
   "outputs": [],
   "source": []
  },
  {
   "cell_type": "code",
   "execution_count": null,
   "id": "ced4bf93-87a0-4366-b9d4-72e9e6847346",
   "metadata": {},
   "outputs": [],
   "source": []
  },
  {
   "cell_type": "markdown",
   "id": "9f109406-c930-4ab3-8684-7b87182569d1",
   "metadata": {},
   "source": [
    "---"
   ]
  },
  {
   "cell_type": "code",
   "execution_count": null,
   "id": "4764c917-ca7b-40b7-b6d4-56e81def5d9b",
   "metadata": {},
   "outputs": [],
   "source": [
    "from pymoo.problems.single.traveling_salesman import create_random_tsp_problem, TravelingSalesman\n",
    "from pymoo.problems.single.traveling_salesman import visualize"
   ]
  },
  {
   "cell_type": "code",
   "execution_count": null,
   "id": "6e4c110e-6c4a-4c6a-8666-bf8d6b7a35b8",
   "metadata": {},
   "outputs": [],
   "source": [
    "from pymoo.core.mixed import MixedVariableGA, MixedVariableDuplicateElimination\n",
    "from pymoo.core.variable import Integer\n",
    "\n",
    "import mixed_GA\n",
    "from mixed_GA import MixedVariableSampling, MixedVariableMating, Permutation"
   ]
  },
  {
   "cell_type": "code",
   "execution_count": null,
   "id": "dcadbf3d-a6d7-4391-ab80-f57f1cd8707e",
   "metadata": {},
   "outputs": [],
   "source": [
    "opt_algorithm = MixedVariableGA(\n",
    "    pop_size=20,\n",
    "    sampling=MixedVariableSampling(),\n",
    "    mating=MixedVariableMating(eliminate_duplicates=MixedVariableDuplicateElimination())\n",
    ")\n",
    "opt_algorithm"
   ]
  },
  {
   "cell_type": "code",
   "execution_count": null,
   "id": "8b914407-a9f5-45ad-9aec-d23b501e698f",
   "metadata": {},
   "outputs": [],
   "source": [
    "class DummyProblem(ElementwiseProblem):\n",
    "    \"\"\"Build a mixed permutation integer problem!\"\"\"\n",
    "\n",
    "    def __init__(self):\n",
    "        variables = {\"a\": Permutation(bounds=(0,3)), \"b\": Permutation(bounds=(0,3)), \"c\": Permutation(bounds=(0,3)), \"x0\": Integer(bounds=(0,10))}\n",
    "        super().__init__(vars=variables, n_obj=1)\n",
    "\n",
    "        self.possible_values = [10, 2, 5]\n",
    "\n",
    "        self.permutation_keys = []\n",
    "        self.non_permutation_keys = []\n",
    "        for key, value in variables.items():\n",
    "            if isinstance(value, Permutation):\n",
    "                self.permutation_keys.append(key)\n",
    "            else:\n",
    "                self.non_permutation_keys.append(key)    \n",
    "\n",
    "    def _evaluate(self, x, out, *args, **kwargs):\n",
    "        value = ((self.possible_values[x[\"a\"]] - 2)**2 + self.possible_values[x[\"b\"]]) / self.possible_values[x[\"c\"]] + x[\"x0\"]\n",
    "        out[\"F\"] = value"
   ]
  },
  {
   "cell_type": "code",
   "execution_count": null,
   "id": "8d59302f-c2b3-4d2b-8545-a32aef7873b2",
   "metadata": {},
   "outputs": [],
   "source": [
    "opt_problem = DummyProblem()"
   ]
  },
  {
   "cell_type": "code",
   "execution_count": null,
   "id": "255573fc-e6db-4f37-b9ef-174b4b0f8f8c",
   "metadata": {
    "scrolled": true
   },
   "outputs": [],
   "source": [
    "res = minimize(\n",
    "    opt_problem,\n",
    "    opt_algorithm,\n",
    "    seed=1,\n",
    "    verbose=True\n",
    ")"
   ]
  },
  {
   "cell_type": "code",
   "execution_count": null,
   "id": "44a509ad-945c-40d9-b11b-2f67c5fd22f1",
   "metadata": {},
   "outputs": [],
   "source": [
    "from multitasking_tsp import StartFromZeroRepair, create_cities, visualize, MultitaskingTravellingSalespersonProblem"
   ]
  },
  {
   "cell_type": "code",
   "execution_count": null,
   "id": "fdccdc77-ff94-42b6-9070-7934809bb024",
   "metadata": {},
   "outputs": [],
   "source": [
    "opt_algorithm = MixedVariableGA(\n",
    "    pop_size=20,\n",
    "    sampling=mixed_GA.MixedVariableSampling(),\n",
    "    mating=mixed_GA.MixedVariableMating(eliminate_duplicates=MixedVariableDuplicateElimination()),\n",
    "    # repair=StartFromZeroRepair(),\n",
    ")"
   ]
  },
  {
   "cell_type": "code",
   "execution_count": null,
   "id": "99bdb2f6-88e9-4fe8-8476-15a2f5867544",
   "metadata": {},
   "outputs": [],
   "source": [
    "# cities = create_cities(20)\n",
    "opt_problem = MultitaskingTravellingSalespersonProblem(cities)"
   ]
  },
  {
   "cell_type": "code",
   "execution_count": null,
   "id": "3cbf6173-a644-4bdc-806a-da09ee291277",
   "metadata": {},
   "outputs": [],
   "source": [
    "opt_problem.non_permutation_keys"
   ]
  },
  {
   "cell_type": "code",
   "execution_count": null,
   "id": "ef17481b-3a74-41a4-906d-765088b55ccc",
   "metadata": {},
   "outputs": [],
   "source": [
    "termination = DefaultSingleObjectiveTermination(period=200, n_max_gen=np.inf)\n",
    "\n",
    "res = minimize(\n",
    "    opt_problem,\n",
    "    opt_algorithm,\n",
    "    termination,\n",
    "    seed=1,\n",
    ")"
   ]
  },
  {
   "cell_type": "code",
   "execution_count": null,
   "id": "2434168c-8235-47e1-aa65-17abf033491b",
   "metadata": {},
   "outputs": [],
   "source": [
    "visualize(opt_problem, np.array(itemgetter(*opt_problem.permutation_keys)(res.X)))"
   ]
  },
  {
   "cell_type": "code",
   "execution_count": null,
   "id": "53adcba4-70f9-49e9-99bd-126fb988390f",
   "metadata": {},
   "outputs": [],
   "source": [
    "res.X"
   ]
  },
  {
   "cell_type": "markdown",
   "id": "4809ef8f-2e2e-4743-a4a9-4e2e162cc4ef",
   "metadata": {},
   "source": [
    "---"
   ]
  },
  {
   "cell_type": "code",
   "execution_count": null,
   "id": "6ffd1cc8-ca73-43c1-a0d4-7118bcd1c32b",
   "metadata": {},
   "outputs": [],
   "source": [
    "from scipy.spatial.distance import cdist\n",
    "\n",
    "from pymoo.algorithms.soo.nonconvex.ga import GA\n",
    "\n",
    "from pymoo.core.problem import ElementwiseProblem\n",
    "\n",
    "from pymoo.optimize import minimize\n",
    "from pymoo.operators.sampling.rnd import IntegerRandomSampling\n",
    "from pymoo.operators.crossover.sbx import SBX\n",
    "from pymoo.operators.mutation.pm import PM\n",
    "from pymoo.operators.repair.rounding import RoundingRepair\n",
    "from pymoo.termination.default import DefaultSingleObjectiveTermination\n",
    "\n",
    "from pymoo.operators.sampling.rnd import PermutationRandomSampling\n",
    "from pymoo.operators.crossover.ox import OrderCrossover\n",
    "from pymoo.operators.mutation.inversion import InversionMutation\n",
    "\n",
    "from pymoo.problems.single.traveling_salesman import TravelingSalesman, visualize"
   ]
  },
  {
   "cell_type": "code",
   "execution_count": null,
   "id": "22c8e23f-e139-43f1-a75e-e20ed8f94fc4",
   "metadata": {},
   "outputs": [],
   "source": [
    "class StartFromZeroRepair(Repair):\n",
    "\n",
    "    def _do(self, problem, X, **kwargs):\n",
    "        I = np.where(X == 0)[1]\n",
    "\n",
    "        for k in range(len(X)):\n",
    "            i = I[k]\n",
    "            X[k] = np.concatenate([X[k, i:], X[k, :i]])\n",
    "\n",
    "        return X"
   ]
  },
  {
   "cell_type": "code",
   "execution_count": null,
   "id": "bbe5f2ca-de41-41d2-bc9d-3addbe829cb0",
   "metadata": {},
   "outputs": [],
   "source": [
    "opt_algorithm = GA(\n",
    "    pop_size=20,\n",
    "    sampling=PermutationRandomSampling(),\n",
    "    mutation=InversionMutation(),\n",
    "    crossover=OrderCrossover(),\n",
    "    repair=StartFromZeroRepair(),\n",
    "    eliminate_duplicates=True\n",
    ")"
   ]
  },
  {
   "cell_type": "code",
   "execution_count": null,
   "id": "a73f2093-b245-4892-9a1b-28a9275d0152",
   "metadata": {},
   "outputs": [],
   "source": [
    "opt_problem = TravelingSalesman(cities)\n",
    "\n",
    "termination = DefaultSingleObjectiveTermination(period=200, n_max_gen=np.inf)\n",
    "\n",
    "res = minimize(\n",
    "    opt_problem,\n",
    "    opt_algorithm,\n",
    "    termination,\n",
    "    seed=1,\n",
    ")"
   ]
  },
  {
   "cell_type": "code",
   "execution_count": null,
   "id": "24de5d91-d0fc-4ca2-9d14-bdec8f29dfd6",
   "metadata": {},
   "outputs": [],
   "source": [
    "visualize(opt_problem, res.X)"
   ]
  },
  {
   "cell_type": "code",
   "execution_count": null,
   "id": "9c300b85-0b41-4613-878b-d87950d7d87e",
   "metadata": {},
   "outputs": [],
   "source": [
    "opt_problem.vars"
   ]
  },
  {
   "cell_type": "code",
   "execution_count": null,
   "id": "57158b5a-ffec-4ffb-ba7c-f63c60de880c",
   "metadata": {},
   "outputs": [],
   "source": [
    "from exciting_exciting_systems.related_work.excitation_utils import latin_hypercube_sampling, generate_aprbs, simulate_ahead_with_env, compress_datapoints, audze_eglais, soft_penalty"
   ]
  },
  {
   "cell_type": "code",
   "execution_count": null,
   "id": "01bc5e82-e623-4a8a-bb12-f40467a043d9",
   "metadata": {},
   "outputs": [],
   "source": [
    "class GoatsProblem(ElementwiseProblem):\n",
    "    \"\"\"pymoo-API optimization problem for the GOATs and sGOATs algorithms.\n",
    "\n",
    "    Optimizes amplitude permutations and durations of each specific amplitude.\n",
    "    The amplitude levels are chosen beforehand.\n",
    "\n",
    "    TODO: arbitrary observation and input dimensions\n",
    "    \"\"\"\n",
    "\n",
    "    def __init__(\n",
    "        self,\n",
    "        amplitudes,\n",
    "        env,\n",
    "        obs,\n",
    "        env_state,\n",
    "        featurize,\n",
    "        bounds_duration=(1, 50),\n",
    "        starting_observations=None,\n",
    "        starting_actions=None,\n",
    "        compress_data=True,\n",
    "        target_N=100,\n",
    "    ):\n",
    "\n",
    "        n_amplitudes = amplitudes.shape[0]\n",
    "\n",
    "        self.env = env\n",
    "        self.obs = obs\n",
    "        self.env_state = env_state\n",
    "        self.featurize = featurize\n",
    "\n",
    "        amplitude_variables = {f\"a_{number}\": Permutation(bounds=(0, n_amplitudes)) for number in range(n_amplitudes)}\n",
    "        duration_variables = {f\"d_{number}\": Integer(bounds=bounds_duration) for number in range(n_amplitudes)}\n",
    "\n",
    "        self.permutation_keys = tuple(amplitude_variables.keys())\n",
    "        self.non_permutation_keys = tuple(duration_variables.keys())\n",
    "\n",
    "        all_vars = dict(amplitude_variables, **duration_variables)\n",
    "\n",
    "        super().__init__(\n",
    "            vars=all_vars,\n",
    "            n_obj=1,\n",
    "        )\n",
    "\n",
    "        self.amplitudes = amplitudes\n",
    "        self.n_amplitudes = n_amplitudes\n",
    "        if starting_observations is not None:\n",
    "            self.starting_observations = featurize(starting_observations)\n",
    "        else:\n",
    "            self.starting_observations = None\n",
    "        self.starting_actions = starting_actions\n",
    "        self.compress_data = compress_data\n",
    "        self.target_N = target_N\n",
    "\n",
    "    def _evaluate(self, x, out, *args, **kwargs):\n",
    "        indices = np.array(itemgetter(*self.permutation_keys)(x))\n",
    "        durations = np.array(itemgetter(*self.non_permutation_keys)(x))\n",
    "\n",
    "        applied_amplitudes = self.amplitudes[indices]\n",
    "\n",
    "        actions = generate_aprbs(amplitudes=applied_amplitudes, durations=durations)[:, None]\n",
    "\n",
    "        observations, _ = simulate_ahead_with_env(\n",
    "            self.env,\n",
    "            self.obs,\n",
    "            self.env_state,\n",
    "            actions,\n",
    "        )\n",
    "\n",
    "        feat_observations = self.featurize(observations)\n",
    "        if self.starting_observations is not None:\n",
    "            assert (\n",
    "                self.starting_actions is not None\n",
    "            ), \"There are starting observations, but no corresponding starting actions!\"\n",
    "            feat_observations = np.concatenate([feat_observations, self.starting_observations])\n",
    "            all_actions = np.concatenate([actions, self.starting_actions])\n",
    "        else:\n",
    "            all_actions = actions\n",
    "\n",
    "        feat_datapoints = np.concatenate([feat_observations[:-1, ...], all_actions], axis=-1)\n",
    "\n",
    "        if self.compress_data:\n",
    "            feat_datapoints, indices = compress_datapoints(feat_datapoints, N_c=self.target_N, feature_dimension=2)\n",
    "\n",
    "        # N = observations.shape[0]\n",
    "        # plt.plot(np.linspace(0, N - 1, N), feat_observations[:N, 2])\n",
    "        # plt.plot(np.linspace(0, N - 1, N)[indices], compressed_feat_datapoints[..., 2], \"r.\")\n",
    "        # plt.show()\n",
    "\n",
    "        score = audze_eglais(feat_datapoints)\n",
    "\n",
    "        N = observations.shape[0]\n",
    "\n",
    "        rho_obs = 1\n",
    "        rho_act = 1\n",
    "        penalty_terms = rho_obs * soft_penalty(a=observations, a_max=1) + rho_act * soft_penalty(a=actions, a_max=1)\n",
    "\n",
    "        out[\"F\"] = 1 * score + penalty_terms.item()"
   ]
  },
  {
   "cell_type": "code",
   "execution_count": null,
   "id": "fd5dd8cf-b0ed-403d-8e35-d1fb7d9feb25",
   "metadata": {},
   "outputs": [],
   "source": [
    "obs, env_state = env.reset()\n",
    "obs = obs.astype(np.float32)[0]\n",
    "env_state = env_state.astype(np.float32)[0]\n",
    "\n",
    "opt_algorithm = MixedVariableGA(\n",
    "    pop_size=20,\n",
    "    sampling=MixedVariableSampling(),\n",
    "    mating=MixedVariableMating(eliminate_duplicates=MixedVariableDuplicateElimination())\n",
    ")"
   ]
  },
  {
   "cell_type": "code",
   "execution_count": null,
   "id": "e85013aa-ebeb-4233-937a-be5f432b0d63",
   "metadata": {},
   "outputs": [],
   "source": [
    "seed = 0\n",
    "n_amplitudes = 600"
   ]
  },
  {
   "cell_type": "code",
   "execution_count": null,
   "id": "3e7f34f9-2dbc-4a62-a446-ecc283bf9312",
   "metadata": {},
   "outputs": [],
   "source": [
    "opt_problem = GoatsProblem(\n",
    "    amplitudes=latin_hypercube_sampling(d=env.action_space.shape[-1], n=n_amplitudes, seed=seed),\n",
    "    env=env,\n",
    "    obs=obs,\n",
    "    env_state=env_state,\n",
    "    featurize=featurize_theta\n",
    ")"
   ]
  },
  {
   "cell_type": "code",
   "execution_count": null,
   "id": "f050f2f1-972b-4aa9-9499-a573a16610c5",
   "metadata": {},
   "outputs": [],
   "source": [
    "res = minimize(\n",
    "    problem=opt_problem,\n",
    "    algorithm=opt_algorithm,\n",
    "    seed=seed,\n",
    "    save_history=False,\n",
    "    verbose=True,\n",
    ")"
   ]
  },
  {
   "cell_type": "code",
   "execution_count": null,
   "id": "9cd82138-87d1-4d52-a58d-9fde63c59969",
   "metadata": {},
   "outputs": [],
   "source": [
    "indices = np.array(itemgetter(*opt_problem.permutation_keys)(res.X))\n",
    "applied_amplitudes = opt_problem.amplitudes[indices]\n",
    "\n",
    "applied_durations = np.array(itemgetter(*opt_problem.non_permutation_keys)(res.X))\n",
    "\n",
    "actions = generate_aprbs(amplitudes=applied_amplitudes, durations=applied_durations)[:, None]\n",
    "\n",
    "observations, last_env_state = simulate_ahead_with_env(\n",
    "    env,\n",
    "    obs,\n",
    "    env_state,\n",
    "    actions,\n",
    ")"
   ]
  },
  {
   "cell_type": "code",
   "execution_count": null,
   "id": "aa387588-c270-4ef7-98c7-d76dc195901c",
   "metadata": {},
   "outputs": [],
   "source": [
    "goats_actions = actions\n",
    "goats_observations = observations"
   ]
  },
  {
   "cell_type": "code",
   "execution_count": null,
   "id": "ca8e3971-2f92-450d-bd9c-a2f4954f457a",
   "metadata": {},
   "outputs": [],
   "source": [
    "print(\"goats actions.shape:\", goats_actions.shape)\n",
    "print(\"goats observations.shape:\", goats_observations.shape)\n",
    "\n",
    "fig, axs = plot_sequence(\n",
    "    observations=goats_observations,\n",
    "    actions=goats_actions,\n",
    "    tau=tau,\n",
    "    obs_labels=[r\"$\\theta$\", r\"$\\omega$\"],\n",
    "    action_labels=[r\"$u$\"],\n",
    ");\n",
    "\n",
    "plt.show()"
   ]
  },
  {
   "cell_type": "code",
   "execution_count": null,
   "id": "5f3d13bd-3940-4c4c-aa56-89e42b7673cd",
   "metadata": {},
   "outputs": [],
   "source": []
  }
 ],
 "metadata": {
  "kernelspec": {
   "display_name": "Python 3 (ipykernel)",
   "language": "python",
   "name": "python3"
  },
  "language_info": {
   "codemirror_mode": {
    "name": "ipython",
    "version": 3
   },
   "file_extension": ".py",
   "mimetype": "text/x-python",
   "name": "python",
   "nbconvert_exporter": "python",
   "pygments_lexer": "ipython3",
   "version": "3.11.9"
  }
 },
 "nbformat": 4,
 "nbformat_minor": 5
}
