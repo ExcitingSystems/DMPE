{
 "cells": [
  {
   "cell_type": "code",
   "execution_count": null,
   "id": "7a6b8d5c-4794-4c85-b9f9-eb5ca5be7aed",
   "metadata": {},
   "outputs": [],
   "source": [
    "%load_ext autoreload\n",
    "%autoreload 2\n",
    "%reload_ext line_profiler"
   ]
  },
  {
   "cell_type": "code",
   "execution_count": null,
   "id": "3d7b8585-a621-410b-a918-ee2959f06ed5",
   "metadata": {},
   "outputs": [],
   "source": [
    "from functools import partial\n",
    "\n",
    "import time\n",
    "from tqdm.notebook import tqdm\n",
    "import numpy as np\n",
    "import matplotlib.pyplot as plt\n",
    "plt.rcParams['text.usetex'] = True\n",
    "import plotly.express as px\n",
    "import plotly.graph_objects as go"
   ]
  },
  {
   "cell_type": "code",
   "execution_count": null,
   "id": "4491b88b-2037-43f0-9150-a64a8a95a163",
   "metadata": {},
   "outputs": [],
   "source": [
    "import jax\n",
    "import jax.numpy as jnp\n",
    "\n",
    "import diffrax\n",
    "import equinox as eqx\n",
    "import optax\n",
    "\n",
    "from haiku import PRNGSequence"
   ]
  },
  {
   "cell_type": "code",
   "execution_count": null,
   "id": "6574597b-06ca-402f-b813-de0f9b29d674",
   "metadata": {},
   "outputs": [],
   "source": [
    "import exciting_environments as excenvs\n",
    "\n",
    "from density_estimation import update_kde_grid, update_kde_grid_multiple_observations\n",
    "from metrics import JSDLoss\n",
    "from model_utils import simulate_ahead\n",
    "from plotting_utils import plot_sequence\n",
    "from signals import generate_constant_action, aprbs\n",
    "from optimization_utils import loss_function, optimize"
   ]
  },
  {
   "cell_type": "markdown",
   "id": "bd674f21-0350-4f53-9bd7-e4316969ddaf",
   "metadata": {},
   "source": [
    "---"
   ]
  },
  {
   "cell_type": "code",
   "execution_count": null,
   "id": "2eb64331-3dc6-4893-9697-73caf0146777",
   "metadata": {},
   "outputs": [],
   "source": [
    "# setup PRNG\n",
    "key = jax.random.PRNGKey(seed=21)\n",
    "\n",
    "data_key, model_key, key = jax.random.split(key, 3)\n",
    "data_rng = PRNGSequence(data_key)"
   ]
  },
  {
   "cell_type": "code",
   "execution_count": null,
   "id": "eaa8b2a9-3738-4dbe-816f-aa4453b6a6df",
   "metadata": {},
   "outputs": [],
   "source": [
    "batch_size = 1\n",
    "tau = 1e-1 # 1e-3\n",
    "\n",
    "env = excenvs.make(\n",
    "    env_id='Pendulum-v0',\n",
    "    batch_size=batch_size,\n",
    "    tau=tau\n",
    ")\n",
    "\n",
    "model = excenvs.make(\n",
    "    env_id='Pendulum-v0',\n",
    "    batch_size=batch_size,\n",
    "    tau=tau\n",
    ")"
   ]
  },
  {
   "cell_type": "code",
   "execution_count": null,
   "id": "bc51c70f-c73b-4f41-8473-a50b1ca389fe",
   "metadata": {},
   "outputs": [],
   "source": [
    "obs, state = env.reset()\n",
    "obs = obs.astype(jnp.float32)\n",
    "state = state.astype(jnp.float32)\n",
    "n_steps = 1_000\n",
    "\n",
    "actions = aprbs(n_steps, batch_size, 200, 500, next(data_rng))\n",
    "observations = simulate_ahead(\n",
    "    model=model,\n",
    "    n_steps=n_steps,\n",
    "    obs=obs,\n",
    "    state=state,\n",
    "    actions=actions\n",
    ")"
   ]
  },
  {
   "cell_type": "code",
   "execution_count": null,
   "id": "e7da27fa-b145-4890-99d7-50eac0a6f98b",
   "metadata": {},
   "outputs": [],
   "source": [
    "plot_sequence(\n",
    "    observations=observations,\n",
    "    actions=actions,\n",
    "    tau=tau,\n",
    "    obs_labels=[r\"$\\theta$\", r\"$\\omega$\"],\n",
    "    action_labels=[r\"$u$\"],\n",
    ");"
   ]
  },
  {
   "cell_type": "code",
   "execution_count": null,
   "id": "2d493bdc-bb02-4fde-9f2f-52982c8ae89b",
   "metadata": {},
   "outputs": [],
   "source": [
    "x1, x2 = [\n",
    "    jnp.linspace(env.env_observation_space.low, env.env_observation_space.high, 100),\n",
    "    jnp.linspace(env.env_observation_space.low, env.env_observation_space.high, 100)\n",
    "]\n",
    "\n",
    "x = jnp.meshgrid(*[x1, x2])\n",
    "x = jnp.stack([x for x in x], axis=-1)\n",
    "x = x.reshape(-1, 2)\n",
    "n_grid_points = x.shape[0]\n",
    "\n",
    "start_n_measurments = 0\n",
    "\n",
    "bandwidth = 0.15\n",
    "p_est = jnp.zeros([batch_size, n_grid_points, 1])\n",
    "\n",
    "target_distribution = jnp.ones(shape=(batch_size, n_grid_points, 1))\n",
    "target_distribution *= 1 / (env.env_observation_space.high - env.env_observation_space.low)**2\n",
    "\n",
    "n_prediction_steps = 100\n",
    "n_time_steps = 100"
   ]
  },
  {
   "cell_type": "code",
   "execution_count": null,
   "id": "29cc9660-d8d8-4a71-9b5d-69990f732883",
   "metadata": {},
   "outputs": [],
   "source": [
    "grad_loss_function = jax.grad(loss_function, argnums=(0))"
   ]
  },
  {
   "cell_type": "code",
   "execution_count": null,
   "id": "2d0eca7c-ec84-4480-ba0d-2e19c2535422",
   "metadata": {},
   "outputs": [],
   "source": [
    "observations = []\n",
    "actions = []\n",
    "\n",
    "obs, state = env.reset()\n",
    "obs = obs.astype(jnp.float32)\n",
    "state = state.astype(jnp.float32)\n",
    "\n",
    "for k in tqdm(range(n_time_steps)):\n",
    "    proposed_actions = aprbs(n_steps, batch_size, 100, 200, next(data_rng))\n",
    "    proposed_actions = optimize(\n",
    "        grad_loss_function=grad_loss_function,\n",
    "        proposed_actions=proposed_actions,\n",
    "        model=model,\n",
    "        init_obs=obs,\n",
    "        init_state=state,\n",
    "        n_steps=n_prediction_steps,\n",
    "        p_est=p_est,\n",
    "        x=x,\n",
    "        start_n_measurments=start_n_measurments,\n",
    "        bandwidth=bandwidth,\n",
    "        target_distribution=target_distribution    \n",
    "    )\n",
    "\n",
    "    p_est = update_kde_grid(\n",
    "        kde_grid=p_est,\n",
    "        x_eval=x,\n",
    "        observation=obs,\n",
    "        n_observations=k,\n",
    "        bandwidth=bandwidth\n",
    "    )\n",
    "    start_n_measurments += 1\n",
    "\n",
    "    action = proposed_actions[:, 0, :]\n",
    "\n",
    "    actions.append(action)\n",
    "    observations.append(obs)\n",
    "\n",
    "    obs, _, _, _, state = model.step(action, state)"
   ]
  },
  {
   "cell_type": "code",
   "execution_count": null,
   "id": "1ac49f22-8c08-4bbc-bc83-14553f3faee7",
   "metadata": {},
   "outputs": [],
   "source": [
    "plot_sequence(\n",
    "    observations=jnp.stack(observations, axis=1),\n",
    "    actions=jnp.stack(actions, axis=1),\n",
    "    tau=tau,\n",
    "    obs_labels=[r\"$\\theta$\", r\"$\\omega$\"],\n",
    "    action_labels=[r\"$u$\"],\n",
    ");"
   ]
  },
  {
   "cell_type": "markdown",
   "id": "7255b677-6eab-4fc3-b276-86f8e08f5e37",
   "metadata": {},
   "source": [
    "- look at the results of the optimization in each step :)\n",
    "# **GPU!!!!**"
   ]
  },
  {
   "cell_type": "code",
   "execution_count": null,
   "id": "d5ad8062-fb74-47e2-83ba-cdb7f753eeac",
   "metadata": {},
   "outputs": [],
   "source": [
    "p_est = update_kde_grid_multiple_observations(p_est, x, jnp.stack(observations, axis=1), n_observations=0, bandwidth=bandwidth)"
   ]
  },
  {
   "cell_type": "code",
   "execution_count": null,
   "id": "cb13eaae-2deb-426f-bc11-5dc585b3e139",
   "metadata": {},
   "outputs": [],
   "source": [
    "fig, ax = plt.subplots(\n",
    "    figsize=(6, 6)\n",
    ")\n",
    "\n",
    "grid_len_per_dim = int(np.sqrt(x.shape[0]))\n",
    "x_plot = x.reshape((grid_len_per_dim, grid_len_per_dim, 2))\n",
    "\n",
    "cax = ax.contourf(\n",
    "    x_plot[..., 0],\n",
    "    x_plot[..., 1],\n",
    "    p_est[0, ...].reshape(x_plot.shape[:-1]),\n",
    "    antialiased=False,\n",
    "    levels=30,\n",
    "    alpha=0.9,\n",
    "    cmap=plt.cm.coolwarm\n",
    ")\n",
    "ax.set_xlabel(r\"$\\theta$\")\n",
    "ax.set_ylabel(r\"$\\omega$\")\n",
    "# fig.colorbar(cax)"
   ]
  },
  {
   "cell_type": "code",
   "execution_count": null,
   "id": "67ee4fb1-f28a-4628-9b25-22ec1e2f14f0",
   "metadata": {},
   "outputs": [],
   "source": [
    "# fig.savefig(\"excited_pendulum_stepwise.png\")"
   ]
  },
  {
   "cell_type": "code",
   "execution_count": null,
   "id": "940b7780-13bf-40aa-8b95-73d172de304f",
   "metadata": {},
   "outputs": [],
   "source": []
  }
 ],
 "metadata": {
  "kernelspec": {
   "display_name": "venv-dev-base",
   "language": "python",
   "name": "venv-dev-base"
  },
  "language_info": {
   "codemirror_mode": {
    "name": "ipython",
    "version": 3
   },
   "file_extension": ".py",
   "mimetype": "text/x-python",
   "name": "python",
   "nbconvert_exporter": "python",
   "pygments_lexer": "ipython3",
   "version": "3.11.6"
  }
 },
 "nbformat": 4,
 "nbformat_minor": 5
}
